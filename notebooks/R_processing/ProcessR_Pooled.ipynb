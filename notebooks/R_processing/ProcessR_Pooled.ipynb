{
  "nbformat": 4,
  "nbformat_minor": 0,
  "metadata": {
    "colab": {
      "name": "ProcessR_Pooled.ipynb",
      "provenance": [],
      "collapsed_sections": [],
      "include_colab_link": true
    },
    "kernelspec": {
      "name": "python3",
      "display_name": "Python 3"
    }
  },
  "cells": [
    {
      "cell_type": "markdown",
      "metadata": {
        "id": "view-in-github",
        "colab_type": "text"
      },
      "source": [
        "<a href=\"https://colab.research.google.com/github/pachterlab/GRNP_2020/blob/master/notebooks/R_processing/ProcessR_Pooled.ipynb\" target=\"_parent\"><img src=\"https://colab.research.google.com/assets/colab-badge.svg\" alt=\"Open In Colab\"/></a>"
      ]
    },
    {
      "cell_type": "markdown",
      "metadata": {
        "id": "dhydD96df06z",
        "colab_type": "text"
      },
      "source": [
        "**Creates pooled data from several datasets to be used for prediction**\n",
        "\n",
        "This notebook assembles CU histograms from multiple datasets for use in pooled prediction, a method in which lowly expressed genes can get a more stable CU histogram by \"borrowing\" information from similar datasets. We create two variants here - pooled data from full datasets and pooled data from downsampled dataset (downsampled 10 times). The reason for the latter is for use with down-sampling experiments, such as figure 3. We generate pooled data from 6 PBMC 10X datasets. For the downsampled variant, we downsample each dataset 10 times and pool a total of 60 datasets, since so much information is lost in the downsampling.\n",
        "\n",
        "We also perform downsampling of a dataset to be able to compare prediction to sampling noise (fig S20)\n",
        "\n",
        "Steps:\n",
        "1. Clone the code repo and download data to process\n",
        "2. Prepare the R environment\n",
        "3. Process and save the data\n"
      ]
    },
    {
      "cell_type": "markdown",
      "metadata": {
        "id": "h8RnKVMXgbzr",
        "colab_type": "text"
      },
      "source": [
        "**1. Clone the code repo and download data to process**"
      ]
    },
    {
      "cell_type": "code",
      "metadata": {
        "id": "doUAtCxIyOiI",
        "colab_type": "code",
        "colab": {
          "base_uri": "https://localhost:8080/"
        },
        "outputId": "23472791-26e1-4509-9e13-b56fd395269f"
      },
      "source": [
        "![ -d \"GRNP_2020\" ] && rm -r GRNP_2020\n",
        "\n",
        "!git clone https://github.com/pachterlab/GRNP_2020.git\n"
      ],
      "execution_count": 1,
      "outputs": [
        {
          "output_type": "stream",
          "text": [
            "Cloning into 'GRNP_2020'...\n",
            "remote: Enumerating objects: 89, done.\u001b[K\n",
            "remote: Counting objects:   1% (1/89)\u001b[K\rremote: Counting objects:   2% (2/89)\u001b[K\rremote: Counting objects:   3% (3/89)\u001b[K\rremote: Counting objects:   4% (4/89)\u001b[K\rremote: Counting objects:   5% (5/89)\u001b[K\rremote: Counting objects:   6% (6/89)\u001b[K\rremote: Counting objects:   7% (7/89)\u001b[K\rremote: Counting objects:   8% (8/89)\u001b[K\rremote: Counting objects:  10% (9/89)\u001b[K\rremote: Counting objects:  11% (10/89)\u001b[K\rremote: Counting objects:  12% (11/89)\u001b[K\rremote: Counting objects:  13% (12/89)\u001b[K\rremote: Counting objects:  14% (13/89)\u001b[K\rremote: Counting objects:  15% (14/89)\u001b[K\rremote: Counting objects:  16% (15/89)\u001b[K\rremote: Counting objects:  17% (16/89)\u001b[K\rremote: Counting objects:  19% (17/89)\u001b[K\rremote: Counting objects:  20% (18/89)\u001b[K\rremote: Counting objects:  21% (19/89)\u001b[K\rremote: Counting objects:  22% (20/89)\u001b[K\rremote: Counting objects:  23% (21/89)\u001b[K\rremote: Counting objects:  24% (22/89)\u001b[K\rremote: Counting objects:  25% (23/89)\u001b[K\rremote: Counting objects:  26% (24/89)\u001b[K\rremote: Counting objects:  28% (25/89)\u001b[K\rremote: Counting objects:  29% (26/89)\u001b[K\rremote: Counting objects:  30% (27/89)\u001b[K\rremote: Counting objects:  31% (28/89)\u001b[K\rremote: Counting objects:  32% (29/89)\u001b[K\rremote: Counting objects:  33% (30/89)\u001b[K\rremote: Counting objects:  34% (31/89)\u001b[K\rremote: Counting objects:  35% (32/89)\u001b[K\rremote: Counting objects:  37% (33/89)\u001b[K\rremote: Counting objects:  38% (34/89)\u001b[K\rremote: Counting objects:  39% (35/89)\u001b[K\rremote: Counting objects:  40% (36/89)\u001b[K\rremote: Counting objects:  41% (37/89)\u001b[K\rremote: Counting objects:  42% (38/89)\u001b[K\rremote: Counting objects:  43% (39/89)\u001b[K\rremote: Counting objects:  44% (40/89)\u001b[K\rremote: Counting objects:  46% (41/89)\u001b[K\rremote: Counting objects:  47% (42/89)\u001b[K\rremote: Counting objects:  48% (43/89)\u001b[K\rremote: Counting objects:  49% (44/89)\u001b[K\rremote: Counting objects:  50% (45/89)\u001b[K\rremote: Counting objects:  51% (46/89)\u001b[K\rremote: Counting objects:  52% (47/89)\u001b[K\rremote: Counting objects:  53% (48/89)\u001b[K\rremote: Counting objects:  55% (49/89)\u001b[K\rremote: Counting objects:  56% (50/89)\u001b[K\rremote: Counting objects:  57% (51/89)\u001b[K\rremote: Counting objects:  58% (52/89)\u001b[K\rremote: Counting objects:  59% (53/89)\u001b[K\rremote: Counting objects:  60% (54/89)\u001b[K\rremote: Counting objects:  61% (55/89)\u001b[K\rremote: Counting objects:  62% (56/89)\u001b[K\rremote: Counting objects:  64% (57/89)\u001b[K\rremote: Counting objects:  65% (58/89)\u001b[K\rremote: Counting objects:  66% (59/89)\u001b[K\rremote: Counting objects:  67% (60/89)\u001b[K\rremote: Counting objects:  68% (61/89)\u001b[K\rremote: Counting objects:  69% (62/89)\u001b[K\rremote: Counting objects:  70% (63/89)\u001b[K\rremote: Counting objects:  71% (64/89)\u001b[K\rremote: Counting objects:  73% (65/89)\u001b[K\rremote: Counting objects:  74% (66/89)\u001b[K\rremote: Counting objects:  75% (67/89)\u001b[K\rremote: Counting objects:  76% (68/89)\u001b[K\rremote: Counting objects:  77% (69/89)\u001b[K\rremote: Counting objects:  78% (70/89)\u001b[K\rremote: Counting objects:  79% (71/89)\u001b[K\rremote: Counting objects:  80% (72/89)\u001b[K\rremote: Counting objects:  82% (73/89)\u001b[K\rremote: Counting objects:  83% (74/89)\u001b[K\rremote: Counting objects:  84% (75/89)\u001b[K\rremote: Counting objects:  85% (76/89)\u001b[K\rremote: Counting objects:  86% (77/89)\u001b[K\rremote: Counting objects:  87% (78/89)\u001b[K\rremote: Counting objects:  88% (79/89)\u001b[K\rremote: Counting objects:  89% (80/89)\u001b[K\rremote: Counting objects:  91% (81/89)\u001b[K\rremote: Counting objects:  92% (82/89)\u001b[K\rremote: Counting objects:  93% (83/89)\u001b[K\rremote: Counting objects:  94% (84/89)\u001b[K\rremote: Counting objects:  95% (85/89)\u001b[K\rremote: Counting objects:  96% (86/89)\u001b[K\rremote: Counting objects:  97% (87/89)\u001b[K\rremote: Counting objects:  98% (88/89)\u001b[K\rremote: Counting objects: 100% (89/89)\u001b[K\rremote: Counting objects: 100% (89/89), done.\u001b[K\n",
            "remote: Compressing objects:   1% (1/69)\u001b[K\rremote: Compressing objects:   2% (2/69)\u001b[K\rremote: Compressing objects:   4% (3/69)\u001b[K\rremote: Compressing objects:   5% (4/69)\u001b[K\rremote: Compressing objects:   7% (5/69)\u001b[K\rremote: Compressing objects:   8% (6/69)\u001b[K\rremote: Compressing objects:  10% (7/69)\u001b[K\rremote: Compressing objects:  11% (8/69)\u001b[K\rremote: Compressing objects:  13% (9/69)\u001b[K\rremote: Compressing objects:  14% (10/69)\u001b[K\rremote: Compressing objects:  15% (11/69)\u001b[K\rremote: Compressing objects:  17% (12/69)\u001b[K\rremote: Compressing objects:  18% (13/69)\u001b[K\rremote: Compressing objects:  20% (14/69)\u001b[K\rremote: Compressing objects:  21% (15/69)\u001b[K\rremote: Compressing objects:  23% (16/69)\u001b[K\rremote: Compressing objects:  24% (17/69)\u001b[K\rremote: Compressing objects:  26% (18/69)\u001b[K\rremote: Compressing objects:  27% (19/69)\u001b[K\rremote: Compressing objects:  28% (20/69)\u001b[K\rremote: Compressing objects:  30% (21/69)\u001b[K\rremote: Compressing objects:  31% (22/69)\u001b[K\rremote: Compressing objects:  33% (23/69)\u001b[K\rremote: Compressing objects:  34% (24/69)\u001b[K\rremote: Compressing objects:  36% (25/69)\u001b[K\rremote: Compressing objects:  37% (26/69)\u001b[K\rremote: Compressing objects:  39% (27/69)\u001b[K\rremote: Compressing objects:  40% (28/69)\u001b[K\rremote: Compressing objects:  42% (29/69)\u001b[K\rremote: Compressing objects:  43% (30/69)\u001b[K\rremote: Compressing objects:  44% (31/69)\u001b[K\rremote: Compressing objects:  46% (32/69)\u001b[K\rremote: Compressing objects:  47% (33/69)\u001b[K\rremote: Compressing objects:  49% (34/69)\u001b[K\rremote: Compressing objects:  50% (35/69)\u001b[K\rremote: Compressing objects:  52% (36/69)\u001b[K\rremote: Compressing objects:  53% (37/69)\u001b[K\rremote: Compressing objects:  55% (38/69)\u001b[K\rremote: Compressing objects:  56% (39/69)\u001b[K\rremote: Compressing objects:  57% (40/69)\u001b[K\rremote: Compressing objects:  59% (41/69)\u001b[K\rremote: Compressing objects:  60% (42/69)\u001b[K\rremote: Compressing objects:  62% (43/69)\u001b[K\rremote: Compressing objects:  63% (44/69)\u001b[K\rremote: Compressing objects:  65% (45/69)\u001b[K\rremote: Compressing objects:  66% (46/69)\u001b[K\rremote: Compressing objects:  68% (47/69)\u001b[K\rremote: Compressing objects:  69% (48/69)\u001b[K\rremote: Compressing objects:  71% (49/69)\u001b[K\rremote: Compressing objects:  72% (50/69)\u001b[K\rremote: Compressing objects:  73% (51/69)\u001b[K\rremote: Compressing objects:  75% (52/69)\u001b[K\rremote: Compressing objects:  76% (53/69)\u001b[K\rremote: Compressing objects:  78% (54/69)\u001b[K\rremote: Compressing objects:  79% (55/69)\u001b[K\rremote: Compressing objects:  81% (56/69)\u001b[K\rremote: Compressing objects:  82% (57/69)\u001b[K\rremote: Compressing objects:  84% (58/69)\u001b[K\rremote: Compressing objects:  85% (59/69)\u001b[K\rremote: Compressing objects:  86% (60/69)\u001b[K\rremote: Compressing objects:  88% (61/69)\u001b[K\rremote: Compressing objects:  89% (62/69)\u001b[K\rremote: Compressing objects:  91% (63/69)\u001b[K\rremote: Compressing objects:  92% (64/69)\u001b[K\rremote: Compressing objects:  94% (65/69)\u001b[K\rremote: Compressing objects:  95% (66/69)\u001b[K\rremote: Compressing objects:  97% (67/69)\u001b[K\rremote: Compressing objects:  98% (68/69)\u001b[K\rremote: Compressing objects: 100% (69/69)\u001b[K\rremote: Compressing objects: 100% (69/69), done.\u001b[K\n",
            "Receiving objects:   0% (1/972)   \rReceiving objects:   1% (10/972)   \rReceiving objects:   2% (20/972)   \rReceiving objects:   3% (30/972)   \rReceiving objects:   4% (39/972)   \rReceiving objects:   5% (49/972)   \rReceiving objects:   6% (59/972)   \rReceiving objects:   7% (69/972)   \rReceiving objects:   8% (78/972)   \rReceiving objects:   9% (88/972)   \rReceiving objects:  10% (98/972)   \rReceiving objects:  11% (107/972)   \rReceiving objects:  12% (117/972)   \rReceiving objects:  13% (127/972)   \rReceiving objects:  14% (137/972)   \rReceiving objects:  15% (146/972)   \rReceiving objects:  16% (156/972)   \rReceiving objects:  17% (166/972)   \rReceiving objects:  18% (175/972)   \rReceiving objects:  19% (185/972)   \rReceiving objects:  20% (195/972)   \rReceiving objects:  21% (205/972)   \rReceiving objects:  22% (214/972)   \rReceiving objects:  23% (224/972)   \rReceiving objects:  24% (234/972), 228.01 KiB | 437.00 KiB/s   \rReceiving objects:  25% (243/972), 228.01 KiB | 437.00 KiB/s   \rReceiving objects:  26% (253/972), 228.01 KiB | 437.00 KiB/s   \rReceiving objects:  27% (263/972), 228.01 KiB | 437.00 KiB/s   \rReceiving objects:  28% (273/972), 228.01 KiB | 437.00 KiB/s   \rReceiving objects:  29% (282/972), 228.01 KiB | 437.00 KiB/s   \rReceiving objects:  30% (292/972), 228.01 KiB | 437.00 KiB/s   \rReceiving objects:  31% (302/972), 228.01 KiB | 437.00 KiB/s   \rReceiving objects:  31% (310/972), 2.10 MiB | 2.02 MiB/s   \rReceiving objects:  32% (312/972), 2.10 MiB | 2.02 MiB/s   \rReceiving objects:  33% (321/972), 2.10 MiB | 2.02 MiB/s   \rReceiving objects:  34% (331/972), 2.10 MiB | 2.02 MiB/s   \rReceiving objects:  35% (341/972), 2.10 MiB | 2.02 MiB/s   \rReceiving objects:  36% (350/972), 2.10 MiB | 2.02 MiB/s   \rReceiving objects:  37% (360/972), 2.10 MiB | 2.02 MiB/s   \rReceiving objects:  38% (370/972), 2.10 MiB | 2.02 MiB/s   \rReceiving objects:  39% (380/972), 2.10 MiB | 2.02 MiB/s   \rReceiving objects:  40% (389/972), 2.10 MiB | 2.02 MiB/s   \rReceiving objects:  41% (399/972), 2.10 MiB | 2.02 MiB/s   \rReceiving objects:  42% (409/972), 2.10 MiB | 2.02 MiB/s   \rReceiving objects:  43% (418/972), 2.10 MiB | 2.02 MiB/s   \rReceiving objects:  44% (428/972), 2.10 MiB | 2.02 MiB/s   \rReceiving objects:  45% (438/972), 2.10 MiB | 2.02 MiB/s   \rReceiving objects:  46% (448/972), 2.10 MiB | 2.02 MiB/s   \rReceiving objects:  47% (457/972), 2.10 MiB | 2.02 MiB/s   \rReceiving objects:  48% (467/972), 2.10 MiB | 2.02 MiB/s   \rReceiving objects:  49% (477/972), 2.10 MiB | 2.02 MiB/s   \rReceiving objects:  50% (486/972), 2.10 MiB | 2.02 MiB/s   \rReceiving objects:  51% (496/972), 2.10 MiB | 2.02 MiB/s   \rReceiving objects:  52% (506/972), 2.10 MiB | 2.02 MiB/s   \rReceiving objects:  53% (516/972), 2.10 MiB | 2.02 MiB/s   \rReceiving objects:  54% (525/972), 2.10 MiB | 2.02 MiB/s   \rReceiving objects:  55% (535/972), 2.10 MiB | 2.02 MiB/s   \rReceiving objects:  56% (545/972), 2.10 MiB | 2.02 MiB/s   \rReceiving objects:  57% (555/972), 2.10 MiB | 2.02 MiB/s   \rReceiving objects:  58% (564/972), 2.10 MiB | 2.02 MiB/s   \rReceiving objects:  59% (574/972), 2.10 MiB | 2.02 MiB/s   \rremote: Total 972 (delta 54), reused 40 (delta 20), pack-reused 883\u001b[K\n",
            "Receiving objects:  60% (584/972), 2.10 MiB | 2.02 MiB/s   \rReceiving objects:  61% (593/972), 2.10 MiB | 2.02 MiB/s   \rReceiving objects:  62% (603/972), 2.10 MiB | 2.02 MiB/s   \rReceiving objects:  63% (613/972), 2.10 MiB | 2.02 MiB/s   \rReceiving objects:  64% (623/972), 2.10 MiB | 2.02 MiB/s   \rReceiving objects:  65% (632/972), 2.10 MiB | 2.02 MiB/s   \rReceiving objects:  66% (642/972), 2.10 MiB | 2.02 MiB/s   \rReceiving objects:  67% (652/972), 2.10 MiB | 2.02 MiB/s   \rReceiving objects:  68% (661/972), 2.10 MiB | 2.02 MiB/s   \rReceiving objects:  69% (671/972), 2.10 MiB | 2.02 MiB/s   \rReceiving objects:  70% (681/972), 2.10 MiB | 2.02 MiB/s   \rReceiving objects:  71% (691/972), 2.10 MiB | 2.02 MiB/s   \rReceiving objects:  72% (700/972), 2.10 MiB | 2.02 MiB/s   \rReceiving objects:  73% (710/972), 2.10 MiB | 2.02 MiB/s   \rReceiving objects:  74% (720/972), 2.10 MiB | 2.02 MiB/s   \rReceiving objects:  75% (729/972), 2.10 MiB | 2.02 MiB/s   \rReceiving objects:  76% (739/972), 2.10 MiB | 2.02 MiB/s   \rReceiving objects:  77% (749/972), 2.10 MiB | 2.02 MiB/s   \rReceiving objects:  78% (759/972), 2.10 MiB | 2.02 MiB/s   \rReceiving objects:  79% (768/972), 2.10 MiB | 2.02 MiB/s   \rReceiving objects:  80% (778/972), 2.10 MiB | 2.02 MiB/s   \rReceiving objects:  81% (788/972), 2.10 MiB | 2.02 MiB/s   \rReceiving objects:  82% (798/972), 2.10 MiB | 2.02 MiB/s   \rReceiving objects:  83% (807/972), 2.10 MiB | 2.02 MiB/s   \rReceiving objects:  84% (817/972), 2.10 MiB | 2.02 MiB/s   \rReceiving objects:  85% (827/972), 2.10 MiB | 2.02 MiB/s   \rReceiving objects:  86% (836/972), 2.10 MiB | 2.02 MiB/s   \rReceiving objects:  87% (846/972), 2.10 MiB | 2.02 MiB/s   \rReceiving objects:  88% (856/972), 2.10 MiB | 2.02 MiB/s   \rReceiving objects:  89% (866/972), 2.10 MiB | 2.02 MiB/s   \rReceiving objects:  90% (875/972), 2.10 MiB | 2.02 MiB/s   \rReceiving objects:  91% (885/972), 2.10 MiB | 2.02 MiB/s   \rReceiving objects:  92% (895/972), 2.10 MiB | 2.02 MiB/s   \rReceiving objects:  93% (904/972), 2.10 MiB | 2.02 MiB/s   \rReceiving objects:  94% (914/972), 2.10 MiB | 2.02 MiB/s   \rReceiving objects:  95% (924/972), 2.10 MiB | 2.02 MiB/s   \rReceiving objects:  96% (934/972), 2.10 MiB | 2.02 MiB/s   \rReceiving objects:  97% (943/972), 2.10 MiB | 2.02 MiB/s   \rReceiving objects:  98% (953/972), 2.10 MiB | 2.02 MiB/s   \rReceiving objects:  99% (963/972), 2.10 MiB | 2.02 MiB/s   \rReceiving objects: 100% (972/972), 2.10 MiB | 2.02 MiB/s   \rReceiving objects: 100% (972/972), 7.38 MiB | 5.17 MiB/s, done.\n",
            "Resolving deltas:   0% (0/608)   \rResolving deltas:   2% (18/608)   \rResolving deltas:   4% (27/608)   \rResolving deltas:   5% (32/608)   \rResolving deltas:   6% (37/608)   \rResolving deltas:   7% (45/608)   \rResolving deltas:   8% (49/608)   \rResolving deltas:  10% (61/608)   \rResolving deltas:  11% (67/608)   \rResolving deltas:  12% (75/608)   \rResolving deltas:  30% (184/608)   \rResolving deltas:  32% (195/608)   \rResolving deltas:  35% (213/608)   \rResolving deltas:  37% (227/608)   \rResolving deltas:  39% (240/608)   \rResolving deltas:  41% (251/608)   \rResolving deltas:  42% (259/608)   \rResolving deltas:  51% (316/608)   \rResolving deltas:  52% (317/608)   \rResolving deltas:  54% (332/608)   \rResolving deltas:  71% (437/608)   \rResolving deltas:  72% (441/608)   \rResolving deltas:  73% (444/608)   \rResolving deltas:  74% (450/608)   \rResolving deltas:  75% (456/608)   \rResolving deltas:  76% (464/608)   \rResolving deltas:  78% (480/608)   \rResolving deltas:  79% (481/608)   \rResolving deltas:  80% (488/608)   \rResolving deltas:  81% (495/608)   \rResolving deltas:  82% (501/608)   \rResolving deltas:  84% (511/608)   \rResolving deltas:  85% (517/608)   \rResolving deltas:  87% (529/608)   \rResolving deltas:  88% (538/608)   \rResolving deltas: 100% (608/608)   \rResolving deltas: 100% (608/608), done.\n"
          ],
          "name": "stdout"
        }
      ]
    },
    {
      "cell_type": "code",
      "metadata": {
        "id": "dUNSQ1qBZb2g",
        "colab_type": "code",
        "colab": {
          "base_uri": "https://localhost:8080/"
        },
        "outputId": "0367006e-0837-4e9d-83a9-c0f4de689d9b"
      },
      "source": [
        "#download BUG data from Zenodo\n",
        "![ -d \"figureData\" ] && rm -r figureData\n",
        "!mkdir figureData\n",
        "!cd figureData && wget https://zenodo.org/record/3909758/files/PBMC_V3_2.zip?download=1 && unzip 'PBMC_V3_2.zip?download=1' && rm 'PBMC_V3_2.zip?download=1'\n",
        "!cd figureData && wget https://zenodo.org/record/3909758/files/PBMC_V3.zip?download=1 && unzip 'PBMC_V3.zip?download=1' && rm 'PBMC_V3.zip?download=1'\n",
        "!cd figureData && wget https://zenodo.org/record/3909758/files/PBMC_NG.zip?download=1 && unzip 'PBMC_NG.zip?download=1' && rm 'PBMC_NG.zip?download=1'\n",
        "!cd figureData && wget https://zenodo.org/record/3909758/files/PBMC_NG_2.zip?download=1 && unzip 'PBMC_NG_2.zip?download=1' && rm 'PBMC_NG_2.zip?download=1'\n",
        "!cd figureData && wget https://zenodo.org/record/3909758/files/PBMC_V2.zip?download=1 && unzip 'PBMC_V2.zip?download=1' && rm 'PBMC_V2.zip?download=1'\n",
        "!cd figureData && wget https://zenodo.org/record/3909758/files/EVALPBMC.zip?download=1 && unzip 'EVALPBMC.zip?download=1' && rm 'EVALPBMC.zip?download=1'\n"
      ],
      "execution_count": null,
      "outputs": [
        {
          "output_type": "stream",
          "text": [
            "--2020-07-02 17:45:38--  https://zenodo.org/record/3909758/files/PBMC_V3_2.zip?download=1\n",
            "Resolving zenodo.org (zenodo.org)... 188.184.117.155\n",
            "Connecting to zenodo.org (zenodo.org)|188.184.117.155|:443... connected.\n",
            "HTTP request sent, awaiting response... 200 OK\n",
            "Length: 1558568885 (1.5G) [application/octet-stream]\n",
            "Saving to: ‘PBMC_V3_2.zip?download=1’\n",
            "\n",
            "PBMC_V3_2.zip?downl  55%[==========>         ] 830.90M  6.43MB/s    eta 99s    "
          ],
          "name": "stdout"
        }
      ]
    },
    {
      "cell_type": "code",
      "metadata": {
        "id": "oesgTqLO0Qje",
        "colab_type": "code",
        "colab": {}
      },
      "source": [
        "#Check that download worked\n",
        "!cd figureData && ls -l && cd PBMC_V3_2 && ls -l"
      ],
      "execution_count": null,
      "outputs": []
    },
    {
      "cell_type": "markdown",
      "metadata": {
        "id": "sCmhNVdYgkWH",
        "colab_type": "text"
      },
      "source": [
        "**2. Prepare the R environment**"
      ]
    },
    {
      "cell_type": "code",
      "metadata": {
        "id": "5Gt6rQkSXriM",
        "colab_type": "code",
        "colab": {}
      },
      "source": [
        "#switch to R mode\n",
        "%reload_ext rpy2.ipython\n"
      ],
      "execution_count": null,
      "outputs": []
    },
    {
      "cell_type": "code",
      "metadata": {
        "id": "jJ3rQJCdgeJa",
        "colab_type": "code",
        "colab": {}
      },
      "source": [
        "#install the R packages\n",
        "%%R\n",
        "install.packages(\"qdapTools\")\n",
        "install.packages(\"dplyr\")\n",
        "install.packages(\"stringdist\")\n"
      ],
      "execution_count": null,
      "outputs": []
    },
    {
      "cell_type": "markdown",
      "metadata": {
        "id": "x56fjfCSicrp",
        "colab_type": "text"
      },
      "source": [
        "**3. Process and save the data**\n",
        "\n",
        "Here we generate the pooled CU histograms, both from full datasets and downsampled ones. In addition, we calculate the average expression when downsampling 20 times, which will to a large extent remove the sampling noise. We then estimate the sampling noise as the difference between this mean and data that is downsampled only once."
      ]
    },
    {
      "cell_type": "code",
      "metadata": {
        "id": "V37XLBAO68oR",
        "colab_type": "code",
        "colab": {}
      },
      "source": [
        "#First set some path variables\n",
        "%%R\n",
        "source(\"GRNP_2020/RCode/pathsGoogleColab.R\")\n"
      ],
      "execution_count": null,
      "outputs": []
    },
    {
      "cell_type": "code",
      "metadata": {
        "id": "R6kuhOmzZL_X",
        "colab_type": "code",
        "colab": {}
      },
      "source": [
        "#Process and filter the BUG file\n",
        "%%R\n",
        "source(paste0(sourcePath, \"ButterflyHelpers.R\"))\n",
        "\n",
        "#generate pooled histograms (for fig 3C)\n",
        "\n",
        "loadBug(\"PBMC_V3\")\n",
        "generatePooledHistogramDS(\"PBMC_V3\")\n",
        "generatePooledHistogram(\"PBMC_V3\") #these are not really used, but we generate them anyway, it is little extra effort\n",
        "rmBug(\"PBMC_V3\")\n",
        "\n",
        "loadBug(\"PBMC_V3_2\")\n",
        "generatePooledHistogramDS(\"PBMC_V3_2\")\n",
        "generatePooledHistogram(\"PBMC_V3_2\")\n",
        "rmBug(\"PBMC_V3_2\")\n",
        "\n",
        "loadBug(\"PBMC_V3_3\")\n",
        "generatePooledHistogramDS(\"PBMC_V3_3\")\n",
        "generatePooledHistogram(\"PBMC_V3_3\")\n",
        "#also downsample 20 times of PBMC_V3_3 - to enable comparison with sampling noise for fig S20\n",
        "PBMC_V3_3_ds10_20Times = downSampleBUGNTimes(getBug(\"PBMC_V3_3\", 1), 0.1, 20)\n",
        "save(PBMC_V3_3_ds10_20Times, file=paste0(figure_data_path, \"PBMC_V3_3_ds10_20Times.RData\"))\n",
        "rmBug(\"PBMC_V3_3\")\n",
        "\n",
        "loadBug(\"PBMC_NG\")\n",
        "generatePooledHistogramDS(\"PBMC_NG\")\n",
        "generatePooledHistogram(\"PBMC_NG\")\n",
        "rmBug(\"PBMC_NG\")\n",
        "\n",
        "loadBug(\"PBMC_NG_2\")\n",
        "generatePooledHistogramDS(\"PBMC_NG_2\")\n",
        "generatePooledHistogram(\"PBMC_NG_2\")\n",
        "rmBug(\"PBMC_NG_2\")\n",
        "\n",
        "loadBug(\"PBMC_V2\")\n",
        "generatePooledHistogramDS(\"PBMC_V2\")\n",
        "generatePooledHistogram(\"PBMC_V2\")\n",
        "rmBug(\"PBMC_V2\")\n",
        "\n",
        "loadBug(\"EVALPBMC\")\n",
        "generatePooledHistogramDS(\"EVALPBMC\")\n",
        "generatePooledHistogram(\"EVALPBMC\")\n",
        "rmBug(\"EVALPBMC\")\n",
        "\n",
        "loadBug(\"PBMC_V3_3\", 1)\n",
        "rmBug(\"PBMC_V3_3\")\n",
        "\n"
      ],
      "execution_count": null,
      "outputs": []
    },
    {
      "cell_type": "code",
      "metadata": {
        "id": "Cb5DifYYcB6g",
        "colab_type": "code",
        "colab": {}
      },
      "source": [
        "!cd figureData && ls -l "
      ],
      "execution_count": null,
      "outputs": []
    }
  ]
}