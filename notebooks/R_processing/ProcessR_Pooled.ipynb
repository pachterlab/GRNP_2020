{
  "nbformat": 4,
  "nbformat_minor": 0,
  "metadata": {
    "colab": {
      "name": "ProcessR_Pooled.ipynb",
      "provenance": [],
      "collapsed_sections": [],
      "include_colab_link": true
    },
    "kernelspec": {
      "name": "python3",
      "display_name": "Python 3"
    }
  },
  "cells": [
    {
      "cell_type": "markdown",
      "metadata": {
        "id": "view-in-github",
        "colab_type": "text"
      },
      "source": [
        "<a href=\"https://colab.research.google.com/github/pachterlab/GRNP_2020/blob/master/notebooks/R_processing/ProcessR_Pooled.ipynb\" target=\"_parent\"><img src=\"https://colab.research.google.com/assets/colab-badge.svg\" alt=\"Open In Colab\"/></a>"
      ]
    },
    {
      "cell_type": "markdown",
      "metadata": {
        "id": "dhydD96df06z",
        "colab_type": "text"
      },
      "source": [
        "**Creates pooled data from several datasets to be used for prediction**\n",
        "\n",
        "This notebook assembles CU histograms from multiple datasets for use in pooled prediction, a method in which lowly expressed genes can get a more stable CU histogram by \"borrowing\" information from similar datasets. We create two variants here - pooled data from full datasets and pooled data from downsampled dataset (downsampled 10 times). The reason for the latter is for use with down-sampling experiments, such as figure 3. We generate pooled data from 6 PBMC 10X datasets. For the downsampled variant, we downsample each dataset 10 times and pool a total of 60 datasets, since so much information is lost in the downsampling.\n",
        "\n",
        "We also perform downsampling of a dataset to be able to compare prediction to sampling noise (fig S20)\n",
        "\n",
        "Steps:\n",
        "1. Clone the code repo and download data to process\n",
        "2. Prepare the R environment\n",
        "3. Process and save the data\n"
      ]
    },
    {
      "cell_type": "markdown",
      "metadata": {
        "id": "h8RnKVMXgbzr",
        "colab_type": "text"
      },
      "source": [
        "**1. Clone the code repo and download data to process**"
      ]
    },
    {
      "cell_type": "code",
      "metadata": {
        "id": "doUAtCxIyOiI",
        "colab_type": "code",
        "colab": {}
      },
      "source": [
        "![ -d \"GRNP_2020\" ] && rm -r GRNP_2020\n",
        "\n",
        "!git clone https://github.com/pachterlab/GRNP_2020.git\n"
      ],
      "execution_count": null,
      "outputs": []
    },
    {
      "cell_type": "code",
      "metadata": {
        "id": "dUNSQ1qBZb2g",
        "colab_type": "code",
        "colab": {}
      },
      "source": [
        "#download BUG data from Zenodo\n",
        "![ -d \"figureData\" ] && rm -r figureData\n",
        "!mkdir figureData\n",
        "!cd figureData && wget https://zenodo.org/record/3909758/files/PBMC_V3_2.zip?download=1 && unzip 'PBMC_V3_2.zip?download=1' && rm 'PBMC_V3_2.zip?download=1'\n",
        "!cd figureData && wget https://zenodo.org/record/3909758/files/PBMC_V3.zip?download=1 && unzip 'PBMC_V3.zip?download=1' && rm 'PBMC_V3.zip?download=1'\n",
        "!cd figureData && wget https://zenodo.org/record/3909758/files/PBMC_NG.zip?download=1 && unzip 'PBMC_NG.zip?download=1' && rm 'PBMC_NG.zip?download=1'\n",
        "!cd figureData && wget https://zenodo.org/record/3909758/files/PBMC_NG_2.zip?download=1 && unzip 'PBMC_NG_2.zip?download=1' && rm 'PBMC_NG_2.zip?download=1'\n",
        "!cd figureData && wget https://zenodo.org/record/3909758/files/PBMC_V2.zip?download=1 && unzip 'PBMC_V2.zip?download=1' && rm 'PBMC_V2.zip?download=1'\n",
        "!cd figureData && wget https://zenodo.org/record/3909758/files/EVALPBMC.zip?download=1 && unzip 'EVALPBMC.zip?download=1' && rm 'EVALPBMC.zip?download=1'\n"
      ],
      "execution_count": null,
      "outputs": []
    },
    {
      "cell_type": "code",
      "metadata": {
        "id": "oesgTqLO0Qje",
        "colab_type": "code",
        "colab": {}
      },
      "source": [
        "#Check that download worked\n",
        "!cd figureData && ls -l && cd PBMC_V3_2 && ls -l"
      ],
      "execution_count": null,
      "outputs": []
    },
    {
      "cell_type": "markdown",
      "metadata": {
        "id": "sCmhNVdYgkWH",
        "colab_type": "text"
      },
      "source": [
        "**2. Prepare the R environment**"
      ]
    },
    {
      "cell_type": "code",
      "metadata": {
        "id": "5Gt6rQkSXriM",
        "colab_type": "code",
        "colab": {}
      },
      "source": [
        "#switch to R mode\n",
        "%reload_ext rpy2.ipython\n"
      ],
      "execution_count": null,
      "outputs": []
    },
    {
      "cell_type": "code",
      "metadata": {
        "id": "jJ3rQJCdgeJa",
        "colab_type": "code",
        "colab": {}
      },
      "source": [
        "#install the R packages\n",
        "%%R\n",
        "install.packages(\"qdapTools\")\n",
        "install.packages(\"dplyr\")\n",
        "install.packages(\"stringdist\")\n"
      ],
      "execution_count": null,
      "outputs": []
    },
    {
      "cell_type": "markdown",
      "metadata": {
        "id": "x56fjfCSicrp",
        "colab_type": "text"
      },
      "source": [
        "**3. Process and save the data**\n",
        "\n",
        "Here we generate the pooled CU histograms, both from full datasets and downsampled ones. In addition, we calculate the average expression when downsampling 20 times, which will to a large extent remove the sampling noise. We then estimate the sampling noise as the difference between this mean and data that is downsampled only once."
      ]
    },
    {
      "cell_type": "code",
      "metadata": {
        "id": "V37XLBAO68oR",
        "colab_type": "code",
        "colab": {}
      },
      "source": [
        "#First set some path variables\n",
        "%%R\n",
        "source(\"GRNP_2020/RCode/pathsGoogleColab.R\")\n"
      ],
      "execution_count": null,
      "outputs": []
    },
    {
      "cell_type": "code",
      "metadata": {
        "id": "R6kuhOmzZL_X",
        "colab_type": "code",
        "colab": {}
      },
      "source": [
        "#Process and filter the BUG file\n",
        "%%R\n",
        "source(paste0(sourcePath, \"ButterflyHelpers.R\"))\n",
        "\n",
        "#generate pooled histograms (for fig 3C)\n",
        "\n",
        "loadBug(\"PBMC_V3\")\n",
        "generatePooledHistogramDS(\"PBMC_V3\")\n",
        "generatePooledHistogram(\"PBMC_V3\") #these are not really used, but we generate them anyway, it is little extra effort\n",
        "rmBug(\"PBMC_V3\")\n",
        "\n",
        "loadBug(\"PBMC_V3_2\")\n",
        "generatePooledHistogramDS(\"PBMC_V3_2\")\n",
        "generatePooledHistogram(\"PBMC_V3_2\")\n",
        "rmBug(\"PBMC_V3_2\")\n",
        "\n",
        "loadBug(\"PBMC_V3_3\")\n",
        "generatePooledHistogramDS(\"PBMC_V3_3\")\n",
        "generatePooledHistogram(\"PBMC_V3_3\")\n",
        "#also downsample 20 times of PBMC_V3_3 - to enable comparison with sampling noise for fig S20\n",
        "PBMC_V3_3_ds10_20Times = downSampleBUGNTimes(getBug(\"PBMC_V3_3\", 1), 0.1, 20)\n",
        "save(PBMC_V3_3_ds10_20Times, file=paste0(figure_data_path, \"PBMC_V3_3_ds10_20Times.RData\"))\n",
        "rmBug(\"PBMC_V3_3\")\n",
        "\n",
        "loadBug(\"PBMC_NG\")\n",
        "generatePooledHistogramDS(\"PBMC_NG\")\n",
        "generatePooledHistogram(\"PBMC_NG\")\n",
        "rmBug(\"PBMC_NG\")\n",
        "\n",
        "loadBug(\"PBMC_NG_2\")\n",
        "generatePooledHistogramDS(\"PBMC_NG_2\")\n",
        "generatePooledHistogram(\"PBMC_NG_2\")\n",
        "rmBug(\"PBMC_NG_2\")\n",
        "\n",
        "loadBug(\"PBMC_V2\")\n",
        "generatePooledHistogramDS(\"PBMC_V2\")\n",
        "generatePooledHistogram(\"PBMC_V2\")\n",
        "rmBug(\"PBMC_V2\")\n",
        "\n",
        "loadBug(\"EVALPBMC\")\n",
        "generatePooledHistogramDS(\"EVALPBMC\")\n",
        "generatePooledHistogram(\"EVALPBMC\")\n",
        "rmBug(\"EVALPBMC\")\n",
        "\n",
        "loadBug(\"PBMC_V3_3\", 1)\n",
        "rmBug(\"PBMC_V3_3\")\n",
        "\n"
      ],
      "execution_count": null,
      "outputs": []
    },
    {
      "cell_type": "code",
      "metadata": {
        "id": "Cb5DifYYcB6g",
        "colab_type": "code",
        "colab": {}
      },
      "source": [
        "!cd figureData && ls -l "
      ],
      "execution_count": null,
      "outputs": []
    }
  ]
}