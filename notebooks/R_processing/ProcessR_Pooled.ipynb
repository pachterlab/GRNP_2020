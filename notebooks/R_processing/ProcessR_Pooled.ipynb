{
  "nbformat": 4,
  "nbformat_minor": 0,
  "metadata": {
    "colab": {
      "name": "ProcessR_Pooled.ipynb",
      "provenance": [],
      "collapsed_sections": [],
      "include_colab_link": true
    },
    "kernelspec": {
      "name": "python3",
      "display_name": "Python 3"
    }
  },
  "cells": [
    {
      "cell_type": "markdown",
      "metadata": {
        "id": "view-in-github",
        "colab_type": "text"
      },
      "source": [
        "<a href=\"https://colab.research.google.com/github/pachterlab/GRNP_2020/blob/master/notebooks/R_processing/ProcessR_Pooled.ipynb\" target=\"_parent\"><img src=\"https://colab.research.google.com/assets/colab-badge.svg\" alt=\"Open In Colab\"/></a>"
      ]
    },
    {
      "cell_type": "markdown",
      "metadata": {
        "id": "dhydD96df06z"
      },
      "source": [
        "**Creates pooled data from several datasets to be used for prediction**\n",
        "\n",
        "This notebook assembles CU histograms from multiple datasets for use in pooled prediction, a method in which lowly expressed genes can get a more stable CU histogram by \"borrowing\" information from similar datasets. We create two variants here - pooled data from full datasets and pooled data from downsampled dataset (downsampled 10 times). The reason for the latter is for use with down-sampling experiments, such as figure 4C. We generate pooled data from 6 PBMC 10X datasets. For the downsampled variant, we downsample each dataset 10 times and pool a total of 60 datasets, since so much information is lost in the downsampling.\n",
        "\n",
        "Steps:\n",
        "1. Clone the code repo and download data to process\n",
        "2. Prepare the R environment\n",
        "3. Process and save the data\n",
        "\n",
        "The data used in this processing step is produced by the following notebooks:\n",
        "\n",
        "Processing of FASTQ files with kallisto and bustools:\n",
        "\n",
        "https://github.com/pachterlab/GRNP_2020/blob/master/notebooks/FASTQ_processing/ProcessEVALPBMC.ipynb\n",
        "https://github.com/pachterlab/GRNP_2020/blob/master/notebooks/FASTQ_processing/ProcessPBMC_NG.ipynb\n",
        "https://github.com/pachterlab/GRNP_2020/blob/master/notebooks/FASTQ_processing/ProcessPBMC_NG_2.ipynb\n",
        "https://github.com/pachterlab/GRNP_2020/blob/master/notebooks/FASTQ_processing/ProcessPBMC_V2.ipynb\n",
        "https://github.com/pachterlab/GRNP_2020/blob/master/notebooks/FASTQ_processing/ProcessPBMC_V3.ipynb\n",
        "https://github.com/pachterlab/GRNP_2020/blob/master/notebooks/FASTQ_processing/ProcessPBMC_V3_2.ipynb\n",
        "https://github.com/pachterlab/GRNP_2020/blob/master/notebooks/FASTQ_processing/ProcessPBMC_V3_3.ipynb\n",
        "\n",
        "Preprocessing of BUG files:\n",
        "\n",
        "https://github.com/pachterlab/GRNP_2020/blob/master/notebooks/R_processing/ProcessR_EVALPBMC.ipynb\n",
        "https://github.com/pachterlab/GRNP_2020/blob/master/notebooks/R_processing/ProcessR_PBMC_NG.ipynb\n",
        "https://github.com/pachterlab/GRNP_2020/blob/master/notebooks/R_processing/ProcessR_PBMC_NG_2.ipynb\n",
        "https://github.com/pachterlab/GRNP_2020/blob/master/notebooks/R_processing/ProcessR_PBMC_V2.ipynb\n",
        "https://github.com/pachterlab/GRNP_2020/blob/master/notebooks/R_processing/ProcessR_PBMC_V3.ipynb\n",
        "https://github.com/pachterlab/GRNP_2020/blob/master/notebooks/R_processing/ProcessR_PBMC_V3_2.ipynb\n",
        "https://github.com/pachterlab/GRNP_2020/blob/master/notebooks/R_processing/ProcessR_PBMC_V3_3.ipynb\n",
        "\n",
        "\n"
      ]
    },
    {
      "cell_type": "markdown",
      "metadata": {
        "id": "h8RnKVMXgbzr"
      },
      "source": [
        "**1. Clone the code repo and download data to process**"
      ]
    },
    {
      "cell_type": "code",
      "metadata": {
        "id": "doUAtCxIyOiI"
      },
      "source": [
        "![ -d \"GRNP_2020\" ] && rm -r GRNP_2020\n",
        "\n",
        "!git clone https://github.com/pachterlab/GRNP_2020.git\n"
      ],
      "execution_count": null,
      "outputs": []
    },
    {
      "cell_type": "code",
      "metadata": {
        "id": "dUNSQ1qBZb2g"
      },
      "source": [
        "#download BUG data from Zenodo\n",
        "![ -d \"figureData\" ] && rm -r figureData\n",
        "!mkdir figureData\n",
        "!cd figureData && wget https://zenodo.org/record/4661263/files/PBMC_V3_3.zip?download=1 && unzip 'PBMC_V3_3.zip?download=1' && rm 'PBMC_V3_3.zip?download=1'"
      ],
      "execution_count": null,
      "outputs": []
    },
    {
      "cell_type": "code",
      "metadata": {
        "id": "IujiPEVt0Pe3"
      },
      "source": [
        "!cd figureData && wget https://zenodo.org/record/4661263/files/PBMC_V3_2.zip?download=1 && unzip 'PBMC_V3_2.zip?download=1' && rm 'PBMC_V3_2.zip?download=1'"
      ],
      "execution_count": null,
      "outputs": []
    },
    {
      "cell_type": "code",
      "metadata": {
        "id": "UfDuyrbY0Zf6"
      },
      "source": [
        "!cd figureData && wget https://zenodo.org/record/4661263/files/PBMC_V3.zip?download=1 && unzip 'PBMC_V3.zip?download=1' && rm 'PBMC_V3.zip?download=1'"
      ],
      "execution_count": null,
      "outputs": []
    },
    {
      "cell_type": "code",
      "metadata": {
        "id": "awFJNSMR0Z4O"
      },
      "source": [
        "!cd figureData && wget https://zenodo.org/record/4661263/files/PBMC_NG.zip?download=1 && unzip 'PBMC_NG.zip?download=1' && rm 'PBMC_NG.zip?download=1'"
      ],
      "execution_count": null,
      "outputs": []
    },
    {
      "cell_type": "code",
      "metadata": {
        "id": "cpcqIQ1K0aNe"
      },
      "source": [
        "!cd figureData && wget https://zenodo.org/record/4661263/files/PBMC_NG_2.zip?download=1 && unzip 'PBMC_NG_2.zip?download=1' && rm 'PBMC_NG_2.zip?download=1'"
      ],
      "execution_count": null,
      "outputs": []
    },
    {
      "cell_type": "code",
      "metadata": {
        "id": "z016rJqP0ady"
      },
      "source": [
        "!cd figureData && wget https://zenodo.org/record/4661263/files/PBMC_V2.zip?download=1 && unzip 'PBMC_V2.zip?download=1' && rm 'PBMC_V2.zip?download=1'"
      ],
      "execution_count": null,
      "outputs": []
    },
    {
      "cell_type": "code",
      "metadata": {
        "id": "_oaeB0bS0bEm"
      },
      "source": [
        "!cd figureData && wget https://zenodo.org/record/4661263/files/EVALPBMC.zip?download=1 && unzip 'EVALPBMC.zip?download=1' && rm 'EVALPBMC.zip?download=1'\n"
      ],
      "execution_count": null,
      "outputs": []
    },
    {
      "cell_type": "code",
      "metadata": {
        "id": "oesgTqLO0Qje"
      },
      "source": [
        "#Check that download worked\n",
        "!cd figureData && ls -l && cd PBMC_V3_2 && ls -l"
      ],
      "execution_count": null,
      "outputs": []
    },
    {
      "cell_type": "markdown",
      "metadata": {
        "id": "sCmhNVdYgkWH"
      },
      "source": [
        "**2. Prepare the R environment**"
      ]
    },
    {
      "cell_type": "code",
      "metadata": {
        "id": "5Gt6rQkSXriM"
      },
      "source": [
        "#switch to R mode\n",
        "%reload_ext rpy2.ipython\n"
      ],
      "execution_count": null,
      "outputs": []
    },
    {
      "cell_type": "code",
      "metadata": {
        "id": "jJ3rQJCdgeJa"
      },
      "source": [
        "#install the R packages\n",
        "%%R\n",
        "install.packages(\"qdapTools\")\n",
        "install.packages(\"dplyr\")\n",
        "install.packages(\"stringdist\")\n"
      ],
      "execution_count": null,
      "outputs": []
    },
    {
      "cell_type": "markdown",
      "metadata": {
        "id": "x56fjfCSicrp"
      },
      "source": [
        "**3. Process and save the data**\n",
        "\n",
        "Here we generate the pooled CU histograms, both from full datasets and downsampled ones. In addition, we calculate the average expression when downsampling 20 times, which will to a large extent remove the sampling noise. We then estimate the sampling noise as the difference between this mean and data that is downsampled only once."
      ]
    },
    {
      "cell_type": "code",
      "metadata": {
        "id": "V37XLBAO68oR"
      },
      "source": [
        "#First set some path variables\n",
        "%%R\n",
        "source(\"GRNP_2020/RCode/pathsGoogleColab.R\")\n"
      ],
      "execution_count": null,
      "outputs": []
    },
    {
      "cell_type": "code",
      "metadata": {
        "id": "R6kuhOmzZL_X"
      },
      "source": [
        "#Process and filter the BUG file\n",
        "%%R\n",
        "source(paste0(sourcePath, \"ButterflyHelpers.R\"))\n",
        "\n",
        "#generate pooled histograms (for fig 3C)\n",
        "\n",
        "loadBug(\"PBMC_V3\")\n",
        "generatePooledHistogramDS(\"PBMC_V3\")\n",
        "generatePooledHistogram(\"PBMC_V3\") #these are not really used, but we generate them anyway, it is little extra effort\n",
        "rmBug(\"PBMC_V3\")\n",
        "\n",
        "loadBug(\"PBMC_V3_2\")\n",
        "generatePooledHistogramDS(\"PBMC_V3_2\")\n",
        "generatePooledHistogram(\"PBMC_V3_2\")\n",
        "rmBug(\"PBMC_V3_2\")\n",
        "\n",
        "loadBug(\"PBMC_V3_3\")\n",
        "generatePooledHistogramDS(\"PBMC_V3_3\")\n",
        "generatePooledHistogram(\"PBMC_V3_3\")\n",
        "rmBug(\"PBMC_V3_3\")\n",
        "\n",
        "loadBug(\"PBMC_NG\")\n",
        "generatePooledHistogramDS(\"PBMC_NG\")\n",
        "generatePooledHistogram(\"PBMC_NG\")\n",
        "rmBug(\"PBMC_NG\")\n",
        "\n",
        "loadBug(\"PBMC_NG_2\")\n",
        "generatePooledHistogramDS(\"PBMC_NG_2\")\n",
        "generatePooledHistogram(\"PBMC_NG_2\")\n",
        "rmBug(\"PBMC_NG_2\")\n",
        "\n",
        "loadBug(\"PBMC_V2\")\n",
        "generatePooledHistogramDS(\"PBMC_V2\")\n",
        "generatePooledHistogram(\"PBMC_V2\")\n",
        "rmBug(\"PBMC_V2\")\n",
        "\n",
        "loadBug(\"EVALPBMC\")\n",
        "generatePooledHistogramDS(\"EVALPBMC\")\n",
        "generatePooledHistogram(\"EVALPBMC\")\n",
        "rmBug(\"EVALPBMC\")\n",
        "\n"
      ],
      "execution_count": null,
      "outputs": []
    },
    {
      "cell_type": "code",
      "metadata": {
        "id": "Cb5DifYYcB6g"
      },
      "source": [
        "!cd figureData && ls -l "
      ],
      "execution_count": null,
      "outputs": []
    }
  ]
}