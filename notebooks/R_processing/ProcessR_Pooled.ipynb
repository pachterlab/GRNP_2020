{
  "nbformat": 4,
  "nbformat_minor": 0,
  "metadata": {
    "colab": {
      "name": "ProcessR_Pooled.ipynb",
      "provenance": [],
      "collapsed_sections": [],
      "include_colab_link": true
    },
    "kernelspec": {
      "name": "python3",
      "display_name": "Python 3"
    }
  },
  "cells": [
    {
      "cell_type": "markdown",
      "metadata": {
        "id": "view-in-github",
        "colab_type": "text"
      },
      "source": [
        "<a href=\"https://colab.research.google.com/github/pachterlab/GRNP_2020/blob/master/notebooks/R_processing/ProcessR_Pooled.ipynb\" target=\"_parent\"><img src=\"https://colab.research.google.com/assets/colab-badge.svg\" alt=\"Open In Colab\"/></a>"
      ]
    },
    {
      "cell_type": "markdown",
      "metadata": {
        "id": "dhydD96df06z",
        "colab_type": "text"
      },
      "source": [
        "**Creates pooled data from several datasets to be used for prediction**\n",
        "\n",
        "This notebook assembles CU histograms from multiple datasets for use in pooled prediction, a method in which lowly expressed genes can get a more stable CU histogram by \"borrowing\" information from similar datasets. We create two variants here - pooled data from full datasets and pooled data from downsampled dataset (downsampled 10 times). The reason for the latter is for use with down-sampling experiments, such as figure 3. We generate pooled data from 6 PBMC 10X datasets. For the downsampled variant, we downsample each dataset 10 times and pool a total of 60 datasets, since so much information is lost in the downsampling.\n",
        "\n",
        "We also perform downsampling of a dataset to be able to compare prediction to sampling noise (fig S20)\n",
        "\n",
        "Steps:\n",
        "1. Clone the code repo and download data to process\n",
        "2. Prepare the R environment\n",
        "3. Process and save the data\n"
      ]
    },
    {
      "cell_type": "markdown",
      "metadata": {
        "id": "h8RnKVMXgbzr",
        "colab_type": "text"
      },
      "source": [
        "**1. Clone the code repo and download data to process**"
      ]
    },
    {
      "cell_type": "code",
      "metadata": {
        "id": "doUAtCxIyOiI",
        "colab_type": "code",
        "colab": {
          "base_uri": "https://localhost:8080/",
          "height": 136
        },
        "outputId": "6c2e7b43-1239-424b-cf86-51ce80eb6c55"
      },
      "source": [
        "![ -d \"GRNP_2020\" ] && rm -r GRNP_2020\n",
        "\n",
        "!git clone https://github.com/pachterlab/GRNP_2020.git\n"
      ],
      "execution_count": 1,
      "outputs": [
        {
          "output_type": "stream",
          "text": [
            "Cloning into 'GRNP_2020'...\n",
            "remote: Enumerating objects: 99, done.\u001b[K\n",
            "remote: Counting objects:   1% (1/99)\u001b[K\rremote: Counting objects:   2% (2/99)\u001b[K\rremote: Counting objects:   3% (3/99)\u001b[K\rremote: Counting objects:   4% (4/99)\u001b[K\rremote: Counting objects:   5% (5/99)\u001b[K\rremote: Counting objects:   6% (6/99)\u001b[K\rremote: Counting objects:   7% (7/99)\u001b[K\rremote: Counting objects:   8% (8/99)\u001b[K\rremote: Counting objects:   9% (9/99)\u001b[K\rremote: Counting objects:  10% (10/99)\u001b[K\rremote: Counting objects:  11% (11/99)\u001b[K\rremote: Counting objects:  12% (12/99)\u001b[K\rremote: Counting objects:  13% (13/99)\u001b[K\rremote: Counting objects:  14% (14/99)\u001b[K\rremote: Counting objects:  15% (15/99)\u001b[K\rremote: Counting objects:  16% (16/99)\u001b[K\rremote: Counting objects:  17% (17/99)\u001b[K\rremote: Counting objects:  18% (18/99)\u001b[K\rremote: Counting objects:  19% (19/99)\u001b[K\rremote: Counting objects:  20% (20/99)\u001b[K\rremote: Counting objects:  21% (21/99)\u001b[K\rremote: Counting objects:  22% (22/99)\u001b[K\rremote: Counting objects:  23% (23/99)\u001b[K\rremote: Counting objects:  24% (24/99)\u001b[K\rremote: Counting objects:  25% (25/99)\u001b[K\rremote: Counting objects:  26% (26/99)\u001b[K\rremote: Counting objects:  27% (27/99)\u001b[K\rremote: Counting objects:  28% (28/99)\u001b[K\rremote: Counting objects:  29% (29/99)\u001b[K\rremote: Counting objects:  30% (30/99)\u001b[K\rremote: Counting objects:  31% (31/99)\u001b[K\rremote: Counting objects:  32% (32/99)\u001b[K\rremote: Counting objects:  33% (33/99)\u001b[K\rremote: Counting objects:  34% (34/99)\u001b[K\rremote: Counting objects:  35% (35/99)\u001b[K\rremote: Counting objects:  36% (36/99)\u001b[K\rremote: Counting objects:  37% (37/99)\u001b[K\rremote: Counting objects:  38% (38/99)\u001b[K\rremote: Counting objects:  39% (39/99)\u001b[K\rremote: Counting objects:  40% (40/99)\u001b[K\rremote: Counting objects:  41% (41/99)\u001b[K\rremote: Counting objects:  42% (42/99)\u001b[K\rremote: Counting objects:  43% (43/99)\u001b[K\rremote: Counting objects:  44% (44/99)\u001b[K\rremote: Counting objects:  45% (45/99)\u001b[K\rremote: Counting objects:  46% (46/99)\u001b[K\rremote: Counting objects:  47% (47/99)\u001b[K\rremote: Counting objects:  48% (48/99)\u001b[K\rremote: Counting objects:  49% (49/99)\u001b[K\rremote: Counting objects:  50% (50/99)\u001b[K\rremote: Counting objects:  51% (51/99)\u001b[K\rremote: Counting objects:  52% (52/99)\u001b[K\rremote: Counting objects:  53% (53/99)\u001b[K\rremote: Counting objects:  54% (54/99)\u001b[K\rremote: Counting objects:  55% (55/99)\u001b[K\rremote: Counting objects:  56% (56/99)\u001b[K\rremote: Counting objects:  57% (57/99)\u001b[K\rremote: Counting objects:  58% (58/99)\u001b[K\rremote: Counting objects:  59% (59/99)\u001b[K\rremote: Counting objects:  60% (60/99)\u001b[K\rremote: Counting objects:  61% (61/99)\u001b[K\rremote: Counting objects:  62% (62/99)\u001b[K\rremote: Counting objects:  63% (63/99)\u001b[K\rremote: Counting objects:  64% (64/99)\u001b[K\rremote: Counting objects:  65% (65/99)\u001b[K\rremote: Counting objects:  66% (66/99)\u001b[K\rremote: Counting objects:  67% (67/99)\u001b[K\rremote: Counting objects:  68% (68/99)\u001b[K\rremote: Counting objects:  69% (69/99)\u001b[K\rremote: Counting objects:  70% (70/99)\u001b[K\rremote: Counting objects:  71% (71/99)\u001b[K\rremote: Counting objects:  72% (72/99)\u001b[K\rremote: Counting objects:  73% (73/99)\u001b[K\rremote: Counting objects:  74% (74/99)\u001b[K\rremote: Counting objects:  75% (75/99)\u001b[K\rremote: Counting objects:  76% (76/99)\u001b[K\rremote: Counting objects:  77% (77/99)\u001b[K\rremote: Counting objects:  78% (78/99)\u001b[K\rremote: Counting objects:  79% (79/99)\u001b[K\rremote: Counting objects:  80% (80/99)\u001b[K\rremote: Counting objects:  81% (81/99)\u001b[K\rremote: Counting objects:  82% (82/99)\u001b[K\rremote: Counting objects:  83% (83/99)\u001b[K\rremote: Counting objects:  84% (84/99)\u001b[K\rremote: Counting objects:  85% (85/99)\u001b[K\rremote: Counting objects:  86% (86/99)\u001b[K\rremote: Counting objects:  87% (87/99)\u001b[K\rremote: Counting objects:  88% (88/99)\u001b[K\rremote: Counting objects:  89% (89/99)\u001b[K\rremote: Counting objects:  90% (90/99)\u001b[K\rremote: Counting objects:  91% (91/99)\u001b[K\rremote: Counting objects:  92% (92/99)\u001b[K\rremote: Counting objects:  93% (93/99)\u001b[K\rremote: Counting objects:  94% (94/99)\u001b[K\rremote: Counting objects:  95% (95/99)\u001b[K\rremote: Counting objects:  96% (96/99)\u001b[K\rremote: Counting objects:  97% (97/99)\u001b[K\rremote: Counting objects:  98% (98/99)\u001b[K\rremote: Counting objects: 100% (99/99)\u001b[K\rremote: Counting objects: 100% (99/99), done.\u001b[K\n",
            "remote: Compressing objects: 100% (79/79), done.\u001b[K\n",
            "remote: Total 982 (delta 62), reused 40 (delta 20), pack-reused 883\u001b[K\n",
            "Receiving objects: 100% (982/982), 7.38 MiB | 19.84 MiB/s, done.\n",
            "Resolving deltas: 100% (616/616), done.\n"
          ],
          "name": "stdout"
        }
      ]
    },
    {
      "cell_type": "code",
      "metadata": {
        "id": "dUNSQ1qBZb2g",
        "colab_type": "code",
        "colab": {
          "base_uri": "https://localhost:8080/",
          "height": 442
        },
        "outputId": "f8ecc304-6ef5-44a1-de6b-a4ee480226c1"
      },
      "source": [
        "#download BUG data from Zenodo\n",
        "![ -d \"figureData\" ] && rm -r figureData\n",
        "!mkdir figureData\n",
        "!cd figureData && wget https://zenodo.org/record/3909758/files/PBMC_V3_3.zip?download=1 && unzip 'PBMC_V3_3.zip?download=1' && rm 'PBMC_V3_3.zip?download=1'\n",
        "\n",
        "\n",
        "\n",
        "\n",
        "\n"
      ],
      "execution_count": 2,
      "outputs": [
        {
          "output_type": "stream",
          "text": [
            "--2020-07-02 18:38:41--  https://zenodo.org/record/3909758/files/PBMC_V3_3.zip?download=1\n",
            "Resolving zenodo.org (zenodo.org)... 188.184.117.155\n",
            "Connecting to zenodo.org (zenodo.org)|188.184.117.155|:443... connected.\n",
            "HTTP request sent, awaiting response... 200 OK\n",
            "Length: 1819306744 (1.7G) [application/octet-stream]\n",
            "Saving to: ‘PBMC_V3_3.zip?download=1’\n",
            "\n",
            "PBMC_V3_3.zip?downl 100%[===================>]   1.69G  11.0MB/s    in 2m 13s  \n",
            "\n",
            "2020-07-02 18:40:55 (13.0 MB/s) - ‘PBMC_V3_3.zip?download=1’ saved [1819306744/1819306744]\n",
            "\n",
            "Archive:  PBMC_V3_3.zip?download=1\n",
            "   creating: PBMC_V3_3/\n",
            "  inflating: PBMC_V3_3/Bug_10.RData  \n",
            "  inflating: PBMC_V3_3/Bug_100.RData  \n",
            "  inflating: PBMC_V3_3/Bug_20.RData  \n",
            "  inflating: PBMC_V3_3/Bug_40.RData  \n",
            "  inflating: PBMC_V3_3/Bug_5.RData   \n",
            "  inflating: PBMC_V3_3/Bug_60.RData  \n",
            "  inflating: PBMC_V3_3/Bug_80.RData  \n",
            "  inflating: PBMC_V3_3/ds_summary.txt  \n",
            "  inflating: PBMC_V3_3/pooledHist.RData  \n",
            "  inflating: PBMC_V3_3/pooledHistDS.RData  \n",
            "  inflating: PBMC_V3_3/PredEvalData.RDS  \n",
            "  inflating: PBMC_V3_3/Stats.RData   \n"
          ],
          "name": "stdout"
        }
      ]
    },
    {
      "cell_type": "code",
      "metadata": {
        "id": "IujiPEVt0Pe3",
        "colab_type": "code",
        "colab": {
          "base_uri": "https://localhost:8080/",
          "height": 442
        },
        "outputId": "1abc9467-aa38-46c5-fcc0-e6d9077b2858"
      },
      "source": [
        "!cd figureData && wget https://zenodo.org/record/3909758/files/PBMC_V3_2.zip?download=1 && unzip 'PBMC_V3_2.zip?download=1' && rm 'PBMC_V3_2.zip?download=1'"
      ],
      "execution_count": 3,
      "outputs": [
        {
          "output_type": "stream",
          "text": [
            "--2020-07-02 18:41:16--  https://zenodo.org/record/3909758/files/PBMC_V3_2.zip?download=1\n",
            "Resolving zenodo.org (zenodo.org)... 188.184.117.155\n",
            "Connecting to zenodo.org (zenodo.org)|188.184.117.155|:443... connected.\n",
            "HTTP request sent, awaiting response... 200 OK\n",
            "Length: 1558568885 (1.5G) [application/octet-stream]\n",
            "Saving to: ‘PBMC_V3_2.zip?download=1’\n",
            "\n",
            "PBMC_V3_2.zip?downl 100%[===================>]   1.45G  12.0MB/s    in 2m 21s  \n",
            "\n",
            "2020-07-02 18:43:38 (10.6 MB/s) - ‘PBMC_V3_2.zip?download=1’ saved [1558568885/1558568885]\n",
            "\n",
            "Archive:  PBMC_V3_2.zip?download=1\n",
            "   creating: PBMC_V3_2/\n",
            "  inflating: PBMC_V3_2/Bug_10.RData  \n",
            "  inflating: PBMC_V3_2/Bug_100.RData  \n",
            "  inflating: PBMC_V3_2/Bug_20.RData  \n",
            "  inflating: PBMC_V3_2/Bug_40.RData  \n",
            "  inflating: PBMC_V3_2/Bug_5.RData   \n",
            "  inflating: PBMC_V3_2/Bug_60.RData  \n",
            "  inflating: PBMC_V3_2/Bug_80.RData  \n",
            "  inflating: PBMC_V3_2/ds_summary.txt  \n",
            "  inflating: PBMC_V3_2/pooledHist.RData  \n",
            "  inflating: PBMC_V3_2/pooledHistDS.RData  \n",
            "  inflating: PBMC_V3_2/PredEvalData.RDS  \n",
            "  inflating: PBMC_V3_2/Stats.RData   \n"
          ],
          "name": "stdout"
        }
      ]
    },
    {
      "cell_type": "code",
      "metadata": {
        "id": "UfDuyrbY0Zf6",
        "colab_type": "code",
        "colab": {
          "base_uri": "https://localhost:8080/",
          "height": 442
        },
        "outputId": "8ad29c83-9d5d-4387-e8ff-bf82ef5b95ad"
      },
      "source": [
        "!cd figureData && wget https://zenodo.org/record/3909758/files/PBMC_V3.zip?download=1 && unzip 'PBMC_V3.zip?download=1' && rm 'PBMC_V3.zip?download=1'"
      ],
      "execution_count": 4,
      "outputs": [
        {
          "output_type": "stream",
          "text": [
            "--2020-07-02 18:43:55--  https://zenodo.org/record/3909758/files/PBMC_V3.zip?download=1\n",
            "Resolving zenodo.org (zenodo.org)... 188.184.117.155\n",
            "Connecting to zenodo.org (zenodo.org)|188.184.117.155|:443... connected.\n",
            "HTTP request sent, awaiting response... 200 OK\n",
            "Length: 1127576758 (1.0G) [application/octet-stream]\n",
            "Saving to: ‘PBMC_V3.zip?download=1’\n",
            "\n",
            "PBMC_V3.zip?downloa 100%[===================>]   1.05G  10.0MB/s    in 81s     \n",
            "\n",
            "2020-07-02 18:45:17 (13.3 MB/s) - ‘PBMC_V3.zip?download=1’ saved [1127576758/1127576758]\n",
            "\n",
            "Archive:  PBMC_V3.zip?download=1\n",
            "   creating: PBMC_V3/\n",
            "  inflating: PBMC_V3/Bug_10.RData    \n",
            "  inflating: PBMC_V3/Bug_100.RData   \n",
            "  inflating: PBMC_V3/Bug_20.RData    \n",
            "  inflating: PBMC_V3/Bug_40.RData    \n",
            "  inflating: PBMC_V3/Bug_5.RData     \n",
            "  inflating: PBMC_V3/Bug_60.RData    \n",
            "  inflating: PBMC_V3/Bug_80.RData    \n",
            "  inflating: PBMC_V3/ds_summary.txt  \n",
            "  inflating: PBMC_V3/pooledHist.RData  \n",
            "  inflating: PBMC_V3/pooledHistDS.RData  \n",
            "  inflating: PBMC_V3/PredEvalData.RDS  \n",
            "  inflating: PBMC_V3/Stats.RData     \n"
          ],
          "name": "stdout"
        }
      ]
    },
    {
      "cell_type": "code",
      "metadata": {
        "id": "awFJNSMR0Z4O",
        "colab_type": "code",
        "colab": {
          "base_uri": "https://localhost:8080/",
          "height": 442
        },
        "outputId": "b9209472-38f3-4489-907a-88a3205787ea"
      },
      "source": [
        "!cd figureData && wget https://zenodo.org/record/3909758/files/PBMC_NG.zip?download=1 && unzip 'PBMC_NG.zip?download=1' && rm 'PBMC_NG.zip?download=1'"
      ],
      "execution_count": 5,
      "outputs": [
        {
          "output_type": "stream",
          "text": [
            "--2020-07-02 18:45:29--  https://zenodo.org/record/3909758/files/PBMC_NG.zip?download=1\n",
            "Resolving zenodo.org (zenodo.org)... 188.184.117.155\n",
            "Connecting to zenodo.org (zenodo.org)|188.184.117.155|:443... connected.\n",
            "HTTP request sent, awaiting response... 200 OK\n",
            "Length: 1183970256 (1.1G) [application/octet-stream]\n",
            "Saving to: ‘PBMC_NG.zip?download=1’\n",
            "\n",
            "PBMC_NG.zip?downloa 100%[===================>]   1.10G  14.8MB/s    in 84s     \n",
            "\n",
            "2020-07-02 18:46:54 (13.5 MB/s) - ‘PBMC_NG.zip?download=1’ saved [1183970256/1183970256]\n",
            "\n",
            "Archive:  PBMC_NG.zip?download=1\n",
            "   creating: PBMC_NG/\n",
            "  inflating: PBMC_NG/Bug_10.RData    \n",
            "  inflating: PBMC_NG/Bug_100.RData   \n",
            "  inflating: PBMC_NG/Bug_20.RData    \n",
            "  inflating: PBMC_NG/Bug_40.RData    \n",
            "  inflating: PBMC_NG/Bug_5.RData     \n",
            "  inflating: PBMC_NG/Bug_60.RData    \n",
            "  inflating: PBMC_NG/Bug_80.RData    \n",
            "  inflating: PBMC_NG/ds_summary.txt  \n",
            "  inflating: PBMC_NG/pooledHist.RData  \n",
            "  inflating: PBMC_NG/pooledHistDS.RData  \n",
            "  inflating: PBMC_NG/PredEvalData.RDS  \n",
            "  inflating: PBMC_NG/Stats.RData     \n"
          ],
          "name": "stdout"
        }
      ]
    },
    {
      "cell_type": "code",
      "metadata": {
        "id": "cpcqIQ1K0aNe",
        "colab_type": "code",
        "colab": {
          "base_uri": "https://localhost:8080/",
          "height": 442
        },
        "outputId": "43cf9469-7155-4666-a9d0-1887c93eebd9"
      },
      "source": [
        "!cd figureData && wget https://zenodo.org/record/3909758/files/PBMC_NG_2.zip?download=1 && unzip 'PBMC_NG_2.zip?download=1' && rm 'PBMC_NG_2.zip?download=1'"
      ],
      "execution_count": 6,
      "outputs": [
        {
          "output_type": "stream",
          "text": [
            "--2020-07-02 18:47:07--  https://zenodo.org/record/3909758/files/PBMC_NG_2.zip?download=1\n",
            "Resolving zenodo.org (zenodo.org)... 188.184.117.155\n",
            "Connecting to zenodo.org (zenodo.org)|188.184.117.155|:443... connected.\n",
            "HTTP request sent, awaiting response... 200 OK\n",
            "Length: 1753743936 (1.6G) [application/octet-stream]\n",
            "Saving to: ‘PBMC_NG_2.zip?download=1’\n",
            "\n",
            "PBMC_NG_2.zip?downl 100%[===================>]   1.63G  15.7MB/s    in 2m 7s   \n",
            "\n",
            "2020-07-02 18:49:15 (13.1 MB/s) - ‘PBMC_NG_2.zip?download=1’ saved [1753743936/1753743936]\n",
            "\n",
            "Archive:  PBMC_NG_2.zip?download=1\n",
            "   creating: PBMC_NG_2/\n",
            "  inflating: PBMC_NG_2/Bug_10.RData  \n",
            "  inflating: PBMC_NG_2/Bug_100.RData  \n",
            "  inflating: PBMC_NG_2/Bug_20.RData  \n",
            "  inflating: PBMC_NG_2/Bug_40.RData  \n",
            "  inflating: PBMC_NG_2/Bug_5.RData   \n",
            "  inflating: PBMC_NG_2/Bug_60.RData  \n",
            "  inflating: PBMC_NG_2/Bug_80.RData  \n",
            "  inflating: PBMC_NG_2/ds_summary.txt  \n",
            "  inflating: PBMC_NG_2/pooledHist.RData  \n",
            "  inflating: PBMC_NG_2/pooledHistDS.RData  \n",
            "  inflating: PBMC_NG_2/PredEvalData.RDS  \n",
            "  inflating: PBMC_NG_2/Stats.RData   \n"
          ],
          "name": "stdout"
        }
      ]
    },
    {
      "cell_type": "code",
      "metadata": {
        "id": "z016rJqP0ady",
        "colab_type": "code",
        "colab": {
          "base_uri": "https://localhost:8080/",
          "height": 442
        },
        "outputId": "815d963b-3895-43f3-9826-6c0abaa046d2"
      },
      "source": [
        "!cd figureData && wget https://zenodo.org/record/3909758/files/PBMC_V2.zip?download=1 && unzip 'PBMC_V2.zip?download=1' && rm 'PBMC_V2.zip?download=1'"
      ],
      "execution_count": 7,
      "outputs": [
        {
          "output_type": "stream",
          "text": [
            "--2020-07-02 18:49:35--  https://zenodo.org/record/3909758/files/PBMC_V2.zip?download=1\n",
            "Resolving zenodo.org (zenodo.org)... 188.184.117.155\n",
            "Connecting to zenodo.org (zenodo.org)|188.184.117.155|:443... connected.\n",
            "HTTP request sent, awaiting response... 200 OK\n",
            "Length: 816179326 (778M) [application/octet-stream]\n",
            "Saving to: ‘PBMC_V2.zip?download=1’\n",
            "\n",
            "PBMC_V2.zip?downloa 100%[===================>] 778.37M  13.3MB/s    in 53s     \n",
            "\n",
            "2020-07-02 18:50:28 (14.7 MB/s) - ‘PBMC_V2.zip?download=1’ saved [816179326/816179326]\n",
            "\n",
            "Archive:  PBMC_V2.zip?download=1\n",
            "   creating: PBMC_V2/\n",
            "  inflating: PBMC_V2/Bug_10.RData    \n",
            "  inflating: PBMC_V2/Bug_100.RData   \n",
            "  inflating: PBMC_V2/Bug_20.RData    \n",
            "  inflating: PBMC_V2/Bug_40.RData    \n",
            "  inflating: PBMC_V2/Bug_5.RData     \n",
            "  inflating: PBMC_V2/Bug_60.RData    \n",
            "  inflating: PBMC_V2/Bug_80.RData    \n",
            "  inflating: PBMC_V2/ds_summary.txt  \n",
            "  inflating: PBMC_V2/pooledHist.RData  \n",
            "  inflating: PBMC_V2/pooledHistDS.RData  \n",
            "  inflating: PBMC_V2/PredEvalData.RDS  \n",
            "  inflating: PBMC_V2/Stats.RData     \n"
          ],
          "name": "stdout"
        }
      ]
    },
    {
      "cell_type": "code",
      "metadata": {
        "id": "_oaeB0bS0bEm",
        "colab_type": "code",
        "colab": {
          "base_uri": "https://localhost:8080/",
          "height": 442
        },
        "outputId": "eac9c2f9-de7f-44a4-9f3a-2ee274d78cf2"
      },
      "source": [
        "!cd figureData && wget https://zenodo.org/record/3909758/files/EVALPBMC.zip?download=1 && unzip 'EVALPBMC.zip?download=1' && rm 'EVALPBMC.zip?download=1'\n"
      ],
      "execution_count": 8,
      "outputs": [
        {
          "output_type": "stream",
          "text": [
            "--2020-07-02 18:50:38--  https://zenodo.org/record/3909758/files/EVALPBMC.zip?download=1\n",
            "Resolving zenodo.org (zenodo.org)... 188.184.117.155\n",
            "Connecting to zenodo.org (zenodo.org)|188.184.117.155|:443... connected.\n",
            "HTTP request sent, awaiting response... 200 OK\n",
            "Length: 467646609 (446M) [application/octet-stream]\n",
            "Saving to: ‘EVALPBMC.zip?download=1’\n",
            "\n",
            "EVALPBMC.zip?downlo 100%[===================>] 445.98M  11.8MB/s    in 31s     \n",
            "\n",
            "2020-07-02 18:51:10 (14.2 MB/s) - ‘EVALPBMC.zip?download=1’ saved [467646609/467646609]\n",
            "\n",
            "Archive:  EVALPBMC.zip?download=1\n",
            "   creating: EVALPBMC/\n",
            "  inflating: EVALPBMC/Bug_10.RData   \n",
            "  inflating: EVALPBMC/Bug_100.RData  \n",
            "  inflating: EVALPBMC/Bug_20.RData   \n",
            "  inflating: EVALPBMC/Bug_40.RData   \n",
            "  inflating: EVALPBMC/Bug_5.RData    \n",
            "  inflating: EVALPBMC/Bug_60.RData   \n",
            "  inflating: EVALPBMC/Bug_80.RData   \n",
            "  inflating: EVALPBMC/ds_summary.txt  \n",
            "  inflating: EVALPBMC/pooledHist.RData  \n",
            "  inflating: EVALPBMC/pooledHistDS.RData  \n",
            "  inflating: EVALPBMC/PredEvalData.RDS  \n",
            "  inflating: EVALPBMC/Stats.RData    \n"
          ],
          "name": "stdout"
        }
      ]
    },
    {
      "cell_type": "code",
      "metadata": {
        "id": "oesgTqLO0Qje",
        "colab_type": "code",
        "colab": {
          "base_uri": "https://localhost:8080/",
          "height": 374
        },
        "outputId": "a971d74d-1195-467b-cb91-65ebbe79553e"
      },
      "source": [
        "#Check that download worked\n",
        "!cd figureData && ls -l && cd PBMC_V3_2 && ls -l"
      ],
      "execution_count": 9,
      "outputs": [
        {
          "output_type": "stream",
          "text": [
            "total 28\n",
            "drwxr-xr-x 2 root root 4096 Jul  1 20:29 EVALPBMC\n",
            "drwxr-xr-x 2 root root 4096 Jul  1 22:18 PBMC_NG\n",
            "drwxr-xr-x 2 root root 4096 Jul  1 22:37 PBMC_NG_2\n",
            "drwxr-xr-x 2 root root 4096 Jul  1 22:52 PBMC_V2\n",
            "drwxr-xr-x 2 root root 4096 Jul  1 21:27 PBMC_V3\n",
            "drwxr-xr-x 2 root root 4096 Jul  1 21:43 PBMC_V3_2\n",
            "drwxr-xr-x 2 root root 4096 Jul  1 22:03 PBMC_V3_3\n",
            "total 1628004\n",
            "-rw-r--r-- 1 root root 352633388 Jun 30 23:44 Bug_100.RData\n",
            "-rw-r--r-- 1 root root 117036831 Jun 30 23:19 Bug_10.RData\n",
            "-rw-r--r-- 1 root root 187888424 Jun 30 23:22 Bug_20.RData\n",
            "-rw-r--r-- 1 root root 267712541 Jun 30 23:27 Bug_40.RData\n",
            "-rw-r--r-- 1 root root  65984760 Jun 30 23:17 Bug_5.RData\n",
            "-rw-r--r-- 1 root root 311852745 Jun 30 23:33 Bug_60.RData\n",
            "-rw-r--r-- 1 root root 335390002 Jun 30 23:40 Bug_80.RData\n",
            "-rw-r--r-- 1 root root      1065 Jul  1 21:24 ds_summary.txt\n",
            "-rw-r--r-- 1 root root    256079 Jul  1 14:34 pooledHistDS.RData\n",
            "-rw-r--r-- 1 root root    518870 Jul  1 14:35 pooledHist.RData\n",
            "-rw-r--r-- 1 root root  25673618 Jul  1 21:43 PredEvalData.RDS\n",
            "-rw-r--r-- 1 root root   2090655 Jun 30 23:44 Stats.RData\n"
          ],
          "name": "stdout"
        }
      ]
    },
    {
      "cell_type": "markdown",
      "metadata": {
        "id": "sCmhNVdYgkWH",
        "colab_type": "text"
      },
      "source": [
        "**2. Prepare the R environment**"
      ]
    },
    {
      "cell_type": "code",
      "metadata": {
        "id": "5Gt6rQkSXriM",
        "colab_type": "code",
        "colab": {
          "base_uri": "https://localhost:8080/",
          "height": 85
        },
        "outputId": "d3cbbea1-8599-42f5-8128-b93370981562"
      },
      "source": [
        "#switch to R mode\n",
        "%reload_ext rpy2.ipython\n"
      ],
      "execution_count": 10,
      "outputs": [
        {
          "output_type": "stream",
          "text": [
            "/usr/local/lib/python3.6/dist-packages/rpy2/robjects/pandas2ri.py:14: FutureWarning: pandas.core.index is deprecated and will be removed in a future version.  The public classes are available in the top-level namespace.\n",
            "  from pandas.core.index import Index as PandasIndex\n",
            "/usr/local/lib/python3.6/dist-packages/rpy2/robjects/pandas2ri.py:34: UserWarning: pandas >= 1.0 is not supported.\n",
            "  warnings.warn('pandas >= 1.0 is not supported.')\n"
          ],
          "name": "stderr"
        }
      ]
    },
    {
      "cell_type": "code",
      "metadata": {
        "id": "jJ3rQJCdgeJa",
        "colab_type": "code",
        "colab": {
          "base_uri": "https://localhost:8080/",
          "height": 1000
        },
        "outputId": "a2008b9f-36e6-4c23-9d99-3010011ef358"
      },
      "source": [
        "#install the R packages\n",
        "%%R\n",
        "install.packages(\"qdapTools\")\n",
        "install.packages(\"dplyr\")\n",
        "install.packages(\"stringdist\")\n"
      ],
      "execution_count": 11,
      "outputs": [
        {
          "output_type": "stream",
          "text": [
            "R[write to console]: Installing package into ‘/usr/local/lib/R/site-library’\n",
            "(as ‘lib’ is unspecified)\n",
            "\n",
            "R[write to console]: also installing the dependencies ‘bitops’, ‘chron’, ‘data.table’, ‘RCurl’, ‘XML’\n",
            "\n",
            "\n",
            "R[write to console]: trying URL 'https://cran.rstudio.com/src/contrib/bitops_1.0-6.tar.gz'\n",
            "\n",
            "R[write to console]: Content type 'application/x-gzip'\n",
            "R[write to console]:  length 8734 bytes\n",
            "\n",
            "R[write to console]: =\n",
            "R[write to console]: =\n",
            "R[write to console]: =\n",
            "R[write to console]: =\n",
            "R[write to console]: =\n",
            "R[write to console]: =\n",
            "R[write to console]: =\n",
            "R[write to console]: =\n",
            "R[write to console]: =\n",
            "R[write to console]: =\n",
            "R[write to console]: =\n",
            "R[write to console]: =\n",
            "R[write to console]: =\n",
            "R[write to console]: =\n",
            "R[write to console]: =\n",
            "R[write to console]: =\n",
            "R[write to console]: =\n",
            "R[write to console]: =\n",
            "R[write to console]: =\n",
            "R[write to console]: =\n",
            "R[write to console]: =\n",
            "R[write to console]: =\n",
            "R[write to console]: =\n",
            "R[write to console]: =\n",
            "R[write to console]: =\n",
            "R[write to console]: =\n",
            "R[write to console]: =\n",
            "R[write to console]: =\n",
            "R[write to console]: =\n",
            "R[write to console]: =\n",
            "R[write to console]: =\n",
            "R[write to console]: =\n",
            "R[write to console]: =\n",
            "R[write to console]: =\n",
            "R[write to console]: =\n",
            "R[write to console]: =\n",
            "R[write to console]: =\n",
            "R[write to console]: =\n",
            "R[write to console]: =\n",
            "R[write to console]: =\n",
            "R[write to console]: =\n",
            "R[write to console]: =\n",
            "R[write to console]: =\n",
            "R[write to console]: =\n",
            "R[write to console]: =\n",
            "R[write to console]: =\n",
            "R[write to console]: =\n",
            "R[write to console]: =\n",
            "R[write to console]: =\n",
            "R[write to console]: =\n",
            "R[write to console]: \n",
            "\n",
            "R[write to console]: downloaded 8734 bytes\n",
            "\n",
            "\n",
            "R[write to console]: trying URL 'https://cran.rstudio.com/src/contrib/chron_2.3-55.tar.gz'\n",
            "\n",
            "R[write to console]: Content type 'application/x-gzip'\n",
            "R[write to console]:  length 37689 bytes (36 KB)\n",
            "\n",
            "R[write to console]: =\n",
            "R[write to console]: =\n",
            "R[write to console]: =\n",
            "R[write to console]: =\n",
            "R[write to console]: =\n",
            "R[write to console]: =\n",
            "R[write to console]: =\n",
            "R[write to console]: =\n",
            "R[write to console]: =\n",
            "R[write to console]: =\n",
            "R[write to console]: =\n",
            "R[write to console]: =\n",
            "R[write to console]: =\n",
            "R[write to console]: =\n",
            "R[write to console]: =\n",
            "R[write to console]: =\n",
            "R[write to console]: =\n",
            "R[write to console]: =\n",
            "R[write to console]: =\n",
            "R[write to console]: =\n",
            "R[write to console]: =\n",
            "R[write to console]: =\n",
            "R[write to console]: =\n",
            "R[write to console]: =\n",
            "R[write to console]: =\n",
            "R[write to console]: =\n",
            "R[write to console]: =\n",
            "R[write to console]: =\n",
            "R[write to console]: =\n",
            "R[write to console]: =\n",
            "R[write to console]: =\n",
            "R[write to console]: =\n",
            "R[write to console]: =\n",
            "R[write to console]: =\n",
            "R[write to console]: =\n",
            "R[write to console]: =\n",
            "R[write to console]: =\n",
            "R[write to console]: =\n",
            "R[write to console]: =\n",
            "R[write to console]: =\n",
            "R[write to console]: =\n",
            "R[write to console]: =\n",
            "R[write to console]: =\n",
            "R[write to console]: =\n",
            "R[write to console]: =\n",
            "R[write to console]: =\n",
            "R[write to console]: =\n",
            "R[write to console]: =\n",
            "R[write to console]: =\n",
            "R[write to console]: =\n",
            "R[write to console]: \n",
            "\n",
            "R[write to console]: downloaded 36 KB\n",
            "\n",
            "\n",
            "R[write to console]: trying URL 'https://cran.rstudio.com/src/contrib/data.table_1.12.8.tar.gz'\n",
            "\n",
            "R[write to console]: Content type 'application/x-gzip'\n",
            "R[write to console]:  length 4948391 bytes (4.7 MB)\n",
            "\n",
            "R[write to console]: =\n",
            "R[write to console]: =\n",
            "R[write to console]: =\n",
            "R[write to console]: =\n",
            "R[write to console]: =\n",
            "R[write to console]: =\n",
            "R[write to console]: =\n",
            "R[write to console]: =\n",
            "R[write to console]: =\n",
            "R[write to console]: =\n",
            "R[write to console]: =\n",
            "R[write to console]: =\n",
            "R[write to console]: =\n",
            "R[write to console]: =\n",
            "R[write to console]: =\n",
            "R[write to console]: =\n",
            "R[write to console]: =\n",
            "R[write to console]: =\n",
            "R[write to console]: =\n",
            "R[write to console]: =\n",
            "R[write to console]: =\n",
            "R[write to console]: =\n",
            "R[write to console]: =\n",
            "R[write to console]: =\n",
            "R[write to console]: =\n",
            "R[write to console]: =\n",
            "R[write to console]: =\n",
            "R[write to console]: =\n",
            "R[write to console]: =\n",
            "R[write to console]: =\n",
            "R[write to console]: =\n",
            "R[write to console]: =\n",
            "R[write to console]: =\n",
            "R[write to console]: =\n",
            "R[write to console]: =\n",
            "R[write to console]: =\n",
            "R[write to console]: =\n",
            "R[write to console]: =\n",
            "R[write to console]: =\n",
            "R[write to console]: =\n",
            "R[write to console]: =\n",
            "R[write to console]: =\n",
            "R[write to console]: =\n",
            "R[write to console]: =\n",
            "R[write to console]: =\n",
            "R[write to console]: =\n",
            "R[write to console]: =\n",
            "R[write to console]: =\n",
            "R[write to console]: =\n",
            "R[write to console]: =\n",
            "R[write to console]: \n",
            "\n",
            "R[write to console]: downloaded 4.7 MB\n",
            "\n",
            "\n",
            "R[write to console]: trying URL 'https://cran.rstudio.com/src/contrib/RCurl_1.98-1.2.tar.gz'\n",
            "\n",
            "R[write to console]: Content type 'application/x-gzip'\n",
            "R[write to console]:  length 699583 bytes (683 KB)\n",
            "\n",
            "R[write to console]: =\n",
            "R[write to console]: =\n",
            "R[write to console]: =\n",
            "R[write to console]: =\n",
            "R[write to console]: =\n",
            "R[write to console]: =\n",
            "R[write to console]: =\n",
            "R[write to console]: =\n",
            "R[write to console]: =\n",
            "R[write to console]: =\n",
            "R[write to console]: =\n",
            "R[write to console]: =\n",
            "R[write to console]: =\n",
            "R[write to console]: =\n",
            "R[write to console]: =\n",
            "R[write to console]: =\n",
            "R[write to console]: =\n",
            "R[write to console]: =\n",
            "R[write to console]: =\n",
            "R[write to console]: =\n",
            "R[write to console]: =\n",
            "R[write to console]: =\n",
            "R[write to console]: =\n",
            "R[write to console]: =\n",
            "R[write to console]: =\n",
            "R[write to console]: =\n",
            "R[write to console]: =\n",
            "R[write to console]: =\n",
            "R[write to console]: =\n",
            "R[write to console]: =\n",
            "R[write to console]: =\n",
            "R[write to console]: =\n",
            "R[write to console]: =\n",
            "R[write to console]: =\n",
            "R[write to console]: =\n",
            "R[write to console]: =\n",
            "R[write to console]: =\n",
            "R[write to console]: =\n",
            "R[write to console]: =\n",
            "R[write to console]: =\n",
            "R[write to console]: =\n",
            "R[write to console]: =\n",
            "R[write to console]: =\n",
            "R[write to console]: =\n",
            "R[write to console]: =\n",
            "R[write to console]: =\n",
            "R[write to console]: =\n",
            "R[write to console]: =\n",
            "R[write to console]: =\n",
            "R[write to console]: =\n",
            "R[write to console]: \n",
            "\n",
            "R[write to console]: downloaded 683 KB\n",
            "\n",
            "\n",
            "R[write to console]: trying URL 'https://cran.rstudio.com/src/contrib/XML_3.99-0.3.tar.gz'\n",
            "\n",
            "R[write to console]: Content type 'application/x-gzip'\n",
            "R[write to console]:  length 968543 bytes (945 KB)\n",
            "\n",
            "R[write to console]: =\n",
            "R[write to console]: =\n",
            "R[write to console]: =\n",
            "R[write to console]: =\n",
            "R[write to console]: =\n",
            "R[write to console]: =\n",
            "R[write to console]: =\n",
            "R[write to console]: =\n",
            "R[write to console]: =\n",
            "R[write to console]: =\n",
            "R[write to console]: =\n",
            "R[write to console]: =\n",
            "R[write to console]: =\n",
            "R[write to console]: =\n",
            "R[write to console]: =\n",
            "R[write to console]: =\n",
            "R[write to console]: =\n",
            "R[write to console]: =\n",
            "R[write to console]: =\n",
            "R[write to console]: =\n",
            "R[write to console]: =\n",
            "R[write to console]: =\n",
            "R[write to console]: =\n",
            "R[write to console]: =\n",
            "R[write to console]: =\n",
            "R[write to console]: =\n",
            "R[write to console]: =\n",
            "R[write to console]: =\n",
            "R[write to console]: =\n",
            "R[write to console]: =\n",
            "R[write to console]: =\n",
            "R[write to console]: =\n",
            "R[write to console]: =\n",
            "R[write to console]: =\n",
            "R[write to console]: =\n",
            "R[write to console]: =\n",
            "R[write to console]: =\n",
            "R[write to console]: =\n",
            "R[write to console]: =\n",
            "R[write to console]: =\n",
            "R[write to console]: =\n",
            "R[write to console]: =\n",
            "R[write to console]: =\n",
            "R[write to console]: =\n",
            "R[write to console]: =\n",
            "R[write to console]: =\n",
            "R[write to console]: =\n",
            "R[write to console]: =\n",
            "R[write to console]: =\n",
            "R[write to console]: =\n",
            "R[write to console]: \n",
            "\n",
            "R[write to console]: downloaded 945 KB\n",
            "\n",
            "\n",
            "R[write to console]: trying URL 'https://cran.rstudio.com/src/contrib/qdapTools_1.3.5.tar.gz'\n",
            "\n",
            "R[write to console]: Content type 'application/x-gzip'\n",
            "R[write to console]:  length 36880 bytes (36 KB)\n",
            "\n",
            "R[write to console]: =\n",
            "R[write to console]: =\n",
            "R[write to console]: =\n",
            "R[write to console]: =\n",
            "R[write to console]: =\n",
            "R[write to console]: =\n",
            "R[write to console]: =\n",
            "R[write to console]: =\n",
            "R[write to console]: =\n",
            "R[write to console]: =\n",
            "R[write to console]: =\n",
            "R[write to console]: =\n",
            "R[write to console]: =\n",
            "R[write to console]: =\n",
            "R[write to console]: =\n",
            "R[write to console]: =\n",
            "R[write to console]: =\n",
            "R[write to console]: =\n",
            "R[write to console]: =\n",
            "R[write to console]: =\n",
            "R[write to console]: =\n",
            "R[write to console]: =\n",
            "R[write to console]: =\n",
            "R[write to console]: =\n",
            "R[write to console]: =\n",
            "R[write to console]: =\n",
            "R[write to console]: =\n",
            "R[write to console]: =\n",
            "R[write to console]: =\n",
            "R[write to console]: =\n",
            "R[write to console]: =\n",
            "R[write to console]: =\n",
            "R[write to console]: =\n",
            "R[write to console]: =\n",
            "R[write to console]: =\n",
            "R[write to console]: =\n",
            "R[write to console]: =\n",
            "R[write to console]: =\n",
            "R[write to console]: =\n",
            "R[write to console]: =\n",
            "R[write to console]: =\n",
            "R[write to console]: =\n",
            "R[write to console]: =\n",
            "R[write to console]: =\n",
            "R[write to console]: =\n",
            "R[write to console]: =\n",
            "R[write to console]: =\n",
            "R[write to console]: =\n",
            "R[write to console]: =\n",
            "R[write to console]: =\n",
            "R[write to console]: \n",
            "\n",
            "R[write to console]: downloaded 36 KB\n",
            "\n",
            "\n",
            "R[write to console]: \n",
            "\n",
            "R[write to console]: \n",
            "R[write to console]: The downloaded source packages are in\n",
            "\t‘/tmp/Rtmpd6JL5B/downloaded_packages’\n",
            "R[write to console]: \n",
            "R[write to console]: \n",
            "\n",
            "R[write to console]: Installing package into ‘/usr/local/lib/R/site-library’\n",
            "(as ‘lib’ is unspecified)\n",
            "\n",
            "R[write to console]: trying URL 'https://cran.rstudio.com/src/contrib/dplyr_1.0.0.tar.gz'\n",
            "\n",
            "R[write to console]: Content type 'application/x-gzip'\n",
            "R[write to console]:  length 836651 bytes (817 KB)\n",
            "\n",
            "R[write to console]: =\n",
            "R[write to console]: =\n",
            "R[write to console]: =\n",
            "R[write to console]: =\n",
            "R[write to console]: =\n",
            "R[write to console]: =\n",
            "R[write to console]: =\n",
            "R[write to console]: =\n",
            "R[write to console]: =\n",
            "R[write to console]: =\n",
            "R[write to console]: =\n",
            "R[write to console]: =\n",
            "R[write to console]: =\n",
            "R[write to console]: =\n",
            "R[write to console]: =\n",
            "R[write to console]: =\n",
            "R[write to console]: =\n",
            "R[write to console]: =\n",
            "R[write to console]: =\n",
            "R[write to console]: =\n",
            "R[write to console]: =\n",
            "R[write to console]: =\n",
            "R[write to console]: =\n",
            "R[write to console]: =\n",
            "R[write to console]: =\n",
            "R[write to console]: =\n",
            "R[write to console]: =\n",
            "R[write to console]: =\n",
            "R[write to console]: =\n",
            "R[write to console]: =\n",
            "R[write to console]: =\n",
            "R[write to console]: =\n",
            "R[write to console]: =\n",
            "R[write to console]: =\n",
            "R[write to console]: =\n",
            "R[write to console]: =\n",
            "R[write to console]: =\n",
            "R[write to console]: =\n",
            "R[write to console]: =\n",
            "R[write to console]: =\n",
            "R[write to console]: =\n",
            "R[write to console]: =\n",
            "R[write to console]: =\n",
            "R[write to console]: =\n",
            "R[write to console]: =\n",
            "R[write to console]: =\n",
            "R[write to console]: =\n",
            "R[write to console]: =\n",
            "R[write to console]: =\n",
            "R[write to console]: =\n",
            "R[write to console]: \n",
            "\n",
            "R[write to console]: downloaded 817 KB\n",
            "\n",
            "\n",
            "R[write to console]: \n",
            "\n",
            "R[write to console]: \n",
            "R[write to console]: The downloaded source packages are in\n",
            "\t‘/tmp/Rtmpd6JL5B/downloaded_packages’\n",
            "R[write to console]: \n",
            "R[write to console]: \n",
            "\n",
            "R[write to console]: Installing package into ‘/usr/local/lib/R/site-library’\n",
            "(as ‘lib’ is unspecified)\n",
            "\n",
            "R[write to console]: trying URL 'https://cran.rstudio.com/src/contrib/stringdist_0.9.5.5.tar.gz'\n",
            "\n",
            "R[write to console]: Content type 'application/x-gzip'\n",
            "R[write to console]:  length 831912 bytes (812 KB)\n",
            "\n",
            "R[write to console]: =\n",
            "R[write to console]: =\n",
            "R[write to console]: =\n",
            "R[write to console]: =\n",
            "R[write to console]: =\n",
            "R[write to console]: =\n",
            "R[write to console]: =\n",
            "R[write to console]: =\n",
            "R[write to console]: =\n",
            "R[write to console]: =\n",
            "R[write to console]: =\n",
            "R[write to console]: =\n",
            "R[write to console]: =\n",
            "R[write to console]: =\n",
            "R[write to console]: =\n",
            "R[write to console]: =\n",
            "R[write to console]: =\n",
            "R[write to console]: =\n",
            "R[write to console]: =\n",
            "R[write to console]: =\n",
            "R[write to console]: =\n",
            "R[write to console]: =\n",
            "R[write to console]: =\n",
            "R[write to console]: =\n",
            "R[write to console]: =\n",
            "R[write to console]: =\n",
            "R[write to console]: =\n",
            "R[write to console]: =\n",
            "R[write to console]: =\n",
            "R[write to console]: =\n",
            "R[write to console]: =\n",
            "R[write to console]: =\n",
            "R[write to console]: =\n",
            "R[write to console]: =\n",
            "R[write to console]: =\n",
            "R[write to console]: =\n",
            "R[write to console]: =\n",
            "R[write to console]: =\n",
            "R[write to console]: =\n",
            "R[write to console]: =\n",
            "R[write to console]: =\n",
            "R[write to console]: =\n",
            "R[write to console]: =\n",
            "R[write to console]: =\n",
            "R[write to console]: =\n",
            "R[write to console]: =\n",
            "R[write to console]: =\n",
            "R[write to console]: =\n",
            "R[write to console]: =\n",
            "R[write to console]: =\n",
            "R[write to console]: \n",
            "\n",
            "R[write to console]: downloaded 812 KB\n",
            "\n",
            "\n",
            "R[write to console]: \n",
            "\n",
            "R[write to console]: \n",
            "R[write to console]: The downloaded source packages are in\n",
            "\t‘/tmp/Rtmpd6JL5B/downloaded_packages’\n",
            "R[write to console]: \n",
            "R[write to console]: \n",
            "\n"
          ],
          "name": "stderr"
        }
      ]
    },
    {
      "cell_type": "markdown",
      "metadata": {
        "id": "x56fjfCSicrp",
        "colab_type": "text"
      },
      "source": [
        "**3. Process and save the data**\n",
        "\n",
        "Here we generate the pooled CU histograms, both from full datasets and downsampled ones. In addition, we calculate the average expression when downsampling 20 times, which will to a large extent remove the sampling noise. We then estimate the sampling noise as the difference between this mean and data that is downsampled only once."
      ]
    },
    {
      "cell_type": "code",
      "metadata": {
        "id": "V37XLBAO68oR",
        "colab_type": "code",
        "colab": {}
      },
      "source": [
        "#First set some path variables\n",
        "%%R\n",
        "source(\"GRNP_2020/RCode/pathsGoogleColab.R\")\n"
      ],
      "execution_count": 12,
      "outputs": []
    },
    {
      "cell_type": "code",
      "metadata": {
        "id": "R6kuhOmzZL_X",
        "colab_type": "code",
        "colab": {
          "base_uri": "https://localhost:8080/",
          "height": 1000
        },
        "outputId": "b26daeb8-13b2-4496-86d2-04b3af2b1fc0"
      },
      "source": [
        "#Process and filter the BUG file\n",
        "%%R\n",
        "source(paste0(sourcePath, \"ButterflyHelpers.R\"))\n",
        "\n",
        "#generate pooled histograms (for fig 3C)\n",
        "\n",
        "loadBug(\"PBMC_V3\")\n",
        "generatePooledHistogramDS(\"PBMC_V3\")\n",
        "generatePooledHistogram(\"PBMC_V3\") #these are not really used, but we generate them anyway, it is little extra effort\n",
        "rmBug(\"PBMC_V3\")\n",
        "\n",
        "loadBug(\"PBMC_V3_2\")\n",
        "generatePooledHistogramDS(\"PBMC_V3_2\")\n",
        "generatePooledHistogram(\"PBMC_V3_2\")\n",
        "rmBug(\"PBMC_V3_2\")\n",
        "\n",
        "loadBug(\"PBMC_V3_3\")\n",
        "generatePooledHistogramDS(\"PBMC_V3_3\")\n",
        "generatePooledHistogram(\"PBMC_V3_3\")\n",
        "#also downsample 20 times of PBMC_V3_3 - to enable comparison with sampling noise for fig S20\n",
        "PBMC_V3_3_ds10_20Times = downSampleBUGNTimes(getBug(\"PBMC_V3_3\", 1), 0.1, 20)\n",
        "save(PBMC_V3_3_ds10_20Times, file=paste0(figure_data_path, \"PBMC_V3_3_ds10_20Times.RData\"))\n",
        "rmBug(\"PBMC_V3_3\")\n",
        "\n",
        "loadBug(\"PBMC_NG\")\n",
        "generatePooledHistogramDS(\"PBMC_NG\")\n",
        "generatePooledHistogram(\"PBMC_NG\")\n",
        "rmBug(\"PBMC_NG\")\n",
        "\n",
        "loadBug(\"PBMC_NG_2\")\n",
        "generatePooledHistogramDS(\"PBMC_NG_2\")\n",
        "generatePooledHistogram(\"PBMC_NG_2\")\n",
        "rmBug(\"PBMC_NG_2\")\n",
        "\n",
        "loadBug(\"PBMC_V2\")\n",
        "generatePooledHistogramDS(\"PBMC_V2\")\n",
        "generatePooledHistogram(\"PBMC_V2\")\n",
        "rmBug(\"PBMC_V2\")\n",
        "\n",
        "loadBug(\"EVALPBMC\")\n",
        "generatePooledHistogramDS(\"EVALPBMC\")\n",
        "generatePooledHistogram(\"EVALPBMC\")\n",
        "rmBug(\"EVALPBMC\")\n",
        "\n"
      ],
      "execution_count": 13,
      "outputs": [
        {
          "output_type": "stream",
          "text": [
            "R[write to console]: \n",
            "Attaching package: ‘dplyr’\n",
            "\n",
            "\n",
            "R[write to console]: The following objects are masked from ‘package:stats’:\n",
            "\n",
            "    filter, lag\n",
            "\n",
            "\n",
            "R[write to console]: The following objects are masked from ‘package:base’:\n",
            "\n",
            "    intersect, setdiff, setequal, union\n",
            "\n",
            "\n"
          ],
          "name": "stderr"
        },
        {
          "output_type": "stream",
          "text": [
            "[1] \"Preparing...\"\n",
            "[1] 1\n",
            "[1] \"1:1\"\n",
            "[1] \"1:2\"\n",
            "[1] \"1:3\"\n",
            "[1] \"1:4\"\n",
            "[1] \"1:5\"\n",
            "[1] 2\n",
            "[1] \"2:1\"\n",
            "[1] \"2:2\"\n",
            "[1] \"2:3\"\n",
            "[1] \"2:4\"\n",
            "[1] \"2:5\"\n",
            "[1] 3\n",
            "[1] \"3:1\"\n",
            "[1] \"3:2\"\n",
            "[1] \"3:3\"\n",
            "[1] \"3:4\"\n",
            "[1] \"3:5\"\n",
            "[1] 4\n",
            "[1] \"4:1\"\n",
            "[1] \"4:2\"\n",
            "[1] \"4:3\"\n",
            "[1] \"4:4\"\n",
            "[1] \"4:5\"\n",
            "[1] 5\n",
            "[1] \"5:1\"\n",
            "[1] \"5:2\"\n",
            "[1] \"5:3\"\n",
            "[1] \"5:4\"\n",
            "[1] \"5:5\"\n",
            "[1] 6\n",
            "[1] \"6:1\"\n",
            "[1] \"6:2\"\n",
            "[1] \"6:3\"\n",
            "[1] \"6:4\"\n",
            "[1] \"6:5\"\n",
            "[1] 7\n",
            "[1] \"7:1\"\n",
            "[1] \"7:2\"\n",
            "[1] \"7:3\"\n",
            "[1] \"7:4\"\n",
            "[1] \"7:5\"\n",
            "[1] 8\n",
            "[1] \"8:1\"\n",
            "[1] \"8:2\"\n",
            "[1] \"8:3\"\n",
            "[1] \"8:4\"\n",
            "[1] \"8:5\"\n",
            "[1] 9\n",
            "[1] \"9:1\"\n",
            "[1] \"9:2\"\n",
            "[1] \"9:3\"\n",
            "[1] \"9:4\"\n",
            "[1] \"9:5\"\n",
            "[1] 10\n",
            "[1] \"10:1\"\n",
            "[1] \"10:2\"\n",
            "[1] \"10:3\"\n",
            "[1] \"10:4\"\n",
            "[1] \"10:5\"\n",
            "[1] \"Preparing...\"\n",
            "[1] 1\n",
            "[1] \"1:1\"\n",
            "[1] \"1:2\"\n",
            "[1] \"1:3\"\n",
            "[1] \"1:4\"\n",
            "[1] \"1:5\"\n",
            "[1] 2\n",
            "[1] \"2:1\"\n",
            "[1] \"2:2\"\n",
            "[1] \"2:3\"\n",
            "[1] \"2:4\"\n",
            "[1] \"2:5\"\n",
            "[1] 3\n",
            "[1] \"3:1\"\n",
            "[1] \"3:2\"\n",
            "[1] \"3:3\"\n",
            "[1] \"3:4\"\n",
            "[1] \"3:5\"\n",
            "[1] 4\n",
            "[1] \"4:1\"\n",
            "[1] \"4:2\"\n",
            "[1] \"4:3\"\n",
            "[1] \"4:4\"\n",
            "[1] \"4:5\"\n",
            "[1] 5\n",
            "[1] \"5:1\"\n",
            "[1] \"5:2\"\n",
            "[1] \"5:3\"\n",
            "[1] \"5:4\"\n",
            "[1] \"5:5\"\n",
            "[1] 6\n",
            "[1] \"6:1\"\n",
            "[1] \"6:2\"\n",
            "[1] \"6:3\"\n",
            "[1] \"6:4\"\n",
            "[1] \"6:5\"\n",
            "[1] 7\n",
            "[1] \"7:1\"\n",
            "[1] \"7:2\"\n",
            "[1] \"7:3\"\n",
            "[1] \"7:4\"\n",
            "[1] \"7:5\"\n",
            "[1] 8\n",
            "[1] \"8:1\"\n",
            "[1] \"8:2\"\n",
            "[1] \"8:3\"\n",
            "[1] \"8:4\"\n",
            "[1] \"8:5\"\n",
            "[1] 9\n",
            "[1] \"9:1\"\n",
            "[1] \"9:2\"\n",
            "[1] \"9:3\"\n",
            "[1] \"9:4\"\n",
            "[1] \"9:5\"\n",
            "[1] 10\n",
            "[1] \"10:1\"\n",
            "[1] \"10:2\"\n",
            "[1] \"10:3\"\n",
            "[1] \"10:4\"\n",
            "[1] \"10:5\"\n",
            "[1] \"Preparing...\"\n",
            "[1] 1\n",
            "[1] \"1:1\"\n",
            "[1] \"1:2\"\n",
            "[1] \"1:3\"\n",
            "[1] \"1:4\"\n",
            "[1] \"1:5\"\n",
            "[1] 2\n",
            "[1] \"2:1\"\n",
            "[1] \"2:2\"\n",
            "[1] \"2:3\"\n",
            "[1] \"2:4\"\n",
            "[1] \"2:5\"\n",
            "[1] 3\n",
            "[1] \"3:1\"\n",
            "[1] \"3:2\"\n",
            "[1] \"3:3\"\n",
            "[1] \"3:4\"\n",
            "[1] \"3:5\"\n",
            "[1] 4\n",
            "[1] \"4:1\"\n",
            "[1] \"4:2\"\n",
            "[1] \"4:3\"\n",
            "[1] \"4:4\"\n",
            "[1] \"4:5\"\n",
            "[1] 5\n",
            "[1] \"5:1\"\n",
            "[1] \"5:2\"\n",
            "[1] \"5:3\"\n",
            "[1] \"5:4\"\n",
            "[1] \"5:5\"\n",
            "[1] 6\n",
            "[1] \"6:1\"\n",
            "[1] \"6:2\"\n",
            "[1] \"6:3\"\n",
            "[1] \"6:4\"\n",
            "[1] \"6:5\"\n",
            "[1] 7\n",
            "[1] \"7:1\"\n",
            "[1] \"7:2\"\n",
            "[1] \"7:3\"\n",
            "[1] \"7:4\"\n",
            "[1] \"7:5\"\n",
            "[1] 8\n",
            "[1] \"8:1\"\n",
            "[1] \"8:2\"\n",
            "[1] \"8:3\"\n",
            "[1] \"8:4\"\n",
            "[1] \"8:5\"\n",
            "[1] 9\n",
            "[1] \"9:1\"\n",
            "[1] \"9:2\"\n",
            "[1] \"9:3\"\n",
            "[1] \"9:4\"\n",
            "[1] \"9:5\"\n",
            "[1] 10\n",
            "[1] \"10:1\"\n",
            "[1] \"10:2\"\n",
            "[1] \"10:3\"\n",
            "[1] \"10:4\"\n",
            "[1] \"10:5\"\n",
            "[1] \"Preparing...\"\n",
            "[1] 1\n"
          ],
          "name": "stdout"
        },
        {
          "output_type": "stream",
          "text": [
            "R[write to console]: `summarise()` ungrouping output (override with `.groups` argument)\n",
            "\n"
          ],
          "name": "stderr"
        },
        {
          "output_type": "stream",
          "text": [
            "[1] 2\n"
          ],
          "name": "stdout"
        },
        {
          "output_type": "stream",
          "text": [
            "R[write to console]: `summarise()` ungrouping output (override with `.groups` argument)\n",
            "\n"
          ],
          "name": "stderr"
        },
        {
          "output_type": "stream",
          "text": [
            "[1] 3\n"
          ],
          "name": "stdout"
        },
        {
          "output_type": "stream",
          "text": [
            "R[write to console]: `summarise()` ungrouping output (override with `.groups` argument)\n",
            "\n"
          ],
          "name": "stderr"
        },
        {
          "output_type": "stream",
          "text": [
            "[1] 4\n"
          ],
          "name": "stdout"
        },
        {
          "output_type": "stream",
          "text": [
            "R[write to console]: `summarise()` ungrouping output (override with `.groups` argument)\n",
            "\n"
          ],
          "name": "stderr"
        },
        {
          "output_type": "stream",
          "text": [
            "[1] 5\n"
          ],
          "name": "stdout"
        },
        {
          "output_type": "stream",
          "text": [
            "R[write to console]: `summarise()` ungrouping output (override with `.groups` argument)\n",
            "\n"
          ],
          "name": "stderr"
        },
        {
          "output_type": "stream",
          "text": [
            "[1] 6\n"
          ],
          "name": "stdout"
        },
        {
          "output_type": "stream",
          "text": [
            "R[write to console]: `summarise()` ungrouping output (override with `.groups` argument)\n",
            "\n"
          ],
          "name": "stderr"
        },
        {
          "output_type": "stream",
          "text": [
            "[1] 7\n"
          ],
          "name": "stdout"
        },
        {
          "output_type": "stream",
          "text": [
            "R[write to console]: `summarise()` ungrouping output (override with `.groups` argument)\n",
            "\n"
          ],
          "name": "stderr"
        },
        {
          "output_type": "stream",
          "text": [
            "[1] 8\n"
          ],
          "name": "stdout"
        },
        {
          "output_type": "stream",
          "text": [
            "R[write to console]: `summarise()` ungrouping output (override with `.groups` argument)\n",
            "\n"
          ],
          "name": "stderr"
        },
        {
          "output_type": "stream",
          "text": [
            "[1] 9\n"
          ],
          "name": "stdout"
        },
        {
          "output_type": "stream",
          "text": [
            "R[write to console]: `summarise()` ungrouping output (override with `.groups` argument)\n",
            "\n"
          ],
          "name": "stderr"
        },
        {
          "output_type": "stream",
          "text": [
            "[1] 10\n"
          ],
          "name": "stdout"
        },
        {
          "output_type": "stream",
          "text": [
            "R[write to console]: `summarise()` ungrouping output (override with `.groups` argument)\n",
            "\n"
          ],
          "name": "stderr"
        },
        {
          "output_type": "stream",
          "text": [
            "[1] 11\n"
          ],
          "name": "stdout"
        },
        {
          "output_type": "stream",
          "text": [
            "R[write to console]: `summarise()` ungrouping output (override with `.groups` argument)\n",
            "\n"
          ],
          "name": "stderr"
        },
        {
          "output_type": "stream",
          "text": [
            "[1] 12\n"
          ],
          "name": "stdout"
        },
        {
          "output_type": "stream",
          "text": [
            "R[write to console]: `summarise()` ungrouping output (override with `.groups` argument)\n",
            "\n"
          ],
          "name": "stderr"
        },
        {
          "output_type": "stream",
          "text": [
            "[1] 13\n"
          ],
          "name": "stdout"
        },
        {
          "output_type": "stream",
          "text": [
            "R[write to console]: `summarise()` ungrouping output (override with `.groups` argument)\n",
            "\n"
          ],
          "name": "stderr"
        },
        {
          "output_type": "stream",
          "text": [
            "[1] 14\n"
          ],
          "name": "stdout"
        },
        {
          "output_type": "stream",
          "text": [
            "R[write to console]: `summarise()` ungrouping output (override with `.groups` argument)\n",
            "\n"
          ],
          "name": "stderr"
        },
        {
          "output_type": "stream",
          "text": [
            "[1] 15\n"
          ],
          "name": "stdout"
        },
        {
          "output_type": "stream",
          "text": [
            "R[write to console]: `summarise()` ungrouping output (override with `.groups` argument)\n",
            "\n"
          ],
          "name": "stderr"
        },
        {
          "output_type": "stream",
          "text": [
            "[1] 16\n"
          ],
          "name": "stdout"
        },
        {
          "output_type": "stream",
          "text": [
            "R[write to console]: `summarise()` ungrouping output (override with `.groups` argument)\n",
            "\n"
          ],
          "name": "stderr"
        },
        {
          "output_type": "stream",
          "text": [
            "[1] 17\n"
          ],
          "name": "stdout"
        },
        {
          "output_type": "stream",
          "text": [
            "R[write to console]: `summarise()` ungrouping output (override with `.groups` argument)\n",
            "\n"
          ],
          "name": "stderr"
        },
        {
          "output_type": "stream",
          "text": [
            "[1] 18\n"
          ],
          "name": "stdout"
        },
        {
          "output_type": "stream",
          "text": [
            "R[write to console]: `summarise()` ungrouping output (override with `.groups` argument)\n",
            "\n"
          ],
          "name": "stderr"
        },
        {
          "output_type": "stream",
          "text": [
            "[1] 19\n"
          ],
          "name": "stdout"
        },
        {
          "output_type": "stream",
          "text": [
            "R[write to console]: `summarise()` ungrouping output (override with `.groups` argument)\n",
            "\n"
          ],
          "name": "stderr"
        },
        {
          "output_type": "stream",
          "text": [
            "[1] 20\n"
          ],
          "name": "stdout"
        },
        {
          "output_type": "stream",
          "text": [
            "R[write to console]: `summarise()` ungrouping output (override with `.groups` argument)\n",
            "\n"
          ],
          "name": "stderr"
        },
        {
          "output_type": "stream",
          "text": [
            "[1] \"Preparing...\"\n",
            "[1] 1\n",
            "[1] \"1:1\"\n",
            "[1] \"1:2\"\n",
            "[1] \"1:3\"\n",
            "[1] \"1:4\"\n",
            "[1] \"1:5\"\n",
            "[1] 2\n",
            "[1] \"2:1\"\n",
            "[1] \"2:2\"\n",
            "[1] \"2:3\"\n",
            "[1] \"2:4\"\n",
            "[1] \"2:5\"\n",
            "[1] 3\n",
            "[1] \"3:1\"\n",
            "[1] \"3:2\"\n",
            "[1] \"3:3\"\n",
            "[1] \"3:4\"\n",
            "[1] \"3:5\"\n",
            "[1] 4\n",
            "[1] \"4:1\"\n",
            "[1] \"4:2\"\n",
            "[1] \"4:3\"\n",
            "[1] \"4:4\"\n",
            "[1] \"4:5\"\n",
            "[1] 5\n",
            "[1] \"5:1\"\n",
            "[1] \"5:2\"\n",
            "[1] \"5:3\"\n",
            "[1] \"5:4\"\n",
            "[1] \"5:5\"\n",
            "[1] 6\n",
            "[1] \"6:1\"\n",
            "[1] \"6:2\"\n",
            "[1] \"6:3\"\n",
            "[1] \"6:4\"\n",
            "[1] \"6:5\"\n",
            "[1] 7\n",
            "[1] \"7:1\"\n",
            "[1] \"7:2\"\n",
            "[1] \"7:3\"\n",
            "[1] \"7:4\"\n",
            "[1] \"7:5\"\n",
            "[1] 8\n",
            "[1] \"8:1\"\n",
            "[1] \"8:2\"\n",
            "[1] \"8:3\"\n",
            "[1] \"8:4\"\n",
            "[1] \"8:5\"\n",
            "[1] 9\n",
            "[1] \"9:1\"\n",
            "[1] \"9:2\"\n",
            "[1] \"9:3\"\n",
            "[1] \"9:4\"\n",
            "[1] \"9:5\"\n",
            "[1] 10\n",
            "[1] \"10:1\"\n",
            "[1] \"10:2\"\n",
            "[1] \"10:3\"\n",
            "[1] \"10:4\"\n",
            "[1] \"10:5\"\n",
            "[1] \"Preparing...\"\n",
            "[1] 1\n",
            "[1] \"1:1\"\n",
            "[1] \"1:2\"\n",
            "[1] \"1:3\"\n",
            "[1] \"1:4\"\n",
            "[1] \"1:5\"\n",
            "[1] 2\n",
            "[1] \"2:1\"\n",
            "[1] \"2:2\"\n",
            "[1] \"2:3\"\n",
            "[1] \"2:4\"\n",
            "[1] \"2:5\"\n",
            "[1] 3\n",
            "[1] \"3:1\"\n",
            "[1] \"3:2\"\n",
            "[1] \"3:3\"\n",
            "[1] \"3:4\"\n",
            "[1] \"3:5\"\n",
            "[1] 4\n",
            "[1] \"4:1\"\n",
            "[1] \"4:2\"\n",
            "[1] \"4:3\"\n",
            "[1] \"4:4\"\n",
            "[1] \"4:5\"\n",
            "[1] 5\n",
            "[1] \"5:1\"\n",
            "[1] \"5:2\"\n",
            "[1] \"5:3\"\n",
            "[1] \"5:4\"\n",
            "[1] \"5:5\"\n",
            "[1] 6\n",
            "[1] \"6:1\"\n",
            "[1] \"6:2\"\n",
            "[1] \"6:3\"\n",
            "[1] \"6:4\"\n",
            "[1] \"6:5\"\n",
            "[1] 7\n",
            "[1] \"7:1\"\n",
            "[1] \"7:2\"\n",
            "[1] \"7:3\"\n",
            "[1] \"7:4\"\n",
            "[1] \"7:5\"\n",
            "[1] 8\n",
            "[1] \"8:1\"\n",
            "[1] \"8:2\"\n",
            "[1] \"8:3\"\n",
            "[1] \"8:4\"\n",
            "[1] \"8:5\"\n",
            "[1] 9\n",
            "[1] \"9:1\"\n",
            "[1] \"9:2\"\n",
            "[1] \"9:3\"\n",
            "[1] \"9:4\"\n",
            "[1] \"9:5\"\n",
            "[1] 10\n",
            "[1] \"10:1\"\n",
            "[1] \"10:2\"\n",
            "[1] \"10:3\"\n",
            "[1] \"10:4\"\n",
            "[1] \"10:5\"\n",
            "[1] \"Preparing...\"\n",
            "[1] 1\n",
            "[1] \"1:1\"\n",
            "[1] \"1:2\"\n",
            "[1] \"1:3\"\n",
            "[1] \"1:4\"\n",
            "[1] \"1:5\"\n",
            "[1] 2\n",
            "[1] \"2:1\"\n",
            "[1] \"2:2\"\n",
            "[1] \"2:3\"\n",
            "[1] \"2:4\"\n",
            "[1] \"2:5\"\n",
            "[1] 3\n",
            "[1] \"3:1\"\n",
            "[1] \"3:2\"\n",
            "[1] \"3:3\"\n",
            "[1] \"3:4\"\n",
            "[1] \"3:5\"\n",
            "[1] 4\n",
            "[1] \"4:1\"\n",
            "[1] \"4:2\"\n",
            "[1] \"4:3\"\n",
            "[1] \"4:4\"\n",
            "[1] \"4:5\"\n",
            "[1] 5\n",
            "[1] \"5:1\"\n",
            "[1] \"5:2\"\n",
            "[1] \"5:3\"\n",
            "[1] \"5:4\"\n",
            "[1] \"5:5\"\n",
            "[1] 6\n",
            "[1] \"6:1\"\n",
            "[1] \"6:2\"\n",
            "[1] \"6:3\"\n",
            "[1] \"6:4\"\n",
            "[1] \"6:5\"\n",
            "[1] 7\n",
            "[1] \"7:1\"\n",
            "[1] \"7:2\"\n",
            "[1] \"7:3\"\n",
            "[1] \"7:4\"\n",
            "[1] \"7:5\"\n",
            "[1] 8\n",
            "[1] \"8:1\"\n",
            "[1] \"8:2\"\n",
            "[1] \"8:3\"\n",
            "[1] \"8:4\"\n",
            "[1] \"8:5\"\n",
            "[1] 9\n",
            "[1] \"9:1\"\n",
            "[1] \"9:2\"\n",
            "[1] \"9:3\"\n",
            "[1] \"9:4\"\n",
            "[1] \"9:5\"\n",
            "[1] 10\n",
            "[1] \"10:1\"\n",
            "[1] \"10:2\"\n",
            "[1] \"10:3\"\n",
            "[1] \"10:4\"\n",
            "[1] \"10:5\"\n",
            "[1] \"Preparing...\"\n",
            "[1] 1\n",
            "[1] \"1:1\"\n",
            "[1] \"1:2\"\n",
            "[1] \"1:3\"\n",
            "[1] \"1:4\"\n",
            "[1] \"1:5\"\n",
            "[1] 2\n",
            "[1] \"2:1\"\n",
            "[1] \"2:2\"\n",
            "[1] \"2:3\"\n",
            "[1] \"2:4\"\n",
            "[1] \"2:5\"\n",
            "[1] 3\n",
            "[1] \"3:1\"\n",
            "[1] \"3:2\"\n",
            "[1] \"3:3\"\n",
            "[1] \"3:4\"\n",
            "[1] \"3:5\"\n",
            "[1] 4\n",
            "[1] \"4:1\"\n",
            "[1] \"4:2\"\n",
            "[1] \"4:3\"\n",
            "[1] \"4:4\"\n",
            "[1] \"4:5\"\n",
            "[1] 5\n",
            "[1] \"5:1\"\n",
            "[1] \"5:2\"\n",
            "[1] \"5:3\"\n",
            "[1] \"5:4\"\n",
            "[1] \"5:5\"\n",
            "[1] 6\n",
            "[1] \"6:1\"\n",
            "[1] \"6:2\"\n",
            "[1] \"6:3\"\n",
            "[1] \"6:4\"\n",
            "[1] \"6:5\"\n",
            "[1] 7\n",
            "[1] \"7:1\"\n",
            "[1] \"7:2\"\n",
            "[1] \"7:3\"\n",
            "[1] \"7:4\"\n",
            "[1] \"7:5\"\n",
            "[1] 8\n",
            "[1] \"8:1\"\n",
            "[1] \"8:2\"\n",
            "[1] \"8:3\"\n",
            "[1] \"8:4\"\n",
            "[1] \"8:5\"\n",
            "[1] 9\n",
            "[1] \"9:1\"\n",
            "[1] \"9:2\"\n",
            "[1] \"9:3\"\n",
            "[1] \"9:4\"\n",
            "[1] \"9:5\"\n",
            "[1] 10\n",
            "[1] \"10:1\"\n",
            "[1] \"10:2\"\n",
            "[1] \"10:3\"\n",
            "[1] \"10:4\"\n",
            "[1] \"10:5\"\n"
          ],
          "name": "stdout"
        }
      ]
    },
    {
      "cell_type": "code",
      "metadata": {
        "id": "Cb5DifYYcB6g",
        "colab_type": "code",
        "colab": {
          "base_uri": "https://localhost:8080/",
          "height": 170
        },
        "outputId": "3cc0ebc2-646e-4957-84a2-15575300a1b6"
      },
      "source": [
        "!cd figureData && ls -l "
      ],
      "execution_count": 14,
      "outputs": [
        {
          "output_type": "stream",
          "text": [
            "total 160\n",
            "drwxr-xr-x 2 root root   4096 Jul  1 20:29 EVALPBMC\n",
            "drwxr-xr-x 2 root root   4096 Jul  1 22:18 PBMC_NG\n",
            "drwxr-xr-x 2 root root   4096 Jul  1 22:37 PBMC_NG_2\n",
            "drwxr-xr-x 2 root root   4096 Jul  1 22:52 PBMC_V2\n",
            "drwxr-xr-x 2 root root   4096 Jul  1 21:27 PBMC_V3\n",
            "drwxr-xr-x 2 root root   4096 Jul  1 21:43 PBMC_V3_2\n",
            "drwxr-xr-x 2 root root   4096 Jul  1 22:03 PBMC_V3_3\n",
            "-rw-r--r-- 1 root root 133187 Jul  2 19:45 PBMC_V3_3_ds10_20Times.RData\n"
          ],
          "name": "stdout"
        }
      ]
    }
  ]
}