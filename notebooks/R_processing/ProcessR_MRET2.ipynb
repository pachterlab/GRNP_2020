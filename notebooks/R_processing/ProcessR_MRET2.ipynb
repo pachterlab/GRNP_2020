{
  "nbformat": 4,
  "nbformat_minor": 0,
  "metadata": {
    "colab": {
      "name": "ProcessR_MRET2.ipynb",
      "provenance": [],
      "collapsed_sections": []
    },
    "kernelspec": {
      "name": "python3",
      "display_name": "Python 3"
    }
  },
  "cells": [
    {
      "cell_type": "markdown",
      "metadata": {
        "id": "dhydD96df06z",
        "colab_type": "text"
      },
      "source": [
        "**Processes the BUG files into files prepared for use in R**\n",
        "1. Clone the code repo and download data to process\n",
        "2. Prepare the R environment\n",
        "3. Process the data\n",
        "4. Generate statistics for the dataset"
      ]
    },
    {
      "cell_type": "markdown",
      "metadata": {
        "id": "h8RnKVMXgbzr",
        "colab_type": "text"
      },
      "source": [
        "**1. Clone the code repo and download data to process**"
      ]
    },
    {
      "cell_type": "code",
      "metadata": {
        "id": "doUAtCxIyOiI",
        "colab_type": "code",
        "colab": {
          "base_uri": "https://localhost:8080/",
          "height": 136
        },
        "outputId": "55bc0198-ed26-4001-e015-b8e8c6e2e568"
      },
      "source": [
        "![ -d \"GRNP_2020\" ] && rm -r GRNP_2020\n",
        "\n",
        "!git clone https://github.com/pachterlab/GRNP_2020.git\n"
      ],
      "execution_count": 11,
      "outputs": [
        {
          "output_type": "stream",
          "text": [
            "Cloning into 'GRNP_2020'...\n",
            "remote: Enumerating objects: 172, done.\u001b[K\n",
            "remote: Counting objects: 100% (172/172), done.\u001b[K\n",
            "remote: Compressing objects: 100% (120/120), done.\u001b[K\n",
            "remote: Total 172 (delta 68), reused 115 (delta 34), pack-reused 0\u001b[K\n",
            "Receiving objects: 100% (172/172), 7.10 MiB | 5.51 MiB/s, done.\n",
            "Resolving deltas: 100% (68/68), done.\n"
          ],
          "name": "stdout"
        }
      ]
    },
    {
      "cell_type": "code",
      "metadata": {
        "id": "dUNSQ1qBZb2g",
        "colab_type": "code",
        "colab": {
          "base_uri": "https://localhost:8080/",
          "height": 306
        },
        "outputId": "a1a5848f-ef19-48eb-b446-2e709658186e"
      },
      "source": [
        "#download BUG data from Zenodo\n",
        "!mkdir data\n",
        "!cd data && wget https://zenodo.org/record/3911637/files/MRET2.zip?download=1 && unzip 'MRET2.zip?download=1' && rm 'MRET2.zip?download=1'"
      ],
      "execution_count": 2,
      "outputs": [
        {
          "output_type": "stream",
          "text": [
            "--2020-06-28 16:40:29--  https://zenodo.org/record/3911637/files/MRET2.zip?download=1\n",
            "Resolving zenodo.org (zenodo.org)... 188.184.117.155\n",
            "Connecting to zenodo.org (zenodo.org)|188.184.117.155|:443... connected.\n",
            "HTTP request sent, awaiting response... 200 OK\n",
            "Length: 71831345 (69M) [application/octet-stream]\n",
            "Saving to: ‘MRET2.zip?download=1’\n",
            "\n",
            "MRET2.zip?download=1 100%[===================>]  68.50M  2.22MB/s    in 46s     \n",
            "\n",
            "2020-06-28 16:41:17 (1.50 MB/s) - ‘MRET2.zip?download=1’ saved [71831345/71831345]\n",
            "\n",
            "Archive:  MRET2.zip?download=1\n",
            "   creating: MRET2/\n",
            "   creating: MRET2/bus_output/\n",
            "  inflating: MRET2/bus_output/bug.txt  \n",
            "  inflating: MRET2/bus_output/coll.genes.txt  \n",
            "  inflating: MRET2/bus_output/transcripts_to_genes.txt  \n"
          ],
          "name": "stdout"
        }
      ]
    },
    {
      "cell_type": "code",
      "metadata": {
        "id": "oesgTqLO0Qje",
        "colab_type": "code",
        "colab": {
          "base_uri": "https://localhost:8080/",
          "height": 119
        },
        "outputId": "d060b447-1a23-4999-f599-f0e1845ddc77"
      },
      "source": [
        "#Check that download worked\n",
        "!cd data && ls -l && cd MRET2/bus_output && ls -l"
      ],
      "execution_count": 3,
      "outputs": [
        {
          "output_type": "stream",
          "text": [
            "total 4\n",
            "drwxr-xr-x 3 root root 4096 Jun 28 12:42 MRET2\n",
            "total 300376\n",
            "-rw-r--r-- 1 root root 300813629 Mar 16 12:47 bug.txt\n",
            "-rw-r--r-- 1 root root    779656 Mar 16 11:26 coll.genes.txt\n",
            "-rw-r--r-- 1 root root   5983758 Mar 16 09:57 transcripts_to_genes.txt\n"
          ],
          "name": "stdout"
        }
      ]
    },
    {
      "cell_type": "markdown",
      "metadata": {
        "id": "sCmhNVdYgkWH",
        "colab_type": "text"
      },
      "source": [
        "**2. Prepare the R environment**"
      ]
    },
    {
      "cell_type": "code",
      "metadata": {
        "id": "5Gt6rQkSXriM",
        "colab_type": "code",
        "colab": {
          "base_uri": "https://localhost:8080/",
          "height": 85
        },
        "outputId": "799b2045-77d5-42ef-903a-ea181478a80c"
      },
      "source": [
        "#switch to R mode\n",
        "%reload_ext rpy2.ipython\n"
      ],
      "execution_count": 4,
      "outputs": [
        {
          "output_type": "stream",
          "text": [
            "/usr/local/lib/python3.6/dist-packages/rpy2/robjects/pandas2ri.py:14: FutureWarning: pandas.core.index is deprecated and will be removed in a future version.  The public classes are available in the top-level namespace.\n",
            "  from pandas.core.index import Index as PandasIndex\n",
            "/usr/local/lib/python3.6/dist-packages/rpy2/robjects/pandas2ri.py:34: UserWarning: pandas >= 1.0 is not supported.\n",
            "  warnings.warn('pandas >= 1.0 is not supported.')\n"
          ],
          "name": "stderr"
        }
      ]
    },
    {
      "cell_type": "code",
      "metadata": {
        "id": "jJ3rQJCdgeJa",
        "colab_type": "code",
        "colab": {
          "base_uri": "https://localhost:8080/",
          "height": 1000
        },
        "outputId": "6c54baec-bc36-4602-a441-589d7026ea93"
      },
      "source": [
        "#install the R packages\n",
        "%%R\n",
        "sourcePath = \"GRNP_2020/NotebookAdaptedRCode/\"\n",
        "install.packages(\"qdapTools\")\n",
        "install.packages(\"dplyr\")\n",
        "install.packages(\"stringdist\")\n"
      ],
      "execution_count": 14,
      "outputs": [
        {
          "output_type": "stream",
          "text": [
            "R[write to console]: Installing package into ‘/usr/local/lib/R/site-library’\n",
            "(as ‘lib’ is unspecified)\n",
            "\n",
            "R[write to console]: trying URL 'https://cran.rstudio.com/src/contrib/qdapTools_1.3.5.tar.gz'\n",
            "\n",
            "R[write to console]: Content type 'application/x-gzip'\n",
            "R[write to console]:  length 36880 bytes (36 KB)\n",
            "\n",
            "R[write to console]: =\n",
            "R[write to console]: =\n",
            "R[write to console]: =\n",
            "R[write to console]: =\n",
            "R[write to console]: =\n",
            "R[write to console]: =\n",
            "R[write to console]: =\n",
            "R[write to console]: =\n",
            "R[write to console]: =\n",
            "R[write to console]: =\n",
            "R[write to console]: =\n",
            "R[write to console]: =\n",
            "R[write to console]: =\n",
            "R[write to console]: =\n",
            "R[write to console]: =\n",
            "R[write to console]: =\n",
            "R[write to console]: =\n",
            "R[write to console]: =\n",
            "R[write to console]: =\n",
            "R[write to console]: =\n",
            "R[write to console]: =\n",
            "R[write to console]: =\n",
            "R[write to console]: =\n",
            "R[write to console]: =\n",
            "R[write to console]: =\n",
            "R[write to console]: =\n",
            "R[write to console]: =\n",
            "R[write to console]: =\n",
            "R[write to console]: =\n",
            "R[write to console]: =\n",
            "R[write to console]: =\n",
            "R[write to console]: =\n",
            "R[write to console]: =\n",
            "R[write to console]: =\n",
            "R[write to console]: =\n",
            "R[write to console]: =\n",
            "R[write to console]: =\n",
            "R[write to console]: =\n",
            "R[write to console]: =\n",
            "R[write to console]: =\n",
            "R[write to console]: =\n",
            "R[write to console]: =\n",
            "R[write to console]: =\n",
            "R[write to console]: =\n",
            "R[write to console]: =\n",
            "R[write to console]: =\n",
            "R[write to console]: =\n",
            "R[write to console]: =\n",
            "R[write to console]: =\n",
            "R[write to console]: =\n",
            "R[write to console]: \n",
            "\n",
            "R[write to console]: downloaded 36 KB\n",
            "\n",
            "\n",
            "R[write to console]: \n",
            "\n",
            "R[write to console]: \n",
            "R[write to console]: The downloaded source packages are in\n",
            "\t‘/tmp/Rtmp35R8ud/downloaded_packages’\n",
            "R[write to console]: \n",
            "R[write to console]: \n",
            "\n",
            "R[write to console]: Installing package into ‘/usr/local/lib/R/site-library’\n",
            "(as ‘lib’ is unspecified)\n",
            "\n",
            "R[write to console]: trying URL 'https://cran.rstudio.com/src/contrib/dplyr_1.0.0.tar.gz'\n",
            "\n",
            "R[write to console]: Content type 'application/x-gzip'\n",
            "R[write to console]:  length 836651 bytes (817 KB)\n",
            "\n",
            "R[write to console]: =\n",
            "R[write to console]: =\n",
            "R[write to console]: =\n",
            "R[write to console]: =\n",
            "R[write to console]: =\n",
            "R[write to console]: =\n",
            "R[write to console]: =\n",
            "R[write to console]: =\n",
            "R[write to console]: =\n",
            "R[write to console]: =\n",
            "R[write to console]: =\n",
            "R[write to console]: =\n",
            "R[write to console]: =\n",
            "R[write to console]: =\n",
            "R[write to console]: =\n",
            "R[write to console]: =\n",
            "R[write to console]: =\n",
            "R[write to console]: =\n",
            "R[write to console]: =\n",
            "R[write to console]: =\n",
            "R[write to console]: =\n",
            "R[write to console]: =\n",
            "R[write to console]: =\n",
            "R[write to console]: =\n",
            "R[write to console]: =\n",
            "R[write to console]: =\n",
            "R[write to console]: =\n",
            "R[write to console]: =\n",
            "R[write to console]: =\n",
            "R[write to console]: =\n",
            "R[write to console]: =\n",
            "R[write to console]: =\n",
            "R[write to console]: =\n",
            "R[write to console]: =\n",
            "R[write to console]: =\n",
            "R[write to console]: =\n",
            "R[write to console]: =\n",
            "R[write to console]: =\n",
            "R[write to console]: =\n",
            "R[write to console]: =\n",
            "R[write to console]: =\n",
            "R[write to console]: =\n",
            "R[write to console]: =\n",
            "R[write to console]: =\n",
            "R[write to console]: =\n",
            "R[write to console]: =\n",
            "R[write to console]: =\n",
            "R[write to console]: =\n",
            "R[write to console]: =\n",
            "R[write to console]: =\n",
            "R[write to console]: \n",
            "\n",
            "R[write to console]: downloaded 817 KB\n",
            "\n",
            "\n",
            "R[write to console]: \n",
            "\n",
            "R[write to console]: \n",
            "R[write to console]: The downloaded source packages are in\n",
            "\t‘/tmp/Rtmp35R8ud/downloaded_packages’\n",
            "R[write to console]: \n",
            "R[write to console]: \n",
            "\n",
            "R[write to console]: Installing package into ‘/usr/local/lib/R/site-library’\n",
            "(as ‘lib’ is unspecified)\n",
            "\n",
            "R[write to console]: trying URL 'https://cran.rstudio.com/src/contrib/stringdist_0.9.5.5.tar.gz'\n",
            "\n",
            "R[write to console]: Content type 'application/x-gzip'\n",
            "R[write to console]:  length 831912 bytes (812 KB)\n",
            "\n",
            "R[write to console]: =\n",
            "R[write to console]: =\n",
            "R[write to console]: =\n",
            "R[write to console]: =\n",
            "R[write to console]: =\n",
            "R[write to console]: =\n",
            "R[write to console]: =\n",
            "R[write to console]: =\n",
            "R[write to console]: =\n",
            "R[write to console]: =\n",
            "R[write to console]: =\n",
            "R[write to console]: =\n",
            "R[write to console]: =\n",
            "R[write to console]: =\n",
            "R[write to console]: =\n",
            "R[write to console]: =\n",
            "R[write to console]: =\n",
            "R[write to console]: =\n",
            "R[write to console]: =\n",
            "R[write to console]: =\n",
            "R[write to console]: =\n",
            "R[write to console]: =\n",
            "R[write to console]: =\n",
            "R[write to console]: =\n",
            "R[write to console]: =\n",
            "R[write to console]: =\n",
            "R[write to console]: =\n",
            "R[write to console]: =\n",
            "R[write to console]: =\n",
            "R[write to console]: =\n",
            "R[write to console]: =\n",
            "R[write to console]: =\n",
            "R[write to console]: =\n",
            "R[write to console]: =\n",
            "R[write to console]: =\n",
            "R[write to console]: =\n",
            "R[write to console]: =\n",
            "R[write to console]: =\n",
            "R[write to console]: =\n",
            "R[write to console]: =\n",
            "R[write to console]: =\n",
            "R[write to console]: =\n",
            "R[write to console]: =\n",
            "R[write to console]: =\n",
            "R[write to console]: =\n",
            "R[write to console]: =\n",
            "R[write to console]: =\n",
            "R[write to console]: =\n",
            "R[write to console]: =\n",
            "R[write to console]: =\n",
            "R[write to console]: \n",
            "\n",
            "R[write to console]: downloaded 812 KB\n",
            "\n",
            "\n",
            "R[write to console]: \n",
            "\n",
            "R[write to console]: \n",
            "R[write to console]: The downloaded source packages are in\n",
            "\t‘/tmp/Rtmp35R8ud/downloaded_packages’\n",
            "R[write to console]: \n",
            "R[write to console]: \n",
            "\n"
          ],
          "name": "stderr"
        }
      ]
    },
    {
      "cell_type": "markdown",
      "metadata": {
        "id": "x56fjfCSicrp",
        "colab_type": "text"
      },
      "source": [
        "**3. Process the data**\n",
        "\n",
        "Here we discard multimapped UMIs and all UMIs belonging to cells with fewer than 200 UMIs. We also precalculate gene expression, fraction of single-copy molecules etc. and save as stats (statistics). These can later be used when generating figures. We also generate down-sampled BUGs."
      ]
    },
    {
      "cell_type": "code",
      "metadata": {
        "id": "sSlWuq94lvCO",
        "colab_type": "code",
        "colab": {}
      },
      "source": [
        "#create output directory\n",
        "!mkdir figureData"
      ],
      "execution_count": 7,
      "outputs": []
    },
    {
      "cell_type": "code",
      "metadata": {
        "id": "R6kuhOmzZL_X",
        "colab_type": "code",
        "colab": {
          "base_uri": "https://localhost:8080/",
          "height": 1000
        },
        "outputId": "2dd945b6-577f-4010-86c6-1743f531c666"
      },
      "source": [
        "#Process and filter the BUG file\n",
        "%%R\n",
        "source(paste0(sourcePath, \"BUGProcessingHelpers.R\"))\n",
        "createStandardBugsData(paste0(dataPath,\"MRET2/\"), \"MRET2\", c(0.05, 0.1, 0.2, 0.4, 0.6, 0.8, 1))\n",
        "\n"
      ],
      "execution_count": 12,
      "outputs": [
        {
          "output_type": "stream",
          "text": [
            "[1] \"Generating data for MRET2\"\n",
            "[1] \"Reading BUG from data/MRET2/ ...\"\n",
            "[1] \"Filtering multi-mapped reads...\"\n",
            "[1] \"Fraction multi-mapped reads: 0.177481439356937\"\n",
            "[1] \"Converting genes...\"\n",
            "[1] \"Done\"\n",
            "[1] \"Down-sampling in total 7 bugs:\"\n",
            "[1] \"1: Down-sampling to 0.05\"\n",
            "[1] \"1\"\n",
            "[1] \"2\"\n",
            "[1] \"3\"\n",
            "[1] \"4\"\n",
            "[1] \"5\"\n",
            "[1] \"6\"\n",
            "[1] \"7\"\n",
            "[1] \"8\"\n",
            "[1] \"9\"\n",
            "[1] \"2: Down-sampling to 0.1\"\n",
            "[1] \"1\"\n",
            "[1] \"2\"\n",
            "[1] \"3\"\n",
            "[1] \"4\"\n",
            "[1] \"5\"\n",
            "[1] \"6\"\n",
            "[1] \"7\"\n",
            "[1] \"8\"\n",
            "[1] \"9\"\n",
            "[1] \"3: Down-sampling to 0.2\"\n",
            "[1] \"1\"\n",
            "[1] \"2\"\n",
            "[1] \"3\"\n",
            "[1] \"4\"\n",
            "[1] \"5\"\n",
            "[1] \"6\"\n",
            "[1] \"7\"\n",
            "[1] \"8\"\n",
            "[1] \"9\"\n",
            "[1] \"4: Down-sampling to 0.4\"\n",
            "[1] \"1\"\n",
            "[1] \"2\"\n",
            "[1] \"3\"\n",
            "[1] \"4\"\n",
            "[1] \"5\"\n",
            "[1] \"6\"\n",
            "[1] \"7\"\n",
            "[1] \"8\"\n",
            "[1] \"9\"\n",
            "[1] \"5: Down-sampling to 0.6\"\n",
            "[1] \"1\"\n",
            "[1] \"2\"\n",
            "[1] \"3\"\n",
            "[1] \"4\"\n",
            "[1] \"5\"\n",
            "[1] \"6\"\n",
            "[1] \"7\"\n",
            "[1] \"8\"\n",
            "[1] \"9\"\n",
            "[1] \"6: Down-sampling to 0.8\"\n",
            "[1] \"1\"\n",
            "[1] \"2\"\n",
            "[1] \"3\"\n",
            "[1] \"4\"\n",
            "[1] \"5\"\n",
            "[1] \"6\"\n",
            "[1] \"7\"\n",
            "[1] \"8\"\n",
            "[1] \"9\"\n",
            "[1] \"7: Down-sampling to 1\"\n",
            "[1] \"Done\"\n"
          ],
          "name": "stdout"
        },
        {
          "output_type": "stream",
          "text": [
            "R[write to console]: `summarise()` ungrouping output (override with `.groups` argument)\n",
            "\n",
            "R[write to console]: `summarise()` ungrouping output (override with `.groups` argument)\n",
            "\n",
            "R[write to console]: `summarise()` ungrouping output (override with `.groups` argument)\n",
            "\n",
            "R[write to console]: `summarise()` ungrouping output (override with `.groups` argument)\n",
            "\n",
            "R[write to console]: `summarise()` ungrouping output (override with `.groups` argument)\n",
            "\n",
            "R[write to console]: `summarise()` ungrouping output (override with `.groups` argument)\n",
            "\n",
            "R[write to console]: `summarise()` ungrouping output (override with `.groups` argument)\n",
            "\n"
          ],
          "name": "stderr"
        },
        {
          "output_type": "stream",
          "text": [
            "[1] \"Saving BUG...\"\n",
            "[1] \"Saving BUGs...\"\n",
            "[1] \"Saving stats...\"\n"
          ],
          "name": "stdout"
        }
      ]
    },
    {
      "cell_type": "markdown",
      "metadata": {
        "id": "YsqeFNdtnLsc",
        "colab_type": "text"
      },
      "source": [
        "**4. Generate statistics for the dataset**\n",
        "\n",
        "Here we create a file with various statistics for the dataset. This processing is rather time-consuming."
      ]
    },
    {
      "cell_type": "code",
      "metadata": {
        "id": "CffgQFeiW2tc",
        "colab_type": "code",
        "colab": {
          "base_uri": "https://localhost:8080/",
          "height": 1000
        },
        "outputId": "079f1f2a-5a09-4dc6-f425-c18f5b796580"
      },
      "source": [
        "%%R\n",
        "source(paste0(sourcePath, \"GenBugSummary.R\"))\n",
        "genBugSummary(\"MRET2\", \"Vmn1r13\", \"Ubb\", 10)"
      ],
      "execution_count": 15,
      "outputs": [
        {
          "output_type": "stream",
          "text": [
            "[1] \"Will process 1229 UMIs\"\n",
            "[1] 100\n",
            "[1] 200\n",
            "[1] 300\n",
            "[1] 400\n",
            "[1] 500\n",
            "[1] 600\n",
            "[1] 700\n",
            "[1] 800\n",
            "[1] 900\n",
            "[1] 1000\n",
            "[1] 1100\n",
            "[1] 1200\n",
            "[1] \"Down-sampling to 2000 UMIs\"\n",
            "[1] \"Will process 2000 UMIs\"\n",
            "[1] 100\n",
            "[1] 200\n",
            "[1] 300\n",
            "[1] 400\n",
            "[1] 500\n",
            "[1] 600\n",
            "[1] 700\n",
            "[1] 800\n",
            "[1] 900\n",
            "[1] 1000\n",
            "[1] 1100\n",
            "[1] 1200\n",
            "[1] 1300\n",
            "[1] 1400\n",
            "[1] 1500\n",
            "[1] 1600\n",
            "[1] 1700\n",
            "[1] 1800\n",
            "[1] 1900\n",
            "[1] 2000\n",
            "[1] \"Down-sampling to 2000 UMIs\"\n",
            "[1] \"Will process 2000 UMIs\"\n",
            "[1] 100\n",
            "[1] 200\n",
            "[1] 300\n",
            "[1] 400\n",
            "[1] 500\n",
            "[1] 600\n",
            "[1] 700\n",
            "[1] 800\n",
            "[1] 900\n",
            "[1] 1000\n",
            "[1] 1100\n",
            "[1] 1200\n",
            "[1] 1300\n",
            "[1] 1400\n",
            "[1] 1500\n",
            "[1] 1600\n",
            "[1] 1700\n",
            "[1] 1800\n",
            "[1] 1900\n",
            "[1] 2000\n",
            "[1] \"Down-sampling to 2000 UMIs\"\n",
            "[1] \"Will process 2000 UMIs\"\n",
            "[1] 100\n",
            "[1] 200\n",
            "[1] 300\n",
            "[1] 400\n",
            "[1] 500\n",
            "[1] 600\n",
            "[1] 700\n",
            "[1] 800\n",
            "[1] 900\n",
            "[1] 1000\n",
            "[1] 1100\n",
            "[1] 1200\n",
            "[1] 1300\n",
            "[1] 1400\n",
            "[1] 1500\n",
            "[1] 1600\n",
            "[1] 1700\n",
            "[1] 1800\n",
            "[1] 1900\n",
            "[1] 2000\n",
            "[1] \"Down-sampling to 2000 UMIs\"\n",
            "[1] \"Will process 2000 UMIs\"\n",
            "[1] 100\n",
            "[1] 200\n",
            "[1] 300\n",
            "[1] 400\n",
            "[1] 500\n",
            "[1] 600\n",
            "[1] 700\n",
            "[1] 800\n",
            "[1] 900\n",
            "[1] 1000\n",
            "[1] 1100\n",
            "[1] 1200\n",
            "[1] 1300\n",
            "[1] 1400\n",
            "[1] 1500\n",
            "[1] 1600\n",
            "[1] 1700\n",
            "[1] 1800\n",
            "[1] 1900\n",
            "[1] 2000\n"
          ],
          "name": "stdout"
        }
      ]
    },
    {
      "cell_type": "code",
      "metadata": {
        "id": "Cb5DifYYcB6g",
        "colab_type": "code",
        "colab": {
          "base_uri": "https://localhost:8080/",
          "height": 493
        },
        "outputId": "d3ca36ee-7175-421d-ea0f-7ad9473a89ea"
      },
      "source": [
        "!cd figureData/MRET2 && ls -l && more ds_summary.txt"
      ],
      "execution_count": 17,
      "outputs": [
        {
          "output_type": "stream",
          "text": [
            "total 220500\n",
            "-rw-r--r-- 1 root root  37523364 Jun 28 17:00 Bug.RData\n",
            "-rw-r--r-- 1 root root 186708411 Jun 28 17:01 DsBugs.RData\n",
            "-rw-r--r-- 1 root root      1005 Jun 28 17:36 ds_summary.txt\n",
            "-rw-r--r-- 1 root root   1549191 Jun 28 17:01 Stats.RData\n",
            "Dataset: MRET2\n",
            "\n",
            "totUMIs: 3604133\n",
            "totCells: 1555\n",
            "totCounts: 29913038\n",
            "countsPerUMI: 8.29964876434915\n",
            "UMIsPerCell: 2317.77041800643\n",
            "countsPerCell: 19236.6803858521\n",
            "totFracOnes: 0.276914864129598\n",
            "FracMolWithUMIDistToNeighborH: 134, 739, 345, 11, 0, 0, 0, 0, 0, 0\n",
            "FracMolWithUMIDistToNeighborL: 247, 1175, 560, 18, 0, 0, 0, 0, 0, 0\n",
            "FracMolWithUMIDistToNeighborHFrac: 0.109031733116355, 0.601301871440195, 0.28071\n",
            "6029292107, 0.00895036615134255, 0, 0, 0, 0, 0, 0\n",
            "FracMolWithUMIDistToNeighborLFrac: 0.1235, 0.5875, 0.28, 0.009, 0, 0, 0, 0, 0, 0\n",
            "FracMolWithUMIDistToNeighbor1cpy: 238, 1233, 520, 9, 0, 0, 0, 0, 0, 0\n",
            "FracMolWithUMIDistToNeighbor2cpy: 240, 1170, 577, 13, 0, 0, 0, 0, 0, 0\n",
            "FracMolWithUMIDistToNeighbor>=3cpy: 212, 1253, 529, 6, 0, 0, 0, 0, 0, 0\n",
            "FracMolWithUMIDistToNeighbor1cpyFrac: 0.119, 0.6165, 0.26, 0.0045, 0, 0, 0, 0, 0\n",
            ", 0\n",
            "FracMolWithUMIDistToNeighbor2cpyFrac: 0.12, 0.585, 0.2885, 0.0065, 0, 0, 0, 0, 0\n",
            ", 0\n",
            "FracMolWithUMIDistToNeighbor>=3cpyFrac: 0.106, 0.6265, 0.2645, 0.003, 0, 0, 0, 0\n",
            ", 0, 0\n"
          ],
          "name": "stdout"
        }
      ]
    }
  ]
}