{
  "nbformat": 4,
  "nbformat_minor": 0,
  "metadata": {
    "colab": {
      "name": "ProcessR_LC.ipynb",
      "provenance": [],
      "collapsed_sections": [],
      "include_colab_link": true
    },
    "kernelspec": {
      "name": "python3",
      "display_name": "Python 3"
    }
  },
  "cells": [
    {
      "cell_type": "markdown",
      "metadata": {
        "id": "view-in-github",
        "colab_type": "text"
      },
      "source": [
        "<a href=\"https://colab.research.google.com/github/pachterlab/GRNP_2020/blob/master/notebooks/R_processing/ProcessR_LC.ipynb\" target=\"_parent\"><img src=\"https://colab.research.google.com/assets/colab-badge.svg\" alt=\"Open In Colab\"/></a>"
      ]
    },
    {
      "cell_type": "markdown",
      "metadata": {
        "id": "dhydD96df06z",
        "colab_type": "text"
      },
      "source": [
        "**LC dataset: Processes the BUG files into files prepared for use in R**\n",
        "\n",
        "This notebook processes the output from the fastq file processing for this dataset. The data produced here is pre-generated and downloaded by the figure generation code. The purpose of this processing step is to prepare the data for figure generation, by filtering the data and producing downsampled datasets in addition to the original one. \n",
        "\n",
        "Steps:\n",
        "1. Clone the code repo and download data to process\n",
        "2. Prepare the R environment\n",
        "3. Process the data\n",
        "4. Generate statistics for the dataset"
      ]
    },
    {
      "cell_type": "markdown",
      "metadata": {
        "id": "h8RnKVMXgbzr",
        "colab_type": "text"
      },
      "source": [
        "**1. Clone the code repo and download data to process**"
      ]
    },
    {
      "cell_type": "code",
      "metadata": {
        "id": "doUAtCxIyOiI",
        "colab_type": "code",
        "colab": {}
      },
      "source": [
        "![ -d \"GRNP_2020\" ] && rm -r GRNP_2020\n",
        "\n",
        "!git clone https://github.com/pachterlab/GRNP_2020.git\n"
      ],
      "execution_count": null,
      "outputs": []
    },
    {
      "cell_type": "code",
      "metadata": {
        "id": "dUNSQ1qBZb2g",
        "colab_type": "code",
        "colab": {}
      },
      "source": [
        "#download BUG data from Zenodo\n",
        "!mkdir data\n",
        "!cd data && wget https://zenodo.org/record/3924675/files/LC.zip?download=1 && unzip 'LC.zip?download=1' && rm 'LC.zip?download=1'"
      ],
      "execution_count": null,
      "outputs": []
    },
    {
      "cell_type": "code",
      "metadata": {
        "id": "oesgTqLO0Qje",
        "colab_type": "code",
        "colab": {}
      },
      "source": [
        "#Check that download worked\n",
        "!cd data && ls -l && cd LC/bus_output && ls -l"
      ],
      "execution_count": null,
      "outputs": []
    },
    {
      "cell_type": "markdown",
      "metadata": {
        "id": "sCmhNVdYgkWH",
        "colab_type": "text"
      },
      "source": [
        "**2. Prepare the R environment**"
      ]
    },
    {
      "cell_type": "code",
      "metadata": {
        "id": "5Gt6rQkSXriM",
        "colab_type": "code",
        "colab": {}
      },
      "source": [
        "#switch to R mode\n",
        "%reload_ext rpy2.ipython\n"
      ],
      "execution_count": null,
      "outputs": []
    },
    {
      "cell_type": "code",
      "metadata": {
        "id": "jJ3rQJCdgeJa",
        "colab_type": "code",
        "colab": {}
      },
      "source": [
        "#install the R packages\n",
        "%%R\n",
        "install.packages(\"qdapTools\")\n",
        "install.packages(\"dplyr\")\n",
        "install.packages(\"stringdist\")\n",
        "install.packages(\"stringr\")\n"
      ],
      "execution_count": null,
      "outputs": []
    },
    {
      "cell_type": "markdown",
      "metadata": {
        "id": "x56fjfCSicrp",
        "colab_type": "text"
      },
      "source": [
        "**3. Process the data**\n",
        "\n",
        "Here we discard multimapped UMIs and all UMIs belonging to cells with fewer than 200 UMIs. We also precalculate gene expression, fraction of single-copy molecules etc. and save as stats (statistics). These can later be used when generating figures. We also generate down-sampled BUGs."
      ]
    },
    {
      "cell_type": "code",
      "metadata": {
        "id": "sSlWuq94lvCO",
        "colab_type": "code",
        "colab": {}
      },
      "source": [
        "#create output directory\n",
        "!mkdir figureData"
      ],
      "execution_count": null,
      "outputs": []
    },
    {
      "cell_type": "code",
      "metadata": {
        "id": "V37XLBAO68oR",
        "colab_type": "code",
        "colab": {}
      },
      "source": [
        "#First set some path variables\n",
        "%%R\n",
        "source(\"GRNP_2020/RCode/pathsGoogleColab.R\")\n"
      ],
      "execution_count": null,
      "outputs": []
    },
    {
      "cell_type": "code",
      "metadata": {
        "id": "R6kuhOmzZL_X",
        "colab_type": "code",
        "colab": {}
      },
      "source": [
        "#Process and filter the BUG file\n",
        "%%R\n",
        "source(paste0(sourcePath, \"BUGProcessingHelpers.R\"))\n",
        "createStandardBugsData(paste0(dataPath,\"LC/\"), \"LC\", c(0.05, 0.1, 0.2, 0.4, 0.6, 0.8, 1), UmisPerCellLimit = 1000)\n",
        "\n"
      ],
      "execution_count": null,
      "outputs": []
    },
    {
      "cell_type": "markdown",
      "metadata": {
        "id": "YsqeFNdtnLsc",
        "colab_type": "text"
      },
      "source": [
        "**4. Generate statistics for the dataset**\n",
        "\n",
        "Here we create a file with various statistics for the dataset, which is used for generating table S2. It also contains some additional information about the dataset. Generation of this file may take several hours."
      ]
    },
    {
      "cell_type": "code",
      "metadata": {
        "id": "CffgQFeiW2tc",
        "colab_type": "code",
        "colab": {
          "base_uri": "https://localhost:8080/",
          "height": 1000
        },
        "outputId": "7078340b-9481-4609-cd00-e04de3cc2d75"
      },
      "source": [
        "%%R\n",
        "source(paste0(sourcePath, \"GenBugSummary.R\"))\n",
        "genBugSummary(\"LC\", \"FGF23\", \"RPS10\", 10)"
      ],
      "execution_count": 9,
      "outputs": [
        {
          "output_type": "stream",
          "text": [
            "[1] \"Down-sampling to 2000 UMIs\"\n",
            "[1] \"Will process 2000 UMIs\"\n",
            "[1] 100\n",
            "[1] 200\n",
            "[1] 300\n",
            "[1] 400\n",
            "[1] 500\n",
            "[1] 600\n",
            "[1] 700\n",
            "[1] 800\n",
            "[1] 900\n",
            "[1] 1000\n",
            "[1] 1100\n",
            "[1] 1200\n",
            "[1] 1300\n",
            "[1] 1400\n",
            "[1] 1500\n",
            "[1] 1600\n",
            "[1] 1700\n",
            "[1] 1800\n",
            "[1] 1900\n",
            "[1] 2000\n",
            "[1] \"Down-sampling to 2000 UMIs\"\n",
            "[1] \"Will process 2000 UMIs\"\n",
            "[1] 100\n",
            "[1] 200\n",
            "[1] 300\n",
            "[1] 400\n",
            "[1] 500\n",
            "[1] 600\n",
            "[1] 700\n",
            "[1] 800\n",
            "[1] 900\n",
            "[1] 1000\n",
            "[1] 1100\n",
            "[1] 1200\n",
            "[1] 1300\n",
            "[1] 1400\n",
            "[1] 1500\n",
            "[1] 1600\n",
            "[1] 1700\n",
            "[1] 1800\n",
            "[1] 1900\n",
            "[1] 2000\n",
            "[1] \"Down-sampling to 2000 UMIs\"\n",
            "[1] \"Will process 2000 UMIs\"\n",
            "[1] 100\n",
            "[1] 200\n",
            "[1] 300\n",
            "[1] 400\n",
            "[1] 500\n",
            "[1] 600\n",
            "[1] 700\n",
            "[1] 800\n",
            "[1] 900\n",
            "[1] 1000\n",
            "[1] 1100\n",
            "[1] 1200\n",
            "[1] 1300\n",
            "[1] 1400\n",
            "[1] 1500\n",
            "[1] 1600\n",
            "[1] 1700\n",
            "[1] 1800\n",
            "[1] 1900\n",
            "[1] 2000\n",
            "[1] \"Down-sampling to 2000 UMIs\"\n",
            "[1] \"Will process 2000 UMIs\"\n",
            "[1] 100\n",
            "[1] 200\n",
            "[1] 300\n",
            "[1] 400\n",
            "[1] 500\n",
            "[1] 600\n",
            "[1] 700\n",
            "[1] 800\n",
            "[1] 900\n",
            "[1] 1000\n",
            "[1] 1100\n",
            "[1] 1200\n",
            "[1] 1300\n",
            "[1] 1400\n",
            "[1] 1500\n",
            "[1] 1600\n",
            "[1] 1700\n",
            "[1] 1800\n",
            "[1] 1900\n",
            "[1] 2000\n",
            "[1] \"Down-sampling to 2000 UMIs\"\n",
            "[1] \"Will process 2000 UMIs\"\n",
            "[1] 100\n",
            "[1] 200\n",
            "[1] 300\n",
            "[1] 400\n",
            "[1] 500\n",
            "[1] 600\n",
            "[1] 700\n",
            "[1] 800\n",
            "[1] 900\n",
            "[1] 1000\n",
            "[1] 1100\n",
            "[1] 1200\n",
            "[1] 1300\n",
            "[1] 1400\n",
            "[1] 1500\n",
            "[1] 1600\n",
            "[1] 1700\n",
            "[1] 1800\n",
            "[1] 1900\n",
            "[1] 2000\n"
          ],
          "name": "stdout"
        }
      ]
    },
    {
      "cell_type": "code",
      "metadata": {
        "id": "Cb5DifYYcB6g",
        "colab_type": "code",
        "colab": {
          "base_uri": "https://localhost:8080/",
          "height": 510
        },
        "outputId": "08da60b4-3693-47f4-dc5c-7c33a2028d8f"
      },
      "source": [
        "!cd figureData/LC && ls -l && cat ds_summary.txt"
      ],
      "execution_count": 10,
      "outputs": [
        {
          "output_type": "stream",
          "text": [
            "total 2753212\n",
            "-rw-r--r-- 1 root root 616490756 Jul  2 14:58 Bug_100.RData\n",
            "-rw-r--r-- 1 root root 202747451 Jul  2 15:34 Bug_10.RData\n",
            "-rw-r--r-- 1 root root 319878147 Jul  2 15:31 Bug_20.RData\n",
            "-rw-r--r-- 1 root root 452490442 Jul  2 15:26 Bug_40.RData\n",
            "-rw-r--r-- 1 root root 117384304 Jul  2 15:35 Bug_5.RData\n",
            "-rw-r--r-- 1 root root 528842371 Jul  2 15:18 Bug_60.RData\n",
            "-rw-r--r-- 1 root root 579122831 Jul  2 15:08 Bug_80.RData\n",
            "-rw-r--r-- 1 root root       957 Jul  2 18:54 ds_summary.txt\n",
            "-rw-r--r-- 1 root root   2297676 Jul  2 15:36 Stats.RData\n",
            "Dataset: LC\n",
            "\n",
            "totUMIs: 70004066\n",
            "totCells: 21137\n",
            "totCounts: 305427674\n",
            "countsPerUMI: 4.36299905779759\n",
            "UMIsPerCell: 3311.92061314283\n",
            "countsPerCell: 14449.9065146426\n",
            "totFracOnes: 0.267279174898212\n",
            "FracMolWithUMIDistToNeighborH: 859, 947, 192, 2, 0, 0, 0, 0, 0, 0\n",
            "FracMolWithUMIDistToNeighborL: 635, 1038, 326, 1, 0, 0, 0, 0, 0, 0\n",
            "FracMolWithUMIDistToNeighborHFrac: 0.4295, 0.4735, 0.096, 0.001, 0, 0, 0, 0, 0, 0\n",
            "FracMolWithUMIDistToNeighborLFrac: 0.3175, 0.519, 0.163, 5e-04, 0, 0, 0, 0, 0, 0\n",
            "FracMolWithUMIDistToNeighbor1cpy: 570, 1053, 370, 7, 0, 0, 0, 0, 0, 0\n",
            "FracMolWithUMIDistToNeighbor2cpy: 516, 1106, 369, 9, 0, 0, 0, 0, 0, 0\n",
            "FracMolWithUMIDistToNeighbor>=3cpy: 573, 1003, 418, 6, 0, 0, 0, 0, 0, 0\n",
            "FracMolWithUMIDistToNeighbor1cpyFrac: 0.285, 0.5265, 0.185, 0.0035, 0, 0, 0, 0, 0, 0\n",
            "FracMolWithUMIDistToNeighbor2cpyFrac: 0.258, 0.553, 0.1845, 0.0045, 0, 0, 0, 0, 0, 0\n",
            "FracMolWithUMIDistToNeighbor>=3cpyFrac: 0.2865, 0.5015, 0.209, 0.003, 0, 0, 0, 0, 0, 0\n"
          ],
          "name": "stdout"
        }
      ]
    }
  ]
}