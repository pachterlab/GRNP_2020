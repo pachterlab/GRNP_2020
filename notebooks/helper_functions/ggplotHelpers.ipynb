{
  "nbformat": 4,
  "nbformat_minor": 0,
  "metadata": {
    "colab": {
      "name": "ggplotHelpers.ipynb",
      "provenance": [],
      "collapsed_sections": [],
      "include_colab_link": true
    },
    "kernelspec": {
      "name": "python3",
      "display_name": "Python 3"
    }
  },
  "cells": [
    {
      "cell_type": "markdown",
      "metadata": {
        "id": "view-in-github",
        "colab_type": "text"
      },
      "source": [
        "<a href=\"https://colab.research.google.com/github/pachterlab/GRNP_2020/blob/master/notebooks/helper_functions/ggplotHelpers.ipynb\" target=\"_parent\"><img src=\"https://colab.research.google.com/assets/colab-badge.svg\" alt=\"Open In Colab\"/></a>"
      ]
    },
    {
      "cell_type": "markdown",
      "metadata": {
        "id": "dhydD96df06z",
        "colab_type": "text"
      },
      "source": [
        "**Precalculates data for the supplementary figures S6-S19**\n",
        "**This notebook shows the code in ggplotHelpers, which contains help functions related to ggplot.** \n",
        "\n",
        "This code is sourced from other notebooks. It is here for display only, and not intended to be run.\n"
      ]
    },
    {
      "cell_type": "code",
      "metadata": {
        "id": "doUAtCxIyOiI",
        "colab_type": "code",
        "colab": {}
      },
      "source": [
        "library(ggplot2)\n",
        "\n",
        "\n",
        "#gives you the standard ggplot colors\n",
        "gg_color_hue <- function(n) {\n",
        "  hues = seq(15, 375, length = n + 1)\n",
        "  hcl(h = hues, l = 65, c = 100)[1:n]\n",
        "}"
      ],
      "execution_count": null,
      "outputs": []
    }
  ]
}