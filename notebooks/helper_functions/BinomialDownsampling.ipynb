{
  "nbformat": 4,
  "nbformat_minor": 0,
  "metadata": {
    "colab": {
      "name": "BinomialDownsampling.ipynb",
      "provenance": [],
      "collapsed_sections": [],
      "include_colab_link": true
    },
    "kernelspec": {
      "name": "python3",
      "display_name": "Python 3"
    }
  },
  "cells": [
    {
      "cell_type": "markdown",
      "metadata": {
        "id": "view-in-github",
        "colab_type": "text"
      },
      "source": [
        "<a href=\"https://colab.research.google.com/github/pachterlab/GRNP_2020/blob/master/notebooks/helper_functions/BinomialDownsampling.ipynb\" target=\"_parent\"><img src=\"https://colab.research.google.com/assets/colab-badge.svg\" alt=\"Open In Colab\"/></a>"
      ]
    },
    {
      "cell_type": "markdown",
      "metadata": {
        "id": "dhydD96df06z"
      },
      "source": [
        "**This notebook shows the code for BinomialDownsampling, which can be used for batch correction of datasets with different saturation (i.e. read depth)**\n",
        "\n",
        "This code is sourced from other notebooks. It is here for display only, and not intended to be run."
      ]
    },
    {
      "cell_type": "code",
      "metadata": {
        "id": "doUAtCxIyOiI"
      },
      "source": [
        "#before anything else, you need to setup paths:\n",
        "#for example\n",
        "#source(\"C:/Work/MatlabCode/projects/HMASandbox/HMA_Sandbox/Butterfly/paths.R\")\n",
        "#or, in colab:\n",
        "#source(\"GRNP_2020/RCode/pathsGoogleColab.R\")\n",
        "\n",
        "source(paste0(sourcePath, \"ButterflyHelpers.R\"))\n",
        "\n",
        "\n",
        "library(stringr)\n",
        "library(dplyr)\n",
        "library(qdapTools)\n",
        "\n",
        "#t is a vector of downsampling values between 0 and 1\n",
        "binomialDownsampling = function(bug, fractionsToKeep) {\n",
        "  collapsed = bug %>% group_by(gene) %>% do(countslist=c(.$count))#if you get an error here, you probably defined a variable called \"c\"...\n",
        "  \n",
        "  numGenes = dim(collapsed)[1]\n",
        "  \n",
        "  #create a matrix with genes as rows and fraction to keep values as columns\n",
        "  estTotCounts = matrix(data=0,nrow=numGenes,ncol=length(fractionsToKeep))\n",
        "  \n",
        "  print(paste0(\"Genes: \",numGenes))\n",
        "  \n",
        "  \n",
        "  for (i in 1:numGenes) {\n",
        "    h = hist(collapsed[[2]][[i]], breaks=seq(0.5, max(collapsed[[2]][[i]])+0.5, by=1), plot = F)$counts\n",
        "    lh = length(h)\n",
        "    for (j in 1:length(fractionsToKeep)) {\n",
        "      ftk = fractionsToKeep[j]\n",
        "      hd = rep(0,lh)\n",
        "      for (k in 1:lh) {\n",
        "        dens = dbinom(1:lh, k, ftk)\n",
        "        hd = hd + dens*h[k]\n",
        "      }\n",
        "      estTotCounts[i,j] = sum(hd)\n",
        "    }\n",
        "    \n",
        "    if ((i %% 1000) == 0) {\n",
        "      print(i)\n",
        "    }\n",
        "  }\n",
        "  \n",
        "  #annoying conversion, can probably be done smarter\n",
        "  nms = c(\"gene\",paste0(\"d\",fractionsToKeep))\n",
        "  colnames(estTotCounts) = nms[2:length(nms)]\n",
        "  res = bind_cols(tibble(gene=collapsed$gene), as_tibble(estTotCounts))\n",
        "  return(res)\n",
        "\n",
        "}\n"
      ],
      "execution_count": null,
      "outputs": []
    }
  ]
}