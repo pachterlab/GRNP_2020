{
  "nbformat": 4,
  "nbformat_minor": 0,
  "metadata": {
    "colab": {
      "name": "ProcFastq_PBMC_V3_2.ipynb",
      "provenance": [],
      "collapsed_sections": [],
      "include_colab_link": true
    },
    "kernelspec": {
      "name": "python3",
      "display_name": "Python 3"
    }
  },
  "cells": [
    {
      "cell_type": "markdown",
      "metadata": {
        "id": "view-in-github",
        "colab_type": "text"
      },
      "source": [
        "<a href=\"https://colab.research.google.com/github/pachterlab/GRNP_2020/blob/master/notebooks/FASTQ_processing/ProcessPBMC_V3_2.ipynb\" target=\"_parent\"><img src=\"https://colab.research.google.com/assets/colab-badge.svg\" alt=\"Open In Colab\"/></a>"
      ]
    },
    {
      "cell_type": "markdown",
      "metadata": {
        "id": "UUR5-eTx6o8Z",
        "colab_type": "text"
      },
      "source": [
        "**BUTTERFLY - Processing of the FASTQ files for the PBMC_V3_2 dataset.**\n",
        "\n",
        "1. Download and build kallisto and bustools from source.\n",
        "2. Download the genome FASTA file and build a kallisto index\n",
        "3. Download the FASTQ files and process with kallisto\n",
        "4. Install the BUSpaRse R package and create a transcripts_to_genes file\n",
        "5. Process the output from kallisto with bustools (the butterfly branch) "
      ]
    },
    {
      "cell_type": "markdown",
      "metadata": {
        "id": "638S-dtx-M0q",
        "colab_type": "text"
      },
      "source": [
        "**1. Download and build kallisto and bustools from source**"
      ]
    },
    {
      "cell_type": "code",
      "metadata": {
        "id": "5Gt6rQkSXriM",
        "colab_type": "code",
        "colab": {}
      },
      "source": [
        "# Install dependencies needed for build\n",
        "!apt update\n",
        "!apt install -y cmake\n",
        "!apt-get install autoconf\n"
      ],
      "execution_count": null,
      "outputs": []
    },
    {
      "cell_type": "code",
      "metadata": {
        "id": "jJ3rQJCdgeJa",
        "colab_type": "code",
        "colab": {}
      },
      "source": [
        "#Need to download and build htslib to be able to build kallisto\n",
        "!cd /usr/bin && wget https://github.com/samtools/htslib/releases/download/1.9/htslib-1.9.tar.bz2 &&tar -vxjf htslib-1.9.tar.bz2 && cd htslib-1.9 && make"
      ],
      "execution_count": null,
      "outputs": []
    },
    {
      "cell_type": "code",
      "metadata": {
        "id": "R6kuhOmzZL_X",
        "colab_type": "code",
        "colab": {}
      },
      "source": [
        "#clone the kallisto repo, build and install\n",
        "!rm -r temporary #if the code is run more than once\n",
        "!mkdir temporary\n",
        "!cd temporary && git clone https://github.com/pachterlab/kallisto.git\n",
        "!cd temporary/kallisto && git checkout v0.46.2 && mkdir build && cd build && cmake .. && make\n",
        "!chmod +x temporary/kallisto/build/src/kallisto\n",
        "!mv temporary/kallisto/build/src/kallisto /usr/local/bin/"
      ],
      "execution_count": null,
      "outputs": []
    },
    {
      "cell_type": "code",
      "metadata": {
        "id": "CffgQFeiW2tc",
        "colab_type": "code",
        "colab": {}
      },
      "source": [
        "#clone the bustools repo, build and install\n",
        "!cd temporary && rm -r *\n",
        "!git clone https://github.com/johan-gson/bustools.git\n",
        "!mv bustools/ temporary/\n",
        "!cd temporary/bustools && git checkout butterfly && mkdir build && cd build && cmake .. && make\n",
        "!chmod +x temporary/bustools/build/src/bustools\n",
        "!mv temporary/bustools/build/src/bustools /usr/local/bin/"
      ],
      "execution_count": null,
      "outputs": []
    },
    {
      "cell_type": "code",
      "metadata": {
        "id": "Cb5DifYYcB6g",
        "colab_type": "code",
        "colab": {}
      },
      "source": [
        "!kallisto version"
      ],
      "execution_count": null,
      "outputs": []
    },
    {
      "cell_type": "markdown",
      "metadata": {
        "id": "3w4pMTRzAqlK",
        "colab_type": "text"
      },
      "source": [
        "**2. Download the genome FASTA file and build a kallisto index**"
      ]
    },
    {
      "cell_type": "code",
      "metadata": {
        "id": "mzIUfCIaaUsP",
        "colab_type": "code",
        "colab": {}
      },
      "source": [
        "#Download fasta and build kallisto index for mouse\n",
        "!wget \"ftp://ftp.ensembl.org/pub/release-94/fasta/homo_sapiens/cdna/Homo_sapiens.GRCh38.cdna.all.fa.gz\" -O human.fa.gz\n",
        "!kallisto index -i Homo_sapiens.GRCh38.cdna.all.idx human.fa.gz"
      ],
      "execution_count": null,
      "outputs": []
    },
    {
      "cell_type": "markdown",
      "metadata": {
        "id": "7wgjBC9OB7-Y",
        "colab_type": "text"
      },
      "source": [
        "**3. Download the FASTQ files and process with kallisto**"
      ]
    },
    {
      "cell_type": "markdown",
      "metadata": {
        "id": "UycRnVGXBL_6",
        "colab_type": "text"
      },
      "source": [
        ""
      ]
    },
    {
      "cell_type": "code",
      "metadata": {
        "id": "ylqhA_6Ca2-8",
        "colab_type": "code",
        "colab": {}
      },
      "source": [
        "#clean up a bit first\n",
        "!rm -r sample_data\n",
        "!rm -r temporary"
      ],
      "execution_count": null,
      "outputs": []
    },
    {
      "cell_type": "code",
      "metadata": {
        "id": "y5w4WuHIuTP8",
        "colab_type": "code",
        "colab": {}
      },
      "source": [
        "#Download fastqs\n",
        "!wget \"http://s3-us-west-2.amazonaws.com/10x.files/samples/cell-exp/3.0.0/pbmc_10k_protein_v3/pbmc_10k_protein_v3_fastqs.tar\"\n"
      ],
      "execution_count": null,
      "outputs": []
    },
    {
      "cell_type": "code",
      "metadata": {
        "id": "Y1ZMjRqliQ6A",
        "colab_type": "code",
        "colab": {}
      },
      "source": [
        "#stream from the tar directly into kallisto\n",
        "!rm A_R1.gz A_R2.gz B_R1.gz B_R2.gz # in case of running this several times\n",
        "!mkfifo A_R1.gz A_R2.gz B_R1.gz B_R2.gz\n",
        "\n",
        "!tar -O --to-stdout -xf pbmc_10k_protein_v3_fastqs.tar pbmc_10k_protein_v3_fastqs/pbmc_10k_protein_v3_gex_fastqs/pbmc_10k_protein_v3_gex_S1_L001_R1_001.fastq.gz > A_R1.gz & tar -O --to-stdout -xf pbmc_10k_protein_v3_fastqs.tar pbmc_10k_protein_v3_fastqs/pbmc_10k_protein_v3_gex_fastqs/pbmc_10k_protein_v3_gex_S1_L001_R2_001.fastq.gz > A_R2.gz & tar -O --to-stdout -xf pbmc_10k_protein_v3_fastqs.tar pbmc_10k_protein_v3_fastqs/pbmc_10k_protein_v3_gex_fastqs/pbmc_10k_protein_v3_gex_S1_L002_R1_001.fastq.gz > B_R1.gz &  tar -O --to-stdout -xf pbmc_10k_protein_v3_fastqs.tar pbmc_10k_protein_v3_fastqs/pbmc_10k_protein_v3_gex_fastqs/pbmc_10k_protein_v3_gex_S1_L002_R2_001.fastq.gz > B_R2.gz & kallisto bus -i Homo_sapiens.GRCh38.cdna.all.idx -o bus_output/ -x 10xv3 -t 2 A_R1.gz A_R2.gz B_R1.gz B_R2.gz"
      ],
      "execution_count": null,
      "outputs": []
    },
    {
      "cell_type": "markdown",
      "metadata": {
        "id": "Ol7DiFIMHzvz",
        "colab_type": "text"
      },
      "source": [
        "**4. Install the BUSpaRse R package and create a transcripts_to_genes file**"
      ]
    },
    {
      "cell_type": "markdown",
      "metadata": {
        "id": "NoKLJXjGHoDD",
        "colab_type": "text"
      },
      "source": [
        ""
      ]
    },
    {
      "cell_type": "code",
      "metadata": {
        "id": "Fat6ZUBtO6DB",
        "colab_type": "code",
        "colab": {}
      },
      "source": [
        "#switch to R mode\n",
        "%reload_ext rpy2.ipython\n"
      ],
      "execution_count": null,
      "outputs": []
    },
    {
      "cell_type": "code",
      "metadata": {
        "id": "Rw5mKjgbbCuP",
        "colab_type": "code",
        "colab": {}
      },
      "source": [
        "#install BUSpaRse\n",
        "%%R\n",
        "install.packages(\"BiocManager\")\n",
        "BiocManager::install(version='3.10')\n",
        "BiocManager::install(\"BUSpaRse\")\n"
      ],
      "execution_count": null,
      "outputs": []
    },
    {
      "cell_type": "code",
      "metadata": {
        "id": "fH74E8eJSi2A",
        "colab_type": "code",
        "colab": {}
      },
      "source": [
        "#create transcripts_to_genes.txt\n",
        "%%R\n",
        "\n",
        "library(\"BUSpaRse\")\n",
        "tr2g <- transcript2gene(fasta_file = \"human.fa.gz\",\n",
        "                              kallisto_out_path = \"bus_output\")\n",
        "write.table(tr2g, \"bus_output/transcripts_to_genes.txt\", quote=F, row.names = F, col.names=F, sep=\"\\t\")\n"
      ],
      "execution_count": null,
      "outputs": []
    },
    {
      "cell_type": "markdown",
      "metadata": {
        "id": "EAHG4NeYIphe",
        "colab_type": "text"
      },
      "source": [
        "**5. Process the output from kallisto with bustools (the butterfly branch)**"
      ]
    },
    {
      "cell_type": "code",
      "metadata": {
        "id": "dxZfK436D_mo",
        "colab_type": "code",
        "colab": {}
      },
      "source": [
        "#get the whitelist\n",
        "!rm -r GRNP_2020 #in case the code is run several times\n",
        "!git clone https://github.com/pachterlab/GRNP_2020.git\n",
        "!cd GRNP_2020/whitelists && unzip 10xv3_whitelist.zip\n",
        "!cd GRNP_2020/whitelists && ls"
      ],
      "execution_count": null,
      "outputs": []
    },
    {
      "cell_type": "code",
      "metadata": {
        "id": "gOTj9GRJEfKg",
        "colab_type": "code",
        "colab": {}
      },
      "source": [
        "!bustools correct -w GRNP_2020/whitelists/10xv3_whitelist.txt -p bus_output/output.bus | bustools sort -T tmp/ -t 2 -o bus_output/sort.bus -"
      ],
      "execution_count": null,
      "outputs": []
    },
    {
      "cell_type": "code",
      "metadata": {
        "id": "8SlZ3p3zWizM",
        "colab_type": "code",
        "colab": {}
      },
      "source": [
        "#collapse\n",
        "!bustools collapse -o bus_output/coll -t  bus_output/transcripts.txt -g bus_output/transcripts_to_genes.txt -e  bus_output/matrix.ec  bus_output/sort.bus"
      ],
      "execution_count": null,
      "outputs": []
    },
    {
      "cell_type": "code",
      "metadata": {
        "id": "c1H1V_yxXXK_",
        "colab_type": "code",
        "colab": {}
      },
      "source": [
        "#umicorrect - this code is not optimized for speed in this branch and may take a while to run, it is much faster in the master branch\n",
        "!bustools umicorrect -o bus_output/umicorr.bus bus_output/coll.bus"
      ],
      "execution_count": null,
      "outputs": []
    },
    {
      "cell_type": "code",
      "metadata": {
        "id": "5SsVe8r1e6ye",
        "colab_type": "code",
        "colab": {}
      },
      "source": [
        "#convert to text\n",
        "!bustools text -o bus_output/bug.txt bus_output/umicorr.bus\n"
      ],
      "execution_count": null,
      "outputs": []
    },
    {
      "cell_type": "code",
      "metadata": {
        "id": "ihx0UaMtfMW5",
        "colab_type": "code",
        "colab": {}
      },
      "source": [
        "!ls -l\n",
        "!cd bus_output && ls -l"
      ],
      "execution_count": null,
      "outputs": []
    }
  ]
}