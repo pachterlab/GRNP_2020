{
  "nbformat": 4,
  "nbformat_minor": 0,
  "metadata": {
    "colab": {
      "name": "Tests.ipynb",
      "provenance": [],
      "collapsed_sections": [],
      "include_colab_link": true
    },
    "kernelspec": {
      "name": "python3",
      "display_name": "Python 3"
    }
  },
  "cells": [
    {
      "cell_type": "markdown",
      "metadata": {
        "id": "view-in-github",
        "colab_type": "text"
      },
      "source": [
        "<a href=\"https://colab.research.google.com/github/pachterlab/GRNP_2020/blob/master/notebooks/R_processing/ProcessR_EVAL.ipynb\" target=\"_parent\"><img src=\"https://colab.research.google.com/assets/colab-badge.svg\" alt=\"Open In Colab\"/></a>"
      ]
    },
    {
      "cell_type": "markdown",
      "metadata": {
        "id": "dhydD96df06z",
        "colab_type": "text"
      },
      "source": [
        "**EVAL dataset: Processes the BUG files into files prepared for use in R**\n",
        "\n",
        "This notebook processes the output from the fastq file processing for this dataset. The data produced here is pre-generated and downloaded by the figure generation code. The purpose of this processing step is to prepare the data for figure generation, by filtering the data and producing downsampled datasets in addition to the original one. \n",
        "\n",
        "Steps:\n",
        "1. Clone the code repo and download data to process\n",
        "2. Prepare the R environment\n",
        "3. Process the data\n",
        "4. Generate statistics for the dataset"
      ]
    },
    {
      "cell_type": "markdown",
      "metadata": {
        "id": "h8RnKVMXgbzr",
        "colab_type": "text"
      },
      "source": [
        "**1. Clone the code repo and download data to process**"
      ]
    },
    {
      "cell_type": "code",
      "metadata": {
        "id": "doUAtCxIyOiI",
        "colab_type": "code",
        "colab": {
          "base_uri": "https://localhost:8080/",
          "height": 136
        },
        "outputId": "354f1ba8-9d4e-4a8f-c4e4-c36c3944ffe2"
      },
      "source": [
        "![ -d \"GRNP_2020\" ] && rm -r GRNP_2020\n",
        "\n",
        "!git clone https://github.com/pachterlab/GRNP_2020.git\n"
      ],
      "execution_count": 12,
      "outputs": [
        {
          "output_type": "stream",
          "text": [
            "Cloning into 'GRNP_2020'...\n",
            "remote: Enumerating objects: 133, done.\u001b[K\n",
            "remote: Counting objects: 100% (133/133), done.\u001b[K\n",
            "remote: Compressing objects: 100% (98/98), done.\u001b[K\n",
            "remote: Total 1016 (delta 85), reused 66 (delta 35), pack-reused 883\u001b[K\n",
            "Receiving objects: 100% (1016/1016), 7.39 MiB | 1.27 MiB/s, done.\n",
            "Resolving deltas: 100% (639/639), done.\n"
          ],
          "name": "stdout"
        }
      ]
    },
    {
      "cell_type": "code",
      "metadata": {
        "id": "dUNSQ1qBZb2g",
        "colab_type": "code",
        "colab": {
          "base_uri": "https://localhost:8080/",
          "height": 306
        },
        "outputId": "5968fffe-4669-4820-eeb8-3bcd5436db0e"
      },
      "source": [
        "#download BUG data from Zenodo\n",
        "!mkdir data\n",
        "!cd data && wget https://zenodo.org/record/3924675/files/EVAL.zip?download=1 && unzip 'EVAL.zip?download=1' && rm 'EVAL.zip?download=1'"
      ],
      "execution_count": 2,
      "outputs": [
        {
          "output_type": "stream",
          "text": [
            "--2020-07-02 19:11:15--  https://zenodo.org/record/3924675/files/EVAL.zip?download=1\n",
            "Resolving zenodo.org (zenodo.org)... 188.184.117.155\n",
            "Connecting to zenodo.org (zenodo.org)|188.184.117.155|:443... connected.\n",
            "HTTP request sent, awaiting response... 200 OK\n",
            "Length: 71831345 (69M) [application/octet-stream]\n",
            "Saving to: ‘EVAL.zip?download=1’\n",
            "\n",
            "EVAL.zip?download=1 100%[===================>]  68.50M   100MB/s    in 0.7s    \n",
            "\n",
            "2020-07-02 19:11:16 (100 MB/s) - ‘EVAL.zip?download=1’ saved [71831345/71831345]\n",
            "\n",
            "Archive:  EVAL.zip?download=1\n",
            "   creating: EVAL/\n",
            "   creating: EVAL/bus_output/\n",
            "  inflating: EVAL/bus_output/bug.txt  \n",
            "  inflating: EVAL/bus_output/coll.genes.txt  \n",
            "  inflating: EVAL/bus_output/transcripts_to_genes.txt  \n"
          ],
          "name": "stdout"
        }
      ]
    },
    {
      "cell_type": "code",
      "metadata": {
        "id": "oesgTqLO0Qje",
        "colab_type": "code",
        "colab": {
          "base_uri": "https://localhost:8080/",
          "height": 119
        },
        "outputId": "cfacf789-977f-491a-8170-17338f5a655c"
      },
      "source": [
        "#Check that download worked\n",
        "!cd data && ls -l && cd EVAL/bus_output && ls -l"
      ],
      "execution_count": 3,
      "outputs": [
        {
          "output_type": "stream",
          "text": [
            "total 4\n",
            "drwxr-xr-x 3 root root 4096 Jul  1 00:00 EVAL\n",
            "total 300376\n",
            "-rw-r--r-- 1 root root 300813629 Jun 29 14:01 bug.txt\n",
            "-rw-r--r-- 1 root root    779656 Jun 29 13:58 coll.genes.txt\n",
            "-rw-r--r-- 1 root root   5983758 Jun 29 13:02 transcripts_to_genes.txt\n"
          ],
          "name": "stdout"
        }
      ]
    },
    {
      "cell_type": "markdown",
      "metadata": {
        "id": "sCmhNVdYgkWH",
        "colab_type": "text"
      },
      "source": [
        "**2. Prepare the R environment**"
      ]
    },
    {
      "cell_type": "code",
      "metadata": {
        "id": "5Gt6rQkSXriM",
        "colab_type": "code",
        "colab": {
          "base_uri": "https://localhost:8080/",
          "height": 85
        },
        "outputId": "54b03b98-55b6-45e1-e78d-c45a3d374940"
      },
      "source": [
        "#switch to R mode\n",
        "%reload_ext rpy2.ipython\n"
      ],
      "execution_count": 5,
      "outputs": [
        {
          "output_type": "stream",
          "text": [
            "/usr/local/lib/python3.6/dist-packages/rpy2/robjects/pandas2ri.py:14: FutureWarning: pandas.core.index is deprecated and will be removed in a future version.  The public classes are available in the top-level namespace.\n",
            "  from pandas.core.index import Index as PandasIndex\n",
            "/usr/local/lib/python3.6/dist-packages/rpy2/robjects/pandas2ri.py:34: UserWarning: pandas >= 1.0 is not supported.\n",
            "  warnings.warn('pandas >= 1.0 is not supported.')\n"
          ],
          "name": "stderr"
        }
      ]
    },
    {
      "cell_type": "code",
      "metadata": {
        "id": "jJ3rQJCdgeJa",
        "colab_type": "code",
        "colab": {
          "base_uri": "https://localhost:8080/",
          "height": 1000
        },
        "outputId": "d4767045-5ce1-4c45-d25c-e86e53cc8cbe"
      },
      "source": [
        "#install the R packages\n",
        "%%R\n",
        "install.packages(\"qdapTools\")\n",
        "install.packages(\"dplyr\")\n",
        "install.packages(\"stringdist\")\n",
        "install.packages(\"stringr\")\n"
      ],
      "execution_count": 9,
      "outputs": [
        {
          "output_type": "stream",
          "text": [
            "R[write to console]: Installing package into ‘/usr/local/lib/R/site-library’\n",
            "(as ‘lib’ is unspecified)\n",
            "\n",
            "R[write to console]: also installing the dependency ‘RCurl’\n",
            "\n",
            "\n",
            "R[write to console]: trying URL 'https://cran.rstudio.com/src/contrib/RCurl_1.98-1.2.tar.gz'\n",
            "\n",
            "R[write to console]: Content type 'application/x-gzip'\n",
            "R[write to console]:  length 699583 bytes (683 KB)\n",
            "\n",
            "R[write to console]: =\n",
            "R[write to console]: =\n",
            "R[write to console]: =\n",
            "R[write to console]: =\n",
            "R[write to console]: =\n",
            "R[write to console]: =\n",
            "R[write to console]: =\n",
            "R[write to console]: =\n",
            "R[write to console]: =\n",
            "R[write to console]: =\n",
            "R[write to console]: =\n",
            "R[write to console]: =\n",
            "R[write to console]: =\n",
            "R[write to console]: =\n",
            "R[write to console]: =\n",
            "R[write to console]: =\n",
            "R[write to console]: =\n",
            "R[write to console]: =\n",
            "R[write to console]: =\n",
            "R[write to console]: =\n",
            "R[write to console]: =\n",
            "R[write to console]: =\n",
            "R[write to console]: =\n",
            "R[write to console]: =\n",
            "R[write to console]: =\n",
            "R[write to console]: =\n",
            "R[write to console]: =\n",
            "R[write to console]: =\n",
            "R[write to console]: =\n",
            "R[write to console]: =\n",
            "R[write to console]: =\n",
            "R[write to console]: =\n",
            "R[write to console]: =\n",
            "R[write to console]: =\n",
            "R[write to console]: =\n",
            "R[write to console]: =\n",
            "R[write to console]: =\n",
            "R[write to console]: =\n",
            "R[write to console]: =\n",
            "R[write to console]: =\n",
            "R[write to console]: =\n",
            "R[write to console]: =\n",
            "R[write to console]: =\n",
            "R[write to console]: =\n",
            "R[write to console]: =\n",
            "R[write to console]: =\n",
            "R[write to console]: =\n",
            "R[write to console]: =\n",
            "R[write to console]: =\n",
            "R[write to console]: =\n",
            "R[write to console]: \n",
            "\n",
            "R[write to console]: downloaded 683 KB\n",
            "\n",
            "\n",
            "R[write to console]: trying URL 'https://cran.rstudio.com/src/contrib/qdapTools_1.3.5.tar.gz'\n",
            "\n",
            "R[write to console]: Content type 'application/x-gzip'\n",
            "R[write to console]:  length 36880 bytes (36 KB)\n",
            "\n",
            "R[write to console]: =\n",
            "R[write to console]: =\n",
            "R[write to console]: =\n",
            "R[write to console]: =\n",
            "R[write to console]: =\n",
            "R[write to console]: =\n",
            "R[write to console]: =\n",
            "R[write to console]: =\n",
            "R[write to console]: =\n",
            "R[write to console]: =\n",
            "R[write to console]: =\n",
            "R[write to console]: =\n",
            "R[write to console]: =\n",
            "R[write to console]: =\n",
            "R[write to console]: =\n",
            "R[write to console]: =\n",
            "R[write to console]: =\n",
            "R[write to console]: =\n",
            "R[write to console]: =\n",
            "R[write to console]: =\n",
            "R[write to console]: =\n",
            "R[write to console]: =\n",
            "R[write to console]: =\n",
            "R[write to console]: =\n",
            "R[write to console]: =\n",
            "R[write to console]: =\n",
            "R[write to console]: =\n",
            "R[write to console]: =\n",
            "R[write to console]: =\n",
            "R[write to console]: =\n",
            "R[write to console]: =\n",
            "R[write to console]: =\n",
            "R[write to console]: =\n",
            "R[write to console]: =\n",
            "R[write to console]: =\n",
            "R[write to console]: =\n",
            "R[write to console]: =\n",
            "R[write to console]: =\n",
            "R[write to console]: =\n",
            "R[write to console]: =\n",
            "R[write to console]: =\n",
            "R[write to console]: =\n",
            "R[write to console]: =\n",
            "R[write to console]: =\n",
            "R[write to console]: =\n",
            "R[write to console]: =\n",
            "R[write to console]: =\n",
            "R[write to console]: =\n",
            "R[write to console]: =\n",
            "R[write to console]: =\n",
            "R[write to console]: \n",
            "\n",
            "R[write to console]: downloaded 36 KB\n",
            "\n",
            "\n",
            "R[write to console]: \n",
            "\n",
            "R[write to console]: \n",
            "R[write to console]: The downloaded source packages are in\n",
            "\t‘/tmp/Rtmp2TOrtq/downloaded_packages’\n",
            "R[write to console]: \n",
            "R[write to console]: \n",
            "\n",
            "R[write to console]: Installing package into ‘/usr/local/lib/R/site-library’\n",
            "(as ‘lib’ is unspecified)\n",
            "\n",
            "R[write to console]: trying URL 'https://cran.rstudio.com/src/contrib/dplyr_1.0.0.tar.gz'\n",
            "\n",
            "R[write to console]: Content type 'application/x-gzip'\n",
            "R[write to console]:  length 836651 bytes (817 KB)\n",
            "\n",
            "R[write to console]: =\n",
            "R[write to console]: =\n",
            "R[write to console]: =\n",
            "R[write to console]: =\n",
            "R[write to console]: =\n",
            "R[write to console]: =\n",
            "R[write to console]: =\n",
            "R[write to console]: =\n",
            "R[write to console]: =\n",
            "R[write to console]: =\n",
            "R[write to console]: =\n",
            "R[write to console]: =\n",
            "R[write to console]: =\n",
            "R[write to console]: =\n",
            "R[write to console]: =\n",
            "R[write to console]: =\n",
            "R[write to console]: =\n",
            "R[write to console]: =\n",
            "R[write to console]: =\n",
            "R[write to console]: =\n",
            "R[write to console]: =\n",
            "R[write to console]: =\n",
            "R[write to console]: =\n",
            "R[write to console]: =\n",
            "R[write to console]: =\n",
            "R[write to console]: =\n",
            "R[write to console]: =\n",
            "R[write to console]: =\n",
            "R[write to console]: =\n",
            "R[write to console]: =\n",
            "R[write to console]: =\n",
            "R[write to console]: =\n",
            "R[write to console]: =\n",
            "R[write to console]: =\n",
            "R[write to console]: =\n",
            "R[write to console]: =\n",
            "R[write to console]: =\n",
            "R[write to console]: =\n",
            "R[write to console]: =\n",
            "R[write to console]: =\n",
            "R[write to console]: =\n",
            "R[write to console]: =\n",
            "R[write to console]: =\n",
            "R[write to console]: =\n",
            "R[write to console]: =\n",
            "R[write to console]: =\n",
            "R[write to console]: =\n",
            "R[write to console]: =\n",
            "R[write to console]: =\n",
            "R[write to console]: =\n",
            "R[write to console]: \n",
            "\n",
            "R[write to console]: downloaded 817 KB\n",
            "\n",
            "\n",
            "R[write to console]: \n",
            "\n",
            "R[write to console]: \n",
            "R[write to console]: The downloaded source packages are in\n",
            "\t‘/tmp/Rtmp2TOrtq/downloaded_packages’\n",
            "R[write to console]: \n",
            "R[write to console]: \n",
            "\n",
            "R[write to console]: Installing package into ‘/usr/local/lib/R/site-library’\n",
            "(as ‘lib’ is unspecified)\n",
            "\n",
            "R[write to console]: trying URL 'https://cran.rstudio.com/src/contrib/stringdist_0.9.5.5.tar.gz'\n",
            "\n",
            "R[write to console]: Content type 'application/x-gzip'\n",
            "R[write to console]:  length 831912 bytes (812 KB)\n",
            "\n",
            "R[write to console]: =\n",
            "R[write to console]: =\n",
            "R[write to console]: =\n",
            "R[write to console]: =\n",
            "R[write to console]: =\n",
            "R[write to console]: =\n",
            "R[write to console]: =\n",
            "R[write to console]: =\n",
            "R[write to console]: =\n",
            "R[write to console]: =\n",
            "R[write to console]: =\n",
            "R[write to console]: =\n",
            "R[write to console]: =\n",
            "R[write to console]: =\n",
            "R[write to console]: =\n",
            "R[write to console]: =\n",
            "R[write to console]: =\n",
            "R[write to console]: =\n",
            "R[write to console]: =\n",
            "R[write to console]: =\n",
            "R[write to console]: =\n",
            "R[write to console]: =\n",
            "R[write to console]: =\n",
            "R[write to console]: =\n",
            "R[write to console]: =\n",
            "R[write to console]: =\n",
            "R[write to console]: =\n",
            "R[write to console]: =\n",
            "R[write to console]: =\n",
            "R[write to console]: =\n",
            "R[write to console]: =\n",
            "R[write to console]: =\n",
            "R[write to console]: =\n",
            "R[write to console]: =\n",
            "R[write to console]: =\n",
            "R[write to console]: =\n",
            "R[write to console]: =\n",
            "R[write to console]: =\n",
            "R[write to console]: =\n",
            "R[write to console]: =\n",
            "R[write to console]: =\n",
            "R[write to console]: =\n",
            "R[write to console]: =\n",
            "R[write to console]: =\n",
            "R[write to console]: =\n",
            "R[write to console]: =\n",
            "R[write to console]: =\n",
            "R[write to console]: =\n",
            "R[write to console]: =\n",
            "R[write to console]: =\n",
            "R[write to console]: \n",
            "\n",
            "R[write to console]: downloaded 812 KB\n",
            "\n",
            "\n",
            "R[write to console]: \n",
            "\n",
            "R[write to console]: \n",
            "R[write to console]: The downloaded source packages are in\n",
            "\t‘/tmp/Rtmp2TOrtq/downloaded_packages’\n",
            "R[write to console]: \n",
            "R[write to console]: \n",
            "\n",
            "R[write to console]: Installing package into ‘/usr/local/lib/R/site-library’\n",
            "(as ‘lib’ is unspecified)\n",
            "\n",
            "R[write to console]: trying URL 'https://cran.rstudio.com/src/contrib/stringr_1.4.0.tar.gz'\n",
            "\n",
            "R[write to console]: Content type 'application/x-gzip'\n",
            "R[write to console]:  length 135777 bytes (132 KB)\n",
            "\n",
            "R[write to console]: =\n",
            "R[write to console]: =\n",
            "R[write to console]: =\n",
            "R[write to console]: =\n",
            "R[write to console]: =\n",
            "R[write to console]: =\n",
            "R[write to console]: =\n",
            "R[write to console]: =\n",
            "R[write to console]: =\n",
            "R[write to console]: =\n",
            "R[write to console]: =\n",
            "R[write to console]: =\n",
            "R[write to console]: =\n",
            "R[write to console]: =\n",
            "R[write to console]: =\n",
            "R[write to console]: =\n",
            "R[write to console]: =\n",
            "R[write to console]: =\n",
            "R[write to console]: =\n",
            "R[write to console]: =\n",
            "R[write to console]: =\n",
            "R[write to console]: =\n",
            "R[write to console]: =\n",
            "R[write to console]: =\n",
            "R[write to console]: =\n",
            "R[write to console]: =\n",
            "R[write to console]: =\n",
            "R[write to console]: =\n",
            "R[write to console]: =\n",
            "R[write to console]: =\n",
            "R[write to console]: =\n",
            "R[write to console]: =\n",
            "R[write to console]: =\n",
            "R[write to console]: =\n",
            "R[write to console]: =\n",
            "R[write to console]: =\n",
            "R[write to console]: =\n",
            "R[write to console]: =\n",
            "R[write to console]: =\n",
            "R[write to console]: =\n",
            "R[write to console]: =\n",
            "R[write to console]: =\n",
            "R[write to console]: =\n",
            "R[write to console]: =\n",
            "R[write to console]: =\n",
            "R[write to console]: =\n",
            "R[write to console]: =\n",
            "R[write to console]: =\n",
            "R[write to console]: =\n",
            "R[write to console]: =\n",
            "R[write to console]: \n",
            "\n",
            "R[write to console]: downloaded 132 KB\n",
            "\n",
            "\n",
            "R[write to console]: \n",
            "\n",
            "R[write to console]: \n",
            "R[write to console]: The downloaded source packages are in\n",
            "\t‘/tmp/Rtmp2TOrtq/downloaded_packages’\n",
            "R[write to console]: \n",
            "R[write to console]: \n",
            "\n"
          ],
          "name": "stderr"
        }
      ]
    },
    {
      "cell_type": "markdown",
      "metadata": {
        "id": "x56fjfCSicrp",
        "colab_type": "text"
      },
      "source": [
        "**3. Process the data**\n",
        "\n",
        "Here we discard multimapped UMIs and all UMIs belonging to cells with fewer than 200 UMIs. We also precalculate gene expression, fraction of single-copy molecules etc. and save as stats (statistics). These can later be used when generating figures. We also generate down-sampled BUGs."
      ]
    },
    {
      "cell_type": "code",
      "metadata": {
        "id": "sSlWuq94lvCO",
        "colab_type": "code",
        "colab": {}
      },
      "source": [
        "#create output directory\n",
        "!mkdir figureData"
      ],
      "execution_count": 15,
      "outputs": []
    },
    {
      "cell_type": "code",
      "metadata": {
        "id": "V37XLBAO68oR",
        "colab_type": "code",
        "colab": {}
      },
      "source": [
        "#First set some path variables\n",
        "%%R\n",
        "source(\"GRNP_2020/RCode/pathsGoogleColab.R\")\n"
      ],
      "execution_count": 13,
      "outputs": []
    },
    {
      "cell_type": "code",
      "metadata": {
        "id": "R6kuhOmzZL_X",
        "colab_type": "code",
        "colab": {
          "base_uri": "https://localhost:8080/",
          "height": 1000
        },
        "outputId": "00434ea0-7d08-4559-be77-1bdb0e313270"
      },
      "source": [
        "#Process and filter the BUG file\n",
        "%%R\n",
        "source(paste0(sourcePath, \"BUGProcessingHelpers.R\"))\n",
        "createStandardBugsData(paste0(dataPath,\"EVAL/\"), \"EVAL\", c(0.05, 0.1, 0.2, 0.25, 0.4, 0.6, 0.8, 1))\n",
        "\n"
      ],
      "execution_count": 16,
      "outputs": [
        {
          "output_type": "stream",
          "text": [
            "[1] \"Generating data for EVAL\"\n",
            "[1] \"Reading BUG from data/EVAL/ ...\"\n",
            "[1] \"Filtering multi-mapped reads...\"\n",
            "[1] \"Fraction multi-mapped reads: 0.177481439356937\"\n",
            "[1] \"Converting genes...\"\n",
            "[1] \"Done\"\n",
            "[1] \"Down-sampling in total 8 bugs:\"\n",
            "[1] \"8: Down-sampling to 1\"\n",
            "[1] \"saving BUG...\"\n",
            "[1] \"creating stats...\"\n"
          ],
          "name": "stdout"
        },
        {
          "output_type": "stream",
          "text": [
            "R[write to console]: `summarise()` ungrouping output (override with `.groups` argument)\n",
            "\n"
          ],
          "name": "stderr"
        },
        {
          "output_type": "stream",
          "text": [
            "[1] \"cpm normalizing...\"\n",
            "[1] \"7: Down-sampling to 0.8\"\n",
            "[1] \"1\"\n",
            "[1] \"2\"\n",
            "[1] \"3\"\n",
            "[1] \"4\"\n",
            "[1] \"5\"\n",
            "[1] \"6\"\n",
            "[1] \"7\"\n",
            "[1] \"8\"\n",
            "[1] \"9\"\n",
            "[1] \"saving BUG...\"\n",
            "[1] \"creating stats...\"\n"
          ],
          "name": "stdout"
        },
        {
          "output_type": "stream",
          "text": [
            "R[write to console]: `summarise()` ungrouping output (override with `.groups` argument)\n",
            "\n"
          ],
          "name": "stderr"
        },
        {
          "output_type": "stream",
          "text": [
            "[1] \"cpm normalizing...\"\n",
            "[1] \"6: Down-sampling to 0.6\"\n",
            "[1] \"1\"\n",
            "[1] \"2\"\n",
            "[1] \"3\"\n",
            "[1] \"4\"\n",
            "[1] \"5\"\n",
            "[1] \"6\"\n",
            "[1] \"7\"\n",
            "[1] \"8\"\n",
            "[1] \"9\"\n",
            "[1] \"saving BUG...\"\n",
            "[1] \"creating stats...\"\n"
          ],
          "name": "stdout"
        },
        {
          "output_type": "stream",
          "text": [
            "R[write to console]: `summarise()` ungrouping output (override with `.groups` argument)\n",
            "\n"
          ],
          "name": "stderr"
        },
        {
          "output_type": "stream",
          "text": [
            "[1] \"cpm normalizing...\"\n",
            "[1] \"5: Down-sampling to 0.4\"\n",
            "[1] \"1\"\n",
            "[1] \"2\"\n",
            "[1] \"3\"\n",
            "[1] \"4\"\n",
            "[1] \"5\"\n",
            "[1] \"6\"\n",
            "[1] \"7\"\n",
            "[1] \"8\"\n",
            "[1] \"9\"\n",
            "[1] \"saving BUG...\"\n",
            "[1] \"creating stats...\"\n"
          ],
          "name": "stdout"
        },
        {
          "output_type": "stream",
          "text": [
            "R[write to console]: `summarise()` ungrouping output (override with `.groups` argument)\n",
            "\n"
          ],
          "name": "stderr"
        },
        {
          "output_type": "stream",
          "text": [
            "[1] \"cpm normalizing...\"\n",
            "[1] \"4: Down-sampling to 0.25\"\n",
            "[1] \"1\"\n",
            "[1] \"2\"\n",
            "[1] \"3\"\n",
            "[1] \"4\"\n",
            "[1] \"5\"\n",
            "[1] \"6\"\n",
            "[1] \"7\"\n",
            "[1] \"8\"\n",
            "[1] \"9\"\n",
            "[1] \"saving BUG...\"\n",
            "[1] \"creating stats...\"\n"
          ],
          "name": "stdout"
        },
        {
          "output_type": "stream",
          "text": [
            "R[write to console]: `summarise()` ungrouping output (override with `.groups` argument)\n",
            "\n"
          ],
          "name": "stderr"
        },
        {
          "output_type": "stream",
          "text": [
            "[1] \"cpm normalizing...\"\n",
            "[1] \"3: Down-sampling to 0.2\"\n",
            "[1] \"1\"\n",
            "[1] \"2\"\n",
            "[1] \"3\"\n",
            "[1] \"4\"\n",
            "[1] \"5\"\n",
            "[1] \"6\"\n",
            "[1] \"7\"\n",
            "[1] \"8\"\n",
            "[1] \"9\"\n",
            "[1] \"saving BUG...\"\n",
            "[1] \"creating stats...\"\n"
          ],
          "name": "stdout"
        },
        {
          "output_type": "stream",
          "text": [
            "R[write to console]: `summarise()` ungrouping output (override with `.groups` argument)\n",
            "\n"
          ],
          "name": "stderr"
        },
        {
          "output_type": "stream",
          "text": [
            "[1] \"cpm normalizing...\"\n",
            "[1] \"2: Down-sampling to 0.1\"\n",
            "[1] \"1\"\n",
            "[1] \"2\"\n",
            "[1] \"3\"\n",
            "[1] \"4\"\n",
            "[1] \"5\"\n",
            "[1] \"6\"\n",
            "[1] \"7\"\n",
            "[1] \"8\"\n",
            "[1] \"9\"\n",
            "[1] \"saving BUG...\"\n",
            "[1] \"creating stats...\"\n"
          ],
          "name": "stdout"
        },
        {
          "output_type": "stream",
          "text": [
            "R[write to console]: `summarise()` ungrouping output (override with `.groups` argument)\n",
            "\n"
          ],
          "name": "stderr"
        },
        {
          "output_type": "stream",
          "text": [
            "[1] \"cpm normalizing...\"\n",
            "[1] \"1: Down-sampling to 0.05\"\n",
            "[1] \"1\"\n",
            "[1] \"2\"\n",
            "[1] \"3\"\n",
            "[1] \"4\"\n",
            "[1] \"5\"\n",
            "[1] \"6\"\n",
            "[1] \"7\"\n",
            "[1] \"8\"\n",
            "[1] \"9\"\n",
            "[1] \"saving BUG...\"\n",
            "[1] \"creating stats...\"\n"
          ],
          "name": "stdout"
        },
        {
          "output_type": "stream",
          "text": [
            "R[write to console]: `summarise()` ungrouping output (override with `.groups` argument)\n",
            "\n"
          ],
          "name": "stderr"
        },
        {
          "output_type": "stream",
          "text": [
            "[1] \"cpm normalizing...\"\n",
            "[1] \"Done\"\n",
            "[1] \"Saving stats...\"\n"
          ],
          "name": "stdout"
        }
      ]
    },
    {
      "cell_type": "markdown",
      "metadata": {
        "id": "YsqeFNdtnLsc",
        "colab_type": "text"
      },
      "source": [
        "**4. Generate statistics for the dataset**\n",
        "\n",
        "Here we create a file with various statistics for the dataset, which is used for generating table S2. It also contains some additional information about the dataset. Generation of this file may take several hours."
      ]
    },
    {
      "cell_type": "code",
      "metadata": {
        "id": "CffgQFeiW2tc",
        "colab_type": "code",
        "colab": {
          "base_uri": "https://localhost:8080/",
          "height": 1000
        },
        "outputId": "9b71e25f-2bc6-4825-a897-44498557acbe"
      },
      "source": [
        "%%R\n",
        "source(paste0(sourcePath, \"GenBugSummary.R\"))\n",
        "genBugSummary(\"EVAL\", \"Vmn1r13\", \"Ubb\", 10)"
      ],
      "execution_count": null,
      "outputs": [
        {
          "output_type": "stream",
          "text": [
            "[1] \"Will process 1229 UMIs\"\n",
            "[1] 100\n",
            "[1] 200\n",
            "[1] 300\n",
            "[1] 400\n",
            "[1] 500\n",
            "[1] 600\n",
            "[1] 700\n",
            "[1] 800\n",
            "[1] 900\n",
            "[1] 1000\n",
            "[1] 1100\n",
            "[1] 1200\n",
            "[1] \"Down-sampling to 2000 UMIs\"\n",
            "[1] \"Will process 2000 UMIs\"\n",
            "[1] 100\n",
            "[1] 200\n",
            "[1] 300\n",
            "[1] 400\n",
            "[1] 500\n",
            "[1] 600\n",
            "[1] 700\n",
            "[1] 800\n",
            "[1] 900\n",
            "[1] 1000\n",
            "[1] 1100\n",
            "[1] 1200\n",
            "[1] 1300\n",
            "[1] 1400\n",
            "[1] 1500\n",
            "[1] 1600\n",
            "[1] 1700\n",
            "[1] 1800\n",
            "[1] 1900\n",
            "[1] 2000\n",
            "[1] \"Down-sampling to 2000 UMIs\"\n",
            "[1] \"Will process 2000 UMIs\"\n",
            "[1] 100\n",
            "[1] 200\n",
            "[1] 300\n",
            "[1] 400\n",
            "[1] 500\n",
            "[1] 600\n",
            "[1] 700\n",
            "[1] 800\n",
            "[1] 900\n",
            "[1] 1000\n",
            "[1] 1100\n",
            "[1] 1200\n",
            "[1] 1300\n",
            "[1] 1400\n",
            "[1] 1500\n",
            "[1] 1600\n",
            "[1] 1700\n",
            "[1] 1800\n",
            "[1] 1900\n",
            "[1] 2000\n",
            "[1] \"Down-sampling to 2000 UMIs\"\n",
            "[1] \"Will process 2000 UMIs\"\n",
            "[1] 100\n",
            "[1] 200\n",
            "[1] 300\n",
            "[1] 400\n",
            "[1] 500\n",
            "[1] 600\n",
            "[1] 700\n",
            "[1] 800\n",
            "[1] 900\n",
            "[1] 1000\n",
            "[1] 1100\n",
            "[1] 1200\n",
            "[1] 1300\n",
            "[1] 1400\n",
            "[1] 1500\n",
            "[1] 1600\n",
            "[1] 1700\n",
            "[1] 1800\n",
            "[1] 1900\n",
            "[1] 2000\n",
            "[1] \"Down-sampling to 2000 UMIs\"\n",
            "[1] \"Will process 2000 UMIs\"\n",
            "[1] 100\n",
            "[1] 200\n",
            "[1] 300\n",
            "[1] 400\n",
            "[1] 500\n",
            "[1] 600\n",
            "[1] 700\n",
            "[1] 800\n",
            "[1] 900\n",
            "[1] 1000\n",
            "[1] 1100\n",
            "[1] 1200\n",
            "[1] 1300\n",
            "[1] 1400\n",
            "[1] 1500\n",
            "[1] 1600\n",
            "[1] 1700\n",
            "[1] 1800\n",
            "[1] 1900\n",
            "[1] 2000\n"
          ],
          "name": "stdout"
        }
      ]
    },
    {
      "cell_type": "code",
      "metadata": {
        "id": "Cb5DifYYcB6g",
        "colab_type": "code",
        "colab": {
          "base_uri": "https://localhost:8080/",
          "height": 595
        },
        "outputId": "fe7b821b-55f6-4a1d-af81-bffdbfee96f7"
      },
      "source": [
        "!cd figureData/EVAL && ls -l && more ds_summary.txt"
      ],
      "execution_count": null,
      "outputs": [
        {
          "output_type": "stream",
          "text": [
            "total 208752\n",
            "-rw-r--r-- 1 root root 37523302 Jul  1 20:41 Bug_100.RData\n",
            "-rw-r--r-- 1 root root 17301806 Jul  1 20:39 Bug_10.RData\n",
            "-rw-r--r-- 1 root root 23452646 Jul  1 20:39 Bug_20.RData\n",
            "-rw-r--r-- 1 root root 25293705 Jul  1 20:40 Bug_25.RData\n",
            "-rw-r--r-- 1 root root 29076462 Jul  1 20:40 Bug_40.RData\n",
            "-rw-r--r-- 1 root root 11231802 Jul  1 20:39 Bug_5.RData\n",
            "-rw-r--r-- 1 root root 32628714 Jul  1 20:41 Bug_60.RData\n",
            "-rw-r--r-- 1 root root 35471380 Jul  1 20:41 Bug_80.RData\n",
            "-rw-r--r-- 1 root root     1013 Jul  1 21:09 ds_summary.txt\n",
            "-rw-r--r-- 1 root root  1760913 Jul  1 20:42 Stats.RData\n",
            "Dataset: EVAL\n",
            "\n",
            "totUMIs: 3604133\n",
            "totCells: 1555\n",
            "totCounts: 29913038\n",
            "countsPerUMI: 8.29964876434915\n",
            "UMIsPerCell: 2317.77041800643\n",
            "countsPerCell: 19236.6803858521\n",
            "totFracOnes: 0.276914864129598\n",
            "FracMolWithUMIDistToNeighborH: 134, 739, 345, 11, 0, 0, 0, 0, 0, 0\n",
            "FracMolWithUMIDistToNeighborL: 242, 1158, 584, 16, 0, 0, 0, 0, 0, 0\n",
            "FracMolWithUMIDistToNeighborHFrac: 0.109031733116355, 0.601301871440195, 0.28071\n",
            "6029292107, 0.00895036615134255, 0, 0, 0, 0, 0, 0\n",
            "FracMolWithUMIDistToNeighborLFrac: 0.121, 0.579, 0.292, 0.008, 0, 0, 0, 0, 0, 0\n",
            "FracMolWithUMIDistToNeighbor1cpy: 241, 1213, 535, 11, 0, 0, 0, 0, 0, 0\n",
            "FracMolWithUMIDistToNeighbor2cpy: 246, 1204, 534, 16, 0, 0, 0, 0, 0, 0\n",
            "FracMolWithUMIDistToNeighbor>=3cpy: 213, 1191, 581, 14, 1, 0, 0, 0, 0, 0\n",
            "FracMolWithUMIDistToNeighbor1cpyFrac: 0.1205, 0.6065, 0.2675, 0.0055, 0, 0, 0, 0\n",
            ", 0, 0\n",
            "FracMolWithUMIDistToNeighbor2cpyFrac: 0.123, 0.602, 0.267, 0.008, 0, 0, 0, 0, 0,\n",
            " 0\n",
            "FracMolWithUMIDistToNeighbor>=3cpyFrac: 0.1065, 0.5955, 0.2905, 0.007, 5e-04, 0,\n",
            " 0, 0, 0, 0\n"
          ],
          "name": "stdout"
        }
      ]
    }
  ]
}