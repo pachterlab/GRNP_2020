{
  "nbformat": 4,
  "nbformat_minor": 0,
  "metadata": {
    "colab": {
      "name": "GenFig4DE.ipynb",
      "provenance": [],
      "collapsed_sections": [],
      "include_colab_link": true
    },
    "kernelspec": {
      "name": "python3",
      "display_name": "Python 3"
    }
  },
  "cells": [
    {
      "cell_type": "markdown",
      "metadata": {
        "id": "view-in-github",
        "colab_type": "text"
      },
      "source": [
        "<a href=\"https://colab.research.google.com/github/pachterlab/GRNP_2020/blob/master/notebooks/figure_generation/GenFig4DE.ipynb\" target=\"_parent\"><img src=\"https://colab.research.google.com/assets/colab-badge.svg\" alt=\"Open In Colab\"/></a>"
      ]
    },
    {
      "cell_type": "markdown",
      "metadata": {
        "id": "dhydD96df06z"
      },
      "source": [
        "**Generates figure 4 D-E**\n",
        "\n",
        "This notebook generates a figure that shows that two datasets created from the same biological sample, but with different technologies, become more similar when predicted, and less similar when downsampled. \n",
        "\n",
        "Steps:\n",
        "1. Download the code and processed data\n",
        "2. Setup the R environment\n",
        "3. Generate the figure\n",
        "\n",
        "The data for this figure is produced by the following notebooks:\n",
        "\n",
        "Processing of FASTQ files with kallisto and bustools:\n",
        "\n",
        "https://github.com/pachterlab/GRNP_2020/blob/master/notebooks/FASTQ_processing/ProcessEVALPBMC.ipynb\n",
        "https://github.com/pachterlab/GRNP_2020/blob/master/notebooks/FASTQ_processing/ProcessEVALPBMC_DS.ipynb\n",
        "\n",
        "Preprocessing of BUG files:\n",
        "\n",
        "https://github.com/pachterlab/GRNP_2020/blob/master/notebooks/R_processing/ProcessR_EVALPBMC.ipynb\n",
        "https://github.com/pachterlab/GRNP_2020/blob/master/notebooks/R_processing/ProcessR_EVALPBMC_DS.ipynb\n",
        "\n",
        "Precalculation of figure data: \n",
        "\n",
        "https://github.com/pachterlab/GRNP_2020/blob/master/notebooks/figure_generation/GenFig4DEData.ipynb\n"
      ]
    },
    {
      "cell_type": "markdown",
      "metadata": {
        "id": "h8RnKVMXgbzr"
      },
      "source": [
        "**1. Download the code and processed data**"
      ]
    },
    {
      "cell_type": "code",
      "metadata": {
        "id": "doUAtCxIyOiI"
      },
      "source": [
        "#download the R code\n",
        "![ -d \"GRNP_2020\" ] && rm -r GRNP_2020\n",
        "\n",
        "!git clone https://github.com/pachterlab/GRNP_2020.git\n"
      ],
      "execution_count": null,
      "outputs": []
    },
    {
      "cell_type": "code",
      "metadata": {
        "id": "dUNSQ1qBZb2g"
      },
      "source": [
        "#download processed data from Zenodo for all datasets\n",
        "![ -d \"figureData\" ] && rm -r figureData\n",
        "!mkdir figureData\n",
        "!cd figureData && wget https://zenodo.org/record/4661263/files/EVALPBMC.zip?download=1 && unzip 'EVALPBMC.zip?download=1' && rm 'EVALPBMC.zip?download=1'\n",
        "!cd figureData && wget https://zenodo.org/record/4661263/files/EVALPBMC_DS.zip?download=1 && unzip 'EVALPBMC_DS.zip?download=1' && rm 'EVALPBMC_DS.zip?download=1'\n",
        "!cd figureData && wget https://zenodo.org/record/4661263/files/FigureData.zip?download=1 && unzip 'FigureData.zip?download=1' && rm 'FigureData.zip?download=1'\n"
      ],
      "execution_count": null,
      "outputs": []
    },
    {
      "cell_type": "code",
      "metadata": {
        "id": "oesgTqLO0Qje"
      },
      "source": [
        "#Check that download worked\n",
        "!cd figureData && ls -l && cd EVALPBMC && ls -l"
      ],
      "execution_count": null,
      "outputs": []
    },
    {
      "cell_type": "markdown",
      "metadata": {
        "id": "sCmhNVdYgkWH"
      },
      "source": [
        "**2. Prepare the R environment**"
      ]
    },
    {
      "cell_type": "code",
      "metadata": {
        "id": "5Gt6rQkSXriM"
      },
      "source": [
        "#switch to R mode\n",
        "%reload_ext rpy2.ipython\n"
      ],
      "execution_count": null,
      "outputs": []
    },
    {
      "cell_type": "code",
      "metadata": {
        "id": "jJ3rQJCdgeJa"
      },
      "source": [
        "#install the R packages and setup paths\n",
        "%%R\n",
        "install.packages(\"dplyr\")\n",
        "install.packages(\"ggplot2\")\n",
        "install.packages(\"DescTools\")\n",
        "install.packages(\"ggpubr\")\n",
        "\n"
      ],
      "execution_count": null,
      "outputs": []
    },
    {
      "cell_type": "markdown",
      "metadata": {
        "id": "x56fjfCSicrp"
      },
      "source": [
        "**3. Generate the figure**\n"
      ]
    },
    {
      "cell_type": "code",
      "metadata": {
        "id": "V37XLBAO68oR"
      },
      "source": [
        "#First set some path variables\n",
        "%%R\n",
        "source(\"GRNP_2020/RCode/pathsGoogleColab.R\")\n"
      ],
      "execution_count": null,
      "outputs": []
    },
    {
      "cell_type": "code",
      "metadata": {
        "id": "R6kuhOmzZL_X"
      },
      "source": [
        "#Import the code for prediction (available in other notebooks)\n",
        "%%R\n",
        "source(paste0(sourcePath,\"ButterflyHelpers.R\"))\n",
        "#source(paste0(sourcePath,\"preseqHelpers.R\"))\n",
        "source(paste0(sourcePath,\"CCCHelpers.R\"))\n",
        "\n",
        "\n",
        "\n"
      ],
      "execution_count": null,
      "outputs": []
    },
    {
      "cell_type": "code",
      "metadata": {
        "id": "kqZPO7XjtPPa"
      },
      "source": [
        "#create figure directory\n",
        "![ -d \"figures\" ] && rm -r figures\n",
        "!mkdir figures"
      ],
      "execution_count": null,
      "outputs": []
    },
    {
      "cell_type": "code",
      "metadata": {
        "id": "tkQeT362BM7V"
      },
      "source": [
        "###########################################\n",
        "#Assemble the data\n",
        "###########################################\n",
        "%%R\n",
        "\n",
        "dsid1 = \"EVALPBMC_DS\"\n",
        "dsid2 = \"EVALPBMC\"\n",
        "\n",
        "predVals = c(1, 1.5, 2, 3, 4, 6, 8, 16, 32, 64, 128, 256, 512, 1024, 2048, 4096)\n",
        "title = \"Drop-Seq vs Chromium v2\"\n",
        "\n",
        "loadStats(\"EVALPBMC_DS\")\n",
        "loadStats(\"EVALPBMC\")\n",
        "\n",
        "#get precalculated data (generated using GenFig4)\n",
        "precalcData = readRDS(paste0(figure_data_path, \"Fig4_DE.RDS\"))\n",
        "\n",
        "#l1 = genFig4Plot(\"EVALPBMC_DS\", \"EVALPBMC\", predVals_1, 100, \"Drop-Seq vs Chromium v2\", d1)\n",
        "\n",
        "cpmfiltLimit = 100\n",
        "\n",
        "#genFig4Plot <- function(dsid1, dsid2, predVals, cpmfiltLimit, title, precalcData) {\n",
        "stats1 = get(paste0(\"stats\",dsid1), envir=.GlobalEnv)\n",
        "stats2 = get(paste0(\"stats\",dsid2), envir=.GlobalEnv)\n",
        "\n",
        "pred1 = precalcData[[1]];\n",
        "pred2 = precalcData[[2]];\n",
        "\n",
        "#extract down-sampled expression from stats:\n",
        "dsx = c(0.05, 0.1, 0.2, 0.4, 0.6, 0.8, 1)\n",
        "dsGrade = c(5,10,20,40,60,80,100)\n",
        "ids1 = NULL\n",
        "ids2 = NULL\n",
        "for (gr in dsGrade) {\n",
        "  ids1 = c(ids1, paste0(\"CPM_\", dsid1, \"_d_\", gr))\n",
        "  ids2 = c(ids2, paste0(\"CPM_\", dsid2, \"_d_\", gr))\n",
        "}\n",
        "ds1 = stats1[,c(1,which(colnames(stats1) %in% ids1))]\n",
        "ds2 = stats2[,c(1,which(colnames(stats2) %in% ids2))]\n",
        "\n",
        "merged1 = inner_join(ds1, pred1, by=\"gene\")\n",
        "merged2 = inner_join(ds2, pred2, by=\"gene\")\n",
        "#make sure that prediction has not changed p1 (i.e. predicting to 1 times the counts)\n",
        "merged1$p1 = merged1$CPM_EVALPBMC_DS_d_100\n",
        "merged2$p1 = merged2$CPM_EVALPBMC_d_100\n",
        "\n",
        "mergedTmp = inner_join(merged1, merged2, by=\"gene\")\n",
        "for (i in 2:(dim(mergedTmp)[2])) {\n",
        "  mergedTmp[,i] = mergedTmp[,i]*10^6/sum(mergedTmp[,i])\n",
        "}\n",
        "\n",
        "#filter out the lowly expressed genes - prediction is too uncertain for those genes to show any interesting results\n",
        "mergedTot = mergedTmp[(mergedTmp$p1.x > cpmfiltLimit) & (mergedTmp$p1.y > cpmfiltLimit),]\n",
        "\n",
        "#mergeTot first has all columns of dataset 1 in order, then the columns of dataset 2\n",
        "\n",
        "print(paste0(\"Number of genes: \", dim(mergedTot)[1]))\n",
        "\n",
        "#now CPM again to remove the uncertainty in the lowly expressed genes and log transform\n",
        "for (i in 2:(dim(mergedTot)[2])) {\n",
        "  mergedTot[,i] = log2(mergedTot[,i]*10^6/sum(mergedTot[,i]) + 1)\n",
        "}\n",
        "\n",
        "xes = c(log2(dsx), log2(predVals))\n",
        "\n"
      ],
      "execution_count": null,
      "outputs": []
    },
    {
      "cell_type": "code",
      "metadata": {
        "id": "4xpWa4xb7Dya"
      },
      "source": [
        "###########################################\n",
        "#Fig A\n",
        "###########################################\n",
        "%%R\n",
        "library(ggplot2)\n",
        "#The plot has 2 curves, both just 10x prediction and prediction of both datasets\n",
        "dsLen = length(dsGrade)\n",
        "predLen = length(predVals)\n",
        "numPoints = dsLen + predLen\n",
        "corsBothPred = rep(0,numPoints)\n",
        "for (i in 1:numPoints) {\n",
        "  corsBothPred[i] = getCCC(mergedTot[[i+1]], mergedTot[[i+numPoints+1]])\n",
        "}\n",
        "\n",
        "#now create the plot with 2 curves, both double prediction and just 10x prediction\n",
        "pred = factor(c(rep(0,dsLen),rep(1, length(predVals))), c(0,1), c(\"Downsampled\", \"Predicted\"))\n",
        "x = xes\n",
        "y = corsBothPred\n",
        "\n",
        "df = data.frame(x=x, y=y, pred = pred)\n",
        "\n",
        "fig4D = ggplot(df, aes(x=x, y=y, group=pred, linetype=pred)) + \n",
        "  geom_line() + #geom_point(size=1.5) +\n",
        "  labs(y=\"CCC\", x=expression(Log[2]*\"(Prediction range)\")) +\n",
        "  ggtitle(\"Concordance Between Datasets\") +\n",
        "  theme(panel.background = element_rect(\"white\", \"white\", 0, 0, \"white\"), legend.position= \"bottom\", \n",
        "        legend.direction = \"vertical\", legend.box = \"horizontal\", legend.title = element_blank()) +\n",
        "  guides(fill=guide_legend(nrow=2, ncol=1, byrow=F))\n",
        "\n",
        "print(fig4D)\n",
        "\n",
        "#save them individually since we want different heights, so the x axis labels of both plots are at the same y coord:\n",
        "ggsave(\n",
        "  paste0(figure_path, \"Fig4D.png\"),\n",
        "  plot = fig4D, device = \"png\",\n",
        "  width = 3.65, height = 4.3, dpi = 300)\n"
      ],
      "execution_count": null,
      "outputs": []
    },
    {
      "cell_type": "code",
      "metadata": {
        "id": "pzgyPcPy7Yos"
      },
      "source": [
        "###########################################\n",
        "#Fig 4E\n",
        "###########################################\n",
        "%%R\n",
        "\n",
        "g1 = \"MTRNR2L1\"\n",
        "g2 = \"LSP1\"\n",
        "g3 = \"EMP3\"\n",
        "\n",
        "gene1 = as.numeric(mergedTot[mergedTot$gene == g1, -1])\n",
        "gene2 = as.numeric(mergedTot[mergedTot$gene == g2, -1])\n",
        "gene3 = as.numeric(mergedTot[mergedTot$gene == g3, -1])\n",
        "\n",
        "genes = c(gene1,gene2,gene3)\n",
        "geneNames = c(g1,g2,g3)\n",
        "\n",
        "#create data frame for plot:\n",
        "y = genes\n",
        "x = rep(xes,2*length(geneNames))\n",
        "pred = rep(factor(c(rep(0,dsLen),rep(1, length(predVals))), c(0,1), c(\"Downs.\", \"Pred.\")),2*length(geneNames))\n",
        "gene = rep(0:(length(geneNames)-1), each=length(xes)*2)\n",
        "genef = factor(gene, 0:(length(geneNames)-1), geneNames)\n",
        "technology = factor(rep(c(rep(0,numPoints), rep(1,numPoints)),length(geneNames)), c(0,1), c(\"Drop-Seq\", \"10X\"))\n",
        "\n",
        "df = data.frame(x=x, y=y, dspred = pred, Gene = genef, Technology = technology, stringsAsFactors = F)\n",
        "\n",
        "fig4E = ggplot(df, aes(x=x, y=y, colour = Gene, linetype=dspred, shape=Technology, group=interaction(Gene,dspred, Technology))) + \n",
        "  geom_line() + geom_point(size=1.2) +\n",
        "  ggtitle(\"Prediction per Gene\") +\n",
        "  xlab(expression(Log[2]*\"(sampling factor)\")) + ylab(expression(Log[2]*\"(CPM + 1)\")) +\n",
        "  theme(panel.background = element_rect(\"white\", \"white\", 0, 0, \"white\"),\n",
        "        legend.position= \"bottom\", legend.direction = \"vertical\", legend.box = \"horizontal\", legend.title = element_blank(),\n",
        "        strip.background = element_blank()) +\n",
        "  guides(fill=guide_legend(nrow=2, ncol=1, byrow=F))\n",
        "print(fig4E)\n",
        "\n",
        "\n",
        "ggsave(\n",
        "  paste0(figure_path, \"Fig4E.png\"),\n",
        "  plot = fig4E, device = \"png\",\n",
        "  width = 3.65, height = 4.545, dpi = 300)\n",
        "\n"
      ],
      "execution_count": null,
      "outputs": []
    }
  ]
}