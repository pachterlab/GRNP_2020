{
  "nbformat": 4,
  "nbformat_minor": 0,
  "metadata": {
    "colab": {
      "name": "GenFig2_S4_S5.ipynb",
      "provenance": [],
      "collapsed_sections": [],
      "include_colab_link": true
    },
    "kernelspec": {
      "name": "python3",
      "display_name": "Python 3"
    }
  },
  "cells": [
    {
      "cell_type": "markdown",
      "metadata": {
        "id": "view-in-github",
        "colab_type": "text"
      },
      "source": [
        "<a href=\"https://colab.research.google.com/github/pachterlab/GRNP_2020/blob/master/notebooks/figure_generation/GenFig2_S4_S5.ipynb\" target=\"_parent\"><img src=\"https://colab.research.google.com/assets/colab-badge.svg\" alt=\"Open In Colab\"/></a>"
      ]
    },
    {
      "cell_type": "markdown",
      "metadata": {
        "id": "dhydD96df06z"
      },
      "source": [
        "**Generates figure 2 as well as supplementary figures 4 and 5**\n",
        "\n",
        "This notebook generates figures that show the fraction of single-copy molecules per gene in different datasets.\n",
        "\n",
        "Steps:\n",
        "1. Download the code and processed data\n",
        "2. Setup the R environment\n",
        "3. Generate the figures\n",
        "\n",
        "The data for these figures is produced by the following notebooks:\n",
        "\n",
        "Processing of FASTQ files with kallisto and bustools:\n",
        "\n",
        "https://github.com/pachterlab/GRNP_2020/blob/master/notebooks/FASTQ_processing/ProcessEVAL.ipynb\n",
        "https://github.com/pachterlab/GRNP_2020/blob/master/notebooks/FASTQ_processing/ProcessEVALPBMC.ipynb\n",
        "https://github.com/pachterlab/GRNP_2020/blob/master/notebooks/FASTQ_processing/ProcessEVALPBMC_DS.ipynb\n",
        "https://github.com/pachterlab/GRNP_2020/blob/master/notebooks/FASTQ_processing/ProcessEVALPBMC_SW.ipynb\n",
        "https://github.com/pachterlab/GRNP_2020/blob/master/notebooks/FASTQ_processing/ProcessLC.ipynb\n",
        "https://github.com/pachterlab/GRNP_2020/blob/master/notebooks/FASTQ_processing/ProcessMRET.ipynb\n",
        "https://github.com/pachterlab/GRNP_2020/blob/master/notebooks/FASTQ_processing/ProcessMRET2.ipynb\n",
        "https://github.com/pachterlab/GRNP_2020/blob/master/notebooks/FASTQ_processing/ProcessPBMC_NG.ipynb\n",
        "https://github.com/pachterlab/GRNP_2020/blob/master/notebooks/FASTQ_processing/ProcessPBMC_NG_2.ipynb\n",
        "https://github.com/pachterlab/GRNP_2020/blob/master/notebooks/FASTQ_processing/ProcessPBMC_V2.ipynb\n",
        "https://github.com/pachterlab/GRNP_2020/blob/master/notebooks/FASTQ_processing/ProcessPBMC_V3.ipynb\n",
        "https://github.com/pachterlab/GRNP_2020/blob/master/notebooks/FASTQ_processing/ProcessPBMC_V3_2.ipynb\n",
        "https://github.com/pachterlab/GRNP_2020/blob/master/notebooks/FASTQ_processing/ProcessPBMC_V3_3.ipynb\n",
        "https://github.com/pachterlab/GRNP_2020/blob/master/notebooks/FASTQ_processing/ProcessMARSSEQ.ipynb\n",
        "\n",
        "Preprocessing of BUG files:\n",
        "\n",
        "https://github.com/pachterlab/GRNP_2020/blob/master/notebooks/R_processing/ProcessR_EVAL.ipynb\n",
        "https://github.com/pachterlab/GRNP_2020/blob/master/notebooks/R_processing/ProcessR_EVALPBMC.ipynb\n",
        "https://github.com/pachterlab/GRNP_2020/blob/master/notebooks/R_processing/ProcessR_EVALPBMC_DS.ipynb\n",
        "https://github.com/pachterlab/GRNP_2020/blob/master/notebooks/R_processing/ProcessR_EVALPBMC_SW.ipynb\n",
        "https://github.com/pachterlab/GRNP_2020/blob/master/notebooks/R_processing/ProcessR_LC.ipynb\n",
        "https://github.com/pachterlab/GRNP_2020/blob/master/notebooks/R_processing/ProcessR_MRET.ipynb\n",
        "https://github.com/pachterlab/GRNP_2020/blob/master/notebooks/R_processing/ProcessR_MRET2.ipynb\n",
        "https://github.com/pachterlab/GRNP_2020/blob/master/notebooks/R_processing/ProcessR_PBMC_NG.ipynb\n",
        "https://github.com/pachterlab/GRNP_2020/blob/master/notebooks/R_processing/ProcessR_PBMC_NG_2.ipynb\n",
        "https://github.com/pachterlab/GRNP_2020/blob/master/notebooks/R_processing/ProcessR_PBMC_V2.ipynb\n",
        "https://github.com/pachterlab/GRNP_2020/blob/master/notebooks/R_processing/ProcessR_PBMC_V3.ipynb\n",
        "https://github.com/pachterlab/GRNP_2020/blob/master/notebooks/R_processing/ProcessR_PBMC_V3_2.ipynb\n",
        "https://github.com/pachterlab/GRNP_2020/blob/master/notebooks/R_processing/ProcessR_PBMC_V3_3.ipynb\n",
        "https://github.com/pachterlab/GRNP_2020/blob/master/notebooks/R_processing/ProcessR_MARSSEQ.ipynb\n",
        "\n"
      ]
    },
    {
      "cell_type": "markdown",
      "metadata": {
        "id": "h8RnKVMXgbzr"
      },
      "source": [
        "**1. Download the code and processed data**"
      ]
    },
    {
      "cell_type": "code",
      "metadata": {
        "id": "doUAtCxIyOiI"
      },
      "source": [
        "#download the R code\n",
        "![ -d \"GRNP_2020\" ] && rm -r GRNP_2020\n",
        "\n",
        "!git clone https://github.com/pachterlab/GRNP_2020.git\n"
      ],
      "execution_count": null,
      "outputs": []
    },
    {
      "cell_type": "code",
      "metadata": {
        "id": "dUNSQ1qBZb2g"
      },
      "source": [
        "#download processed data from Zenodo for all datasets\n",
        "![ -d \"figureData\" ] && rm -r figureData\n",
        "!mkdir figureData\n",
        "!cd figureData && wget https://zenodo.org/record/4661263/files/EVAL.zip?download=1 && unzip 'EVAL.zip?download=1' && rm 'EVAL.zip?download=1'\n",
        "!cd figureData && wget https://zenodo.org/record/4661263/files/EVALPBMC.zip?download=1 && unzip 'EVALPBMC.zip?download=1' && rm 'EVALPBMC.zip?download=1'\n",
        "!cd figureData && wget https://zenodo.org/record/4661263/files/EVALPBMC_DS.zip?download=1 && unzip 'EVALPBMC_DS.zip?download=1' && rm 'EVALPBMC_DS.zip?download=1'\n",
        "!cd figureData && wget https://zenodo.org/record/4661263/files/EVALPBMC_SW.zip?download=1 && unzip 'EVALPBMC_SW.zip?download=1' && rm 'EVALPBMC_SW.zip?download=1'\n",
        "!cd figureData && wget https://zenodo.org/record/4661263/files/PBMC_V3_3.zip?download=1 && unzip 'PBMC_V3_3.zip?download=1' && rm 'PBMC_V3_3.zip?download=1'\n",
        "!cd figureData && wget https://zenodo.org/record/4661263/files/PBMC_V3_2.zip?download=1 && unzip 'PBMC_V3_2.zip?download=1' && rm 'PBMC_V3_2.zip?download=1'\n",
        "!cd figureData && wget https://zenodo.org/record/4661263/files/PBMC_V3.zip?download=1 && unzip 'PBMC_V3.zip?download=1' && rm 'PBMC_V3.zip?download=1'\n",
        "!cd figureData && wget https://zenodo.org/record/4661263/files/PBMC_NG.zip?download=1 && unzip 'PBMC_NG.zip?download=1' && rm 'PBMC_NG.zip?download=1'\n",
        "!cd figureData && wget https://zenodo.org/record/4661263/files/PBMC_NG_2.zip?download=1 && unzip 'PBMC_NG_2.zip?download=1' && rm 'PBMC_NG_2.zip?download=1'\n",
        "!cd figureData && wget https://zenodo.org/record/4661263/files/PBMC_V2.zip?download=1 && unzip 'PBMC_V2.zip?download=1' && rm 'PBMC_V2.zip?download=1'\n",
        "!cd figureData && wget https://zenodo.org/record/4661263/files/LC.zip?download=1 && unzip 'LC.zip?download=1' && rm 'LC.zip?download=1'\n",
        "!cd figureData && wget https://zenodo.org/record/4661263/files/MRET.zip?download=1 && unzip 'MRET.zip?download=1' && rm 'MRET.zip?download=1'\n",
        "!cd figureData && wget https://zenodo.org/record/4661263/files/MRET2.zip?download=1 && unzip 'MRET2.zip?download=1' && rm 'MRET2.zip?download=1'\n",
        "!cd figureData && wget https://zenodo.org/record/4661263/files/MARSSEQ.zip?download=1 && unzip 'MARSSEQ.zip?download=1' && rm 'MARSSEQ.zip?download=1'\n"
      ],
      "execution_count": null,
      "outputs": []
    },
    {
      "cell_type": "code",
      "metadata": {
        "id": "oesgTqLO0Qje"
      },
      "source": [
        "#Check that download worked\n",
        "!cd figureData && ls -l && cd EVAL && ls -l"
      ],
      "execution_count": null,
      "outputs": []
    },
    {
      "cell_type": "markdown",
      "metadata": {
        "id": "sCmhNVdYgkWH"
      },
      "source": [
        "**2. Prepare the R environment**"
      ]
    },
    {
      "cell_type": "code",
      "metadata": {
        "id": "5Gt6rQkSXriM"
      },
      "source": [
        "#switch to R mode\n",
        "%reload_ext rpy2.ipython\n"
      ],
      "execution_count": null,
      "outputs": []
    },
    {
      "cell_type": "code",
      "metadata": {
        "id": "jJ3rQJCdgeJa"
      },
      "source": [
        "#install the R packages\n",
        "%%R\n",
        "install.packages(\"dplyr\")\n",
        "install.packages(\"ggplot2\")\n",
        "install.packages(\"DescTools\")\n",
        "install.packages(\"ggpubr\")\n",
        "install.packages(\"hexbin\")\n",
        "install.packages(\"reshape2\")\n",
        "install.packages(\"farver\")\n",
        "install.packages(\"tidyverse\")\n"
      ],
      "execution_count": null,
      "outputs": []
    },
    {
      "cell_type": "markdown",
      "metadata": {
        "id": "x56fjfCSicrp"
      },
      "source": [
        "**3. Generate the figures**\n"
      ]
    },
    {
      "cell_type": "code",
      "metadata": {
        "id": "V37XLBAO68oR"
      },
      "source": [
        "#First set some path variables\n",
        "%%R\n",
        "source(\"GRNP_2020/RCode/pathsGoogleColab.R\")\n"
      ],
      "execution_count": null,
      "outputs": []
    },
    {
      "cell_type": "code",
      "metadata": {
        "id": "R6kuhOmzZL_X"
      },
      "source": [
        "#Import the code for prediction (available in other notebooks)\n",
        "%%R\n",
        "source(paste0(sourcePath,\"ButterflyHelpers.R\"))\n",
        "#source(paste0(sourcePath,\"preseqHelpers.R\"))\n",
        "source(paste0(sourcePath,\"CCCHelpers.R\"))\n",
        "source(paste0(sourcePath,\"ggplotHelpers.R\"))\n",
        "\n",
        "\n",
        "\n"
      ],
      "execution_count": null,
      "outputs": []
    },
    {
      "cell_type": "code",
      "metadata": {
        "id": "kqZPO7XjtPPa"
      },
      "source": [
        "#create figure directory\n",
        "![ -d \"figures\" ] && rm -r figures\n",
        "!mkdir figures"
      ],
      "execution_count": null,
      "outputs": []
    },
    {
      "cell_type": "code",
      "metadata": {
        "id": "tkQeT362BM7V"
      },
      "source": [
        "#####################################################\n",
        "# Fig S4\n",
        "#####################################################\n",
        "\n",
        "%%R\n",
        "\n",
        "loadStats(\"LC\")\n",
        "loadStats(\"PBMC_NG\")\n",
        "loadStats(\"PBMC_NG_2\")\n",
        "loadStats(\"PBMC_V3\")\n",
        "loadStats(\"PBMC_V3_2\")\n",
        "loadStats(\"PBMC_V3_3\")\n",
        "loadStats(\"PBMC_V2\")\n",
        "loadStats(\"EVAL\")\n",
        "loadStats(\"EVALPBMC\")\n",
        "loadStats(\"EVALPBMC_DS\")\n",
        "loadStats(\"EVALPBMC_SW\")\n",
        "loadStats(\"MRET\")\n",
        "loadStats(\"MRET2\")\n",
        "loadStats(\"MARSSEQ\")\n",
        "\n",
        "\n",
        "AddToHexbinData = function(dat, umis, fracOnes, dataset) {\n",
        "  logUmis = log2(umis)\n",
        "  d = tibble(x = logUmis, y = fracOnes, ds = rep(dataset, length(fracOnes)))\n",
        "\n",
        "  if (is.null(dat)) {\n",
        "    dat = d\n",
        "  } else {\n",
        "    dat = bind_rows(dat,d);\n",
        "  }\n",
        "\n",
        "  return(dat)\n",
        "}\n",
        "\n",
        "\n",
        "dat = NULL\n",
        "\n",
        "dat = AddToHexbinData(dat, statsPBMC_V3$UMIs_PBMC_V3_d_100, statsPBMC_V3$FracOnes_PBMC_V3_d_100, \"PBMC_V3\")\n",
        "dat = AddToHexbinData(dat, statsPBMC_V3_2$UMIs_PBMC_V3_2_d_100, statsPBMC_V3_2$FracOnes_PBMC_V3_2_d_100, \"PBMC_V3_2\")\n",
        "#dat = AddToHexbinData(dat, statsPBMC_V3_3$UMIs_PBMC_V3_3_d_100, statsPBMC_V3_3$FracOnes_PBMC_V3_3_d_100, \"PBMC_V3_3\") #this is the same as Fig 2A, don't duplicate it!\n",
        "dat = AddToHexbinData(dat, statsPBMC_NG$UMIs_PBMC_NG_d_100, statsPBMC_NG$FracOnes_PBMC_NG_d_100, \"PBMC_NG\")\n",
        "dat = AddToHexbinData(dat, statsPBMC_NG_2$UMIs_PBMC_NG_2_d_100, statsPBMC_NG_2$FracOnes_PBMC_NG_2_d_100, \"PBMC_NG_2\")\n",
        "dat = AddToHexbinData(dat, statsPBMC_V2$UMIs_PBMC_V2_d_100, statsPBMC_V2$FracOnes_PBMC_V2_d_100, \"PBMC_V2\")\n",
        "dat = AddToHexbinData(dat, statsEVAL$UMIs_EVAL_d_100, statsEVAL$FracOnes_EVAL_d_100, \"EVAL\")\n",
        "dat = AddToHexbinData(dat, statsEVALPBMC$UMIs_EVALPBMC_d_100, statsEVALPBMC$FracOnes_EVALPBMC_d_100, \"EVALPBMC\")\n",
        "dat = AddToHexbinData(dat, statsLC$UMIs_LC_d_100, statsLC$FracOnes_LC_d_100, \"LC\")\n",
        "dat = AddToHexbinData(dat, statsMRET2$UMIs_MRET2_d_100, statsMRET2$FracOnes_MRET2_d_100, \"MRET2\")\n",
        "dat = AddToHexbinData(dat, statsEVALPBMC_DS$UMIs_EVALPBMC_DS_d_100, statsEVALPBMC_DS$FracOnes_EVALPBMC_DS_d_100, \"EVALPBMC_DS\")\n",
        "dat = AddToHexbinData(dat, statsMRET$UMIs_MRET_d_100, statsMRET$FracOnes_MRET_d_100, \"MRET\")\n",
        "dat = AddToHexbinData(dat, statsEVALPBMC_SW$UMIs_EVALPBMC_SW_d_100, statsEVALPBMC_SW$FracOnes_EVALPBMC_SW_d_100, \"EVALPBMC_SW\")\n",
        "dat = AddToHexbinData(dat, statsMARSSEQ$UMIs_MARSSEQ_d_100, statsMARSSEQ$FracOnes_MARSSEQ_d_100, \"MARSSEQ\")\n",
        "\n",
        "dat$ds = factor(dat$ds, levels = c(\"PBMC_V3\",\"PBMC_V3_2\",\"PBMC_V3_3\",\"PBMC_NG\",\"PBMC_NG_2\",\"PBMC_V2\",\"EVAL\",\"EVALPBMC\",\"LC\",\"MRET2\",\"EVALPBMC_DS\",\"MRET\",\"EVALPBMC_SW\",\"MARSSEQ\"))\n",
        "\n",
        "#create figure:\n",
        "figS4 = ggplot(dat) +\n",
        "  stat_binhex(bins=60,na.rm = TRUE, mapping=aes(x = x, y=y, fill = log(..count..))) + # opts(aspect.ratio = 1) +\n",
        "  facet_wrap(facets = ~ds, scales = \"free_x\", ncol=3) +\n",
        "  labs(x=expression(Log[2]*\"(UMI counts)\"), y=\"FSCM\") +\n",
        "  theme(panel.background = element_rect(\"white\", \"white\", 0, 0, \"white\"),\n",
        "        legend.position= \"bottom\", legend.direction = \"horizontal\",#, legend.title = element_blank())\n",
        "        strip.text.x = element_text(size = 12, face = \"bold\"),\n",
        "        #legend.position= \"none\",\n",
        "        strip.background = element_blank())\n",
        "\n",
        "print(figS4) # for some reason this plot sometimes fail and show an error (\"hbin\" ...) - Restart R and try again in that case\n",
        "\n",
        "ggsave(\n",
        "  paste0(figure_path, \"FigS4.png\"),\n",
        "  plot = figS4, device = \"png\",\n",
        "  width = 7, height = 11, dpi = 300)\n"
      ],
      "execution_count": null,
      "outputs": []
    },
    {
      "cell_type": "code",
      "metadata": {
        "id": "yvtUQDEFr8Pl"
      },
      "source": [
        "#############################\n",
        "# Fig S5 - Hexbin plot\n",
        "#############################\n",
        "%%R\n",
        "\n",
        "AddToHexbinData2 = function(dat, ds1, ds2) {\n",
        "  stats1 = get(paste0(\"stats\",ds1), envir=.GlobalEnv)\n",
        "  indUMIs1 = which(colnames(stats1) == paste0(\"UMIs_\",ds1,\"_d_100\"))\n",
        "  indFO1 = which(colnames(stats1) == paste0(\"FracOnes_\",ds1,\"_d_100\"))\n",
        "  stats2 = get(paste0(\"stats\",ds2), envir=.GlobalEnv)\n",
        "  indUMIs2 = which(colnames(stats2) == paste0(\"UMIs_\",ds2,\"_d_100\"))\n",
        "  indFO2 = which(colnames(stats2) == paste0(\"FracOnes_\",ds2,\"_d_100\"))\n",
        "  \n",
        "  stats1Filt = stats1[stats1[[indUMIs1]] >= 200, ]\n",
        "  stats2Filt = stats2[stats2[[indUMIs2]] >= 200, ]\n",
        "  \n",
        "  merged = inner_join(stats2Filt[, c(1,indFO2)], stats1Filt[, c(1,indFO1)], by=\"gene\")\n",
        "  colnames(merged) = c(\"gene\", \"x\", \"y\")\n",
        "  \n",
        "  d = merged %>% add_column(ds=paste0(ds1, \" vs \", ds2))\n",
        "  \n",
        "\n",
        "  if (is.null(dat)) {\n",
        "    dat = d\n",
        "  } else {\n",
        "    dat = bind_rows(dat,d);\n",
        "  }\n",
        "  \n",
        "  return(dat)\n",
        "}\n",
        "\n",
        "#ds1 = \"PBMC_V3_3\"\n",
        "#ds2 = \"PBMC_V3_2\"\n",
        "\n",
        "dat2 = NULL\n",
        "\n",
        "#dat2 = AddToHexbinData2(dat2, \"PBMC_V3_3\", \"PBMC_V3_2\") #the same as Fig 2B, don't duplicate it!\n",
        "dat2 = AddToHexbinData2(dat2, \"PBMC_V3_3\", \"PBMC_V2\")\n",
        "dat2 = AddToHexbinData2(dat2, \"PBMC_V2\", \"EVALPBMC\")\n",
        "dat2 = AddToHexbinData2(dat2, \"PBMC_V2\", \"LC\")\n",
        "dat2 = AddToHexbinData2(dat2, \"EVALPBMC\", \"EVALPBMC_DS\")\n",
        "dat2 = AddToHexbinData2(dat2, \"EVALPBMC\", \"EVALPBMC_SW\")\n",
        "dat2 = AddToHexbinData2(dat2, \"EVALPBMC_DS\", \"EVALPBMC_SW\")\n",
        "dat2 = AddToHexbinData2(dat2, \"MRET2\", \"MRET\")\n",
        "dat2 = AddToHexbinData2(dat2, \"EVAL\", \"MARSSEQ\")\n",
        "\n",
        "#dat2 = AddToHexbinData2(dat2, \"PBMC_V3_3\", \"PBMC_V2\")\n",
        "\n",
        "#specify the order of the plots\n",
        "dat2$ds = factor(dat2$ds, levels = c(\"PBMC_V3_3 vs PBMC_V3_2\", \"PBMC_V3_3 vs PBMC_V2\", \"PBMC_V2 vs EVALPBMC\",\n",
        "                                     \"PBMC_V2 vs LC\", \"EVALPBMC vs EVALPBMC_DS\", \"EVALPBMC vs EVALPBMC_SW\", \n",
        "                                     \"EVALPBMC_DS vs EVALPBMC_SW\", \"MRET2 vs MRET\", \"EVAL vs MARSSEQ\"))\n",
        "\n",
        "dfline = data.frame(x=c(0,1), y=c(0,1))\n",
        "\n",
        "figS5 = ggplot(dat2) +\n",
        "  stat_binhex(bins=60,na.rm = TRUE, mapping=aes(x = x, y=y, fill = log(..count..))) + # opts(aspect.ratio = 1) +\n",
        "  geom_line(data=dfline, mapping=aes(x = x, y=y), color=\"black\", size=1.5) + \n",
        "  facet_wrap(facets = ~ds, scales = \"free_x\", ncol=2) +\n",
        "  labs(x=\"FSCM 2\", y=\"FSCM 1\") +\n",
        "  theme(panel.background = element_rect(\"white\", \"white\", 0, 0, \"white\"),\n",
        "        legend.position= \"bottom\", legend.direction = \"horizontal\",#, legend.title = element_blank())\n",
        "        strip.text.x = element_text(size = 10, face = \"bold\"),\n",
        "        #legend.position= \"none\",\n",
        "        strip.background = element_blank())\n",
        "\n",
        "print(figS5) # for some reason this plot sometimes fail and show an error (\"hbin\" ...) - Restart R and try again in that case\n",
        "\n",
        "ggsave(\n",
        "  paste0(figure_path, \"FigS5.png\"),\n",
        "  plot = figS5, device = \"png\",\n",
        "  width = 6, height = 10, dpi = 300)\n"
      ],
      "execution_count": null,
      "outputs": []
    },
    {
      "cell_type": "code",
      "metadata": {
        "id": "fCES8zTLsO2-"
      },
      "source": [
        "#############################\n",
        "# Fig 2 - One of each type above\n",
        "#############################\n",
        "%%R\n",
        "dat3 = NULL\n",
        "dat3 = AddToHexbinData(dat3, statsPBMC_V3_3$UMIs_PBMC_V3_3_d_100, statsPBMC_V3_3$FracOnes_PBMC_V3_3_d_100, \"PBMC_V3_3\")\n",
        "\n",
        "fig2A = ggplot(dat3) +\n",
        "  stat_binhex(bins=60,na.rm = TRUE, mapping=aes(x = x, y=y, fill = log(..count..))) + # opts(aspect.ratio = 1) +\n",
        "  #facet_wrap(facets = ~ds, scales = \"free_x\", ncol=3) +\n",
        "  ggtitle(\"FSCM vs Gene Expression\") + \n",
        "  labs(x=expression(Log[2]*\"(UMI counts)\"), y=\"FSCM\") +\n",
        "  theme(panel.background = element_rect(\"white\", \"white\", 0, 0, \"white\"),\n",
        "        legend.position= \"bottom\", legend.direction = \"horizontal\",#, legend.title = element_blank())\n",
        "        strip.text.x = element_text(size = 12, face = \"bold\"),\n",
        "        #legend.position= \"none\",\n",
        "        strip.background = element_blank())\n",
        "\n",
        "print(fig2A)\n",
        "\n",
        "dat4 = NULL\n",
        "dat4 = AddToHexbinData2(dat4, \"PBMC_V3_3\", \"PBMC_V3_2\")\n",
        "dfline = data.frame(x=c(0,1), y=c(0,1))\n",
        "\n",
        "fig2B = ggplot(dat4) +\n",
        "  stat_binhex(bins=60,na.rm = TRUE, mapping=aes(x = x, y=y, fill = log(..count..))) + # opts(aspect.ratio = 1) +\n",
        "  geom_line(data=dfline, mapping=aes(x = x, y=y), color=\"black\", size=1.5) + \n",
        "  ggtitle(\"FSCM Across Datasets\") + \n",
        "  #facet_wrap(facets = ~ds, scales = \"free_x\", ncol=2) +\n",
        "  labs(x=\"FSCM, PBMC_V3_2\", y=\"FSCM, PBMC_V3_3\") +\n",
        "  theme(panel.background = element_rect(\"white\", \"white\", 0, 0, \"white\"),\n",
        "        legend.position= \"bottom\", legend.direction = \"horizontal\",#, legend.title = element_blank())\n",
        "        strip.text.x = element_text(size = 10, face = \"bold\"),\n",
        "        #legend.position= \"none\",\n",
        "        strip.background = element_blank())\n",
        "\n",
        "print(fig2B) # for some reason this plot sometimes fail and show an error (\"hbin\" ...) - Restart R and try again in that case\n",
        "\n",
        "fig2 = ggarrange(fig2A, fig2B, nrow=1, ncol=2,labels=c(\"A\",\"B\"))\n",
        "\n",
        "print(fig2) # for some reason this plot sometimes fail and show an error (\"hbin\" ...) - Restart R and try again in that case\n",
        "\n",
        "ggsave(\n",
        "  paste0(figure_path, \"Fig2.png\"),\n",
        "  plot = fig2, device = \"png\",\n",
        "  width = 6, height = 4, dpi = 300)\n",
        "\n"
      ],
      "execution_count": null,
      "outputs": []
    }
  ]
}