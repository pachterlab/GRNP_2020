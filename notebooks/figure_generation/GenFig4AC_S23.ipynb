{
  "nbformat": 4,
  "nbformat_minor": 0,
  "metadata": {
    "colab": {
      "name": "GenFig4AC_S23.ipynb",
      "provenance": [],
      "collapsed_sections": [],
      "include_colab_link": true
    },
    "kernelspec": {
      "name": "python3",
      "display_name": "Python 3"
    }
  },
  "cells": [
    {
      "cell_type": "markdown",
      "metadata": {
        "id": "view-in-github",
        "colab_type": "text"
      },
      "source": [
        "<a href=\"https://colab.research.google.com/github/pachterlab/GRNP_2020/blob/master/notebooks/figure_generation/GenFig4AC_S23.ipynb\" target=\"_parent\"><img src=\"https://colab.research.google.com/assets/colab-badge.svg\" alt=\"Open In Colab\"/></a>"
      ]
    },
    {
      "cell_type": "markdown",
      "metadata": {
        "id": "dhydD96df06z"
      },
      "source": [
        "**Generates figure 4 A-C and supplementary figure 23**\n",
        "\n",
        "This notebook generates figures for showing the improvement of BUTTERFLY correction on scRNA-Seq data, by comparing a downsampled and full dataset. Furthermore, we show the effect of \"borrowing\" CU histogram information from similar datasets, and determine the sampling noise, which sets a theoretical maximum performance for the prediction in downsampling scenarios such as this.\n",
        "\n",
        "Steps:\n",
        "1. Download the code and processed data\n",
        "2. Setup the R environment\n",
        "3. Generate the figures\n",
        "\n",
        "The data for these figures is produced by the following notebooks:\n",
        "\n",
        "Processing of FASTQ files with kallisto and bustools:\n",
        "\n",
        "https://github.com/pachterlab/GRNP_2020/blob/master/notebooks/FASTQ_processing/ProcessPBMC_V3_3.ipynb\n",
        "\n",
        "Preprocessing of BUG files:\n",
        "\n",
        "https://github.com/pachterlab/GRNP_2020/blob/master/notebooks/R_processing/ProcessR_PBMC_V3_3.ipynb\n",
        "\n",
        "Precalculation of figure data: \n",
        "\n",
        "https://github.com/pachterlab/GRNP_2020/blob/master/notebooks/figure_generation/GenFig4AC_S23Data.ipynb\n"
      ]
    },
    {
      "cell_type": "markdown",
      "metadata": {
        "id": "h8RnKVMXgbzr"
      },
      "source": [
        "**1. Download the code and processed data**"
      ]
    },
    {
      "cell_type": "code",
      "metadata": {
        "id": "doUAtCxIyOiI"
      },
      "source": [
        "#download the R code\n",
        "![ -d \"GRNP_2020\" ] && rm -r GRNP_2020\n",
        "\n",
        "!git clone https://github.com/pachterlab/GRNP_2020.git\n"
      ],
      "execution_count": null,
      "outputs": []
    },
    {
      "cell_type": "code",
      "metadata": {
        "id": "dUNSQ1qBZb2g"
      },
      "source": [
        "#download processed data from Zenodo for all datasets\n",
        "![ -d \"figureData\" ] && rm -r figureData\n",
        "!mkdir figureData\n",
        "!cd figureData && wget https://zenodo.org/record/4661263/files/FigureData.zip?download=1 && unzip 'FigureData.zip?download=1' && rm 'FigureData.zip?download=1'\n"
      ],
      "execution_count": null,
      "outputs": []
    },
    {
      "cell_type": "code",
      "metadata": {
        "id": "oesgTqLO0Qje"
      },
      "source": [
        "#Check that download worked\n",
        "!cd figureData && ls -l && cd PBMC_V3_3 && ls -l"
      ],
      "execution_count": null,
      "outputs": []
    },
    {
      "cell_type": "markdown",
      "metadata": {
        "id": "sCmhNVdYgkWH"
      },
      "source": [
        "**2. Prepare the R environment**"
      ]
    },
    {
      "cell_type": "code",
      "metadata": {
        "id": "5Gt6rQkSXriM"
      },
      "source": [
        "#switch to R mode\n",
        "%reload_ext rpy2.ipython\n"
      ],
      "execution_count": null,
      "outputs": []
    },
    {
      "cell_type": "code",
      "metadata": {
        "id": "jJ3rQJCdgeJa"
      },
      "source": [
        "#install the R packages and setup paths\n",
        "%%R\n",
        "install.packages(\"dplyr\")\n",
        "install.packages(\"ggplot2\")\n",
        "install.packages(\"DescTools\")\n",
        "install.packages(\"ggpubr\")\n",
        "install.packages(\"hexbin\")\n",
        "install.packages(\"reshape2\")\n",
        "install.packages(\"farver\")\n",
        "\n",
        "\n"
      ],
      "execution_count": null,
      "outputs": []
    },
    {
      "cell_type": "markdown",
      "metadata": {
        "id": "x56fjfCSicrp"
      },
      "source": [
        "**3. Generate the figures**\n"
      ]
    },
    {
      "cell_type": "code",
      "metadata": {
        "id": "V37XLBAO68oR"
      },
      "source": [
        "#First set some path variables\n",
        "%%R\n",
        "source(\"GRNP_2020/RCode/pathsGoogleColab.R\")\n"
      ],
      "execution_count": null,
      "outputs": []
    },
    {
      "cell_type": "code",
      "metadata": {
        "id": "R6kuhOmzZL_X"
      },
      "source": [
        "#Import the code for prediction (available in other notebooks)\n",
        "%%R\n",
        "source(paste0(sourcePath,\"ButterflyHelpers.R\"))\n",
        "#source(paste0(sourcePath,\"preseqHelpers.R\"))\n",
        "source(paste0(sourcePath,\"CCCHelpers.R\"))\n",
        "source(paste0(sourcePath,\"ggplotHelpers.R\"))\n",
        "\n",
        "\n",
        "\n"
      ],
      "execution_count": null,
      "outputs": []
    },
    {
      "cell_type": "code",
      "metadata": {
        "id": "kqZPO7XjtPPa"
      },
      "source": [
        "#create figure directory\n",
        "![ -d \"figures\" ] && rm -r figures\n",
        "!mkdir figures"
      ],
      "execution_count": null,
      "outputs": []
    },
    {
      "cell_type": "code",
      "metadata": {
        "id": "tkQeT362BM7V"
      },
      "source": [
        "#Create and save the figures\n",
        "%%R\n",
        "library(ggplot2)\n",
        "library(ggpubr)\n",
        "library(hexbin)\n",
        "library(dplyr)\n",
        "\n",
        "\n",
        "ldata = readRDS(paste0(figure_data_path, \"Fig4AC_ldata.RDS\"))\n",
        "ldata2 = readRDS(paste0(figure_data_path, \"Fig4AC_ldata2.RDS\"))\n",
        "\n",
        "#generate plot data\n",
        "plotdata = tibble(gene=ldata$gene, \n",
        "                  x=ldata$x, \n",
        "                  nopred=ldata$nopred - ldata$trueval,\n",
        "                  pred=ldata$pred - ldata$trueval,\n",
        "                  poolpred=ldata$poolpred - ldata$trueval)\n",
        "\n",
        "#melt\n",
        "plotdata.m = reshape2::melt(plotdata, id.vars=c(\"gene\",\"x\"), measure.vars = c(\"nopred\", \"pred\", \"poolpred\"))\n",
        "\n",
        "labl = labeller(variable = \n",
        "                      c(\"nopred\" = \"No Correction\",\n",
        "                        \"pred\" = \"Correction\",\n",
        "                        \"poolpred\" = \"Correction using Pooling\"))\n",
        "\n",
        "dfline = data.frame(x=c(0,16), y=c(0,0))\n",
        "\n",
        "dummyData = data.frame(x=c(0,0), y=c(1.1, -1.5)) #used in a trick to set y axis range below\n",
        "\n",
        "fig4AC = ggplot(plotdata.m) +\n",
        "  stat_binhex(bins=60,na.rm = TRUE, mapping=aes(x = x, y=value, fill = log(..count..))) + # opts(aspect.ratio = 1) +\n",
        "  facet_wrap(facets = ~  variable, scales = \"free_x\", labeller = labl, ncol=3) +\n",
        "  geom_line(data=dfline, mapping = aes(x=x, y=y), color=\"black\", size=1) + \n",
        "  geom_blank(data = dummyData, mapping = aes(x=x, y=y)) + #trick to set y axis range\n",
        "  labs(y=expression(Log[2]*\" fold change (CPM)\"), x=expression(Log[2]*\"(CPM + 1)\")) +\n",
        "  theme(panel.background = element_rect(\"white\", \"white\", 0, 0, \"white\"),\n",
        "        legend.position= \"bottom\", legend.direction = \"horizontal\",#, legend.title = element_blank())\n",
        "        strip.text.x = element_text(size = 12, face = \"bold\"),\n",
        "        #legend.position= \"none\",\n",
        "        strip.background = element_blank())\n",
        "\n",
        "print(fig4AC)\n",
        "\n",
        "ggsave(\n",
        "  paste0(figure_path, \"Fig4AC.png\"),\n",
        "  plot = fig4AC, device = \"png\",\n",
        "  width = 7, height = 4, dpi = 300)\n",
        "\n"
      ],
      "execution_count": null,
      "outputs": []
    },
    {
      "cell_type": "code",
      "metadata": {
        "id": "RpGp0r8xZcCh"
      },
      "source": [
        "%%R\n",
        "#########################\n",
        "# Fig S23 (Sampling noise)\n",
        "#########################\n",
        "#cpm and log transform\n",
        "\n",
        "plotdata2 = tibble(gene=ldata2$gene, \n",
        "                  x=ldata2$x, \n",
        "                  y=ldata2$sampling - ldata$nopred)\n",
        "\n",
        "\n",
        "dfline = data.frame(x=c(0,16), y=c(0,0))\n",
        "dummyData = data.frame(x=c(0,0), y=c(1.1, -1.5))\n",
        "\n",
        "figS23 = ggplot(plotdata2) +\n",
        "  stat_binhex(bins=60,na.rm = TRUE, mapping=aes(x = x, y=y, fill = log(..count..))) + # opts(aspect.ratio = 1) +\n",
        "  #facet_wrap(facets = ~  variable, scales = \"free_x\", labeller = labl, ncol=3) +\n",
        "  geom_line(data=dfline, mapping = aes(x=x, y=y), color=\"black\", size=1) + \n",
        "  geom_blank(data = dummyData, mapping = aes(x=x, y=y)) + #trick to set y axis range\n",
        "  labs(y=expression(Log[2]*\" fold change (CPM)\"), x=expression(Log[2]*\"(CPM + 1)\")) +\n",
        "  theme(panel.background = element_rect(\"white\", \"white\", 0, 0, \"white\"),\n",
        "        legend.position= \"bottom\", legend.direction = \"horizontal\",#, legend.title = element_blank())\n",
        "        strip.text.x = element_text(size = 12, face = \"bold\"),\n",
        "        #legend.position= \"none\",\n",
        "        strip.background = element_blank())\n",
        "\n",
        "print(figS23)\n",
        "\n",
        "\n",
        "ggsave(\n",
        "  paste0(figure_path, \"FigS23.png\"),\n",
        "  plot = figS23, device = \"png\",\n",
        "  width = 3, height = 4, dpi = 300)\n",
        "\n"
      ],
      "execution_count": null,
      "outputs": []
    },
    {
      "cell_type": "code",
      "metadata": {
        "id": "Wdsz63XWcsvO"
      },
      "source": [
        "#The data to present over the plots\n",
        "%%R\n",
        "print(paste0(\"CCC, no pred: \", getCCC(ldata$nopred, ldata$trueval))) #0.981275291888894\n",
        "print(paste0(\"CCC, pred no pooling: \", getCCC(ldata$pred, ldata$trueval))) #0.993829998877551\n",
        "print(paste0(\"CCC, pred with pooling: \", getCCC(ldata$poolpred, ldata$trueval))) #0.997028015743896\n",
        "print(paste0(\"CCC, no pred, bin ds vs ds: \", getCCC(ldata2$nopred, ldata2$sampling))) #\n"
      ],
      "execution_count": null,
      "outputs": []
    }
  ]
}