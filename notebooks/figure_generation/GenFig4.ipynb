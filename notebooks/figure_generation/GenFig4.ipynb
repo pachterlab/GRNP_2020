{
  "nbformat": 4,
  "nbformat_minor": 0,
  "metadata": {
    "colab": {
      "name": "GenFig4.ipynb",
      "provenance": [],
      "collapsed_sections": [],
      "include_colab_link": true
    },
    "kernelspec": {
      "name": "python3",
      "display_name": "Python 3"
    }
  },
  "cells": [
    {
      "cell_type": "markdown",
      "metadata": {
        "id": "view-in-github",
        "colab_type": "text"
      },
      "source": [
        "<a href=\"https://colab.research.google.com/github/pachterlab/GRNP_2020/blob/master/notebooks/figure_generation/GenFig3_S20.ipynb\" target=\"_parent\"><img src=\"https://colab.research.google.com/assets/colab-badge.svg\" alt=\"Open In Colab\"/></a>"
      ]
    },
    {
      "cell_type": "markdown",
      "metadata": {
        "id": "dhydD96df06z",
        "colab_type": "text"
      },
      "source": [
        "**Generates figure 3 and supplementary figure 20**\n",
        "\n",
        "This notebook generates figures for showing the improvement of BUTTERFLY correction on scRNA-Seq data, by comparing a downsampled and full dataset. Furthermore, we show the effect of \"borrowing\" CU histogram information from similar datasets, and determine the sampling noise, which sets a theoretical maximum performance for the prediction in downsampling scenarios such as this.\n",
        "\n",
        "Steps:\n",
        "1. Download the code and processed data\n",
        "2. Setup the R environment\n",
        "3. Generate the figures\n"
      ]
    },
    {
      "cell_type": "markdown",
      "metadata": {
        "id": "h8RnKVMXgbzr",
        "colab_type": "text"
      },
      "source": [
        "**1. Download the code and processed data**"
      ]
    },
    {
      "cell_type": "code",
      "metadata": {
        "id": "doUAtCxIyOiI",
        "colab_type": "code",
        "colab": {
          "base_uri": "https://localhost:8080/",
          "height": 136
        },
        "outputId": "34491f1f-2acb-4cf1-f586-7c5a197b78ee"
      },
      "source": [
        "#download the R code\n",
        "![ -d \"GRNP_2020\" ] && rm -r GRNP_2020\n",
        "\n",
        "!git clone https://github.com/pachterlab/GRNP_2020.git\n"
      ],
      "execution_count": 1,
      "outputs": [
        {
          "output_type": "stream",
          "text": [
            "Cloning into 'GRNP_2020'...\n",
            "remote: Enumerating objects: 168, done.\u001b[K\n",
            "remote: Counting objects:   0% (1/168)\u001b[K\rremote: Counting objects:   1% (2/168)\u001b[K\rremote: Counting objects:   2% (4/168)\u001b[K\rremote: Counting objects:   3% (6/168)\u001b[K\rremote: Counting objects:   4% (7/168)\u001b[K\rremote: Counting objects:   5% (9/168)\u001b[K\rremote: Counting objects:   6% (11/168)\u001b[K\rremote: Counting objects:   7% (12/168)\u001b[K\rremote: Counting objects:   8% (14/168)\u001b[K\rremote: Counting objects:   9% (16/168)\u001b[K\rremote: Counting objects:  10% (17/168)\u001b[K\rremote: Counting objects:  11% (19/168)\u001b[K\rremote: Counting objects:  12% (21/168)\u001b[K\rremote: Counting objects:  13% (22/168)\u001b[K\rremote: Counting objects:  14% (24/168)\u001b[K\rremote: Counting objects:  15% (26/168)\u001b[K\rremote: Counting objects:  16% (27/168)\u001b[K\rremote: Counting objects:  17% (29/168)\u001b[K\rremote: Counting objects:  18% (31/168)\u001b[K\rremote: Counting objects:  19% (32/168)\u001b[K\rremote: Counting objects:  20% (34/168)\u001b[K\rremote: Counting objects:  21% (36/168)\u001b[K\rremote: Counting objects:  22% (37/168)\u001b[K\rremote: Counting objects:  23% (39/168)\u001b[K\rremote: Counting objects:  24% (41/168)\u001b[K\rremote: Counting objects:  25% (42/168)\u001b[K\rremote: Counting objects:  26% (44/168)\u001b[K\rremote: Counting objects:  27% (46/168)\u001b[K\rremote: Counting objects:  28% (48/168)\u001b[K\rremote: Counting objects:  29% (49/168)\u001b[K\rremote: Counting objects:  30% (51/168)\u001b[K\rremote: Counting objects:  31% (53/168)\u001b[K\rremote: Counting objects:  32% (54/168)\u001b[K\rremote: Counting objects:  33% (56/168)\u001b[K\rremote: Counting objects:  34% (58/168)\u001b[K\rremote: Counting objects:  35% (59/168)\u001b[K\rremote: Counting objects:  36% (61/168)\u001b[K\rremote: Counting objects:  37% (63/168)\u001b[K\rremote: Counting objects:  38% (64/168)\u001b[K\rremote: Counting objects:  39% (66/168)\u001b[K\rremote: Counting objects:  40% (68/168)\u001b[K\rremote: Counting objects:  41% (69/168)\u001b[K\rremote: Counting objects:  42% (71/168)\u001b[K\rremote: Counting objects:  43% (73/168)\u001b[K\rremote: Counting objects:  44% (74/168)\u001b[K\rremote: Counting objects:  45% (76/168)\u001b[K\rremote: Counting objects:  46% (78/168)\u001b[K\rremote: Counting objects:  47% (79/168)\u001b[K\rremote: Counting objects:  48% (81/168)\u001b[K\rremote: Counting objects:  49% (83/168)\u001b[K\rremote: Counting objects:  50% (84/168)\u001b[K\rremote: Counting objects:  51% (86/168)\u001b[K\rremote: Counting objects:  52% (88/168)\u001b[K\rremote: Counting objects:  53% (90/168)\u001b[K\rremote: Counting objects:  54% (91/168)\u001b[K\rremote: Counting objects:  55% (93/168)\u001b[K\rremote: Counting objects:  56% (95/168)\u001b[K\rremote: Counting objects:  57% (96/168)\u001b[K\rremote: Counting objects:  58% (98/168)\u001b[K\rremote: Counting objects:  59% (100/168)\u001b[K\rremote: Counting objects:  60% (101/168)\u001b[K\rremote: Counting objects:  61% (103/168)\u001b[K\rremote: Counting objects:  62% (105/168)\u001b[K\rremote: Counting objects:  63% (106/168)\u001b[K\rremote: Counting objects:  64% (108/168)\u001b[K\rremote: Counting objects:  65% (110/168)\u001b[K\rremote: Counting objects:  66% (111/168)\u001b[K\rremote: Counting objects:  67% (113/168)\u001b[K\rremote: Counting objects:  68% (115/168)\u001b[K\rremote: Counting objects:  69% (116/168)\u001b[K\rremote: Counting objects:  70% (118/168)\u001b[K\rremote: Counting objects:  71% (120/168)\u001b[K\rremote: Counting objects:  72% (121/168)\u001b[K\rremote: Counting objects:  73% (123/168)\u001b[K\rremote: Counting objects:  74% (125/168)\u001b[K\rremote: Counting objects:  75% (126/168)\u001b[K\rremote: Counting objects:  76% (128/168)\u001b[K\rremote: Counting objects:  77% (130/168)\u001b[K\rremote: Counting objects:  78% (132/168)\u001b[K\rremote: Counting objects:  79% (133/168)\u001b[K\rremote: Counting objects:  80% (135/168)\u001b[K\rremote: Counting objects:  81% (137/168)\u001b[K\rremote: Counting objects:  82% (138/168)\u001b[K\rremote: Counting objects:  83% (140/168)\u001b[K\rremote: Counting objects:  84% (142/168)\u001b[K\rremote: Counting objects:  85% (143/168)\u001b[K\rremote: Counting objects:  86% (145/168)\u001b[K\rremote: Counting objects:  87% (147/168)\u001b[K\rremote: Counting objects:  88% (148/168)\u001b[K\rremote: Counting objects:  89% (150/168)\u001b[K\rremote: Counting objects:  90% (152/168)\u001b[K\rremote: Counting objects:  91% (153/168)\u001b[K\rremote: Counting objects:  92% (155/168)\u001b[K\rremote: Counting objects:  93% (157/168)\u001b[K\rremote: Counting objects:  94% (158/168)\u001b[K\rremote: Counting objects:  95% (160/168)\u001b[K\rremote: Counting objects:  96% (162/168)\u001b[K\rremote: Counting objects:  97% (163/168)\u001b[K\rremote: Counting objects:  98% (165/168)\u001b[K\rremote: Counting objects:  99% (167/168)\u001b[K\rremote: Counting objects: 100% (168/168)\u001b[K\rremote: Counting objects: 100% (168/168), done.\u001b[K\n",
            "remote: Compressing objects: 100% (133/133), done.\u001b[K\n",
            "remote: Total 1051 (delta 110), reused 64 (delta 35), pack-reused 883\u001b[K\n",
            "Receiving objects: 100% (1051/1051), 7.40 MiB | 20.27 MiB/s, done.\n",
            "Resolving deltas: 100% (664/664), done.\n"
          ],
          "name": "stdout"
        }
      ]
    },
    {
      "cell_type": "code",
      "metadata": {
        "id": "dUNSQ1qBZb2g",
        "colab_type": "code",
        "colab": {
          "base_uri": "https://localhost:8080/",
          "height": 726
        },
        "outputId": "e0d48f6c-5a8b-445a-c531-0153aff31d2a"
      },
      "source": [
        "#download processed data from Zenodo for all datasets\n",
        "![ -d \"figureData\" ] && rm -r figureData\n",
        "!mkdir figureData\n",
        "!cd figureData && wget https://zenodo.org/record/3909758/files/FigureData.zip?download=1 && unzip 'FigureData.zip?download=1' && rm 'FigureData.zip?download=1'\n",
        "\n",
        "!cd figureData && wget https://zenodo.org/record/3909758/files/PBMC_V3_3.zip?download=1 && unzip 'PBMC_V3_3.zip?download=1' && rm 'PBMC_V3_3.zip?download=1'\n",
        "!cd figureData && wget https://zenodo.org/record/3909758/files/PBMC_V3_2.zip?download=1 && unzip 'PBMC_V3_2.zip?download=1' && rm 'PBMC_V3_2.zip?download=1'\n",
        "!cd figureData && wget https://zenodo.org/record/3909758/files/PBMC_V3.zip?download=1 && unzip 'PBMC_V3.zip?download=1' && rm 'PBMC_V3.zip?download=1'\n",
        "!cd figureData && wget https://zenodo.org/record/3909758/files/PBMC_NG.zip?download=1 && unzip 'PBMC_NG.zip?download=1' && rm 'PBMC_NG.zip?download=1'\n",
        "!cd figureData && wget https://zenodo.org/record/3909758/files/PBMC_NG_2.zip?download=1 && unzip 'PBMC_NG_2.zip?download=1' && rm 'PBMC_NG_2.zip?download=1'\n",
        "!cd figureData && wget https://zenodo.org/record/3909758/files/PBMC_V2.zip?download=1 && unzip 'PBMC_V2.zip?download=1' && rm 'PBMC_V2.zip?download=1'\n",
        "!cd figureData && wget https://zenodo.org/record/3909758/files/EVALPBMC.zip?download=1 && unzip 'EVALPBMC.zip?download=1' && rm 'EVALPBMC.zip?download=1'\n"
      ],
      "execution_count": null,
      "outputs": [
        {
          "output_type": "stream",
          "text": [
            "--2020-07-02 20:15:41--  https://zenodo.org/record/3909758/files/FigureData.zip?download=1\n",
            "Resolving zenodo.org (zenodo.org)... 188.184.117.155\n",
            "Connecting to zenodo.org (zenodo.org)|188.184.117.155|:443... connected.\n",
            "HTTP request sent, awaiting response... 200 OK\n",
            "Length: 4901056 (4.7M) [application/octet-stream]\n",
            "Saving to: ‘FigureData.zip?download=1’\n",
            "\n",
            "FigureData.zip?down 100%[===================>]   4.67M  5.29MB/s    in 0.9s    \n",
            "\n",
            "2020-07-02 20:15:43 (5.29 MB/s) - ‘FigureData.zip?download=1’ saved [4901056/4901056]\n",
            "\n",
            "Archive:  FigureData.zip?download=1\n",
            "  inflating: extreme_genes.txt       \n",
            " extracting: Fig1_h1.RDS             \n",
            " extracting: Fig1_h2.RDS             \n",
            " extracting: Fig1_r1_III.RDS         \n",
            " extracting: Fig1_r2_III.RDS         \n",
            "  inflating: Fig3_ldata.RDS          \n",
            "  inflating: Fig3_ldata2.RDS         \n",
            "  inflating: Fig4_d1.RDS             \n",
            "  inflating: PBMC_V3_3_ds10_20Times.RData  \n",
            "--2020-07-02 20:15:44--  https://zenodo.org/record/3909758/files/PBMC_V3_3.zip?download=1\n",
            "Resolving zenodo.org (zenodo.org)... 188.184.117.155\n",
            "Connecting to zenodo.org (zenodo.org)|188.184.117.155|:443... connected.\n",
            "HTTP request sent, awaiting response... 200 OK\n",
            "Length: 1819306744 (1.7G) [application/octet-stream]\n",
            "Saving to: ‘PBMC_V3_3.zip?download=1’\n",
            "\n",
            "PBMC_V3_3.zip?downl 100%[===================>]   1.69G  17.6MB/s    in 1m 47s  \n",
            "\n",
            "2020-07-02 20:17:32 (16.2 MB/s) - ‘PBMC_V3_3.zip?download=1’ saved [1819306744/1819306744]\n",
            "\n",
            "Archive:  PBMC_V3_3.zip?download=1\n",
            "   creating: PBMC_V3_3/\n",
            "  inflating: PBMC_V3_3/Bug_10.RData  \n",
            "  inflating: PBMC_V3_3/Bug_100.RData  \n",
            "  inflating: PBMC_V3_3/Bug_20.RData  \n",
            "  inflating: PBMC_V3_3/Bug_40.RData  \n",
            "  inflating: PBMC_V3_3/Bug_5.RData   \n",
            "  inflating: PBMC_V3_3/Bug_60.RData  \n",
            "  inflating: PBMC_V3_3/Bug_80.RData  "
          ],
          "name": "stdout"
        }
      ]
    },
    {
      "cell_type": "code",
      "metadata": {
        "id": "oesgTqLO0Qje",
        "colab_type": "code",
        "colab": {}
      },
      "source": [
        "#Check that download worked\n",
        "!cd figureData && ls -l && cd PBMC_V3_3 && ls -l"
      ],
      "execution_count": null,
      "outputs": []
    },
    {
      "cell_type": "markdown",
      "metadata": {
        "id": "sCmhNVdYgkWH",
        "colab_type": "text"
      },
      "source": [
        "**2. Prepare the R environment**"
      ]
    },
    {
      "cell_type": "code",
      "metadata": {
        "id": "5Gt6rQkSXriM",
        "colab_type": "code",
        "colab": {}
      },
      "source": [
        "#switch to R mode\n",
        "%reload_ext rpy2.ipython\n"
      ],
      "execution_count": null,
      "outputs": []
    },
    {
      "cell_type": "code",
      "metadata": {
        "id": "jJ3rQJCdgeJa",
        "colab_type": "code",
        "colab": {}
      },
      "source": [
        "#install the R packages and setup paths\n",
        "%%R\n",
        "install.packages(\"dplyr\")\n",
        "#install.packages(\"preseqR\")\n",
        "install.packages(\"ggplot\")\n",
        "install.packages(\"DescTools\")\n",
        "install.packages(\"ggpubr\")\n",
        "\n"
      ],
      "execution_count": null,
      "outputs": []
    },
    {
      "cell_type": "markdown",
      "metadata": {
        "id": "x56fjfCSicrp",
        "colab_type": "text"
      },
      "source": [
        "**3. Generate the figures**\n"
      ]
    },
    {
      "cell_type": "code",
      "metadata": {
        "id": "V37XLBAO68oR",
        "colab_type": "code",
        "colab": {}
      },
      "source": [
        "#First set some path variables\n",
        "%%R\n",
        "source(\"GRNP_2020/RCode/pathsGoogleColab.R\")\n"
      ],
      "execution_count": null,
      "outputs": []
    },
    {
      "cell_type": "code",
      "metadata": {
        "id": "R6kuhOmzZL_X",
        "colab_type": "code",
        "colab": {}
      },
      "source": [
        "#Import the code for prediction (available in other notebooks)\n",
        "%%R\n",
        "source(paste0(sourcePath,\"ButterflyHelpers.R\"))\n",
        "#source(paste0(sourcePath,\"preseqHelpers.R\"))\n",
        "source(paste0(sourcePath,\"CCCHelpers.R\"))\n",
        "source(paste0(sourcePath,\"ggplotHelpers.R\"))\n",
        "\n",
        "\n",
        "\n"
      ],
      "execution_count": null,
      "outputs": []
    },
    {
      "cell_type": "code",
      "metadata": {
        "id": "kqZPO7XjtPPa",
        "colab_type": "code",
        "colab": {}
      },
      "source": [
        "#create figure directory\n",
        "![ -d \"figures\" ] && rm -r figures\n",
        "!mkdir figures"
      ],
      "execution_count": null,
      "outputs": []
    },
    {
      "cell_type": "code",
      "metadata": {
        "id": "tkQeT362BM7V",
        "colab_type": "code",
        "colab": {}
      },
      "source": [
        "#Create and save the figures\n",
        "%%R\n",
        "library(ggplot2)\n",
        "library(ggpubr)\n",
        "library(hexbin)\n",
        "library(dplyr)\n",
        "\n",
        "\n",
        "ldata = readRDS(paste0(figure_data_path, \"Fig3_ldata.RDS\"))\n",
        "ldata2 = readRDS(paste0(figure_data_path, \"Fig3_ldata2.RDS\"))\n",
        "\n",
        "\n",
        "\n",
        "#generate plot data\n",
        "plotdata = tibble(gene=ldata$gene, \n",
        "                  x=ldata$x, \n",
        "                  nopred=ldata$nopred - ldata$trueval,\n",
        "                  pred=ldata$pred - ldata$trueval,\n",
        "                  poolpred=ldata$poolpred - ldata$trueval)\n",
        "\n",
        "#melt\n",
        "plotdata.m = reshape2::melt(plotdata, id.vars=c(\"gene\",\"x\"), measure.vars = c(\"nopred\", \"pred\", \"poolpred\"))\n",
        "\n",
        "labl = labeller(variable = \n",
        "                      c(\"nopred\" = \"No Correction\",\n",
        "                        \"pred\" = \"Correction\",\n",
        "                        \"poolpred\" = \"Correction using Pooling\"))\n",
        "\n",
        "dfline = data.frame(x=c(0,16), y=c(0,0))\n",
        "\n",
        "dummyData = data.frame(x=c(0,0), y=c(1.1, -1.5)) #used in a trick to set y axis range below\n",
        "\n",
        "fig3 = ggplot(plotdata.m) +\n",
        "  stat_binhex(bins=60,na.rm = TRUE, mapping=aes(x = x, y=value, fill = log(..count..))) + # opts(aspect.ratio = 1) +\n",
        "  facet_wrap(facets = ~  variable, scales = \"free_x\", labeller = labl, ncol=3) +\n",
        "  geom_line(data=dfline, mapping = aes(x=x, y=y), color=\"black\", size=1) + \n",
        "  geom_blank(data = dummyData, mapping = aes(x=x, y=y)) + #trick to set y axis range\n",
        "  labs(y=expression(Log[2]*\" fold change (CPM)\"), x=expression(Log[2]*\"(CPM + 1)\")) +\n",
        "  theme(panel.background = element_rect(\"white\", \"white\", 0, 0, \"white\"),\n",
        "        legend.position= \"bottom\", legend.direction = \"horizontal\",#, legend.title = element_blank())\n",
        "        strip.text.x = element_text(size = 12, face = \"bold\"),\n",
        "        #legend.position= \"none\",\n",
        "        strip.background = element_blank())\n",
        "\n",
        "fig3 # for some reason this plot sometimes fail and show an error (\"hbin\" ...) - Restart R and try again in that case\n",
        "\n",
        "\n",
        "ggsave(\n",
        "  paste0(figure_path, \"Fig3.png\"),\n",
        "  plot = fig3, device = \"png\",\n",
        "  width = 7, height = 4, dpi = 300)\n",
        "\n",
        "\n",
        "#########################\n",
        "# Fig S20 (Sampling noise)\n",
        "#########################\n",
        "#cpm and log transform\n",
        "\n",
        "plotdata2 = tibble(gene=ldata2$gene, \n",
        "                  x=ldata2$x, \n",
        "                  y=ldata2$sampling - ldata$nopred)\n",
        "\n",
        "\n",
        "dfline = data.frame(x=c(0,16), y=c(0,0))\n",
        "dummyData = data.frame(x=c(0,0), y=c(1.1, -1.5))\n",
        "\n",
        "figS20 = ggplot(plotdata2) +\n",
        "  stat_binhex(bins=60,na.rm = TRUE, mapping=aes(x = x, y=y, fill = log(..count..))) + # opts(aspect.ratio = 1) +\n",
        "  #facet_wrap(facets = ~  variable, scales = \"free_x\", labeller = labl, ncol=3) +\n",
        "  geom_line(data=dfline, mapping = aes(x=x, y=y), color=\"black\", size=1) + \n",
        "  geom_blank(data = dummyData, mapping = aes(x=x, y=y)) + #trick to set y axis range\n",
        "  labs(y=expression(Log[2]*\" fold change (CPM)\"), x=expression(Log[2]*\"(CPM + 1)\")) +\n",
        "  theme(panel.background = element_rect(\"white\", \"white\", 0, 0, \"white\"),\n",
        "        legend.position= \"bottom\", legend.direction = \"horizontal\",#, legend.title = element_blank())\n",
        "        strip.text.x = element_text(size = 12, face = \"bold\"),\n",
        "        #legend.position= \"none\",\n",
        "        strip.background = element_blank())\n",
        "\n",
        "figS20 # for some reason this plot sometimes fail and show an error (\"hbin\" ...) - Restart R and try again in that case\n",
        "\n",
        "\n",
        "ggsave(\n",
        "  paste0(figure_path, \"FigS20.png\"),\n",
        "  plot = figS20, device = \"png\",\n",
        "  width = 3, height = 4, dpi = 300)\n",
        "\n",
        "\n",
        "\n",
        "#The data to present over the plots\n",
        "\n",
        "\n",
        "print(paste0(\"CCC, no pred: \", getCCC(ldata$nopred, ldata$trueval))) #0.981275291888894\n",
        "print(paste0(\"CCC, pred no pooling: \", getCCC(ldata$pred, ldata$trueval))) #0.993829998877551\n",
        "print(paste0(\"CCC, pred with pooling: \", getCCC(ldata$poolpred, ldata$trueval))) #0.997028015743896\n",
        "print(paste0(\"CCC, no pred, ds 100 times vs ds: \", getCCC(ldata2$nopred, ldata2$sampling))) #0.99890437562339\n",
        "\n",
        "\n",
        "\n",
        "\n",
        "\n"
      ],
      "execution_count": null,
      "outputs": []
    }
  ]
}