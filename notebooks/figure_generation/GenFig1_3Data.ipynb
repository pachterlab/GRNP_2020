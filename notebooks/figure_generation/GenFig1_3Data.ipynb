{
  "nbformat": 4,
  "nbformat_minor": 0,
  "metadata": {
    "colab": {
      "name": "GenFig1_3Data.ipynb",
      "provenance": [],
      "collapsed_sections": [],
      "include_colab_link": true
    },
    "kernelspec": {
      "name": "python3",
      "display_name": "Python 3"
    }
  },
  "cells": [
    {
      "cell_type": "markdown",
      "metadata": {
        "id": "view-in-github",
        "colab_type": "text"
      },
      "source": [
        "<a href=\"https://colab.research.google.com/github/pachterlab/GRNP_2020/blob/master/notebooks/figure_generation/GenFig1_3Data.ipynb\" target=\"_parent\"><img src=\"https://colab.research.google.com/assets/colab-badge.svg\" alt=\"Open In Colab\"/></a>"
      ]
    },
    {
      "cell_type": "markdown",
      "metadata": {
        "id": "dhydD96df06z"
      },
      "source": [
        "**Precalculates data for figure 1**\n",
        "\n",
        "This notebook precalculates the data for figure 1 and 3, since there are some heavy calculation steps involved for generating the figure. The most demanding task is prediction of unseen molecules for each gene using the ZTNB method (figure 3C). This notebook may take 30-60 minutes to run.\n",
        "\n",
        "Steps:\n",
        "1. Download the code and processed data\n",
        "2. Setup the R environment\n",
        "3. Generate the data\n",
        "\n",
        "The data used in these calculations is produced by the following notebooks:\n",
        "\n",
        "Processing of FASTQ files with kallisto and bustools:\n",
        "\n",
        "https://github.com/pachterlab/GRNP_2020/blob/master/notebooks/FASTQ_processing/ProcessEVAL.ipynb\n",
        "\n",
        "Preprocessing of BUG files:\n",
        "\n",
        "https://github.com/pachterlab/GRNP_2020/blob/master/notebooks/R_processing/ProcessR_EVAL.ipynb\n"
      ]
    },
    {
      "cell_type": "markdown",
      "metadata": {
        "id": "h8RnKVMXgbzr"
      },
      "source": [
        "**1. Download the code and processed data**"
      ]
    },
    {
      "cell_type": "code",
      "metadata": {
        "id": "doUAtCxIyOiI",
        "colab": {
          "base_uri": "https://localhost:8080/"
        },
        "outputId": "1c85ebf4-50d5-4bb3-a2a8-a88e9fde97fa"
      },
      "source": [
        "#download the R code\n",
        "![ -d \"GRNP_2020\" ] && rm -r GRNP_2020\n",
        "\n",
        "!git clone https://github.com/pachterlab/GRNP_2020.git\n"
      ],
      "execution_count": 1,
      "outputs": [
        {
          "output_type": "stream",
          "text": [
            "Cloning into 'GRNP_2020'...\n",
            "remote: Enumerating objects: 309, done.\u001b[K\n",
            "remote: Counting objects: 100% (309/309), done.\u001b[K\n",
            "remote: Compressing objects: 100% (249/249), done.\u001b[K\n",
            "remote: Total 2027 (delta 226), reused 90 (delta 60), pack-reused 1718\u001b[K\n",
            "Receiving objects: 100% (2027/2027), 10.86 MiB | 19.87 MiB/s, done.\n",
            "Resolving deltas: 100% (1411/1411), done.\n"
          ],
          "name": "stdout"
        }
      ]
    },
    {
      "cell_type": "code",
      "metadata": {
        "id": "dUNSQ1qBZb2g",
        "colab": {
          "base_uri": "https://localhost:8080/"
        },
        "outputId": "af830f6d-33f6-4c4d-8180-ddf419d9f152"
      },
      "source": [
        "#download processed data from Zenodo for all datasets\n",
        "![ -d \"figureData\" ] && rm -r figureData\n",
        "!mkdir figureData\n",
        "!cd figureData && wget https://zenodo.org/record/4661263/files/EVAL.zip?download=1 && unzip 'EVAL.zip?download=1' && rm 'EVAL.zip?download=1'\n",
        "\n"
      ],
      "execution_count": 2,
      "outputs": [
        {
          "output_type": "stream",
          "text": [
            "--2021-04-04 18:04:52--  https://zenodo.org/record/4661263/files/EVAL.zip?download=1\n",
            "Resolving zenodo.org (zenodo.org)... 137.138.76.77\n",
            "Connecting to zenodo.org (zenodo.org)|137.138.76.77|:443... connected.\n",
            "HTTP request sent, awaiting response... 200 OK\n",
            "Length: 206479312 (197M) [application/octet-stream]\n",
            "Saving to: ‘EVAL.zip?download=1’\n",
            "\n",
            "EVAL.zip?download=1 100%[===================>] 196.91M  5.09MB/s    in 26s     \n",
            "\n",
            "2021-04-04 18:05:19 (7.54 MB/s) - ‘EVAL.zip?download=1’ saved [206479312/206479312]\n",
            "\n",
            "Archive:  EVAL.zip?download=1\n",
            "   creating: EVAL/\n",
            "  inflating: EVAL/Bug_10.RData       \n",
            "  inflating: EVAL/Bug_100.RData      \n",
            "  inflating: EVAL/Bug_20.RData       \n",
            "  inflating: EVAL/Bug_25.RData       \n",
            "  inflating: EVAL/Bug_40.RData       \n",
            "  inflating: EVAL/Bug_5.RData        \n",
            "  inflating: EVAL/Bug_60.RData       \n",
            "  inflating: EVAL/Bug_80.RData       \n",
            "  inflating: EVAL/ds_summary.txt     \n",
            "  inflating: EVAL/PredEvalData.RDS   \n",
            "  inflating: EVAL/Stats.RData        \n"
          ],
          "name": "stdout"
        }
      ]
    },
    {
      "cell_type": "code",
      "metadata": {
        "id": "oesgTqLO0Qje",
        "colab": {
          "base_uri": "https://localhost:8080/"
        },
        "outputId": "a71dbed4-03f5-4f93-8907-57fb28246e9d"
      },
      "source": [
        "#Check that download worked\n",
        "!cd figureData && ls -l && cd EVAL && ls -l"
      ],
      "execution_count": 3,
      "outputs": [
        {
          "output_type": "stream",
          "text": [
            "total 4\n",
            "drwxr-xr-x 2 root root 4096 Jul  1  2020 EVAL\n",
            "total 212792\n",
            "-rw-r--r-- 1 root root 37523336 Jun 30  2020 Bug_100.RData\n",
            "-rw-r--r-- 1 root root 17301493 Jun 30  2020 Bug_10.RData\n",
            "-rw-r--r-- 1 root root 23443334 Jun 30  2020 Bug_20.RData\n",
            "-rw-r--r-- 1 root root 25288320 Jun 30  2020 Bug_25.RData\n",
            "-rw-r--r-- 1 root root 29057075 Jun 30  2020 Bug_40.RData\n",
            "-rw-r--r-- 1 root root 11226736 Jun 30  2020 Bug_5.RData\n",
            "-rw-r--r-- 1 root root 32629892 Jun 30  2020 Bug_60.RData\n",
            "-rw-r--r-- 1 root root 35477251 Jun 30  2020 Bug_80.RData\n",
            "-rw-r--r-- 1 root root     1025 Jul  1  2020 ds_summary.txt\n",
            "-rw-r--r-- 1 root root  4167784 Jul  1  2020 PredEvalData.RDS\n",
            "-rw-r--r-- 1 root root  1761192 Jun 30  2020 Stats.RData\n"
          ],
          "name": "stdout"
        }
      ]
    },
    {
      "cell_type": "markdown",
      "metadata": {
        "id": "sCmhNVdYgkWH"
      },
      "source": [
        "**2. Prepare the R environment**"
      ]
    },
    {
      "cell_type": "code",
      "metadata": {
        "id": "5Gt6rQkSXriM"
      },
      "source": [
        "#switch to R mode\n",
        "%reload_ext rpy2.ipython\n"
      ],
      "execution_count": 4,
      "outputs": []
    },
    {
      "cell_type": "code",
      "metadata": {
        "id": "jJ3rQJCdgeJa",
        "colab": {
          "base_uri": "https://localhost:8080/"
        },
        "outputId": "46b29887-02bb-4409-fbf0-ff494d35f4a4"
      },
      "source": [
        "#install the R packages and setup paths\n",
        "%%R\n",
        "install.packages(\"dplyr\")\n",
        "install.packages(\"preseqR\")\n"
      ],
      "execution_count": 5,
      "outputs": [
        {
          "output_type": "stream",
          "text": [
            "R[write to console]: Installing package into ‘/usr/local/lib/R/site-library’\n",
            "(as ‘lib’ is unspecified)\n",
            "\n",
            "R[write to console]: trying URL 'https://cran.rstudio.com/src/contrib/dplyr_1.0.5.tar.gz'\n",
            "\n",
            "R[write to console]: Content type 'application/x-gzip'\n",
            "R[write to console]:  length 949019 bytes (926 KB)\n",
            "\n",
            "R[write to console]: =\n",
            "R[write to console]: =\n",
            "R[write to console]: =\n",
            "R[write to console]: =\n",
            "R[write to console]: =\n",
            "R[write to console]: =\n",
            "R[write to console]: =\n",
            "R[write to console]: =\n",
            "R[write to console]: =\n",
            "R[write to console]: =\n",
            "R[write to console]: =\n",
            "R[write to console]: =\n",
            "R[write to console]: =\n",
            "R[write to console]: =\n",
            "R[write to console]: =\n",
            "R[write to console]: =\n",
            "R[write to console]: =\n",
            "R[write to console]: =\n",
            "R[write to console]: =\n",
            "R[write to console]: =\n",
            "R[write to console]: =\n",
            "R[write to console]: =\n",
            "R[write to console]: =\n",
            "R[write to console]: =\n",
            "R[write to console]: =\n",
            "R[write to console]: =\n",
            "R[write to console]: =\n",
            "R[write to console]: =\n",
            "R[write to console]: =\n",
            "R[write to console]: =\n",
            "R[write to console]: =\n",
            "R[write to console]: =\n",
            "R[write to console]: =\n",
            "R[write to console]: =\n",
            "R[write to console]: =\n",
            "R[write to console]: =\n",
            "R[write to console]: =\n",
            "R[write to console]: =\n",
            "R[write to console]: =\n",
            "R[write to console]: =\n",
            "R[write to console]: =\n",
            "R[write to console]: =\n",
            "R[write to console]: =\n",
            "R[write to console]: =\n",
            "R[write to console]: =\n",
            "R[write to console]: =\n",
            "R[write to console]: =\n",
            "R[write to console]: =\n",
            "R[write to console]: =\n",
            "R[write to console]: =\n",
            "R[write to console]: \n",
            "\n",
            "R[write to console]: downloaded 926 KB\n",
            "\n",
            "\n",
            "R[write to console]: \n",
            "\n",
            "R[write to console]: \n",
            "R[write to console]: The downloaded source packages are in\n",
            "\t‘/tmp/RtmpfumITp/downloaded_packages’\n",
            "R[write to console]: \n",
            "R[write to console]: \n",
            "\n",
            "R[write to console]: Installing package into ‘/usr/local/lib/R/site-library’\n",
            "(as ‘lib’ is unspecified)\n",
            "\n",
            "R[write to console]: also installing the dependency ‘polynom’\n",
            "\n",
            "\n",
            "R[write to console]: trying URL 'https://cran.rstudio.com/src/contrib/polynom_1.4-0.tar.gz'\n",
            "\n",
            "R[write to console]: Content type 'application/x-gzip'\n",
            "R[write to console]:  length 243462 bytes (237 KB)\n",
            "\n",
            "R[write to console]: =\n",
            "R[write to console]: =\n",
            "R[write to console]: =\n",
            "R[write to console]: =\n",
            "R[write to console]: =\n",
            "R[write to console]: =\n",
            "R[write to console]: =\n",
            "R[write to console]: =\n",
            "R[write to console]: =\n",
            "R[write to console]: =\n",
            "R[write to console]: =\n",
            "R[write to console]: =\n",
            "R[write to console]: =\n",
            "R[write to console]: =\n",
            "R[write to console]: =\n",
            "R[write to console]: =\n",
            "R[write to console]: =\n",
            "R[write to console]: =\n",
            "R[write to console]: =\n",
            "R[write to console]: =\n",
            "R[write to console]: =\n",
            "R[write to console]: =\n",
            "R[write to console]: =\n",
            "R[write to console]: =\n",
            "R[write to console]: =\n",
            "R[write to console]: =\n",
            "R[write to console]: =\n",
            "R[write to console]: =\n",
            "R[write to console]: =\n",
            "R[write to console]: =\n",
            "R[write to console]: =\n",
            "R[write to console]: =\n",
            "R[write to console]: =\n",
            "R[write to console]: =\n",
            "R[write to console]: =\n",
            "R[write to console]: =\n",
            "R[write to console]: =\n",
            "R[write to console]: =\n",
            "R[write to console]: =\n",
            "R[write to console]: =\n",
            "R[write to console]: =\n",
            "R[write to console]: =\n",
            "R[write to console]: =\n",
            "R[write to console]: =\n",
            "R[write to console]: =\n",
            "R[write to console]: =\n",
            "R[write to console]: =\n",
            "R[write to console]: =\n",
            "R[write to console]: =\n",
            "R[write to console]: =\n",
            "R[write to console]: \n",
            "\n",
            "R[write to console]: downloaded 237 KB\n",
            "\n",
            "\n",
            "R[write to console]: trying URL 'https://cran.rstudio.com/src/contrib/preseqR_4.0.0.tar.gz'\n",
            "\n",
            "R[write to console]: Content type 'application/x-gzip'\n",
            "R[write to console]:  length 84783 bytes (82 KB)\n",
            "\n",
            "R[write to console]: =\n",
            "R[write to console]: =\n",
            "R[write to console]: =\n",
            "R[write to console]: =\n",
            "R[write to console]: =\n",
            "R[write to console]: =\n",
            "R[write to console]: =\n",
            "R[write to console]: =\n",
            "R[write to console]: =\n",
            "R[write to console]: =\n",
            "R[write to console]: =\n",
            "R[write to console]: =\n",
            "R[write to console]: =\n",
            "R[write to console]: =\n",
            "R[write to console]: =\n",
            "R[write to console]: =\n",
            "R[write to console]: =\n",
            "R[write to console]: =\n",
            "R[write to console]: =\n",
            "R[write to console]: =\n",
            "R[write to console]: =\n",
            "R[write to console]: =\n",
            "R[write to console]: =\n",
            "R[write to console]: =\n",
            "R[write to console]: =\n",
            "R[write to console]: =\n",
            "R[write to console]: =\n",
            "R[write to console]: =\n",
            "R[write to console]: =\n",
            "R[write to console]: =\n",
            "R[write to console]: =\n",
            "R[write to console]: =\n",
            "R[write to console]: =\n",
            "R[write to console]: =\n",
            "R[write to console]: =\n",
            "R[write to console]: =\n",
            "R[write to console]: =\n",
            "R[write to console]: =\n",
            "R[write to console]: =\n",
            "R[write to console]: =\n",
            "R[write to console]: =\n",
            "R[write to console]: =\n",
            "R[write to console]: =\n",
            "R[write to console]: =\n",
            "R[write to console]: =\n",
            "R[write to console]: =\n",
            "R[write to console]: =\n",
            "R[write to console]: =\n",
            "R[write to console]: =\n",
            "R[write to console]: =\n",
            "R[write to console]: \n",
            "\n",
            "R[write to console]: downloaded 82 KB\n",
            "\n",
            "\n",
            "R[write to console]: \n",
            "\n",
            "R[write to console]: \n",
            "R[write to console]: The downloaded source packages are in\n",
            "\t‘/tmp/RtmpfumITp/downloaded_packages’\n",
            "R[write to console]: \n",
            "R[write to console]: \n",
            "\n"
          ],
          "name": "stderr"
        }
      ]
    },
    {
      "cell_type": "markdown",
      "metadata": {
        "id": "x56fjfCSicrp"
      },
      "source": [
        "**3. Generate the data**\n",
        "\n",
        "The most demanding step here is to predict up to the full number of reads from each point in fig 1B III. Although we only look at two genes, we still need to predict all to be able to CPM-normalize the expression.\n"
      ]
    },
    {
      "cell_type": "code",
      "metadata": {
        "id": "V37XLBAO68oR"
      },
      "source": [
        "#First set some path variables\n",
        "%%R\n",
        "source(\"GRNP_2020/RCode/pathsGoogleColab.R\")\n"
      ],
      "execution_count": 6,
      "outputs": []
    },
    {
      "cell_type": "code",
      "metadata": {
        "id": "R6kuhOmzZL_X",
        "colab": {
          "base_uri": "https://localhost:8080/"
        },
        "outputId": "d69b49ed-71a1-4aa7-e3d3-f36b4526fb5b"
      },
      "source": [
        "#Import the code for prediction (available in other notebooks)\n",
        "%%R\n",
        "source(paste0(sourcePath,\"ButterflyHelpers.R\"))\n",
        "source(paste0(sourcePath,\"preseqHelpers.R\"))\n",
        "\n",
        "\n",
        "\n",
        "\n"
      ],
      "execution_count": 7,
      "outputs": [
        {
          "output_type": "stream",
          "text": [
            "R[write to console]: \n",
            "Attaching package: ‘dplyr’\n",
            "\n",
            "\n",
            "R[write to console]: The following objects are masked from ‘package:stats’:\n",
            "\n",
            "    filter, lag\n",
            "\n",
            "\n",
            "R[write to console]: The following objects are masked from ‘package:base’:\n",
            "\n",
            "    intersect, setdiff, setequal, union\n",
            "\n",
            "\n"
          ],
          "name": "stderr"
        }
      ]
    },
    {
      "cell_type": "code",
      "metadata": {
        "id": "tkQeT362BM7V",
        "colab": {
          "base_uri": "https://localhost:8080/"
        },
        "outputId": "9185e2da-bc28-4365-f02c-ffb25cdd6293"
      },
      "source": [
        "#Run the calculations and save the results to disk\n",
        "%%R\n",
        "\n",
        "loadStats(\"EVAL\")\n",
        "#so, use the histograms from downsampled data at 0.25, which somewhat matches the A figure\n",
        "loadBug(\"EVAL\", 0.25)\n",
        "\n",
        "#Fig 3A - histograms per gene \n",
        "\n",
        "\n",
        "collapsedNonFilt = bug_EVAL_25 %>% group_by(gene) %>% do(countslist=c(.$count))\n",
        "\n",
        "h1 = hist(collapsedNonFilt$countslist[collapsedNonFilt$gene == \"Vmn1r13\"][[1]], breaks=seq(0.5, 100.5, by=1), plot=F)\n",
        "h2 = hist(collapsedNonFilt$countslist[collapsedNonFilt$gene == \"Ubb\"][[1]], breaks=seq(0.5, 100.5, by=1), plot=F)\n",
        "\n",
        "saveRDS(h1, paste0(figure_data_path, \"Fig3_h1.RDS\"))\n",
        "saveRDS(h2, paste0(figure_data_path, \"Fig3_h2.RDS\"))\n",
        "\n",
        "\n",
        "#now, fig 3C\n",
        "\n",
        "\n",
        "#create prediction data\n",
        "\n",
        "xes = c(1,2,4,5,8,12,16,20)\n",
        "predVals = 20/xes\n",
        "downSamp = c(0.05, 0.1, 0.2, 0.25, 0.4, 0.6, 0.8, 1)\n",
        "\n",
        "#build it backwards\n",
        "cpms = tibble(gene=statsEVAL$gene, n=statsEVAL$CPM_EVAL_d_100)\n",
        "for (i in (length(xes)-1):1) {\n",
        "  loadBug(\"EVAL\", downSamp[i])\n",
        "  pred = upSampleAndGetMeanExprPreSeqZTNB(getBug(\"EVAL\", downSamp[i]), t=predVals[[i]])\n",
        "  rmBug(\"EVAL\", downSamp[i])\n",
        "  cpm = pred\n",
        "  cpm[[2]] = cpm[[2]]*10^6/sum(cpm[[2]])\n",
        "  cpms = inner_join(cpm, cpms, by=\"gene\")\n",
        "}\n",
        "\n",
        "r1 = data.frame(cpms)[cpms$gene == \"Vmn1r13\",]\n",
        "r2 = data.frame(cpms)[cpms$gene == \"Ubb\",]\n",
        "\n",
        "saveRDS(r1, paste0(figure_data_path, \"Fig3C_r1.RDS\"))\n",
        "saveRDS(r2, paste0(figure_data_path, \"Fig3C_r2.RDS\"))\n"
      ],
      "execution_count": 8,
      "outputs": [
        {
          "output_type": "stream",
          "text": [
            "|===================================================== |100% ~0 s remaining     [1] \"Genes: 19023\"\n",
            "[1] 1000\n",
            "[1] 2000\n",
            "[1] 3000\n",
            "[1] 4000\n",
            "[1] 5000\n",
            "[1] 6000\n",
            "[1] 7000\n",
            "[1] 8000\n",
            "[1] 9000\n",
            "[1] 10000\n",
            "[1] 11000\n",
            "[1] 12000\n",
            "[1] 13000\n",
            "[1] 14000\n",
            "[1] 15000\n",
            "[1] 16000\n",
            "[1] 17000\n",
            "[1] 18000\n",
            "[1] 19000\n",
            "|===================================================== |100% ~0 s remaining     [1] \"Genes: 18864\"\n",
            "[1] 1000\n",
            "[1] 2000\n",
            "[1] 3000\n",
            "[1] 4000\n",
            "[1] 5000\n",
            "[1] 6000\n",
            "[1] 7000\n",
            "[1] 8000\n",
            "[1] 9000\n",
            "[1] 10000\n",
            "[1] 11000\n",
            "[1] 12000\n",
            "[1] 13000\n",
            "[1] 14000\n",
            "[1] 15000\n",
            "[1] 16000\n",
            "[1] 17000\n",
            "[1] 18000\n",
            "|===================================================== |100% ~0 s remaining     [1] \"Genes: 18626\"\n",
            "[1] 1000\n",
            "[1] 2000\n",
            "[1] 3000\n",
            "[1] 4000\n",
            "[1] 5000\n",
            "[1] 6000\n",
            "[1] 7000\n",
            "[1] 8000\n",
            "[1] 9000\n",
            "[1] 10000\n",
            "[1] 11000\n",
            "[1] 12000\n",
            "[1] 13000\n",
            "[1] 14000\n",
            "[1] 15000\n",
            "[1] 16000\n",
            "[1] 17000\n",
            "[1] 18000\n",
            "|===================================================== |100% ~0 s remaining     [1] \"Genes: 18311\"\n",
            "[1] 1000\n",
            "[1] 2000\n",
            "[1] 3000\n",
            "[1] 4000\n",
            "[1] 5000\n",
            "[1] 6000\n",
            "[1] 7000\n",
            "[1] 8000\n",
            "[1] 9000\n",
            "[1] 10000\n",
            "[1] 11000\n",
            "[1] 12000\n",
            "[1] 13000\n",
            "[1] 14000\n",
            "[1] 15000\n",
            "[1] 16000\n",
            "[1] 17000\n",
            "[1] 18000\n",
            "|===================================================== |100% ~0 s remaining     [1] \"Genes: 18151\"\n",
            "[1] 1000\n",
            "[1] 2000\n",
            "[1] 3000\n",
            "[1] 4000\n",
            "[1] 5000\n",
            "[1] 6000\n",
            "[1] 7000\n",
            "[1] 8000\n",
            "[1] 9000\n",
            "[1] 10000\n",
            "[1] 11000\n",
            "[1] 12000\n",
            "[1] 13000\n",
            "[1] 14000\n",
            "[1] 15000\n",
            "[1] 16000\n",
            "[1] 17000\n",
            "[1] 18000\n",
            "|===================================================== |100% ~0 s remaining     [1] \"Genes: 17546\"\n",
            "[1] 1000\n",
            "[1] 2000\n",
            "[1] 3000\n",
            "[1] 4000\n",
            "[1] 5000\n",
            "[1] 6000\n",
            "[1] 7000\n",
            "[1] 8000\n",
            "[1] 9000\n",
            "[1] 10000\n",
            "[1] 11000\n",
            "[1] 12000\n",
            "[1] 13000\n",
            "[1] 14000\n",
            "[1] 15000\n",
            "[1] 16000\n",
            "[1] 17000\n",
            "[1] \"Genes: 16767\"\n",
            "[1] 1000\n",
            "[1] 2000\n",
            "[1] 3000\n",
            "[1] 4000\n",
            "[1] 5000\n",
            "[1] 6000\n",
            "[1] 7000\n",
            "[1] 8000\n",
            "[1] 9000\n",
            "[1] 10000\n",
            "[1] 11000\n",
            "[1] 12000\n",
            "[1] 13000\n",
            "[1] 14000\n",
            "[1] 15000\n",
            "[1] 16000\n"
          ],
          "name": "stdout"
        }
      ]
    },
    {
      "cell_type": "code",
      "metadata": {
        "id": "Cb5DifYYcB6g",
        "colab": {
          "base_uri": "https://localhost:8080/"
        },
        "outputId": "a205c0d6-f9a8-43d3-8ac4-ab4e2698f21d"
      },
      "source": [
        "!cd figureData && ls -l"
      ],
      "execution_count": 9,
      "outputs": [
        {
          "output_type": "stream",
          "text": [
            "total 20\n",
            "drwxr-xr-x 2 root root 4096 Jul  1  2020 EVAL\n",
            "-rw-r--r-- 1 root root  237 Apr  4 19:04 Fig3C_r1.RDS\n",
            "-rw-r--r-- 1 root root  230 Apr  4 19:04 Fig3C_r2.RDS\n",
            "-rw-r--r-- 1 root root  682 Apr  4 18:05 Fig3_h1.RDS\n",
            "-rw-r--r-- 1 root root  828 Apr  4 18:05 Fig3_h2.RDS\n"
          ],
          "name": "stdout"
        }
      ]
    }
  ]
}