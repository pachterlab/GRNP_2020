{
  "nbformat": 4,
  "nbformat_minor": 0,
  "metadata": {
    "colab": {
      "name": "GenFigS7-S21Data.ipynb",
      "provenance": [],
      "collapsed_sections": [],
      "include_colab_link": true
    },
    "kernelspec": {
      "name": "python3",
      "display_name": "Python 3"
    }
  },
  "cells": [
    {
      "cell_type": "markdown",
      "metadata": {
        "id": "view-in-github",
        "colab_type": "text"
      },
      "source": [
        "<a href=\"https://colab.research.google.com/github/pachterlab/GRNP_2020/blob/master/notebooks/figure_generation/GenFigS7-S21Data.ipynb\" target=\"_parent\"><img src=\"https://colab.research.google.com/assets/colab-badge.svg\" alt=\"Open In Colab\"/></a>"
      ]
    },
    {
      "cell_type": "markdown",
      "metadata": {
        "id": "dhydD96df06z"
      },
      "source": [
        "**Precalculates data for the supplementary figures S7-S21**\n",
        "\n",
        "This notebook precalculates the data for the supplementary figures S7-S21, since there are some heavy calculation steps involved for generating the figures. The most demanding task is prediction of unseen molecules for each gene using the ZTNB method. This notebook may take several hours to run.\n",
        "\n",
        "Steps:\n",
        "1. Download the code and processed data\n",
        "2. Setup the R environment\n",
        "3. Define a general function to precalculate figure data for a dataset and save it to disk\n",
        "4. Call the precalculation function for all datasets\n",
        "\n",
        "The data for these figures is produced by the following notebooks:\n",
        "\n",
        "Processing of FASTQ files with kallisto and bustools:\n",
        "\n",
        "https://github.com/pachterlab/GRNP_2020/blob/master/notebooks/FASTQ_processing/ProcessEVAL.ipynb\n",
        "https://github.com/pachterlab/GRNP_2020/blob/master/notebooks/FASTQ_processing/ProcessEVALPBMC.ipynb\n",
        "https://github.com/pachterlab/GRNP_2020/blob/master/notebooks/FASTQ_processing/ProcessEVALPBMC_DS.ipynb\n",
        "https://github.com/pachterlab/GRNP_2020/blob/master/notebooks/FASTQ_processing/ProcessEVALPBMC_SW.ipynb\n",
        "https://github.com/pachterlab/GRNP_2020/blob/master/notebooks/FASTQ_processing/ProcessLC.ipynb\n",
        "https://github.com/pachterlab/GRNP_2020/blob/master/notebooks/FASTQ_processing/ProcessMRET.ipynb\n",
        "https://github.com/pachterlab/GRNP_2020/blob/master/notebooks/FASTQ_processing/ProcessMRET2.ipynb\n",
        "https://github.com/pachterlab/GRNP_2020/blob/master/notebooks/FASTQ_processing/ProcessPBMC_NG.ipynb\n",
        "https://github.com/pachterlab/GRNP_2020/blob/master/notebooks/FASTQ_processing/ProcessPBMC_NG_2.ipynb\n",
        "https://github.com/pachterlab/GRNP_2020/blob/master/notebooks/FASTQ_processing/ProcessPBMC_V2.ipynb\n",
        "https://github.com/pachterlab/GRNP_2020/blob/master/notebooks/FASTQ_processing/ProcessPBMC_V3.ipynb\n",
        "https://github.com/pachterlab/GRNP_2020/blob/master/notebooks/FASTQ_processing/ProcessPBMC_V3_2.ipynb\n",
        "https://github.com/pachterlab/GRNP_2020/blob/master/notebooks/FASTQ_processing/ProcessPBMC_V3_3.ipynb\n",
        "https://github.com/pachterlab/GRNP_2020/blob/master/notebooks/FASTQ_processing/ProcessMARSSEQ.ipynb\n",
        "\n",
        "Preprocessing of BUG files:\n",
        "\n",
        "https://github.com/pachterlab/GRNP_2020/blob/master/notebooks/R_processing/ProcessR_EVAL.ipynb\n",
        "https://github.com/pachterlab/GRNP_2020/blob/master/notebooks/R_processing/ProcessR_EVALPBMC.ipynb\n",
        "https://github.com/pachterlab/GRNP_2020/blob/master/notebooks/R_processing/ProcessR_EVALPBMC_DS.ipynb\n",
        "https://github.com/pachterlab/GRNP_2020/blob/master/notebooks/R_processing/ProcessR_EVALPBMC_SW.ipynb\n",
        "https://github.com/pachterlab/GRNP_2020/blob/master/notebooks/R_processing/ProcessR_LC.ipynb\n",
        "https://github.com/pachterlab/GRNP_2020/blob/master/notebooks/R_processing/ProcessR_MRET.ipynb\n",
        "https://github.com/pachterlab/GRNP_2020/blob/master/notebooks/R_processing/ProcessR_MRET2.ipynb\n",
        "https://github.com/pachterlab/GRNP_2020/blob/master/notebooks/R_processing/ProcessR_PBMC_NG.ipynb\n",
        "https://github.com/pachterlab/GRNP_2020/blob/master/notebooks/R_processing/ProcessR_PBMC_NG_2.ipynb\n",
        "https://github.com/pachterlab/GRNP_2020/blob/master/notebooks/R_processing/ProcessR_PBMC_V2.ipynb\n",
        "https://github.com/pachterlab/GRNP_2020/blob/master/notebooks/R_processing/ProcessR_PBMC_V3.ipynb\n",
        "https://github.com/pachterlab/GRNP_2020/blob/master/notebooks/R_processing/ProcessR_PBMC_V3_2.ipynb\n",
        "https://github.com/pachterlab/GRNP_2020/blob/master/notebooks/R_processing/ProcessR_PBMC_V3_3.ipynb\n",
        "https://github.com/pachterlab/GRNP_2020/blob/master/notebooks/R_processing/ProcessR_MARSSEQ.ipynb\n"
      ]
    },
    {
      "cell_type": "markdown",
      "metadata": {
        "id": "h8RnKVMXgbzr"
      },
      "source": [
        "**1. Download the code and processed data**"
      ]
    },
    {
      "cell_type": "code",
      "metadata": {
        "id": "doUAtCxIyOiI"
      },
      "source": [
        "#download the R code\n",
        "![ -d \"GRNP_2020\" ] && rm -r GRNP_2020\n",
        "\n",
        "!git clone https://github.com/pachterlab/GRNP_2020.git\n"
      ],
      "execution_count": null,
      "outputs": []
    },
    {
      "cell_type": "code",
      "metadata": {
        "id": "dUNSQ1qBZb2g"
      },
      "source": [
        "#download processed data from Zenodo for all datasets\n",
        "![ -d \"data\" ] && rm -r data\n",
        "!mkdir figureData\n",
        "!cd figureData && wget https://zenodo.org/record/4661263/files/EVAL.zip?download=1 && unzip 'EVAL.zip?download=1' && rm 'EVAL.zip?download=1'\n",
        "!cd figureData && wget https://zenodo.org/record/4661263/files/EVALPBMC.zip?download=1 && unzip 'EVALPBMC.zip?download=1' && rm 'EVALPBMC.zip?download=1'\n",
        "!cd figureData && wget https://zenodo.org/record/4661263/files/EVALPBMC_DS.zip?download=1 && unzip 'EVALPBMC_DS.zip?download=1' && rm 'EVALPBMC_DS.zip?download=1'\n",
        "!cd figureData && wget https://zenodo.org/record/4661263/files/EVALPBMC_SW.zip?download=1 && unzip 'EVALPBMC_SW.zip?download=1' && rm 'EVALPBMC_SW.zip?download=1'\n",
        "!cd figureData && wget https://zenodo.org/record/4661263/files/MRET.zip?download=1 && unzip 'MRET.zip?download=1' && rm 'MRET.zip?download=1'\n",
        "!cd figureData && wget https://zenodo.org/record/4661263/files/MRET2.zip?download=1 && unzip 'MRET2.zip?download=1' && rm 'MRET2.zip?download=1'\n",
        "!cd figureData && wget https://zenodo.org/record/4661263/files/LC.zip?download=1 && unzip 'LC.zip?download=1' && rm 'LC.zip?download=1'\n",
        "!cd figureData && wget https://zenodo.org/record/4661263/files/PBMC_V2.zip?download=1 && unzip 'PBMC_V2.zip?download=1' && rm 'PBMC_V2.zip?download=1'\n",
        "!cd figureData && wget https://zenodo.org/record/4661263/files/PBMC_V3.zip?download=1 && unzip 'PBMC_V3.zip?download=1' && rm 'PBMC_V3.zip?download=1'\n",
        "!cd figureData && wget https://zenodo.org/record/4661263/files/PBMC_V3_2.zip?download=1 && unzip 'PBMC_V3_2.zip?download=1' && rm 'PBMC_V3_2.zip?download=1'\n",
        "!cd figureData && wget https://zenodo.org/record/4661263/files/PBMC_V3_3.zip?download=1 && unzip 'PBMC_V3_3.zip?download=1' && rm 'PBMC_V3_3.zip?download=1'\n",
        "!cd figureData && wget https://zenodo.org/record/4661263/files/PBMC_NG.zip?download=1 && unzip 'PBMC_NG.zip?download=1' && rm 'PBMC_NG.zip?download=1'\n",
        "!cd figureData && wget https://zenodo.org/record/4661263/files/PBMC_NG_2.zip?download=1 && unzip 'PBMC_NG_2.zip?download=1' && rm 'PBMC_NG_2.zip?download=1'\n",
        "!cd figureData && wget https://zenodo.org/record/4661263/files/MARSSEQ.zip?download=1 && unzip 'MARSSEQ.zip?download=1' && rm 'MARSSEQ.zip?download=1'\n"
      ],
      "execution_count": null,
      "outputs": []
    },
    {
      "cell_type": "code",
      "metadata": {
        "id": "oesgTqLO0Qje"
      },
      "source": [
        "#Check that download worked\n",
        "!cd figureData && ls -l && cd EVAL && ls -l"
      ],
      "execution_count": null,
      "outputs": []
    },
    {
      "cell_type": "markdown",
      "metadata": {
        "id": "sCmhNVdYgkWH"
      },
      "source": [
        "**2. Prepare the R environment**"
      ]
    },
    {
      "cell_type": "code",
      "metadata": {
        "id": "5Gt6rQkSXriM"
      },
      "source": [
        "#switch to R mode\n",
        "%reload_ext rpy2.ipython\n"
      ],
      "execution_count": null,
      "outputs": []
    },
    {
      "cell_type": "code",
      "metadata": {
        "id": "jJ3rQJCdgeJa"
      },
      "source": [
        "#install the R packages and setup paths\n",
        "%%R\n",
        "install.packages(\"dplyr\")\n",
        "install.packages(\"preseqR\")\n"
      ],
      "execution_count": null,
      "outputs": []
    },
    {
      "cell_type": "markdown",
      "metadata": {
        "id": "x56fjfCSicrp"
      },
      "source": [
        "**3. Define a general function to precalculate data for a dataset**\n",
        "\n",
        "This function calculates all prediction data needed for the figures. For the A figures, all UMIs from all genes are joined into a single pool, and prediction is done from there. For the other figures (B-F), the predictions are done per gene. We predict using four methods:\n",
        "\n",
        "1. Preseq DS (Rational functions approximation), trunkating CU histograms at 2\n",
        "2. Preseq DS, trunkating CU histograms at 20\n",
        "3. Zero-trunkated negative binomial (ZTNB)\n",
        "4. \"Best practice\", which selects Preseq DS (here with histograms trunkated at 2) if the number of copies per molecule CV > 1, otherwise ZTNB."
      ]
    },
    {
      "cell_type": "code",
      "metadata": {
        "id": "V37XLBAO68oR"
      },
      "source": [
        "#First set some path variables\n",
        "%%R\n",
        "source(\"GRNP_2020/RCode/pathsGoogleColab.R\")\n"
      ],
      "execution_count": null,
      "outputs": []
    },
    {
      "cell_type": "code",
      "metadata": {
        "id": "R6kuhOmzZL_X"
      },
      "source": [
        "#Import the code for prediction (available in other notebooks)\n",
        "%%R\n",
        "source(paste0(sourcePath,\"ButterflyHelpers.R\"))\n",
        "source(paste0(sourcePath,\"preseqHelpers.R\"))\n",
        "\n",
        "\n",
        "\n"
      ],
      "execution_count": null,
      "outputs": []
    },
    {
      "cell_type": "code",
      "metadata": {
        "id": "tkQeT362BM7V"
      },
      "source": [
        "#Define a function that precalculates the figure data for a dataset\n",
        "%%R\n",
        "GenAlgEvaluationData <- function(dsid) {\n",
        "  print(paste0(\"Processing \",dsid, \":\"))\n",
        "  loadStats(dsid)\n",
        "  stats = getStats(dsid)\n",
        "  \n",
        "  \n",
        "  ##################################\n",
        "  #first, prediction of all UMIs\n",
        "  ##################################\n",
        "  \n",
        "  #Get UMI counts at all different ds stages\n",
        "  ###########################################\n",
        "  \n",
        "  dss = c(\"5\",\"10\",\"20\",\"40\",\"60\",\"80\",\"100\")\n",
        "  \n",
        "  #generate the columns to extract from stats\n",
        "  colList = dss #allocation of right size\n",
        "  for (i in 1:length(dss)) {\n",
        "    colList[i] = paste0(\"UMIs_\", dsid, \"_d_\", dss[i])\n",
        "  }\n",
        "  extrFromStats = stats[,which(colnames(stats) %in% colList)]\n",
        "  dsCounts = as.numeric(colSums(extrFromStats))\n",
        "\n",
        "  \n",
        "  #get histogram from 0.05:\n",
        "  loadBug(dsid, 0.05)\n",
        "  h = totalCPUHistogram(getBug(dsid, 0.05))\n",
        "  rmBug(dsid, 0.05)\n",
        "\n",
        "  x = c(0.05,0.1,0.2,0.4,0.6,0.8,1)\n",
        "  t = c(1,2,4,8,12,16,20)\n",
        "\n",
        "\n",
        "  #predict with Good-Toulmin\n",
        "  predGT005 = rep(0,length(t))\n",
        "  predGT005[1] = dsCounts[1];\n",
        "  for (i in 2:length(t)) {\n",
        "    predGT005[i] = goodToulmin(h,t[i])\n",
        "  }\n",
        "  \n",
        "  #predict with Preseq DS, mt=20\n",
        "  predPSDS005_20 = rep(0,length(t))\n",
        "  predPSDS005_20[1] = dsCounts[1];\n",
        "  for (i in 2:length(t)) {\n",
        "    predPSDS005_20[i] = predPreSeqDS(h,t[i],20)\n",
        "  }\n",
        "  \n",
        "  #predict with Preseq DS, mt=2\n",
        "  predPSDS005_2 = rep(0,length(t))\n",
        "  predPSDS005_2[1] = dsCounts[1];\n",
        "  for (i in 2:length(t)) {\n",
        "    predPSDS005_2[i] = predPreSeqDS(h,t[i],2)\n",
        "  }\n",
        "  \n",
        "  #predict with Preseq ZTNB\n",
        "  predPSZTNB005 = rep(0,length(t))\n",
        "  predPSZTNB005[1] = dsCounts[1];\n",
        "  for (i in 2:length(t)) {\n",
        "    predPSZTNB005[i] = predPreSeqZTNB(h,t[i]) #just ignore the warnings, deprecated...\n",
        "  }\n",
        "  \n",
        "  ##################################\n",
        "  #now, prediction per gene for different methods\n",
        "  ##################################\n",
        "  \n",
        "  loadBug(dsid, 0.1)\n",
        "  ds10Bug = getBug(dsid, 0.1)\n",
        "  rmBug(dsid, 0.1)\n",
        "\n",
        "  collapsed10 = aggregate(count~gene, ds10Bug, FUN=c) #if you get an error here, you probably defined a variable called \"c\"...\n",
        "  totUMIs10 = sapply(collapsed10$count, FUN=length)\n",
        "  rm(ds10Bug)\n",
        "  \n",
        "  loadBug(dsid, 1)\n",
        "  ds100Bug = getBug(dsid, 1)\n",
        "  rmBug(dsid, 1)\n",
        "  \n",
        "  collapsedFull = aggregate(count~gene, ds100Bug, FUN=c) #if you get an error here, you probably defined a variable called \"c\"...\n",
        "  rm(ds100Bug)\n",
        "  merged2 = inner_join(collapsed10, collapsedFull, by=\"gene\")\n",
        "  rm(collapsed10, collapsedFull)\n",
        "  colnames(merged2) = c(\"gene\", \"DS10\", \"Full\")\n",
        "  \n",
        "  totUMIsFull = sapply(merged2$Full, FUN=length)\n",
        "  #sort the genes on number of UMIs\n",
        "  srt = sort(totUMIs10, index.return=T)\n",
        "  umis = srt$x\n",
        "  merged2srt = merged2[srt$ix,]\n",
        "  \n",
        "  #now predict using both ztnb and ds:\n",
        "  numgenes = dim(merged2srt)[1]\n",
        "  predds_20 = rep(0,numgenes)\n",
        "  predds_2 = rep(0,numgenes)\n",
        "  predztnb = rep(0,numgenes)\n",
        "  predbp = rep(0,numgenes)\n",
        "  predscaled = rep(0,numgenes)\n",
        "  fracOnes = rep(0,numgenes)\n",
        "  fullUMIs = rep(0,numgenes)\n",
        "  \n",
        "  globScale = sum(totUMIsFull)/sum(totUMIs10)\n",
        "\n",
        "  #All quick ones.\n",
        "  print(paste0(\"DS etc.:\", numgenes))\n",
        "  for (i in 1:numgenes) {\n",
        "    if (i %% 1000 == 0) {\n",
        "      print(i)\n",
        "    }\n",
        "    h = hist(merged2srt$DS10[[i]], breaks=seq(0.5, max(merged2srt$DS10[[i]])+0.5, by=1), plot = F)\n",
        "    predds_20[[i]] = predPreSeqDS(h, 10, 20)\n",
        "    predds_2[[i]] = predPreSeqDS(h, 10, 2)\n",
        "    predscaled[[i]] = length(merged2srt$DS10[[i]])*globScale #this resembles CPM\n",
        "    \n",
        "    fullUMIs[[i]] = length(merged2srt$Full[[i]])\n",
        "    \n",
        "    fracOnes[[i]] = h$density[1]\n",
        "  }\n",
        "  \n",
        "  #ztnb\n",
        "  print(paste0(\"ZTNB:\", numgenes))\n",
        "  for (i in 1:numgenes) {\n",
        "    if (i %% 1000 == 0) {\n",
        "      print(i)\n",
        "    }\n",
        "    h = hist(merged2srt$DS10[[i]], breaks=seq(0.5, max(merged2srt$DS10[[i]])+0.5, by=1), plot = F)\n",
        "    predztnb[[i]] = predPreSeqZTNB(h, 10)\n",
        "  }\n",
        "  \n",
        "  #best practice\n",
        "  print(paste0(\"Best practice:\", numgenes))\n",
        "  for (i in 1:numgenes) {\n",
        "    if (i %% 1000 == 0) {\n",
        "      print(i)\n",
        "    }\n",
        "    h = hist(merged2srt$DS10[[i]], breaks=seq(0.5, max(merged2srt$DS10[[i]])+0.5, by=1), plot = F)\n",
        "    predbp[[i]] = predPreSeq(h, 10, mt=2)\n",
        "  }\n",
        "  \n",
        "  \n",
        "  toSave = list(x, dsCounts, predGT005, predPSDS005_2, predPSDS005_20, predPSZTNB005, \n",
        "                predds_20, predds_2, predztnb, predbp, predscaled, fracOnes, fullUMIs, umis,\n",
        "                merged2srt)\n",
        "  \n",
        "  \n",
        "  filename = paste0(figure_data_path, dsid, \"/PredEvalData.RDS\")\n",
        "  saveRDS(toSave, filename)\n",
        "  \n",
        "  \n",
        "}\n"
      ],
      "execution_count": null,
      "outputs": []
    },
    {
      "cell_type": "markdown",
      "metadata": {
        "id": "YsqeFNdtnLsc"
      },
      "source": [
        "**4. Call the precalculation function for all datasets**\n"
      ]
    },
    {
      "cell_type": "code",
      "metadata": {
        "id": "CffgQFeiW2tc"
      },
      "source": [
        "%%R\n",
        "GenAlgEvaluationData(\"EVAL\")\n",
        "GenAlgEvaluationData(\"EVALPBMC\")\n",
        "GenAlgEvaluationData(\"EVALPBMC_DS\")\n",
        "GenAlgEvaluationData(\"EVALPBMC_SW\")\n",
        "GenAlgEvaluationData(\"PBMC_V3\")\n",
        "GenAlgEvaluationData(\"PBMC_V3_2\")\n",
        "GenAlgEvaluationData(\"PBMC_V3_3\")\n",
        "GenAlgEvaluationData(\"PBMC_NG\")\n",
        "GenAlgEvaluationData(\"PBMC_NG_2\")\n",
        "GenAlgEvaluationData(\"PBMC_V2\")\n",
        "GenAlgEvaluationData(\"LC\")\n",
        "GenAlgEvaluationData(\"MRET\")\n",
        "GenAlgEvaluationData(\"MRET2\")\n",
        "GenAlgEvaluationData(\"MARSSEQ\")\n"
      ],
      "execution_count": null,
      "outputs": []
    },
    {
      "cell_type": "code",
      "metadata": {
        "id": "Cb5DifYYcB6g"
      },
      "source": [
        "!cd figureData && ls -l && cd EVAL && ls -l"
      ],
      "execution_count": null,
      "outputs": []
    }
  ]
}