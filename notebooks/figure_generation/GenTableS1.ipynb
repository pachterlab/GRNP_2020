{
  "nbformat": 4,
  "nbformat_minor": 0,
  "metadata": {
    "colab": {
      "name": "GenTableS1.ipynb",
      "provenance": [],
      "collapsed_sections": [],
      "include_colab_link": true
    },
    "kernelspec": {
      "name": "python3",
      "display_name": "Python 3"
    }
  },
  "cells": [
    {
      "cell_type": "markdown",
      "metadata": {
        "id": "view-in-github",
        "colab_type": "text"
      },
      "source": [
        "<a href=\"https://colab.research.google.com/github/pachterlab/GRNP_2020/blob/master/notebooks/figure_generation/GenTableS1.ipynb\" target=\"_parent\"><img src=\"https://colab.research.google.com/assets/colab-badge.svg\" alt=\"Open In Colab\"/></a>"
      ]
    },
    {
      "cell_type": "markdown",
      "metadata": {
        "id": "dhydD96df06z"
      },
      "source": [
        "**Generates amplification statistics for both mouse and human**\n",
        "\n",
        "Steps:\n",
        "1. Download the code and processed data\n",
        "2. Setup the R environment\n",
        "3. Generate the list\n"
      ]
    },
    {
      "cell_type": "markdown",
      "metadata": {
        "id": "h8RnKVMXgbzr"
      },
      "source": [
        "**1. Download the code and processed data**"
      ]
    },
    {
      "cell_type": "code",
      "metadata": {
        "id": "doUAtCxIyOiI"
      },
      "source": [
        "#download the R code\n",
        "![ -d \"GRNP_2020\" ] && rm -r GRNP_2020\n",
        "\n",
        "!git clone https://github.com/pachterlab/GRNP_2020.git\n"
      ],
      "execution_count": null,
      "outputs": []
    },
    {
      "cell_type": "code",
      "metadata": {
        "id": "dUNSQ1qBZb2g"
      },
      "source": [
        "#download processed data from Zenodo for all datasets\n",
        "![ -d \"data\" ] && rm -r data\n",
        "!mkdir figureData\n",
        "!cd figureData && wget https://zenodo.org/record/4661263/files/EVALPBMC.zip?download=1 && unzip 'EVALPBMC.zip?download=1' && rm 'EVALPBMC.zip?download=1'"
      ],
      "execution_count": null,
      "outputs": []
    },
    {
      "cell_type": "code",
      "metadata": {
        "id": "OZ7nQY06CDMD"
      },
      "source": [
        "!cd figureData && wget https://zenodo.org/record/4661263/files/EVALPBMC_DS.zip?download=1 && unzip 'EVALPBMC_DS.zip?download=1' && rm 'EVALPBMC_DS.zip?download=1'"
      ],
      "execution_count": null,
      "outputs": []
    },
    {
      "cell_type": "code",
      "metadata": {
        "id": "Rv6RqlxkBzIR"
      },
      "source": [
        "!cd figureData && wget https://zenodo.org/record/4661263/files/PBMC_V2.zip?download=1 && unzip 'PBMC_V2.zip?download=1' && rm 'PBMC_V2.zip?download=1'"
      ],
      "execution_count": null,
      "outputs": []
    },
    {
      "cell_type": "code",
      "metadata": {
        "id": "BzLk4l8OBzcu"
      },
      "source": [
        "!cd figureData && wget https://zenodo.org/record/4661263/files/PBMC_V3.zip?download=1 && unzip 'PBMC_V3.zip?download=1' && rm 'PBMC_V3.zip?download=1'"
      ],
      "execution_count": null,
      "outputs": []
    },
    {
      "cell_type": "code",
      "metadata": {
        "id": "sp-NXLSFBzu-"
      },
      "source": [
        "!cd figureData && wget https://zenodo.org/record/4661263/files/PBMC_V3_2.zip?download=1 && unzip 'PBMC_V3_2.zip?download=1' && rm 'PBMC_V3_2.zip?download=1'"
      ],
      "execution_count": null,
      "outputs": []
    },
    {
      "cell_type": "code",
      "metadata": {
        "id": "28GaXINoB0Ef"
      },
      "source": [
        "!cd figureData && wget https://zenodo.org/record/4661263/files/PBMC_V3_3.zip?download=1 && unzip 'PBMC_V3_3.zip?download=1' && rm 'PBMC_V3_3.zip?download=1'"
      ],
      "execution_count": null,
      "outputs": []
    },
    {
      "cell_type": "code",
      "metadata": {
        "id": "8jw0aQafB0ZG"
      },
      "source": [
        "!cd figureData && wget https://zenodo.org/record/4661263/files/PBMC_NG.zip?download=1 && unzip 'PBMC_NG.zip?download=1' && rm 'PBMC_NG.zip?download=1'"
      ],
      "execution_count": null,
      "outputs": []
    },
    {
      "cell_type": "code",
      "metadata": {
        "id": "Y0GxYbAEB0xF"
      },
      "source": [
        "!cd figureData && wget https://zenodo.org/record/4661263/files/PBMC_NG_2.zip?download=1 && unzip 'PBMC_NG_2.zip?download=1' && rm 'PBMC_NG_2.zip?download=1'"
      ],
      "execution_count": null,
      "outputs": []
    },
    {
      "cell_type": "code",
      "metadata": {
        "id": "oesgTqLO0Qje"
      },
      "source": [
        "#Check that download worked\n",
        "!cd data && ls -l && cd EVAL && ls -l"
      ],
      "execution_count": null,
      "outputs": []
    },
    {
      "cell_type": "markdown",
      "metadata": {
        "id": "sCmhNVdYgkWH"
      },
      "source": [
        "**2. Prepare the R environment**"
      ]
    },
    {
      "cell_type": "code",
      "metadata": {
        "id": "5Gt6rQkSXriM"
      },
      "source": [
        "#switch to R mode\n",
        "%reload_ext rpy2.ipython\n"
      ],
      "execution_count": null,
      "outputs": []
    },
    {
      "cell_type": "code",
      "metadata": {
        "id": "jJ3rQJCdgeJa"
      },
      "source": [
        "#install the R packages and setup paths\n",
        "%%R\n",
        "install.packages(\"dplyr\")\n",
        "install.packages(\"readr\")\n"
      ],
      "execution_count": null,
      "outputs": []
    },
    {
      "cell_type": "markdown",
      "metadata": {
        "id": "x56fjfCSicrp"
      },
      "source": [
        "**3. 3. Generate the list**\n",
        "\n",
        "We generate the list as a weighted mean over all 10X PBMC datasets we have in this study, using the FSCM (fracOnes) in the stats for each dataset."
      ]
    },
    {
      "cell_type": "code",
      "metadata": {
        "id": "V37XLBAO68oR"
      },
      "source": [
        "#First set some path variables\n",
        "%%R\n",
        "source(\"GRNP_2020/RCode/pathsGoogleColab.R\")\n"
      ],
      "execution_count": null,
      "outputs": []
    },
    {
      "cell_type": "code",
      "metadata": {
        "id": "R6kuhOmzZL_X"
      },
      "source": [
        "#Import the code for prediction (available in other notebooks)\n",
        "%%R\n",
        "source(paste0(sourcePath,\"ButterflyHelpers.R\"))\n",
        "\n",
        "library(readr)\n",
        "\n",
        "#######################\n",
        "# Human 10X\n",
        "#######################\n",
        "\n",
        "loadStats(\"EVALPBMC_DS\")\n",
        "loadStats(\"EVALPBMC\")\n",
        "loadStats(\"PBMC_V3\")\n",
        "loadStats(\"PBMC_V3_2\")\n",
        "loadStats(\"PBMC_V3_3\")\n",
        "loadStats(\"PBMC_V2\")\n",
        "loadStats(\"PBMC_NG\")\n",
        "loadStats(\"PBMC_NG_2\")\n",
        "\n",
        "umisList = list(tibble(gene=statsEVALPBMC$gene, umis=statsEVALPBMC$UMIs_EVALPBMC_d_100), \n",
        "                tibble(gene=statsPBMC_V3$gene, umis=statsPBMC_V3$UMIs_PBMC_V3_d_100), \n",
        "                tibble(gene=statsPBMC_V3_2$gene, umis=statsPBMC_V3_2$UMIs_PBMC_V3_2_d_100), \n",
        "                tibble(gene=statsPBMC_V3_3$gene, umis=statsPBMC_V3_3$UMIs_PBMC_V3_3_d_100), \n",
        "                tibble(gene=statsPBMC_V2$gene, umis=statsPBMC_V2$UMIs_PBMC_V2_d_100), \n",
        "                tibble(gene=statsPBMC_NG$gene, umis=statsPBMC_NG$UMIs_PBMC_NG_d_100), \n",
        "                tibble(gene=statsPBMC_NG_2$gene, umis=statsPBMC_NG_2$UMIs_PBMC_NG_2_d_100))\n",
        "\n",
        "fracOnesList = list(tibble(gene = statsEVALPBMC$gene, fracOnes = statsEVALPBMC$FracOnes_EVALPBMC_d_100),\n",
        "                    tibble(gene = statsPBMC_V3$gene, fracOnes = statsPBMC_V3$FracOnes_PBMC_V3_d_100),\n",
        "                    tibble(gene = statsPBMC_V3_2$gene, fracOnes = statsPBMC_V3_2$FracOnes_PBMC_V3_2_d_100),\n",
        "                    tibble(gene = statsPBMC_V3_3$gene, fracOnes = statsPBMC_V3_3$FracOnes_PBMC_V3_3_d_100),\n",
        "                    tibble(gene = statsPBMC_V2$gene, fracOnes = statsPBMC_V2$FracOnes_PBMC_V2_d_100),\n",
        "                    tibble(gene = statsPBMC_NG$gene, fracOnes = statsPBMC_NG$FracOnes_PBMC_NG_d_100),\n",
        "                    tibble(gene = statsPBMC_NG_2$gene, fracOnes = statsPBMC_NG_2$FracOnes_PBMC_NG_2_d_100))\n",
        "\n",
        "\n",
        "umis = umisList[[1]]\n",
        "fos = fracOnesList[[1]]\n",
        "for (i in 2:length(umisList)) {\n",
        "  umis = inner_join(umis, umisList[[i]], by=\"gene\")\n",
        "  fos = inner_join(fos, fracOnesList[[i]], by=\"gene\")\n",
        "}\n",
        "\n",
        "mns = rep(0,dim(fos)[1])\n",
        "\n",
        "#calculate weighted mean with a loop\n",
        "for (i in 1:(dim(fos)[1])) {\n",
        "  mns[i] = weighted.mean(fos[i,-1], umis[i,-1])\n",
        "}\n",
        "\n",
        "#test: the numbers look reasonably right\n",
        "#so, the weighted mean gives a reasonably good estimate of which genes that are most extreme\n",
        "#there are of course error factors such as different saturation levels for datasets, but we just ignore that here\n",
        "\n",
        "srt = sort(mns, index.return=T, decreasing = T)\n",
        "\n",
        "srtumis = umis[srt$ix,]\n",
        "srtumis\n",
        "\n",
        "totumis = rowSums(srtumis[,-1])\n",
        "totumis #looks like there is no need for filtering due to lack of data, they all have several hundred umis\n",
        "\n",
        "srtumis[1:100,]\n",
        "srt$x[1:100]\n",
        "\n",
        "srtumis$gene[1:100]\n",
        "\n",
        "toWrite = tibble(gene=srtumis$gene, UMIs = totumis, FSCM=srt$x)\n",
        "\n",
        "#now write the genes to file\n",
        "write_delim(toWrite, paste0(figure_path, \"human_10x_FSCM_genes.txt\"), \"\\t\")\n",
        "\n",
        "#get the number for NEUROD1, also in drop-seq\n",
        "paste0(\"Fraction of single-copy molecules in 10x data for NEUROD1: \", mns[umis$gene == \"NEUROD1\"])#0.897550111358575\n",
        "statsEVALPBMC_DS$UMIs_EVALPBMC_DS_d_100[statsEVALPBMC_DS$gene == \"NEUROD1\"]\n",
        "dsFos = statsEVALPBMC_DS$FracOnes_EVALPBMC_DS_d_100[statsEVALPBMC_DS$gene == \"NEUROD1\"]\n",
        "paste0(\"Fraction of single-copy molecules in Drop-Seq data for NEUROD1: \", dsFos)#0.819548872180451\n",
        "\n",
        "#########################\n",
        "# Human Drop-Seq\n",
        "#########################\n",
        "loadStats(\"EVALPBMC_DS\")\n",
        "\n",
        "toWrite = tibble(gene=statsEVALPBMC_DS$gene, UMIs = statsEVALPBMC_DS$UMIs_EVALPBMC_DS_d_100, FSCM=statsEVALPBMC_DS$FracOnes_EVALPBMC_DS_d_100)\n",
        "#filter on 20, otherwise it is pretty random\n",
        "toWrite = toWrite[toWrite$UMIs >= 20, ]\n",
        "srt = sort(toWrite$FSCM, index.return=TRUE, decreasing=TRUE)\n",
        "toWrite = toWrite[srt$ix,]\n",
        "\n",
        "#now write the genes to file\n",
        "write_delim(toWrite, paste0(figure_path, \"human_Drop-Seq_FSCM_genes.txt\"), \"\\t\")\n",
        "\n",
        "#######################\n",
        "# Mouse 10X\n",
        "#######################\n",
        "\n",
        "loadStats(\"EVAL\")\n",
        "loadStats(\"MRET2\")\n",
        "\n",
        "umisList = list(tibble(gene=statsEVAL$gene, umis=statsEVAL$UMIs_EVAL_d_100), \n",
        "                tibble(gene=statsMRET2$gene, umis=statsMRET2$UMIs_MRET2_d_100))\n",
        "\n",
        "fracOnesList = list(tibble(gene = statsEVAL$gene, fracOnes = statsEVAL$FracOnes_EVAL_d_100),\n",
        "                    tibble(gene = statsMRET2$gene, fracOnes = statsMRET2$FracOnes_MRET2_d_100))\n",
        "\n",
        "\n",
        "umis = umisList[[1]]\n",
        "fos = fracOnesList[[1]]\n",
        "for (i in 2:length(umisList)) {\n",
        "  umis = inner_join(umis, umisList[[i]], by=\"gene\")\n",
        "  fos = inner_join(fos, fracOnesList[[i]], by=\"gene\")\n",
        "}\n",
        "\n",
        "mns = rep(0,dim(fos)[1])\n",
        "\n",
        "#calculate weighted mean with a loop\n",
        "for (i in 1:(dim(fos)[1])) {\n",
        "  mns[i] = weighted.mean(fos[i,-1], umis[i,-1])\n",
        "}\n",
        "\n",
        "srt = sort(mns, index.return=T, decreasing = T)\n",
        "\n",
        "srtumis = umis[srt$ix,]\n",
        "srtumis\n",
        "\n",
        "totumis = rowSums(srtumis[,-1])\n",
        "totumis #looks like there is no need for filtering due to lack of data, they all have several hundred umis\n",
        "\n",
        "toWrite = tibble(gene=srtumis$gene, UMIs = totumis, FSCM=srt$x)\n",
        "\n",
        "#now write the genes to file\n",
        "write_delim(toWrite, paste0(figure_path, \"mouse_10x_FSCM_genes.txt\"), \"\\t\")\n",
        "\n",
        "#########################\n",
        "# Mouse Drop-Seq\n",
        "#########################\n",
        "loadStats(\"MRET\")\n",
        "\n",
        "toWrite = tibble(gene=statsMRET$gene, UMIs = statsMRET$UMIs_MRET_d_100, FSCM=statsMRET$FracOnes_MRET_d_100)\n",
        "#filter on 20, otherwise it is pretty random\n",
        "toWrite = toWrite[toWrite$UMIs >= 20, ]\n",
        "srt = sort(toWrite$FSCM, index.return=TRUE, decreasing=TRUE)\n",
        "toWrite = toWrite[srt$ix,]\n",
        "\n",
        "#now write the genes to file\n",
        "write_delim(toWrite, paste0(figure_path, \"mouse_Drop-Seq_FSCM_genes.txt\"), \"\\t\")\n",
        "\n"
      ],
      "execution_count": null,
      "outputs": []
    }
  ]
}