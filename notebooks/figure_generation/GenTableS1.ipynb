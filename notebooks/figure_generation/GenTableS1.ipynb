{
  "nbformat": 4,
  "nbformat_minor": 0,
  "metadata": {
    "colab": {
      "name": "GenTableS1.ipynb",
      "provenance": [],
      "collapsed_sections": [],
      "include_colab_link": true
    },
    "kernelspec": {
      "name": "python3",
      "display_name": "Python 3"
    }
  },
  "cells": [
    {
      "cell_type": "markdown",
      "metadata": {
        "id": "view-in-github",
        "colab_type": "text"
      },
      "source": [
        "<a href=\"https://colab.research.google.com/github/pachterlab/GRNP_2020/blob/master/notebooks/figure_generation/GenTableS1.ipynb\" target=\"_parent\"><img src=\"https://colab.research.google.com/assets/colab-badge.svg\" alt=\"Open In Colab\"/></a>"
      ]
    },
    {
      "cell_type": "markdown",
      "metadata": {
        "id": "dhydD96df06z",
        "colab_type": "text"
      },
      "source": [
        "**Generates amplification statistics for both mouse and human**\n",
        "\n",
        "Steps:\n",
        "1. Download the code and processed data\n",
        "2. Setup the R environment\n",
        "3. Generate the list\n"
      ]
    },
    {
      "cell_type": "markdown",
      "metadata": {
        "id": "h8RnKVMXgbzr",
        "colab_type": "text"
      },
      "source": [
        "**1. Download the code and processed data**"
      ]
    },
    {
      "cell_type": "code",
      "metadata": {
        "id": "doUAtCxIyOiI",
        "colab_type": "code",
        "colab": {
          "base_uri": "https://localhost:8080/",
          "height": 136
        },
        "outputId": "43594a61-2f0f-4569-c8b9-484c15b6527f"
      },
      "source": [
        "#download the R code\n",
        "![ -d \"GRNP_2020\" ] && rm -r GRNP_2020\n",
        "\n",
        "!git clone https://github.com/pachterlab/GRNP_2020.git\n"
      ],
      "execution_count": 1,
      "outputs": [
        {
          "output_type": "stream",
          "text": [
            "Cloning into 'GRNP_2020'...\n",
            "remote: Enumerating objects: 138, done.\u001b[K\n",
            "remote: Counting objects: 100% (138/138), done.\u001b[K\n",
            "remote: Compressing objects: 100% (103/103), done.\u001b[K\n",
            "remote: Total 1021 (delta 88), reused 66 (delta 35), pack-reused 883\u001b[K\n",
            "Receiving objects: 100% (1021/1021), 7.39 MiB | 18.05 MiB/s, done.\n",
            "Resolving deltas: 100% (642/642), done.\n"
          ],
          "name": "stdout"
        }
      ]
    },
    {
      "cell_type": "code",
      "metadata": {
        "id": "dUNSQ1qBZb2g",
        "colab_type": "code",
        "colab": {
          "base_uri": "https://localhost:8080/",
          "height": 442
        },
        "outputId": "78ecd16f-7e9a-4588-fa09-b749b7cb4be8"
      },
      "source": [
        "#download processed data from Zenodo for all datasets\n",
        "![ -d \"data\" ] && rm -r data\n",
        "!mkdir figureData\n",
        "!cd figureData && wget https://zenodo.org/record/4661263/files/EVALPBMC.zip?download=1 && unzip 'EVALPBMC.zip?download=1' && rm 'EVALPBMC.zip?download=1'"
      ],
      "execution_count": 2,
      "outputs": [
        {
          "output_type": "stream",
          "text": [
            "--2020-07-02 19:39:02--  https://zenodo.org/record/4661263/files/EVALPBMC.zip?download=1\n",
            "Resolving zenodo.org (zenodo.org)... 188.184.117.155\n",
            "Connecting to zenodo.org (zenodo.org)|188.184.117.155|:443... connected.\n",
            "HTTP request sent, awaiting response... 200 OK\n",
            "Length: 467646609 (446M) [application/octet-stream]\n",
            "Saving to: ‘EVALPBMC.zip?download=1’\n",
            "\n",
            "EVALPBMC.zip?downlo 100%[===================>] 445.98M  18.5MB/s    in 25s     \n",
            "\n",
            "2020-07-02 19:39:29 (17.7 MB/s) - ‘EVALPBMC.zip?download=1’ saved [467646609/467646609]\n",
            "\n",
            "Archive:  EVALPBMC.zip?download=1\n",
            "   creating: EVALPBMC/\n",
            "  inflating: EVALPBMC/Bug_10.RData   \n",
            "  inflating: EVALPBMC/Bug_100.RData  \n",
            "  inflating: EVALPBMC/Bug_20.RData   \n",
            "  inflating: EVALPBMC/Bug_40.RData   \n",
            "  inflating: EVALPBMC/Bug_5.RData    \n",
            "  inflating: EVALPBMC/Bug_60.RData   \n",
            "  inflating: EVALPBMC/Bug_80.RData   \n",
            "  inflating: EVALPBMC/ds_summary.txt  \n",
            "  inflating: EVALPBMC/pooledHist.RData  \n",
            "  inflating: EVALPBMC/pooledHistDS.RData  \n",
            "  inflating: EVALPBMC/PredEvalData.RDS  \n",
            "  inflating: EVALPBMC/Stats.RData    \n"
          ],
          "name": "stdout"
        }
      ]
    },
    {
      "cell_type": "code",
      "metadata": {
        "id": "OZ7nQY06CDMD",
        "colab_type": "code",
        "colab": {
          "base_uri": "https://localhost:8080/",
          "height": 408
        },
        "outputId": "c0e0a64b-51b2-4a1b-8bb2-df34b61367ff"
      },
      "source": [
        "!cd figureData && wget https://zenodo.org/record/4661263/files/EVALPBMC_DS.zip?download=1 && unzip 'EVALPBMC_DS.zip?download=1' && rm 'EVALPBMC_DS.zip?download=1'"
      ],
      "execution_count": 3,
      "outputs": [
        {
          "output_type": "stream",
          "text": [
            "--2020-07-02 19:39:35--  https://zenodo.org/record/4661263/files/EVALPBMC_DS.zip?download=1\n",
            "Resolving zenodo.org (zenodo.org)... 188.184.117.155\n",
            "Connecting to zenodo.org (zenodo.org)|188.184.117.155|:443... connected.\n",
            "HTTP request sent, awaiting response... 200 OK\n",
            "Length: 207886298 (198M) [application/octet-stream]\n",
            "Saving to: ‘EVALPBMC_DS.zip?download=1’\n",
            "\n",
            "EVALPBMC_DS.zip?dow 100%[===================>] 198.25M  18.8MB/s    in 12s     \n",
            "\n",
            "2020-07-02 19:39:49 (16.2 MB/s) - ‘EVALPBMC_DS.zip?download=1’ saved [207886298/207886298]\n",
            "\n",
            "Archive:  EVALPBMC_DS.zip?download=1\n",
            "   creating: EVALPBMC_DS/\n",
            "  inflating: EVALPBMC_DS/Bug_10.RData  \n",
            "  inflating: EVALPBMC_DS/Bug_100.RData  \n",
            "  inflating: EVALPBMC_DS/Bug_20.RData  \n",
            "  inflating: EVALPBMC_DS/Bug_40.RData  \n",
            "  inflating: EVALPBMC_DS/Bug_5.RData  \n",
            "  inflating: EVALPBMC_DS/Bug_60.RData  \n",
            "  inflating: EVALPBMC_DS/Bug_80.RData  \n",
            "  inflating: EVALPBMC_DS/ds_summary.txt  \n",
            "  inflating: EVALPBMC_DS/PredEvalData.RDS  \n",
            "  inflating: EVALPBMC_DS/Stats.RData  \n"
          ],
          "name": "stdout"
        }
      ]
    },
    {
      "cell_type": "code",
      "metadata": {
        "id": "Rv6RqlxkBzIR",
        "colab_type": "code",
        "colab": {
          "base_uri": "https://localhost:8080/",
          "height": 442
        },
        "outputId": "78636a08-796e-4fa2-d3b1-921c6c97c252"
      },
      "source": [
        "!cd figureData && wget https://zenodo.org/record/4661263/files/PBMC_V2.zip?download=1 && unzip 'PBMC_V2.zip?download=1' && rm 'PBMC_V2.zip?download=1'"
      ],
      "execution_count": 4,
      "outputs": [
        {
          "output_type": "stream",
          "text": [
            "--2020-07-02 19:39:52--  https://zenodo.org/record/4661263/files/PBMC_V2.zip?download=1\n",
            "Resolving zenodo.org (zenodo.org)... 188.184.117.155\n",
            "Connecting to zenodo.org (zenodo.org)|188.184.117.155|:443... connected.\n",
            "HTTP request sent, awaiting response... 200 OK\n",
            "Length: 816179326 (778M) [application/octet-stream]\n",
            "Saving to: ‘PBMC_V2.zip?download=1’\n",
            "\n",
            "PBMC_V2.zip?downloa 100%[===================>] 778.37M  9.93MB/s    in 65s     \n",
            "\n",
            "2020-07-02 19:40:58 (12.0 MB/s) - ‘PBMC_V2.zip?download=1’ saved [816179326/816179326]\n",
            "\n",
            "Archive:  PBMC_V2.zip?download=1\n",
            "   creating: PBMC_V2/\n",
            "  inflating: PBMC_V2/Bug_10.RData    \n",
            "  inflating: PBMC_V2/Bug_100.RData   \n",
            "  inflating: PBMC_V2/Bug_20.RData    \n",
            "  inflating: PBMC_V2/Bug_40.RData    \n",
            "  inflating: PBMC_V2/Bug_5.RData     \n",
            "  inflating: PBMC_V2/Bug_60.RData    \n",
            "  inflating: PBMC_V2/Bug_80.RData    \n",
            "  inflating: PBMC_V2/ds_summary.txt  \n",
            "  inflating: PBMC_V2/pooledHist.RData  \n",
            "  inflating: PBMC_V2/pooledHistDS.RData  \n",
            "  inflating: PBMC_V2/PredEvalData.RDS  \n",
            "  inflating: PBMC_V2/Stats.RData     \n"
          ],
          "name": "stdout"
        }
      ]
    },
    {
      "cell_type": "code",
      "metadata": {
        "id": "BzLk4l8OBzcu",
        "colab_type": "code",
        "colab": {
          "base_uri": "https://localhost:8080/",
          "height": 442
        },
        "outputId": "faf3abd1-54f5-4710-c927-51fb0d9ce544"
      },
      "source": [
        "!cd figureData && wget https://zenodo.org/record/4661263/files/PBMC_V3.zip?download=1 && unzip 'PBMC_V3.zip?download=1' && rm 'PBMC_V3.zip?download=1'"
      ],
      "execution_count": 5,
      "outputs": [
        {
          "output_type": "stream",
          "text": [
            "--2020-07-02 19:41:08--  https://zenodo.org/record/4661263/files/PBMC_V3.zip?download=1\n",
            "Resolving zenodo.org (zenodo.org)... 188.184.117.155\n",
            "Connecting to zenodo.org (zenodo.org)|188.184.117.155|:443... connected.\n",
            "HTTP request sent, awaiting response... 200 OK\n",
            "Length: 1127576758 (1.0G) [application/octet-stream]\n",
            "Saving to: ‘PBMC_V3.zip?download=1’\n",
            "\n",
            "PBMC_V3.zip?downloa 100%[===================>]   1.05G  7.45MB/s    in 1m 42s  \n",
            "\n",
            "2020-07-02 19:42:51 (10.6 MB/s) - ‘PBMC_V3.zip?download=1’ saved [1127576758/1127576758]\n",
            "\n",
            "Archive:  PBMC_V3.zip?download=1\n",
            "   creating: PBMC_V3/\n",
            "  inflating: PBMC_V3/Bug_10.RData    \n",
            "  inflating: PBMC_V3/Bug_100.RData   \n",
            "  inflating: PBMC_V3/Bug_20.RData    \n",
            "  inflating: PBMC_V3/Bug_40.RData    \n",
            "  inflating: PBMC_V3/Bug_5.RData     \n",
            "  inflating: PBMC_V3/Bug_60.RData    \n",
            "  inflating: PBMC_V3/Bug_80.RData    \n",
            "  inflating: PBMC_V3/ds_summary.txt  \n",
            "  inflating: PBMC_V3/pooledHist.RData  \n",
            "  inflating: PBMC_V3/pooledHistDS.RData  \n",
            "  inflating: PBMC_V3/PredEvalData.RDS  \n",
            "  inflating: PBMC_V3/Stats.RData     \n"
          ],
          "name": "stdout"
        }
      ]
    },
    {
      "cell_type": "code",
      "metadata": {
        "id": "sp-NXLSFBzu-",
        "colab_type": "code",
        "colab": {
          "base_uri": "https://localhost:8080/",
          "height": 442
        },
        "outputId": "bf93e736-b0fa-4497-9c45-c351bd2c63e3"
      },
      "source": [
        "!cd figureData && wget https://zenodo.org/record/4661263/files/PBMC_V3_2.zip?download=1 && unzip 'PBMC_V3_2.zip?download=1' && rm 'PBMC_V3_2.zip?download=1'"
      ],
      "execution_count": 6,
      "outputs": [
        {
          "output_type": "stream",
          "text": [
            "--2020-07-02 19:43:04--  https://zenodo.org/record/4661263/files/PBMC_V3_2.zip?download=1\n",
            "Resolving zenodo.org (zenodo.org)... 188.184.117.155\n",
            "Connecting to zenodo.org (zenodo.org)|188.184.117.155|:443... connected.\n",
            "HTTP request sent, awaiting response... 200 OK\n",
            "Length: 1558568885 (1.5G) [application/octet-stream]\n",
            "Saving to: ‘PBMC_V3_2.zip?download=1’\n",
            "\n",
            "PBMC_V3_2.zip?downl 100%[===================>]   1.45G  10.8MB/s    in 2m 3s   \n",
            "\n",
            "2020-07-02 19:45:08 (12.1 MB/s) - ‘PBMC_V3_2.zip?download=1’ saved [1558568885/1558568885]\n",
            "\n",
            "Archive:  PBMC_V3_2.zip?download=1\n",
            "   creating: PBMC_V3_2/\n",
            "  inflating: PBMC_V3_2/Bug_10.RData  \n",
            "  inflating: PBMC_V3_2/Bug_100.RData  \n",
            "  inflating: PBMC_V3_2/Bug_20.RData  \n",
            "  inflating: PBMC_V3_2/Bug_40.RData  \n",
            "  inflating: PBMC_V3_2/Bug_5.RData   \n",
            "  inflating: PBMC_V3_2/Bug_60.RData  \n",
            "  inflating: PBMC_V3_2/Bug_80.RData  \n",
            "  inflating: PBMC_V3_2/ds_summary.txt  \n",
            "  inflating: PBMC_V3_2/pooledHist.RData  \n",
            "  inflating: PBMC_V3_2/pooledHistDS.RData  \n",
            "  inflating: PBMC_V3_2/PredEvalData.RDS  \n",
            "  inflating: PBMC_V3_2/Stats.RData   \n"
          ],
          "name": "stdout"
        }
      ]
    },
    {
      "cell_type": "code",
      "metadata": {
        "id": "28GaXINoB0Ef",
        "colab_type": "code",
        "colab": {
          "base_uri": "https://localhost:8080/",
          "height": 442
        },
        "outputId": "1ae8f0d5-c547-414f-c81b-37b9f1ecb4ed"
      },
      "source": [
        "!cd figureData && wget https://zenodo.org/record/4661263/files/PBMC_V3_3.zip?download=1 && unzip 'PBMC_V3_3.zip?download=1' && rm 'PBMC_V3_3.zip?download=1'"
      ],
      "execution_count": 7,
      "outputs": [
        {
          "output_type": "stream",
          "text": [
            "--2020-07-02 19:45:24--  https://zenodo.org/record/4661263/files/PBMC_V3_3.zip?download=1\n",
            "Resolving zenodo.org (zenodo.org)... 188.184.117.155\n",
            "Connecting to zenodo.org (zenodo.org)|188.184.117.155|:443... connected.\n",
            "HTTP request sent, awaiting response... 200 OK\n",
            "Length: 1819306744 (1.7G) [application/octet-stream]\n",
            "Saving to: ‘PBMC_V3_3.zip?download=1’\n",
            "\n",
            "PBMC_V3_3.zip?downl 100%[===================>]   1.69G  8.75MB/s    in 1m 48s  \n",
            "\n",
            "2020-07-02 19:47:13 (16.1 MB/s) - ‘PBMC_V3_3.zip?download=1’ saved [1819306744/1819306744]\n",
            "\n",
            "Archive:  PBMC_V3_3.zip?download=1\n",
            "   creating: PBMC_V3_3/\n",
            "  inflating: PBMC_V3_3/Bug_10.RData  \n",
            "  inflating: PBMC_V3_3/Bug_100.RData  \n",
            "  inflating: PBMC_V3_3/Bug_20.RData  \n",
            "  inflating: PBMC_V3_3/Bug_40.RData  \n",
            "  inflating: PBMC_V3_3/Bug_5.RData   \n",
            "  inflating: PBMC_V3_3/Bug_60.RData  \n",
            "  inflating: PBMC_V3_3/Bug_80.RData  \n",
            "  inflating: PBMC_V3_3/ds_summary.txt  \n",
            "  inflating: PBMC_V3_3/pooledHist.RData  \n",
            "  inflating: PBMC_V3_3/pooledHistDS.RData  \n",
            "  inflating: PBMC_V3_3/PredEvalData.RDS  \n",
            "  inflating: PBMC_V3_3/Stats.RData   \n"
          ],
          "name": "stdout"
        }
      ]
    },
    {
      "cell_type": "code",
      "metadata": {
        "id": "8jw0aQafB0ZG",
        "colab_type": "code",
        "colab": {
          "base_uri": "https://localhost:8080/",
          "height": 442
        },
        "outputId": "a05eea67-09ff-4731-cd66-af6b10d14830"
      },
      "source": [
        "!cd figureData && wget https://zenodo.org/record/4661263/files/PBMC_NG.zip?download=1 && unzip 'PBMC_NG.zip?download=1' && rm 'PBMC_NG.zip?download=1'"
      ],
      "execution_count": 8,
      "outputs": [
        {
          "output_type": "stream",
          "text": [
            "--2020-07-02 19:47:34--  https://zenodo.org/record/4661263/files/PBMC_NG.zip?download=1\n",
            "Resolving zenodo.org (zenodo.org)... 188.184.117.155\n",
            "Connecting to zenodo.org (zenodo.org)|188.184.117.155|:443... connected.\n",
            "HTTP request sent, awaiting response... 200 OK\n",
            "Length: 1183970256 (1.1G) [application/octet-stream]\n",
            "Saving to: ‘PBMC_NG.zip?download=1’\n",
            "\n",
            "PBMC_NG.zip?downloa 100%[===================>]   1.10G  4.26MB/s    in 2m 42s  \n",
            "\n",
            "2020-07-02 19:50:17 (6.97 MB/s) - ‘PBMC_NG.zip?download=1’ saved [1183970256/1183970256]\n",
            "\n",
            "Archive:  PBMC_NG.zip?download=1\n",
            "   creating: PBMC_NG/\n",
            "  inflating: PBMC_NG/Bug_10.RData    \n",
            "  inflating: PBMC_NG/Bug_100.RData   \n",
            "  inflating: PBMC_NG/Bug_20.RData    \n",
            "  inflating: PBMC_NG/Bug_40.RData    \n",
            "  inflating: PBMC_NG/Bug_5.RData     \n",
            "  inflating: PBMC_NG/Bug_60.RData    \n",
            "  inflating: PBMC_NG/Bug_80.RData    \n",
            "  inflating: PBMC_NG/ds_summary.txt  \n",
            "  inflating: PBMC_NG/pooledHist.RData  \n",
            "  inflating: PBMC_NG/pooledHistDS.RData  \n",
            "  inflating: PBMC_NG/PredEvalData.RDS  \n",
            "  inflating: PBMC_NG/Stats.RData     \n"
          ],
          "name": "stdout"
        }
      ]
    },
    {
      "cell_type": "code",
      "metadata": {
        "id": "Y0GxYbAEB0xF",
        "colab_type": "code",
        "colab": {
          "base_uri": "https://localhost:8080/",
          "height": 442
        },
        "outputId": "8497aef3-5a1c-405b-8d4a-606b6b4bd390"
      },
      "source": [
        "!cd figureData && wget https://zenodo.org/record/4661263/files/PBMC_NG_2.zip?download=1 && unzip 'PBMC_NG_2.zip?download=1' && rm 'PBMC_NG_2.zip?download=1'"
      ],
      "execution_count": 9,
      "outputs": [
        {
          "output_type": "stream",
          "text": [
            "--2020-07-02 19:50:31--  https://zenodo.org/record/4661263/files/PBMC_NG_2.zip?download=1\n",
            "Resolving zenodo.org (zenodo.org)... 188.184.117.155\n",
            "Connecting to zenodo.org (zenodo.org)|188.184.117.155|:443... connected.\n",
            "HTTP request sent, awaiting response... 200 OK\n",
            "Length: 1753743936 (1.6G) [application/octet-stream]\n",
            "Saving to: ‘PBMC_NG_2.zip?download=1’\n",
            "\n",
            "PBMC_NG_2.zip?downl 100%[===================>]   1.63G  8.50MB/s    in 2m 36s  \n",
            "\n",
            "2020-07-02 19:53:08 (10.7 MB/s) - ‘PBMC_NG_2.zip?download=1’ saved [1753743936/1753743936]\n",
            "\n",
            "Archive:  PBMC_NG_2.zip?download=1\n",
            "   creating: PBMC_NG_2/\n",
            "  inflating: PBMC_NG_2/Bug_10.RData  \n",
            "  inflating: PBMC_NG_2/Bug_100.RData  \n",
            "  inflating: PBMC_NG_2/Bug_20.RData  \n",
            "  inflating: PBMC_NG_2/Bug_40.RData  \n",
            "  inflating: PBMC_NG_2/Bug_5.RData   \n",
            "  inflating: PBMC_NG_2/Bug_60.RData  \n",
            "  inflating: PBMC_NG_2/Bug_80.RData  \n",
            "  inflating: PBMC_NG_2/ds_summary.txt  \n",
            "  inflating: PBMC_NG_2/pooledHist.RData  \n",
            "  inflating: PBMC_NG_2/pooledHistDS.RData  \n",
            "  inflating: PBMC_NG_2/PredEvalData.RDS  \n",
            "  inflating: PBMC_NG_2/Stats.RData   \n"
          ],
          "name": "stdout"
        }
      ]
    },
    {
      "cell_type": "code",
      "metadata": {
        "id": "oesgTqLO0Qje",
        "colab_type": "code",
        "colab": {
          "base_uri": "https://localhost:8080/",
          "height": 34
        },
        "outputId": "6ed51c4e-42b0-4710-992d-51bcf528b297"
      },
      "source": [
        "#Check that download worked\n",
        "!cd data && ls -l && cd EVAL && ls -l"
      ],
      "execution_count": 10,
      "outputs": [
        {
          "output_type": "stream",
          "text": [
            "/bin/bash: line 0: cd: data: No such file or directory\n"
          ],
          "name": "stdout"
        }
      ]
    },
    {
      "cell_type": "markdown",
      "metadata": {
        "id": "sCmhNVdYgkWH",
        "colab_type": "text"
      },
      "source": [
        "**2. Prepare the R environment**"
      ]
    },
    {
      "cell_type": "code",
      "metadata": {
        "id": "5Gt6rQkSXriM",
        "colab_type": "code",
        "colab": {
          "base_uri": "https://localhost:8080/",
          "height": 85
        },
        "outputId": "487fc0c3-d8f4-4eb6-89b6-44752aaf1d61"
      },
      "source": [
        "#switch to R mode\n",
        "%reload_ext rpy2.ipython\n"
      ],
      "execution_count": 11,
      "outputs": [
        {
          "output_type": "stream",
          "text": [
            "/usr/local/lib/python3.6/dist-packages/rpy2/robjects/pandas2ri.py:14: FutureWarning: pandas.core.index is deprecated and will be removed in a future version.  The public classes are available in the top-level namespace.\n",
            "  from pandas.core.index import Index as PandasIndex\n",
            "/usr/local/lib/python3.6/dist-packages/rpy2/robjects/pandas2ri.py:34: UserWarning: pandas >= 1.0 is not supported.\n",
            "  warnings.warn('pandas >= 1.0 is not supported.')\n"
          ],
          "name": "stderr"
        }
      ]
    },
    {
      "cell_type": "code",
      "metadata": {
        "id": "jJ3rQJCdgeJa",
        "colab_type": "code",
        "colab": {
          "base_uri": "https://localhost:8080/",
          "height": 1000
        },
        "outputId": "c140f3a7-959e-4f87-9eaf-2532b24a088b"
      },
      "source": [
        "#install the R packages and setup paths\n",
        "%%R\n",
        "install.packages(\"dplyr\")\n",
        "install.packages(\"readr\")\n"
      ],
      "execution_count": 12,
      "outputs": [
        {
          "output_type": "stream",
          "text": [
            "R[write to console]: Installing package into ‘/usr/local/lib/R/site-library’\n",
            "(as ‘lib’ is unspecified)\n",
            "\n",
            "R[write to console]: trying URL 'https://cran.rstudio.com/src/contrib/dplyr_1.0.0.tar.gz'\n",
            "\n",
            "R[write to console]: Content type 'application/x-gzip'\n",
            "R[write to console]:  length 836651 bytes (817 KB)\n",
            "\n",
            "R[write to console]: =\n",
            "R[write to console]: =\n",
            "R[write to console]: =\n",
            "R[write to console]: =\n",
            "R[write to console]: =\n",
            "R[write to console]: =\n",
            "R[write to console]: =\n",
            "R[write to console]: =\n",
            "R[write to console]: =\n",
            "R[write to console]: =\n",
            "R[write to console]: =\n",
            "R[write to console]: =\n",
            "R[write to console]: =\n",
            "R[write to console]: =\n",
            "R[write to console]: =\n",
            "R[write to console]: =\n",
            "R[write to console]: =\n",
            "R[write to console]: =\n",
            "R[write to console]: =\n",
            "R[write to console]: =\n",
            "R[write to console]: =\n",
            "R[write to console]: =\n",
            "R[write to console]: =\n",
            "R[write to console]: =\n",
            "R[write to console]: =\n",
            "R[write to console]: =\n",
            "R[write to console]: =\n",
            "R[write to console]: =\n",
            "R[write to console]: =\n",
            "R[write to console]: =\n",
            "R[write to console]: =\n",
            "R[write to console]: =\n",
            "R[write to console]: =\n",
            "R[write to console]: =\n",
            "R[write to console]: =\n",
            "R[write to console]: =\n",
            "R[write to console]: =\n",
            "R[write to console]: =\n",
            "R[write to console]: =\n",
            "R[write to console]: =\n",
            "R[write to console]: =\n",
            "R[write to console]: =\n",
            "R[write to console]: =\n",
            "R[write to console]: =\n",
            "R[write to console]: =\n",
            "R[write to console]: =\n",
            "R[write to console]: =\n",
            "R[write to console]: =\n",
            "R[write to console]: =\n",
            "R[write to console]: =\n",
            "R[write to console]: \n",
            "\n",
            "R[write to console]: downloaded 817 KB\n",
            "\n",
            "\n",
            "R[write to console]: \n",
            "\n",
            "R[write to console]: \n",
            "R[write to console]: The downloaded source packages are in\n",
            "\t‘/tmp/RtmpbqQ2Oy/downloaded_packages’\n",
            "R[write to console]: \n",
            "R[write to console]: \n",
            "\n",
            "R[write to console]: Installing package into ‘/usr/local/lib/R/site-library’\n",
            "(as ‘lib’ is unspecified)\n",
            "\n",
            "R[write to console]: trying URL 'https://cran.rstudio.com/src/contrib/readr_1.3.1.tar.gz'\n",
            "\n",
            "R[write to console]: Content type 'application/x-gzip'\n",
            "R[write to console]:  length 268853 bytes (262 KB)\n",
            "\n",
            "R[write to console]: =\n",
            "R[write to console]: =\n",
            "R[write to console]: =\n",
            "R[write to console]: =\n",
            "R[write to console]: =\n",
            "R[write to console]: =\n",
            "R[write to console]: =\n",
            "R[write to console]: =\n",
            "R[write to console]: =\n",
            "R[write to console]: =\n",
            "R[write to console]: =\n",
            "R[write to console]: =\n",
            "R[write to console]: =\n",
            "R[write to console]: =\n",
            "R[write to console]: =\n",
            "R[write to console]: =\n",
            "R[write to console]: =\n",
            "R[write to console]: =\n",
            "R[write to console]: =\n",
            "R[write to console]: =\n",
            "R[write to console]: =\n",
            "R[write to console]: =\n",
            "R[write to console]: =\n",
            "R[write to console]: =\n",
            "R[write to console]: =\n",
            "R[write to console]: =\n",
            "R[write to console]: =\n",
            "R[write to console]: =\n",
            "R[write to console]: =\n",
            "R[write to console]: =\n",
            "R[write to console]: =\n",
            "R[write to console]: =\n",
            "R[write to console]: =\n",
            "R[write to console]: =\n",
            "R[write to console]: =\n",
            "R[write to console]: =\n",
            "R[write to console]: =\n",
            "R[write to console]: =\n",
            "R[write to console]: =\n",
            "R[write to console]: =\n",
            "R[write to console]: =\n",
            "R[write to console]: =\n",
            "R[write to console]: =\n",
            "R[write to console]: =\n",
            "R[write to console]: =\n",
            "R[write to console]: =\n",
            "R[write to console]: =\n",
            "R[write to console]: =\n",
            "R[write to console]: =\n",
            "R[write to console]: =\n",
            "R[write to console]: \n",
            "\n",
            "R[write to console]: downloaded 262 KB\n",
            "\n",
            "\n",
            "R[write to console]: \n",
            "\n",
            "R[write to console]: \n",
            "R[write to console]: The downloaded source packages are in\n",
            "\t‘/tmp/RtmpbqQ2Oy/downloaded_packages’\n",
            "R[write to console]: \n",
            "R[write to console]: \n",
            "\n"
          ],
          "name": "stderr"
        }
      ]
    },
    {
      "cell_type": "markdown",
      "metadata": {
        "id": "x56fjfCSicrp",
        "colab_type": "text"
      },
      "source": [
        "**3. 3. Generate the list**\n",
        "\n",
        "We generate the list as a weighted mean over all 10X PBMC datasets we have in this study, using the FSCM (fracOnes) in the stats for each dataset."
      ]
    },
    {
      "cell_type": "code",
      "metadata": {
        "id": "V37XLBAO68oR",
        "colab_type": "code",
        "colab": {}
      },
      "source": [
        "#First set some path variables\n",
        "%%R\n",
        "source(\"GRNP_2020/RCode/pathsGoogleColab.R\")\n"
      ],
      "execution_count": 13,
      "outputs": []
    },
    {
      "cell_type": "code",
      "metadata": {
        "id": "R6kuhOmzZL_X",
        "colab_type": "code",
        "colab": {
          "base_uri": "https://localhost:8080/",
          "height": 51
        },
        "outputId": "7ec680a7-47e8-44ed-bc82-32093a0175e2"
      },
      "source": [
        "#Import the code for prediction (available in other notebooks)\n",
        "%%R\n",
        "source(paste0(sourcePath,\"ButterflyHelpers.R\"))\n",
        "\n",
        "library(readr)\n",
        "\n",
        "loadStats(\"EVALPBMC_DS\")\n",
        "loadStats(\"EVALPBMC\")\n",
        "loadStats(\"PBMC_V3\")\n",
        "loadStats(\"PBMC_V3_2\")\n",
        "loadStats(\"PBMC_V3_3\")\n",
        "loadStats(\"PBMC_V2\")\n",
        "loadStats(\"PBMC_NG\")\n",
        "loadStats(\"PBMC_NG_2\")\n",
        "\n",
        "umisList = list(tibble(gene=statsEVALPBMC$gene, umis=statsEVALPBMC$UMIs_EVALPBMC_d_100), \n",
        "                tibble(gene=statsPBMC_V3$gene, umis=statsPBMC_V3$UMIs_PBMC_V3_d_100), \n",
        "                tibble(gene=statsPBMC_V3_2$gene, umis=statsPBMC_V3_2$UMIs_PBMC_V3_2_d_100), \n",
        "                tibble(gene=statsPBMC_V3_3$gene, umis=statsPBMC_V3_3$UMIs_PBMC_V3_3_d_100), \n",
        "                tibble(gene=statsPBMC_V2$gene, umis=statsPBMC_V2$UMIs_PBMC_V2_d_100), \n",
        "                tibble(gene=statsPBMC_NG$gene, umis=statsPBMC_NG$UMIs_PBMC_NG_d_100), \n",
        "                tibble(gene=statsPBMC_NG_2$gene, umis=statsPBMC_NG_2$UMIs_PBMC_NG_2_d_100))\n",
        "\n",
        "fracOnesList = list(tibble(gene = statsEVALPBMC$gene, fracOnes = statsEVALPBMC$FracOnes_EVALPBMC_d_100),\n",
        "                    tibble(gene = statsPBMC_V3$gene, fracOnes = statsPBMC_V3$FracOnes_PBMC_V3_d_100),\n",
        "                    tibble(gene = statsPBMC_V3_2$gene, fracOnes = statsPBMC_V3_2$FracOnes_PBMC_V3_2_d_100),\n",
        "                    tibble(gene = statsPBMC_V3_3$gene, fracOnes = statsPBMC_V3_3$FracOnes_PBMC_V3_3_d_100),\n",
        "                    tibble(gene = statsPBMC_V2$gene, fracOnes = statsPBMC_V2$FracOnes_PBMC_V2_d_100),\n",
        "                    tibble(gene = statsPBMC_NG$gene, fracOnes = statsPBMC_NG$FracOnes_PBMC_NG_d_100),\n",
        "                    tibble(gene = statsPBMC_NG_2$gene, fracOnes = statsPBMC_NG_2$FracOnes_PBMC_NG_2_d_100))\n",
        "\n",
        "\n",
        "umis = umisList[[1]]\n",
        "fos = fracOnesList[[1]]\n",
        "for (i in 2:length(umisList)) {\n",
        "  umis = inner_join(umis, umisList[[i]], by=\"gene\")\n",
        "  fos = inner_join(fos, fracOnesList[[i]], by=\"gene\")\n",
        "}\n",
        "\n",
        "mns = rep(0,dim(fos)[1])\n",
        "\n",
        "#calculate weighted mean with a loop\n",
        "for (i in 1:(dim(fos)[1])) {\n",
        "  mns[i] = weighted.mean(fos[i,-1], umis[i,-1])\n",
        "}\n",
        "\n",
        "#test: the numbers look reasonably right, didn't check any details\n",
        "#so, the weighted mean gives a reasonably good estimate of which genes that are most extreme\n",
        "#there are of course error factors such as different saturation levels for datasets, but we just ignore that here\n",
        "\n",
        "srt = sort(mns, index.return=T, decreasing = T)\n",
        "\n",
        "srtumis = umis[srt$ix,]\n",
        "srtumis\n",
        "\n",
        "totumis = rowSums(srtumis[,-1])\n",
        "totumis #looks like there is no need for filtering due to lack of data, they all have several hundred umis\n",
        "\n",
        "srtumis[1:100,]\n",
        "srt$x[1:100]\n",
        "\n",
        "srtumis$gene[1:100]\n",
        "\n",
        "#now write the genes to file\n",
        "write_csv2(srtumis[1:200,1], paste0(figure_data_path, \"extreme_genes.txt\"))\n",
        "\n",
        "#get the number for NEUROD1, also in drop-seq\n",
        "print(paste0(\"Fraction of single-copy molecules in 10x data for NEUROD1: \", mns[umis$gene == \"NEUROD1\"]))#0.897550111358575\n",
        "statsEVALPBMC_DS$UMIs_EVALPBMC_DS_d_100[statsEVALPBMC_DS$gene == \"NEUROD1\"]\n",
        "dsFos = statsEVALPBMC_DS$FracOnes_EVALPBMC_DS_d_100[statsEVALPBMC_DS$gene == \"NEUROD1\"]\n",
        "print(paste0(\"Fraction of single-copy molecules in Drop-Seq data for NEUROD1: \", dsFos))#0.819548872180451\n",
        "\n",
        "\n",
        "\n",
        "\n",
        "\n"
      ],
      "execution_count": 18,
      "outputs": [
        {
          "output_type": "stream",
          "text": [
            "[1] \"Fraction of single-copy molecules in 10x data for NEUROD1: 0.897582697201018\"\n",
            "[1] \"Fraction of single-copy molecules in Drop-Seq data for NEUROD1: 0.819548872180451\"\n"
          ],
          "name": "stdout"
        }
      ]
    }
  ]
}