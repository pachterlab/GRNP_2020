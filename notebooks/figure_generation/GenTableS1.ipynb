{
  "nbformat": 4,
  "nbformat_minor": 0,
  "metadata": {
    "colab": {
      "name": "GenTableS1.ipynb",
      "provenance": [],
      "collapsed_sections": [],
      "include_colab_link": true
    },
    "kernelspec": {
      "name": "python3",
      "display_name": "Python 3"
    }
  },
  "cells": [
    {
      "cell_type": "markdown",
      "metadata": {
        "id": "view-in-github",
        "colab_type": "text"
      },
      "source": [
        "<a href=\"https://colab.research.google.com/github/pachterlab/GRNP_2020/blob/master/notebooks/figure_generation/GenTableS1.ipynb\" target=\"_parent\"><img src=\"https://colab.research.google.com/assets/colab-badge.svg\" alt=\"Open In Colab\"/></a>"
      ]
    },
    {
      "cell_type": "markdown",
      "metadata": {
        "id": "dhydD96df06z"
      },
      "source": [
        "**Generates amplification statistics for both mouse and human**\n",
        "\n",
        "Steps:\n",
        "1. Download the code and processed data\n",
        "2. Setup the R environment\n",
        "3. Generate the list\n"
      ]
    },
    {
      "cell_type": "markdown",
      "metadata": {
        "id": "h8RnKVMXgbzr"
      },
      "source": [
        "**1. Download the code and processed data**"
      ]
    },
    {
      "cell_type": "code",
      "metadata": {
        "id": "doUAtCxIyOiI",
        "colab": {
          "base_uri": "https://localhost:8080/"
        },
        "outputId": "42fb5ee2-4e11-46dd-f71b-de28b7e03774"
      },
      "source": [
        "#download the R code\n",
        "![ -d \"GRNP_2020\" ] && rm -r GRNP_2020\n",
        "\n",
        "!git clone https://github.com/pachterlab/GRNP_2020.git\n"
      ],
      "execution_count": null,
      "outputs": [
        {
          "output_type": "stream",
          "text": [
            "Cloning into 'GRNP_2020'...\n",
            "remote: Enumerating objects: 184, done.\u001b[K\n",
            "remote: Counting objects: 100% (184/184), done.\u001b[K\n",
            "remote: Compressing objects: 100% (146/146), done.\u001b[K\n",
            "remote: Total 1902 (delta 125), reused 59 (delta 38), pack-reused 1718\u001b[K\n",
            "Receiving objects: 100% (1902/1902), 9.82 MiB | 18.45 MiB/s, done.\n",
            "Resolving deltas: 100% (1310/1310), done.\n"
          ],
          "name": "stdout"
        }
      ]
    },
    {
      "cell_type": "code",
      "metadata": {
        "id": "dUNSQ1qBZb2g",
        "colab": {
          "base_uri": "https://localhost:8080/"
        },
        "outputId": "6fbdb325-41bf-4933-ca36-5440ec6d7afb"
      },
      "source": [
        "#download processed data from Zenodo for all datasets\n",
        "![ -d \"data\" ] && rm -r data\n",
        "!mkdir figureData\n",
        "!cd figureData && wget https://zenodo.org/record/4661263/files/EVALPBMC.zip?download=1 && unzip 'EVALPBMC.zip?download=1' && rm 'EVALPBMC.zip?download=1'"
      ],
      "execution_count": null,
      "outputs": [
        {
          "output_type": "stream",
          "text": [
            "--2021-04-03 21:58:26--  https://zenodo.org/record/4661263/files/EVALPBMC.zip?download=1\n",
            "Resolving zenodo.org (zenodo.org)... 137.138.76.77\n",
            "Connecting to zenodo.org (zenodo.org)|137.138.76.77|:443... connected.\n",
            "HTTP request sent, awaiting response... 200 OK\n",
            "Length: 467646609 (446M) [application/octet-stream]\n",
            "Saving to: ‘EVALPBMC.zip?download=1’\n",
            "\n",
            "EVALPBMC.zip?downlo 100%[===================>] 445.98M  11.0MB/s    in 38s     \n",
            "\n",
            "2021-04-03 21:59:06 (11.6 MB/s) - ‘EVALPBMC.zip?download=1’ saved [467646609/467646609]\n",
            "\n",
            "Archive:  EVALPBMC.zip?download=1\n",
            "   creating: EVALPBMC/\n",
            "  inflating: EVALPBMC/Bug_10.RData   \n",
            "  inflating: EVALPBMC/Bug_100.RData  \n",
            "  inflating: EVALPBMC/Bug_20.RData   \n",
            "  inflating: EVALPBMC/Bug_40.RData   \n",
            "  inflating: EVALPBMC/Bug_5.RData    \n",
            "  inflating: EVALPBMC/Bug_60.RData   \n",
            "  inflating: EVALPBMC/Bug_80.RData   \n",
            "  inflating: EVALPBMC/ds_summary.txt  \n",
            "  inflating: EVALPBMC/pooledHist.RData  \n",
            "  inflating: EVALPBMC/pooledHistDS.RData  \n",
            "  inflating: EVALPBMC/PredEvalData.RDS  \n",
            "  inflating: EVALPBMC/Stats.RData    \n"
          ],
          "name": "stdout"
        }
      ]
    },
    {
      "cell_type": "code",
      "metadata": {
        "id": "OZ7nQY06CDMD",
        "colab": {
          "base_uri": "https://localhost:8080/"
        },
        "outputId": "1dc1574b-2b4a-4346-9dcf-df119c0d4f38"
      },
      "source": [
        "!cd figureData && wget https://zenodo.org/record/4661263/files/EVALPBMC_DS.zip?download=1 && unzip 'EVALPBMC_DS.zip?download=1' && rm 'EVALPBMC_DS.zip?download=1'"
      ],
      "execution_count": null,
      "outputs": [
        {
          "output_type": "stream",
          "text": [
            "--2021-04-03 21:59:10--  https://zenodo.org/record/4661263/files/EVALPBMC_DS.zip?download=1\n",
            "Resolving zenodo.org (zenodo.org)... 137.138.76.77\n",
            "Connecting to zenodo.org (zenodo.org)|137.138.76.77|:443... connected.\n",
            "HTTP request sent, awaiting response... 200 OK\n",
            "Length: 207886298 (198M) [application/octet-stream]\n",
            "Saving to: ‘EVALPBMC_DS.zip?download=1’\n",
            "\n",
            "EVALPBMC_DS.zip?dow 100%[===================>] 198.25M  11.9MB/s    in 25s     \n",
            "\n",
            "2021-04-03 21:59:37 (7.98 MB/s) - ‘EVALPBMC_DS.zip?download=1’ saved [207886298/207886298]\n",
            "\n",
            "Archive:  EVALPBMC_DS.zip?download=1\n",
            "   creating: EVALPBMC_DS/\n",
            "  inflating: EVALPBMC_DS/Bug_10.RData  \n",
            "  inflating: EVALPBMC_DS/Bug_100.RData  \n",
            "  inflating: EVALPBMC_DS/Bug_20.RData  \n",
            "  inflating: EVALPBMC_DS/Bug_40.RData  \n",
            "  inflating: EVALPBMC_DS/Bug_5.RData  \n",
            "  inflating: EVALPBMC_DS/Bug_60.RData  \n",
            "  inflating: EVALPBMC_DS/Bug_80.RData  \n",
            "  inflating: EVALPBMC_DS/ds_summary.txt  \n",
            "  inflating: EVALPBMC_DS/PredEvalData.RDS  \n",
            "  inflating: EVALPBMC_DS/Stats.RData  \n"
          ],
          "name": "stdout"
        }
      ]
    },
    {
      "cell_type": "code",
      "metadata": {
        "id": "Rv6RqlxkBzIR",
        "colab": {
          "base_uri": "https://localhost:8080/"
        },
        "outputId": "e6e09a18-05c9-4994-9591-05dcffda9eac"
      },
      "source": [
        "!cd figureData && wget https://zenodo.org/record/4661263/files/PBMC_V2.zip?download=1 && unzip 'PBMC_V2.zip?download=1' && rm 'PBMC_V2.zip?download=1'"
      ],
      "execution_count": null,
      "outputs": [
        {
          "output_type": "stream",
          "text": [
            "--2021-04-03 21:59:39--  https://zenodo.org/record/4661263/files/PBMC_V2.zip?download=1\n",
            "Resolving zenodo.org (zenodo.org)... 137.138.76.77\n",
            "Connecting to zenodo.org (zenodo.org)|137.138.76.77|:443... connected.\n",
            "HTTP request sent, awaiting response... 200 OK\n",
            "Length: 816179326 (778M) [application/octet-stream]\n",
            "Saving to: ‘PBMC_V2.zip?download=1’\n",
            "\n",
            "PBMC_V2.zip?downloa 100%[===================>] 778.37M  14.3MB/s    in 68s     \n",
            "\n",
            "2021-04-03 22:00:48 (11.5 MB/s) - ‘PBMC_V2.zip?download=1’ saved [816179326/816179326]\n",
            "\n",
            "Archive:  PBMC_V2.zip?download=1\n",
            "   creating: PBMC_V2/\n",
            "  inflating: PBMC_V2/Bug_10.RData    \n",
            "  inflating: PBMC_V2/Bug_100.RData   \n",
            "  inflating: PBMC_V2/Bug_20.RData    \n",
            "  inflating: PBMC_V2/Bug_40.RData    \n",
            "  inflating: PBMC_V2/Bug_5.RData     \n",
            "  inflating: PBMC_V2/Bug_60.RData    \n",
            "  inflating: PBMC_V2/Bug_80.RData    \n",
            "  inflating: PBMC_V2/ds_summary.txt  \n",
            "  inflating: PBMC_V2/pooledHist.RData  \n",
            "  inflating: PBMC_V2/pooledHistDS.RData  \n",
            "  inflating: PBMC_V2/PredEvalData.RDS  \n",
            "  inflating: PBMC_V2/Stats.RData     \n"
          ],
          "name": "stdout"
        }
      ]
    },
    {
      "cell_type": "code",
      "metadata": {
        "id": "BzLk4l8OBzcu",
        "colab": {
          "base_uri": "https://localhost:8080/"
        },
        "outputId": "6abb5976-f24d-42f3-a592-3471df1a2ad8"
      },
      "source": [
        "!cd figureData && wget https://zenodo.org/record/4661263/files/PBMC_V3.zip?download=1 && unzip 'PBMC_V3.zip?download=1' && rm 'PBMC_V3.zip?download=1'"
      ],
      "execution_count": null,
      "outputs": [
        {
          "output_type": "stream",
          "text": [
            "--2021-04-03 22:00:57--  https://zenodo.org/record/4661263/files/PBMC_V3.zip?download=1\n",
            "Resolving zenodo.org (zenodo.org)... 137.138.76.77\n",
            "Connecting to zenodo.org (zenodo.org)|137.138.76.77|:443... connected.\n",
            "HTTP request sent, awaiting response... 200 OK\n",
            "Length: 1127576758 (1.0G) [application/octet-stream]\n",
            "Saving to: ‘PBMC_V3.zip?download=1’\n",
            "\n",
            "PBMC_V3.zip?downloa 100%[===================>]   1.05G  18.6MB/s    in 1m 50s  \n",
            "\n",
            "2021-04-03 22:02:49 (9.74 MB/s) - ‘PBMC_V3.zip?download=1’ saved [1127576758/1127576758]\n",
            "\n",
            "Archive:  PBMC_V3.zip?download=1\n",
            "   creating: PBMC_V3/\n",
            "  inflating: PBMC_V3/Bug_10.RData    \n",
            "  inflating: PBMC_V3/Bug_100.RData   \n",
            "  inflating: PBMC_V3/Bug_20.RData    \n",
            "  inflating: PBMC_V3/Bug_40.RData    \n",
            "  inflating: PBMC_V3/Bug_5.RData     \n",
            "  inflating: PBMC_V3/Bug_60.RData    \n",
            "  inflating: PBMC_V3/Bug_80.RData    \n",
            "  inflating: PBMC_V3/ds_summary.txt  \n",
            "  inflating: PBMC_V3/pooledHist.RData  \n",
            "  inflating: PBMC_V3/pooledHistDS.RData  \n",
            "  inflating: PBMC_V3/PredEvalData.RDS  \n",
            "  inflating: PBMC_V3/Stats.RData     \n"
          ],
          "name": "stdout"
        }
      ]
    },
    {
      "cell_type": "code",
      "metadata": {
        "id": "sp-NXLSFBzu-",
        "colab": {
          "base_uri": "https://localhost:8080/"
        },
        "outputId": "fbed2a60-d3b2-4f2a-deff-ea3395a6fb05"
      },
      "source": [
        "!cd figureData && wget https://zenodo.org/record/4661263/files/PBMC_V3_2.zip?download=1 && unzip 'PBMC_V3_2.zip?download=1' && rm 'PBMC_V3_2.zip?download=1'"
      ],
      "execution_count": null,
      "outputs": [
        {
          "output_type": "stream",
          "text": [
            "--2021-04-03 22:03:01--  https://zenodo.org/record/4661263/files/PBMC_V3_2.zip?download=1\n",
            "Resolving zenodo.org (zenodo.org)... 137.138.76.77\n",
            "Connecting to zenodo.org (zenodo.org)|137.138.76.77|:443... connected.\n",
            "HTTP request sent, awaiting response... 200 OK\n",
            "Length: 1558568885 (1.5G) [application/octet-stream]\n",
            "Saving to: ‘PBMC_V3_2.zip?download=1’\n",
            "\n",
            "PBMC_V3_2.zip?downl 100%[===================>]   1.45G  9.50MB/s    in 2m 38s  \n",
            "\n",
            "2021-04-03 22:05:40 (9.39 MB/s) - ‘PBMC_V3_2.zip?download=1’ saved [1558568885/1558568885]\n",
            "\n",
            "Archive:  PBMC_V3_2.zip?download=1\n",
            "   creating: PBMC_V3_2/\n",
            "  inflating: PBMC_V3_2/Bug_10.RData  \n",
            "  inflating: PBMC_V3_2/Bug_100.RData  \n",
            "  inflating: PBMC_V3_2/Bug_20.RData  \n",
            "  inflating: PBMC_V3_2/Bug_40.RData  \n",
            "  inflating: PBMC_V3_2/Bug_5.RData   \n",
            "  inflating: PBMC_V3_2/Bug_60.RData  \n",
            "  inflating: PBMC_V3_2/Bug_80.RData  \n",
            "  inflating: PBMC_V3_2/ds_summary.txt  \n",
            "  inflating: PBMC_V3_2/pooledHist.RData  \n",
            "  inflating: PBMC_V3_2/pooledHistDS.RData  \n",
            "  inflating: PBMC_V3_2/PredEvalData.RDS  \n",
            "  inflating: PBMC_V3_2/Stats.RData   \n"
          ],
          "name": "stdout"
        }
      ]
    },
    {
      "cell_type": "code",
      "metadata": {
        "id": "28GaXINoB0Ef",
        "colab": {
          "base_uri": "https://localhost:8080/"
        },
        "outputId": "e453fca5-c8b1-4225-b610-0e2c04271bc0"
      },
      "source": [
        "!cd figureData && wget https://zenodo.org/record/4661263/files/PBMC_V3_3.zip?download=1 && unzip 'PBMC_V3_3.zip?download=1' && rm 'PBMC_V3_3.zip?download=1'"
      ],
      "execution_count": null,
      "outputs": [
        {
          "output_type": "stream",
          "text": [
            "--2021-04-03 22:05:57--  https://zenodo.org/record/4661263/files/PBMC_V3_3.zip?download=1\n",
            "Resolving zenodo.org (zenodo.org)... 137.138.76.77\n",
            "Connecting to zenodo.org (zenodo.org)|137.138.76.77|:443... connected.\n",
            "HTTP request sent, awaiting response... 200 OK\n",
            "Length: 1819306744 (1.7G) [application/octet-stream]\n",
            "Saving to: ‘PBMC_V3_3.zip?download=1’\n",
            "\n",
            "PBMC_V3_3.zip?downl 100%[===================>]   1.69G  10.5MB/s    in 3m 3s   \n",
            "\n",
            "2021-04-03 22:09:01 (9.46 MB/s) - ‘PBMC_V3_3.zip?download=1’ saved [1819306744/1819306744]\n",
            "\n",
            "Archive:  PBMC_V3_3.zip?download=1\n",
            "   creating: PBMC_V3_3/\n",
            "  inflating: PBMC_V3_3/Bug_10.RData  \n",
            "  inflating: PBMC_V3_3/Bug_100.RData  \n",
            "  inflating: PBMC_V3_3/Bug_20.RData  \n",
            "  inflating: PBMC_V3_3/Bug_40.RData  \n",
            "  inflating: PBMC_V3_3/Bug_5.RData   \n",
            "  inflating: PBMC_V3_3/Bug_60.RData  \n",
            "  inflating: PBMC_V3_3/Bug_80.RData  \n",
            "  inflating: PBMC_V3_3/ds_summary.txt  \n",
            "  inflating: PBMC_V3_3/pooledHist.RData  \n",
            "  inflating: PBMC_V3_3/pooledHistDS.RData  \n",
            "  inflating: PBMC_V3_3/PredEvalData.RDS  \n",
            "  inflating: PBMC_V3_3/Stats.RData   \n"
          ],
          "name": "stdout"
        }
      ]
    },
    {
      "cell_type": "code",
      "metadata": {
        "id": "8jw0aQafB0ZG",
        "colab": {
          "base_uri": "https://localhost:8080/"
        },
        "outputId": "6331c107-f9f7-4a36-b737-a15b5aba01dd"
      },
      "source": [
        "!cd figureData && wget https://zenodo.org/record/4661263/files/PBMC_NG.zip?download=1 && unzip 'PBMC_NG.zip?download=1' && rm 'PBMC_NG.zip?download=1'"
      ],
      "execution_count": null,
      "outputs": [
        {
          "output_type": "stream",
          "text": [
            "--2021-04-03 22:09:26--  https://zenodo.org/record/4661263/files/PBMC_NG.zip?download=1\n",
            "Resolving zenodo.org (zenodo.org)... 137.138.76.77\n",
            "Connecting to zenodo.org (zenodo.org)|137.138.76.77|:443... connected.\n",
            "HTTP request sent, awaiting response... 200 OK\n",
            "Length: 1183970256 (1.1G) [application/octet-stream]\n",
            "Saving to: ‘PBMC_NG.zip?download=1’\n",
            "\n",
            "PBMC_NG.zip?downloa 100%[===================>]   1.10G  7.36MB/s    in 1m 51s  \n",
            "\n",
            "2021-04-03 22:11:18 (10.2 MB/s) - ‘PBMC_NG.zip?download=1’ saved [1183970256/1183970256]\n",
            "\n",
            "Archive:  PBMC_NG.zip?download=1\n",
            "   creating: PBMC_NG/\n",
            "  inflating: PBMC_NG/Bug_10.RData    \n",
            "  inflating: PBMC_NG/Bug_100.RData   \n",
            "  inflating: PBMC_NG/Bug_20.RData    \n",
            "  inflating: PBMC_NG/Bug_40.RData    \n",
            "  inflating: PBMC_NG/Bug_5.RData     \n",
            "  inflating: PBMC_NG/Bug_60.RData    \n",
            "  inflating: PBMC_NG/Bug_80.RData    \n",
            "  inflating: PBMC_NG/ds_summary.txt  \n",
            "  inflating: PBMC_NG/pooledHist.RData  \n",
            "  inflating: PBMC_NG/pooledHistDS.RData  \n",
            "  inflating: PBMC_NG/PredEvalData.RDS  \n",
            "  inflating: PBMC_NG/Stats.RData     \n"
          ],
          "name": "stdout"
        }
      ]
    },
    {
      "cell_type": "code",
      "metadata": {
        "id": "Y0GxYbAEB0xF",
        "colab": {
          "base_uri": "https://localhost:8080/"
        },
        "outputId": "fb4051f3-c209-4693-d028-b03d01688dec"
      },
      "source": [
        "!cd figureData && wget https://zenodo.org/record/4661263/files/PBMC_NG_2.zip?download=1 && unzip 'PBMC_NG_2.zip?download=1' && rm 'PBMC_NG_2.zip?download=1'"
      ],
      "execution_count": null,
      "outputs": [
        {
          "output_type": "stream",
          "text": [
            "--2021-04-03 22:11:34--  https://zenodo.org/record/4661263/files/PBMC_NG_2.zip?download=1\n",
            "Resolving zenodo.org (zenodo.org)... 137.138.76.77\n",
            "Connecting to zenodo.org (zenodo.org)|137.138.76.77|:443... connected.\n",
            "HTTP request sent, awaiting response... 200 OK\n",
            "Length: 1753743936 (1.6G) [application/octet-stream]\n",
            "Saving to: ‘PBMC_NG_2.zip?download=1’\n",
            "\n",
            "PBMC_NG_2.zip?downl 100%[===================>]   1.63G  17.6MB/s    in 2m 27s  \n",
            "\n",
            "2021-04-03 22:14:02 (11.3 MB/s) - ‘PBMC_NG_2.zip?download=1’ saved [1753743936/1753743936]\n",
            "\n",
            "Archive:  PBMC_NG_2.zip?download=1\n",
            "   creating: PBMC_NG_2/\n",
            "  inflating: PBMC_NG_2/Bug_10.RData  \n",
            "  inflating: PBMC_NG_2/Bug_100.RData  \n",
            "  inflating: PBMC_NG_2/Bug_20.RData  \n",
            "  inflating: PBMC_NG_2/Bug_40.RData  \n",
            "  inflating: PBMC_NG_2/Bug_5.RData   \n",
            "  inflating: PBMC_NG_2/Bug_60.RData  \n",
            "  inflating: PBMC_NG_2/Bug_80.RData  \n",
            "  inflating: PBMC_NG_2/ds_summary.txt  \n",
            "  inflating: PBMC_NG_2/pooledHist.RData  \n",
            "  inflating: PBMC_NG_2/pooledHistDS.RData  \n",
            "  inflating: PBMC_NG_2/PredEvalData.RDS  \n",
            "  inflating: PBMC_NG_2/Stats.RData   \n"
          ],
          "name": "stdout"
        }
      ]
    },
    {
      "cell_type": "code",
      "metadata": {
        "id": "pzOyHFkK1in_",
        "colab": {
          "base_uri": "https://localhost:8080/"
        },
        "outputId": "e59ff53b-b5fa-4f2a-ef64-14618d3e7322"
      },
      "source": [
        "!cd figureData && wget https://zenodo.org/record/4661263/files/EVAL.zip?download=1 && unzip 'EVAL.zip?download=1' && rm 'EVAL.zip?download=1'"
      ],
      "execution_count": null,
      "outputs": [
        {
          "output_type": "stream",
          "text": [
            "--2021-04-03 22:24:44--  https://zenodo.org/record/4661263/files/EVAL.zip?download=1\n",
            "Resolving zenodo.org (zenodo.org)... 137.138.76.77\n",
            "Connecting to zenodo.org (zenodo.org)|137.138.76.77|:443... connected.\n",
            "HTTP request sent, awaiting response... 200 OK\n",
            "Length: 206479312 (197M) [application/octet-stream]\n",
            "Saving to: ‘EVAL.zip?download=1’\n",
            "\n",
            "EVAL.zip?download=1 100%[===================>] 196.91M  12.8MB/s    in 19s     \n",
            "\n",
            "2021-04-03 22:25:04 (10.4 MB/s) - ‘EVAL.zip?download=1’ saved [206479312/206479312]\n",
            "\n",
            "Archive:  EVAL.zip?download=1\n",
            "   creating: EVAL/\n",
            "  inflating: EVAL/Bug_10.RData       \n",
            "  inflating: EVAL/Bug_100.RData      \n",
            "  inflating: EVAL/Bug_20.RData       \n",
            "  inflating: EVAL/Bug_25.RData       \n",
            "  inflating: EVAL/Bug_40.RData       \n",
            "  inflating: EVAL/Bug_5.RData        \n",
            "  inflating: EVAL/Bug_60.RData       \n",
            "  inflating: EVAL/Bug_80.RData       \n",
            "  inflating: EVAL/ds_summary.txt     \n",
            "  inflating: EVAL/PredEvalData.RDS   \n",
            "  inflating: EVAL/Stats.RData        \n"
          ],
          "name": "stdout"
        }
      ]
    },
    {
      "cell_type": "code",
      "metadata": {
        "id": "0-TJFTfk1jTj",
        "colab": {
          "base_uri": "https://localhost:8080/"
        },
        "outputId": "884012aa-b712-4f0e-916b-0e26400181c1"
      },
      "source": [
        "!cd figureData && wget https://zenodo.org/record/4661263/files/MRET.zip?download=1 && unzip 'MRET.zip?download=1' && rm 'MRET.zip?download=1'"
      ],
      "execution_count": null,
      "outputs": [
        {
          "output_type": "stream",
          "text": [
            "--2021-04-03 22:25:16--  https://zenodo.org/record/4661263/files/MRET.zip?download=1\n",
            "Resolving zenodo.org (zenodo.org)... 137.138.76.77\n",
            "Connecting to zenodo.org (zenodo.org)|137.138.76.77|:443... connected.\n",
            "HTTP request sent, awaiting response... 200 OK\n",
            "Length: 588092936 (561M) [application/octet-stream]\n",
            "Saving to: ‘MRET.zip?download=1’\n",
            "\n",
            "MRET.zip?download=1 100%[===================>] 560.85M  9.14MB/s    in 59s     \n",
            "\n",
            "2021-04-03 22:26:16 (9.56 MB/s) - ‘MRET.zip?download=1’ saved [588092936/588092936]\n",
            "\n",
            "Archive:  MRET.zip?download=1\n",
            "   creating: MRET/\n",
            "  inflating: MRET/Bug_10.RData       \n",
            "  inflating: MRET/Bug_100.RData      \n",
            "  inflating: MRET/Bug_20.RData       \n",
            "  inflating: MRET/Bug_40.RData       \n",
            "  inflating: MRET/Bug_5.RData        \n",
            "  inflating: MRET/Bug_60.RData       \n",
            "  inflating: MRET/Bug_80.RData       \n",
            "  inflating: MRET/ds_summary.txt     \n",
            "  inflating: MRET/PredEvalData.RDS   \n",
            "  inflating: MRET/Stats.RData        \n"
          ],
          "name": "stdout"
        }
      ]
    },
    {
      "cell_type": "code",
      "metadata": {
        "id": "qRkx8BzZ1job",
        "colab": {
          "base_uri": "https://localhost:8080/"
        },
        "outputId": "84ed6cf2-2162-4e14-f590-5e7a7115b1a0"
      },
      "source": [
        "!cd figureData && wget https://zenodo.org/record/4661263/files/MRET2.zip?download=1 && unzip 'MRET2.zip?download=1' && rm 'MRET2.zip?download=1'"
      ],
      "execution_count": null,
      "outputs": [
        {
          "output_type": "stream",
          "text": [
            "--2021-04-03 22:26:26--  https://zenodo.org/record/4661263/files/MRET2.zip?download=1\n",
            "Resolving zenodo.org (zenodo.org)... 137.138.76.77\n",
            "Connecting to zenodo.org (zenodo.org)|137.138.76.77|:443... connected.\n",
            "HTTP request sent, awaiting response... 200 OK\n",
            "Length: 906030654 (864M) [application/octet-stream]\n",
            "Saving to: ‘MRET2.zip?download=1’\n",
            "\n",
            "MRET2.zip?download= 100%[===================>] 864.06M  8.92MB/s    in 93s     \n",
            "\n",
            "2021-04-03 22:28:00 (9.33 MB/s) - ‘MRET2.zip?download=1’ saved [906030654/906030654]\n",
            "\n",
            "Archive:  MRET2.zip?download=1\n",
            "   creating: MRET2/\n",
            "  inflating: MRET2/Bug_10.RData      \n",
            "  inflating: MRET2/Bug_100.RData     \n",
            "  inflating: MRET2/Bug_20.RData      \n",
            "  inflating: MRET2/Bug_40.RData      \n",
            "  inflating: MRET2/Bug_5.RData       \n",
            "  inflating: MRET2/Bug_60.RData      \n",
            "  inflating: MRET2/Bug_80.RData      \n",
            "  inflating: MRET2/ds_summary.txt    \n",
            "  inflating: MRET2/PredEvalData.RDS  \n",
            "  inflating: MRET2/Stats.RData       \n"
          ],
          "name": "stdout"
        }
      ]
    },
    {
      "cell_type": "code",
      "metadata": {
        "id": "oesgTqLO0Qje",
        "colab": {
          "base_uri": "https://localhost:8080/"
        },
        "outputId": "7d61b8db-2ceb-4c5a-b74a-9508b7e8fd58"
      },
      "source": [
        "#Check that download worked\n",
        "!cd figureData && ls -l && cd EVAL && ls -l"
      ],
      "execution_count": null,
      "outputs": [
        {
          "output_type": "stream",
          "text": [
            "total 44\n",
            "drwxr-xr-x 2 root root 4096 Jul  1  2020 EVAL\n",
            "drwxr-xr-x 2 root root 4096 Jul  1  2020 EVALPBMC\n",
            "drwxr-xr-x 2 root root 4096 Jul  1  2020 EVALPBMC_DS\n",
            "drwxr-xr-x 2 root root 4096 Jul  1  2020 MRET\n",
            "drwxr-xr-x 2 root root 4096 Jul  1  2020 MRET2\n",
            "drwxr-xr-x 2 root root 4096 Jul  1  2020 PBMC_NG\n",
            "drwxr-xr-x 2 root root 4096 Jul  1  2020 PBMC_NG_2\n",
            "drwxr-xr-x 2 root root 4096 Jul  1  2020 PBMC_V2\n",
            "drwxr-xr-x 2 root root 4096 Jul  1  2020 PBMC_V3\n",
            "drwxr-xr-x 2 root root 4096 Jul  1  2020 PBMC_V3_2\n",
            "drwxr-xr-x 2 root root 4096 Jul  1  2020 PBMC_V3_3\n",
            "total 212788\n",
            "-rw-r--r-- 1 root root 37523336 Jun 30  2020 Bug_100.RData\n",
            "-rw-r--r-- 1 root root 17301493 Jun 30  2020 Bug_10.RData\n",
            "-rw-r--r-- 1 root root 23443334 Jun 30  2020 Bug_20.RData\n",
            "-rw-r--r-- 1 root root 25288320 Jun 30  2020 Bug_25.RData\n",
            "-rw-r--r-- 1 root root 29057075 Jun 30  2020 Bug_40.RData\n",
            "-rw-r--r-- 1 root root 11226736 Jun 30  2020 Bug_5.RData\n",
            "-rw-r--r-- 1 root root 32629892 Jun 30  2020 Bug_60.RData\n",
            "-rw-r--r-- 1 root root 35477251 Jun 30  2020 Bug_80.RData\n",
            "-rw-r--r-- 1 root root     1025 Jul  1  2020 ds_summary.txt\n",
            "-rw-r--r-- 1 root root  4167784 Jul  1  2020 PredEvalData.RDS\n",
            "-rw-r--r-- 1 root root  1761192 Jun 30  2020 Stats.RData\n"
          ],
          "name": "stdout"
        }
      ]
    },
    {
      "cell_type": "markdown",
      "metadata": {
        "id": "sCmhNVdYgkWH"
      },
      "source": [
        "**2. Prepare the R environment**"
      ]
    },
    {
      "cell_type": "code",
      "metadata": {
        "id": "5Gt6rQkSXriM"
      },
      "source": [
        "#switch to R mode\n",
        "%reload_ext rpy2.ipython\n"
      ],
      "execution_count": null,
      "outputs": []
    },
    {
      "cell_type": "code",
      "metadata": {
        "id": "jJ3rQJCdgeJa",
        "colab": {
          "base_uri": "https://localhost:8080/"
        },
        "outputId": "79e157fd-e220-49bc-e8df-51623370d9ff"
      },
      "source": [
        "#install the R packages and setup paths\n",
        "%%R\n",
        "install.packages(\"dplyr\")\n",
        "install.packages(\"readr\")\n"
      ],
      "execution_count": null,
      "outputs": [
        {
          "output_type": "stream",
          "text": [
            "R[write to console]: Installing package into ‘/usr/local/lib/R/site-library’\n",
            "(as ‘lib’ is unspecified)\n",
            "\n",
            "R[write to console]: trying URL 'https://cran.rstudio.com/src/contrib/dplyr_1.0.5.tar.gz'\n",
            "\n",
            "R[write to console]: Content type 'application/x-gzip'\n",
            "R[write to console]:  length 949019 bytes (926 KB)\n",
            "\n",
            "R[write to console]: =\n",
            "R[write to console]: =\n",
            "R[write to console]: =\n",
            "R[write to console]: =\n",
            "R[write to console]: =\n",
            "R[write to console]: =\n",
            "R[write to console]: =\n",
            "R[write to console]: =\n",
            "R[write to console]: =\n",
            "R[write to console]: =\n",
            "R[write to console]: =\n",
            "R[write to console]: =\n",
            "R[write to console]: =\n",
            "R[write to console]: =\n",
            "R[write to console]: =\n",
            "R[write to console]: =\n",
            "R[write to console]: =\n",
            "R[write to console]: =\n",
            "R[write to console]: =\n",
            "R[write to console]: =\n",
            "R[write to console]: =\n",
            "R[write to console]: =\n",
            "R[write to console]: =\n",
            "R[write to console]: =\n",
            "R[write to console]: =\n",
            "R[write to console]: =\n",
            "R[write to console]: =\n",
            "R[write to console]: =\n",
            "R[write to console]: =\n",
            "R[write to console]: =\n",
            "R[write to console]: =\n",
            "R[write to console]: =\n",
            "R[write to console]: =\n",
            "R[write to console]: =\n",
            "R[write to console]: =\n",
            "R[write to console]: =\n",
            "R[write to console]: =\n",
            "R[write to console]: =\n",
            "R[write to console]: =\n",
            "R[write to console]: =\n",
            "R[write to console]: =\n",
            "R[write to console]: =\n",
            "R[write to console]: =\n",
            "R[write to console]: =\n",
            "R[write to console]: =\n",
            "R[write to console]: =\n",
            "R[write to console]: =\n",
            "R[write to console]: =\n",
            "R[write to console]: =\n",
            "R[write to console]: =\n",
            "R[write to console]: \n",
            "\n",
            "R[write to console]: downloaded 926 KB\n",
            "\n",
            "\n",
            "R[write to console]: \n",
            "\n",
            "R[write to console]: \n",
            "R[write to console]: The downloaded source packages are in\n",
            "\t‘/tmp/RtmpkdvZir/downloaded_packages’\n",
            "R[write to console]: \n",
            "R[write to console]: \n",
            "\n",
            "R[write to console]: Installing package into ‘/usr/local/lib/R/site-library’\n",
            "(as ‘lib’ is unspecified)\n",
            "\n",
            "R[write to console]: trying URL 'https://cran.rstudio.com/src/contrib/readr_1.4.0.tar.gz'\n",
            "\n",
            "R[write to console]: Content type 'application/x-gzip'\n",
            "R[write to console]:  length 488946 bytes (477 KB)\n",
            "\n",
            "R[write to console]: =\n",
            "R[write to console]: =\n",
            "R[write to console]: =\n",
            "R[write to console]: =\n",
            "R[write to console]: =\n",
            "R[write to console]: =\n",
            "R[write to console]: =\n",
            "R[write to console]: =\n",
            "R[write to console]: =\n",
            "R[write to console]: =\n",
            "R[write to console]: =\n",
            "R[write to console]: =\n",
            "R[write to console]: =\n",
            "R[write to console]: =\n",
            "R[write to console]: =\n",
            "R[write to console]: =\n",
            "R[write to console]: =\n",
            "R[write to console]: =\n",
            "R[write to console]: =\n",
            "R[write to console]: =\n",
            "R[write to console]: =\n",
            "R[write to console]: =\n",
            "R[write to console]: =\n",
            "R[write to console]: =\n",
            "R[write to console]: =\n",
            "R[write to console]: =\n",
            "R[write to console]: =\n",
            "R[write to console]: =\n",
            "R[write to console]: =\n",
            "R[write to console]: =\n",
            "R[write to console]: =\n",
            "R[write to console]: =\n",
            "R[write to console]: =\n",
            "R[write to console]: =\n",
            "R[write to console]: =\n",
            "R[write to console]: =\n",
            "R[write to console]: =\n",
            "R[write to console]: =\n",
            "R[write to console]: =\n",
            "R[write to console]: =\n",
            "R[write to console]: =\n",
            "R[write to console]: =\n",
            "R[write to console]: =\n",
            "R[write to console]: =\n",
            "R[write to console]: =\n",
            "R[write to console]: =\n",
            "R[write to console]: =\n",
            "R[write to console]: =\n",
            "R[write to console]: =\n",
            "R[write to console]: =\n",
            "R[write to console]: \n",
            "\n",
            "R[write to console]: downloaded 477 KB\n",
            "\n",
            "\n",
            "R[write to console]: \n",
            "\n",
            "R[write to console]: \n",
            "R[write to console]: The downloaded source packages are in\n",
            "\t‘/tmp/RtmpkdvZir/downloaded_packages’\n",
            "R[write to console]: \n",
            "R[write to console]: \n",
            "\n"
          ],
          "name": "stderr"
        }
      ]
    },
    {
      "cell_type": "markdown",
      "metadata": {
        "id": "x56fjfCSicrp"
      },
      "source": [
        "**3. 3. Generate the list**\n",
        "\n",
        "We generate the list as a weighted mean over all 10X PBMC datasets we have in this study, using the FSCM (fracOnes) in the stats for each dataset."
      ]
    },
    {
      "cell_type": "code",
      "metadata": {
        "id": "V37XLBAO68oR"
      },
      "source": [
        "#First set some path variables\n",
        "%%R\n",
        "source(\"GRNP_2020/RCode/pathsGoogleColab.R\")\n"
      ],
      "execution_count": null,
      "outputs": []
    },
    {
      "cell_type": "code",
      "metadata": {
        "id": "6ulsVz7N0qG_"
      },
      "source": [
        "#create figure directory\n",
        "![ -d \"figures\" ] && rm -r figures\n",
        "!mkdir figures"
      ],
      "execution_count": null,
      "outputs": []
    },
    {
      "cell_type": "code",
      "metadata": {
        "id": "R6kuhOmzZL_X"
      },
      "source": [
        "%%R\n",
        "source(paste0(sourcePath,\"ButterflyHelpers.R\"))\n",
        "\n",
        "library(readr)\n",
        "\n",
        "#######################\n",
        "# Human 10X\n",
        "#######################\n",
        "\n",
        "loadStats(\"EVALPBMC\")\n",
        "loadStats(\"PBMC_V3\")\n",
        "loadStats(\"PBMC_V3_2\")\n",
        "loadStats(\"PBMC_V3_3\")\n",
        "loadStats(\"PBMC_V2\")\n",
        "loadStats(\"PBMC_NG\")\n",
        "loadStats(\"PBMC_NG_2\")\n",
        "\n",
        "umisList = list(tibble(gene=statsEVALPBMC$gene, umis=statsEVALPBMC$UMIs_EVALPBMC_d_100), \n",
        "                tibble(gene=statsPBMC_V3$gene, umis=statsPBMC_V3$UMIs_PBMC_V3_d_100), \n",
        "                tibble(gene=statsPBMC_V3_2$gene, umis=statsPBMC_V3_2$UMIs_PBMC_V3_2_d_100), \n",
        "                tibble(gene=statsPBMC_V3_3$gene, umis=statsPBMC_V3_3$UMIs_PBMC_V3_3_d_100), \n",
        "                tibble(gene=statsPBMC_V2$gene, umis=statsPBMC_V2$UMIs_PBMC_V2_d_100), \n",
        "                tibble(gene=statsPBMC_NG$gene, umis=statsPBMC_NG$UMIs_PBMC_NG_d_100), \n",
        "                tibble(gene=statsPBMC_NG_2$gene, umis=statsPBMC_NG_2$UMIs_PBMC_NG_2_d_100))\n",
        "\n",
        "fracOnesList = list(tibble(gene = statsEVALPBMC$gene, fracOnes = statsEVALPBMC$FracOnes_EVALPBMC_d_100),\n",
        "                    tibble(gene = statsPBMC_V3$gene, fracOnes = statsPBMC_V3$FracOnes_PBMC_V3_d_100),\n",
        "                    tibble(gene = statsPBMC_V3_2$gene, fracOnes = statsPBMC_V3_2$FracOnes_PBMC_V3_2_d_100),\n",
        "                    tibble(gene = statsPBMC_V3_3$gene, fracOnes = statsPBMC_V3_3$FracOnes_PBMC_V3_3_d_100),\n",
        "                    tibble(gene = statsPBMC_V2$gene, fracOnes = statsPBMC_V2$FracOnes_PBMC_V2_d_100),\n",
        "                    tibble(gene = statsPBMC_NG$gene, fracOnes = statsPBMC_NG$FracOnes_PBMC_NG_d_100),\n",
        "                    tibble(gene = statsPBMC_NG_2$gene, fracOnes = statsPBMC_NG_2$FracOnes_PBMC_NG_2_d_100))\n",
        "\n",
        "\n",
        "umis = umisList[[1]]\n",
        "fos = fracOnesList[[1]]\n",
        "for (i in 2:length(umisList)) {\n",
        "  umis = inner_join(umis, umisList[[i]], by=\"gene\")\n",
        "  fos = inner_join(fos, fracOnesList[[i]], by=\"gene\")\n",
        "}\n",
        "\n",
        "mns = rep(0,dim(fos)[1])\n",
        "\n",
        "#calculate weighted mean with a loop\n",
        "for (i in 1:(dim(fos)[1])) {\n",
        "  mns[i] = weighted.mean(fos[i,-1], umis[i,-1])\n",
        "}\n",
        "\n",
        "#test: the numbers look reasonably right\n",
        "#so, the weighted mean gives a reasonably good estimate of which genes that are most extreme\n",
        "#there are of course error factors such as different saturation levels for datasets, but we just ignore that here\n",
        "\n",
        "srt = sort(mns, index.return=T, decreasing = T)\n",
        "\n",
        "srtumis = umis[srt$ix,]\n",
        "srtumis\n",
        "\n",
        "totumis = rowSums(srtumis[,-1])\n",
        "totumis #looks like there is no need for filtering due to lack of data, they all have several hundred umis\n",
        "\n",
        "srtumis[1:100,]\n",
        "srt$x[1:100]\n",
        "\n",
        "srtumis$gene[1:100]\n",
        "\n",
        "toWrite = tibble(gene=srtumis$gene, UMIs = totumis, FSCM=srt$x)\n",
        "\n",
        "#now write the genes to file\n",
        "write_delim(toWrite, paste0(figure_path, \"human_10x_FSCM_genes.txt\"), \"\\t\")\n",
        "\n",
        "#get the number for NEUROD1, also in drop-seq\n",
        "paste0(\"Fraction of single-copy molecules in 10x data for NEUROD1: \", mns[umis$gene == \"NEUROD1\"])#0.897550111358575\n",
        "statsEVALPBMC_DS$UMIs_EVALPBMC_DS_d_100[statsEVALPBMC_DS$gene == \"NEUROD1\"]\n",
        "dsFos = statsEVALPBMC_DS$FracOnes_EVALPBMC_DS_d_100[statsEVALPBMC_DS$gene == \"NEUROD1\"]\n",
        "paste0(\"Fraction of single-copy molecules in Drop-Seq data for NEUROD1: \", dsFos)#0.819548872180451\n",
        "\n",
        "#########################\n",
        "# Human Drop-Seq\n",
        "#########################\n",
        "loadStats(\"EVALPBMC_DS\")\n",
        "\n",
        "toWrite = tibble(gene=statsEVALPBMC_DS$gene, UMIs = statsEVALPBMC_DS$UMIs_EVALPBMC_DS_d_100, FSCM=statsEVALPBMC_DS$FracOnes_EVALPBMC_DS_d_100)\n",
        "#filter on 20, otherwise it is pretty random\n",
        "toWrite = toWrite[toWrite$UMIs >= 20, ]\n",
        "srt = sort(toWrite$FSCM, index.return=TRUE, decreasing=TRUE)\n",
        "toWrite = toWrite[srt$ix,]\n",
        "\n",
        "#now write the genes to file\n",
        "write_delim(toWrite, paste0(figure_path, \"human_Drop-Seq_FSCM_genes.txt\"), \"\\t\")\n",
        "\n",
        "#######################\n",
        "# Mouse 10X\n",
        "#######################\n",
        "\n",
        "loadStats(\"EVAL\")\n",
        "loadStats(\"MRET2\")\n",
        "\n",
        "umisList = list(tibble(gene=statsEVAL$gene, umis=statsEVAL$UMIs_EVAL_d_100), \n",
        "                tibble(gene=statsMRET2$gene, umis=statsMRET2$UMIs_MRET2_d_100))\n",
        "\n",
        "fracOnesList = list(tibble(gene = statsEVAL$gene, fracOnes = statsEVAL$FracOnes_EVAL_d_100),\n",
        "                    tibble(gene = statsMRET2$gene, fracOnes = statsMRET2$FracOnes_MRET2_d_100))\n",
        "\n",
        "\n",
        "umis = umisList[[1]]\n",
        "fos = fracOnesList[[1]]\n",
        "for (i in 2:length(umisList)) {\n",
        "  umis = inner_join(umis, umisList[[i]], by=\"gene\")\n",
        "  fos = inner_join(fos, fracOnesList[[i]], by=\"gene\")\n",
        "}\n",
        "\n",
        "mns = rep(0,dim(fos)[1])\n",
        "\n",
        "#calculate weighted mean with a loop\n",
        "for (i in 1:(dim(fos)[1])) {\n",
        "  mns[i] = weighted.mean(fos[i,-1], umis[i,-1])\n",
        "}\n",
        "\n",
        "srt = sort(mns, index.return=T, decreasing = T)\n",
        "\n",
        "srtumis = umis[srt$ix,]\n",
        "srtumis\n",
        "\n",
        "totumis = rowSums(srtumis[,-1])\n",
        "totumis #looks like there is no need for filtering due to lack of data, they all have several hundred umis\n",
        "\n",
        "toWrite = tibble(gene=srtumis$gene, UMIs = totumis, FSCM=srt$x)\n",
        "\n",
        "#now write the genes to file\n",
        "write_delim(toWrite, paste0(figure_path, \"mouse_10x_FSCM_genes.txt\"), \"\\t\")\n",
        "\n",
        "#########################\n",
        "# Mouse Drop-Seq\n",
        "#########################\n",
        "loadStats(\"MRET\")\n",
        "\n",
        "toWrite = tibble(gene=statsMRET$gene, UMIs = statsMRET$UMIs_MRET_d_100, FSCM=statsMRET$FracOnes_MRET_d_100)\n",
        "#filter on 20, otherwise it is pretty random\n",
        "toWrite = toWrite[toWrite$UMIs >= 20, ]\n",
        "srt = sort(toWrite$FSCM, index.return=TRUE, decreasing=TRUE)\n",
        "toWrite = toWrite[srt$ix,]\n",
        "\n",
        "#now write the genes to file\n",
        "write_delim(toWrite, paste0(figure_path, \"mouse_Drop-Seq_FSCM_genes.txt\"), \"\\t\")\n",
        "\n"
      ],
      "execution_count": null,
      "outputs": []
    },
    {
      "cell_type": "code",
      "metadata": {
        "id": "MmZaXKxMvNvQ",
        "colab": {
          "base_uri": "https://localhost:8080/"
        },
        "outputId": "2bf44185-ffc3-49ee-db77-77158c3eca7b"
      },
      "source": [
        "!cd figures && ls -l && head human_10x_FSCM_genes.txt"
      ],
      "execution_count": null,
      "outputs": [
        {
          "output_type": "stream",
          "text": [
            "total 1532\n",
            "-rw-r--r-- 1 root root 438571 Apr  3 22:33 human_10x_FSCM_genes.txt\n",
            "-rw-r--r-- 1 root root 290473 Apr  3 22:33 human_Drop-Seq_FSCM_genes.txt\n",
            "-rw-r--r-- 1 root root 424163 Apr  3 22:33 mouse_10x_FSCM_genes.txt\n",
            "-rw-r--r-- 1 root root 405861 Apr  3 22:33 mouse_Drop-Seq_FSCM_genes.txt\n",
            "gene\tUMIs\tFSCM\n",
            "AL359976.1\t4830\t0.9861283643892339\n",
            "PDGFA\t13424\t0.9772050059594756\n",
            "KLF15\t3881\t0.9708837928368977\n",
            "CAMK2B\t873\t0.9644902634593356\n",
            "FAM107A\t521\t0.9577735124760077\n",
            "AC006509.1\t2988\t0.9477911646586346\n",
            "GPR85\t2784\t0.9389367816091954\n",
            "FGF23\t205669\t0.9350218068838765\n",
            "NACA3P\t3693\t0.93392905496886\n"
          ],
          "name": "stdout"
        }
      ]
    },
    {
      "cell_type": "code",
      "metadata": {
        "id": "2ObvjuKqwGgt",
        "colab": {
          "base_uri": "https://localhost:8080/"
        },
        "outputId": "16719e85-9ec2-40d3-cbf4-d5d09dc6bc42"
      },
      "source": [
        "!cd figures && ls -l && head human_Drop-Seq_FSCM_genes.txt"
      ],
      "execution_count": null,
      "outputs": [
        {
          "output_type": "stream",
          "text": [
            "total 1532\n",
            "-rw-r--r-- 1 root root 438571 Apr  3 22:33 human_10x_FSCM_genes.txt\n",
            "-rw-r--r-- 1 root root 290473 Apr  3 22:33 human_Drop-Seq_FSCM_genes.txt\n",
            "-rw-r--r-- 1 root root 424163 Apr  3 22:33 mouse_10x_FSCM_genes.txt\n",
            "-rw-r--r-- 1 root root 405861 Apr  3 22:33 mouse_Drop-Seq_FSCM_genes.txt\n",
            "gene\tUMIs\tFSCM\n",
            "CAMK2B\t148\t1\n",
            "GABBR2\t43\t1\n",
            "AL359976.1\t642\t0.9922118380062306\n",
            "PDGFA\t1348\t0.9881305637982196\n",
            "FOXP2\t145\t0.9793103448275862\n",
            "FAM107A\t91\t0.978021978021978\n",
            "RPL23AP48\t44\t0.9772727272727273\n",
            "AC007686.1\t43\t0.9767441860465116\n",
            "TPM4P1\t31\t0.967741935483871\n"
          ],
          "name": "stdout"
        }
      ]
    },
    {
      "cell_type": "code",
      "metadata": {
        "id": "gANkXHhkwHCB",
        "colab": {
          "base_uri": "https://localhost:8080/"
        },
        "outputId": "bcdb79aa-8439-439b-9626-80c4e6280a90"
      },
      "source": [
        "!cd figures && ls -l && head mouse_10x_FSCM_genes.txt"
      ],
      "execution_count": null,
      "outputs": [
        {
          "output_type": "stream",
          "text": [
            "total 1532\n",
            "-rw-r--r-- 1 root root 438571 Apr  3 22:33 human_10x_FSCM_genes.txt\n",
            "-rw-r--r-- 1 root root 290473 Apr  3 22:33 human_Drop-Seq_FSCM_genes.txt\n",
            "-rw-r--r-- 1 root root 424163 Apr  3 22:33 mouse_10x_FSCM_genes.txt\n",
            "-rw-r--r-- 1 root root 405861 Apr  3 22:33 mouse_Drop-Seq_FSCM_genes.txt\n",
            "gene\tUMIs\tFSCM\n",
            "Gm11225\t12760\t0.9967868338557994\n",
            "Serpine1\t1031\t0.9941804073714839\n",
            "H2-T3\t248\t0.9919354838709677\n",
            "Obox3\t642\t0.9906542056074766\n",
            "Gm15304\t159\t0.9874213836477987\n",
            "Gm12792\t677\t0.9852289512555391\n",
            "Gm4034\t3977\t0.9849132511943676\n",
            "Olfr597\t557\t0.9820466786355476\n",
            "Ccdc50-ps\t251\t0.9800796812749004\n"
          ],
          "name": "stdout"
        }
      ]
    },
    {
      "cell_type": "code",
      "metadata": {
        "id": "QI7T8aCpwHhD",
        "colab": {
          "base_uri": "https://localhost:8080/"
        },
        "outputId": "a9bb175e-8bec-4675-891c-27992be3c1f1"
      },
      "source": [
        "!cd figures && ls -l && head mouse_Drop-Seq_FSCM_genes.txt"
      ],
      "execution_count": null,
      "outputs": [
        {
          "output_type": "stream",
          "text": [
            "total 1532\n",
            "-rw-r--r-- 1 root root 438571 Apr  3 22:33 human_10x_FSCM_genes.txt\n",
            "-rw-r--r-- 1 root root 290473 Apr  3 22:33 human_Drop-Seq_FSCM_genes.txt\n",
            "-rw-r--r-- 1 root root 424163 Apr  3 22:33 mouse_10x_FSCM_genes.txt\n",
            "-rw-r--r-- 1 root root 405861 Apr  3 22:33 mouse_Drop-Seq_FSCM_genes.txt\n",
            "gene\tUMIs\tFSCM\n",
            "AC115768.1\t22\t1\n",
            "AC161519.2\t33\t1\n",
            "Alpk3\t60\t1\n",
            "Ckb-ps1\t29\t1\n",
            "D930020B18Rik\t22\t1\n",
            "Dnase1l3\t21\t1\n",
            "Gm10295\t24\t1\n",
            "Gm12025\t29\t1\n",
            "Gm12094\t23\t1\n"
          ],
          "name": "stdout"
        }
      ]
    }
  ]
}