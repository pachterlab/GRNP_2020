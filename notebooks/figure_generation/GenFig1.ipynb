{
  "nbformat": 4,
  "nbformat_minor": 0,
  "metadata": {
    "colab": {
      "name": "GenFig1.ipynb",
      "provenance": [],
      "collapsed_sections": [],
      "include_colab_link": true
    },
    "kernelspec": {
      "name": "python3",
      "display_name": "Python 3"
    }
  },
  "cells": [
    {
      "cell_type": "markdown",
      "metadata": {
        "id": "view-in-github",
        "colab_type": "text"
      },
      "source": [
        "<a href=\"https://colab.research.google.com/github/pachterlab/GRNP_2020/blob/master/notebooks/figure_generation/GenFig1.ipynb\" target=\"_parent\"><img src=\"https://colab.research.google.com/assets/colab-badge.svg\" alt=\"Open In Colab\"/></a>"
      ]
    },
    {
      "cell_type": "markdown",
      "metadata": {
        "id": "dhydD96df06z",
        "colab_type": "text"
      },
      "source": [
        "**Generates subplots in figure 1**\n",
        "\n",
        "This notebook generates 6 subfigures: The 2 histograms in fig 1A, the two histograms in fig 1B I, and the plots in fig 1B II and III.\n",
        "\n",
        "Steps:\n",
        "1. Download the code and processed data\n",
        "2. Setup the R environment\n",
        "3. Generate the figures\n",
        "\n",
        "The data for these figures are produced by the following notebooks:\n",
        "\n",
        "Processing of FASTQ files with kallisto and bustools:\n",
        "https://github.com/pachterlab/GRNP_2020/blob/master/notebooks/FASTQ_processing/ProcessEVAL.ipynb\n",
        "\n",
        "Preprocessing of BUG files:\n",
        "https://github.com/pachterlab/GRNP_2020/blob/master/notebooks/R_processing/ProcessR_EVAL.ipynb\n",
        "\n",
        "Precalculate figure 1 data: https://github.com/pachterlab/GRNP_2020/blob/master/notebooks/figure_generation/GenFig1Data%20.ipynb\n",
        "\n",
        "\n"
      ]
    },
    {
      "cell_type": "markdown",
      "metadata": {
        "id": "h8RnKVMXgbzr",
        "colab_type": "text"
      },
      "source": [
        "**1. Download the code and processed data**"
      ]
    },
    {
      "cell_type": "code",
      "metadata": {
        "id": "doUAtCxIyOiI",
        "colab_type": "code",
        "colab": {
          "base_uri": "https://localhost:8080/",
          "height": 136
        },
        "outputId": "0014ecf8-2c20-48d4-ca64-dc3fe49f95ce"
      },
      "source": [
        "#download the R code\n",
        "![ -d \"GRNP_2020\" ] && rm -r GRNP_2020\n",
        "\n",
        "!git clone https://github.com/pachterlab/GRNP_2020.git\n"
      ],
      "execution_count": null,
      "outputs": [
        {
          "output_type": "stream",
          "text": [
            "Cloning into 'GRNP_2020'...\n",
            "remote: Enumerating objects: 248, done.\u001b[K\n",
            "remote: Counting objects: 100% (248/248), done.\u001b[K\n",
            "remote: Compressing objects: 100% (201/201), done.\u001b[K\n",
            "remote: Total 1131 (delta 168), reused 85 (delta 47), pack-reused 883\u001b[K\n",
            "Receiving objects: 100% (1131/1131), 7.48 MiB | 21.64 MiB/s, done.\n",
            "Resolving deltas: 100% (722/722), done.\n"
          ],
          "name": "stdout"
        }
      ]
    },
    {
      "cell_type": "code",
      "metadata": {
        "id": "dUNSQ1qBZb2g",
        "colab_type": "code",
        "colab": {
          "base_uri": "https://localhost:8080/",
          "height": 782
        },
        "outputId": "a2fe9466-7c6e-4db9-d793-70a6cc9d7b12"
      },
      "source": [
        "#download processed data from Zenodo\n",
        "![ -d \"figureData\" ] && rm -r figureData\n",
        "!mkdir figureData\n",
        "!cd figureData && wget https://zenodo.org/record/3909758/files/FigureData.zip?download=1 && unzip 'FigureData.zip?download=1' && rm 'FigureData.zip?download=1'\n",
        "\n",
        "!cd figureData && wget https://zenodo.org/record/3909758/files/EVAL.zip?download=1 && unzip 'EVAL.zip?download=1' && rm 'EVAL.zip?download=1'\n"
      ],
      "execution_count": null,
      "outputs": [
        {
          "output_type": "stream",
          "text": [
            "--2020-07-02 21:42:44--  https://zenodo.org/record/3909758/files/FigureData.zip?download=1\n",
            "Resolving zenodo.org (zenodo.org)... 188.184.117.155\n",
            "Connecting to zenodo.org (zenodo.org)|188.184.117.155|:443... connected.\n",
            "HTTP request sent, awaiting response... 200 OK\n",
            "Length: 4901056 (4.7M) [application/octet-stream]\n",
            "Saving to: ‘FigureData.zip?download=1’\n",
            "\n",
            "FigureData.zip?down 100%[===================>]   4.67M  5.26MB/s    in 0.9s    \n",
            "\n",
            "2020-07-02 21:42:46 (5.26 MB/s) - ‘FigureData.zip?download=1’ saved [4901056/4901056]\n",
            "\n",
            "Archive:  FigureData.zip?download=1\n",
            "  inflating: extreme_genes.txt       \n",
            " extracting: Fig1_h1.RDS             \n",
            " extracting: Fig1_h2.RDS             \n",
            " extracting: Fig1_r1_III.RDS         \n",
            " extracting: Fig1_r2_III.RDS         \n",
            "  inflating: Fig3_ldata.RDS          \n",
            "  inflating: Fig3_ldata2.RDS         \n",
            "  inflating: Fig4_d1.RDS             \n",
            "  inflating: PBMC_V3_3_ds10_20Times.RData  \n",
            "--2020-07-02 21:42:47--  https://zenodo.org/record/3909758/files/EVAL.zip?download=1\n",
            "Resolving zenodo.org (zenodo.org)... 188.184.117.155\n",
            "Connecting to zenodo.org (zenodo.org)|188.184.117.155|:443... connected.\n",
            "HTTP request sent, awaiting response... 200 OK\n",
            "Length: 206479312 (197M) [application/octet-stream]\n",
            "Saving to: ‘EVAL.zip?download=1’\n",
            "\n",
            "EVAL.zip?download=1 100%[===================>] 196.91M  9.68MB/s    in 22s     \n",
            "\n",
            "2020-07-02 21:43:10 (8.84 MB/s) - ‘EVAL.zip?download=1’ saved [206479312/206479312]\n",
            "\n",
            "Archive:  EVAL.zip?download=1\n",
            "   creating: EVAL/\n",
            "  inflating: EVAL/Bug_10.RData       \n",
            "  inflating: EVAL/Bug_100.RData      \n",
            "  inflating: EVAL/Bug_20.RData       \n",
            "  inflating: EVAL/Bug_25.RData       \n",
            "  inflating: EVAL/Bug_40.RData       \n",
            "  inflating: EVAL/Bug_5.RData        \n",
            "  inflating: EVAL/Bug_60.RData       \n",
            "  inflating: EVAL/Bug_80.RData       \n",
            "  inflating: EVAL/ds_summary.txt     \n",
            "  inflating: EVAL/PredEvalData.RDS   \n",
            "  inflating: EVAL/Stats.RData        \n"
          ],
          "name": "stdout"
        }
      ]
    },
    {
      "cell_type": "code",
      "metadata": {
        "id": "oesgTqLO0Qje",
        "colab_type": "code",
        "colab": {
          "base_uri": "https://localhost:8080/",
          "height": 408
        },
        "outputId": "32a0ec26-a295-45ee-9f86-478192216bef"
      },
      "source": [
        "#Check that download worked\n",
        "!cd figureData && ls -l && cd EVAL && ls -l"
      ],
      "execution_count": null,
      "outputs": [
        {
          "output_type": "stream",
          "text": [
            "total 4820\n",
            "drwxr-xr-x 2 root root    4096 Jul  1 19:49 EVAL\n",
            "-rw-r--r-- 1 root root    1422 Jul  1 19:49 extreme_genes.txt\n",
            "-rw-r--r-- 1 root root     683 Jun 30 16:55 Fig1_h1.RDS\n",
            "-rw-r--r-- 1 root root     830 Jun 30 16:55 Fig1_h2.RDS\n",
            "-rw-r--r-- 1 root root     239 Jun 30 18:19 Fig1_r1_III.RDS\n",
            "-rw-r--r-- 1 root root     233 Jun 30 18:19 Fig1_r2_III.RDS\n",
            "-rw-r--r-- 1 root root  338635 Jul  1 18:16 Fig3_ldata2.RDS\n",
            "-rw-r--r-- 1 root root  480081 Jul  1 18:16 Fig3_ldata.RDS\n",
            "-rw-r--r-- 1 root root 3949987 Jul  1 19:08 Fig4_d1.RDS\n",
            "-rw-r--r-- 1 root root  133329 Jul  1 17:57 PBMC_V3_3_ds10_20Times.RData\n",
            "total 212788\n",
            "-rw-r--r-- 1 root root 37523336 Jun 30 13:45 Bug_100.RData\n",
            "-rw-r--r-- 1 root root 17301493 Jun 30 13:42 Bug_10.RData\n",
            "-rw-r--r-- 1 root root 23443334 Jun 30 13:42 Bug_20.RData\n",
            "-rw-r--r-- 1 root root 25288320 Jun 30 13:42 Bug_25.RData\n",
            "-rw-r--r-- 1 root root 29057075 Jun 30 13:43 Bug_40.RData\n",
            "-rw-r--r-- 1 root root 11226736 Jun 30 13:41 Bug_5.RData\n",
            "-rw-r--r-- 1 root root 32629892 Jun 30 13:44 Bug_60.RData\n",
            "-rw-r--r-- 1 root root 35477251 Jun 30 13:44 Bug_80.RData\n",
            "-rw-r--r-- 1 root root     1025 Jul  1 01:33 ds_summary.txt\n",
            "-rw-r--r-- 1 root root  4167784 Jul  1 20:11 PredEvalData.RDS\n",
            "-rw-r--r-- 1 root root  1761192 Jun 30 13:45 Stats.RData\n"
          ],
          "name": "stdout"
        }
      ]
    },
    {
      "cell_type": "markdown",
      "metadata": {
        "id": "sCmhNVdYgkWH",
        "colab_type": "text"
      },
      "source": [
        "**2. Prepare the R environment**"
      ]
    },
    {
      "cell_type": "code",
      "metadata": {
        "id": "5Gt6rQkSXriM",
        "colab_type": "code",
        "colab": {
          "base_uri": "https://localhost:8080/",
          "height": 85
        },
        "outputId": "ded27aab-fe4e-4b63-903f-376d5b7c2315"
      },
      "source": [
        "#switch to R mode\n",
        "%reload_ext rpy2.ipython\n"
      ],
      "execution_count": null,
      "outputs": [
        {
          "output_type": "stream",
          "text": [
            "/usr/local/lib/python3.6/dist-packages/rpy2/robjects/pandas2ri.py:14: FutureWarning: pandas.core.index is deprecated and will be removed in a future version.  The public classes are available in the top-level namespace.\n",
            "  from pandas.core.index import Index as PandasIndex\n",
            "/usr/local/lib/python3.6/dist-packages/rpy2/robjects/pandas2ri.py:34: UserWarning: pandas >= 1.0 is not supported.\n",
            "  warnings.warn('pandas >= 1.0 is not supported.')\n"
          ],
          "name": "stderr"
        }
      ]
    },
    {
      "cell_type": "code",
      "metadata": {
        "id": "jJ3rQJCdgeJa",
        "colab_type": "code",
        "colab": {
          "base_uri": "https://localhost:8080/",
          "height": 1000
        },
        "outputId": "72f56988-5867-4c20-d991-f9322f2a2c34"
      },
      "source": [
        "#install the R packages and setup paths\n",
        "%%R\n",
        "install.packages(\"dplyr\")\n",
        "install.packages(\"ggplot2\")\n",
        "install.packages(\"ggpubr\")\n",
        "install.packages(\"preseqR\")\n",
        "\n"
      ],
      "execution_count": null,
      "outputs": [
        {
          "output_type": "stream",
          "text": [
            "R[write to console]: Installing package into ‘/usr/local/lib/R/site-library’\n",
            "(as ‘lib’ is unspecified)\n",
            "\n",
            "R[write to console]: trying URL 'https://cran.rstudio.com/src/contrib/dplyr_1.0.0.tar.gz'\n",
            "\n",
            "R[write to console]: Content type 'application/x-gzip'\n",
            "R[write to console]:  length 836651 bytes (817 KB)\n",
            "\n",
            "R[write to console]: =\n",
            "R[write to console]: =\n",
            "R[write to console]: =\n",
            "R[write to console]: =\n",
            "R[write to console]: =\n",
            "R[write to console]: =\n",
            "R[write to console]: =\n",
            "R[write to console]: =\n",
            "R[write to console]: =\n",
            "R[write to console]: =\n",
            "R[write to console]: =\n",
            "R[write to console]: =\n",
            "R[write to console]: =\n",
            "R[write to console]: =\n",
            "R[write to console]: =\n",
            "R[write to console]: =\n",
            "R[write to console]: =\n",
            "R[write to console]: =\n",
            "R[write to console]: =\n",
            "R[write to console]: =\n",
            "R[write to console]: =\n",
            "R[write to console]: =\n",
            "R[write to console]: =\n",
            "R[write to console]: =\n",
            "R[write to console]: =\n",
            "R[write to console]: =\n",
            "R[write to console]: =\n",
            "R[write to console]: =\n",
            "R[write to console]: =\n",
            "R[write to console]: =\n",
            "R[write to console]: =\n",
            "R[write to console]: =\n",
            "R[write to console]: =\n",
            "R[write to console]: =\n",
            "R[write to console]: =\n",
            "R[write to console]: =\n",
            "R[write to console]: =\n",
            "R[write to console]: =\n",
            "R[write to console]: =\n",
            "R[write to console]: =\n",
            "R[write to console]: =\n",
            "R[write to console]: =\n",
            "R[write to console]: =\n",
            "R[write to console]: =\n",
            "R[write to console]: =\n",
            "R[write to console]: =\n",
            "R[write to console]: =\n",
            "R[write to console]: =\n",
            "R[write to console]: =\n",
            "R[write to console]: =\n",
            "R[write to console]: \n",
            "\n",
            "R[write to console]: downloaded 817 KB\n",
            "\n",
            "\n",
            "R[write to console]: \n",
            "\n",
            "R[write to console]: \n",
            "R[write to console]: The downloaded source packages are in\n",
            "\t‘/tmp/Rtmp6ni8oj/downloaded_packages’\n",
            "R[write to console]: \n",
            "R[write to console]: \n",
            "\n",
            "R[write to console]: Installing package into ‘/usr/local/lib/R/site-library’\n",
            "(as ‘lib’ is unspecified)\n",
            "\n",
            "R[write to console]: trying URL 'https://cran.rstudio.com/src/contrib/ggplot2_3.3.2.tar.gz'\n",
            "\n",
            "R[write to console]: Content type 'application/x-gzip'\n",
            "R[write to console]:  length 3054431 bytes (2.9 MB)\n",
            "\n",
            "R[write to console]: =\n",
            "R[write to console]: =\n",
            "R[write to console]: =\n",
            "R[write to console]: =\n",
            "R[write to console]: =\n",
            "R[write to console]: =\n",
            "R[write to console]: =\n",
            "R[write to console]: =\n",
            "R[write to console]: =\n",
            "R[write to console]: =\n",
            "R[write to console]: =\n",
            "R[write to console]: =\n",
            "R[write to console]: =\n",
            "R[write to console]: =\n",
            "R[write to console]: =\n",
            "R[write to console]: =\n",
            "R[write to console]: =\n",
            "R[write to console]: =\n",
            "R[write to console]: =\n",
            "R[write to console]: =\n",
            "R[write to console]: =\n",
            "R[write to console]: =\n",
            "R[write to console]: =\n",
            "R[write to console]: =\n",
            "R[write to console]: =\n",
            "R[write to console]: =\n",
            "R[write to console]: =\n",
            "R[write to console]: =\n",
            "R[write to console]: =\n",
            "R[write to console]: =\n",
            "R[write to console]: =\n",
            "R[write to console]: =\n",
            "R[write to console]: =\n",
            "R[write to console]: =\n",
            "R[write to console]: =\n",
            "R[write to console]: =\n",
            "R[write to console]: =\n",
            "R[write to console]: =\n",
            "R[write to console]: =\n",
            "R[write to console]: =\n",
            "R[write to console]: =\n",
            "R[write to console]: =\n",
            "R[write to console]: =\n",
            "R[write to console]: =\n",
            "R[write to console]: =\n",
            "R[write to console]: =\n",
            "R[write to console]: =\n",
            "R[write to console]: =\n",
            "R[write to console]: =\n",
            "R[write to console]: =\n",
            "R[write to console]: \n",
            "\n",
            "R[write to console]: downloaded 2.9 MB\n",
            "\n",
            "\n",
            "R[write to console]: \n",
            "\n",
            "R[write to console]: \n",
            "R[write to console]: The downloaded source packages are in\n",
            "\t‘/tmp/Rtmp6ni8oj/downloaded_packages’\n",
            "R[write to console]: \n",
            "R[write to console]: \n",
            "\n",
            "R[write to console]: Installing package into ‘/usr/local/lib/R/site-library’\n",
            "(as ‘lib’ is unspecified)\n",
            "\n",
            "R[write to console]: also installing the dependencies ‘car’, ‘rstatix’\n",
            "\n",
            "\n",
            "R[write to console]: trying URL 'https://cran.rstudio.com/src/contrib/car_3.0-8.tar.gz'\n",
            "\n",
            "R[write to console]: Content type 'application/x-gzip'\n",
            "R[write to console]:  length 499932 bytes (488 KB)\n",
            "\n",
            "R[write to console]: =\n",
            "R[write to console]: =\n",
            "R[write to console]: =\n",
            "R[write to console]: =\n",
            "R[write to console]: =\n",
            "R[write to console]: =\n",
            "R[write to console]: =\n",
            "R[write to console]: =\n",
            "R[write to console]: =\n",
            "R[write to console]: =\n",
            "R[write to console]: =\n",
            "R[write to console]: =\n",
            "R[write to console]: =\n",
            "R[write to console]: =\n",
            "R[write to console]: =\n",
            "R[write to console]: =\n",
            "R[write to console]: =\n",
            "R[write to console]: =\n",
            "R[write to console]: =\n",
            "R[write to console]: =\n",
            "R[write to console]: =\n",
            "R[write to console]: =\n",
            "R[write to console]: =\n",
            "R[write to console]: =\n",
            "R[write to console]: =\n",
            "R[write to console]: =\n",
            "R[write to console]: =\n",
            "R[write to console]: =\n",
            "R[write to console]: =\n",
            "R[write to console]: =\n",
            "R[write to console]: =\n",
            "R[write to console]: =\n",
            "R[write to console]: =\n",
            "R[write to console]: =\n",
            "R[write to console]: =\n",
            "R[write to console]: =\n",
            "R[write to console]: =\n",
            "R[write to console]: =\n",
            "R[write to console]: =\n",
            "R[write to console]: =\n",
            "R[write to console]: =\n",
            "R[write to console]: =\n",
            "R[write to console]: =\n",
            "R[write to console]: =\n",
            "R[write to console]: =\n",
            "R[write to console]: =\n",
            "R[write to console]: =\n",
            "R[write to console]: =\n",
            "R[write to console]: =\n",
            "R[write to console]: =\n",
            "R[write to console]: \n",
            "\n",
            "R[write to console]: downloaded 488 KB\n",
            "\n",
            "\n",
            "R[write to console]: trying URL 'https://cran.rstudio.com/src/contrib/rstatix_0.6.0.tar.gz'\n",
            "\n",
            "R[write to console]: Content type 'application/x-gzip'\n",
            "R[write to console]:  length 394803 bytes (385 KB)\n",
            "\n",
            "R[write to console]: =\n",
            "R[write to console]: =\n",
            "R[write to console]: =\n",
            "R[write to console]: =\n",
            "R[write to console]: =\n",
            "R[write to console]: =\n",
            "R[write to console]: =\n",
            "R[write to console]: =\n",
            "R[write to console]: =\n",
            "R[write to console]: =\n",
            "R[write to console]: =\n",
            "R[write to console]: =\n",
            "R[write to console]: =\n",
            "R[write to console]: =\n",
            "R[write to console]: =\n",
            "R[write to console]: =\n",
            "R[write to console]: =\n",
            "R[write to console]: =\n",
            "R[write to console]: =\n",
            "R[write to console]: =\n",
            "R[write to console]: =\n",
            "R[write to console]: =\n",
            "R[write to console]: =\n",
            "R[write to console]: =\n",
            "R[write to console]: =\n",
            "R[write to console]: =\n",
            "R[write to console]: =\n",
            "R[write to console]: =\n",
            "R[write to console]: =\n",
            "R[write to console]: =\n",
            "R[write to console]: =\n",
            "R[write to console]: =\n",
            "R[write to console]: =\n",
            "R[write to console]: =\n",
            "R[write to console]: =\n",
            "R[write to console]: =\n",
            "R[write to console]: =\n",
            "R[write to console]: =\n",
            "R[write to console]: =\n",
            "R[write to console]: =\n",
            "R[write to console]: =\n",
            "R[write to console]: =\n",
            "R[write to console]: =\n",
            "R[write to console]: =\n",
            "R[write to console]: =\n",
            "R[write to console]: =\n",
            "R[write to console]: =\n",
            "R[write to console]: =\n",
            "R[write to console]: =\n",
            "R[write to console]: =\n",
            "R[write to console]: \n",
            "\n",
            "R[write to console]: downloaded 385 KB\n",
            "\n",
            "\n",
            "R[write to console]: trying URL 'https://cran.rstudio.com/src/contrib/ggpubr_0.4.0.tar.gz'\n",
            "\n",
            "R[write to console]: Content type 'application/x-gzip'\n",
            "R[write to console]:  length 2689307 bytes (2.6 MB)\n",
            "\n",
            "R[write to console]: =\n",
            "R[write to console]: =\n",
            "R[write to console]: =\n",
            "R[write to console]: =\n",
            "R[write to console]: =\n",
            "R[write to console]: =\n",
            "R[write to console]: =\n",
            "R[write to console]: =\n",
            "R[write to console]: =\n",
            "R[write to console]: =\n",
            "R[write to console]: =\n",
            "R[write to console]: =\n",
            "R[write to console]: =\n",
            "R[write to console]: =\n",
            "R[write to console]: =\n",
            "R[write to console]: =\n",
            "R[write to console]: =\n",
            "R[write to console]: =\n",
            "R[write to console]: =\n",
            "R[write to console]: =\n",
            "R[write to console]: =\n",
            "R[write to console]: =\n",
            "R[write to console]: =\n",
            "R[write to console]: =\n",
            "R[write to console]: =\n",
            "R[write to console]: =\n",
            "R[write to console]: =\n",
            "R[write to console]: =\n",
            "R[write to console]: =\n",
            "R[write to console]: =\n",
            "R[write to console]: =\n",
            "R[write to console]: =\n",
            "R[write to console]: =\n",
            "R[write to console]: =\n",
            "R[write to console]: =\n",
            "R[write to console]: =\n",
            "R[write to console]: =\n",
            "R[write to console]: =\n",
            "R[write to console]: =\n",
            "R[write to console]: =\n",
            "R[write to console]: =\n",
            "R[write to console]: =\n",
            "R[write to console]: =\n",
            "R[write to console]: =\n",
            "R[write to console]: =\n",
            "R[write to console]: =\n",
            "R[write to console]: =\n",
            "R[write to console]: =\n",
            "R[write to console]: =\n",
            "R[write to console]: =\n",
            "R[write to console]: \n",
            "\n",
            "R[write to console]: downloaded 2.6 MB\n",
            "\n",
            "\n",
            "R[write to console]: \n",
            "\n",
            "R[write to console]: \n",
            "R[write to console]: The downloaded source packages are in\n",
            "\t‘/tmp/Rtmp6ni8oj/downloaded_packages’\n",
            "R[write to console]: \n",
            "R[write to console]: \n",
            "\n",
            "R[write to console]: Installing package into ‘/usr/local/lib/R/site-library’\n",
            "(as ‘lib’ is unspecified)\n",
            "\n",
            "R[write to console]: trying URL 'https://cran.rstudio.com/src/contrib/preseqR_4.0.0.tar.gz'\n",
            "\n",
            "R[write to console]: Content type 'application/x-gzip'\n",
            "R[write to console]:  length 84783 bytes (82 KB)\n",
            "\n",
            "R[write to console]: =\n",
            "R[write to console]: =\n",
            "R[write to console]: =\n",
            "R[write to console]: =\n",
            "R[write to console]: =\n",
            "R[write to console]: =\n",
            "R[write to console]: =\n",
            "R[write to console]: =\n",
            "R[write to console]: =\n",
            "R[write to console]: =\n",
            "R[write to console]: =\n",
            "R[write to console]: =\n",
            "R[write to console]: =\n",
            "R[write to console]: =\n",
            "R[write to console]: =\n",
            "R[write to console]: =\n",
            "R[write to console]: =\n",
            "R[write to console]: =\n",
            "R[write to console]: =\n",
            "R[write to console]: =\n",
            "R[write to console]: =\n",
            "R[write to console]: =\n",
            "R[write to console]: =\n",
            "R[write to console]: =\n",
            "R[write to console]: =\n",
            "R[write to console]: =\n",
            "R[write to console]: =\n",
            "R[write to console]: =\n",
            "R[write to console]: =\n",
            "R[write to console]: =\n",
            "R[write to console]: =\n",
            "R[write to console]: =\n",
            "R[write to console]: =\n",
            "R[write to console]: =\n",
            "R[write to console]: =\n",
            "R[write to console]: =\n",
            "R[write to console]: =\n",
            "R[write to console]: =\n",
            "R[write to console]: =\n",
            "R[write to console]: =\n",
            "R[write to console]: =\n",
            "R[write to console]: =\n",
            "R[write to console]: =\n",
            "R[write to console]: =\n",
            "R[write to console]: =\n",
            "R[write to console]: =\n",
            "R[write to console]: =\n",
            "R[write to console]: =\n",
            "R[write to console]: =\n",
            "R[write to console]: =\n",
            "R[write to console]: \n",
            "\n",
            "R[write to console]: downloaded 82 KB\n",
            "\n",
            "\n",
            "R[write to console]: \n",
            "\n",
            "R[write to console]: \n",
            "R[write to console]: The downloaded source packages are in\n",
            "\t‘/tmp/Rtmp6ni8oj/downloaded_packages’\n",
            "R[write to console]: \n",
            "R[write to console]: \n",
            "\n"
          ],
          "name": "stderr"
        }
      ]
    },
    {
      "cell_type": "markdown",
      "metadata": {
        "id": "x56fjfCSicrp",
        "colab_type": "text"
      },
      "source": [
        "**3. Generate the figures**\n"
      ]
    },
    {
      "cell_type": "code",
      "metadata": {
        "id": "V37XLBAO68oR",
        "colab_type": "code",
        "colab": {}
      },
      "source": [
        "#First set some path variables\n",
        "%%R\n",
        "source(\"GRNP_2020/RCode/pathsGoogleColab.R\")\n"
      ],
      "execution_count": null,
      "outputs": []
    },
    {
      "cell_type": "code",
      "metadata": {
        "id": "R6kuhOmzZL_X",
        "colab_type": "code",
        "colab": {}
      },
      "source": [
        "#Import helpers (available in other notebooks)\n",
        "%%R\n",
        "source(paste0(sourcePath,\"ButterflyHelpers.R\"))\n",
        "source(paste0(sourcePath,\"ggplotHelpers.R\"))\n",
        "source(paste0(sourcePath,\"modZTNB.R\"))\n",
        "\n",
        "\n",
        "\n"
      ],
      "execution_count": null,
      "outputs": []
    },
    {
      "cell_type": "code",
      "metadata": {
        "id": "kqZPO7XjtPPa",
        "colab_type": "code",
        "colab": {}
      },
      "source": [
        "#create figure directory\n",
        "![ -d \"figures\" ] && rm -r figures\n",
        "!mkdir figures"
      ],
      "execution_count": null,
      "outputs": []
    },
    {
      "cell_type": "code",
      "metadata": {
        "id": "tkQeT362BM7V",
        "colab_type": "code",
        "colab": {
          "base_uri": "https://localhost:8080/",
          "height": 977
        },
        "outputId": "ebbde1fc-ec52-4a87-c7ac-667e613b5a22"
      },
      "source": [
        "#Create and save the figures\n",
        "%%R\n",
        "library(ggplot2)\n",
        "library(ggpubr)\n",
        "\n",
        "loadStats(\"EVAL\")\n",
        "\n",
        "################################\n",
        "#Fig 1B, I - histograms per gene \n",
        "################################\n",
        "\n",
        "colors = gg_color_hue(2)\n",
        "\n",
        "#read precalculated histograms\n",
        "h1 = readRDS(paste0(figure_data_path, \"Fig1_h1.RDS\"))\n",
        "h2 = readRDS(paste0(figure_data_path, \"Fig1_h2.RDS\"))\n",
        "\n",
        "df1 = data.frame(x = 1:20, y = h1$density[1:20])#30 for full\n",
        "fig1B_I_1 = ggplot(df1,aes(x=x,y=y)) +\n",
        "  geom_bar(stat=\"identity\", fill = colors[1]) +\n",
        "  labs(y=\"Density\", x=\"Counts per UMI\", title=\"\") +\n",
        "  theme(panel.background = element_rect(\"white\", \"white\", 0, \n",
        "                                          0, \"white\"))\n",
        "print(fig1B_I_1)\n",
        "\n",
        "df2 = data.frame(x = 1:20, y = h2$density[1:20])#30 for full\n",
        "fig1B_I_2 = ggplot(df2,aes(x=x,y=y)) +\n",
        "  geom_bar(stat=\"identity\", fill = colors[2]) +\n",
        "  labs(y=\"Density\", x=\"Counts per UMI\", title=\"\") +\n",
        "  theme(panel.background = element_rect(\"white\", \"white\", 0, \n",
        "                                        0, \"white\"))\n",
        "print(fig1B_I_2)\n",
        "\n",
        "ggsave(\n",
        "  paste0(figure_path, \"fig1B_I_1.png\"),\n",
        "  plot = fig1B_I_1, device = \"png\",\n",
        "  width = 3, height = 2.4, dpi = 300)\n",
        "\n",
        "ggsave(\n",
        "  paste0(figure_path, \"fig1B_I_2.png\"),\n",
        "  plot = fig1B_I_2, device = \"png\",\n",
        "  width = 3, height = 2.4, dpi = 300)\n",
        "\n",
        "\n",
        "\n",
        "\n",
        "\n",
        "\n"
      ],
      "execution_count": null,
      "outputs": [
        {
          "output_type": "display_data",
          "data": {
            "image/png": "[encoded data removed]"
          },
          "metadata": {
            "tags": []
          }
        },
        {
          "output_type": "display_data",
          "data": {
            "image/png": "[encoded data removed]"
          },
          "metadata": {
            "tags": []
          }
        }
      ]
    },
    {
      "cell_type": "code",
      "metadata": {
        "id": "kbl2tuKBgVzn",
        "colab_type": "code",
        "colab": {
          "base_uri": "https://localhost:8080/",
          "height": 1000
        },
        "outputId": "0f44dfe4-43d4-4faa-b3c5-33d26bb80a79"
      },
      "source": [
        "%%R\n",
        "###########################\n",
        "# CU histograms for Fig 1A\n",
        "###########################\n",
        "\n",
        "h3 = c(3,1,0,0,0)\n",
        "df1_1 = data.frame(x = 1:5, y = h3)\n",
        "fig1A_1 = ggplot(df1_1,aes(x=x,y=y)) +\n",
        "  geom_bar(stat=\"identity\", fill = colors[1]) +\n",
        "  scale_y_continuous(breaks = c(0,1,2,3)) +\n",
        "  labs(y=\"UMIs\", x=\"Counts per UMI\", title=\"\") +\n",
        "  theme(panel.background = element_rect(\"white\", \"white\", 0, \n",
        "                                        0, \"white\"))\n",
        "print(fig1A_1)\n",
        "\n",
        "ggsave(\n",
        "  paste0(figure_path, \"fig1A_1.png\"),\n",
        "  plot = fig1A_1, device = \"png\",\n",
        "  width = 2, height = 2, dpi = 300)\n",
        "\n",
        "\n",
        "h4 = c(0,2,2,1,0)\n",
        "df1_2 = data.frame(x = 1:5, y = h4)\n",
        "fig1A_2 = ggplot(df1_2, aes(x=x,y=y)) +\n",
        "  geom_bar(stat=\"identity\", fill = colors[2]) +\n",
        "  scale_y_continuous(breaks = c(0,1,2)) +\n",
        "  labs(y=\"UMIs\", x=\"Counts per UMI\", title=\"\") +\n",
        "  theme(panel.background = element_rect(\"white\", \"white\", 0, \n",
        "                                        0, \"white\"))\n",
        "print(fig1A_2)\n",
        "\n",
        "ggsave(\n",
        "  paste0(figure_path, \"fig1A_2.png\"),\n",
        "  plot = fig1A_2, device = \"png\",\n",
        "  width = 2, height = 2, dpi = 300)\n",
        "\n",
        "#predict h3 and h4\n",
        "dd1_1 = as.matrix(data.frame(1:5,h3));\n",
        "rSAC1_1 = mod.ztnb.rSAC(dd1_1, incTol = 1e-5, iterIncTol = 200);\n",
        "\n",
        "print(paste0(\"Prediction Gene 1: \",rSAC1_1(2)))#6.514601\n",
        "\n",
        "\n",
        "dd1_2 = as.matrix(data.frame(1:5,h4));\n",
        "rSAC1_2 = mod.ztnb.rSAC(dd1_2, incTol = 1e-5, iterIncTol = 200);\n",
        "print(paste0(\"Prediction Gene 2: \",rSAC1_2(2)))#5.375271 "
      ],
      "execution_count": null,
      "outputs": [
        {
          "output_type": "stream",
          "text": [
            "[1] \"Prediction Gene 1: 6.51460104759028\"\n",
            "[1] \"Prediction Gene 2: 5.37527053810671\"\n"
          ],
          "name": "stdout"
        },
        {
          "output_type": "display_data",
          "data": {
            "image/png": "[encoded data removed]"
          },
          "metadata": {
            "tags": []
          }
        },
        {
          "output_type": "display_data",
          "data": {
            "image/png": "[encoded data removed]"
          },
          "metadata": {
            "tags": []
          }
        }
      ]
    },
    {
      "cell_type": "code",
      "metadata": {
        "id": "-1T-lf5KhE3C",
        "colab_type": "code",
        "colab": {
          "base_uri": "https://localhost:8080/",
          "height": 497
        },
        "outputId": "618350ff-1312-43f5-8bf1-8effc2de000f"
      },
      "source": [
        "#Fig 1 B II:\n",
        "############\n",
        "%%R\n",
        "r1 = data.frame(statsEVAL)[statsEVAL$gene == \"Vmn1r13\",]\n",
        "r2 = data.frame(statsEVAL)[statsEVAL$gene == \"Ubb\",]\n",
        "\n",
        "data1 = c(r1$CPM_EVAL_d_5, r1$CPM_EVAL_d_10, r1$CPM_EVAL_d_20, r1$CPM_EVAL_d_25, r1$CPM_EVAL_d_40, r1$CPM_EVAL_d_60, r1$CPM_EVAL_d_80, r1$CPM_EVAL_d_100)\n",
        "data2 = c(r2$CPM_EVAL_d_5, r2$CPM_EVAL_d_10, r2$CPM_EVAL_d_20, r2$CPM_EVAL_d_25, r2$CPM_EVAL_d_40, r2$CPM_EVAL_d_60, r2$CPM_EVAL_d_80, r2$CPM_EVAL_d_100)\n",
        "\n",
        "data=c(data1,data2)\n",
        "logData = log2(data + 1)\n",
        "gene = factor(c(rep(0,8),rep(1,8)), c(0,1), c(\"Vmn1r13\", \"Ubb\"))\n",
        "x = c(0.05,0.1,0.2,0.25,0.4,0.6,0.8,1);\n",
        "df = data.frame(data=logData, Gene=gene, x=log2(x))\n",
        "\n",
        "dfline = data.frame(x=c(log2(0.25), log2(0.25)), data=c(7.8, 9.5) )\n",
        "dfmark = df[df$x == log2(0.25),]\n",
        "\n",
        "fig1B_II = ggplot(df, aes(x=x, y=data, colour = Gene)) + \n",
        "  geom_line() + geom_point() +\n",
        "  ylab(expression(Log[2]*\"(CPM + 1)\")) +\n",
        "  geom_line(data=dfline, color=\"black\", linetype=2) +\n",
        "  geom_point(data=dfmark, size=6, shape=1, color=\"black\") +\n",
        "  #scale_x_continuous(name=\"Number of reads\", breaks = c(log2(0.05), -3, -2, -1, 0), labels = c(\"1x\", \"2.5x\", \"5x\", \"10x\", \"20x\")) +\n",
        "  scale_x_continuous(name=\"Number of reads\", breaks = c(log2(0.0625), log2(0.125), log2(0.25), log2(0.5), log2(1)), labels = c(\"1/16 x\", \"1/8 x\", \"1/4 x\", \"1/2 x\", \"1 x\")) +\n",
        "  ylim(c(7,10.2)) +\n",
        "  theme(panel.background = element_rect(\"white\", \"white\", 0, \n",
        "                                        0, \"white\"), legend.position= \"none\")\n",
        "\n",
        "print(fig1B_II)\n",
        "\n",
        "ggsave(\n",
        "  paste0(figure_path, \"fig1B_II.png\"),\n",
        "  plot = fig1B_II, device = \"png\",\n",
        "  width = 3, height = 3, dpi = 300)\n"
      ],
      "execution_count": null,
      "outputs": [
        {
          "output_type": "display_data",
          "data": {
            "image/png": "[encoded data removed]"
          },
          "metadata": {
            "tags": []
          }
        }
      ]
    },
    {
      "cell_type": "code",
      "metadata": {
        "id": "a-Ye0YhjhNJk",
        "colab_type": "code",
        "colab": {
          "base_uri": "https://localhost:8080/",
          "height": 497
        },
        "outputId": "f729f695-21d9-4f81-d5f8-14cf0ad2d396"
      },
      "source": [
        "#fig1B_III\n",
        "###############\n",
        "#create prediction data\n",
        "%%R\n",
        "#load precalculated prediction data\n",
        "data1 = unlist(readRDS(paste0(figure_data_path, \"Fig1_r1_III.RDS\"))[2:9]) #skip the gene column\n",
        "data2 = unlist(readRDS(paste0(figure_data_path, \"Fig1_r2_III.RDS\"))[2:9]) #skip the gene column\n",
        "\n",
        "data=c(data1,data2)\n",
        "logData = log2(data + 1)\n",
        "gene = factor(c(rep(0,8),rep(1,8)), c(0,1), c(\"Gene 1 - Vmn1r13\", \"Gene 2 - Ubb\"))\n",
        "x = c(0.05,0.1,0.2,0.25,0.4,0.6,0.8,1);\n",
        "df = data.frame(data=logData, Gene=gene, x=log2(x))\n",
        "dfline = data.frame(x=c(log2(0.25), log2(0.25)), data=c(8.3, 10.13) )\n",
        "dfmark = df[df$x == log2(0.25),]\n",
        "\n",
        "fig1B_III = ggplot(df, aes(x=x, y=data, colour = Gene)) + \n",
        "  geom_line() + geom_point() +\n",
        "  ylab(expression(Log[2]*\"(CPM + 1)\")) +\n",
        "  geom_line(data=dfline, color=\"black\", linetype=2) +\n",
        "  geom_point(data=dfmark, size=6, shape=1, color=\"black\") +\n",
        "  ylim(c(7,10.2)) +\n",
        "  scale_x_continuous(name=\"Number of reads\", breaks = c(log2(0.0625), log2(0.125), log2(0.25), log2(0.5), log2(1)), labels = c(\"1/16 x\", \"1/8 x\", \"1/4 x\", \"1/2 x\", \"1 x\")) +\n",
        "  theme(panel.background = element_rect(\"white\", \"white\", 0, 0, \"white\"), legend.position= \"none\")\n",
        "\n",
        "print(fig1B_III)\n",
        "\n",
        "ggsave(\n",
        "  paste0(figure_path, \"fig1B_III.png\"),\n",
        "  plot = fig1B_III, device = \"png\",\n",
        "  width = 3, height = 3, dpi = 300)"
      ],
      "execution_count": null,
      "outputs": [
        {
          "output_type": "display_data",
          "data": {
            "image/png": "[encoded data removed]"
          },
          "metadata": {
            "tags": []
          }
        }
      ]
    },
    {
      "cell_type": "code",
      "metadata": {
        "id": "g1SbjAplhUqF",
        "colab_type": "code",
        "colab": {
          "base_uri": "https://localhost:8080/",
          "height": 497
        },
        "outputId": "c320b3e9-1016-4535-87a3-7b7766335a57"
      },
      "source": [
        "#create a plot with Legend - copy the legend from here...\n",
        "#uses data from previous plot\n",
        "%%R\n",
        "fig1B_Legend = ggplot(df, aes(x=x, y=data, colour = Gene)) + \n",
        "  geom_line() +\n",
        "  theme(panel.background = element_rect(\"white\", \"white\", 0, \n",
        "        0, \"white\"),legend.position= \"bottom\", legend.direction = \"vertical\", legend.title = element_blank())\n",
        "\n",
        "print(fig1B_Legend)\n",
        "\n",
        "ggsave(\n",
        "  paste0(figure_path, \"fig1B_Legend.png\"),\n",
        "  plot = fig1B_Legend, device = \"png\",\n",
        "  width = 3, height = 3, dpi = 300)\n"
      ],
      "execution_count": null,
      "outputs": [
        {
          "output_type": "display_data",
          "data": {
            "image/png": "[encoded data removed]"
          },
          "metadata": {
            "tags": []
          }
        }
      ]
    },
    {
      "cell_type": "code",
      "metadata": {
        "id": "8IqJrPHJidP5",
        "colab_type": "code",
        "colab": {
          "base_uri": "https://localhost:8080/",
          "height": 85
        },
        "outputId": "2bd1a322-6258-4954-a8d2-c0797c24db8e"
      },
      "source": [
        "####################################\n",
        "#Produce some data for the main text\n",
        "####################################\n",
        "%%R\n",
        "\n",
        "dsExpr = statsEVAL$CPM_EVAL_d_5\n",
        "fullExpr = statsEVAL$CPM_EVAL_d_100\n",
        "gene1 = statsEVAL$gene == \"Vmn1r13\"\n",
        "gene2 = statsEVAL$gene == \"Ubb\"\n",
        "print(paste0(\"FC full dataset (gene 1/2):\", fullExpr[gene1]/fullExpr[gene2]))#2.404394\n",
        "print(paste0(\"FC downsampled (0.05) dataset (gene 2/1):\", dsExpr[gene2]/dsExpr[gene1]))#4.876712\n",
        "\n",
        "#get the full number of reads\n",
        "loadBug(\"EVAL\", 1)\n",
        "print(paste0(\"Total reads full dataset: \", sum(bug_EVAL_100$count)))#29913038\n",
        "rmBug(\"EVAL\", 1)\n",
        "\n",
        "#get the downsampled number of reads\n",
        "loadBug(\"EVAL\", 0.05)\n",
        "print(paste0(\"Total reads downsampled (0.05) dataset: \", sum(bug_EVAL_5$count)))#1495651\n",
        "rmBug(\"EVAL\", 0.05)\n"
      ],
      "execution_count": null,
      "outputs": [
        {
          "output_type": "stream",
          "text": [
            "[1] \"FC full dataset (gene 1/2):2.40439381611066\"\n",
            "[1] \"FC downsampled (0.05) dataset (gene 2/1):4.87671232876712\"\n",
            "[1] \"Total reads full dataset: 29913038\"\n",
            "[1] \"Total reads downsampled (0.05) dataset: 1495651\"\n"
          ],
          "name": "stdout"
        }
      ]
    }
  ]
}