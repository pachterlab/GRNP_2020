{
  "nbformat": 4,
  "nbformat_minor": 0,
  "metadata": {
    "colab": {
      "name": "GenFig3_S20.ipynb",
      "provenance": [],
      "collapsed_sections": [],
      "include_colab_link": true
    },
    "kernelspec": {
      "name": "python3",
      "display_name": "Python 3"
    }
  },
  "cells": [
    {
      "cell_type": "markdown",
      "metadata": {
        "id": "view-in-github",
        "colab_type": "text"
      },
      "source": [
        "<a href=\"https://colab.research.google.com/github/pachterlab/GRNP_2020/blob/master/notebooks/figure_generation/GenFig3_S20.ipynb\" target=\"_parent\"><img src=\"https://colab.research.google.com/assets/colab-badge.svg\" alt=\"Open In Colab\"/></a>"
      ]
    },
    {
      "cell_type": "markdown",
      "metadata": {
        "id": "dhydD96df06z",
        "colab_type": "text"
      },
      "source": [
        "**Generates figure 3 and supplementary figure 20**\n",
        "\n",
        "This notebook generates figures for showing the improvement of BUTTERFLY correction on scRNA-Seq data, by comparing a downsampled and full dataset. Furthermore, we show the effect of \"borrowing\" CU histogram information from similar datasets, and determine the sampling noise, which sets a theoretical maximum performance for the prediction in downsampling scenarios such as this.\n",
        "\n",
        "Steps:\n",
        "1. Download the code and processed data\n",
        "2. Setup the R environment\n",
        "3. Generate the figures\n"
      ]
    },
    {
      "cell_type": "markdown",
      "metadata": {
        "id": "h8RnKVMXgbzr",
        "colab_type": "text"
      },
      "source": [
        "**1. Download the code and processed data**"
      ]
    },
    {
      "cell_type": "code",
      "metadata": {
        "id": "doUAtCxIyOiI",
        "colab_type": "code",
        "colab": {
          "base_uri": "https://localhost:8080/",
          "height": 136
        },
        "outputId": "b4478acf-84ab-4079-cf91-6eec61e4e08c"
      },
      "source": [
        "#download the R code\n",
        "![ -d \"GRNP_2020\" ] && rm -r GRNP_2020\n",
        "\n",
        "!git clone https://github.com/pachterlab/GRNP_2020.git\n"
      ],
      "execution_count": 1,
      "outputs": [
        {
          "output_type": "stream",
          "text": [
            "Cloning into 'GRNP_2020'...\n",
            "remote: Enumerating objects: 61, done.\u001b[K\n",
            "remote: Counting objects:   1% (1/61)\u001b[K\rremote: Counting objects:   3% (2/61)\u001b[K\rremote: Counting objects:   4% (3/61)\u001b[K\rremote: Counting objects:   6% (4/61)\u001b[K\rremote: Counting objects:   8% (5/61)\u001b[K\rremote: Counting objects:   9% (6/61)\u001b[K\rremote: Counting objects:  11% (7/61)\u001b[K\rremote: Counting objects:  13% (8/61)\u001b[K\rremote: Counting objects:  14% (9/61)\u001b[K\rremote: Counting objects:  16% (10/61)\u001b[K\rremote: Counting objects:  18% (11/61)\u001b[K\rremote: Counting objects:  19% (12/61)\u001b[K\rremote: Counting objects:  21% (13/61)\u001b[K\rremote: Counting objects:  22% (14/61)\u001b[K\rremote: Counting objects:  24% (15/61)\u001b[K\rremote: Counting objects:  26% (16/61)\u001b[K\rremote: Counting objects:  27% (17/61)\u001b[K\rremote: Counting objects:  29% (18/61)\u001b[K\rremote: Counting objects:  31% (19/61)\u001b[K\rremote: Counting objects:  32% (20/61)\u001b[K\rremote: Counting objects:  34% (21/61)\u001b[K\rremote: Counting objects:  36% (22/61)\u001b[K\rremote: Counting objects:  37% (23/61)\u001b[K\rremote: Counting objects:  39% (24/61)\u001b[K\rremote: Counting objects:  40% (25/61)\u001b[K\rremote: Counting objects:  42% (26/61)\u001b[K\rremote: Counting objects:  44% (27/61)\u001b[K\rremote: Counting objects:  45% (28/61)\u001b[K\rremote: Counting objects:  47% (29/61)\u001b[K\rremote: Counting objects:  49% (30/61)\u001b[K\rremote: Counting objects:  50% (31/61)\u001b[K\rremote: Counting objects:  52% (32/61)\u001b[K\rremote: Counting objects:  54% (33/61)\u001b[K\rremote: Counting objects:  55% (34/61)\u001b[K\rremote: Counting objects:  57% (35/61)\u001b[K\rremote: Counting objects:  59% (36/61)\u001b[K\rremote: Counting objects:  60% (37/61)\u001b[K\rremote: Counting objects:  62% (38/61)\u001b[K\rremote: Counting objects:  63% (39/61)\u001b[K\rremote: Counting objects:  65% (40/61)\u001b[K\rremote: Counting objects:  67% (41/61)\u001b[K\rremote: Counting objects:  68% (42/61)\u001b[K\rremote: Counting objects:  70% (43/61)\u001b[K\rremote: Counting objects:  72% (44/61)\u001b[K\rremote: Counting objects:  73% (45/61)\u001b[K\rremote: Counting objects:  75% (46/61)\u001b[K\rremote: Counting objects:  77% (47/61)\u001b[K\rremote: Counting objects:  78% (48/61)\u001b[K\rremote: Counting objects:  80% (49/61)\u001b[K\rremote: Counting objects:  81% (50/61)\u001b[K\rremote: Counting objects:  83% (51/61)\u001b[K\rremote: Counting objects:  85% (52/61)\u001b[K\rremote: Counting objects:  86% (53/61)\u001b[K\rremote: Counting objects:  88% (54/61)\u001b[K\rremote: Counting objects:  90% (55/61)\u001b[K\rremote: Counting objects:  91% (56/61)\u001b[K\rremote: Counting objects:  93% (57/61)\u001b[K\rremote: Counting objects:  95% (58/61)\u001b[K\rremote: Counting objects:  96% (59/61)\u001b[K\rremote: Counting objects:  98% (60/61)\u001b[K\rremote: Counting objects: 100% (61/61)\u001b[K\rremote: Counting objects: 100% (61/61), done.\u001b[K\n",
            "remote: Compressing objects: 100% (47/47), done.\u001b[K\n",
            "remote: Total 944 (delta 35), reused 28 (delta 14), pack-reused 883\u001b[K\n",
            "Receiving objects: 100% (944/944), 7.37 MiB | 17.19 MiB/s, done.\n",
            "Resolving deltas: 100% (589/589), done.\n"
          ],
          "name": "stdout"
        }
      ]
    },
    {
      "cell_type": "code",
      "metadata": {
        "id": "dUNSQ1qBZb2g",
        "colab_type": "code",
        "colab": {
          "base_uri": "https://localhost:8080/",
          "height": 947
        },
        "outputId": "700683fc-a42c-48b6-b240-abb7b72d8aeb"
      },
      "source": [
        "#download processed data from Zenodo for all datasets\n",
        "![ -d \"figureData\" ] && rm -r figureData\n",
        "!mkdir figureData\n",
        "!cd figureData && wget https://zenodo.org/record/3909758/files/FigureData.zip?download=1 && unzip 'FigureData.zip?download=1' && rm 'FigureData.zip?download=1'\n",
        "\n",
        "!cd figureData && wget https://zenodo.org/record/3909758/files/PBMC_V3_3.zip?download=1 && unzip 'PBMC_V3_3.zip?download=1' && rm 'PBMC_V3_3.zip?download=1'\n",
        "!cd figureData && wget https://zenodo.org/record/3909758/files/PBMC_V3_2.zip?download=1 && unzip 'PBMC_V3_2.zip?download=1' && rm 'PBMC_V3_2.zip?download=1'\n",
        "!cd figureData && wget https://zenodo.org/record/3909758/files/PBMC_V3.zip?download=1 && unzip 'PBMC_V3.zip?download=1' && rm 'PBMC_V3.zip?download=1'\n",
        "!cd figureData && wget https://zenodo.org/record/3909758/files/PBMC_NG.zip?download=1 && unzip 'PBMC_NG.zip?download=1' && rm 'PBMC_NG.zip?download=1'\n",
        "!cd figureData && wget https://zenodo.org/record/3909758/files/PBMC_NG_2.zip?download=1 && unzip 'PBMC_NG_2.zip?download=1' && rm 'PBMC_NG_2.zip?download=1'\n",
        "!cd figureData && wget https://zenodo.org/record/3909758/files/PBMC_V2.zip?download=1 && unzip 'PBMC_V2.zip?download=1' && rm 'PBMC_V2.zip?download=1'\n",
        "!cd figureData && wget https://zenodo.org/record/3909758/files/EVALPBMC.zip?download=1 && unzip 'EVALPBMC.zip?download=1' && rm 'EVALPBMC.zip?download=1'\n"
      ],
      "execution_count": null,
      "outputs": [
        {
          "output_type": "stream",
          "text": [
            "--2020-07-02 17:08:04--  https://zenodo.org/record/3909758/files/FigureData.zip?download=1\n",
            "Resolving zenodo.org (zenodo.org)... 188.184.117.155\n",
            "Connecting to zenodo.org (zenodo.org)|188.184.117.155|:443... connected.\n",
            "HTTP request sent, awaiting response... 200 OK\n",
            "Length: 4901056 (4.7M) [application/octet-stream]\n",
            "Saving to: ‘FigureData.zip?download=1’\n",
            "\n",
            "FigureData.zip?down 100%[===================>]   4.67M  5.26MB/s    in 0.9s    \n",
            "\n",
            "2020-07-02 17:08:06 (5.26 MB/s) - ‘FigureData.zip?download=1’ saved [4901056/4901056]\n",
            "\n",
            "Archive:  FigureData.zip?download=1\n",
            "  inflating: extreme_genes.txt       \n",
            " extracting: Fig1_h1.RDS             \n",
            " extracting: Fig1_h2.RDS             \n",
            " extracting: Fig1_r1_III.RDS         \n",
            " extracting: Fig1_r2_III.RDS         \n",
            "  inflating: Fig3_ldata.RDS          \n",
            "  inflating: Fig3_ldata2.RDS         \n",
            "  inflating: Fig4_d1.RDS             \n",
            "  inflating: PBMC_V3_3_ds10_20Times.RData  \n",
            "--2020-07-02 17:08:07--  https://zenodo.org/record/3909758/files/PBMC_V3_3.zip?download=1\n",
            "Resolving zenodo.org (zenodo.org)... 188.184.117.155\n",
            "Connecting to zenodo.org (zenodo.org)|188.184.117.155|:443... connected.\n",
            "HTTP request sent, awaiting response... 200 OK\n",
            "Length: 1819306744 (1.7G) [application/octet-stream]\n",
            "Saving to: ‘PBMC_V3_3.zip?download=1’\n",
            "\n",
            "PBMC_V3_3.zip?downl 100%[===================>]   1.69G  15.0MB/s    in 1m 51s  \n",
            "\n",
            "2020-07-02 17:09:59 (15.7 MB/s) - ‘PBMC_V3_3.zip?download=1’ saved [1819306744/1819306744]\n",
            "\n",
            "Archive:  PBMC_V3_3.zip?download=1\n",
            "   creating: PBMC_V3_3/\n",
            "  inflating: PBMC_V3_3/Bug_10.RData  \n",
            "  inflating: PBMC_V3_3/Bug_100.RData  \n",
            "  inflating: PBMC_V3_3/Bug_20.RData  \n",
            "  inflating: PBMC_V3_3/Bug_40.RData  \n",
            "  inflating: PBMC_V3_3/Bug_5.RData   \n",
            "  inflating: PBMC_V3_3/Bug_60.RData  \n",
            "  inflating: PBMC_V3_3/Bug_80.RData  \n",
            "  inflating: PBMC_V3_3/ds_summary.txt  \n",
            "  inflating: PBMC_V3_3/pooledHist.RData  \n",
            "  inflating: PBMC_V3_3/pooledHistDS.RData  \n",
            "  inflating: PBMC_V3_3/PredEvalData.RDS  \n",
            "  inflating: PBMC_V3_3/Stats.RData   \n",
            "--2020-07-02 17:10:21--  https://zenodo.org/record/3909758/files/PBMC_V3_2.zip?download=1\n",
            "Resolving zenodo.org (zenodo.org)... 188.184.117.155\n",
            "Connecting to zenodo.org (zenodo.org)|188.184.117.155|:443... connected.\n",
            "HTTP request sent, awaiting response... 200 OK\n",
            "Length: 1558568885 (1.5G) [application/octet-stream]\n",
            "Saving to: ‘PBMC_V3_2.zip?download=1’\n",
            "\n",
            "PBMC_V3_2.zip?downl  91%[=================>  ]   1.33G  17.2MB/s    eta 8s     "
          ],
          "name": "stdout"
        }
      ]
    },
    {
      "cell_type": "code",
      "metadata": {
        "id": "oesgTqLO0Qje",
        "colab_type": "code",
        "colab": {}
      },
      "source": [
        "#Check that download worked\n",
        "!cd figureData && ls -l && cd PBMC_V3_3 && ls -l"
      ],
      "execution_count": null,
      "outputs": []
    },
    {
      "cell_type": "markdown",
      "metadata": {
        "id": "sCmhNVdYgkWH",
        "colab_type": "text"
      },
      "source": [
        "**2. Prepare the R environment**"
      ]
    },
    {
      "cell_type": "code",
      "metadata": {
        "id": "5Gt6rQkSXriM",
        "colab_type": "code",
        "colab": {}
      },
      "source": [
        "#switch to R mode\n",
        "%reload_ext rpy2.ipython\n"
      ],
      "execution_count": null,
      "outputs": []
    },
    {
      "cell_type": "code",
      "metadata": {
        "id": "jJ3rQJCdgeJa",
        "colab_type": "code",
        "colab": {}
      },
      "source": [
        "#install the R packages and setup paths\n",
        "%%R\n",
        "install.packages(\"dplyr\")\n",
        "#install.packages(\"preseqR\")\n",
        "install.packages(\"ggplot\")\n",
        "install.packages(\"DescTools\")\n",
        "install.packages(\"ggpubr\")\n",
        "\n"
      ],
      "execution_count": null,
      "outputs": []
    },
    {
      "cell_type": "markdown",
      "metadata": {
        "id": "x56fjfCSicrp",
        "colab_type": "text"
      },
      "source": [
        "**3. Define a general function to generate any of the figures S7-S19 save it to disk**\n",
        "\n",
        "This function creates a prediction evaluation figure for a dataset and saves it to file. We show the following five methods.\n",
        "\n",
        "1. Preseq DS (Rational functions approximation), trunkating CU histograms at 2\n",
        "2. Preseq DS, trunkating CU histograms at 20\n",
        "3. Zero-trunkated negative binomial (ZTNB)\n",
        "4. \"Best practice\", which selects Preseq DS (here with histograms trunkated at 2) if the number of copies per molecule CV > 1, otherwise ZTNB.\n",
        "5. Scaling only - scales all genes equally, i.e. makes no advanced prediction\n",
        "\n",
        "The plots are based on a loess fit of the prediction errors."
      ]
    },
    {
      "cell_type": "code",
      "metadata": {
        "id": "V37XLBAO68oR",
        "colab_type": "code",
        "colab": {}
      },
      "source": [
        "#First set some path variables\n",
        "%%R\n",
        "source(\"GRNP_2020/RCode/pathsGoogleColab.R\")\n"
      ],
      "execution_count": null,
      "outputs": []
    },
    {
      "cell_type": "code",
      "metadata": {
        "id": "R6kuhOmzZL_X",
        "colab_type": "code",
        "colab": {}
      },
      "source": [
        "#Import the code for prediction (available in other notebooks)\n",
        "%%R\n",
        "source(paste0(sourcePath,\"ButterflyHelpers.R\"))\n",
        "#source(paste0(sourcePath,\"preseqHelpers.R\"))\n",
        "source(paste0(sourcePath,\"CCCHelpers.R\"))\n",
        "source(paste0(sourcePath,\"ggplotHelpers.R\"))\n",
        "\n",
        "\n",
        "\n"
      ],
      "execution_count": null,
      "outputs": []
    },
    {
      "cell_type": "code",
      "metadata": {
        "id": "kqZPO7XjtPPa",
        "colab_type": "code",
        "colab": {}
      },
      "source": [
        "#create figure directory\n",
        "![ -d \"figures\" ] && rm -r figures\n",
        "!mkdir figures"
      ],
      "execution_count": null,
      "outputs": []
    },
    {
      "cell_type": "code",
      "metadata": {
        "id": "tkQeT362BM7V",
        "colab_type": "code",
        "colab": {}
      },
      "source": [
        "#Create and save the figures\n",
        "%%R\n",
        "library(ggplot2)\n",
        "library(ggpubr)\n",
        "library(hexbin)\n",
        "library(dplyr)\n",
        "\n",
        "\n",
        "ldata = readRDS(paste0(figure_data_path, \"Fig3_ldata.RDS\"))\n",
        "ldata2 = readRDS(paste0(figure_data_path, \"Fig3_ldata2.RDS\"))\n",
        "\n",
        "\n",
        "\n",
        "#generate plot data\n",
        "plotdata = tibble(gene=ldata$gene, \n",
        "                  x=ldata$x, \n",
        "                  nopred=ldata$nopred - ldata$trueval,\n",
        "                  pred=ldata$pred - ldata$trueval,\n",
        "                  poolpred=ldata$poolpred - ldata$trueval)\n",
        "\n",
        "#melt\n",
        "plotdata.m = reshape2::melt(plotdata, id.vars=c(\"gene\",\"x\"), measure.vars = c(\"nopred\", \"pred\", \"poolpred\"))\n",
        "\n",
        "labl = labeller(variable = \n",
        "                      c(\"nopred\" = \"No Correction\",\n",
        "                        \"pred\" = \"Correction\",\n",
        "                        \"poolpred\" = \"Correction using Pooling\"))\n",
        "\n",
        "dfline = data.frame(x=c(0,16), y=c(0,0))\n",
        "\n",
        "dummyData = data.frame(x=c(0,0), y=c(1.1, -1.5)) #used in a trick to set y axis range below\n",
        "\n",
        "fig3 = ggplot(plotdata.m) +\n",
        "  stat_binhex(bins=60,na.rm = TRUE, mapping=aes(x = x, y=value, fill = log(..count..))) + # opts(aspect.ratio = 1) +\n",
        "  facet_wrap(facets = ~  variable, scales = \"free_x\", labeller = labl, ncol=3) +\n",
        "  geom_line(data=dfline, mapping = aes(x=x, y=y), color=\"black\", size=1) + \n",
        "  geom_blank(data = dummyData, mapping = aes(x=x, y=y)) + #trick to set y axis range\n",
        "  labs(y=expression(Log[2]*\" fold change (CPM)\"), x=expression(Log[2]*\"(CPM + 1)\")) +\n",
        "  theme(panel.background = element_rect(\"white\", \"white\", 0, 0, \"white\"),\n",
        "        legend.position= \"bottom\", legend.direction = \"horizontal\",#, legend.title = element_blank())\n",
        "        strip.text.x = element_text(size = 12, face = \"bold\"),\n",
        "        #legend.position= \"none\",\n",
        "        strip.background = element_blank())\n",
        "\n",
        "fig3 # for some reason this plot sometimes fail and show an error (\"hbin\" ...) - Restart R and try again in that case\n",
        "\n",
        "\n",
        "ggsave(\n",
        "  paste0(figure_path, \"Fig3.png\"),\n",
        "  plot = fig3, device = \"png\",\n",
        "  width = 7, height = 4, dpi = 300)\n",
        "\n",
        "\n",
        "#########################\n",
        "# Fig S20 (Sampling noise)\n",
        "#########################\n",
        "#cpm and log transform\n",
        "\n",
        "plotdata2 = tibble(gene=ldata2$gene, \n",
        "                  x=ldata2$x, \n",
        "                  y=ldata2$sampling - ldata$nopred)\n",
        "\n",
        "\n",
        "dfline = data.frame(x=c(0,16), y=c(0,0))\n",
        "dummyData = data.frame(x=c(0,0), y=c(1.1, -1.5))\n",
        "\n",
        "figS20 = ggplot(plotdata2) +\n",
        "  stat_binhex(bins=60,na.rm = TRUE, mapping=aes(x = x, y=y, fill = log(..count..))) + # opts(aspect.ratio = 1) +\n",
        "  #facet_wrap(facets = ~  variable, scales = \"free_x\", labeller = labl, ncol=3) +\n",
        "  geom_line(data=dfline, mapping = aes(x=x, y=y), color=\"black\", size=1) + \n",
        "  geom_blank(data = dummyData, mapping = aes(x=x, y=y)) + #trick to set y axis range\n",
        "  labs(y=expression(Log[2]*\" fold change (CPM)\"), x=expression(Log[2]*\"(CPM + 1)\")) +\n",
        "  theme(panel.background = element_rect(\"white\", \"white\", 0, 0, \"white\"),\n",
        "        legend.position= \"bottom\", legend.direction = \"horizontal\",#, legend.title = element_blank())\n",
        "        strip.text.x = element_text(size = 12, face = \"bold\"),\n",
        "        #legend.position= \"none\",\n",
        "        strip.background = element_blank())\n",
        "\n",
        "figS20 # for some reason this plot sometimes fail and show an error (\"hbin\" ...) - Restart R and try again in that case\n",
        "\n",
        "\n",
        "ggsave(\n",
        "  paste0(figure_path, \"FigS20.png\"),\n",
        "  plot = figS20, device = \"png\",\n",
        "  width = 3, height = 4, dpi = 300)\n",
        "\n",
        "\n",
        "\n",
        "#The data to present over the plots\n",
        "\n",
        "\n",
        "print(paste0(\"CCC, no pred: \", getCCC(ldata$nopred, ldata$trueval))) #0.981275291888894\n",
        "print(paste0(\"CCC, pred no pooling: \", getCCC(ldata$pred, ldata$trueval))) #0.993829998877551\n",
        "print(paste0(\"CCC, pred with pooling: \", getCCC(ldata$poolpred, ldata$trueval))) #0.997028015743896\n",
        "print(paste0(\"CCC, no pred, ds 100 times vs ds: \", getCCC(ldata2$nopred, ldata2$sampling))) #0.99890437562339\n",
        "\n",
        "\n",
        "\n",
        "\n",
        "\n"
      ],
      "execution_count": null,
      "outputs": []
    }
  ]
}