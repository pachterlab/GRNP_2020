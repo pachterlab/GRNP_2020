{
  "nbformat": 4,
  "nbformat_minor": 0,
  "metadata": {
    "colab": {
      "name": "GenFig3_S20.ipynb",
      "provenance": [],
      "collapsed_sections": [],
      "include_colab_link": true
    },
    "kernelspec": {
      "name": "python3",
      "display_name": "Python 3"
    }
  },
  "cells": [
    {
      "cell_type": "markdown",
      "metadata": {
        "id": "view-in-github",
        "colab_type": "text"
      },
      "source": [
        "<a href=\"https://colab.research.google.com/github/pachterlab/GRNP_2020/blob/master/notebooks/figure_generation/GenFig3_S20.ipynb\" target=\"_parent\"><img src=\"https://colab.research.google.com/assets/colab-badge.svg\" alt=\"Open In Colab\"/></a>"
      ]
    },
    {
      "cell_type": "markdown",
      "metadata": {
        "id": "dhydD96df06z",
        "colab_type": "text"
      },
      "source": [
        "**Generates figure 3 and supplementary figure 20**\n",
        "\n",
        "This notebook generates figures for showing the improvement of BUTTERFLY correction on scRNA-Seq data, by comparing a downsampled and full dataset. Furthermore, we show the effect of \"borrowing\" CU histogram information from similar datasets, and determine the sampling noise, which sets a theoretical maximum performance for the prediction in downsampling scenarios such as this.\n",
        "\n",
        "Steps:\n",
        "1. Download the code and processed data\n",
        "2. Setup the R environment\n",
        "3. Generate the figures\n"
      ]
    },
    {
      "cell_type": "markdown",
      "metadata": {
        "id": "h8RnKVMXgbzr",
        "colab_type": "text"
      },
      "source": [
        "**1. Download the code and processed data**"
      ]
    },
    {
      "cell_type": "code",
      "metadata": {
        "id": "doUAtCxIyOiI",
        "colab_type": "code",
        "colab": {
          "base_uri": "https://localhost:8080/"
        },
        "outputId": "fa28b226-7b5b-4980-ad4a-39ee56c03c43"
      },
      "source": [
        "#download the R code\n",
        "![ -d \"GRNP_2020\" ] && rm -r GRNP_2020\n",
        "\n",
        "!git clone https://github.com/pachterlab/GRNP_2020.git\n"
      ],
      "execution_count": 1,
      "outputs": [
        {
          "output_type": "stream",
          "text": [
            "Cloning into 'GRNP_2020'...\n",
            "remote: Enumerating objects: 89, done.\u001b[K\n",
            "remote: Counting objects:   1% (1/89)\u001b[K\rremote: Counting objects:   2% (2/89)\u001b[K\rremote: Counting objects:   3% (3/89)\u001b[K\rremote: Counting objects:   4% (4/89)\u001b[K\rremote: Counting objects:   5% (5/89)\u001b[K\rremote: Counting objects:   6% (6/89)\u001b[K\rremote: Counting objects:   7% (7/89)\u001b[K\rremote: Counting objects:   8% (8/89)\u001b[K\rremote: Counting objects:  10% (9/89)\u001b[K\rremote: Counting objects:  11% (10/89)\u001b[K\rremote: Counting objects:  12% (11/89)\u001b[K\rremote: Counting objects:  13% (12/89)\u001b[K\rremote: Counting objects:  14% (13/89)\u001b[K\rremote: Counting objects:  15% (14/89)\u001b[K\rremote: Counting objects:  16% (15/89)\u001b[K\rremote: Counting objects:  17% (16/89)\u001b[K\rremote: Counting objects:  19% (17/89)\u001b[K\rremote: Counting objects:  20% (18/89)\u001b[K\rremote: Counting objects:  21% (19/89)\u001b[K\rremote: Counting objects:  22% (20/89)\u001b[K\rremote: Counting objects:  23% (21/89)\u001b[K\rremote: Counting objects:  24% (22/89)\u001b[K\rremote: Counting objects:  25% (23/89)\u001b[K\rremote: Counting objects:  26% (24/89)\u001b[K\rremote: Counting objects:  28% (25/89)\u001b[K\rremote: Counting objects:  29% (26/89)\u001b[K\rremote: Counting objects:  30% (27/89)\u001b[K\rremote: Counting objects:  31% (28/89)\u001b[K\rremote: Counting objects:  32% (29/89)\u001b[K\rremote: Counting objects:  33% (30/89)\u001b[K\rremote: Counting objects:  34% (31/89)\u001b[K\rremote: Counting objects:  35% (32/89)\u001b[K\rremote: Counting objects:  37% (33/89)\u001b[K\rremote: Counting objects:  38% (34/89)\u001b[K\rremote: Counting objects:  39% (35/89)\u001b[K\rremote: Counting objects:  40% (36/89)\u001b[K\rremote: Counting objects:  41% (37/89)\u001b[K\rremote: Counting objects:  42% (38/89)\u001b[K\rremote: Counting objects:  43% (39/89)\u001b[K\rremote: Counting objects:  44% (40/89)\u001b[K\rremote: Counting objects:  46% (41/89)\u001b[K\rremote: Counting objects:  47% (42/89)\u001b[K\rremote: Counting objects:  48% (43/89)\u001b[K\rremote: Counting objects:  49% (44/89)\u001b[K\rremote: Counting objects:  50% (45/89)\u001b[K\rremote: Counting objects:  51% (46/89)\u001b[K\rremote: Counting objects:  52% (47/89)\u001b[K\rremote: Counting objects:  53% (48/89)\u001b[K\rremote: Counting objects:  55% (49/89)\u001b[K\rremote: Counting objects:  56% (50/89)\u001b[K\rremote: Counting objects:  57% (51/89)\u001b[K\rremote: Counting objects:  58% (52/89)\u001b[K\rremote: Counting objects:  59% (53/89)\u001b[K\rremote: Counting objects:  60% (54/89)\u001b[K\rremote: Counting objects:  61% (55/89)\u001b[K\rremote: Counting objects:  62% (56/89)\u001b[K\rremote: Counting objects:  64% (57/89)\u001b[K\rremote: Counting objects:  65% (58/89)\u001b[K\rremote: Counting objects:  66% (59/89)\u001b[K\rremote: Counting objects:  67% (60/89)\u001b[K\rremote: Counting objects:  68% (61/89)\u001b[K\rremote: Counting objects:  69% (62/89)\u001b[K\rremote: Counting objects:  70% (63/89)\u001b[K\rremote: Counting objects:  71% (64/89)\u001b[K\rremote: Counting objects:  73% (65/89)\u001b[K\rremote: Counting objects:  74% (66/89)\u001b[K\rremote: Counting objects:  75% (67/89)\u001b[K\rremote: Counting objects:  76% (68/89)\u001b[K\rremote: Counting objects:  77% (69/89)\u001b[K\rremote: Counting objects:  78% (70/89)\u001b[K\rremote: Counting objects:  79% (71/89)\u001b[K\rremote: Counting objects:  80% (72/89)\u001b[K\rremote: Counting objects:  82% (73/89)\u001b[K\rremote: Counting objects:  83% (74/89)\u001b[K\rremote: Counting objects:  84% (75/89)\u001b[K\rremote: Counting objects:  85% (76/89)\u001b[K\rremote: Counting objects:  86% (77/89)\u001b[K\rremote: Counting objects:  87% (78/89)\u001b[K\rremote: Counting objects:  88% (79/89)\u001b[K\rremote: Counting objects:  89% (80/89)\u001b[K\rremote: Counting objects:  91% (81/89)\u001b[K\rremote: Counting objects:  92% (82/89)\u001b[K\rremote: Counting objects:  93% (83/89)\u001b[K\rremote: Counting objects:  94% (84/89)\u001b[K\rremote: Counting objects:  95% (85/89)\u001b[K\rremote: Counting objects:  96% (86/89)\u001b[K\rremote: Counting objects:  97% (87/89)\u001b[K\rremote: Counting objects:  98% (88/89)\u001b[K\rremote: Counting objects: 100% (89/89)\u001b[K\rremote: Counting objects: 100% (89/89), done.\u001b[K\n",
            "remote: Compressing objects:   1% (1/69)\u001b[K\rremote: Compressing objects:   2% (2/69)\u001b[K\rremote: Compressing objects:   4% (3/69)\u001b[K\rremote: Compressing objects:   5% (4/69)\u001b[K\rremote: Compressing objects:   7% (5/69)\u001b[K\rremote: Compressing objects:   8% (6/69)\u001b[K\rremote: Compressing objects:  10% (7/69)\u001b[K\rremote: Compressing objects:  11% (8/69)\u001b[K\rremote: Compressing objects:  13% (9/69)\u001b[K\rremote: Compressing objects:  14% (10/69)\u001b[K\rremote: Compressing objects:  15% (11/69)\u001b[K\rremote: Compressing objects:  17% (12/69)\u001b[K\rremote: Compressing objects:  18% (13/69)\u001b[K\rremote: Compressing objects:  20% (14/69)\u001b[K\rremote: Compressing objects:  21% (15/69)\u001b[K\rremote: Compressing objects:  23% (16/69)\u001b[K\rremote: Compressing objects:  24% (17/69)\u001b[K\rremote: Compressing objects:  26% (18/69)\u001b[K\rremote: Compressing objects:  27% (19/69)\u001b[K\rremote: Compressing objects:  28% (20/69)\u001b[K\rremote: Compressing objects:  30% (21/69)\u001b[K\rremote: Compressing objects:  31% (22/69)\u001b[K\rremote: Compressing objects:  33% (23/69)\u001b[K\rremote: Compressing objects:  34% (24/69)\u001b[K\rremote: Compressing objects:  36% (25/69)\u001b[K\rremote: Compressing objects:  37% (26/69)\u001b[K\rremote: Compressing objects:  39% (27/69)\u001b[K\rremote: Compressing objects:  40% (28/69)\u001b[K\rremote: Compressing objects:  42% (29/69)\u001b[K\rremote: Compressing objects:  43% (30/69)\u001b[K\rremote: Compressing objects:  44% (31/69)\u001b[K\rremote: Compressing objects:  46% (32/69)\u001b[K\rremote: Compressing objects:  47% (33/69)\u001b[K\rremote: Compressing objects:  49% (34/69)\u001b[K\rremote: Compressing objects:  50% (35/69)\u001b[K\rremote: Compressing objects:  52% (36/69)\u001b[K\rremote: Compressing objects:  53% (37/69)\u001b[K\rremote: Compressing objects:  55% (38/69)\u001b[K\rremote: Compressing objects:  56% (39/69)\u001b[K\rremote: Compressing objects:  57% (40/69)\u001b[K\rremote: Compressing objects:  59% (41/69)\u001b[K\rremote: Compressing objects:  60% (42/69)\u001b[K\rremote: Compressing objects:  62% (43/69)\u001b[K\rremote: Compressing objects:  63% (44/69)\u001b[K\rremote: Compressing objects:  65% (45/69)\u001b[K\rremote: Compressing objects:  66% (46/69)\u001b[K\rremote: Compressing objects:  68% (47/69)\u001b[K\rremote: Compressing objects:  69% (48/69)\u001b[K\rremote: Compressing objects:  71% (49/69)\u001b[K\rremote: Compressing objects:  72% (50/69)\u001b[K\rremote: Compressing objects:  73% (51/69)\u001b[K\rremote: Compressing objects:  75% (52/69)\u001b[K\rremote: Compressing objects:  76% (53/69)\u001b[K\rremote: Compressing objects:  78% (54/69)\u001b[K\rremote: Compressing objects:  79% (55/69)\u001b[K\rremote: Compressing objects:  81% (56/69)\u001b[K\rremote: Compressing objects:  82% (57/69)\u001b[K\rremote: Compressing objects:  84% (58/69)\u001b[K\rremote: Compressing objects:  85% (59/69)\u001b[K\rremote: Compressing objects:  86% (60/69)\u001b[K\rremote: Compressing objects:  88% (61/69)\u001b[K\rremote: Compressing objects:  89% (62/69)\u001b[K\rremote: Compressing objects:  91% (63/69)\u001b[K\rremote: Compressing objects:  92% (64/69)\u001b[K\rremote: Compressing objects:  94% (65/69)\u001b[K\rremote: Compressing objects:  95% (66/69)\u001b[K\rremote: Compressing objects:  97% (67/69)\u001b[K\rremote: Compressing objects:  98% (68/69)\u001b[K\rremote: Compressing objects: 100% (69/69)\u001b[K\rremote: Compressing objects: 100% (69/69), done.\u001b[K\n",
            "Receiving objects:   0% (1/972)   \rReceiving objects:   1% (10/972)   \rReceiving objects:   2% (20/972)   \rReceiving objects:   3% (30/972)   \rReceiving objects:   4% (39/972)   \rReceiving objects:   5% (49/972)   \rReceiving objects:   6% (59/972)   \rReceiving objects:   7% (69/972)   \rReceiving objects:   8% (78/972)   \rReceiving objects:   9% (88/972)   \rReceiving objects:  10% (98/972)   \rReceiving objects:  11% (107/972)   \rReceiving objects:  12% (117/972)   \rReceiving objects:  13% (127/972)   \rReceiving objects:  14% (137/972)   \rReceiving objects:  15% (146/972)   \rReceiving objects:  16% (156/972)   \rReceiving objects:  17% (166/972)   \rReceiving objects:  18% (175/972)   \rReceiving objects:  19% (185/972)   \rReceiving objects:  20% (195/972)   \rReceiving objects:  21% (205/972)   \rReceiving objects:  22% (214/972)   \rReceiving objects:  23% (224/972)   \rReceiving objects:  24% (234/972)   \rReceiving objects:  25% (243/972)   \rReceiving objects:  26% (253/972)   \rReceiving objects:  27% (263/972)   \rReceiving objects:  28% (273/972)   \rReceiving objects:  29% (282/972)   \rReceiving objects:  30% (292/972)   \rReceiving objects:  31% (302/972)   \rReceiving objects:  32% (312/972)   \rReceiving objects:  33% (321/972)   \rReceiving objects:  34% (331/972)   \rReceiving objects:  35% (341/972)   \rReceiving objects:  36% (350/972)   \rReceiving objects:  37% (360/972)   \rReceiving objects:  38% (370/972)   \rReceiving objects:  39% (380/972)   \rReceiving objects:  40% (389/972)   \rReceiving objects:  41% (399/972)   \rReceiving objects:  42% (409/972)   \rReceiving objects:  43% (418/972)   \rReceiving objects:  44% (428/972)   \rReceiving objects:  45% (438/972)   \rReceiving objects:  46% (448/972)   \rReceiving objects:  47% (457/972)   \rReceiving objects:  48% (467/972)   \rReceiving objects:  49% (477/972)   \rReceiving objects:  50% (486/972)   \rReceiving objects:  51% (496/972)   \rReceiving objects:  52% (506/972)   \rReceiving objects:  53% (516/972)   \rReceiving objects:  54% (525/972)   \rReceiving objects:  55% (535/972)   \rReceiving objects:  56% (545/972)   \rReceiving objects:  57% (555/972)   \rReceiving objects:  58% (564/972)   \rReceiving objects:  59% (574/972)   \rReceiving objects:  60% (584/972)   \rReceiving objects:  61% (593/972)   \rReceiving objects:  62% (603/972)   \rReceiving objects:  63% (613/972)   \rReceiving objects:  64% (623/972)   \rReceiving objects:  65% (632/972)   \rReceiving objects:  66% (642/972)   \rReceiving objects:  67% (652/972)   \rReceiving objects:  68% (661/972)   \rReceiving objects:  69% (671/972)   \rReceiving objects:  70% (681/972)   \rReceiving objects:  71% (691/972)   \rReceiving objects:  72% (700/972)   \rReceiving objects:  73% (710/972)   \rReceiving objects:  74% (720/972)   \rReceiving objects:  75% (729/972)   \rReceiving objects:  76% (739/972)   \rReceiving objects:  77% (749/972)   \rReceiving objects:  78% (759/972)   \rReceiving objects:  79% (768/972)   \rReceiving objects:  80% (778/972)   \rReceiving objects:  81% (788/972)   \rremote: Total 972 (delta 54), reused 40 (delta 20), pack-reused 883\u001b[K\n",
            "Receiving objects:  82% (798/972)   \rReceiving objects:  83% (807/972)   \rReceiving objects:  84% (817/972)   \rReceiving objects:  85% (827/972)   \rReceiving objects:  86% (836/972)   \rReceiving objects:  87% (846/972)   \rReceiving objects:  88% (856/972)   \rReceiving objects:  89% (866/972)   \rReceiving objects:  90% (875/972)   \rReceiving objects:  91% (885/972)   \rReceiving objects:  92% (895/972)   \rReceiving objects:  93% (904/972)   \rReceiving objects:  94% (914/972)   \rReceiving objects:  95% (924/972)   \rReceiving objects:  96% (934/972)   \rReceiving objects:  97% (943/972)   \rReceiving objects:  98% (953/972)   \rReceiving objects:  99% (963/972)   \rReceiving objects: 100% (972/972)   \rReceiving objects: 100% (972/972), 7.38 MiB | 18.38 MiB/s, done.\n",
            "Resolving deltas:   0% (0/608)   \rResolving deltas:   2% (18/608)   \rResolving deltas:   4% (26/608)   \rResolving deltas:   5% (32/608)   \rResolving deltas:   6% (37/608)   \rResolving deltas:   7% (45/608)   \rResolving deltas:   8% (50/608)   \rResolving deltas:  10% (61/608)   \rResolving deltas:  11% (67/608)   \rResolving deltas:  12% (75/608)   \rResolving deltas:  30% (184/608)   \rResolving deltas:  31% (194/608)   \rResolving deltas:  34% (212/608)   \rResolving deltas:  37% (227/608)   \rResolving deltas:  39% (240/608)   \rResolving deltas:  41% (251/608)   \rResolving deltas:  42% (259/608)   \rResolving deltas:  51% (316/608)   \rResolving deltas:  52% (317/608)   \rResolving deltas:  54% (332/608)   \rResolving deltas:  71% (437/608)   \rResolving deltas:  72% (441/608)   \rResolving deltas:  73% (444/608)   \rResolving deltas:  74% (450/608)   \rResolving deltas:  75% (456/608)   \rResolving deltas:  76% (464/608)   \rResolving deltas:  78% (480/608)   \rResolving deltas:  79% (481/608)   \rResolving deltas:  80% (488/608)   \rResolving deltas:  81% (495/608)   \rResolving deltas:  82% (501/608)   \rResolving deltas:  84% (511/608)   \rResolving deltas:  85% (517/608)   \rResolving deltas:  87% (529/608)   \rResolving deltas:  88% (538/608)   \rResolving deltas: 100% (608/608)   \rResolving deltas: 100% (608/608), done.\n"
          ],
          "name": "stdout"
        }
      ]
    },
    {
      "cell_type": "code",
      "metadata": {
        "id": "dUNSQ1qBZb2g",
        "colab_type": "code",
        "colab": {
          "base_uri": "https://localhost:8080/"
        },
        "outputId": "51fba29a-14fd-4362-f7bf-dbada13efed7"
      },
      "source": [
        "#download processed data from Zenodo for all datasets\n",
        "![ -d \"figureData\" ] && rm -r figureData\n",
        "!mkdir figureData\n",
        "!cd figureData && wget https://zenodo.org/record/3909758/files/FigureData.zip?download=1 && unzip 'FigureData.zip?download=1' && rm 'FigureData.zip?download=1'\n",
        "\n",
        "!cd figureData && wget https://zenodo.org/record/3909758/files/PBMC_V3_3.zip?download=1 && unzip 'PBMC_V3_3.zip?download=1' && rm 'PBMC_V3_3.zip?download=1'\n",
        "!cd figureData && wget https://zenodo.org/record/3909758/files/PBMC_V3_2.zip?download=1 && unzip 'PBMC_V3_2.zip?download=1' && rm 'PBMC_V3_2.zip?download=1'\n",
        "!cd figureData && wget https://zenodo.org/record/3909758/files/PBMC_V3.zip?download=1 && unzip 'PBMC_V3.zip?download=1' && rm 'PBMC_V3.zip?download=1'\n",
        "!cd figureData && wget https://zenodo.org/record/3909758/files/PBMC_NG.zip?download=1 && unzip 'PBMC_NG.zip?download=1' && rm 'PBMC_NG.zip?download=1'\n",
        "!cd figureData && wget https://zenodo.org/record/3909758/files/PBMC_NG_2.zip?download=1 && unzip 'PBMC_NG_2.zip?download=1' && rm 'PBMC_NG_2.zip?download=1'\n",
        "!cd figureData && wget https://zenodo.org/record/3909758/files/PBMC_V2.zip?download=1 && unzip 'PBMC_V2.zip?download=1' && rm 'PBMC_V2.zip?download=1'\n",
        "!cd figureData && wget https://zenodo.org/record/3909758/files/EVALPBMC.zip?download=1 && unzip 'EVALPBMC.zip?download=1' && rm 'EVALPBMC.zip?download=1'\n"
      ],
      "execution_count": 2,
      "outputs": [
        {
          "output_type": "error",
          "ename": "MessageError",
          "evalue": "ignored",
          "traceback": [
            "\u001b[0;31m---------------------------------------------------------------------------\u001b[0m",
            "\u001b[0;31mMessageError\u001b[0m                              Traceback (most recent call last)",
            "\u001b[0;32m<ipython-input-2-efb5b28240c8>\u001b[0m in \u001b[0;36m<module>\u001b[0;34m()\u001b[0m\n\u001b[1;32m      1\u001b[0m \u001b[0;31m#download processed data from Zenodo for all datasets\u001b[0m\u001b[0;34m\u001b[0m\u001b[0;34m\u001b[0m\u001b[0;34m\u001b[0m\u001b[0m\n\u001b[0;32m----> 2\u001b[0;31m \u001b[0mget_ipython\u001b[0m\u001b[0;34m(\u001b[0m\u001b[0;34m)\u001b[0m\u001b[0;34m.\u001b[0m\u001b[0msystem\u001b[0m\u001b[0;34m(\u001b[0m\u001b[0;34m'[ -d \"figureData\" ] && rm -r figureData'\u001b[0m\u001b[0;34m)\u001b[0m\u001b[0;34m\u001b[0m\u001b[0;34m\u001b[0m\u001b[0m\n\u001b[0m\u001b[1;32m      3\u001b[0m \u001b[0mget_ipython\u001b[0m\u001b[0;34m(\u001b[0m\u001b[0;34m)\u001b[0m\u001b[0;34m.\u001b[0m\u001b[0msystem\u001b[0m\u001b[0;34m(\u001b[0m\u001b[0;34m'mkdir figureData'\u001b[0m\u001b[0;34m)\u001b[0m\u001b[0;34m\u001b[0m\u001b[0;34m\u001b[0m\u001b[0m\n\u001b[1;32m      4\u001b[0m \u001b[0mget_ipython\u001b[0m\u001b[0;34m(\u001b[0m\u001b[0;34m)\u001b[0m\u001b[0;34m.\u001b[0m\u001b[0msystem\u001b[0m\u001b[0;34m(\u001b[0m\u001b[0;34m\"cd figureData && wget https://zenodo.org/record/3909758/files/FigureData.zip?download=1 && unzip 'FigureData.zip?download=1' && rm 'FigureData.zip?download=1'\"\u001b[0m\u001b[0;34m)\u001b[0m\u001b[0;34m\u001b[0m\u001b[0;34m\u001b[0m\u001b[0m\n\u001b[1;32m      5\u001b[0m \u001b[0;34m\u001b[0m\u001b[0m\n",
            "\u001b[0;32m/usr/local/lib/python3.6/dist-packages/google/colab/_shell.py\u001b[0m in \u001b[0;36msystem\u001b[0;34m(self, *args, **kwargs)\u001b[0m\n\u001b[1;32m    100\u001b[0m       \u001b[0mkwargs\u001b[0m\u001b[0;34m.\u001b[0m\u001b[0mupdate\u001b[0m\u001b[0;34m(\u001b[0m\u001b[0;34m{\u001b[0m\u001b[0;34m'also_return_output'\u001b[0m\u001b[0;34m:\u001b[0m \u001b[0;32mTrue\u001b[0m\u001b[0;34m}\u001b[0m\u001b[0;34m)\u001b[0m\u001b[0;34m\u001b[0m\u001b[0;34m\u001b[0m\u001b[0m\n\u001b[1;32m    101\u001b[0m \u001b[0;34m\u001b[0m\u001b[0m\n\u001b[0;32m--> 102\u001b[0;31m     \u001b[0moutput\u001b[0m \u001b[0;34m=\u001b[0m \u001b[0m_system_commands\u001b[0m\u001b[0;34m.\u001b[0m\u001b[0m_system_compat\u001b[0m\u001b[0;34m(\u001b[0m\u001b[0mself\u001b[0m\u001b[0;34m,\u001b[0m \u001b[0;34m*\u001b[0m\u001b[0margs\u001b[0m\u001b[0;34m,\u001b[0m \u001b[0;34m**\u001b[0m\u001b[0mkwargs\u001b[0m\u001b[0;34m)\u001b[0m  \u001b[0;31m# pylint:disable=protected-access\u001b[0m\u001b[0;34m\u001b[0m\u001b[0;34m\u001b[0m\u001b[0m\n\u001b[0m\u001b[1;32m    103\u001b[0m \u001b[0;34m\u001b[0m\u001b[0m\n\u001b[1;32m    104\u001b[0m     \u001b[0;32mif\u001b[0m \u001b[0mpip_warn\u001b[0m\u001b[0;34m:\u001b[0m\u001b[0;34m\u001b[0m\u001b[0;34m\u001b[0m\u001b[0m\n",
            "\u001b[0;32m/usr/local/lib/python3.6/dist-packages/google/colab/_system_commands.py\u001b[0m in \u001b[0;36m_system_compat\u001b[0;34m(shell, cmd, also_return_output)\u001b[0m\n\u001b[1;32m    436\u001b[0m   \u001b[0;31m# stack.\u001b[0m\u001b[0;34m\u001b[0m\u001b[0;34m\u001b[0m\u001b[0;34m\u001b[0m\u001b[0m\n\u001b[1;32m    437\u001b[0m   result = _run_command(\n\u001b[0;32m--> 438\u001b[0;31m       shell.var_expand(cmd, depth=2), clear_streamed_output=False)\n\u001b[0m\u001b[1;32m    439\u001b[0m   \u001b[0mshell\u001b[0m\u001b[0;34m.\u001b[0m\u001b[0muser_ns\u001b[0m\u001b[0;34m[\u001b[0m\u001b[0;34m'_exit_code'\u001b[0m\u001b[0;34m]\u001b[0m \u001b[0;34m=\u001b[0m \u001b[0mresult\u001b[0m\u001b[0;34m.\u001b[0m\u001b[0mreturncode\u001b[0m\u001b[0;34m\u001b[0m\u001b[0;34m\u001b[0m\u001b[0m\n\u001b[1;32m    440\u001b[0m   \u001b[0;32mif\u001b[0m \u001b[0;34m-\u001b[0m\u001b[0mresult\u001b[0m\u001b[0;34m.\u001b[0m\u001b[0mreturncode\u001b[0m \u001b[0;32min\u001b[0m \u001b[0m_INTERRUPTED_SIGNALS\u001b[0m\u001b[0;34m:\u001b[0m\u001b[0;34m\u001b[0m\u001b[0;34m\u001b[0m\u001b[0m\n",
            "\u001b[0;32m/usr/local/lib/python3.6/dist-packages/google/colab/_system_commands.py\u001b[0m in \u001b[0;36m_run_command\u001b[0;34m(cmd, clear_streamed_output)\u001b[0m\n\u001b[1;32m    179\u001b[0m \u001b[0;34m\u001b[0m\u001b[0m\n\u001b[1;32m    180\u001b[0m     with temporary_clearer(), _display_stdin_widget(\n\u001b[0;32m--> 181\u001b[0;31m         delay_millis=500) as update_stdin_widget:\n\u001b[0m\u001b[1;32m    182\u001b[0m       \u001b[0;31m# TODO(b/115531839): Ensure that subprocesses are terminated upon\u001b[0m\u001b[0;34m\u001b[0m\u001b[0;34m\u001b[0m\u001b[0;34m\u001b[0m\u001b[0m\n\u001b[1;32m    183\u001b[0m       \u001b[0;31m# interrupt.\u001b[0m\u001b[0;34m\u001b[0m\u001b[0;34m\u001b[0m\u001b[0;34m\u001b[0m\u001b[0m\n",
            "\u001b[0;32m/usr/lib/python3.6/contextlib.py\u001b[0m in \u001b[0;36m__enter__\u001b[0;34m(self)\u001b[0m\n\u001b[1;32m     79\u001b[0m     \u001b[0;32mdef\u001b[0m \u001b[0m__enter__\u001b[0m\u001b[0;34m(\u001b[0m\u001b[0mself\u001b[0m\u001b[0;34m)\u001b[0m\u001b[0;34m:\u001b[0m\u001b[0;34m\u001b[0m\u001b[0;34m\u001b[0m\u001b[0m\n\u001b[1;32m     80\u001b[0m         \u001b[0;32mtry\u001b[0m\u001b[0;34m:\u001b[0m\u001b[0;34m\u001b[0m\u001b[0;34m\u001b[0m\u001b[0m\n\u001b[0;32m---> 81\u001b[0;31m             \u001b[0;32mreturn\u001b[0m \u001b[0mnext\u001b[0m\u001b[0;34m(\u001b[0m\u001b[0mself\u001b[0m\u001b[0;34m.\u001b[0m\u001b[0mgen\u001b[0m\u001b[0;34m)\u001b[0m\u001b[0;34m\u001b[0m\u001b[0;34m\u001b[0m\u001b[0m\n\u001b[0m\u001b[1;32m     82\u001b[0m         \u001b[0;32mexcept\u001b[0m \u001b[0mStopIteration\u001b[0m\u001b[0;34m:\u001b[0m\u001b[0;34m\u001b[0m\u001b[0;34m\u001b[0m\u001b[0m\n\u001b[1;32m     83\u001b[0m             \u001b[0;32mraise\u001b[0m \u001b[0mRuntimeError\u001b[0m\u001b[0;34m(\u001b[0m\u001b[0;34m\"generator didn't yield\"\u001b[0m\u001b[0;34m)\u001b[0m \u001b[0;32mfrom\u001b[0m \u001b[0;32mNone\u001b[0m\u001b[0;34m\u001b[0m\u001b[0;34m\u001b[0m\u001b[0m\n",
            "\u001b[0;32m/usr/local/lib/python3.6/dist-packages/google/colab/_system_commands.py\u001b[0m in \u001b[0;36m_display_stdin_widget\u001b[0;34m(delay_millis)\u001b[0m\n\u001b[1;32m    339\u001b[0m   \u001b[0mshell\u001b[0m \u001b[0;34m=\u001b[0m \u001b[0m_ipython\u001b[0m\u001b[0;34m.\u001b[0m\u001b[0mget_ipython\u001b[0m\u001b[0;34m(\u001b[0m\u001b[0;34m)\u001b[0m\u001b[0;34m\u001b[0m\u001b[0;34m\u001b[0m\u001b[0m\n\u001b[1;32m    340\u001b[0m   \u001b[0mdisplay_args\u001b[0m \u001b[0;34m=\u001b[0m \u001b[0;34m[\u001b[0m\u001b[0;34m'cell_display_stdin'\u001b[0m\u001b[0;34m,\u001b[0m \u001b[0;34m{\u001b[0m\u001b[0;34m'delayMillis'\u001b[0m\u001b[0;34m:\u001b[0m \u001b[0mdelay_millis\u001b[0m\u001b[0;34m}\u001b[0m\u001b[0;34m]\u001b[0m\u001b[0;34m\u001b[0m\u001b[0;34m\u001b[0m\u001b[0m\n\u001b[0;32m--> 341\u001b[0;31m   \u001b[0m_message\u001b[0m\u001b[0;34m.\u001b[0m\u001b[0mblocking_request\u001b[0m\u001b[0;34m(\u001b[0m\u001b[0;34m*\u001b[0m\u001b[0mdisplay_args\u001b[0m\u001b[0;34m,\u001b[0m \u001b[0mparent\u001b[0m\u001b[0;34m=\u001b[0m\u001b[0mshell\u001b[0m\u001b[0;34m.\u001b[0m\u001b[0mparent_header\u001b[0m\u001b[0;34m)\u001b[0m\u001b[0;34m\u001b[0m\u001b[0;34m\u001b[0m\u001b[0m\n\u001b[0m\u001b[1;32m    342\u001b[0m \u001b[0;34m\u001b[0m\u001b[0m\n\u001b[1;32m    343\u001b[0m   \u001b[0;32mdef\u001b[0m \u001b[0mecho_updater\u001b[0m\u001b[0;34m(\u001b[0m\u001b[0mnew_echo_status\u001b[0m\u001b[0;34m)\u001b[0m\u001b[0;34m:\u001b[0m\u001b[0;34m\u001b[0m\u001b[0;34m\u001b[0m\u001b[0m\n",
            "\u001b[0;32m/usr/local/lib/python3.6/dist-packages/google/colab/_message.py\u001b[0m in \u001b[0;36mblocking_request\u001b[0;34m(request_type, request, timeout_sec, parent)\u001b[0m\n\u001b[1;32m    169\u001b[0m   \u001b[0;31m# unique.\u001b[0m\u001b[0;34m\u001b[0m\u001b[0;34m\u001b[0m\u001b[0;34m\u001b[0m\u001b[0m\n\u001b[1;32m    170\u001b[0m   \u001b[0mrequest_id\u001b[0m \u001b[0;34m=\u001b[0m \u001b[0msend_request\u001b[0m\u001b[0;34m(\u001b[0m\u001b[0mrequest_type\u001b[0m\u001b[0;34m,\u001b[0m \u001b[0mrequest\u001b[0m\u001b[0;34m,\u001b[0m \u001b[0mparent\u001b[0m\u001b[0;34m=\u001b[0m\u001b[0mparent\u001b[0m\u001b[0;34m)\u001b[0m\u001b[0;34m\u001b[0m\u001b[0;34m\u001b[0m\u001b[0m\n\u001b[0;32m--> 171\u001b[0;31m   \u001b[0;32mreturn\u001b[0m \u001b[0mread_reply_from_input\u001b[0m\u001b[0;34m(\u001b[0m\u001b[0mrequest_id\u001b[0m\u001b[0;34m,\u001b[0m \u001b[0mtimeout_sec\u001b[0m\u001b[0;34m)\u001b[0m\u001b[0;34m\u001b[0m\u001b[0;34m\u001b[0m\u001b[0m\n\u001b[0m",
            "\u001b[0;32m/usr/local/lib/python3.6/dist-packages/google/colab/_message.py\u001b[0m in \u001b[0;36mread_reply_from_input\u001b[0;34m(message_id, timeout_sec)\u001b[0m\n\u001b[1;32m    104\u001b[0m         reply.get('colab_msg_id') == message_id):\n\u001b[1;32m    105\u001b[0m       \u001b[0;32mif\u001b[0m \u001b[0;34m'error'\u001b[0m \u001b[0;32min\u001b[0m \u001b[0mreply\u001b[0m\u001b[0;34m:\u001b[0m\u001b[0;34m\u001b[0m\u001b[0;34m\u001b[0m\u001b[0m\n\u001b[0;32m--> 106\u001b[0;31m         \u001b[0;32mraise\u001b[0m \u001b[0mMessageError\u001b[0m\u001b[0;34m(\u001b[0m\u001b[0mreply\u001b[0m\u001b[0;34m[\u001b[0m\u001b[0;34m'error'\u001b[0m\u001b[0;34m]\u001b[0m\u001b[0;34m)\u001b[0m\u001b[0;34m\u001b[0m\u001b[0;34m\u001b[0m\u001b[0m\n\u001b[0m\u001b[1;32m    107\u001b[0m       \u001b[0;32mreturn\u001b[0m \u001b[0mreply\u001b[0m\u001b[0;34m.\u001b[0m\u001b[0mget\u001b[0m\u001b[0;34m(\u001b[0m\u001b[0;34m'data'\u001b[0m\u001b[0;34m,\u001b[0m \u001b[0;32mNone\u001b[0m\u001b[0;34m)\u001b[0m\u001b[0;34m\u001b[0m\u001b[0;34m\u001b[0m\u001b[0m\n\u001b[1;32m    108\u001b[0m \u001b[0;34m\u001b[0m\u001b[0m\n",
            "\u001b[0;31mMessageError\u001b[0m: CustomError: Timed out waiting for output iframe load."
          ]
        }
      ]
    },
    {
      "cell_type": "code",
      "metadata": {
        "id": "oesgTqLO0Qje",
        "colab_type": "code",
        "colab": {}
      },
      "source": [
        "#Check that download worked\n",
        "!cd figureData && ls -l && cd PBMC_V3_3 && ls -l"
      ],
      "execution_count": null,
      "outputs": []
    },
    {
      "cell_type": "markdown",
      "metadata": {
        "id": "sCmhNVdYgkWH",
        "colab_type": "text"
      },
      "source": [
        "**2. Prepare the R environment**"
      ]
    },
    {
      "cell_type": "code",
      "metadata": {
        "id": "5Gt6rQkSXriM",
        "colab_type": "code",
        "colab": {}
      },
      "source": [
        "#switch to R mode\n",
        "%reload_ext rpy2.ipython\n"
      ],
      "execution_count": null,
      "outputs": []
    },
    {
      "cell_type": "code",
      "metadata": {
        "id": "jJ3rQJCdgeJa",
        "colab_type": "code",
        "colab": {}
      },
      "source": [
        "#install the R packages and setup paths\n",
        "%%R\n",
        "install.packages(\"dplyr\")\n",
        "#install.packages(\"preseqR\")\n",
        "install.packages(\"ggplot\")\n",
        "install.packages(\"DescTools\")\n",
        "install.packages(\"ggpubr\")\n",
        "\n"
      ],
      "execution_count": null,
      "outputs": []
    },
    {
      "cell_type": "markdown",
      "metadata": {
        "id": "x56fjfCSicrp",
        "colab_type": "text"
      },
      "source": [
        "**3. Define a general function to generate any of the figures S7-S19 save it to disk**\n",
        "\n",
        "This function creates a prediction evaluation figure for a dataset and saves it to file. We show the following five methods.\n",
        "\n",
        "1. Preseq DS (Rational functions approximation), trunkating CU histograms at 2\n",
        "2. Preseq DS, trunkating CU histograms at 20\n",
        "3. Zero-trunkated negative binomial (ZTNB)\n",
        "4. \"Best practice\", which selects Preseq DS (here with histograms trunkated at 2) if the number of copies per molecule CV > 1, otherwise ZTNB.\n",
        "5. Scaling only - scales all genes equally, i.e. makes no advanced prediction\n",
        "\n",
        "The plots are based on a loess fit of the prediction errors."
      ]
    },
    {
      "cell_type": "code",
      "metadata": {
        "id": "V37XLBAO68oR",
        "colab_type": "code",
        "colab": {}
      },
      "source": [
        "#First set some path variables\n",
        "%%R\n",
        "source(\"GRNP_2020/RCode/pathsGoogleColab.R\")\n"
      ],
      "execution_count": null,
      "outputs": []
    },
    {
      "cell_type": "code",
      "metadata": {
        "id": "R6kuhOmzZL_X",
        "colab_type": "code",
        "colab": {}
      },
      "source": [
        "#Import the code for prediction (available in other notebooks)\n",
        "%%R\n",
        "source(paste0(sourcePath,\"ButterflyHelpers.R\"))\n",
        "#source(paste0(sourcePath,\"preseqHelpers.R\"))\n",
        "source(paste0(sourcePath,\"CCCHelpers.R\"))\n",
        "source(paste0(sourcePath,\"ggplotHelpers.R\"))\n",
        "\n",
        "\n",
        "\n"
      ],
      "execution_count": null,
      "outputs": []
    },
    {
      "cell_type": "code",
      "metadata": {
        "id": "kqZPO7XjtPPa",
        "colab_type": "code",
        "colab": {}
      },
      "source": [
        "#create figure directory\n",
        "![ -d \"figures\" ] && rm -r figures\n",
        "!mkdir figures"
      ],
      "execution_count": null,
      "outputs": []
    },
    {
      "cell_type": "code",
      "metadata": {
        "id": "tkQeT362BM7V",
        "colab_type": "code",
        "colab": {}
      },
      "source": [
        "#Create and save the figures\n",
        "%%R\n",
        "library(ggplot2)\n",
        "library(ggpubr)\n",
        "library(hexbin)\n",
        "library(dplyr)\n",
        "\n",
        "\n",
        "ldata = readRDS(paste0(figure_data_path, \"Fig3_ldata.RDS\"))\n",
        "ldata2 = readRDS(paste0(figure_data_path, \"Fig3_ldata2.RDS\"))\n",
        "\n",
        "\n",
        "\n",
        "#generate plot data\n",
        "plotdata = tibble(gene=ldata$gene, \n",
        "                  x=ldata$x, \n",
        "                  nopred=ldata$nopred - ldata$trueval,\n",
        "                  pred=ldata$pred - ldata$trueval,\n",
        "                  poolpred=ldata$poolpred - ldata$trueval)\n",
        "\n",
        "#melt\n",
        "plotdata.m = reshape2::melt(plotdata, id.vars=c(\"gene\",\"x\"), measure.vars = c(\"nopred\", \"pred\", \"poolpred\"))\n",
        "\n",
        "labl = labeller(variable = \n",
        "                      c(\"nopred\" = \"No Correction\",\n",
        "                        \"pred\" = \"Correction\",\n",
        "                        \"poolpred\" = \"Correction using Pooling\"))\n",
        "\n",
        "dfline = data.frame(x=c(0,16), y=c(0,0))\n",
        "\n",
        "dummyData = data.frame(x=c(0,0), y=c(1.1, -1.5)) #used in a trick to set y axis range below\n",
        "\n",
        "fig3 = ggplot(plotdata.m) +\n",
        "  stat_binhex(bins=60,na.rm = TRUE, mapping=aes(x = x, y=value, fill = log(..count..))) + # opts(aspect.ratio = 1) +\n",
        "  facet_wrap(facets = ~  variable, scales = \"free_x\", labeller = labl, ncol=3) +\n",
        "  geom_line(data=dfline, mapping = aes(x=x, y=y), color=\"black\", size=1) + \n",
        "  geom_blank(data = dummyData, mapping = aes(x=x, y=y)) + #trick to set y axis range\n",
        "  labs(y=expression(Log[2]*\" fold change (CPM)\"), x=expression(Log[2]*\"(CPM + 1)\")) +\n",
        "  theme(panel.background = element_rect(\"white\", \"white\", 0, 0, \"white\"),\n",
        "        legend.position= \"bottom\", legend.direction = \"horizontal\",#, legend.title = element_blank())\n",
        "        strip.text.x = element_text(size = 12, face = \"bold\"),\n",
        "        #legend.position= \"none\",\n",
        "        strip.background = element_blank())\n",
        "\n",
        "fig3 # for some reason this plot sometimes fail and show an error (\"hbin\" ...) - Restart R and try again in that case\n",
        "\n",
        "\n",
        "ggsave(\n",
        "  paste0(figure_path, \"Fig3.png\"),\n",
        "  plot = fig3, device = \"png\",\n",
        "  width = 7, height = 4, dpi = 300)\n",
        "\n",
        "\n",
        "#########################\n",
        "# Fig S20 (Sampling noise)\n",
        "#########################\n",
        "#cpm and log transform\n",
        "\n",
        "plotdata2 = tibble(gene=ldata2$gene, \n",
        "                  x=ldata2$x, \n",
        "                  y=ldata2$sampling - ldata$nopred)\n",
        "\n",
        "\n",
        "dfline = data.frame(x=c(0,16), y=c(0,0))\n",
        "dummyData = data.frame(x=c(0,0), y=c(1.1, -1.5))\n",
        "\n",
        "figS20 = ggplot(plotdata2) +\n",
        "  stat_binhex(bins=60,na.rm = TRUE, mapping=aes(x = x, y=y, fill = log(..count..))) + # opts(aspect.ratio = 1) +\n",
        "  #facet_wrap(facets = ~  variable, scales = \"free_x\", labeller = labl, ncol=3) +\n",
        "  geom_line(data=dfline, mapping = aes(x=x, y=y), color=\"black\", size=1) + \n",
        "  geom_blank(data = dummyData, mapping = aes(x=x, y=y)) + #trick to set y axis range\n",
        "  labs(y=expression(Log[2]*\" fold change (CPM)\"), x=expression(Log[2]*\"(CPM + 1)\")) +\n",
        "  theme(panel.background = element_rect(\"white\", \"white\", 0, 0, \"white\"),\n",
        "        legend.position= \"bottom\", legend.direction = \"horizontal\",#, legend.title = element_blank())\n",
        "        strip.text.x = element_text(size = 12, face = \"bold\"),\n",
        "        #legend.position= \"none\",\n",
        "        strip.background = element_blank())\n",
        "\n",
        "figS20 # for some reason this plot sometimes fail and show an error (\"hbin\" ...) - Restart R and try again in that case\n",
        "\n",
        "\n",
        "ggsave(\n",
        "  paste0(figure_path, \"FigS20.png\"),\n",
        "  plot = figS20, device = \"png\",\n",
        "  width = 3, height = 4, dpi = 300)\n",
        "\n",
        "\n",
        "\n",
        "#The data to present over the plots\n",
        "\n",
        "\n",
        "print(paste0(\"CCC, no pred: \", getCCC(ldata$nopred, ldata$trueval))) #0.981275291888894\n",
        "print(paste0(\"CCC, pred no pooling: \", getCCC(ldata$pred, ldata$trueval))) #0.993829998877551\n",
        "print(paste0(\"CCC, pred with pooling: \", getCCC(ldata$poolpred, ldata$trueval))) #0.997028015743896\n",
        "print(paste0(\"CCC, no pred, ds 100 times vs ds: \", getCCC(ldata2$nopred, ldata2$sampling))) #0.99890437562339\n",
        "\n",
        "\n",
        "\n",
        "\n",
        "\n"
      ],
      "execution_count": null,
      "outputs": []
    }
  ]
}