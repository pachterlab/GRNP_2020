{
  "nbformat": 4,
  "nbformat_minor": 0,
  "metadata": {
    "colab": {
      "name": "GenFig3_S20.ipynb",
      "provenance": [],
      "collapsed_sections": [],
      "include_colab_link": true
    },
    "kernelspec": {
      "name": "python3",
      "display_name": "Python 3"
    }
  },
  "cells": [
    {
      "cell_type": "markdown",
      "metadata": {
        "id": "view-in-github",
        "colab_type": "text"
      },
      "source": [
        "<a href=\"https://colab.research.google.com/github/pachterlab/GRNP_2020/blob/master/notebooks/figure_generation/GenFigS6-S19.ipynb\" target=\"_parent\"><img src=\"https://colab.research.google.com/assets/colab-badge.svg\" alt=\"Open In Colab\"/></a>"
      ]
    },
    {
      "cell_type": "markdown",
      "metadata": {
        "id": "dhydD96df06z",
        "colab_type": "text"
      },
      "source": [
        "**Generates the supplementary figures S6-S19**\n",
        "\n",
        "This notebook generates the data for the supplementary figures evaluation of prediction methods . There are two types of figures here; fig. S6, which shows the overall performance for all datasets, and figure S7-S19, which are more detailed evaluation for individual datasets. Figures S7-S19 are of the same type, but displaying different datasets. \n",
        "\n",
        "Steps:\n",
        "1. Download the code and processed data\n",
        "2. Setup the R environment\n",
        "3. Define a general function to generate any of the figures S7-S19 save it to disk\n",
        "4. Call the figure generation function for all datasets\n",
        "5. Create an overall evaluation figure over all datasets (Fig. S6)"
      ]
    },
    {
      "cell_type": "markdown",
      "metadata": {
        "id": "h8RnKVMXgbzr",
        "colab_type": "text"
      },
      "source": [
        "**1. Download the code and processed data**"
      ]
    },
    {
      "cell_type": "code",
      "metadata": {
        "id": "doUAtCxIyOiI",
        "colab_type": "code",
        "colab": {
          "base_uri": "https://localhost:8080/",
          "height": 136
        },
        "outputId": "e6c27f50-5275-497b-cc9e-1ca39bc75431"
      },
      "source": [
        "#download the R code\n",
        "![ -d \"GRNP_2020\" ] && rm -r GRNP_2020\n",
        "\n",
        "!git clone https://github.com/pachterlab/GRNP_2020.git\n"
      ],
      "execution_count": 1,
      "outputs": [
        {
          "output_type": "stream",
          "text": [
            "Cloning into 'GRNP_2020'...\n",
            "remote: Enumerating objects: 23, done.\u001b[K\n",
            "remote: Counting objects: 100% (23/23), done.\u001b[K\n",
            "remote: Compressing objects: 100% (18/18), done.\u001b[K\n",
            "remote: Total 906 (delta 10), reused 13 (delta 5), pack-reused 883\u001b[K\n",
            "Receiving objects: 100% (906/906), 7.35 MiB | 22.02 MiB/s, done.\n",
            "Resolving deltas: 100% (564/564), done.\n"
          ],
          "name": "stdout"
        }
      ]
    },
    {
      "cell_type": "code",
      "metadata": {
        "id": "dUNSQ1qBZb2g",
        "colab_type": "code",
        "colab": {
          "base_uri": "https://localhost:8080/",
          "height": 165
        },
        "outputId": "b1c23219-9bb9-48d3-90cc-5db4408a08f8"
      },
      "source": [
        "#download processed data from Zenodo for all datasets\n",
        "![ -d \"data\" ] && rm -r data\n",
        "!mkdir figureData\n",
        "!cd figureData && wget https://zenodo.org/record/3909758/files/EVAL.zip?download=1 && unzip 'EVAL.zip?download=1' && rm 'EVAL.zip?download=1'\n",
        "!cd figureData && wget https://zenodo.org/record/3909758/files/EVALPBMC.zip?download=1 && unzip 'EVALPBMC.zip?download=1' && rm 'EVALPBMC.zip?download=1'\n",
        "!cd figureData && wget https://zenodo.org/record/3909758/files/EVALPBMC_DS.zip?download=1 && unzip 'EVALPBMC_DS.zip?download=1' && rm 'EVALPBMC_DS.zip?download=1'\n",
        "!cd figureData && wget https://zenodo.org/record/3909758/files/EVALPBMC_SW.zip?download=1 && unzip 'EVALPBMC_SW.zip?download=1' && rm 'EVALPBMC_SW.zip?download=1'\n",
        "!cd figureData && wget https://zenodo.org/record/3909758/files/MRET.zip?download=1 && unzip 'MRET.zip?download=1' && rm 'MRET.zip?download=1'\n",
        "!cd figureData && wget https://zenodo.org/record/3909758/files/MRET2.zip?download=1 && unzip 'MRET2.zip?download=1' && rm 'MRET2.zip?download=1'\n",
        "!cd figureData && wget https://zenodo.org/record/3909758/files/LC.zip?download=1 && unzip 'LC.zip?download=1' && rm 'LC.zip?download=1'\n",
        "!cd figureData && wget https://zenodo.org/record/3909758/files/PBMC_V2.zip?download=1 && unzip 'PBMC_V2.zip?download=1' && rm 'PBMC_V2.zip?download=1'\n",
        "!cd figureData && wget https://zenodo.org/record/3909758/files/PBMC_V3.zip?download=1 && unzip 'PBMC_V3.zip?download=1' && rm 'PBMC_V3.zip?download=1'\n",
        "!cd figureData && wget https://zenodo.org/record/3909758/files/PBMC_V3_2.zip?download=1 && unzip 'PBMC_V3_2.zip?download=1' && rm 'PBMC_V3_2.zip?download=1'\n",
        "!cd figureData && wget https://zenodo.org/record/3909758/files/PBMC_V3_3.zip?download=1 && unzip 'PBMC_V3_3.zip?download=1' && rm 'PBMC_V3_3.zip?download=1'\n",
        "!cd figureData && wget https://zenodo.org/record/3909758/files/PBMC_NG.zip?download=1 && unzip 'PBMC_NG.zip?download=1' && rm 'PBMC_NG.zip?download=1'\n",
        "!cd figureData && wget https://zenodo.org/record/3909758/files/PBMC_NG_2.zip?download=1 && unzip 'PBMC_NG_2.zip?download=1' && rm 'PBMC_NG_2.zip?download=1'\n"
      ],
      "execution_count": null,
      "outputs": [
        {
          "output_type": "stream",
          "text": [
            "--2020-07-02 14:56:27--  https://zenodo.org/record/3909758/files/EVAL.zip?download=1\n",
            "Resolving zenodo.org (zenodo.org)... 188.184.117.155\n",
            "Connecting to zenodo.org (zenodo.org)|188.184.117.155|:443... connected.\n",
            "HTTP request sent, awaiting response... 200 OK\n",
            "Length: 206479312 (197M) [application/octet-stream]\n",
            "Saving to: ‘EVAL.zip?download=1’\n",
            "\n",
            "EVAL.zip?download=1  73%[=============>      ] 144.86M  18.7MB/s    eta 4s     "
          ],
          "name": "stdout"
        }
      ]
    },
    {
      "cell_type": "code",
      "metadata": {
        "id": "oesgTqLO0Qje",
        "colab_type": "code",
        "colab": {}
      },
      "source": [
        "#Check that download worked\n",
        "!cd figureData && ls -l && cd EVAL && ls -l"
      ],
      "execution_count": null,
      "outputs": []
    },
    {
      "cell_type": "markdown",
      "metadata": {
        "id": "sCmhNVdYgkWH",
        "colab_type": "text"
      },
      "source": [
        "**2. Prepare the R environment**"
      ]
    },
    {
      "cell_type": "code",
      "metadata": {
        "id": "5Gt6rQkSXriM",
        "colab_type": "code",
        "colab": {}
      },
      "source": [
        "#switch to R mode\n",
        "%reload_ext rpy2.ipython\n"
      ],
      "execution_count": null,
      "outputs": []
    },
    {
      "cell_type": "code",
      "metadata": {
        "id": "jJ3rQJCdgeJa",
        "colab_type": "code",
        "colab": {}
      },
      "source": [
        "#install the R packages and setup paths\n",
        "%%R\n",
        "install.packages(\"dplyr\")\n",
        "#install.packages(\"preseqR\")\n",
        "install.packages(\"ggplot\")\n",
        "install.packages(\"DescTools\")\n",
        "install.packages(\"ggpubr\")\n",
        "\n"
      ],
      "execution_count": null,
      "outputs": []
    },
    {
      "cell_type": "markdown",
      "metadata": {
        "id": "x56fjfCSicrp",
        "colab_type": "text"
      },
      "source": [
        "**3. Define a general function to generate any of the figures S7-S19 save it to disk**\n",
        "\n",
        "This function creates a prediction evaluation figure for a dataset and saves it to file. We show the following five methods.\n",
        "\n",
        "1. Preseq DS (Rational functions approximation), trunkating CU histograms at 2\n",
        "2. Preseq DS, trunkating CU histograms at 20\n",
        "3. Zero-trunkated negative binomial (ZTNB)\n",
        "4. \"Best practice\", which selects Preseq DS (here with histograms trunkated at 2) if the number of copies per molecule CV > 1, otherwise ZTNB.\n",
        "5. Scaling only - scales all genes equally, i.e. makes no advanced prediction\n",
        "\n",
        "The plots are based on a loess fit of the prediction errors."
      ]
    },
    {
      "cell_type": "code",
      "metadata": {
        "id": "V37XLBAO68oR",
        "colab_type": "code",
        "colab": {}
      },
      "source": [
        "#First set some path variables\n",
        "%%R\n",
        "source(\"GRNP_2020/RCode/pathsGoogleColab.R\")\n"
      ],
      "execution_count": null,
      "outputs": []
    },
    {
      "cell_type": "code",
      "metadata": {
        "id": "R6kuhOmzZL_X",
        "colab_type": "code",
        "colab": {}
      },
      "source": [
        "#Import the code for prediction (available in other notebooks)\n",
        "%%R\n",
        "source(paste0(sourcePath,\"ButterflyHelpers.R\"))\n",
        "#source(paste0(sourcePath,\"preseqHelpers.R\"))\n",
        "source(paste0(sourcePath,\"CCCHelpers.R\"))\n",
        "source(paste0(sourcePath,\"ggplotHelpers.R\"))\n",
        "\n",
        "\n",
        "\n"
      ],
      "execution_count": null,
      "outputs": []
    },
    {
      "cell_type": "code",
      "metadata": {
        "id": "tkQeT362BM7V",
        "colab_type": "code",
        "colab": {}
      },
      "source": [
        "#Define a function that creates a figure for a dataset\n",
        "%%R\n",
        "library(\"ggpubr\")\n",
        "\n",
        "PlotEvaluationForDS <- function(dsid) {\n",
        "  filename = paste0(figure_data_path, dsid, \"/PredEvalData.RDS\")\n",
        "  dsdata <- readRDS(filename)\n",
        "  x = dsdata[[1]]\n",
        "  dsCounts = dsdata[[2]]\n",
        "  predGT005 = dsdata[[3]]\n",
        "  predPSDS005_2 = dsdata[[4]]\n",
        "  predPSDS005_20 = dsdata[[5]]\n",
        "  predPSZTNB005 = dsdata[[6]]\n",
        "  \n",
        "  predds_20 = dsdata[[7]]\n",
        "  predds_2 = dsdata[[8]]\n",
        "  predztnb = dsdata[[9]]\n",
        "  predbp = dsdata[[10]]\n",
        "  predscaled = dsdata[[11]]\n",
        "  fracOnes = dsdata[[12]]\n",
        "  fullUMIs = dsdata[[13]]\n",
        "  umis = dsdata[[14]]\n",
        "  merged2srt = dsdata[[15]]\n",
        "\n",
        "  colors = gg_color_hue(6);#make sure to get the same colors in all plots\n",
        "  \n",
        "  \n",
        "  dat = c(predGT005, predPSDS005_2, predPSDS005_20, predPSZTNB005)\n",
        "  meth = factor(c(rep(0,7),rep(1,7), rep(2,7), rep(3,7)), c(0,1,2,3), c(\"Good-Toulmin\", \"DS, MT=2\", \"DS, MT=20\", \"ZTNB\"))\n",
        "  x = c(0.05,0.1,0.2,0.4,0.6,0.8,1);\n",
        "  xes = c(x,x,x,x)\n",
        "  df = data.frame(data=dat, Method=meth, x=xes)\n",
        "  df2 = data.frame(data=dsCounts, x = x)\n",
        "  \n",
        "  p3_1 = ggplot(df, aes(x=x, y=data)) + \n",
        "    geom_line(aes(colour = Method), size=1.2) + \n",
        "    geom_point(data=df2) +\n",
        "    ggtitle(\"Prediction, All Genes\") +\n",
        "    xlab(\"Down-sampling factor\") + ylab(\"UMIs\") + \n",
        "    coord_cartesian(ylim = c(0, 1.1*max(predPSDS005_2[7], predPSDS005_20[7], predPSZTNB005[7]))) +\n",
        "    theme(legend.justification = c(\"right\", \"bottom\"), legend.position= c(0.98, 0.02), legend.title = element_blank()) + \n",
        "    scale_color_manual(values=colors[c(1,3:5)])\n",
        "  #print(p3_1)\n",
        "  \n",
        "  \n",
        "  \n",
        "  ######################################################################\n",
        "  #make a plot showing relative error as a function of number of UMIs per gene\n",
        "  ######################################################################\n",
        "  \n",
        "  logumis = log2(umis) #so the x axis is the number of UMIs, but for Log fold change, we normalize on library size\n",
        "  \n",
        "  #assign scaled to infinite values (just a few points, doesn't really affect much):\n",
        "  predds_20[is.infinite(predds_20)] = predscaled[is.infinite(predds_20)]\n",
        "  predds_2[is.infinite(predds_2)] = predscaled[is.infinite(predds_2)]\n",
        "  predztnb[is.infinite(predztnb)] = predscaled[is.infinite(predztnb)]\n",
        "  predbp[is.infinite(predbp)] = predscaled[is.infinite(predbp)]\n",
        "  \n",
        "  \n",
        "  #calculate lfc\n",
        "  lfc_ds_20 = log2((predds_20/sum(predds_20))/(fullUMIs/sum(fullUMIs)))\n",
        "  lfc_ds_2 = log2((predds_2/sum(predds_2))/(fullUMIs/sum(fullUMIs)))\n",
        "  lfc_ztnb = log2((predztnb/sum(predztnb))/(fullUMIs/sum(fullUMIs)))\n",
        "  lfc_bp = log2((predbp/sum(predbp))/(fullUMIs/sum(fullUMIs)))\n",
        "  lfc_scaled = log2((predscaled/sum(predscaled))/(fullUMIs/sum(fullUMIs)))\n",
        "  \n",
        "\n",
        "  \n",
        "  #Fig 3_2-3_5\n",
        "  \n",
        "  dfplot = data.frame(x=logumis, y=lfc_ds_2)\n",
        "  dfline = data.frame(x=c(0,max(logumis)), y=c(0,0))\n",
        "  \n",
        "  p3_2 = ggplot(dfplot,aes(x=x,y=y)) + \n",
        "    geom_point(shape=1) + #(alpha=0.3, shape=1) + #, size=1) + \n",
        "    geom_line(data=dfline, color=\"red\", size=1) + \n",
        "    ylim(-5.5,3) +\n",
        "    ggtitle(\"Preseq, DS, MT=2\") +\n",
        "    labs(y=expression(Log[2]*\" fold change\"), x=expression(Log[2]*\"(UMIs)\"))\n",
        "  \n",
        "  #print(p3_2)\n",
        "  \n",
        "  dfplot = data.frame(x=logumis, y=lfc_ds_20)\n",
        "\n",
        "  p3_3 = ggplot(dfplot,aes(x=x,y=y)) + \n",
        "    geom_point(shape=1) + #(alpha=0.3, shape=1) + #, size=1) + \n",
        "    geom_line(data=dfline, color=\"red\", size=1) + \n",
        "    ylim(-5.5,3) +\n",
        "    ggtitle(\"Preseq, DS, MT=20\") +\n",
        "    labs(y=expression(Log[2]*\" fold change\"), x=expression(Log[2]*\"(UMIs)\"))\n",
        "  \n",
        "  #print(p3_3)\n",
        "  \n",
        "  dfplot = data.frame(x=logumis, y=lfc_ztnb)\n",
        "\n",
        "  p3_4 = ggplot(dfplot,aes(x=x,y=y)) + \n",
        "    geom_point(shape=1) + #(alpha=0.3, shape=1) + #, size=1) + \n",
        "    geom_line(data=dfline, color=\"red\", size=1) + \n",
        "    ylim(-5.5,3) +\n",
        "    ggtitle(\"Preseq, ZTNB\") +\n",
        "    labs(y=expression(Log[2]*\" fold change\"), x=expression(Log[2]*\"(UMIs)\"))\n",
        "  \n",
        "  #print(p3_4)\n",
        "  \n",
        "  dfplot = data.frame(x=logumis, y=lfc_scaled)\n",
        "\n",
        "  p3_5 = ggplot(dfplot,aes(x=x,y=y)) + \n",
        "    geom_point(shape=1) + #(alpha=0.3, shape=1) + #, size=1) + \n",
        "    geom_line(data=dfline, color=\"red\", size=1) + \n",
        "    ylim(-5,3) +\n",
        "    ggtitle(\"All Genes Scaled Equally\") +\n",
        "    labs(y=expression(Log[2]*\" fold change\"), x=expression(Log[2]*\"(UMIs)\"))\n",
        "  \n",
        "  #print(p3_5)\n",
        "  \n",
        "\n",
        "  df = data.frame(x=logumis, ds_20=abs(lfc_ds_20), ds_2=abs(lfc_ds_2), ztnb = abs(lfc_ztnb), bp = abs(lfc_bp), scaled = abs(lfc_scaled) )\n",
        "  \n",
        "  #now, a loess for each\n",
        "  #since we have many identical values, we need to aggregate them\n",
        "  #the new value is the mean, and weight is the number of identical values\n",
        "  cons = df %>% group_by(x) %>% summarize(weight=n(), ds_2 = mean(ds_2), ds_20 = mean(ds_20), ztnb = mean(ztnb), bp=mean(bp), scaled = mean(scaled))\n",
        "\n",
        "  \n",
        "  loess_fitds_2 <- loess(ds_2~x, cons, span = 0.75, weights=cons$weight)\n",
        "  yds_2 = predict(loess_fitds_2, cons$x)\n",
        "\n",
        "  loess_fitds_20 <- loess(ds_20~x, cons, span = 0.75, weights=cons$weight)\n",
        "  yds_20 = predict(loess_fitds_20, cons$x)\n",
        "\n",
        "  loess_fitztnb <- loess(ztnb~x, cons, span = 0.75, weights=cons$weight)\n",
        "  yztnb = predict(loess_fitztnb, cons$x)\n",
        "\n",
        "  loess_fitbp <- loess(bp~x, cons, span = 0.75, weights=cons$weight) \n",
        "  ybp = predict(loess_fitbp, cons$x)\n",
        "\n",
        "  loess_fitscaled <- loess(scaled~x, cons, span = 0.75, weights=cons$weight)\n",
        "  yscaled = predict(loess_fitscaled, cons$x)\n",
        "\n",
        "  filt = cons$x <=40 #means no filtering\n",
        "  \n",
        "  xes = rep(cons$x[filt],5)\n",
        "  ys = c(yscaled[filt], yds_2[filt], yds_20[filt], yztnb[filt], ybp[filt])\n",
        "  l = length(cons$x[filt])\n",
        "  meth = factor(c(rep(0,l),rep(1,l), rep(2,l), rep(3,l), rep(4,l)), c(0,1,2,3,4), \n",
        "                c(\"Lin. scaled\", \"DS, MT=2\", \"DS, MT=20\", \"ZTNB\", \"Best pract.\"))\n",
        "\n",
        "  dfplot = data.frame(x=xes, y = ys, Method=meth)\n",
        "  \n",
        "  p3_6 = ggplot(dfplot, aes(x=x, y=y)) + \n",
        "    geom_line(aes(colour = Method), size=1.2) + \n",
        "    ggtitle(\"Prediction per Gene\") +\n",
        "    labs(y=\"abs(LFC)\", x=expression(Log[2]*\"(UMIs)\"))+\n",
        "    coord_cartesian(ylim = c(0,1.2)) +\n",
        "    theme(legend.justification = c(\"right\", \"top\"), legend.position= c(.98, .98), legend.title = element_blank()) + \n",
        "    scale_color_manual(values=colors[2:6])\n",
        "  #print(p3_6)\n",
        "  \n",
        "  \n",
        "  \n",
        "  ################################\n",
        "  # Now merge all figures\n",
        "  ################################\n",
        "  \n",
        "  \n",
        "  figMultTop = ggarrange(p3_1,p3_6, nrow=1, ncol=2, labels=c(\"A\",\"B\"))\n",
        "  figMultBottom = ggarrange(p3_2,p3_3,p3_4,p3_5, nrow=2, ncol=2, labels=c(\"C\",\"D\",\"E\",\"F\"))\n",
        "  figMult = ggarrange(figMultTop, figMultBottom, nrow=2, ncol=1, heights = c(0.75,1),labels=c(\"\",\"\"))\n",
        "  \n",
        "  fig3 = figMult\n",
        "  print(fig3)\n",
        "  ggsave(\n",
        "    paste0(figure_path, \"FigSX_\", dsid, \".png\"),\n",
        "    plot = fig3, device = \"png\",\n",
        "    width = 6, height = 9, dpi = 300)\n",
        "}\n"
      ],
      "execution_count": null,
      "outputs": []
    },
    {
      "cell_type": "markdown",
      "metadata": {
        "id": "YsqeFNdtnLsc",
        "colab_type": "text"
      },
      "source": [
        "**4. Call the figure generation function for all datasets (generates fig. S7-S19)**\n"
      ]
    },
    {
      "cell_type": "code",
      "metadata": {
        "id": "kqZPO7XjtPPa",
        "colab_type": "code",
        "colab": {}
      },
      "source": [
        "#create figure directory\n",
        "![ -d \"figures\" ] && rm -r figures\n",
        "!mkdir figures"
      ],
      "execution_count": null,
      "outputs": []
    },
    {
      "cell_type": "code",
      "metadata": {
        "id": "CffgQFeiW2tc",
        "colab_type": "code",
        "colab": {}
      },
      "source": [
        "%%R\n",
        "PlotEvaluationForDS(\"EVAL\")\n"
      ],
      "execution_count": null,
      "outputs": []
    },
    {
      "cell_type": "code",
      "metadata": {
        "id": "rlOre6P64BjD",
        "colab_type": "code",
        "colab": {}
      },
      "source": [
        "%%R\n",
        "PlotEvaluationForDS(\"EVALPBMC\")\n"
      ],
      "execution_count": null,
      "outputs": []
    },
    {
      "cell_type": "code",
      "metadata": {
        "id": "3v6pyvtc4FuH",
        "colab_type": "code",
        "colab": {}
      },
      "source": [
        "%%R\n",
        "PlotEvaluationForDS(\"EVALPBMC_DS\")\n"
      ],
      "execution_count": null,
      "outputs": []
    },
    {
      "cell_type": "code",
      "metadata": {
        "id": "3CyMogCw4Pn4",
        "colab_type": "code",
        "colab": {}
      },
      "source": [
        "%%R\n",
        "PlotEvaluationForDS(\"EVALPBMC_SW\")\n"
      ],
      "execution_count": null,
      "outputs": []
    },
    {
      "cell_type": "code",
      "metadata": {
        "id": "B1u_DOds4TYT",
        "colab_type": "code",
        "colab": {}
      },
      "source": [
        "%%R\n",
        "PlotEvaluationForDS(\"PBMC_V3\")\n"
      ],
      "execution_count": null,
      "outputs": []
    },
    {
      "cell_type": "code",
      "metadata": {
        "id": "L5csi79d4Y8K",
        "colab_type": "code",
        "colab": {}
      },
      "source": [
        "%%R\n",
        "PlotEvaluationForDS(\"PBMC_V3_2\")\n"
      ],
      "execution_count": null,
      "outputs": []
    },
    {
      "cell_type": "code",
      "metadata": {
        "id": "5bF4oZhN4bWJ",
        "colab_type": "code",
        "colab": {}
      },
      "source": [
        "%%R\n",
        "PlotEvaluationForDS(\"PBMC_V3_3\")\n"
      ],
      "execution_count": null,
      "outputs": []
    },
    {
      "cell_type": "code",
      "metadata": {
        "id": "LgztJiB23285",
        "colab_type": "code",
        "colab": {}
      },
      "source": [
        "%%R\n",
        "PlotEvaluationForDS(\"PBMC_NG\")\n"
      ],
      "execution_count": null,
      "outputs": []
    },
    {
      "cell_type": "code",
      "metadata": {
        "id": "outWqINd4lZm",
        "colab_type": "code",
        "colab": {}
      },
      "source": [
        "%%R\n",
        "PlotEvaluationForDS(\"PBMC_NG_2\")\n"
      ],
      "execution_count": null,
      "outputs": []
    },
    {
      "cell_type": "code",
      "metadata": {
        "id": "bwPDKTex4n5j",
        "colab_type": "code",
        "colab": {}
      },
      "source": [
        "%%R\n",
        "PlotEvaluationForDS(\"PBMC_V2\")\n"
      ],
      "execution_count": null,
      "outputs": []
    },
    {
      "cell_type": "code",
      "metadata": {
        "id": "X3ticS2i4qh3",
        "colab_type": "code",
        "colab": {}
      },
      "source": [
        "%%R\n",
        "PlotEvaluationForDS(\"LC\")\n"
      ],
      "execution_count": null,
      "outputs": []
    },
    {
      "cell_type": "code",
      "metadata": {
        "id": "zfunHfKr4teK",
        "colab_type": "code",
        "colab": {}
      },
      "source": [
        "%%R\n",
        "PlotEvaluationForDS(\"MRET\")\n"
      ],
      "execution_count": null,
      "outputs": []
    },
    {
      "cell_type": "code",
      "metadata": {
        "id": "kAU7Zi1O4v0v",
        "colab_type": "code",
        "colab": {}
      },
      "source": [
        "%%R\n",
        "PlotEvaluationForDS(\"MRET2\")"
      ],
      "execution_count": null,
      "outputs": []
    },
    {
      "cell_type": "markdown",
      "metadata": {
        "id": "Ei1hUWPg3eAU",
        "colab_type": "text"
      },
      "source": [
        "**5. Create an overall evaluation figure over all datasets (Fig. S6)**"
      ]
    },
    {
      "cell_type": "code",
      "metadata": {
        "id": "Hcq05Ugy_DOb",
        "colab_type": "code",
        "colab": {}
      },
      "source": [
        "#Assemble the precalculated data from all datasets:\n",
        "%%R\n",
        "dsidlist = c(\"EVAL\", \"EVALPBMC\", \"EVALPBMC_DS\", \"EVALPBMC_SW\", \"PBMC_V3\", \"PBMC_V3_2\", \"PBMC_V3_3\", \"PBMC_NG\", \"PBMC_NG_2\", \"PBMC_V2\", \"LC\", \"MRET\", \"MRET2\")\n",
        "\n",
        "\n",
        "numds = length(dsidlist)\n",
        "\n",
        "#assemble all data\n",
        "##################\n",
        "\n",
        "dsCounts = matrix(0, ncol=7, nrow=numds)\n",
        "predGT005 = matrix(0, ncol=7, nrow=numds)\n",
        "predPSDS005_2 = matrix(0, ncol=7, nrow=numds)\n",
        "predPSDS005_20 = matrix(0, ncol=7, nrow=numds)\n",
        "predPSZTNB005 = matrix(0, ncol=7, nrow=numds)\n",
        "\n",
        "predds_20 = NULL\n",
        "predds_2 = NULL#vector(mode = \"list\", length = numds)\n",
        "predztnb = NULL\n",
        "predbp = NULL\n",
        "predscaled = NULL\n",
        "fracOnes = vector(mode = \"list\", length = numds)\n",
        "fullUMIs = NULL\n",
        "umis = NULL\n",
        "merged2srt = vector(mode = \"list\", length = numds)\n",
        "\n",
        "cpms_ds20 = NULL\n",
        "cpms_ds2 = NULL\n",
        "cpms_ztnb = NULL\n",
        "cpms_bp = NULL\n",
        "cpms_scaled = NULL\n",
        "cpms_fullumis = NULL\n",
        "\n",
        "for (i in 1:numds) {\n",
        "  filename = paste0(figure_data_path, dsidlist[[i]], \"/PredEvalData.RDS\")\n",
        "  dsdata <- readRDS(filename)\n",
        "  dsCounts[i,] = dsdata[[2]]\n",
        "  predGT005[i,] = dsdata[[3]]\n",
        "  predPSDS005_2[i,] = dsdata[[4]]\n",
        "  predPSDS005_20[i,] = dsdata[[5]]\n",
        "  predPSZTNB005[i,] = dsdata[[6]]\n",
        "  \n",
        "  ds20 = dsdata[[7]]\n",
        "  ds2 = dsdata[[8]]\n",
        "  ztnb = dsdata[[9]]\n",
        "  bp = dsdata[[10]]\n",
        "  scaled = dsdata[[11]]\n",
        "  fullumistmp = dsdata[[13]]\n",
        "  umistmp = dsdata[[14]]\n",
        "  \n",
        "  #assign scaled to infinite values (just a few points, doesn't really affect much):\n",
        "  ds20[is.infinite(ds20)] = scaled[is.infinite(ds20)]\n",
        "  ds2[is.infinite(ds2)] = scaled[is.infinite(ds2)]\n",
        "  ztnb[is.infinite(ztnb)] = scaled[is.infinite(ztnb)]\n",
        "  bp[is.infinite(bp)] = scaled[is.infinite(bp)]\n",
        "  \n",
        "  cpms_ds20 = c(cpms_ds20, ds20*10^6/sum(ds20))\n",
        "  cpms_ds2 = c(cpms_ds2, ds2*10^6/sum(ds2))\n",
        "  cpms_ztnb = c(cpms_ztnb, ztnb*10^6/sum(ztnb))\n",
        "  cpms_bp = c(cpms_bp, bp*10^6/sum(bp))\n",
        "  cpms_scaled = c(cpms_scaled, scaled*10^6/sum(scaled))\n",
        "  cpms_fullumis = c(cpms_fullumis, fullumistmp*10^6/sum(fullumistmp))\n",
        "  \n",
        "  predds_20 = c(predds_20, ds20)\n",
        "  predds_2 = c(predds_2, ds2)\n",
        "  predztnb = c(predztnb, ztnb)\n",
        "  predbp = c(predbp, bp)\n",
        "  predscaled = c(predscaled, scaled)\n",
        "  fullUMIs = c(fullUMIs, fullumistmp)\n",
        "  umis = c(umis, umistmp)\n",
        "}  \n"
      ],
      "execution_count": null,
      "outputs": []
    },
    {
      "cell_type": "code",
      "metadata": {
        "id": "0FAAPyo3_Zqi",
        "colab_type": "code",
        "colab": {}
      },
      "source": [
        "#Fig S6 B\n",
        "#Relative error as a function of number of UMIs per gene, for all datasets combined\n",
        "######################################################################\n",
        "%%R\n",
        "\n",
        "colors = gg_color_hue(6);#make sure to get the same colors in all plots\n",
        "\n",
        "\n",
        "logumis = log2(umis) #so the x axis is the number of UMIs, but for Log fold change, we normalize on library size\n",
        "\n",
        "#calculate lfc\n",
        "lfc_ds_20 = log2(cpms_ds20/cpms_fullumis)\n",
        "lfc_ds_2 = log2(cpms_ds2/cpms_fullumis)\n",
        "lfc_ztnb = log2(cpms_ztnb/cpms_fullumis)\n",
        "lfc_bp = log2(cpms_bp/cpms_fullumis)\n",
        "lfc_scaled = log2(cpms_scaled/cpms_fullumis)\n",
        "\n",
        "#calculate lfc abs\n",
        "lfc_abs_ds_20 = log2((predds_20)/(fullUMIs))\n",
        "lfc_abs_ds_2 = log2((predds_2)/(fullUMIs))\n",
        "lfc_abs_ztnb = log2((predztnb)/(fullUMIs))\n",
        "lfc_abs_bp = log2((predbp)/(fullUMIs))\n",
        "lfc_abs_scaled = log2((predscaled)/(fullUMIs))\n",
        "\n",
        "#calculate CCC vs identity\n",
        "CCCds20 = getCCC(log2(cpms_ds20+1), log2(cpms_fullumis + 1))\n",
        "CCCds2 = getCCC(log2(cpms_ds2+1), log2(cpms_fullumis + 1))\n",
        "CCCztnb = getCCC(log2(cpms_ztnb+1), log2(cpms_fullumis + 1))\n",
        "CCCbp = getCCC(log2(cpms_bp+1), log2(cpms_fullumis + 1))\n",
        "CCCscaled = getCCC(log2(cpms_scaled+1), log2(cpms_fullumis + 1))\n",
        "print(paste0(\"CCC, DS MT=20: \", CCCds20))\n",
        "print(paste0(\"CCC, DS MT=2: \", CCCds2))\n",
        "print(paste0(\"CCC, ZTNB : \", CCCztnb))\n",
        "print(paste0(\"CCC, BP: \", CCCbp))\n",
        "print(paste0(\"CCC, scaled: \", CCCscaled))\n",
        "\n",
        "df = data.frame(x=logumis, ds_20=abs(lfc_ds_20), ds_2=abs(lfc_ds_2), ztnb = abs(lfc_ztnb), bp = abs(lfc_bp), scaled = abs(lfc_scaled) )\n",
        "\n",
        "#now, a loess for each\n",
        "#since we have many identical values, we need to aggregate them\n",
        "#the new value is the mean, and weight is the number of identical values\n",
        "cons = df %>% group_by(x) %>% summarize(weight=n(), ds_2 = mean(ds_2), ds_20 = mean(ds_20), ztnb = mean(ztnb), bp=mean(bp), scaled = mean(scaled))\n",
        "\n",
        "loess_fitds_2 <- loess(ds_2~x, cons, span = 0.75, weights=cons$weight)\n",
        "yds_2 = predict(loess_fitds_2, cons$x)\n",
        "\n",
        "loess_fitds_20 <- loess(ds_20~x, cons, span = 0.75, weights=cons$weight)\n",
        "yds_20 = predict(loess_fitds_20, cons$x)\n",
        "\n",
        "loess_fitztnb <- loess(ztnb~x, cons, span = 0.75, weights=cons$weight)\n",
        "yztnb = predict(loess_fitztnb, cons$x)\n",
        "\n",
        "#skip this one, it is almost identical to ztnb\n",
        "loess_fitbp <- loess(bp~x, cons, span = 0.75, weights=cons$weight) \n",
        "ybp = predict(loess_fitbp, cons$x)\n",
        "\n",
        "loess_fitscaled <- loess(scaled~x, cons, span = 0.75, weights=cons$weight)\n",
        "yscaled = predict(loess_fitscaled, cons$x)\n",
        "\n",
        "#cut xes at 12, the rest is controlled by a single point\n",
        "filt = cons$x <=40 #means no filtering\n",
        "\n",
        "xes = rep(cons$x[filt],5)\n",
        "ys = c(yscaled[filt], yds_2[filt], yds_20[filt], yztnb[filt], ybp[filt])\n",
        "l = length(cons$x[filt])\n",
        "meth = factor(c(rep(0,l),rep(1,l), rep(2,l), rep(3,l), rep(4,l)), c(0,1,2,3,4), \n",
        "              c(\"Lin. scaled\", \"DS, MT=2\", \"DS, MT=20\", \"ZTNB\", \"Best pract.\"))\n",
        "\n",
        "dfplot = data.frame(x=xes, y = ys, Method=meth)\n",
        "\n",
        "figB = ggplot(dfplot, aes(x=x, y=y)) + \n",
        "  geom_line(aes(colour = Method), size=1.2) + \n",
        "  ggtitle(\"CPM Normalized\") +\n",
        "  labs(y=\"abs(LFC)\", x=expression(Log[2]*\"(UMIs)\"))+\n",
        "  \n",
        "  #coord_cartesian(xlim=c(0,15), ylim = c(0,1.2)) +\n",
        "  coord_cartesian(ylim = c(0,1.2)) +\n",
        "  theme(legend.justification = c(\"right\", \"top\"), legend.position= c(.98, .98), legend.title = element_blank()) + \n",
        "  scale_color_manual(values=colors[2:6])\n",
        "print(figB)\n"
      ],
      "execution_count": null,
      "outputs": []
    },
    {
      "cell_type": "code",
      "metadata": {
        "id": "Ff2K_kh2AYhw",
        "colab_type": "code",
        "colab": {}
      },
      "source": [
        "#Fig A: As B, but absolute error instead of CPM normalized\n",
        "################################################################\n",
        "%%R\n",
        "\n",
        "df = data.frame(x=logumis, ds_20=abs(lfc_abs_ds_20), ds_2=abs(lfc_abs_ds_2), ztnb = abs(lfc_abs_ztnb), bp = abs(lfc_abs_bp), scaled = abs(lfc_abs_scaled) )\n",
        "\n",
        "#now, a loess for each\n",
        "#since we have many identical values, we need to aggregate them\n",
        "#the new value is the mean, and weight is the number of identical values\n",
        "cons = df %>% group_by(x) %>% summarize(weight=n(), ds_2 = mean(ds_2), ds_20 = mean(ds_20), ztnb = mean(ztnb), bp=mean(bp), scaled = mean(scaled))\n",
        "\n",
        "\n",
        "loess_fitds_2 <- loess(ds_2~x, cons, span = 0.75, weights=cons$weight)\n",
        "yds_2 = predict(loess_fitds_2, cons$x)\n",
        "\n",
        "loess_fitds_20 <- loess(ds_20~x, cons, span = 0.75, weights=cons$weight)\n",
        "yds_20 = predict(loess_fitds_20, cons$x)\n",
        "#lines(cons$x, yds_20, col=\"gray\", lwd=2)\n",
        "\n",
        "loess_fitztnb <- loess(ztnb~x, cons, span = 0.75, weights=cons$weight)\n",
        "yztnb = predict(loess_fitztnb, cons$x)\n",
        "#lines(cons$x, yztnb, col=\"blue\", lwd=2)\n",
        "\n",
        "#skip this one, it is almost identical to ztnb\n",
        "loess_fitbp <- loess(bp~x, cons, span = 0.75, weights=cons$weight) \n",
        "ybp = predict(loess_fitbp, cons$x)\n",
        "\n",
        "\n",
        "loess_fitscaled <- loess(scaled~x, cons, span = 0.75, weights=cons$weight)\n",
        "yscaled = predict(loess_fitscaled, cons$x)\n",
        "\n",
        "#cut xes at 12, the rest is controlled by a single point\n",
        "filt = cons$x <=40 #means no filtering\n",
        "\n",
        "xes = rep(cons$x[filt],5)\n",
        "ys = c(yscaled[filt], yds_2[filt], yds_20[filt], yztnb[filt], ybp[filt])\n",
        "l = length(cons$x[filt])\n",
        "meth = factor(c(rep(0,l),rep(1,l), rep(2,l), rep(3,l), rep(4,l)), c(0,1,2,3,4), \n",
        "              c(\"Lin. scaled\", \"DS, MT=2\", \"DS, MT=20\", \"ZTNB\", \"Best pract.\"))\n",
        "\n",
        "dfplot = data.frame(x=xes, y = ys, Method=meth)\n",
        "\n",
        "figA = ggplot(dfplot, aes(x=x, y=y)) + \n",
        "  geom_line(aes(colour = Method), size=1.2) + \n",
        "  ggtitle(\"Absolute\") +\n",
        "  labs(y=\"abs(LFC)\", x=expression(Log[2]*\"(UMIs)\"))+\n",
        "  \n",
        "  #coord_cartesian(xlim=c(0,15), ylim = c(0,1.2)) +\n",
        "  coord_cartesian(ylim = c(0,1.2)) +\n",
        "  theme(legend.justification = c(\"right\", \"top\"), legend.position= c(.98, .98), legend.title = element_blank()) + \n",
        "  scale_color_manual(values=colors[2:6])\n",
        "print(figA)\n"
      ],
      "execution_count": null,
      "outputs": []
    },
    {
      "cell_type": "code",
      "metadata": {
        "id": "-fJ9Ha8VAxaA",
        "colab_type": "code",
        "colab": {}
      },
      "source": [
        "################################\n",
        "# Now merge both figures\n",
        "################################\n",
        "%%R\n",
        "\n",
        "figMult = ggarrange(figA, figB, nrow=1, ncol=2, labels=c(\"A\",\"B\"))\n",
        "\n",
        "figS1All = figMult\n",
        "print(figS1All)\n",
        "ggsave(\n",
        "  paste0(figure_path, \"FigS6.png\"),\n",
        "  plot = figS1All, device = \"png\",\n",
        "  width = 6, height = 4, dpi = 300)\n"
      ],
      "execution_count": null,
      "outputs": []
    }
  ]
}