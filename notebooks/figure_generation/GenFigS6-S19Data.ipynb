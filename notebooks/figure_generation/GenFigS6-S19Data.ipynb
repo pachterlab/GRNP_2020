{
  "nbformat": 4,
  "nbformat_minor": 0,
  "metadata": {
    "colab": {
      "name": "GenFigS6-S19Data.ipynb",
      "provenance": [],
      "collapsed_sections": [],
      "include_colab_link": true
    },
    "kernelspec": {
      "name": "python3",
      "display_name": "Python 3"
    }
  },
  "cells": [
    {
      "cell_type": "markdown",
      "metadata": {
        "id": "view-in-github",
        "colab_type": "text"
      },
      "source": [
        "<a href=\"https://colab.research.google.com/github/pachterlab/GRNP_2020/blob/master/notebooks/figure_generation/GenFigS6-S19Data.ipynb\" target=\"_parent\"><img src=\"https://colab.research.google.com/assets/colab-badge.svg\" alt=\"Open In Colab\"/></a>"
      ]
    },
    {
      "cell_type": "markdown",
      "metadata": {
        "id": "dhydD96df06z",
        "colab_type": "text"
      },
      "source": [
        "**Precalculates data for the supplementary figures S6-S19**\n",
        "\n",
        "This notebook precalculates the data for the supplementary figures S6-S19, since there are some heavy calculation steps involved for generating the figures. The most demanding task is prediction of unseen molecules for each gene using the ZTNB method. This notebook may take several hours to run.\n",
        "\n",
        "Steps:\n",
        "1. Download the code and processed data\n",
        "2. Setup the R environment\n",
        "3. Define a general function to precalculate figure data for a dataset and save it to disk\n",
        "4. Call the precalculation function for all datasets"
      ]
    },
    {
      "cell_type": "markdown",
      "metadata": {
        "id": "h8RnKVMXgbzr",
        "colab_type": "text"
      },
      "source": [
        "**1. Download the code and processed data**"
      ]
    },
    {
      "cell_type": "code",
      "metadata": {
        "id": "doUAtCxIyOiI",
        "colab_type": "code",
        "colab": {
          "base_uri": "https://localhost:8080/",
          "height": 136
        },
        "outputId": "b3c081e7-f239-4f18-9d0a-4dfe3e4ccb21"
      },
      "source": [
        "#download the R code\n",
        "![ -d \"GRNP_2020\" ] && rm -r GRNP_2020\n",
        "\n",
        "!git clone https://github.com/pachterlab/GRNP_2020.git\n"
      ],
      "execution_count": 1,
      "outputs": [
        {
          "output_type": "stream",
          "text": [
            "Cloning into 'GRNP_2020'...\n",
            "remote: Enumerating objects: 424, done.\u001b[K\n",
            "remote: Counting objects: 100% (424/424), done.\u001b[K\n",
            "remote: Compressing objects: 100% (351/351), done.\u001b[K\n",
            "remote: Total 847 (delta 274), reused 133 (delta 73), pack-reused 423\u001b[K\n",
            "Receiving objects: 100% (847/847), 7.46 MiB | 19.19 MiB/s, done.\n",
            "Resolving deltas: 100% (502/502), done.\n"
          ],
          "name": "stdout"
        }
      ]
    },
    {
      "cell_type": "code",
      "metadata": {
        "id": "dUNSQ1qBZb2g",
        "colab_type": "code",
        "colab": {
          "base_uri": "https://localhost:8080/",
          "height": 425
        },
        "outputId": "f15fd950-434e-4c0a-e724-5e9b4da939f2"
      },
      "source": [
        "#download processed data from Zenodo for all datasets\n",
        "![ -d \"data\" ] && rm -r data\n",
        "!mkdir figureData\n",
        "!cd figureData && wget https://zenodo.org/record/3909758/files/EVAL.zip?download=1 && unzip 'EVAL.zip?download=1' && rm 'EVAL.zip?download=1'\n",
        "#!cd data && wget https://zenodo.org/record/3909758/files/EVALPBMC.zip?download=1 && unzip 'EVALPBMC.zip?download=1' && rm 'EVALPBMC.zip?download=1'\n",
        "#!cd data && wget https://zenodo.org/record/3909758/files/EVALPBMC_DS.zip?download=1 && unzip 'EVALPBMC_DS.zip?download=1' && rm 'EVALPBMC_DS.zip?download=1'\n",
        "#!cd data && wget https://zenodo.org/record/3909758/files/EVALPBMC_SW.zip?download=1 && unzip 'EVALPBMC_SW.zip?download=1' && rm 'EVALPBMC_SW.zip?download=1'\n",
        "#!cd data && wget https://zenodo.org/record/3909758/files/MRET.zip?download=1 && unzip 'MRET.zip?download=1' && rm 'MRET.zip?download=1'\n",
        "#!cd data && wget https://zenodo.org/record/3909758/files/MRET2.zip?download=1 && unzip 'MRET2.zip?download=1' && rm 'MRET2.zip?download=1'\n",
        "#!cd data && wget https://zenodo.org/record/3909758/files/LC.zip?download=1 && unzip 'LC.zip?download=1' && rm 'LC.zip?download=1'\n",
        "#!cd data && wget https://zenodo.org/record/3909758/files/PBMC_V2.zip?download=1 && unzip 'PBMC_V2.zip?download=1' && rm 'PBMC_V2.zip?download=1'\n",
        "#!cd data && wget https://zenodo.org/record/3909758/files/PBMC_V3.zip?download=1 && unzip 'PBMC_V3.zip?download=1' && rm 'PBMC_V3.zip?download=1'\n",
        "#!cd data && wget https://zenodo.org/record/3909758/files/PBMC_V3_2.zip?download=1 && unzip 'PBMC_V3_2.zip?download=1' && rm 'PBMC_V3_2.zip?download=1'\n",
        "#!cd data && wget https://zenodo.org/record/3909758/files/PBMC_V3_3.zip?download=1 && unzip 'PBMC_V3_3.zip?download=1' && rm 'PBMC_V3_3.zip?download=1'\n",
        "#!cd data && wget https://zenodo.org/record/3909758/files/PBMC_NG.zip?download=1 && unzip 'PBMC_NG.zip?download=1' && rm 'PBMC_NG.zip?download=1'\n",
        "#!cd data && wget https://zenodo.org/record/3909758/files/PBMC_NG_2.zip?download=1 && unzip 'PBMC_NG_2.zip?download=1' && rm 'PBMC_NG_2.zip?download=1'\n"
      ],
      "execution_count": 2,
      "outputs": [
        {
          "output_type": "stream",
          "text": [
            "--2020-07-02 10:15:13--  https://zenodo.org/record/3909758/files/EVAL.zip?download=1\n",
            "Resolving zenodo.org (zenodo.org)... 188.184.117.155\n",
            "Connecting to zenodo.org (zenodo.org)|188.184.117.155|:443... connected.\n",
            "HTTP request sent, awaiting response... 200 OK\n",
            "Length: 206479312 (197M) [application/octet-stream]\n",
            "Saving to: ‘EVAL.zip?download=1’\n",
            "\n",
            "EVAL.zip?download=1 100%[===================>] 196.91M  13.5MB/s    in 12s     \n",
            "\n",
            "2020-07-02 10:15:27 (15.9 MB/s) - ‘EVAL.zip?download=1’ saved [206479312/206479312]\n",
            "\n",
            "Archive:  EVAL.zip?download=1\n",
            "   creating: EVAL/\n",
            "  inflating: EVAL/Bug_10.RData       \n",
            "  inflating: EVAL/Bug_100.RData      \n",
            "  inflating: EVAL/Bug_20.RData       \n",
            "  inflating: EVAL/Bug_25.RData       \n",
            "  inflating: EVAL/Bug_40.RData       \n",
            "  inflating: EVAL/Bug_5.RData        \n",
            "  inflating: EVAL/Bug_60.RData       \n",
            "  inflating: EVAL/Bug_80.RData       \n",
            "  inflating: EVAL/ds_summary.txt     \n",
            "  inflating: EVAL/PredEvalData.RDS   \n",
            "  inflating: EVAL/Stats.RData        \n"
          ],
          "name": "stdout"
        }
      ]
    },
    {
      "cell_type": "code",
      "metadata": {
        "id": "oesgTqLO0Qje",
        "colab_type": "code",
        "colab": {
          "base_uri": "https://localhost:8080/",
          "height": 255
        },
        "outputId": "0fd39383-7706-490d-bd22-65b1932b90c2"
      },
      "source": [
        "#Check that download worked\n",
        "!cd data && ls -l && cd EVAL && ls -l"
      ],
      "execution_count": 3,
      "outputs": [
        {
          "output_type": "stream",
          "text": [
            "total 4\n",
            "drwxr-xr-x 2 root root 4096 Jul  1 19:49 EVAL\n",
            "total 212788\n",
            "-rw-r--r-- 1 root root 37523336 Jun 30 13:45 Bug_100.RData\n",
            "-rw-r--r-- 1 root root 17301493 Jun 30 13:42 Bug_10.RData\n",
            "-rw-r--r-- 1 root root 23443334 Jun 30 13:42 Bug_20.RData\n",
            "-rw-r--r-- 1 root root 25288320 Jun 30 13:42 Bug_25.RData\n",
            "-rw-r--r-- 1 root root 29057075 Jun 30 13:43 Bug_40.RData\n",
            "-rw-r--r-- 1 root root 11226736 Jun 30 13:41 Bug_5.RData\n",
            "-rw-r--r-- 1 root root 32629892 Jun 30 13:44 Bug_60.RData\n",
            "-rw-r--r-- 1 root root 35477251 Jun 30 13:44 Bug_80.RData\n",
            "-rw-r--r-- 1 root root     1025 Jul  1 01:33 ds_summary.txt\n",
            "-rw-r--r-- 1 root root  4167784 Jul  1 20:11 PredEvalData.RDS\n",
            "-rw-r--r-- 1 root root  1761192 Jun 30 13:45 Stats.RData\n"
          ],
          "name": "stdout"
        }
      ]
    },
    {
      "cell_type": "markdown",
      "metadata": {
        "id": "sCmhNVdYgkWH",
        "colab_type": "text"
      },
      "source": [
        "**2. Prepare the R environment**"
      ]
    },
    {
      "cell_type": "code",
      "metadata": {
        "id": "5Gt6rQkSXriM",
        "colab_type": "code",
        "colab": {
          "base_uri": "https://localhost:8080/",
          "height": 85
        },
        "outputId": "4788a24e-d650-4ae7-b138-030be01012d7"
      },
      "source": [
        "#switch to R mode\n",
        "%reload_ext rpy2.ipython\n"
      ],
      "execution_count": 4,
      "outputs": [
        {
          "output_type": "stream",
          "text": [
            "/usr/local/lib/python3.6/dist-packages/rpy2/robjects/pandas2ri.py:14: FutureWarning: pandas.core.index is deprecated and will be removed in a future version.  The public classes are available in the top-level namespace.\n",
            "  from pandas.core.index import Index as PandasIndex\n",
            "/usr/local/lib/python3.6/dist-packages/rpy2/robjects/pandas2ri.py:34: UserWarning: pandas >= 1.0 is not supported.\n",
            "  warnings.warn('pandas >= 1.0 is not supported.')\n"
          ],
          "name": "stderr"
        }
      ]
    },
    {
      "cell_type": "code",
      "metadata": {
        "id": "jJ3rQJCdgeJa",
        "colab_type": "code",
        "colab": {
          "base_uri": "https://localhost:8080/",
          "height": 1000
        },
        "outputId": "78febb70-a89c-4059-9f26-4d865e16c74e"
      },
      "source": [
        "#install the R packages and setup paths\n",
        "%%R\n",
        "#install.packages(\"qdapTools\")\n",
        "install.packages(\"dplyr\")\n",
        "install.packages(\"preseqR\")\n",
        "#install.packages(\"stringdist\")\n"
      ],
      "execution_count": 5,
      "outputs": [
        {
          "output_type": "stream",
          "text": [
            "R[write to console]: Installing package into ‘/usr/local/lib/R/site-library’\n",
            "(as ‘lib’ is unspecified)\n",
            "\n",
            "R[write to console]: trying URL 'https://cran.rstudio.com/src/contrib/dplyr_1.0.0.tar.gz'\n",
            "\n",
            "R[write to console]: Content type 'application/x-gzip'\n",
            "R[write to console]:  length 836651 bytes (817 KB)\n",
            "\n",
            "R[write to console]: =\n",
            "R[write to console]: =\n",
            "R[write to console]: =\n",
            "R[write to console]: =\n",
            "R[write to console]: =\n",
            "R[write to console]: =\n",
            "R[write to console]: =\n",
            "R[write to console]: =\n",
            "R[write to console]: =\n",
            "R[write to console]: =\n",
            "R[write to console]: =\n",
            "R[write to console]: =\n",
            "R[write to console]: =\n",
            "R[write to console]: =\n",
            "R[write to console]: =\n",
            "R[write to console]: =\n",
            "R[write to console]: =\n",
            "R[write to console]: =\n",
            "R[write to console]: =\n",
            "R[write to console]: =\n",
            "R[write to console]: =\n",
            "R[write to console]: =\n",
            "R[write to console]: =\n",
            "R[write to console]: =\n",
            "R[write to console]: =\n",
            "R[write to console]: =\n",
            "R[write to console]: =\n",
            "R[write to console]: =\n",
            "R[write to console]: =\n",
            "R[write to console]: =\n",
            "R[write to console]: =\n",
            "R[write to console]: =\n",
            "R[write to console]: =\n",
            "R[write to console]: =\n",
            "R[write to console]: =\n",
            "R[write to console]: =\n",
            "R[write to console]: =\n",
            "R[write to console]: =\n",
            "R[write to console]: =\n",
            "R[write to console]: =\n",
            "R[write to console]: =\n",
            "R[write to console]: =\n",
            "R[write to console]: =\n",
            "R[write to console]: =\n",
            "R[write to console]: =\n",
            "R[write to console]: =\n",
            "R[write to console]: =\n",
            "R[write to console]: =\n",
            "R[write to console]: =\n",
            "R[write to console]: =\n",
            "R[write to console]: \n",
            "\n",
            "R[write to console]: downloaded 817 KB\n",
            "\n",
            "\n",
            "R[write to console]: \n",
            "\n",
            "R[write to console]: \n",
            "R[write to console]: The downloaded source packages are in\n",
            "\t‘/tmp/Rtmpa0ve7w/downloaded_packages’\n",
            "R[write to console]: \n",
            "R[write to console]: \n",
            "\n",
            "R[write to console]: Installing package into ‘/usr/local/lib/R/site-library’\n",
            "(as ‘lib’ is unspecified)\n",
            "\n",
            "R[write to console]: also installing the dependency ‘polynom’\n",
            "\n",
            "\n",
            "R[write to console]: trying URL 'https://cran.rstudio.com/src/contrib/polynom_1.4-0.tar.gz'\n",
            "\n",
            "R[write to console]: Content type 'application/x-gzip'\n",
            "R[write to console]:  length 243462 bytes (237 KB)\n",
            "\n",
            "R[write to console]: =\n",
            "R[write to console]: =\n",
            "R[write to console]: =\n",
            "R[write to console]: =\n",
            "R[write to console]: =\n",
            "R[write to console]: =\n",
            "R[write to console]: =\n",
            "R[write to console]: =\n",
            "R[write to console]: =\n",
            "R[write to console]: =\n",
            "R[write to console]: =\n",
            "R[write to console]: =\n",
            "R[write to console]: =\n",
            "R[write to console]: =\n",
            "R[write to console]: =\n",
            "R[write to console]: =\n",
            "R[write to console]: =\n",
            "R[write to console]: =\n",
            "R[write to console]: =\n",
            "R[write to console]: =\n",
            "R[write to console]: =\n",
            "R[write to console]: =\n",
            "R[write to console]: =\n",
            "R[write to console]: =\n",
            "R[write to console]: =\n",
            "R[write to console]: =\n",
            "R[write to console]: =\n",
            "R[write to console]: =\n",
            "R[write to console]: =\n",
            "R[write to console]: =\n",
            "R[write to console]: =\n",
            "R[write to console]: =\n",
            "R[write to console]: =\n",
            "R[write to console]: =\n",
            "R[write to console]: =\n",
            "R[write to console]: =\n",
            "R[write to console]: =\n",
            "R[write to console]: =\n",
            "R[write to console]: =\n",
            "R[write to console]: =\n",
            "R[write to console]: =\n",
            "R[write to console]: =\n",
            "R[write to console]: =\n",
            "R[write to console]: =\n",
            "R[write to console]: =\n",
            "R[write to console]: =\n",
            "R[write to console]: =\n",
            "R[write to console]: =\n",
            "R[write to console]: =\n",
            "R[write to console]: =\n",
            "R[write to console]: \n",
            "\n",
            "R[write to console]: downloaded 237 KB\n",
            "\n",
            "\n",
            "R[write to console]: trying URL 'https://cran.rstudio.com/src/contrib/preseqR_4.0.0.tar.gz'\n",
            "\n",
            "R[write to console]: Content type 'application/x-gzip'\n",
            "R[write to console]:  length 84783 bytes (82 KB)\n",
            "\n",
            "R[write to console]: =\n",
            "R[write to console]: =\n",
            "R[write to console]: =\n",
            "R[write to console]: =\n",
            "R[write to console]: =\n",
            "R[write to console]: =\n",
            "R[write to console]: =\n",
            "R[write to console]: =\n",
            "R[write to console]: =\n",
            "R[write to console]: =\n",
            "R[write to console]: =\n",
            "R[write to console]: =\n",
            "R[write to console]: =\n",
            "R[write to console]: =\n",
            "R[write to console]: =\n",
            "R[write to console]: =\n",
            "R[write to console]: =\n",
            "R[write to console]: =\n",
            "R[write to console]: =\n",
            "R[write to console]: =\n",
            "R[write to console]: =\n",
            "R[write to console]: =\n",
            "R[write to console]: =\n",
            "R[write to console]: =\n",
            "R[write to console]: =\n",
            "R[write to console]: =\n",
            "R[write to console]: =\n",
            "R[write to console]: =\n",
            "R[write to console]: =\n",
            "R[write to console]: =\n",
            "R[write to console]: =\n",
            "R[write to console]: =\n",
            "R[write to console]: =\n",
            "R[write to console]: =\n",
            "R[write to console]: =\n",
            "R[write to console]: =\n",
            "R[write to console]: =\n",
            "R[write to console]: =\n",
            "R[write to console]: =\n",
            "R[write to console]: =\n",
            "R[write to console]: =\n",
            "R[write to console]: =\n",
            "R[write to console]: =\n",
            "R[write to console]: =\n",
            "R[write to console]: =\n",
            "R[write to console]: =\n",
            "R[write to console]: =\n",
            "R[write to console]: =\n",
            "R[write to console]: =\n",
            "R[write to console]: =\n",
            "R[write to console]: \n",
            "\n",
            "R[write to console]: downloaded 82 KB\n",
            "\n",
            "\n",
            "R[write to console]: \n",
            "\n",
            "R[write to console]: \n",
            "R[write to console]: The downloaded source packages are in\n",
            "\t‘/tmp/Rtmpa0ve7w/downloaded_packages’\n",
            "R[write to console]: \n",
            "R[write to console]: \n",
            "\n"
          ],
          "name": "stderr"
        }
      ]
    },
    {
      "cell_type": "markdown",
      "metadata": {
        "id": "x56fjfCSicrp",
        "colab_type": "text"
      },
      "source": [
        "**3. Define a general function to precalculate data for a dataset**\n",
        "\n",
        "This function calculates all prediction data needed for the figures. For the A figures, all UMIs from all genes are joined into a single pool, and prediction is done from there. For the other figures (B-F), the predictions are done per gene. We predict using four methods:\n",
        "\n",
        "1. Preseq DS (Rational functions approximation), trunkating CU histograms at 2\n",
        "2. Preseq DS, trunkating CU histograms at 20\n",
        "3. Zero-trunkated negative binomial (ZTNB)\n",
        "4. \"Best practice\", which selects Preseq DS (here with histograms trunkated at 2) if the number of copies per molecule CV > 1, otherwise ZTNB."
      ]
    },
    {
      "cell_type": "code",
      "metadata": {
        "id": "sSlWuq94lvCO",
        "colab_type": "code",
        "colab": {}
      },
      "source": [
        "#create output directory\n",
        "!mkdir figureData"
      ],
      "execution_count": 6,
      "outputs": []
    },
    {
      "cell_type": "code",
      "metadata": {
        "id": "V37XLBAO68oR",
        "colab_type": "code",
        "colab": {}
      },
      "source": [
        "#First set some path variables\n",
        "%%R\n",
        "source(\"GRNP_2020/RCode/pathsGoogleColab.R\")\n"
      ],
      "execution_count": 7,
      "outputs": []
    },
    {
      "cell_type": "code",
      "metadata": {
        "id": "R6kuhOmzZL_X",
        "colab_type": "code",
        "colab": {
          "base_uri": "https://localhost:8080/",
          "height": 255
        },
        "outputId": "49d9b1f8-ec56-46a5-fa24-e4c27f576911"
      },
      "source": [
        "#Import the code for prediction (available in other notebooks)\n",
        "%%R\n",
        "source(paste0(sourcePath,\"ButterflyHelpers.R\"))\n",
        "source(paste0(sourcePath,\"preseqHelpers.R\"))\n",
        "\n",
        "\n",
        "\n"
      ],
      "execution_count": 8,
      "outputs": [
        {
          "output_type": "stream",
          "text": [
            "R[write to console]: \n",
            "Attaching package: ‘dplyr’\n",
            "\n",
            "\n",
            "R[write to console]: The following objects are masked from ‘package:stats’:\n",
            "\n",
            "    filter, lag\n",
            "\n",
            "\n",
            "R[write to console]: The following objects are masked from ‘package:base’:\n",
            "\n",
            "    intersect, setdiff, setequal, union\n",
            "\n",
            "\n"
          ],
          "name": "stderr"
        }
      ]
    },
    {
      "cell_type": "code",
      "metadata": {
        "id": "tkQeT362BM7V",
        "colab_type": "code",
        "colab": {}
      },
      "source": [
        "#Define a function that precalculates the figure data for a dataset\n",
        "%%R\n",
        "GenAlgEvaluationData <- function(dsid) {\n",
        "  loadStats(dsid)\n",
        "  stats = getStats(dsid)\n",
        "  \n",
        "  \n",
        "  ##################################\n",
        "  #first, prediction of all UMIs\n",
        "  ##################################\n",
        "  \n",
        "  #Get UMI counts at all different ds stages\n",
        "  ###########################################\n",
        "  \n",
        "  dss = c(\"5\",\"10\",\"20\",\"40\",\"60\",\"80\",\"100\")\n",
        "  \n",
        "  #generate the columns to extract from stats\n",
        "  colList = dss #allocation of right size\n",
        "  for (i in 1:length(dss)) {\n",
        "    colList[i] = paste0(\"UMIs_\", dsid, \"_d_\", dss[i])\n",
        "  }\n",
        "  extrFromStats = stats[,which(colnames(stats) %in% colList)]\n",
        "  dsCounts = as.numeric(colSums(extrFromStats))\n",
        "\n",
        "  \n",
        "  #get histogram from 0.05:\n",
        "  loadBug(dsid, 0.05)\n",
        "  h = totalCPUHistogram(getBug(dsid, 0.05))\n",
        "  rmBug(dsid, 0.05)\n",
        "\n",
        "  x = c(0.05,0.1,0.2,0.4,0.6,0.8,1)\n",
        "  t = c(1,2,4,8,12,16,20)\n",
        "\n",
        "\n",
        "  #predict with Good-Toulmin\n",
        "  predGT005 = rep(0,length(t))\n",
        "  predGT005[1] = dsCounts[1];\n",
        "  for (i in 2:length(t)) {\n",
        "    predGT005[i] = goodToulmin(h,t[i])\n",
        "  }\n",
        "  \n",
        "  #predict with Preseq DS, mt=20\n",
        "  predPSDS005_20 = rep(0,length(t))\n",
        "  predPSDS005_20[1] = dsCounts[1];\n",
        "  for (i in 2:length(t)) {\n",
        "    predPSDS005_20[i] = predPreSeqDS(h,t[i],20)\n",
        "  }\n",
        "  \n",
        "  #predict with Preseq DS, mt=2\n",
        "  predPSDS005_2 = rep(0,length(t))\n",
        "  predPSDS005_2[1] = dsCounts[1];\n",
        "  for (i in 2:length(t)) {\n",
        "    predPSDS005_2[i] = predPreSeqDS(h,t[i],2)\n",
        "  }\n",
        "  \n",
        "  #predict with Preseq ZTNB\n",
        "  predPSZTNB005 = rep(0,length(t))\n",
        "  predPSZTNB005[1] = dsCounts[1];\n",
        "  for (i in 2:length(t)) {\n",
        "    predPSZTNB005[i] = predPreSeqZTNB(h,t[i]) #just ignore the warnings, deprecated...\n",
        "  }\n",
        "  \n",
        "  ##################################\n",
        "  #now, prediction per gene for different methods\n",
        "  ##################################\n",
        "  \n",
        "  loadBug(dsid, 0.1)\n",
        "  ds10Bug = getBug(dsid, 0.1)\n",
        "  rmBug(dsid, 0.1)\n",
        "\n",
        "  collapsed10 = aggregate(count~gene, ds10Bug, FUN=c) #if you get an error here, you probably defined a variable called \"c\"...\n",
        "  totUMIs10 = sapply(collapsed10$count, FUN=length)\n",
        "  rm(ds10Bug)\n",
        "  \n",
        "  loadBug(dsid, 1)\n",
        "  ds100Bug = getBug(dsid, 1)\n",
        "  rmBug(dsid, 1)\n",
        "  \n",
        "  collapsedFull = aggregate(count~gene, ds100Bug, FUN=c) #if you get an error here, you probably defined a variable called \"c\"...\n",
        "  rm(ds100Bug)\n",
        "  merged2 = inner_join(collapsed10, collapsedFull, by=\"gene\")\n",
        "  rm(collapsed10, collapsedFull)\n",
        "  colnames(merged2) = c(\"gene\", \"DS10\", \"Full\")\n",
        "  \n",
        "  totUMIsFull = sapply(merged2$Full, FUN=length)\n",
        "  #sort the genes on number of UMIs\n",
        "  srt = sort(totUMIs10, index.return=T)\n",
        "  umis = srt$x\n",
        "  merged2srt = merged2[srt$ix,]\n",
        "  \n",
        "  #now predict using both ztnb and ds:\n",
        "  numgenes = dim(merged2srt)[1]\n",
        "  predds_20 = rep(0,numgenes)\n",
        "  predds_2 = rep(0,numgenes)\n",
        "  predztnb = rep(0,numgenes)\n",
        "  predbp = rep(0,numgenes)\n",
        "  predscaled = rep(0,numgenes)\n",
        "  fracOnes = rep(0,numgenes)\n",
        "  fullUMIs = rep(0,numgenes)\n",
        "  \n",
        "  globScale = sum(totUMIsFull)/sum(totUMIs10)\n",
        "\n",
        "  #All quick ones.\n",
        "  print(paste0(\"DS etc.:\", numgenes))\n",
        "  for (i in 1:numgenes) {\n",
        "    if (i %% 1000 == 0) {\n",
        "      print(i)\n",
        "    }\n",
        "    h = hist(merged2srt$DS10[[i]], breaks=seq(0.5, max(merged2srt$DS10[[i]])+0.5, by=1), plot = F)\n",
        "    predds_20[[i]] = predPreSeqDS(h, 10, 20)\n",
        "    predds_2[[i]] = predPreSeqDS(h, 10, 2)\n",
        "    predscaled[[i]] = length(merged2srt$DS10[[i]])*globScale #this resembles CPM\n",
        "    \n",
        "    fullUMIs[[i]] = length(merged2srt$Full[[i]])\n",
        "    \n",
        "    fracOnes[[i]] = h$density[1]\n",
        "  }\n",
        "  \n",
        "  #ztnb\n",
        "  print(paste0(\"ZTNB:\", numgenes))\n",
        "  for (i in 1:numgenes) {\n",
        "    if (i %% 1000 == 0) {\n",
        "      print(i)\n",
        "    }\n",
        "    h = hist(merged2srt$DS10[[i]], breaks=seq(0.5, max(merged2srt$DS10[[i]])+0.5, by=1), plot = F)\n",
        "    predztnb[[i]] = predPreSeqZTNB(h, 10)\n",
        "  }\n",
        "  \n",
        "  #best practice\n",
        "  print(paste0(\"Best practice:\", numgenes))\n",
        "  for (i in 1:numgenes) {\n",
        "    if (i %% 500 == 0) {\n",
        "      print(i)\n",
        "    }\n",
        "    h = hist(merged2srt$DS10[[i]], breaks=seq(0.5, max(merged2srt$DS10[[i]])+0.5, by=1), plot = F)\n",
        "    predbp[[i]] = predPreSeq(h, 10, mt=2)\n",
        "  }\n",
        "  \n",
        "  \n",
        "  toSave = list(x, dsCounts, predGT005, predPSDS005_2, predPSDS005_20, predPSZTNB005, \n",
        "                predds_20, predds_2, predztnb, predbp, predscaled, fracOnes, fullUMIs, umis,\n",
        "                merged2srt)\n",
        "  \n",
        "  \n",
        "  filename = paste0(figure_data_path, dsid, \"/PredEvalData.RDS\")\n",
        "  saveRDS(toSave, filename)\n",
        "  \n",
        "  \n",
        "}\n"
      ],
      "execution_count": 10,
      "outputs": []
    },
    {
      "cell_type": "markdown",
      "metadata": {
        "id": "YsqeFNdtnLsc",
        "colab_type": "text"
      },
      "source": [
        "**4. Call the precalculation function for all datasets**\n"
      ]
    },
    {
      "cell_type": "code",
      "metadata": {
        "id": "CffgQFeiW2tc",
        "colab_type": "code",
        "colab": {
          "base_uri": "https://localhost:8080/",
          "height": 255
        },
        "outputId": "466f2446-ac1d-4151-dd05-52f389fc76be"
      },
      "source": [
        "%%R\n",
        "GenAlgEvaluationData(\"EVAL\")"
      ],
      "execution_count": 12,
      "outputs": [
        {
          "output_type": "stream",
          "text": [
            "R[write to console]: Error in readChar(con, 5L, useBytes = TRUE) : cannot open the connection\n",
            "Calls: <Anonymous> ... GenAlgEvaluationData -> loadStats -> load -> readChar\n",
            "\n",
            "R[write to console]: In addition: \n",
            "R[write to console]: Warning message:\n",
            "\n",
            "R[write to console]: In readChar(con, 5L, useBytes = TRUE) :\n",
            "R[write to console]: \n",
            " \n",
            "R[write to console]:  cannot open compressed file 'figureData/EVAL/Stats.RData', probable reason 'No such file or directory'\n",
            "\n"
          ],
          "name": "stderr"
        },
        {
          "output_type": "stream",
          "text": [
            "\n",
            "Error in readChar(con, 5L, useBytes = TRUE) : cannot open the connection\n",
            "Calls: <Anonymous> ... GenAlgEvaluationData -> loadStats -> load -> readChar\n"
          ],
          "name": "stdout"
        }
      ]
    },
    {
      "cell_type": "code",
      "metadata": {
        "id": "Cb5DifYYcB6g",
        "colab_type": "code",
        "colab": {
          "base_uri": "https://localhost:8080/",
          "height": 51
        },
        "outputId": "9072221d-267a-438d-b7c7-93e1c2f0c288"
      },
      "source": [
        "!cd figureData && ls -l && cd EVAL && ls -l"
      ],
      "execution_count": 11,
      "outputs": [
        {
          "output_type": "stream",
          "text": [
            "total 0\n",
            "/bin/bash: line 0: cd: EVAL: No such file or directory\n"
          ],
          "name": "stdout"
        }
      ]
    }
  ]
}