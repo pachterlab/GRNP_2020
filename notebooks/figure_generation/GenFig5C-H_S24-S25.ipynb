{
  "nbformat": 4,
  "nbformat_minor": 0,
  "metadata": {
    "colab": {
      "name": "GenFig5C-H_S24-S25.ipynb",
      "provenance": [],
      "collapsed_sections": [],
      "include_colab_link": true
    },
    "kernelspec": {
      "name": "python3",
      "display_name": "Python 3"
    }
  },
  "cells": [
    {
      "cell_type": "markdown",
      "metadata": {
        "id": "view-in-github",
        "colab_type": "text"
      },
      "source": [
        "<a href=\"https://colab.research.google.com/github/pachterlab/GRNP_2020/blob/master/notebooks/figure_generation/GenFig5C-H_S24-S25.ipynb\" target=\"_parent\"><img src=\"https://colab.research.google.com/assets/colab-badge.svg\" alt=\"Open In Colab\"/></a>"
      ]
    },
    {
      "cell_type": "markdown",
      "metadata": {
        "id": "dhydD96df06z"
      },
      "source": [
        "**Generates figure 5C-H, S24, and S25**\n",
        "\n",
        "This notebook generates figures showing differences in amplication within genes across clusters.\n",
        "\n",
        "Steps:\n",
        "1. Download the code and processed data\n",
        "2. Setup the R environment\n",
        "3. Generate the figures\n",
        "\n",
        "The data for this figure is produced by the following notebooks:\n",
        "\n",
        "Processing of FASTQ files with kallisto and bustools:\n",
        "\n",
        "https://github.com/pachterlab/GRNP_2020/blob/master/notebooks/FASTQ_processing/ProcessEVALPBMC.ipynb\n",
        "\n",
        "Preprocessing of BUG files:\n",
        "\n",
        "https://github.com/pachterlab/GRNP_2020/blob/master/notebooks/R_processing/ProcessR_EVALPBMC.ipynb\n",
        "\n",
        "\n"
      ]
    },
    {
      "cell_type": "markdown",
      "metadata": {
        "id": "h8RnKVMXgbzr"
      },
      "source": [
        "**1. Download the code and processed data**"
      ]
    },
    {
      "cell_type": "code",
      "metadata": {
        "id": "doUAtCxIyOiI"
      },
      "source": [
        "#download the R code\n",
        "![ -d \"GRNP_2020\" ] && rm -r GRNP_2020\n",
        "\n",
        "!git clone https://github.com/pachterlab/GRNP_2020.git\n"
      ],
      "execution_count": null,
      "outputs": []
    },
    {
      "cell_type": "code",
      "metadata": {
        "id": "dUNSQ1qBZb2g"
      },
      "source": [
        "#download processed data from Zenodo\n",
        "![ -d \"figureData\" ] && rm -r figureData\n",
        "!mkdir figureData\n",
        "\n",
        "!cd figureData && wget https://zenodo.org/record/4661263/files/EVALPBMC.zip?download=1 && unzip 'EVALPBMC.zip?download=1' && rm 'EVALPBMC.zip?download=1'\n"
      ],
      "execution_count": null,
      "outputs": []
    },
    {
      "cell_type": "code",
      "metadata": {
        "id": "oesgTqLO0Qje"
      },
      "source": [
        "#Check that download worked\n",
        "!cd figureData && ls -l && cd EVALPBMC && ls -l"
      ],
      "execution_count": null,
      "outputs": []
    },
    {
      "cell_type": "markdown",
      "metadata": {
        "id": "sCmhNVdYgkWH"
      },
      "source": [
        "**2. Prepare the R environment**"
      ]
    },
    {
      "cell_type": "code",
      "metadata": {
        "id": "5Gt6rQkSXriM"
      },
      "source": [
        "#switch to R mode\n",
        "%reload_ext rpy2.ipython\n"
      ],
      "execution_count": null,
      "outputs": []
    },
    {
      "cell_type": "code",
      "metadata": {
        "id": "jJ3rQJCdgeJa"
      },
      "source": [
        "#install the R packages and setup paths\n",
        "%%R\n",
        "install.packages(\"dplyr\")\n",
        "install.packages(\"textTinyR\")\n",
        "install.packages(\"DescTools\")\n",
        "install.packages(\"qdapTools\")\n",
        "install.packages(\"ggplot2\")\n",
        "install.packages(\"ggpubr\")\n",
        "install.packages(\"matrixStats\")\n",
        "install.packages(\"Matrix.utils\")\n"
      ],
      "execution_count": null,
      "outputs": []
    },
    {
      "cell_type": "code",
      "metadata": {
        "id": "haL4tkeqNh4M"
      },
      "source": [
        "%%R\n",
        "if (!requireNamespace(\"BiocManager\", quietly = TRUE))\n",
        "    install.packages(\"BiocManager\")\n",
        "\n",
        "BiocManager::install(\"BUSpaRse\", update=FALSE)"
      ],
      "execution_count": null,
      "outputs": []
    },
    {
      "cell_type": "code",
      "metadata": {
        "id": "S9LG7CDUNnHi"
      },
      "source": [
        "%%R\n",
        "install.packages(\"Seurat\")"
      ],
      "execution_count": null,
      "outputs": []
    },
    {
      "cell_type": "code",
      "metadata": {
        "id": "SP-dJYe7N-bc"
      },
      "source": [
        "%%R\n",
        "install.packages(\"preseqR\")"
      ],
      "execution_count": null,
      "outputs": []
    },
    {
      "cell_type": "markdown",
      "metadata": {
        "id": "x56fjfCSicrp"
      },
      "source": [
        "**3. Generate the figures**\n"
      ]
    },
    {
      "cell_type": "code",
      "metadata": {
        "id": "V37XLBAO68oR"
      },
      "source": [
        "#First set some path variables\n",
        "%%R\n",
        "source(\"GRNP_2020/RCode/pathsGoogleColab.R\")\n"
      ],
      "execution_count": null,
      "outputs": []
    },
    {
      "cell_type": "code",
      "metadata": {
        "id": "R6kuhOmzZL_X"
      },
      "source": [
        "#Import helpers (available in other notebooks)\n",
        "%%R\n",
        "source(paste0(sourcePath,\"ButterflyHelpers.R\"))\n",
        "source(paste0(sourcePath,\"CCCHelpers.R\"))\n",
        "source(paste0(sourcePath,\"preseqHelpers.R\"))\n",
        "source(paste0(sourcePath,\"ggplotHelpers.R\"))\n",
        "\n",
        "\n",
        "\n"
      ],
      "execution_count": null,
      "outputs": []
    },
    {
      "cell_type": "code",
      "metadata": {
        "id": "kqZPO7XjtPPa"
      },
      "source": [
        "#create figure directory\n",
        "![ -d \"figures\" ] && rm -r figures\n",
        "!mkdir figures"
      ],
      "execution_count": null,
      "outputs": []
    },
    {
      "cell_type": "code",
      "metadata": {
        "id": "tkQeT362BM7V"
      },
      "source": [
        "#Load libraries\n",
        "%%R\n",
        "library(ggplot2)\n",
        "library(\"ggpubr\")\n",
        "library(tidyverse)\n",
        "library(BUSpaRse)\n",
        "library(textTinyR)\n",
        "library(qdapTools)\n",
        "library(Seurat)\n",
        "library(\"matrixStats\")\n",
        "library(Matrix.utils)"
      ],
      "execution_count": null,
      "outputs": []
    },
    {
      "cell_type": "code",
      "metadata": {
        "id": "kbl2tuKBgVzn"
      },
      "source": [
        "%%R\n",
        "########################\n",
        "# Load data and run through Seurat\n",
        "########################\n",
        "\n",
        "gn10x = read_count_output(dir=paste0(dataPath, \"EVALPBMC/bus_output/genecounts\"), \"output\", tcc=FALSE)\n",
        "countsPerCell = sparse_Sums(gn10x)\n",
        "gn10x = gn10x[,countsPerCell > 200]\n",
        "gn10x = gn10x[sparse_Sums(gn10x, rowSums = TRUE) != 0,]\n",
        "#convert the genes to gene symbols\n",
        "tr2g = read.table(paste0(dataPath, \"EVALPBMC/bus_output/transcripts_to_genes.txt\"), stringsAsFactors = F)\n",
        "lookupTable = tr2g[,2:3]\n",
        "lookupTable= unique(lookupTable)\n",
        "\n",
        "outGenes = lookup(row.names(gn10x), lookupTable)\n",
        "\n",
        "row.names(gn10x) = outGenes\n",
        "gn10x = aggregate.Matrix(gn10x, outGenes, fun='sum')\n",
        "\n",
        "\n",
        "\n",
        "set.seed(1)\n",
        "\n",
        "\n",
        "#run through Seurat\n",
        "d = CreateSeuratObject(counts = gn10x, project = \"10x\", min.cells = 0, min.features = 0)\n",
        "\n",
        "#create variable for mitochondrial count fraction\n",
        "d[[\"percent.mt\"]] <- PercentageFeatureSet(d, pattern = \"^MT-\")\n",
        "VlnPlot(d, features = c(\"percent.mt\"))\n",
        "\n",
        "cellFilter = d$percent.mt < 10\n",
        "\n",
        "#easisest to recreate the Seurat object\n",
        "\n",
        "gn10x = gn10x[,cellFilter]\n",
        "gn10xRawCounts = gn10xRawCounts[,cellFilter]\n",
        "d = CreateSeuratObject(counts = gn10x, project = \"10x\", min.cells = 0, min.features = 0)\n",
        "\n",
        "\n",
        "#library size normalization + change to log scale\n",
        "d <- NormalizeData(d, normalization.method = \"LogNormalize\", scale.factor = 10000)\n",
        "\n",
        "#Finds the most variable genes\n",
        "d <- FindVariableFeatures(d, selection.method = \"vst\", nfeatures = 2000)\n",
        "\n",
        "#Make mean and variance the same for all genes:\n",
        "d <- ScaleData(d, features = rownames(d))\n",
        "\n",
        "#Principal component analysis\n",
        "d <- RunPCA(d, features = VariableFeatures(object = d))\n",
        "\n",
        "#do clustering\n",
        "d <- FindNeighbors(d, dims = 1:10)\n",
        "d <- FindClusters(d, resolution = 0.5)\n",
        "\n",
        "#Generate UMAP map\n",
        "d <- RunUMAP(d, dims = 1:10)\n",
        "\n",
        "clust = d$seurat_clusters\n",
        "\n",
        "\n",
        "d = RenameIdents(object = d, `0` = \"T1\", `1` = \"T2\", `2` = \"T3\", `3` = \"M1\", `4` = \"B\", `5` = \"M2\", `6` = \"T4\", `7` = \"T5\", `8` = \"U1\", `9` = \"U2\", `10` = \"U3\",  `11` = \"U4\")\n",
        "\n",
        "#Test 1 - make sure we identified the clusters correctly\n",
        "d2 = subset(d, seurat_clusters == 0 | seurat_clusters == 1 | seurat_clusters == 2 | seurat_clusters == 6  | seurat_clusters == 7 ) #T/NK cells\n",
        "DimPlot(d2, reduction = \"umap\")\n",
        "d2 = subset(d, seurat_clusters == 3 | seurat_clusters == 5 ) #Monocytes\n",
        "DimPlot(d2, reduction = \"umap\")\n",
        "d2 = subset(d, seurat_clusters == 4) #B cells\n",
        "DimPlot(d2, reduction = \"umap\")\n",
        "#Test 2 - Identify the cell types in the clusters\n",
        "FeaturePlot(d, c(\"CD3D\", \"CD19\", \"LYZ\"))\n",
        "            \n",
        "\n",
        "#show clustering\n",
        "figS24 = DimPlot(d, reduction = \"umap\")\n",
        "print(figS24)\n",
        "\n",
        "\n",
        "ggsave(\n",
        "  paste0(figure_path, \"FigS24.png\"),\n",
        "  plot = figS24, device = \"png\",\n",
        "  width = 4, height = 4, dpi = 300)\n"
      ],
      "execution_count": null,
      "outputs": []
    },
    {
      "cell_type": "code",
      "metadata": {
        "id": "-1T-lf5KhE3C"
      },
      "source": [
        "%%R\n",
        "######################\n",
        "# Compare CU across clusters\n",
        "######################\n",
        "\n",
        "cuPerCluster = matrix(, nrow = nrow(gn10x), ncol = 12) #number of clusters is 12\n",
        "rownames(cuPerCluster) = rownames(gn10x)\n",
        "UMIsPerCluster = matrix(, nrow = nrow(gn10x), ncol = 12) #number of clusters is 12\n",
        "rownames(UMIsPerCluster) = rownames(gn10x)\n",
        "cellsPerCluster = rep(NA,12)\n",
        "clusterNames = c(\"T1\",\"T2\",\"T3\",\"M1\",\"B\",\"M2\",\"T4\",\"T5\",\"U1\",\"U2\",\"U3\",\"U4\") #compared manually with id setting above\n",
        "colnames(cuPerCluster) = clusterNames\n",
        "colnames(UMIsPerCluster) = clusterNames\n",
        "\n",
        "#load the bug\n",
        "loadBug(\"EVALPBMC\")\n",
        "bug = getBug(\"EVALPBMC\")\n",
        "\n",
        "for (i in 1:12) {\n",
        "  sel = d$seurat_clusters == i-1\n",
        "  cellsPerCluster[i] = sum(sel)\n",
        "  UMIsPerCluster[,i] = sparse_Sums(gn10x[,sel], rowSums = TRUE)\n",
        "\n",
        "  #to figure out cu per cluster, we need to use the bug\n",
        "  barcodes = colnames(gn10x)[sel]\n",
        "  subBug = bug[bug$barcode %in% barcodes,]\n",
        "  \n",
        "  res = subBug %>% group_by(gene) %>% summarize(cu = mean(count))\n",
        "  colnames(res) = c(\"x\",\"y\")\n",
        "  cuPerCluster[,i] = lookup(rownames(cuPerCluster), res)\n",
        "}\n",
        "\n",
        "cuPerClusterFilt = cuPerCluster[,cellsPerCluster > 300]\n",
        "UMIsPerClusterFilt = UMIsPerCluster[,cellsPerCluster > 300]\n",
        "cuPerClusterFilt[UMIsPerClusterFilt < 20] = NA\n",
        "\n",
        "#only measure the variance for somewhat highly expressed genes\n",
        "cuPerClusterFilt2 = cuPerClusterFilt[(rowMeans(UMIsPerClusterFilt) > 60) & (rowSums(!is.na(cuPerClusterFilt)) > 2),]\n",
        "dim(cuPerClusterFilt2)\n",
        "cuPerClusterFilt2\n",
        "variances = rowVars(cuPerClusterFilt2, na.rm=TRUE)\n",
        "\n",
        "srt = sort(variances, index.return=TRUE, decreasing = TRUE)\n",
        "sel = seq_len(length(srt$x)) %in% srt$ix[1:50] #get the 50 genes with most variance\n",
        "\n",
        "#sel = variances > 10\n",
        "sum(sel)\n",
        "\n",
        "TPMs = UMIsPerCluster\n",
        "for (i in 1:12) {\n",
        "  TPMs[,i] = TPMs[,i]*10^6/sum(TPMs[,i])\n",
        "}\n",
        "colSums(TPMs)#ok\n",
        "\n",
        "\n",
        "cuForVariableGenes = cuPerClusterFilt2[sel,]\n",
        "UMIsForVariableGenes = UMIsPerCluster[rownames(UMIsPerCluster) %in% rownames(cuForVariableGenes),]\n",
        "TPMsForVariableGenes = TPMs[rownames(TPMs) %in% rownames(cuForVariableGenes),cellsPerCluster > 300]\n",
        "logtrans = log2(TPMsForVariableGenes + 1)\n",
        "\n",
        "max(variances, na.rm=TRUE)\n",
        "\n",
        "geneSel = rownames(cuForVariableGenes) == \"ALDH2\" #ALDH2\n",
        "cu = cuForVariableGenes[geneSel,]\n",
        "logExpr = logtrans[geneSel,]\n",
        "texts = names(cu)\n",
        "\n",
        "dsPlot = tibble(x=cu, y=logExpr, col=c(colors[1],colors[1],colors[1],colors[2],\"#000000\",colors[2],colors[1],colors[1]))\n",
        "dsText = tibble(x=cu + 0.2, y=logExpr)\n",
        "fit = lm(logExpr~cu)\n",
        "summary(fit) #p = 0.0040, F-Test\n",
        "#fix the texts a bit so they are visible and don't overlap\n",
        "dsText$x[6] = dsText$x[6] - 1.5\n",
        "dsText$y[8] = dsText$y[8] + 0.05\n",
        "dsText$y[3] = dsText$y[3] - 0.05\n",
        "\n",
        "pE = ggplot2::ggplot(dsPlot,ggplot2::aes(x=x,y=y)) +\n",
        "  ggplot2::geom_point(ggplot2::aes(x=x,y=y), color=dsPlot$col, shape=1, size=1) +\n",
        "  geom_abline(slope = fit$coefficients[2], intercept = fit$coefficients[1], colour=\"#008800\", size=1.3) +\n",
        "  geom_text(data=dsText, label=texts, size=4, hjust = 0, color=dsPlot$col, parse=FALSE) +\n",
        "  ggplot2::labs(y=expression(Log[2]*\"(CPM + 1)\"), x=\"Copies per UMI\", title=\"ALDH2 acr. clusters, uncorr.\") +\n",
        "  theme(panel.background = element_rect(\"white\", \"white\", 0, 0, \"white\"),\n",
        "        legend.position= \"bottom\", legend.direction = \"horizontal\",#, legend.title = element_blank())\n",
        "        strip.text.x = element_text(size = 12, face = \"bold\"),\n",
        "        #legend.position= \"none\",\n",
        "        plot.title = element_text(face = \"bold\"),\n",
        "        strip.background = element_blank())\n",
        "print(pE)\n"
      ],
      "execution_count": null,
      "outputs": []
    },
    {
      "cell_type": "code",
      "metadata": {
        "id": "a-Ye0YhjhNJk"
      },
      "source": [
        "%%R\n",
        "###########################\n",
        "#look at the histograms for T cells and Monocytes\n",
        "###########################\n",
        "\n",
        "#first extract the barcodes\n",
        "sel = d$seurat_clusters == 0 | d$seurat_clusters == 1 | d$seurat_clusters == 2 | d$seurat_clusters == 6 | d$seurat_clusters == 7\n",
        "tcellBarcodes = colnames(gn10x)[sel]\n",
        "sel = d$seurat_clusters == 3 | d$seurat_clusters == 5\n",
        "monoBarcodes = colnames(gn10x)[sel]\n",
        "\n",
        "#load the bug\n",
        "tCounts = bug[(bug$barcode %in% tcellBarcodes) & (bug$gene == \"ALDH2\"),]$count\n",
        "mCounts = bug[(bug$barcode %in% monoBarcodes) & (bug$gene == \"ALDH2\"),]$count\n",
        "mCountsFilt = mCounts[mCounts < 30]\n",
        "hend = max(c(mCountsFilt,tCounts))\n",
        "numTTotMolecules = nrow(bug[bug$barcode %in% tcellBarcodes,])\n",
        "numMTotMolecules = nrow(bug[bug$barcode %in% monoBarcodes,])\n",
        "numTTotCounts = sum(bug[bug$barcode %in% tcellBarcodes,]$count)\n",
        "numMTotCounts = sum(bug[bug$barcode %in% monoBarcodes,]$count)\n",
        "\n",
        "\n",
        "ht = hist(tCounts, breaks=seq(0.5, hend+0.5, by=1), plot = FALSE)$counts\n",
        "hm = hist(mCountsFilt, breaks=seq(0.5, hend+0.5, by=1), plot = FALSE)$counts\n",
        "\n",
        "htScaled = ht/numTTotMolecules * 10^6\n",
        "hmScaled = hm/numMTotMolecules * 10^6\n",
        "\n",
        "\n",
        "dsPlot = data.frame(x = 1:hend, y = htScaled)\n",
        "pC = ggplot(dsPlot,aes(x=x,y=y)) +\n",
        "  geom_bar(stat=\"identity\", fill = colors[1]) +\n",
        "  labs(y=\"CPM\", x=\"Counts per UMI\", title=\"ALDH2, T cells\") +\n",
        "  ylim(0,50) +\n",
        "  theme(panel.background = element_rect(\"white\", \"white\", 0, \n",
        "                                        0, \"white\"),\n",
        "        plot.title = element_text(face = \"bold\")\n",
        "  )\n",
        "print(pC)\n",
        "\n",
        "dsPlot = data.frame(x = 1:hend, y = hmScaled)\n",
        "pD = ggplot(dsPlot,aes(x=x,y=y)) +\n",
        "  geom_bar(stat=\"identity\", fill = colors[2]) +\n",
        "  labs(y=\"CPM\", x=\"Counts per UMI\", title=\"ALDH2, Monocytes\") +\n",
        "  ylim(0,50) +\n",
        "  theme(panel.background = element_rect(\"white\", \"white\", 0, \n",
        "                                        0, \"white\"),\n",
        "        plot.title = element_text(face = \"bold\")\n",
        "  )\n",
        "print(pD)\n",
        "\n",
        "\n"
      ],
      "execution_count": null,
      "outputs": []
    },
    {
      "cell_type": "code",
      "metadata": {
        "id": "g1SbjAplhUqF"
      },
      "source": [
        "%%R\n",
        "##############################\n",
        "#Plot all variable genes\n",
        "##############################\n",
        "\n",
        "#first scale all genes to the same scale (sum of 1000)\n",
        "scaled = TPMsForVariableGenes*1000/rowSums(TPMsForVariableGenes)\n",
        "rowSums(scaled)\n",
        "logScaled = log2(scaled+1)\n",
        "cu = NULL\n",
        "scLogExpr = NULL\n",
        "\n",
        "for (i in 1:nrow(cuForVariableGenes)) {\n",
        "  sel = !is.na(cuForVariableGenes[i,])\n",
        "  cu = c(cu, as.numeric(cuForVariableGenes[i,sel]))  \n",
        "  scLogExpr = as.numeric(c(scLogExpr, logScaled[i,sel]))\n",
        "}\n",
        "\n",
        "fit = lm(scLogExpr~cu)\n",
        "summary(fit)# p-value: < 2.2e-16, F-Test\n",
        "\n",
        "dsPlot = tibble(x=cu, y=scLogExpr)\n",
        "dsText = tibble(x=1, y=10)\n",
        "\n",
        "\n",
        "pG = ggplot2::ggplot(dsPlot,ggplot2::aes(x=x,y=y)) +\n",
        "  ggplot2::geom_point(ggplot2::aes(x=x,y=y), color=\"black\", shape=1, size=1) +\n",
        "  geom_abline(slope = fit$coefficients[2], intercept = fit$coefficients[1], colour=\"#008800\", size=1.3) +\n",
        "  geom_text(data=dsText, label=paste0(\"R = \",format(cor(cu,scLogExpr), digits=2)), size=5, hjust = 0, parse=FALSE) +\n",
        "  ggplot2::labs(y=expression(Log[2]*\"(Norm. Expr + pc)\"), x=\"Copies per UMI\", title=\"Ampl. acr.clusters, uncorr.\") +\n",
        "  theme(panel.background = element_rect(\"white\", \"white\", 0, 0, \"white\"),\n",
        "        legend.position= \"bottom\", legend.direction = \"horizontal\",#, legend.title = element_blank())\n",
        "        strip.text.x = element_text(size = 12, face = \"bold\"),\n",
        "        plot.title = element_text(face = \"bold\"),\n",
        "        strip.background = element_blank())\n",
        "print(pG)\n"
      ],
      "execution_count": null,
      "outputs": []
    },
    {
      "cell_type": "code",
      "metadata": {
        "id": "8IqJrPHJidP5"
      },
      "source": [
        "%%R\n",
        "######################\n",
        "# Now predict and see if the correlation goes down\n",
        "######################\n",
        "\n",
        "dsid = \"EVALPBMC\"\n",
        "bug = getBug(dsid)\n",
        "\n",
        "#first filter on the genes in the plot to make the bug smaller\n",
        "genes = rownames(cuForVariableGenes)\n",
        "bugFilt1 = bug[bug$gene %in% genes,]\n",
        "\n",
        "predDS = UMIsForVariableGenes #just allocate the right size\n",
        "predDS[,] = NA\n",
        "predZTNB = UMIsForVariableGenes #just allocate the right size\n",
        "predZTNB[,] = NA\n",
        "\n",
        "\n",
        "for (i in 1:12) {\n",
        "  print(i)\n",
        "  sel = clust == i-1\n",
        "  cellIds = names(clust)[sel]\n",
        "  clustBug = bugFilt1[bugFilt1$barcode %in% cellIds,] #filter a bit more\n",
        "  if (cellsPerCluster[i] > 300) {\n",
        "    for (g in 1:length(genes)) {\n",
        "      if (UMIsForVariableGenes[g,i] >= 20) {\n",
        "        #Get the histogram\n",
        "        counts = clustBug[clustBug$gene == genes[g],]$count\n",
        "        h = hist(counts, breaks=seq(0.5, max(counts)+0.5, by=1), plot = FALSE)\n",
        "        freq = h$mids\n",
        "        counts = h$counts\n",
        "        added = 0\n",
        "        #preseq cannot handle if we have only ones, so modify the histogram slightly\n",
        "        if ((length(freq)==1) & (freq[1] == 1)) {\n",
        "          added = 2\n",
        "          freq = c(1,2)\n",
        "          counts = c(counts[1]+1,1)#room for improvement here\n",
        "        }\n",
        "        dd = as.matrix(data.frame(freq,counts));\n",
        "        rSACZTNB = mod.ztnb.rSAC(dd, incTol = 1e-5, iterIncTol = 200);\n",
        "        rSACDS = ds.rSAC(dd,mt=2)\n",
        "        newCountsZTNB = rSACZTNB(10^20)\n",
        "        newCountsDS = rSACDS(10^20)\n",
        "        newCountsZTNB[newCountsZTNB < 0] = 0\n",
        "        newCountsDS[newCountsDS < 0] = 0\n",
        "        predZTNB[g,i] = newCountsZTNB - added;\n",
        "        predDS[g,i] = newCountsDS - added;\n",
        "      }\n",
        "    }\n",
        "  }\n",
        "}\n",
        "\n",
        "\n",
        "#remove all columns with just NA\n",
        "predFiltZTNB = predZTNB[,colSums(!is.na(predZTNB)) != 0]\n",
        "predLogZTNB = predFiltZTNB;\n",
        "predFiltDS = predDS[,colSums(!is.na(predDS)) != 0]\n",
        "predLogDS = predFiltDS;\n",
        "#scale to the same number of average counts per cluster as before\n",
        "colSumsData = TPMsForVariableGenes\n",
        "colSumsData[is.na(predFiltZTNB)] = NA\n",
        "scaleSizeZTNB = mean(colSums(colSumsData,na.rm=TRUE))\n",
        "colSumsData = TPMsForVariableGenes\n",
        "colSumsData[is.na(predFiltDS)] = NA\n",
        "scaleSizeDS = mean(colSums(colSumsData,na.rm=TRUE))\n",
        "\n",
        "\n",
        "for (i in 1:ncol(predFiltZTNB)) {\n",
        "  TPMish = predFiltZTNB[,i]*scaleSizeZTNB/sum(predFiltZTNB, na.rm = TRUE)\n",
        "  predLogZTNB[,i] = log2(TPMish + 1)\n",
        "  TPMish = predFiltDS[,i]*scaleSizeDS/sum(predFiltDS, na.rm = TRUE)\n",
        "  predLogDS[,i] = log2(TPMish + 1)\n",
        "}\n",
        "\n",
        "#use DS in main figure\n",
        "\n",
        "#Get the average TPM per cluster before prediction\n",
        "sumTPMBefore = sum(TPMsForVariableGenes[rownames(TPMsForVariableGenes) == \"ALDH2\",])\n",
        "\n",
        "geneSel = rownames(predFiltDS) == \"ALDH2\" #ALDH2\n",
        "cu = cuForVariableGenes[geneSel,]\n",
        "pseudoTPM = predFiltDS[geneSel,] * sumTPMBefore/sum(predFiltDS[geneSel,])\n",
        "logExpr = log2(pseudoTPM + 1)\n",
        "fit = lm(logExpr~cu)\n",
        "summary(fit) # p value: 0.5355, F-Test\n",
        "\n",
        "dsPlot = tibble(x=cu, y=logExpr, col=c(colors[1],colors[1],colors[1],colors[2],\"#000000\",colors[2],colors[1],colors[1]))\n",
        "dsText = tibble(x=cu + 0.2, y=logExpr)\n",
        "#fix the texts a bit so they are visible and don't overlap\n",
        "dsText$x[6] = dsText$x[6] - 1.5\n",
        "dsText$y[1] = dsText$y[1] - 0.1\n",
        "\n",
        "pF = ggplot2::ggplot(dsPlot,ggplot2::aes(x=x,y=y)) +\n",
        "  ggplot2::geom_point(ggplot2::aes(x=x,y=y), color=dsPlot$col, shape=1, size=1) +\n",
        "  geom_abline(slope = fit$coefficients[2], intercept = fit$coefficients[1], colour=\"#008800\", size=1.3) +\n",
        "  geom_text(data=dsText, label=texts, size=4, hjust = 0, color=dsPlot$col, parse=FALSE) +\n",
        "  ggplot2::labs(y=expression(Log[2]*\"(pseudoTPM + pc)\"), x=\"Copies per UMI\", title=\"ALDH2 acr. clusters, corr.\") +\n",
        "  theme(panel.background = element_rect(\"white\", \"white\", 0, 0, \"white\"),\n",
        "        legend.position= \"bottom\", legend.direction = \"horizontal\",#, legend.title = element_blank())\n",
        "        strip.text.x = element_text(size = 12, face = \"bold\"),\n",
        "        plot.title = element_text(face = \"bold\"),\n",
        "        strip.background = element_blank())\n",
        "print(pF)\n",
        "\n",
        "\n",
        "\n",
        "\n",
        "##############################\n",
        "#Plot all variable genes, now corrected\n",
        "##############################\n",
        "\n",
        "#first scale all genes to the same scale (sum of 1000)\n",
        "scaled = predFiltDS*1000/rowSums(predFiltDS, na.rm=TRUE)\n",
        "rowSums(scaled, na.rm=TRUE)\n",
        "logScaled = log2(scaled+1)\n",
        "cu = NULL\n",
        "scLogExpr = NULL\n",
        "\n",
        "for (i in 1:nrow(cuForVariableGenes)) {\n",
        "  sel = !is.na(cuForVariableGenes[i,])\n",
        "  cu = c(cu, as.numeric(cuForVariableGenes[i,sel]))  \n",
        "  scLogExpr = as.numeric(c(scLogExpr, logScaled[i,sel]))\n",
        "}\n",
        "\n",
        "fit = lm(scLogExpr~cu)\n",
        "summary(fit)#p = 5.111e-09, F-Test\n",
        "dsPlot = tibble(x=cu, y=scLogExpr)\n",
        "dsText = tibble(x=1, y=10)\n",
        "\n",
        "\n",
        "pH = ggplot2::ggplot(dsPlot,ggplot2::aes(x=x,y=y)) +\n",
        "  ggplot2::geom_point(ggplot2::aes(x=x,y=y), color=\"black\", shape=1, size=1) +\n",
        "  geom_abline(slope = fit$coefficients[2], intercept = fit$coefficients[1], colour=\"#008800\", size=1.3) +\n",
        "  geom_text(data=dsText, label=paste0(\"R = \",format(cor(cu,scLogExpr), digits=2)), size=5, hjust = 0, parse=FALSE) +\n",
        "  ggplot2::labs(y=expression(Log[2]*\"(Norm. Expr + pc)\"), x=\"Copies per UMI\", title=\"Ampl. acr. clusters, corr.\") +\n",
        "  theme(panel.background = element_rect(\"white\", \"white\", 0, 0, \"white\"),\n",
        "        legend.position= \"bottom\", legend.direction = \"horizontal\",#, legend.title = element_blank())\n",
        "        strip.text.x = element_text(size = 12, face = \"bold\"),\n",
        "        plot.title = element_text(face = \"bold\"),\n",
        "        #legend.position= \"none\",\n",
        "        strip.background = element_blank())\n",
        "print(pH)"
      ],
      "execution_count": null,
      "outputs": []
    },
    {
      "cell_type": "code",
      "metadata": {
        "id": "Sme4OlkiRXHk"
      },
      "source": [
        "%%R\n",
        "fig5CH = ggarrange(pC, pD, pE, pF, pG, pH, nrow=2, ncol=3, labels=c(\"C\",\"D\",\"E\",\"F\",\"G\",\"H\"))\n",
        "print(fig5CH)\n",
        "ggsave(\n",
        "  paste0(figure_path, \"Fig5C-H.png\"),\n",
        "  plot = fig5CH, device = \"png\",\n",
        "  width = 9, height = 6, dpi = 300)"
      ],
      "execution_count": null,
      "outputs": []
    },
    {
      "cell_type": "code",
      "metadata": {
        "id": "HXMO9-_7RXmb"
      },
      "source": [
        "%%R\n",
        "#Create supplementary figure with ZTNB\n",
        "################\n",
        "\n",
        "scaled = predFiltZTNB*1000/rowSums(predFiltZTNB, na.rm=TRUE)\n",
        "rowSums(scaled, na.rm=TRUE)\n",
        "logScaled = log2(scaled+1)\n",
        "cu = NULL\n",
        "scLogExpr = NULL\n",
        "\n",
        "for (i in 1:nrow(cuForVariableGenes)) {\n",
        "  sel = !is.na(cuForVariableGenes[i,])\n",
        "  cu = c(cu, as.numeric(cuForVariableGenes[i,sel]))  \n",
        "  scLogExpr = as.numeric(c(scLogExpr, logScaled[i,sel]))\n",
        "}\n",
        "\n",
        "fit = lm(scLogExpr~cu)\n",
        "summary(fit)#p=0.4397, F-Test\n",
        "dsPlot = tibble(x=cu, y=scLogExpr)\n",
        "dsText = tibble(x=1, y=10)\n",
        "\n",
        "\n",
        "figS25 = ggplot2::ggplot(dsPlot,ggplot2::aes(x=x,y=y)) +\n",
        "  ggplot2::geom_point(ggplot2::aes(x=x,y=y), color=\"black\", shape=1, size=1) +\n",
        "  geom_abline(slope = fit$coefficients[2], intercept = fit$coefficients[1], colour=\"#008800\", size=1.3) +\n",
        "  geom_text(data=dsText, label=paste0(\"R = \",format(cor(cu,scLogExpr), digits=2)), size=5, hjust = 0, parse=FALSE) +\n",
        "  ggplot2::labs(y=expression(Log[2]*\"(Norm. Expr + pc)\"), x=\"Copies per UMI\") +\n",
        "  theme(panel.background = element_rect(\"white\", \"white\", 0, 0, \"white\"),\n",
        "        legend.position= \"bottom\", legend.direction = \"horizontal\",#, legend.title = element_blank())\n",
        "        strip.text.x = element_text(size = 12, face = \"bold\"),\n",
        "        #legend.position= \"none\",\n",
        "        strip.background = element_blank())\n",
        "print(figS25)\n",
        "\n",
        "ggsave(\n",
        "  paste0(figure_path, \"FigS25.png\"),\n",
        "  plot = figS25, device = \"png\",\n",
        "  width = 3, height = 3, dpi = 300)\n",
        "\n"
      ],
      "execution_count": null,
      "outputs": []
    }
  ]
}