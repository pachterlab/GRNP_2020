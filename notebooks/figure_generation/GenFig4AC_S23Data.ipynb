{
  "nbformat": 4,
  "nbformat_minor": 0,
  "metadata": {
    "colab": {
      "name": "GenFig4AC_S23Data.ipynb",
      "provenance": [],
      "collapsed_sections": [],
      "include_colab_link": true
    },
    "kernelspec": {
      "name": "python3",
      "display_name": "Python 3"
    }
  },
  "cells": [
    {
      "cell_type": "markdown",
      "metadata": {
        "id": "view-in-github",
        "colab_type": "text"
      },
      "source": [
        "<a href=\"https://colab.research.google.com/github/pachterlab/GRNP_2020/blob/master/notebooks/figure_generation/GenFig4AC_S23Data.ipynb\" target=\"_parent\"><img src=\"https://colab.research.google.com/assets/colab-badge.svg\" alt=\"Open In Colab\"/></a>"
      ]
    },
    {
      "cell_type": "markdown",
      "metadata": {
        "id": "dhydD96df06z"
      },
      "source": [
        "**Precalculates data for figure 4A-C and supplementary figure 23**\n",
        "\n",
        "This notebook precalculates the data for the figures since there are some heavy calculation steps involved for generating the figures. The most demanding task is prediction of unseen molecules for each gene using the ZTNB method. This notebook may take 15-30 minutes to run.\n",
        "\n",
        "Steps:\n",
        "1. Download the code and processed data\n",
        "2. Setup the R environment\n",
        "3. Generate the data\n",
        "\n",
        "The data used in these calculations is produced by the following notebooks:\n",
        "\n",
        "Processing of FASTQ files with kallisto and bustools:\n",
        "\n",
        "https://github.com/pachterlab/GRNP_2020/blob/master/notebooks/FASTQ_processing/ProcessPBMC_V3_3.ipynb\n",
        "\n",
        "Preprocessing of BUG files:\n",
        "\n",
        "https://github.com/pachterlab/GRNP_2020/blob/master/notebooks/R_processing/ProcessR_PBMC_V3_3.ipynb\n",
        "\n"
      ]
    },
    {
      "cell_type": "markdown",
      "metadata": {
        "id": "h8RnKVMXgbzr"
      },
      "source": [
        "**1. Download the code and processed data**"
      ]
    },
    {
      "cell_type": "code",
      "metadata": {
        "id": "doUAtCxIyOiI"
      },
      "source": [
        "#download the R code\n",
        "![ -d \"GRNP_2020\" ] && rm -r GRNP_2020\n",
        "\n",
        "!git clone https://github.com/pachterlab/GRNP_2020.git\n"
      ],
      "execution_count": null,
      "outputs": []
    },
    {
      "cell_type": "code",
      "metadata": {
        "id": "dUNSQ1qBZb2g"
      },
      "source": [
        "#download processed data from Zenodo for all datasets\n",
        "![ -d \"figureData\" ] && rm -r figureData\n",
        "!mkdir figureData\n",
        "!cd figureData && wget https://zenodo.org/record/4661263/files/EVALPBMC.zip?download=1 && unzip 'EVALPBMC.zip?download=1' && rm 'EVALPBMC.zip?download=1'"
      ],
      "execution_count": null,
      "outputs": []
    },
    {
      "cell_type": "code",
      "metadata": {
        "id": "gH2yLP4u_Feo"
      },
      "source": [
        "!cd figureData && wget https://zenodo.org/record/4661263/files/PBMC_V2.zip?download=1 && unzip 'PBMC_V2.zip?download=1' && rm 'PBMC_V2.zip?download=1'"
      ],
      "execution_count": null,
      "outputs": []
    },
    {
      "cell_type": "code",
      "metadata": {
        "id": "0VcGKk7r_GeI"
      },
      "source": [
        "!cd figureData && wget https://zenodo.org/record/4661263/files/PBMC_V3.zip?download=1 && unzip 'PBMC_V3.zip?download=1' && rm 'PBMC_V3.zip?download=1'"
      ],
      "execution_count": null,
      "outputs": []
    },
    {
      "cell_type": "code",
      "metadata": {
        "id": "RNa-2IlK_Gtn"
      },
      "source": [
        "!cd figureData && wget https://zenodo.org/record/4661263/files/PBMC_V3_2.zip?download=1 && unzip 'PBMC_V3_2.zip?download=1' && rm 'PBMC_V3_2.zip?download=1'"
      ],
      "execution_count": null,
      "outputs": []
    },
    {
      "cell_type": "code",
      "metadata": {
        "id": "reyt17DJ_G8e"
      },
      "source": [
        "!cd figureData && wget https://zenodo.org/record/4661263/files/PBMC_V3_3.zip?download=1 && unzip 'PBMC_V3_3.zip?download=1' && rm 'PBMC_V3_3.zip?download=1'"
      ],
      "execution_count": null,
      "outputs": []
    },
    {
      "cell_type": "code",
      "metadata": {
        "id": "mwugJxkv_HLq"
      },
      "source": [
        "!cd figureData && wget https://zenodo.org/record/4661263/files/PBMC_NG.zip?download=1 && unzip 'PBMC_NG.zip?download=1' && rm 'PBMC_NG.zip?download=1'"
      ],
      "execution_count": null,
      "outputs": []
    },
    {
      "cell_type": "code",
      "metadata": {
        "id": "fyw4_npm_Hbi"
      },
      "source": [
        "!cd figureData && wget https://zenodo.org/record/4661263/files/PBMC_NG_2.zip?download=1 && unzip 'PBMC_NG_2.zip?download=1' && rm 'PBMC_NG_2.zip?download=1'"
      ],
      "execution_count": null,
      "outputs": []
    },
    {
      "cell_type": "code",
      "metadata": {
        "id": "EnQJhLZjOT1H"
      },
      "source": [
        "!cd figureData && wget https://zenodo.org/record/4661263/files/FigureData.zip?download=1 && unzip 'FigureData.zip?download=1' && rm 'FigureData.zip?download=1'"
      ],
      "execution_count": null,
      "outputs": []
    },
    {
      "cell_type": "code",
      "metadata": {
        "id": "oesgTqLO0Qje"
      },
      "source": [
        "#Check that download worked\n",
        "!cd figureData && ls -l && cd EVALPBMC && ls -l"
      ],
      "execution_count": null,
      "outputs": []
    },
    {
      "cell_type": "markdown",
      "metadata": {
        "id": "sCmhNVdYgkWH"
      },
      "source": [
        "**2. Prepare the R environment**"
      ]
    },
    {
      "cell_type": "code",
      "metadata": {
        "id": "5Gt6rQkSXriM"
      },
      "source": [
        "#switch to R mode\n",
        "%reload_ext rpy2.ipython\n"
      ],
      "execution_count": null,
      "outputs": []
    },
    {
      "cell_type": "code",
      "metadata": {
        "id": "jJ3rQJCdgeJa"
      },
      "source": [
        "#install the R packages and setup paths\n",
        "%%R\n",
        "#install.packages(\"qdapTools\")\n",
        "install.packages(\"dplyr\")\n",
        "install.packages(\"preseqR\")\n",
        "#install.packages(\"stringdist\")\n"
      ],
      "execution_count": null,
      "outputs": []
    },
    {
      "cell_type": "markdown",
      "metadata": {
        "id": "x56fjfCSicrp"
      },
      "source": [
        "**3. Generate and save the data**\n",
        "\n",
        "There are a few calculations to do\n",
        "\n",
        "1. Prediction of downsampled data using ZTNB\n",
        "2. Pooled prediction\n",
        "3. Calculation of sampling noise, defined as the difference between a downsampled dataset and the average of the same dataset downsampled 20 times.\n"
      ]
    },
    {
      "cell_type": "code",
      "metadata": {
        "id": "V37XLBAO68oR"
      },
      "source": [
        "#First set some path variables\n",
        "%%R\n",
        "source(\"GRNP_2020/RCode/pathsGoogleColab.R\")\n"
      ],
      "execution_count": null,
      "outputs": []
    },
    {
      "cell_type": "code",
      "metadata": {
        "id": "R6kuhOmzZL_X"
      },
      "source": [
        "#Import the code for prediction (available in other notebooks)\n",
        "%%R\n",
        "source(paste0(sourcePath,\"ButterflyHelpers.R\"))\n",
        "source(paste0(sourcePath,\"preseqHelpers.R\"))\n",
        "source(paste0(sourcePath,\"BinomialDownsampling.R\"))\n",
        "\n",
        "\n"
      ],
      "execution_count": null,
      "outputs": []
    },
    {
      "cell_type": "code",
      "metadata": {
        "id": "tkQeT362BM7V"
      },
      "source": [
        "#Generate data and save it\n",
        "%%R\n",
        "dsid = \"PBMC_V3_3\"\n",
        "otherIds = c(\"PBMC_V3\", \"PBMC_V3_2\", \"PBMC_NG\", \"PBMC_NG_2\", \"PBMC_V2\", \"EVALPBMC\")\n",
        "loadBug(dsid, 0.1)\n",
        "\n",
        "dsBug = getBug(dsid, 0.1)\n",
        "\n",
        "\n",
        "loadPooledHistogramDS(\"PBMC_V3_3\")\n",
        "loadPooledHistogramDS(\"PBMC_V3_2\")\n",
        "loadPooledHistogramDS(\"PBMC_V3\")\n",
        "loadPooledHistogramDS(\"PBMC_NG\")\n",
        "loadPooledHistogramDS(\"PBMC_NG_2\")\n",
        "loadPooledHistogramDS(\"PBMC_V2\")\n",
        "loadPooledHistogramDS(\"EVALPBMC\")\n",
        "\n",
        "\n",
        "\n",
        "#Collect the data\n",
        "\n",
        "poolHistList = poolHistograms(dsid, dsBug, otherIds)\n",
        "\n",
        "loadStats(dsid)\n",
        "\n",
        "#create data for supplementary plot\n",
        "loadBug(dsid)\n",
        "bug = getBug(dsid)\n",
        "binDs = binomialDownsampling(bug, 0.1)\n",
        "\n",
        "\n",
        "\n",
        "\n",
        "#no prediction\n",
        "fromStats = tibble(gene = statsPBMC_V3_3$gene, \n",
        "                   trueval = statsPBMC_V3_3$CPM_PBMC_V3_3_d_100,\n",
        "                   x = statsPBMC_V3_3$CPM_PBMC_V3_3_d_10, #so, we use the \n",
        "                   nopred = statsPBMC_V3_3$CPM_PBMC_V3_3_d_10)\n",
        "\n",
        "#prediction\n",
        "pred100From10 = upSampleAndGetMeanExprPreSeqZTNB(dsBug, t=10)\n",
        "\n",
        "colnames(pred100From10) = c(\"gene\", \"pred\")\n",
        "\n",
        "#prediction with pooling\n",
        "predPool = poolPrediction(dsBug, 10, poolHistList, 500000)\n",
        "colnames(predPool) = c(\"gene\", \"poolpred\")\n",
        "\n",
        "\n",
        "\n",
        "#sampling noise\n",
        "colnames(binDs) = c(\"gene\", \"sampling\")\n",
        "\n",
        "\n",
        "\n",
        "#merge all\n",
        "m1 = inner_join(fromStats, pred100From10, by=\"gene\")\n",
        "m2 = inner_join(m1, predPool, by=\"gene\")\n",
        "\n",
        "#move sampling noise to a supporting figure\n",
        "\n",
        "ldata = m2\n",
        "\n",
        "m3 = inner_join(fromStats, binDs, by=\"gene\")\n",
        "\n",
        "ldata2 = m3\n",
        "\n",
        "\n",
        "#cpm and log transform\n",
        "for (i in 2:6) {\n",
        "  ldata[, i] = log2(ldata[, i]*10^6/sum(ldata[, i]) + 1)\n",
        "}\n",
        "\n",
        "for (i in 2:5) {\n",
        "  ldata2[, i] = log2(ldata2[, i]*10^6/sum(ldata2[, i]) + 1)\n",
        "}\n",
        "\n",
        "\n",
        "saveRDS(ldata, paste0(figure_data_path, \"Fig4AC_ldata.RDS\"))\n",
        "saveRDS(ldata2, paste0(figure_data_path, \"Fig4AC_ldata2.RDS\"))\n",
        "\n",
        "\n"
      ],
      "execution_count": null,
      "outputs": []
    },
    {
      "cell_type": "code",
      "metadata": {
        "id": "Cb5DifYYcB6g"
      },
      "source": [
        "!cd figureData && ls -l"
      ],
      "execution_count": null,
      "outputs": []
    }
  ]
}