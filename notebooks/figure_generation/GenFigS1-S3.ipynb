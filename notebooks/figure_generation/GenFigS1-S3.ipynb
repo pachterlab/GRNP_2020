{
  "nbformat": 4,
  "nbformat_minor": 0,
  "metadata": {
    "colab": {
      "name": "GenFigS1-S3.ipynb",
      "provenance": [],
      "collapsed_sections": [],
      "include_colab_link": true
    },
    "kernelspec": {
      "name": "python3",
      "display_name": "Python 3"
    }
  },
  "cells": [
    {
      "cell_type": "markdown",
      "metadata": {
        "id": "view-in-github",
        "colab_type": "text"
      },
      "source": [
        "<a href=\"https://colab.research.google.com/github/pachterlab/GRNP_2020/blob/master/notebooks/figure_generation/GenFigS1-S3.ipynb\" target=\"_parent\"><img src=\"https://colab.research.google.com/assets/colab-badge.svg\" alt=\"Open In Colab\"/></a>"
      ]
    },
    {
      "cell_type": "markdown",
      "metadata": {
        "id": "dhydD96df06z"
      },
      "source": [
        "**Generates supplementary figures 1-3**\n",
        "\n",
        "This notebook generates histograms of fraction of single-copy molecules (per gene) for different datasets.\n",
        "\n",
        "Steps:\n",
        "1. Download the code and processed data\n",
        "2. Setup the R environment\n",
        "3. Generate the figures\n",
        "\n",
        "The data for these figures is produced by the following notebooks:\n",
        "\n",
        "Processing of FASTQ files with kallisto and bustools:\n",
        "\n",
        "https://github.com/pachterlab/GRNP_2020/blob/master/notebooks/FASTQ_processing/ProcessEVAL.ipynb\n",
        "https://github.com/pachterlab/GRNP_2020/blob/master/notebooks/FASTQ_processing/ProcessEVALPBMC.ipynb\n",
        "https://github.com/pachterlab/GRNP_2020/blob/master/notebooks/FASTQ_processing/ProcessEVALPBMC_DS.ipynb\n",
        "https://github.com/pachterlab/GRNP_2020/blob/master/notebooks/FASTQ_processing/ProcessEVALPBMC_SW.ipynb\n",
        "https://github.com/pachterlab/GRNP_2020/blob/master/notebooks/FASTQ_processing/ProcessLC.ipynb\n",
        "https://github.com/pachterlab/GRNP_2020/blob/master/notebooks/FASTQ_processing/ProcessMRET.ipynb\n",
        "https://github.com/pachterlab/GRNP_2020/blob/master/notebooks/FASTQ_processing/ProcessMRET2.ipynb\n",
        "https://github.com/pachterlab/GRNP_2020/blob/master/notebooks/FASTQ_processing/ProcessPBMC_NG.ipynb\n",
        "https://github.com/pachterlab/GRNP_2020/blob/master/notebooks/FASTQ_processing/ProcessPBMC_NG_2.ipynb\n",
        "https://github.com/pachterlab/GRNP_2020/blob/master/notebooks/FASTQ_processing/ProcessPBMC_V2.ipynb\n",
        "https://github.com/pachterlab/GRNP_2020/blob/master/notebooks/FASTQ_processing/ProcessPBMC_V3.ipynb\n",
        "https://github.com/pachterlab/GRNP_2020/blob/master/notebooks/FASTQ_processing/ProcessPBMC_V3_2.ipynb\n",
        "https://github.com/pachterlab/GRNP_2020/blob/master/notebooks/FASTQ_processing/ProcessPBMC_V3_3.ipynb\n",
        "https://github.com/pachterlab/GRNP_2020/blob/master/notebooks/FASTQ_processing/ProcessMARSSEQ.ipynb\n",
        "\n",
        "Preprocessing of BUG files:\n",
        "\n",
        "https://github.com/pachterlab/GRNP_2020/blob/master/notebooks/R_processing/ProcessR_EVAL.ipynb\n",
        "https://github.com/pachterlab/GRNP_2020/blob/master/notebooks/R_processing/ProcessR_EVALPBMC.ipynb\n",
        "https://github.com/pachterlab/GRNP_2020/blob/master/notebooks/R_processing/ProcessR_EVALPBMC_DS.ipynb\n",
        "https://github.com/pachterlab/GRNP_2020/blob/master/notebooks/R_processing/ProcessR_EVALPBMC_SW.ipynb\n",
        "https://github.com/pachterlab/GRNP_2020/blob/master/notebooks/R_processing/ProcessR_LC.ipynb\n",
        "https://github.com/pachterlab/GRNP_2020/blob/master/notebooks/R_processing/ProcessR_MRET.ipynb\n",
        "https://github.com/pachterlab/GRNP_2020/blob/master/notebooks/R_processing/ProcessR_MRET2.ipynb\n",
        "https://github.com/pachterlab/GRNP_2020/blob/master/notebooks/R_processing/ProcessR_PBMC_NG.ipynb\n",
        "https://github.com/pachterlab/GRNP_2020/blob/master/notebooks/R_processing/ProcessR_PBMC_NG_2.ipynb\n",
        "https://github.com/pachterlab/GRNP_2020/blob/master/notebooks/R_processing/ProcessR_PBMC_V2.ipynb\n",
        "https://github.com/pachterlab/GRNP_2020/blob/master/notebooks/R_processing/ProcessR_PBMC_V3.ipynb\n",
        "https://github.com/pachterlab/GRNP_2020/blob/master/notebooks/R_processing/ProcessR_PBMC_V3_2.ipynb\n",
        "https://github.com/pachterlab/GRNP_2020/blob/master/notebooks/R_processing/ProcessR_PBMC_V3_3.ipynb\n",
        "https://github.com/pachterlab/GRNP_2020/blob/master/notebooks/R_processing/ProcessR_MARSSEQ.ipynb\n"
      ]
    },
    {
      "cell_type": "markdown",
      "metadata": {
        "id": "h8RnKVMXgbzr"
      },
      "source": [
        "**1. Download the code and processed data**"
      ]
    },
    {
      "cell_type": "code",
      "metadata": {
        "id": "doUAtCxIyOiI"
      },
      "source": [
        "#download the R code\n",
        "![ -d \"GRNP_2020\" ] && rm -r GRNP_2020\n",
        "\n",
        "!git clone https://github.com/pachterlab/GRNP_2020.git\n"
      ],
      "execution_count": null,
      "outputs": []
    },
    {
      "cell_type": "code",
      "metadata": {
        "id": "dUNSQ1qBZb2g"
      },
      "source": [
        "#download processed data from Zenodo\n",
        "#download processed data from Zenodo for all datasets\n",
        "![ -d \"figureData\" ] && rm -r figureData\n",
        "!mkdir figureData\n",
        "!cd figureData && wget https://zenodo.org/record/4661263/files/EVAL.zip?download=1 && unzip 'EVAL.zip?download=1' && rm 'EVAL.zip?download=1'\n",
        "!cd figureData && wget https://zenodo.org/record/4661263/files/EVALPBMC.zip?download=1 && unzip 'EVALPBMC.zip?download=1' && rm 'EVALPBMC.zip?download=1'\n",
        "!cd figureData && wget https://zenodo.org/record/4661263/files/EVALPBMC_DS.zip?download=1 && unzip 'EVALPBMC_DS.zip?download=1' && rm 'EVALPBMC_DS.zip?download=1'\n",
        "!cd figureData && wget https://zenodo.org/record/4661263/files/EVALPBMC_SW.zip?download=1 && unzip 'EVALPBMC_SW.zip?download=1' && rm 'EVALPBMC_SW.zip?download=1'\n",
        "!cd figureData && wget https://zenodo.org/record/4661263/files/PBMC_V3_3.zip?download=1 && unzip 'PBMC_V3_3.zip?download=1' && rm 'PBMC_V3_3.zip?download=1'\n",
        "!cd figureData && wget https://zenodo.org/record/4661263/files/PBMC_V3_2.zip?download=1 && unzip 'PBMC_V3_2.zip?download=1' && rm 'PBMC_V3_2.zip?download=1'\n",
        "!cd figureData && wget https://zenodo.org/record/4661263/files/PBMC_V3.zip?download=1 && unzip 'PBMC_V3.zip?download=1' && rm 'PBMC_V3.zip?download=1'\n",
        "!cd figureData && wget https://zenodo.org/record/4661263/files/PBMC_NG.zip?download=1 && unzip 'PBMC_NG.zip?download=1' && rm 'PBMC_NG.zip?download=1'\n",
        "!cd figureData && wget https://zenodo.org/record/4661263/files/PBMC_NG_2.zip?download=1 && unzip 'PBMC_NG_2.zip?download=1' && rm 'PBMC_NG_2.zip?download=1'\n",
        "!cd figureData && wget https://zenodo.org/record/4661263/files/PBMC_V2.zip?download=1 && unzip 'PBMC_V2.zip?download=1' && rm 'PBMC_V2.zip?download=1'\n",
        "!cd figureData && wget https://zenodo.org/record/4661263/files/LC.zip?download=1 && unzip 'LC.zip?download=1' && rm 'LC.zip?download=1'\n",
        "!cd figureData && wget https://zenodo.org/record/4661263/files/MRET.zip?download=1 && unzip 'MRET.zip?download=1' && rm 'MRET.zip?download=1'\n",
        "!cd figureData && wget https://zenodo.org/record/4661263/files/MRET2.zip?download=1 && unzip 'MRET2.zip?download=1' && rm 'MRET2.zip?download=1'!cd figureData && wget https://zenodo.org/record/4661263/files/MARSSEQ.zip?download=1 && unzip 'MARSSEQ.zip?download=1' && rm 'MARSSEQ.zip?download=1'"
      ],
      "execution_count": null,
      "outputs": []
    },
    {
      "cell_type": "code",
      "metadata": {
        "id": "oesgTqLO0Qje"
      },
      "source": [
        "#Check that download worked\n",
        "!cd figureData && ls -l && cd EVAL && ls -l"
      ],
      "execution_count": null,
      "outputs": []
    },
    {
      "cell_type": "markdown",
      "metadata": {
        "id": "sCmhNVdYgkWH"
      },
      "source": [
        "**2. Prepare the R environment**"
      ]
    },
    {
      "cell_type": "code",
      "metadata": {
        "id": "5Gt6rQkSXriM"
      },
      "source": [
        "#switch to R mode\n",
        "%reload_ext rpy2.ipython\n"
      ],
      "execution_count": null,
      "outputs": []
    },
    {
      "cell_type": "code",
      "metadata": {
        "id": "jJ3rQJCdgeJa"
      },
      "source": [
        "#install the R packages and setup paths\n",
        "%%R\n",
        "install.packages(\"dplyr\")\n",
        "install.packages(\"ggplot2\")\n",
        "install.packages(\"ggpubr\")\n",
        "\n"
      ],
      "execution_count": null,
      "outputs": []
    },
    {
      "cell_type": "markdown",
      "metadata": {
        "id": "x56fjfCSicrp"
      },
      "source": [
        "**3. Generate the figures**\n"
      ]
    },
    {
      "cell_type": "code",
      "metadata": {
        "id": "V37XLBAO68oR"
      },
      "source": [
        "#First set some path variables\n",
        "%%R\n",
        "source(\"GRNP_2020/RCode/pathsGoogleColab.R\")\n"
      ],
      "execution_count": null,
      "outputs": []
    },
    {
      "cell_type": "code",
      "metadata": {
        "id": "R6kuhOmzZL_X"
      },
      "source": [
        "#Import helpers (available in other notebooks)\n",
        "%%R\n",
        "source(paste0(sourcePath,\"ButterflyHelpers.R\"))\n",
        "\n"
      ],
      "execution_count": null,
      "outputs": []
    },
    {
      "cell_type": "code",
      "metadata": {
        "id": "kqZPO7XjtPPa"
      },
      "source": [
        "#create figure directory\n",
        "![ -d \"figures\" ] && rm -r figures\n",
        "!mkdir figures"
      ],
      "execution_count": null,
      "outputs": []
    },
    {
      "cell_type": "code",
      "metadata": {
        "id": "tkQeT362BM7V"
      },
      "source": [
        "#####################################################\n",
        "#Load the data and create a function for generating histogram plots\n",
        "#####################################################\n",
        "%%R\n",
        "library(ggplot2)\n",
        "library(ggpubr)\n",
        "\n",
        "loadStats(\"LC\")\n",
        "loadStats(\"PBMC_NG\")\n",
        "loadStats(\"PBMC_NG_2\")\n",
        "loadStats(\"PBMC_V3\")\n",
        "loadStats(\"PBMC_V3_2\")\n",
        "loadStats(\"PBMC_V3_3\")\n",
        "loadStats(\"PBMC_V2\")\n",
        "loadStats(\"EVAL\")\n",
        "loadStats(\"EVALPBMC\")\n",
        "loadStats(\"EVALPBMC_DS\")\n",
        "loadStats(\"EVALPBMC_SW\")\n",
        "loadStats(\"MRET\")\n",
        "loadStats(\"MRET2\")\n",
        "loadStats(\"MARSSEQ\")\n",
        "\n",
        "#function for generating histogram plot\n",
        "FSCMHistPlot = function(umis, fracones, title) {\n",
        "  filt = fracones[umis >= 30]\n",
        "  h = hist(filt, breaks=seq(0, 1, by=0.05), plot=F)\n",
        "  df = data.frame(x = h$mids, y = h$density*0.05) #convert density to fraction of the total molecules\n",
        "  fig = ggplot(df,aes(x=x,y=y)) +\n",
        "    geom_bar(stat=\"identity\", orientation = \"x\") + #orientation x is a workaround for a bug in ggplot\n",
        "    labs(y=\"Frac. of mol.\", x=\"FSCM\", title=title) +\n",
        "    theme(panel.background = element_rect(\"white\", \"white\", 0, 0, \"white\")) +\n",
        "    theme(axis.title = element_text(size = 10))\n",
        "  v = var(filt)\n",
        "  return(list(f=fig, v= v))\n",
        "}\n",
        "\n"
      ],
      "execution_count": null,
      "outputs": []
    },
    {
      "cell_type": "code",
      "metadata": {
        "id": "3VsY9_Ky84Go"
      },
      "source": [
        "#####################################################\n",
        "# Fig S1 (10X datasets)\n",
        "#####################################################\n",
        "%%R\n",
        "figS1_1 = FSCMHistPlot(statsPBMC_V3$UMIs_PBMC_V3_d_100, statsPBMC_V3$FracOnes_PBMC_V3_d_100, \"PBMC_V3\")\n",
        "figS1_2 = FSCMHistPlot(statsPBMC_V3_2$UMIs_PBMC_V3_2_d_100, statsPBMC_V3_2$FracOnes_PBMC_V3_2_d_100, \"PBMC_V3_2\")\n",
        "figS1_3 = FSCMHistPlot(statsPBMC_V3_3$UMIs_PBMC_V3_3_d_100, statsPBMC_V3_3$FracOnes_PBMC_V3_3_d_100, \"PBMC_V3_3\")\n",
        "figS1_4 = FSCMHistPlot(statsPBMC_NG$UMIs_PBMC_NG_d_100, statsPBMC_NG$FracOnes_PBMC_NG_d_100, \"PBMC_NG\")\n",
        "figS1_5 = FSCMHistPlot(statsPBMC_NG_2$UMIs_PBMC_NG_2_d_100, statsPBMC_NG_2$FracOnes_PBMC_NG_2_d_100, \"PBMC_NG_2\")\n",
        "figS1_6 = FSCMHistPlot(statsPBMC_V2$UMIs_PBMC_V2_d_100, statsPBMC_V2$FracOnes_PBMC_V2_d_100, \"PBMC_V2\")\n",
        "figS1_7 = FSCMHistPlot(statsEVAL$UMIs_EVAL_d_100, statsEVAL$FracOnes_EVAL_d_100, \"EVAL\")\n",
        "figS1_8 = FSCMHistPlot(statsEVALPBMC$UMIs_EVALPBMC_d_100, statsEVALPBMC$FracOnes_EVALPBMC_d_100, \"EVALPBMC\")\n",
        "figS1_9 = FSCMHistPlot(statsLC$UMIs_LC_d_100, statsLC$FracOnes_LC_d_100, \"LC\")\n",
        "figS1_10 = FSCMHistPlot(statsMRET2$UMIs_MRET2_d_100, statsMRET2$FracOnes_MRET2_d_100, \"MRET2\")\n",
        "\n",
        "figS1 = ggarrange(figS1_1$f, figS1_2$f, figS1_3$f, figS1_4$f, figS1_5$f, figS1_6$f, figS1_7$f,\n",
        "                       figS1_8$f, figS1_9$f, figS1_10$f, nrow=4, ncol=3,\n",
        "                       labels=c(\"A\",\"B\",\"C\",\"D\",\"E\",\"F\",\"G\",\"H\",\"I\",\"J\"))\n",
        "print(figS1)\n",
        "ggsave(\n",
        "  paste0(figure_path, \"FigS1.png\"),\n",
        "  plot = figS1, device = \"png\",\n",
        "  width = 6, height = 7, dpi = 300)\n",
        "\n",
        "tenxvariances = c(figS1_1$v,figS1_2$v,figS1_3$v,figS1_4$v,figS1_5$v,figS1_6$v,figS1_7$v,figS1_8$v,figS1_9$v,figS1_10$v)\n",
        "\n",
        "print(paste0(\"Mean variance, 10X: \", mean(tenxvariances)))#0.03326073\n",
        "print(paste0(\"Std dev of variance, 10X: \", sd(tenxvariances)))#0.01171921\n"
      ],
      "execution_count": null,
      "outputs": []
    },
    {
      "cell_type": "code",
      "metadata": {
        "id": "kbl2tuKBgVzn"
      },
      "source": [
        "###########################\n",
        "# Fig S2 (Drop-Seq datasets)\n",
        "###########################\n",
        "%%R\n",
        "\n",
        "figS2_1 = FSCMHistPlot(statsEVALPBMC_DS$UMIs_EVALPBMC_DS_d_100, statsEVALPBMC_DS$FracOnes_EVALPBMC_DS_d_100, \"EVALPBMC_DS\")\n",
        "figS2_2 = FSCMHistPlot(statsMRET$UMIs_MRET_d_100, statsMRET$FracOnes_MRET_d_100, \"MRET\")\n",
        "\n",
        "figS2 = ggarrange(figS2_1$f, figS2_2$f, nrow=1, ncol=2,\n",
        "                  labels=c(\"A\",\"B\"))\n",
        "print(figS2)\n",
        "ggsave(\n",
        "  paste0(figure_path, \"FigS2.png\"),\n",
        "  plot = figS2, device = \"png\",\n",
        "  width = 4, height = 2, dpi = 300)\n",
        "\n",
        "dsvariances = c(figS2_1$v,figS2_2$v)\n",
        "print(paste0(\"Mean variance, Drop-Seq: \", mean(dsvariances)))#0.01790591\n",
        "print(paste0(\"Std dev of variance, Drop-Seq: \", sd(dsvariances)))#0.001654036\n"
      ],
      "execution_count": null,
      "outputs": []
    },
    {
      "cell_type": "code",
      "metadata": {
        "id": "-1T-lf5KhE3C"
      },
      "source": [
        "###########################\n",
        "# Fig S3 (Seq-Well dataset)\n",
        "###########################\n",
        "%%R\n",
        "figS3_1 = FSCMHistPlot(statsEVALPBMC_SW$UMIs_EVALPBMC_SW_d_100, statsEVALPBMC_SW$FracOnes_EVALPBMC_SW_d_100, \"EVALPBMC_SW\")\n",
        "figS3_2 = FSCMHistPlot(statsMARSSEQ$UMIs_MARSSEQ_d_100, statsMARSSEQ$FracOnes_MARSSEQ_d_100, \"MARSSEQ\")\n",
        "\n",
        "figS3 = ggarrange(figS3_1$f, figS3_2$f, nrow=1, ncol=2,\n",
        "                  labels=c(\"A\",\"B\"))\n",
        "\n",
        "print(figS3)\n",
        "ggsave(\n",
        "  paste0(figure_path, \"FigS3.png\"),\n",
        "  plot = figS3, device = \"png\",\n",
        "  width = 4, height = 2, dpi = 300)\n",
        "\n",
        "swvariances = figS3_1$v\n",
        "print(paste0(\"Mean variance, SeqWell: \", mean(swvariances)))#0.02304077\n",
        "MARSSEQvariances = figS3_2$v\n",
        "print(paste0(\"Mean variance, MARS-Seq: \", mean(MARSSEQvariances)))#0.01653287\n"
      ],
      "execution_count": null,
      "outputs": []
    }
  ]
}