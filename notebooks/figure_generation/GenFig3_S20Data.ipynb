{
  "nbformat": 4,
  "nbformat_minor": 0,
  "metadata": {
    "colab": {
      "name": "GenFig3_S20Data.ipynb",
      "provenance": [],
      "collapsed_sections": [],
      "include_colab_link": true
    },
    "kernelspec": {
      "name": "python3",
      "display_name": "Python 3"
    }
  },
  "cells": [
    {
      "cell_type": "markdown",
      "metadata": {
        "id": "view-in-github",
        "colab_type": "text"
      },
      "source": [
        "<a href=\"https://colab.research.google.com/github/pachterlab/GRNP_2020/blob/master/notebooks/figure_generation/GenFigS3_S20Data.ipynb\" target=\"_parent\"><img src=\"https://colab.research.google.com/assets/colab-badge.svg\" alt=\"Open In Colab\"/></a>"
      ]
    },
    {
      "cell_type": "markdown",
      "metadata": {
        "id": "dhydD96df06z",
        "colab_type": "text"
      },
      "source": [
        "**Precalculates data for figure 3 and supplementary figure 20**\n",
        "\n",
        "This notebook precalculates the data for the figures since there are some heavy calculation steps involved for generating the figures. The most demanding task is prediction of unseen molecules for each gene using the ZTNB method. This notebook may take 15-30 minutes to run.\n",
        "\n",
        "Steps:\n",
        "1. Download the code and processed data\n",
        "2. Setup the R environment\n",
        "3. Generate the data"
      ]
    },
    {
      "cell_type": "markdown",
      "metadata": {
        "id": "h8RnKVMXgbzr",
        "colab_type": "text"
      },
      "source": [
        "**1. Download the code and processed data**"
      ]
    },
    {
      "cell_type": "code",
      "metadata": {
        "id": "doUAtCxIyOiI",
        "colab_type": "code",
        "colab": {
          "base_uri": "https://localhost:8080/",
          "height": 136
        },
        "outputId": "067c8fc8-e3c9-4f4a-e5f5-7a2b92092ef0"
      },
      "source": [
        "#download the R code\n",
        "![ -d \"GRNP_2020\" ] && rm -r GRNP_2020\n",
        "\n",
        "!git clone https://github.com/pachterlab/GRNP_2020.git\n"
      ],
      "execution_count": 1,
      "outputs": [
        {
          "output_type": "stream",
          "text": [
            "Cloning into 'GRNP_2020'...\n",
            "remote: Enumerating objects: 153, done.\u001b[K\n",
            "remote: Counting objects: 100% (153/153), done.\u001b[K\n",
            "remote: Compressing objects: 100% (118/118), done.\u001b[K\n",
            "remote: Total 1036 (delta 98), reused 64 (delta 35), pack-reused 883\u001b[K\n",
            "Receiving objects: 100% (1036/1036), 7.40 MiB | 5.04 MiB/s, done.\n",
            "Resolving deltas: 100% (652/652), done.\n"
          ],
          "name": "stdout"
        }
      ]
    },
    {
      "cell_type": "code",
      "metadata": {
        "id": "dUNSQ1qBZb2g",
        "colab_type": "code",
        "colab": {
          "base_uri": "https://localhost:8080/",
          "height": 442
        },
        "outputId": "052c6f44-c1c1-41fb-e717-21a1a78dc753"
      },
      "source": [
        "#download processed data from Zenodo for all datasets\n",
        "![ -d \"figureData\" ] && rm -r figureData\n",
        "!mkdir figureData\n",
        "!cd figureData && wget https://zenodo.org/record/3909758/files/EVALPBMC.zip?download=1 && unzip 'EVALPBMC.zip?download=1' && rm 'EVALPBMC.zip?download=1'"
      ],
      "execution_count": 2,
      "outputs": [
        {
          "output_type": "stream",
          "text": [
            "--2020-07-02 20:01:02--  https://zenodo.org/record/3909758/files/EVALPBMC.zip?download=1\n",
            "Resolving zenodo.org (zenodo.org)... 188.184.117.155\n",
            "Connecting to zenodo.org (zenodo.org)|188.184.117.155|:443... connected.\n",
            "HTTP request sent, awaiting response... 200 OK\n",
            "Length: 467646609 (446M) [application/octet-stream]\n",
            "Saving to: ‘EVALPBMC.zip?download=1’\n",
            "\n",
            "EVALPBMC.zip?downlo 100%[===================>] 445.98M  6.17MB/s    in 71s     \n",
            "\n",
            "2020-07-02 20:02:28 (6.25 MB/s) - ‘EVALPBMC.zip?download=1’ saved [467646609/467646609]\n",
            "\n",
            "Archive:  EVALPBMC.zip?download=1\n",
            "   creating: EVALPBMC/\n",
            "  inflating: EVALPBMC/Bug_10.RData   \n",
            "  inflating: EVALPBMC/Bug_100.RData  \n",
            "  inflating: EVALPBMC/Bug_20.RData   \n",
            "  inflating: EVALPBMC/Bug_40.RData   \n",
            "  inflating: EVALPBMC/Bug_5.RData    \n",
            "  inflating: EVALPBMC/Bug_60.RData   \n",
            "  inflating: EVALPBMC/Bug_80.RData   \n",
            "  inflating: EVALPBMC/ds_summary.txt  \n",
            "  inflating: EVALPBMC/pooledHist.RData  \n",
            "  inflating: EVALPBMC/pooledHistDS.RData  \n",
            "  inflating: EVALPBMC/PredEvalData.RDS  \n",
            "  inflating: EVALPBMC/Stats.RData    \n"
          ],
          "name": "stdout"
        }
      ]
    },
    {
      "cell_type": "code",
      "metadata": {
        "id": "gH2yLP4u_Feo",
        "colab_type": "code",
        "colab": {
          "base_uri": "https://localhost:8080/",
          "height": 442
        },
        "outputId": "3b0a114d-5225-4c20-e901-4b7f6ba06d3a"
      },
      "source": [
        "!cd figureData && wget https://zenodo.org/record/3909758/files/PBMC_V2.zip?download=1 && unzip 'PBMC_V2.zip?download=1' && rm 'PBMC_V2.zip?download=1'"
      ],
      "execution_count": 6,
      "outputs": [
        {
          "output_type": "stream",
          "text": [
            "--2020-07-02 20:13:37--  https://zenodo.org/record/3909758/files/PBMC_V2.zip?download=1\n",
            "Resolving zenodo.org (zenodo.org)... 188.184.117.155\n",
            "Connecting to zenodo.org (zenodo.org)|188.184.117.155|:443... connected.\n",
            "HTTP request sent, awaiting response... 200 OK\n",
            "Length: 816179326 (778M) [application/octet-stream]\n",
            "Saving to: ‘PBMC_V2.zip?download=1’\n",
            "\n",
            "PBMC_V2.zip?downloa 100%[===================>] 778.37M  10.7MB/s    in 91s     \n",
            "\n",
            "2020-07-02 20:15:10 (8.59 MB/s) - ‘PBMC_V2.zip?download=1’ saved [816179326/816179326]\n",
            "\n",
            "Archive:  PBMC_V2.zip?download=1\n",
            "   creating: PBMC_V2/\n",
            "  inflating: PBMC_V2/Bug_10.RData    \n",
            "  inflating: PBMC_V2/Bug_100.RData   \n",
            "  inflating: PBMC_V2/Bug_20.RData    \n",
            "  inflating: PBMC_V2/Bug_40.RData    \n",
            "  inflating: PBMC_V2/Bug_5.RData     \n",
            "  inflating: PBMC_V2/Bug_60.RData    \n",
            "  inflating: PBMC_V2/Bug_80.RData    \n",
            "  inflating: PBMC_V2/ds_summary.txt  \n",
            "  inflating: PBMC_V2/pooledHist.RData  \n",
            "  inflating: PBMC_V2/pooledHistDS.RData  \n",
            "  inflating: PBMC_V2/PredEvalData.RDS  \n",
            "  inflating: PBMC_V2/Stats.RData     \n"
          ],
          "name": "stdout"
        }
      ]
    },
    {
      "cell_type": "code",
      "metadata": {
        "id": "0VcGKk7r_GeI",
        "colab_type": "code",
        "colab": {
          "base_uri": "https://localhost:8080/",
          "height": 442
        },
        "outputId": "146fdb3f-2713-4a10-a285-07b0920af9a4"
      },
      "source": [
        "!cd figureData && wget https://zenodo.org/record/3909758/files/PBMC_V3.zip?download=1 && unzip 'PBMC_V3.zip?download=1' && rm 'PBMC_V3.zip?download=1'"
      ],
      "execution_count": 3,
      "outputs": [
        {
          "output_type": "stream",
          "text": [
            "--2020-07-02 20:02:35--  https://zenodo.org/record/3909758/files/PBMC_V3.zip?download=1\n",
            "Resolving zenodo.org (zenodo.org)... 188.184.117.155\n",
            "Connecting to zenodo.org (zenodo.org)|188.184.117.155|:443... connected.\n",
            "HTTP request sent, awaiting response... 200 OK\n",
            "Length: 1127576758 (1.0G) [application/octet-stream]\n",
            "Saving to: ‘PBMC_V3.zip?download=1’\n",
            "\n",
            "PBMC_V3.zip?downloa 100%[===================>]   1.05G  10.4MB/s    in 2m 28s  \n",
            "\n",
            "2020-07-02 20:05:05 (7.27 MB/s) - ‘PBMC_V3.zip?download=1’ saved [1127576758/1127576758]\n",
            "\n",
            "Archive:  PBMC_V3.zip?download=1\n",
            "   creating: PBMC_V3/\n",
            "  inflating: PBMC_V3/Bug_10.RData    \n",
            "  inflating: PBMC_V3/Bug_100.RData   \n",
            "  inflating: PBMC_V3/Bug_20.RData    \n",
            "  inflating: PBMC_V3/Bug_40.RData    \n",
            "  inflating: PBMC_V3/Bug_5.RData     \n",
            "  inflating: PBMC_V3/Bug_60.RData    \n",
            "  inflating: PBMC_V3/Bug_80.RData    \n",
            "  inflating: PBMC_V3/ds_summary.txt  \n",
            "  inflating: PBMC_V3/pooledHist.RData  \n",
            "  inflating: PBMC_V3/pooledHistDS.RData  \n",
            "  inflating: PBMC_V3/PredEvalData.RDS  \n",
            "  inflating: PBMC_V3/Stats.RData     \n"
          ],
          "name": "stdout"
        }
      ]
    },
    {
      "cell_type": "code",
      "metadata": {
        "id": "RNa-2IlK_Gtn",
        "colab_type": "code",
        "colab": {
          "base_uri": "https://localhost:8080/",
          "height": 442
        },
        "outputId": "47572bb9-95ef-4e13-c8c7-244030f5723b"
      },
      "source": [
        "!cd figureData && wget https://zenodo.org/record/3909758/files/PBMC_V3_2.zip?download=1 && unzip 'PBMC_V3_2.zip?download=1' && rm 'PBMC_V3_2.zip?download=1'"
      ],
      "execution_count": 4,
      "outputs": [
        {
          "output_type": "stream",
          "text": [
            "--2020-07-02 20:05:18--  https://zenodo.org/record/3909758/files/PBMC_V3_2.zip?download=1\n",
            "Resolving zenodo.org (zenodo.org)... 188.184.117.155\n",
            "Connecting to zenodo.org (zenodo.org)|188.184.117.155|:443... connected.\n",
            "HTTP request sent, awaiting response... 200 OK\n",
            "Length: 1558568885 (1.5G) [application/octet-stream]\n",
            "Saving to: ‘PBMC_V3_2.zip?download=1’\n",
            "\n",
            "PBMC_V3_2.zip?downl 100%[===================>]   1.45G  8.59MB/s    in 4m 3s   \n",
            "\n",
            "2020-07-02 20:09:24 (6.12 MB/s) - ‘PBMC_V3_2.zip?download=1’ saved [1558568885/1558568885]\n",
            "\n",
            "Archive:  PBMC_V3_2.zip?download=1\n",
            "   creating: PBMC_V3_2/\n",
            "  inflating: PBMC_V3_2/Bug_10.RData  \n",
            "  inflating: PBMC_V3_2/Bug_100.RData  \n",
            "  inflating: PBMC_V3_2/Bug_20.RData  \n",
            "  inflating: PBMC_V3_2/Bug_40.RData  \n",
            "  inflating: PBMC_V3_2/Bug_5.RData   \n",
            "  inflating: PBMC_V3_2/Bug_60.RData  \n",
            "  inflating: PBMC_V3_2/Bug_80.RData  \n",
            "  inflating: PBMC_V3_2/ds_summary.txt  \n",
            "  inflating: PBMC_V3_2/pooledHist.RData  \n",
            "  inflating: PBMC_V3_2/pooledHistDS.RData  \n",
            "  inflating: PBMC_V3_2/PredEvalData.RDS  \n",
            "  inflating: PBMC_V3_2/Stats.RData   \n"
          ],
          "name": "stdout"
        }
      ]
    },
    {
      "cell_type": "code",
      "metadata": {
        "id": "reyt17DJ_G8e",
        "colab_type": "code",
        "colab": {
          "base_uri": "https://localhost:8080/",
          "height": 442
        },
        "outputId": "e809a65d-a6e2-4148-c84c-dc7ff06633c4"
      },
      "source": [
        "!cd figureData && wget https://zenodo.org/record/3909758/files/PBMC_V3_3.zip?download=1 && unzip 'PBMC_V3_3.zip?download=1' && rm 'PBMC_V3_3.zip?download=1'"
      ],
      "execution_count": 5,
      "outputs": [
        {
          "output_type": "stream",
          "text": [
            "--2020-07-02 20:09:42--  https://zenodo.org/record/3909758/files/PBMC_V3_3.zip?download=1\n",
            "Resolving zenodo.org (zenodo.org)... 188.184.117.155\n",
            "Connecting to zenodo.org (zenodo.org)|188.184.117.155|:443... connected.\n",
            "HTTP request sent, awaiting response... 200 OK\n",
            "Length: 1819306744 (1.7G) [application/octet-stream]\n",
            "Saving to: ‘PBMC_V3_3.zip?download=1’\n",
            "\n",
            "PBMC_V3_3.zip?downl 100%[===================>]   1.69G  5.30MB/s    in 3m 29s  \n",
            "\n",
            "2020-07-02 20:13:13 (8.30 MB/s) - ‘PBMC_V3_3.zip?download=1’ saved [1819306744/1819306744]\n",
            "\n",
            "Archive:  PBMC_V3_3.zip?download=1\n",
            "   creating: PBMC_V3_3/\n",
            "  inflating: PBMC_V3_3/Bug_10.RData  \n",
            "  inflating: PBMC_V3_3/Bug_100.RData  \n",
            "  inflating: PBMC_V3_3/Bug_20.RData  \n",
            "  inflating: PBMC_V3_3/Bug_40.RData  \n",
            "  inflating: PBMC_V3_3/Bug_5.RData   \n",
            "  inflating: PBMC_V3_3/Bug_60.RData  \n",
            "  inflating: PBMC_V3_3/Bug_80.RData  \n",
            "  inflating: PBMC_V3_3/ds_summary.txt  \n",
            "  inflating: PBMC_V3_3/pooledHist.RData  \n",
            "  inflating: PBMC_V3_3/pooledHistDS.RData  \n",
            "  inflating: PBMC_V3_3/PredEvalData.RDS  \n",
            "  inflating: PBMC_V3_3/Stats.RData   \n"
          ],
          "name": "stdout"
        }
      ]
    },
    {
      "cell_type": "code",
      "metadata": {
        "id": "mwugJxkv_HLq",
        "colab_type": "code",
        "colab": {
          "base_uri": "https://localhost:8080/",
          "height": 442
        },
        "outputId": "852d11b3-582d-481d-fa73-1887a567cfd7"
      },
      "source": [
        "!cd figureData && wget https://zenodo.org/record/3909758/files/PBMC_NG.zip?download=1 && unzip 'PBMC_NG.zip?download=1' && rm 'PBMC_NG.zip?download=1'"
      ],
      "execution_count": 7,
      "outputs": [
        {
          "output_type": "stream",
          "text": [
            "--2020-07-02 20:15:20--  https://zenodo.org/record/3909758/files/PBMC_NG.zip?download=1\n",
            "Resolving zenodo.org (zenodo.org)... 188.184.117.155\n",
            "Connecting to zenodo.org (zenodo.org)|188.184.117.155|:443... connected.\n",
            "HTTP request sent, awaiting response... 200 OK\n",
            "Length: 1183970256 (1.1G) [application/octet-stream]\n",
            "Saving to: ‘PBMC_NG.zip?download=1’\n",
            "\n",
            "PBMC_NG.zip?downloa 100%[===================>]   1.10G  8.90MB/s    in 2m 36s  \n",
            "\n",
            "2020-07-02 20:17:58 (7.23 MB/s) - ‘PBMC_NG.zip?download=1’ saved [1183970256/1183970256]\n",
            "\n",
            "Archive:  PBMC_NG.zip?download=1\n",
            "   creating: PBMC_NG/\n",
            "  inflating: PBMC_NG/Bug_10.RData    \n",
            "  inflating: PBMC_NG/Bug_100.RData   \n",
            "  inflating: PBMC_NG/Bug_20.RData    \n",
            "  inflating: PBMC_NG/Bug_40.RData    \n",
            "  inflating: PBMC_NG/Bug_5.RData     \n",
            "  inflating: PBMC_NG/Bug_60.RData    \n",
            "  inflating: PBMC_NG/Bug_80.RData    \n",
            "  inflating: PBMC_NG/ds_summary.txt  \n",
            "  inflating: PBMC_NG/pooledHist.RData  \n",
            "  inflating: PBMC_NG/pooledHistDS.RData  \n",
            "  inflating: PBMC_NG/PredEvalData.RDS  \n",
            "  inflating: PBMC_NG/Stats.RData     \n"
          ],
          "name": "stdout"
        }
      ]
    },
    {
      "cell_type": "code",
      "metadata": {
        "id": "fyw4_npm_Hbi",
        "colab_type": "code",
        "colab": {
          "base_uri": "https://localhost:8080/",
          "height": 442
        },
        "outputId": "c1f4859d-32ef-4a38-e053-132abeac112f"
      },
      "source": [
        "!cd figureData && wget https://zenodo.org/record/3909758/files/PBMC_NG_2.zip?download=1 && unzip 'PBMC_NG_2.zip?download=1' && rm 'PBMC_NG_2.zip?download=1'"
      ],
      "execution_count": 8,
      "outputs": [
        {
          "output_type": "stream",
          "text": [
            "--2020-07-02 20:18:12--  https://zenodo.org/record/3909758/files/PBMC_NG_2.zip?download=1\n",
            "Resolving zenodo.org (zenodo.org)... 188.184.117.155\n",
            "Connecting to zenodo.org (zenodo.org)|188.184.117.155|:443... connected.\n",
            "HTTP request sent, awaiting response... 200 OK\n",
            "Length: 1753743936 (1.6G) [application/octet-stream]\n",
            "Saving to: ‘PBMC_NG_2.zip?download=1’\n",
            "\n",
            "PBMC_NG_2.zip?downl 100%[===================>]   1.63G  5.09MB/s    in 3m 27s  \n",
            "\n",
            "2020-07-02 20:21:41 (8.08 MB/s) - ‘PBMC_NG_2.zip?download=1’ saved [1753743936/1753743936]\n",
            "\n",
            "Archive:  PBMC_NG_2.zip?download=1\n",
            "   creating: PBMC_NG_2/\n",
            "  inflating: PBMC_NG_2/Bug_10.RData  \n",
            "  inflating: PBMC_NG_2/Bug_100.RData  \n",
            "  inflating: PBMC_NG_2/Bug_20.RData  \n",
            "  inflating: PBMC_NG_2/Bug_40.RData  \n",
            "  inflating: PBMC_NG_2/Bug_5.RData   \n",
            "  inflating: PBMC_NG_2/Bug_60.RData  \n",
            "  inflating: PBMC_NG_2/Bug_80.RData  \n",
            "  inflating: PBMC_NG_2/ds_summary.txt  \n",
            "  inflating: PBMC_NG_2/pooledHist.RData  \n",
            "  inflating: PBMC_NG_2/pooledHistDS.RData  \n",
            "  inflating: PBMC_NG_2/PredEvalData.RDS  \n",
            "  inflating: PBMC_NG_2/Stats.RData   \n"
          ],
          "name": "stdout"
        }
      ]
    },
    {
      "cell_type": "code",
      "metadata": {
        "id": "EnQJhLZjOT1H",
        "colab_type": "code",
        "colab": {
          "base_uri": "https://localhost:8080/",
          "height": 374
        },
        "outputId": "9348af2c-57dc-40a4-e676-d176aaacfbdb"
      },
      "source": [
        "!cd figureData && wget https://zenodo.org/record/3909758/files/FigureData.zip?download=1 && unzip 'FigureData.zip?download=1' && rm 'FigureData.zip?download=1'"
      ],
      "execution_count": 16,
      "outputs": [
        {
          "output_type": "stream",
          "text": [
            "--2020-07-02 20:31:05--  https://zenodo.org/record/3909758/files/FigureData.zip?download=1\n",
            "Resolving zenodo.org (zenodo.org)... 188.184.117.155\n",
            "Connecting to zenodo.org (zenodo.org)|188.184.117.155|:443... connected.\n",
            "HTTP request sent, awaiting response... 200 OK\n",
            "Length: 4901056 (4.7M) [application/octet-stream]\n",
            "Saving to: ‘FigureData.zip?download=1’\n",
            "\n",
            "FigureData.zip?down 100%[===================>]   4.67M  2.15MB/s    in 2.2s    \n",
            "\n",
            "2020-07-02 20:31:09 (2.15 MB/s) - ‘FigureData.zip?download=1’ saved [4901056/4901056]\n",
            "\n",
            "Archive:  FigureData.zip?download=1\n",
            "  inflating: extreme_genes.txt       \n",
            " extracting: Fig1_h1.RDS             \n",
            " extracting: Fig1_h2.RDS             \n",
            " extracting: Fig1_r1_III.RDS         \n",
            " extracting: Fig1_r2_III.RDS         \n",
            "  inflating: Fig3_ldata.RDS          \n",
            "  inflating: Fig3_ldata2.RDS         \n",
            "  inflating: Fig4_d1.RDS             \n",
            "  inflating: PBMC_V3_3_ds10_20Times.RData  \n"
          ],
          "name": "stdout"
        }
      ]
    },
    {
      "cell_type": "code",
      "metadata": {
        "id": "oesgTqLO0Qje",
        "colab_type": "code",
        "colab": {
          "base_uri": "https://localhost:8080/",
          "height": 527
        },
        "outputId": "f3a91c5d-460e-492d-a3fd-3430d3bad0b8"
      },
      "source": [
        "#Check that download worked\n",
        "!cd figureData && ls -l && cd EVALPBMC && ls -l"
      ],
      "execution_count": 17,
      "outputs": [
        {
          "output_type": "stream",
          "text": [
            "total 4844\n",
            "drwxr-xr-x 2 root root    4096 Jul  1 20:29 EVALPBMC\n",
            "-rw-r--r-- 1 root root    1422 Jul  1 19:49 extreme_genes.txt\n",
            "-rw-r--r-- 1 root root     683 Jun 30 16:55 Fig1_h1.RDS\n",
            "-rw-r--r-- 1 root root     830 Jun 30 16:55 Fig1_h2.RDS\n",
            "-rw-r--r-- 1 root root     239 Jun 30 18:19 Fig1_r1_III.RDS\n",
            "-rw-r--r-- 1 root root     233 Jun 30 18:19 Fig1_r2_III.RDS\n",
            "-rw-r--r-- 1 root root  338635 Jul  1 18:16 Fig3_ldata2.RDS\n",
            "-rw-r--r-- 1 root root  480081 Jul  1 18:16 Fig3_ldata.RDS\n",
            "-rw-r--r-- 1 root root 3949987 Jul  1 19:08 Fig4_d1.RDS\n",
            "drwxr-xr-x 2 root root    4096 Jul  1 22:18 PBMC_NG\n",
            "drwxr-xr-x 2 root root    4096 Jul  1 22:37 PBMC_NG_2\n",
            "drwxr-xr-x 2 root root    4096 Jul  1 22:52 PBMC_V2\n",
            "drwxr-xr-x 2 root root    4096 Jul  1 21:27 PBMC_V3\n",
            "drwxr-xr-x 2 root root    4096 Jul  1 21:43 PBMC_V3_2\n",
            "drwxr-xr-x 2 root root    4096 Jul  1 22:03 PBMC_V3_3\n",
            "-rw-r--r-- 1 root root  133329 Jul  1 17:57 PBMC_V3_3_ds10_20Times.RData\n",
            "total 486724\n",
            "-rw-r--r-- 1 root root 87322865 Jun 30 12:01 Bug_100.RData\n",
            "-rw-r--r-- 1 root root 53475778 Jun 30 11:52 Bug_10.RData\n",
            "-rw-r--r-- 1 root root 65711410 Jun 30 11:53 Bug_20.RData\n",
            "-rw-r--r-- 1 root root 75161084 Jun 30 11:56 Bug_40.RData\n",
            "-rw-r--r-- 1 root root 37818341 Jun 30 11:52 Bug_5.RData\n",
            "-rw-r--r-- 1 root root 80649419 Jun 30 11:58 Bug_60.RData\n",
            "-rw-r--r-- 1 root root 84316810 Jun 30 12:00 Bug_80.RData\n",
            "-rw-r--r-- 1 root root      992 Jul  1 02:30 ds_summary.txt\n",
            "-rw-r--r-- 1 root root   316188 Jul  1 15:25 pooledHistDS.RData\n",
            "-rw-r--r-- 1 root root   720120 Jul  1 15:25 pooledHist.RData\n",
            "-rw-r--r-- 1 root root 11259902 Jul  1 20:29 PredEvalData.RDS\n",
            "-rw-r--r-- 1 root root  1633732 Jun 30 12:01 Stats.RData\n"
          ],
          "name": "stdout"
        }
      ]
    },
    {
      "cell_type": "markdown",
      "metadata": {
        "id": "sCmhNVdYgkWH",
        "colab_type": "text"
      },
      "source": [
        "**2. Prepare the R environment**"
      ]
    },
    {
      "cell_type": "code",
      "metadata": {
        "id": "5Gt6rQkSXriM",
        "colab_type": "code",
        "colab": {
          "base_uri": "https://localhost:8080/",
          "height": 85
        },
        "outputId": "0b77de29-bdf3-455f-94dc-f5d02b0e6e39"
      },
      "source": [
        "#switch to R mode\n",
        "%reload_ext rpy2.ipython\n"
      ],
      "execution_count": 10,
      "outputs": [
        {
          "output_type": "stream",
          "text": [
            "/usr/local/lib/python3.6/dist-packages/rpy2/robjects/pandas2ri.py:14: FutureWarning: pandas.core.index is deprecated and will be removed in a future version.  The public classes are available in the top-level namespace.\n",
            "  from pandas.core.index import Index as PandasIndex\n",
            "/usr/local/lib/python3.6/dist-packages/rpy2/robjects/pandas2ri.py:34: UserWarning: pandas >= 1.0 is not supported.\n",
            "  warnings.warn('pandas >= 1.0 is not supported.')\n"
          ],
          "name": "stderr"
        }
      ]
    },
    {
      "cell_type": "code",
      "metadata": {
        "id": "jJ3rQJCdgeJa",
        "colab_type": "code",
        "colab": {
          "base_uri": "https://localhost:8080/",
          "height": 1000
        },
        "outputId": "259c988b-19c5-47f2-8614-4fe32c902410"
      },
      "source": [
        "#install the R packages and setup paths\n",
        "%%R\n",
        "#install.packages(\"qdapTools\")\n",
        "install.packages(\"dplyr\")\n",
        "install.packages(\"preseqR\")\n",
        "#install.packages(\"stringdist\")\n"
      ],
      "execution_count": 11,
      "outputs": [
        {
          "output_type": "stream",
          "text": [
            "R[write to console]: Installing package into ‘/usr/local/lib/R/site-library’\n",
            "(as ‘lib’ is unspecified)\n",
            "\n",
            "R[write to console]: trying URL 'https://cran.rstudio.com/src/contrib/dplyr_1.0.0.tar.gz'\n",
            "\n",
            "R[write to console]: Content type 'application/x-gzip'\n",
            "R[write to console]:  length 836651 bytes (817 KB)\n",
            "\n",
            "R[write to console]: =\n",
            "R[write to console]: =\n",
            "R[write to console]: =\n",
            "R[write to console]: =\n",
            "R[write to console]: =\n",
            "R[write to console]: =\n",
            "R[write to console]: =\n",
            "R[write to console]: =\n",
            "R[write to console]: =\n",
            "R[write to console]: =\n",
            "R[write to console]: =\n",
            "R[write to console]: =\n",
            "R[write to console]: =\n",
            "R[write to console]: =\n",
            "R[write to console]: =\n",
            "R[write to console]: =\n",
            "R[write to console]: =\n",
            "R[write to console]: =\n",
            "R[write to console]: =\n",
            "R[write to console]: =\n",
            "R[write to console]: =\n",
            "R[write to console]: =\n",
            "R[write to console]: =\n",
            "R[write to console]: =\n",
            "R[write to console]: =\n",
            "R[write to console]: =\n",
            "R[write to console]: =\n",
            "R[write to console]: =\n",
            "R[write to console]: =\n",
            "R[write to console]: =\n",
            "R[write to console]: =\n",
            "R[write to console]: =\n",
            "R[write to console]: =\n",
            "R[write to console]: =\n",
            "R[write to console]: =\n",
            "R[write to console]: =\n",
            "R[write to console]: =\n",
            "R[write to console]: =\n",
            "R[write to console]: =\n",
            "R[write to console]: =\n",
            "R[write to console]: =\n",
            "R[write to console]: =\n",
            "R[write to console]: =\n",
            "R[write to console]: =\n",
            "R[write to console]: =\n",
            "R[write to console]: =\n",
            "R[write to console]: =\n",
            "R[write to console]: =\n",
            "R[write to console]: =\n",
            "R[write to console]: =\n",
            "R[write to console]: \n",
            "\n",
            "R[write to console]: downloaded 817 KB\n",
            "\n",
            "\n",
            "R[write to console]: \n",
            "\n",
            "R[write to console]: \n",
            "R[write to console]: The downloaded source packages are in\n",
            "\t‘/tmp/Rtmp8tjIzm/downloaded_packages’\n",
            "R[write to console]: \n",
            "R[write to console]: \n",
            "\n",
            "R[write to console]: Installing package into ‘/usr/local/lib/R/site-library’\n",
            "(as ‘lib’ is unspecified)\n",
            "\n",
            "R[write to console]: also installing the dependency ‘polynom’\n",
            "\n",
            "\n",
            "R[write to console]: trying URL 'https://cran.rstudio.com/src/contrib/polynom_1.4-0.tar.gz'\n",
            "\n",
            "R[write to console]: Content type 'application/x-gzip'\n",
            "R[write to console]:  length 243462 bytes (237 KB)\n",
            "\n",
            "R[write to console]: =\n",
            "R[write to console]: =\n",
            "R[write to console]: =\n",
            "R[write to console]: =\n",
            "R[write to console]: =\n",
            "R[write to console]: =\n",
            "R[write to console]: =\n",
            "R[write to console]: =\n",
            "R[write to console]: =\n",
            "R[write to console]: =\n",
            "R[write to console]: =\n",
            "R[write to console]: =\n",
            "R[write to console]: =\n",
            "R[write to console]: =\n",
            "R[write to console]: =\n",
            "R[write to console]: =\n",
            "R[write to console]: =\n",
            "R[write to console]: =\n",
            "R[write to console]: =\n",
            "R[write to console]: =\n",
            "R[write to console]: =\n",
            "R[write to console]: =\n",
            "R[write to console]: =\n",
            "R[write to console]: =\n",
            "R[write to console]: =\n",
            "R[write to console]: =\n",
            "R[write to console]: =\n",
            "R[write to console]: =\n",
            "R[write to console]: =\n",
            "R[write to console]: =\n",
            "R[write to console]: =\n",
            "R[write to console]: =\n",
            "R[write to console]: =\n",
            "R[write to console]: =\n",
            "R[write to console]: =\n",
            "R[write to console]: =\n",
            "R[write to console]: =\n",
            "R[write to console]: =\n",
            "R[write to console]: =\n",
            "R[write to console]: =\n",
            "R[write to console]: =\n",
            "R[write to console]: =\n",
            "R[write to console]: =\n",
            "R[write to console]: =\n",
            "R[write to console]: =\n",
            "R[write to console]: =\n",
            "R[write to console]: =\n",
            "R[write to console]: =\n",
            "R[write to console]: =\n",
            "R[write to console]: =\n",
            "R[write to console]: \n",
            "\n",
            "R[write to console]: downloaded 237 KB\n",
            "\n",
            "\n",
            "R[write to console]: trying URL 'https://cran.rstudio.com/src/contrib/preseqR_4.0.0.tar.gz'\n",
            "\n",
            "R[write to console]: Content type 'application/x-gzip'\n",
            "R[write to console]:  length 84783 bytes (82 KB)\n",
            "\n",
            "R[write to console]: =\n",
            "R[write to console]: =\n",
            "R[write to console]: =\n",
            "R[write to console]: =\n",
            "R[write to console]: =\n",
            "R[write to console]: =\n",
            "R[write to console]: =\n",
            "R[write to console]: =\n",
            "R[write to console]: =\n",
            "R[write to console]: =\n",
            "R[write to console]: =\n",
            "R[write to console]: =\n",
            "R[write to console]: =\n",
            "R[write to console]: =\n",
            "R[write to console]: =\n",
            "R[write to console]: =\n",
            "R[write to console]: =\n",
            "R[write to console]: =\n",
            "R[write to console]: =\n",
            "R[write to console]: =\n",
            "R[write to console]: =\n",
            "R[write to console]: =\n",
            "R[write to console]: =\n",
            "R[write to console]: =\n",
            "R[write to console]: =\n",
            "R[write to console]: =\n",
            "R[write to console]: =\n",
            "R[write to console]: =\n",
            "R[write to console]: =\n",
            "R[write to console]: =\n",
            "R[write to console]: =\n",
            "R[write to console]: =\n",
            "R[write to console]: =\n",
            "R[write to console]: =\n",
            "R[write to console]: =\n",
            "R[write to console]: =\n",
            "R[write to console]: =\n",
            "R[write to console]: =\n",
            "R[write to console]: =\n",
            "R[write to console]: =\n",
            "R[write to console]: =\n",
            "R[write to console]: =\n",
            "R[write to console]: =\n",
            "R[write to console]: =\n",
            "R[write to console]: =\n",
            "R[write to console]: =\n",
            "R[write to console]: =\n",
            "R[write to console]: =\n",
            "R[write to console]: =\n",
            "R[write to console]: =\n",
            "R[write to console]: \n",
            "\n",
            "R[write to console]: downloaded 82 KB\n",
            "\n",
            "\n",
            "R[write to console]: \n",
            "\n",
            "R[write to console]: \n",
            "R[write to console]: The downloaded source packages are in\n",
            "\t‘/tmp/Rtmp8tjIzm/downloaded_packages’\n",
            "R[write to console]: \n",
            "R[write to console]: \n",
            "\n"
          ],
          "name": "stderr"
        }
      ]
    },
    {
      "cell_type": "markdown",
      "metadata": {
        "id": "x56fjfCSicrp",
        "colab_type": "text"
      },
      "source": [
        "**3. Generate and save the data**\n",
        "\n",
        "There are a few calculations to do\n",
        "\n",
        "1. Prediction of downsampled data using ZTNB\n",
        "2. Pooled prediction\n",
        "3. Calculation of sampling noise, defined as the difference between a downsampled dataset and the average of the same dataset downsampled 20 times.\n"
      ]
    },
    {
      "cell_type": "code",
      "metadata": {
        "id": "V37XLBAO68oR",
        "colab_type": "code",
        "colab": {}
      },
      "source": [
        "#First set some path variables\n",
        "%%R\n",
        "source(\"GRNP_2020/RCode/pathsGoogleColab.R\")\n"
      ],
      "execution_count": 12,
      "outputs": []
    },
    {
      "cell_type": "code",
      "metadata": {
        "id": "R6kuhOmzZL_X",
        "colab_type": "code",
        "colab": {
          "base_uri": "https://localhost:8080/",
          "height": 255
        },
        "outputId": "f835230d-e35f-4c23-b2e3-336da41079e4"
      },
      "source": [
        "#Import the code for prediction (available in other notebooks)\n",
        "%%R\n",
        "source(paste0(sourcePath,\"ButterflyHelpers.R\"))\n",
        "source(paste0(sourcePath,\"preseqHelpers.R\"))\n",
        "\n",
        "\n",
        "\n"
      ],
      "execution_count": 13,
      "outputs": [
        {
          "output_type": "stream",
          "text": [
            "R[write to console]: \n",
            "Attaching package: ‘dplyr’\n",
            "\n",
            "\n",
            "R[write to console]: The following objects are masked from ‘package:stats’:\n",
            "\n",
            "    filter, lag\n",
            "\n",
            "\n",
            "R[write to console]: The following objects are masked from ‘package:base’:\n",
            "\n",
            "    intersect, setdiff, setequal, union\n",
            "\n",
            "\n"
          ],
          "name": "stderr"
        }
      ]
    },
    {
      "cell_type": "code",
      "metadata": {
        "id": "tkQeT362BM7V",
        "colab_type": "code",
        "colab": {
          "base_uri": "https://localhost:8080/",
          "height": 765
        },
        "outputId": "4c86ca91-d7c5-4a38-b539-82c4cdab3130"
      },
      "source": [
        "#Generate data and save it\n",
        "%%R\n",
        "dsid = \"PBMC_V3_3\"\n",
        "otherIds = c(\"PBMC_V3\", \"PBMC_V3_2\", \"PBMC_NG\", \"PBMC_NG_2\", \"PBMC_V2\", \"EVALPBMC\")\n",
        "loadBug(dsid, 0.1)\n",
        "\n",
        "dsBug = getBug(dsid, 0.1)\n",
        "\n",
        "\n",
        "loadPooledHistogramDS(\"PBMC_V3_3\")\n",
        "loadPooledHistogramDS(\"PBMC_V3_2\")\n",
        "loadPooledHistogramDS(\"PBMC_V3\")\n",
        "loadPooledHistogramDS(\"PBMC_NG\")\n",
        "loadPooledHistogramDS(\"PBMC_NG_2\")\n",
        "loadPooledHistogramDS(\"PBMC_V2\")\n",
        "loadPooledHistogramDS(\"EVALPBMC\")\n",
        "\n",
        "\n",
        "\n",
        "#Collect the data\n",
        "\n",
        "poolHistList = poolHistograms(dsid, dsBug, otherIds)\n",
        "\n",
        "loadStats(dsid)\n",
        "load(file=paste0(figure_data_path, \"PBMC_V3_3_ds10_20Times.RData\")) #gets the data for comparison with sampling noise\n",
        "\n",
        "#no prediction\n",
        "fromStats = tibble(gene = statsPBMC_V3_3$gene, \n",
        "                   trueval = statsPBMC_V3_3$CPM_PBMC_V3_3_d_100,\n",
        "                   x = statsPBMC_V3_3$CPM_PBMC_V3_3_d_10, #so, we use the \n",
        "                   nopred = statsPBMC_V3_3$CPM_PBMC_V3_3_d_10)\n",
        "\n",
        "#prediction\n",
        "#pred100From10 = upSampleAndGetMeanExprPreSeq(dsBug, t=10, mt=2)\n",
        "pred100From10 = upSampleAndGetMeanExprPreSeqZTNB(dsBug, t=10)\n",
        "\n",
        "colnames(pred100From10) = c(\"gene\", \"pred\")\n",
        "\n",
        "#prediction with pooling\n",
        "predPool = poolPrediction(dsBug, 10, poolHistList, 500000)\n",
        "colnames(predPool) = c(\"gene\", \"poolpred\")\n",
        "\n",
        "\n",
        "\n",
        "#sampling noise\n",
        "colnames(PBMC_V3_3_ds10_20Times) = c(\"gene\", \"sampling\")\n",
        "\n",
        "\n",
        "\n",
        "#merge all\n",
        "m1 = inner_join(fromStats, pred100From10, by=\"gene\")\n",
        "m2 = inner_join(m1, predPool, by=\"gene\")\n",
        "\n",
        "#move sampling noise to a supporting figure\n",
        "#m3 = inner_join(m2, PBMC_V3_3_ds10_20Times, by=\"gene\")\n",
        "\n",
        "ldata = m2\n",
        "\n",
        "m3 = inner_join(fromStats, PBMC_V3_3_ds10_20Times, by=\"gene\")\n",
        "\n",
        "ldata2 = m3\n",
        "\n",
        "\n",
        "#cpm and log transform\n",
        "#for (i in 2:7) {\n",
        "for (i in 2:6) {\n",
        "  ldata[, i] = log2(ldata[, i]*10^6/sum(ldata[, i]) + 1)\n",
        "}\n",
        "\n",
        "for (i in 2:5) {\n",
        "  ldata2[, i] = log2(ldata2[, i]*10^6/sum(ldata2[, i]) + 1)\n",
        "}\n",
        "\n",
        "\n",
        "saveRDS(ldata, paste0(figure_data_path, \"Fig3_ldata.RDS\"))\n",
        "saveRDS(ldata2, paste0(figure_data_path, \"Fig3_ldata2.RDS\"))\n",
        "\n"
      ],
      "execution_count": 18,
      "outputs": [
        {
          "output_type": "stream",
          "text": [
            "R[write to console]: `summarise()` ungrouping output (override with `.groups` argument)\n",
            "\n"
          ],
          "name": "stderr"
        },
        {
          "output_type": "stream",
          "text": [
            "[1] \"Genes: 19717\"\n",
            "[1] 1000\n",
            "[1] 2000\n",
            "[1] 3000\n",
            "[1] 4000\n",
            "[1] 5000\n",
            "[1] 6000\n",
            "[1] 7000\n",
            "[1] 8000\n",
            "[1] 9000\n",
            "[1] 10000\n",
            "[1] 11000\n",
            "[1] 12000\n",
            "[1] 13000\n",
            "[1] 14000\n",
            "[1] 15000\n",
            "[1] 16000\n",
            "[1] 17000\n",
            "[1] 18000\n",
            "[1] 19000\n"
          ],
          "name": "stdout"
        },
        {
          "output_type": "stream",
          "text": [
            "R[write to console]: `summarise()` ungrouping output (override with `.groups` argument)\n",
            "\n"
          ],
          "name": "stderr"
        },
        {
          "output_type": "stream",
          "text": [
            "[1] \"Genes: 19717\"\n",
            "[1] 1000\n",
            "[1] 2000\n",
            "[1] 3000\n",
            "[1] 4000\n",
            "[1] 5000\n",
            "[1] 6000\n",
            "[1] 7000\n",
            "[1] 8000\n",
            "[1] 9000\n",
            "[1] 10000\n",
            "[1] 11000\n",
            "[1] 12000\n",
            "[1] 13000\n",
            "[1] 14000\n",
            "[1] 15000\n",
            "[1] 16000\n",
            "[1] 17000\n",
            "[1] 18000\n",
            "[1] 19000\n"
          ],
          "name": "stdout"
        }
      ]
    },
    {
      "cell_type": "markdown",
      "metadata": {
        "id": "YsqeFNdtnLsc",
        "colab_type": "text"
      },
      "source": [
        "**4. Call the precalculation function for all datasets**\n"
      ]
    },
    {
      "cell_type": "code",
      "metadata": {
        "id": "Cb5DifYYcB6g",
        "colab_type": "code",
        "colab": {
          "base_uri": "https://localhost:8080/",
          "height": 306
        },
        "outputId": "b1f44635-01a2-4328-b17b-999cf3f5ee3c"
      },
      "source": [
        "!cd figureData && ls -l"
      ],
      "execution_count": 19,
      "outputs": [
        {
          "output_type": "stream",
          "text": [
            "total 4844\n",
            "drwxr-xr-x 2 root root    4096 Jul  1 20:29 EVALPBMC\n",
            "-rw-r--r-- 1 root root    1422 Jul  1 19:49 extreme_genes.txt\n",
            "-rw-r--r-- 1 root root     683 Jun 30 16:55 Fig1_h1.RDS\n",
            "-rw-r--r-- 1 root root     830 Jun 30 16:55 Fig1_h2.RDS\n",
            "-rw-r--r-- 1 root root     239 Jun 30 18:19 Fig1_r1_III.RDS\n",
            "-rw-r--r-- 1 root root     233 Jun 30 18:19 Fig1_r2_III.RDS\n",
            "-rw-r--r-- 1 root root  338624 Jul  2 20:44 Fig3_ldata2.RDS\n",
            "-rw-r--r-- 1 root root  480056 Jul  2 20:44 Fig3_ldata.RDS\n",
            "-rw-r--r-- 1 root root 3949987 Jul  1 19:08 Fig4_d1.RDS\n",
            "drwxr-xr-x 2 root root    4096 Jul  1 22:18 PBMC_NG\n",
            "drwxr-xr-x 2 root root    4096 Jul  1 22:37 PBMC_NG_2\n",
            "drwxr-xr-x 2 root root    4096 Jul  1 22:52 PBMC_V2\n",
            "drwxr-xr-x 2 root root    4096 Jul  1 21:27 PBMC_V3\n",
            "drwxr-xr-x 2 root root    4096 Jul  1 21:43 PBMC_V3_2\n",
            "drwxr-xr-x 2 root root    4096 Jul  1 22:03 PBMC_V3_3\n",
            "-rw-r--r-- 1 root root  133329 Jul  1 17:57 PBMC_V3_3_ds10_20Times.RData\n"
          ],
          "name": "stdout"
        }
      ]
    }
  ]
}