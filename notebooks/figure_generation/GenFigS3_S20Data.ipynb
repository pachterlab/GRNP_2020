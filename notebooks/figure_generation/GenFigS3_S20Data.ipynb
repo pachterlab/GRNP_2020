{
  "nbformat": 4,
  "nbformat_minor": 0,
  "metadata": {
    "colab": {
      "name": "GenFigS3_S20Data.ipynb",
      "provenance": [],
      "collapsed_sections": [],
      "include_colab_link": true
    },
    "kernelspec": {
      "name": "python3",
      "display_name": "Python 3"
    }
  },
  "cells": [
    {
      "cell_type": "markdown",
      "metadata": {
        "id": "view-in-github",
        "colab_type": "text"
      },
      "source": [
        "<a href=\"https://colab.research.google.com/github/pachterlab/GRNP_2020/blob/master/notebooks/figure_generation/GenFigS3_S20Data.ipynb\" target=\"_parent\"><img src=\"https://colab.research.google.com/assets/colab-badge.svg\" alt=\"Open In Colab\"/></a>"
      ]
    },
    {
      "cell_type": "markdown",
      "metadata": {
        "id": "dhydD96df06z",
        "colab_type": "text"
      },
      "source": [
        "**Precalculates data for figure 3 and supplementary figure 20**\n",
        "\n",
        "This notebook precalculates the data for the figures since there are some heavy calculation steps involved for generating the figures. The most demanding task is prediction of unseen molecules for each gene using the ZTNB method. This notebook may take 15-30 minutes to run.\n",
        "\n",
        "Steps:\n",
        "1. Download the code and processed data\n",
        "2. Setup the R environment\n",
        "3. Generate the data"
      ]
    },
    {
      "cell_type": "markdown",
      "metadata": {
        "id": "h8RnKVMXgbzr",
        "colab_type": "text"
      },
      "source": [
        "**1. Download the code and processed data**"
      ]
    },
    {
      "cell_type": "code",
      "metadata": {
        "id": "doUAtCxIyOiI",
        "colab_type": "code",
        "colab": {
          "base_uri": "https://localhost:8080/",
          "height": 136
        },
        "outputId": "067c8fc8-e3c9-4f4a-e5f5-7a2b92092ef0"
      },
      "source": [
        "#download the R code\n",
        "![ -d \"GRNP_2020\" ] && rm -r GRNP_2020\n",
        "\n",
        "!git clone https://github.com/pachterlab/GRNP_2020.git\n"
      ],
      "execution_count": 1,
      "outputs": [
        {
          "output_type": "stream",
          "text": [
            "Cloning into 'GRNP_2020'...\n",
            "remote: Enumerating objects: 153, done.\u001b[K\n",
            "remote: Counting objects: 100% (153/153), done.\u001b[K\n",
            "remote: Compressing objects: 100% (118/118), done.\u001b[K\n",
            "remote: Total 1036 (delta 98), reused 64 (delta 35), pack-reused 883\u001b[K\n",
            "Receiving objects: 100% (1036/1036), 7.40 MiB | 5.04 MiB/s, done.\n",
            "Resolving deltas: 100% (652/652), done.\n"
          ],
          "name": "stdout"
        }
      ]
    },
    {
      "cell_type": "code",
      "metadata": {
        "id": "dUNSQ1qBZb2g",
        "colab_type": "code",
        "colab": {
          "base_uri": "https://localhost:8080/",
          "height": 442
        },
        "outputId": "052c6f44-c1c1-41fb-e717-21a1a78dc753"
      },
      "source": [
        "#download processed data from Zenodo for all datasets\n",
        "![ -d \"figureData\" ] && rm -r figureData\n",
        "!mkdir figureData\n",
        "!cd figureData && wget https://zenodo.org/record/3909758/files/EVALPBMC.zip?download=1 && unzip 'EVALPBMC.zip?download=1' && rm 'EVALPBMC.zip?download=1'"
      ],
      "execution_count": 2,
      "outputs": [
        {
          "output_type": "stream",
          "text": [
            "--2020-07-02 20:01:02--  https://zenodo.org/record/3909758/files/EVALPBMC.zip?download=1\n",
            "Resolving zenodo.org (zenodo.org)... 188.184.117.155\n",
            "Connecting to zenodo.org (zenodo.org)|188.184.117.155|:443... connected.\n",
            "HTTP request sent, awaiting response... 200 OK\n",
            "Length: 467646609 (446M) [application/octet-stream]\n",
            "Saving to: ‘EVALPBMC.zip?download=1’\n",
            "\n",
            "EVALPBMC.zip?downlo 100%[===================>] 445.98M  6.17MB/s    in 71s     \n",
            "\n",
            "2020-07-02 20:02:28 (6.25 MB/s) - ‘EVALPBMC.zip?download=1’ saved [467646609/467646609]\n",
            "\n",
            "Archive:  EVALPBMC.zip?download=1\n",
            "   creating: EVALPBMC/\n",
            "  inflating: EVALPBMC/Bug_10.RData   \n",
            "  inflating: EVALPBMC/Bug_100.RData  \n",
            "  inflating: EVALPBMC/Bug_20.RData   \n",
            "  inflating: EVALPBMC/Bug_40.RData   \n",
            "  inflating: EVALPBMC/Bug_5.RData    \n",
            "  inflating: EVALPBMC/Bug_60.RData   \n",
            "  inflating: EVALPBMC/Bug_80.RData   \n",
            "  inflating: EVALPBMC/ds_summary.txt  \n",
            "  inflating: EVALPBMC/pooledHist.RData  \n",
            "  inflating: EVALPBMC/pooledHistDS.RData  \n",
            "  inflating: EVALPBMC/PredEvalData.RDS  \n",
            "  inflating: EVALPBMC/Stats.RData    \n"
          ],
          "name": "stdout"
        }
      ]
    },
    {
      "cell_type": "code",
      "metadata": {
        "id": "gH2yLP4u_Feo",
        "colab_type": "code",
        "colab": {}
      },
      "source": [
        "!cd figureData && wget https://zenodo.org/record/3909758/files/PBMC_V2.zip?download=1 && unzip 'PBMC_V2.zip?download=1' && rm 'PBMC_V2.zip?download=1'"
      ],
      "execution_count": null,
      "outputs": []
    },
    {
      "cell_type": "code",
      "metadata": {
        "id": "0VcGKk7r_GeI",
        "colab_type": "code",
        "colab": {
          "base_uri": "https://localhost:8080/",
          "height": 165
        },
        "outputId": "146fdb3f-2713-4a10-a285-07b0920af9a4"
      },
      "source": [
        "!cd figureData && wget https://zenodo.org/record/3909758/files/PBMC_V3.zip?download=1 && unzip 'PBMC_V3.zip?download=1' && rm 'PBMC_V3.zip?download=1'"
      ],
      "execution_count": null,
      "outputs": [
        {
          "output_type": "stream",
          "text": [
            "--2020-07-02 20:02:35--  https://zenodo.org/record/3909758/files/PBMC_V3.zip?download=1\n",
            "Resolving zenodo.org (zenodo.org)... 188.184.117.155\n",
            "Connecting to zenodo.org (zenodo.org)|188.184.117.155|:443... connected.\n",
            "HTTP request sent, awaiting response... 200 OK\n",
            "Length: 1127576758 (1.0G) [application/octet-stream]\n",
            "Saving to: ‘PBMC_V3.zip?download=1’\n",
            "\n",
            "PBMC_V3.zip?downloa  86%[================>   ] 932.21M  8.94MB/s    eta 22s    "
          ],
          "name": "stdout"
        }
      ]
    },
    {
      "cell_type": "code",
      "metadata": {
        "id": "RNa-2IlK_Gtn",
        "colab_type": "code",
        "colab": {}
      },
      "source": [
        "!cd figureData && wget https://zenodo.org/record/3909758/files/PBMC_V3_2.zip?download=1 && unzip 'PBMC_V3_2.zip?download=1' && rm 'PBMC_V3_2.zip?download=1'"
      ],
      "execution_count": null,
      "outputs": []
    },
    {
      "cell_type": "code",
      "metadata": {
        "id": "reyt17DJ_G8e",
        "colab_type": "code",
        "colab": {}
      },
      "source": [
        "!cd figureData && wget https://zenodo.org/record/3909758/files/PBMC_V3_3.zip?download=1 && unzip 'PBMC_V3_3.zip?download=1' && rm 'PBMC_V3_3.zip?download=1'"
      ],
      "execution_count": null,
      "outputs": []
    },
    {
      "cell_type": "code",
      "metadata": {
        "id": "mwugJxkv_HLq",
        "colab_type": "code",
        "colab": {}
      },
      "source": [
        "!cd figureData && wget https://zenodo.org/record/3909758/files/PBMC_NG.zip?download=1 && unzip 'PBMC_NG.zip?download=1' && rm 'PBMC_NG.zip?download=1'"
      ],
      "execution_count": null,
      "outputs": []
    },
    {
      "cell_type": "code",
      "metadata": {
        "id": "fyw4_npm_Hbi",
        "colab_type": "code",
        "colab": {}
      },
      "source": [
        "!cd figureData && wget https://zenodo.org/record/3909758/files/PBMC_NG_2.zip?download=1 && unzip 'PBMC_NG_2.zip?download=1' && rm 'PBMC_NG_2.zip?download=1'"
      ],
      "execution_count": null,
      "outputs": []
    },
    {
      "cell_type": "code",
      "metadata": {
        "id": "oesgTqLO0Qje",
        "colab_type": "code",
        "colab": {}
      },
      "source": [
        "#Check that download worked\n",
        "!cd figureData && ls -l && cd EVALPBMC && ls -l"
      ],
      "execution_count": null,
      "outputs": []
    },
    {
      "cell_type": "markdown",
      "metadata": {
        "id": "sCmhNVdYgkWH",
        "colab_type": "text"
      },
      "source": [
        "**2. Prepare the R environment**"
      ]
    },
    {
      "cell_type": "code",
      "metadata": {
        "id": "5Gt6rQkSXriM",
        "colab_type": "code",
        "colab": {}
      },
      "source": [
        "#switch to R mode\n",
        "%reload_ext rpy2.ipython\n"
      ],
      "execution_count": null,
      "outputs": []
    },
    {
      "cell_type": "code",
      "metadata": {
        "id": "jJ3rQJCdgeJa",
        "colab_type": "code",
        "colab": {}
      },
      "source": [
        "#install the R packages and setup paths\n",
        "%%R\n",
        "#install.packages(\"qdapTools\")\n",
        "install.packages(\"dplyr\")\n",
        "install.packages(\"preseqR\")\n",
        "#install.packages(\"stringdist\")\n"
      ],
      "execution_count": null,
      "outputs": []
    },
    {
      "cell_type": "markdown",
      "metadata": {
        "id": "x56fjfCSicrp",
        "colab_type": "text"
      },
      "source": [
        "**3. Generate and save the data**\n",
        "\n",
        "There are a few calculations to do\n",
        "\n",
        "1. Prediction of downsampled data using ZTNB\n",
        "2. Pooled prediction\n",
        "3. Calculation of sampling noise, defined as the difference between a downsampled dataset and the average of the same dataset downsampled 20 times.\n"
      ]
    },
    {
      "cell_type": "code",
      "metadata": {
        "id": "V37XLBAO68oR",
        "colab_type": "code",
        "colab": {}
      },
      "source": [
        "#First set some path variables\n",
        "%%R\n",
        "source(\"GRNP_2020/RCode/pathsGoogleColab.R\")\n"
      ],
      "execution_count": null,
      "outputs": []
    },
    {
      "cell_type": "code",
      "metadata": {
        "id": "R6kuhOmzZL_X",
        "colab_type": "code",
        "colab": {}
      },
      "source": [
        "#Import the code for prediction (available in other notebooks)\n",
        "%%R\n",
        "source(paste0(sourcePath,\"ButterflyHelpers.R\"))\n",
        "source(paste0(sourcePath,\"preseqHelpers.R\"))\n",
        "\n",
        "\n",
        "\n"
      ],
      "execution_count": null,
      "outputs": []
    },
    {
      "cell_type": "code",
      "metadata": {
        "id": "tkQeT362BM7V",
        "colab_type": "code",
        "colab": {}
      },
      "source": [
        "#Generate data and save it\n",
        "%%R\n",
        "dsid = \"PBMC_V3_3\"\n",
        "otherIds = c(\"PBMC_V3\", \"PBMC_V3_2\", \"PBMC_NG\", \"PBMC_NG_2\", \"PBMC_V2\", \"EVALPBMC\")\n",
        "loadBug(dsid, 0.1)\n",
        "\n",
        "dsBug = getBug(dsid, 0.1)\n",
        "\n",
        "\n",
        "loadPooledHistogramDS(\"PBMC_V3_3\")\n",
        "loadPooledHistogramDS(\"PBMC_V3_2\")\n",
        "loadPooledHistogramDS(\"PBMC_V3\")\n",
        "loadPooledHistogramDS(\"PBMC_NG\")\n",
        "loadPooledHistogramDS(\"PBMC_NG_2\")\n",
        "loadPooledHistogramDS(\"PBMC_V2\")\n",
        "loadPooledHistogramDS(\"EVALPBMC\")\n",
        "\n",
        "\n",
        "\n",
        "#Collect the data\n",
        "\n",
        "poolHistList = poolHistograms(dsid, dsBug, otherIds)\n",
        "\n",
        "loadStats(dsid)\n",
        "load(file=paste0(figure_data_path, \"PBMC_V3_3_ds10_20Times.RData\")) #gets the data for comparison with sampling noise\n",
        "\n",
        "#no prediction\n",
        "fromStats = tibble(gene = statsPBMC_V3_3$gene, \n",
        "                   trueval = statsPBMC_V3_3$CPM_PBMC_V3_3_d_100,\n",
        "                   x = statsPBMC_V3_3$CPM_PBMC_V3_3_d_10, #so, we use the \n",
        "                   nopred = statsPBMC_V3_3$CPM_PBMC_V3_3_d_10)\n",
        "\n",
        "#prediction\n",
        "#pred100From10 = upSampleAndGetMeanExprPreSeq(dsBug, t=10, mt=2)\n",
        "pred100From10 = upSampleAndGetMeanExprPreSeqZTNB(dsBug, t=10)\n",
        "\n",
        "colnames(pred100From10) = c(\"gene\", \"pred\")\n",
        "\n",
        "#prediction with pooling\n",
        "predPool = poolPrediction(dsBug, 10, poolHistList, 500000)\n",
        "colnames(predPool) = c(\"gene\", \"poolpred\")\n",
        "\n",
        "\n",
        "\n",
        "#sampling noise\n",
        "colnames(PBMC_V3_3_ds10_20Times) = c(\"gene\", \"sampling\")\n",
        "\n",
        "\n",
        "\n",
        "#merge all\n",
        "m1 = inner_join(fromStats, pred100From10, by=\"gene\")\n",
        "m2 = inner_join(m1, predPool, by=\"gene\")\n",
        "\n",
        "#move sampling noise to a supporting figure\n",
        "#m3 = inner_join(m2, PBMC_V3_3_ds10_20Times, by=\"gene\")\n",
        "\n",
        "ldata = m2\n",
        "\n",
        "m3 = inner_join(fromStats, PBMC_V3_3_ds10_20Times, by=\"gene\")\n",
        "\n",
        "ldata2 = m3\n",
        "\n",
        "\n",
        "#cpm and log transform\n",
        "#for (i in 2:7) {\n",
        "for (i in 2:6) {\n",
        "  ldata[, i] = log2(ldata[, i]*10^6/sum(ldata[, i]) + 1)\n",
        "}\n",
        "\n",
        "for (i in 2:5) {\n",
        "  ldata2[, i] = log2(ldata2[, i]*10^6/sum(ldata2[, i]) + 1)\n",
        "}\n",
        "\n",
        "\n",
        "saveRDS(ldata, paste0(figure_data_path, \"Fig3_ldata.RDS\"))\n",
        "saveRDS(ldata2, paste0(figure_data_path, \"Fig3_ldata2.RDS\"))\n",
        "\n"
      ],
      "execution_count": null,
      "outputs": []
    },
    {
      "cell_type": "markdown",
      "metadata": {
        "id": "YsqeFNdtnLsc",
        "colab_type": "text"
      },
      "source": [
        "**4. Call the precalculation function for all datasets**\n"
      ]
    },
    {
      "cell_type": "code",
      "metadata": {
        "id": "CffgQFeiW2tc",
        "colab_type": "code",
        "colab": {}
      },
      "source": [
        "%%R\n",
        "GenAlgEvaluationData(\"EVAL\")\n",
        "GenAlgEvaluationData(\"EVALPBMC\")\n",
        "GenAlgEvaluationData(\"EVALPBMC_DS\")\n",
        "GenAlgEvaluationData(\"EVALPBMC_SW\")\n",
        "GenAlgEvaluationData(\"PBMC_V3\")\n",
        "GenAlgEvaluationData(\"PBMC_V3_2\")\n",
        "GenAlgEvaluationData(\"PBMC_V3_3\")\n",
        "GenAlgEvaluationData(\"PBMC_NG\")\n",
        "GenAlgEvaluationData(\"PBMC_NG_2\")\n",
        "GenAlgEvaluationData(\"PBMC_V2\")\n",
        "GenAlgEvaluationData(\"LC\")\n",
        "GenAlgEvaluationData(\"MRET\")\n",
        "GenAlgEvaluationData(\"MRET2\")\n"
      ],
      "execution_count": null,
      "outputs": []
    },
    {
      "cell_type": "code",
      "metadata": {
        "id": "Cb5DifYYcB6g",
        "colab_type": "code",
        "colab": {}
      },
      "source": [
        "!cd figureData && ls -l && cd EVAL && ls -l"
      ],
      "execution_count": null,
      "outputs": []
    }
  ]
}