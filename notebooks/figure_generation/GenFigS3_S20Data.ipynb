{
  "nbformat": 4,
  "nbformat_minor": 0,
  "metadata": {
    "colab": {
      "name": "GenFigS3_S20Data.ipynb",
      "provenance": [],
      "collapsed_sections": [],
      "include_colab_link": true
    },
    "kernelspec": {
      "name": "python3",
      "display_name": "Python 3"
    }
  },
  "cells": [
    {
      "cell_type": "markdown",
      "metadata": {
        "id": "view-in-github",
        "colab_type": "text"
      },
      "source": [
        "<a href=\"https://colab.research.google.com/github/pachterlab/GRNP_2020/blob/master/notebooks/figure_generation/GenFigS3_S20Data.ipynb\" target=\"_parent\"><img src=\"https://colab.research.google.com/assets/colab-badge.svg\" alt=\"Open In Colab\"/></a>"
      ]
    },
    {
      "cell_type": "markdown",
      "metadata": {
        "id": "dhydD96df06z",
        "colab_type": "text"
      },
      "source": [
        "**Precalculates data for figure 3 and supplementary figure 20**\n",
        "\n",
        "This notebook precalculates the data for the figures since there are some heavy calculation steps involved for generating the figures. The most demanding task is prediction of unseen molecules for each gene using the ZTNB method. This notebook may take 15-30 minutes to run.\n",
        "\n",
        "Steps:\n",
        "1. Download the code and processed data\n",
        "2. Setup the R environment\n",
        "3. Generate the data"
      ]
    },
    {
      "cell_type": "markdown",
      "metadata": {
        "id": "h8RnKVMXgbzr",
        "colab_type": "text"
      },
      "source": [
        "**1. Download the code and processed data**"
      ]
    },
    {
      "cell_type": "code",
      "metadata": {
        "id": "doUAtCxIyOiI",
        "colab_type": "code",
        "colab": {
          "base_uri": "https://localhost:8080/",
          "height": 136
        },
        "outputId": "a2abb305-00b6-4b5f-cdd6-b73d1727c988"
      },
      "source": [
        "#download the R code\n",
        "![ -d \"GRNP_2020\" ] && rm -r GRNP_2020\n",
        "\n",
        "!git clone https://github.com/pachterlab/GRNP_2020.git\n"
      ],
      "execution_count": 1,
      "outputs": [
        {
          "output_type": "stream",
          "text": [
            "Cloning into 'GRNP_2020'...\n",
            "remote: Enumerating objects: 133, done.\u001b[K\n",
            "remote: Counting objects: 100% (133/133), done.\u001b[K\n",
            "remote: Compressing objects: 100% (98/98), done.\u001b[K\n",
            "remote: Total 1016 (delta 85), reused 66 (delta 35), pack-reused 883\u001b[K\n",
            "Receiving objects: 100% (1016/1016), 7.39 MiB | 21.07 MiB/s, done.\n",
            "Resolving deltas: 100% (639/639), done.\n"
          ],
          "name": "stdout"
        }
      ]
    },
    {
      "cell_type": "code",
      "metadata": {
        "id": "dUNSQ1qBZb2g",
        "colab_type": "code",
        "colab": {
          "base_uri": "https://localhost:8080/",
          "height": 425
        },
        "outputId": "e6a88219-2dc9-44a5-9a19-f8a69b197a2b"
      },
      "source": [
        "#download processed data from Zenodo for all datasets\n",
        "![ -d \"data\" ] && rm -r data\n",
        "!mkdir figureData\n",
        "!cd figureData && wget https://zenodo.org/record/3909758/files/EVALPBMC.zip?download=1 && unzip 'EVALPBMC.zip?download=1' && rm 'EVALPBMC.zip?download=1'"
      ],
      "execution_count": 2,
      "outputs": [
        {
          "output_type": "stream",
          "text": [
            "--2020-07-02 19:25:46--  https://zenodo.org/record/3909758/files/EVAL.zip?download=1\n",
            "Resolving zenodo.org (zenodo.org)... 188.184.117.155\n",
            "Connecting to zenodo.org (zenodo.org)|188.184.117.155|:443... connected.\n",
            "HTTP request sent, awaiting response... 200 OK\n",
            "Length: 206479312 (197M) [application/octet-stream]\n",
            "Saving to: ‘EVAL.zip?download=1’\n",
            "\n",
            "EVAL.zip?download=1 100%[===================>] 196.91M  19.9MB/s    in 11s     \n",
            "\n",
            "2020-07-02 19:25:59 (17.6 MB/s) - ‘EVAL.zip?download=1’ saved [206479312/206479312]\n",
            "\n",
            "Archive:  EVAL.zip?download=1\n",
            "   creating: EVAL/\n",
            "  inflating: EVAL/Bug_10.RData       \n",
            "  inflating: EVAL/Bug_100.RData      \n",
            "  inflating: EVAL/Bug_20.RData       \n",
            "  inflating: EVAL/Bug_25.RData       \n",
            "  inflating: EVAL/Bug_40.RData       \n",
            "  inflating: EVAL/Bug_5.RData        \n",
            "  inflating: EVAL/Bug_60.RData       \n",
            "  inflating: EVAL/Bug_80.RData       \n",
            "  inflating: EVAL/ds_summary.txt     \n",
            "  inflating: EVAL/PredEvalData.RDS   \n",
            "  inflating: EVAL/Stats.RData        \n"
          ],
          "name": "stdout"
        }
      ]
    },
    {
      "cell_type": "code",
      "metadata": {
        "id": "02Sr2poO_D2y",
        "colab_type": "code",
        "colab": {
          "base_uri": "https://localhost:8080/",
          "height": 442
        },
        "outputId": "f506f2ad-5a80-4d61-f0e0-4fd70b003db7"
      },
      "source": [
        ""
      ],
      "execution_count": 3,
      "outputs": [
        {
          "output_type": "stream",
          "text": [
            "--2020-07-02 19:26:02--  https://zenodo.org/record/3909758/files/EVALPBMC.zip?download=1\n",
            "Resolving zenodo.org (zenodo.org)... 188.184.117.155\n",
            "Connecting to zenodo.org (zenodo.org)|188.184.117.155|:443... connected.\n",
            "HTTP request sent, awaiting response... 200 OK\n",
            "Length: 467646609 (446M) [application/octet-stream]\n",
            "Saving to: ‘EVALPBMC.zip?download=1’\n",
            "\n",
            "EVALPBMC.zip?downlo 100%[===================>] 445.98M  26.0MB/s    in 32s     \n",
            "\n",
            "2020-07-02 19:26:35 (13.8 MB/s) - ‘EVALPBMC.zip?download=1’ saved [467646609/467646609]\n",
            "\n",
            "Archive:  EVALPBMC.zip?download=1\n",
            "   creating: EVALPBMC/\n",
            "  inflating: EVALPBMC/Bug_10.RData   \n",
            "  inflating: EVALPBMC/Bug_100.RData  \n",
            "  inflating: EVALPBMC/Bug_20.RData   \n",
            "  inflating: EVALPBMC/Bug_40.RData   \n",
            "  inflating: EVALPBMC/Bug_5.RData    \n",
            "  inflating: EVALPBMC/Bug_60.RData   \n",
            "  inflating: EVALPBMC/Bug_80.RData   \n",
            "  inflating: EVALPBMC/ds_summary.txt  \n",
            "  inflating: EVALPBMC/pooledHist.RData  \n",
            "  inflating: EVALPBMC/pooledHistDS.RData  \n",
            "  inflating: EVALPBMC/PredEvalData.RDS  \n",
            "  inflating: EVALPBMC/Stats.RData    \n"
          ],
          "name": "stdout"
        }
      ]
    },
    {
      "cell_type": "code",
      "metadata": {
        "id": "gH2yLP4u_Feo",
        "colab_type": "code",
        "colab": {
          "base_uri": "https://localhost:8080/",
          "height": 442
        },
        "outputId": "a6d00c44-5f5e-4312-8c80-4349abd6cc30"
      },
      "source": [
        "!cd figureData && wget https://zenodo.org/record/3909758/files/PBMC_V2.zip?download=1 && unzip 'PBMC_V2.zip?download=1' && rm 'PBMC_V2.zip?download=1'"
      ],
      "execution_count": 9,
      "outputs": [
        {
          "output_type": "stream",
          "text": [
            "--2020-07-02 19:31:51--  https://zenodo.org/record/3909758/files/PBMC_V2.zip?download=1\n",
            "Resolving zenodo.org (zenodo.org)... 188.184.117.155\n",
            "Connecting to zenodo.org (zenodo.org)|188.184.117.155|:443... connected.\n",
            "HTTP request sent, awaiting response... 200 OK\n",
            "Length: 816179326 (778M) [application/octet-stream]\n",
            "Saving to: ‘PBMC_V2.zip?download=1’\n",
            "\n",
            "PBMC_V2.zip?downloa 100%[===================>] 778.37M  11.7MB/s    in 64s     \n",
            "\n",
            "2020-07-02 19:32:56 (12.2 MB/s) - ‘PBMC_V2.zip?download=1’ saved [816179326/816179326]\n",
            "\n",
            "Archive:  PBMC_V2.zip?download=1\n",
            "   creating: PBMC_V2/\n",
            "  inflating: PBMC_V2/Bug_10.RData    \n",
            "  inflating: PBMC_V2/Bug_100.RData   \n",
            "  inflating: PBMC_V2/Bug_20.RData    \n",
            "  inflating: PBMC_V2/Bug_40.RData    \n",
            "  inflating: PBMC_V2/Bug_5.RData     \n",
            "  inflating: PBMC_V2/Bug_60.RData    \n",
            "  inflating: PBMC_V2/Bug_80.RData    \n",
            "  inflating: PBMC_V2/ds_summary.txt  \n",
            "  inflating: PBMC_V2/pooledHist.RData  \n",
            "  inflating: PBMC_V2/pooledHistDS.RData  \n",
            "  inflating: PBMC_V2/PredEvalData.RDS  \n",
            "  inflating: PBMC_V2/Stats.RData     \n"
          ],
          "name": "stdout"
        }
      ]
    },
    {
      "cell_type": "code",
      "metadata": {
        "id": "0VcGKk7r_GeI",
        "colab_type": "code",
        "colab": {
          "base_uri": "https://localhost:8080/",
          "height": 442
        },
        "outputId": "690da139-5923-4db3-974d-8977d57ac822"
      },
      "source": [
        "!cd figureData && wget https://zenodo.org/record/3909758/files/PBMC_V3.zip?download=1 && unzip 'PBMC_V3.zip?download=1' && rm 'PBMC_V3.zip?download=1'"
      ],
      "execution_count": 11,
      "outputs": [
        {
          "output_type": "stream",
          "text": [
            "--2020-07-02 19:35:26--  https://zenodo.org/record/3909758/files/PBMC_V3.zip?download=1\n",
            "Resolving zenodo.org (zenodo.org)... 188.184.117.155\n",
            "Connecting to zenodo.org (zenodo.org)|188.184.117.155|:443... connected.\n",
            "HTTP request sent, awaiting response... 200 OK\n",
            "Length: 1127576758 (1.0G) [application/octet-stream]\n",
            "Saving to: ‘PBMC_V3.zip?download=1’\n",
            "\n",
            "PBMC_V3.zip?downloa 100%[===================>]   1.05G  24.2MB/s    in 95s     \n",
            "\n",
            "2020-07-02 19:37:03 (11.3 MB/s) - ‘PBMC_V3.zip?download=1’ saved [1127576758/1127576758]\n",
            "\n",
            "Archive:  PBMC_V3.zip?download=1\n",
            "   creating: PBMC_V3/\n",
            "  inflating: PBMC_V3/Bug_10.RData    \n",
            "  inflating: PBMC_V3/Bug_100.RData   \n",
            "  inflating: PBMC_V3/Bug_20.RData    \n",
            "  inflating: PBMC_V3/Bug_40.RData    \n",
            "  inflating: PBMC_V3/Bug_5.RData     \n",
            "  inflating: PBMC_V3/Bug_60.RData    \n",
            "  inflating: PBMC_V3/Bug_80.RData    \n",
            "  inflating: PBMC_V3/ds_summary.txt  \n",
            "  inflating: PBMC_V3/pooledHist.RData  \n",
            "  inflating: PBMC_V3/pooledHistDS.RData  \n",
            "  inflating: PBMC_V3/PredEvalData.RDS  \n",
            "  inflating: PBMC_V3/Stats.RData     \n"
          ],
          "name": "stdout"
        }
      ]
    },
    {
      "cell_type": "code",
      "metadata": {
        "id": "RNa-2IlK_Gtn",
        "colab_type": "code",
        "colab": {
          "base_uri": "https://localhost:8080/",
          "height": 442
        },
        "outputId": "a0015425-d61a-4af9-da76-7cb310e45d02"
      },
      "source": [
        "!cd figureData && wget https://zenodo.org/record/3909758/files/PBMC_V3_2.zip?download=1 && unzip 'PBMC_V3_2.zip?download=1' && rm 'PBMC_V3_2.zip?download=1'"
      ],
      "execution_count": 12,
      "outputs": [
        {
          "output_type": "stream",
          "text": [
            "--2020-07-02 19:37:15--  https://zenodo.org/record/3909758/files/PBMC_V3_2.zip?download=1\n",
            "Resolving zenodo.org (zenodo.org)... 188.184.117.155\n",
            "Connecting to zenodo.org (zenodo.org)|188.184.117.155|:443... connected.\n",
            "HTTP request sent, awaiting response... 200 OK\n",
            "Length: 1558568885 (1.5G) [application/octet-stream]\n",
            "Saving to: ‘PBMC_V3_2.zip?download=1’\n",
            "\n",
            "PBMC_V3_2.zip?downl 100%[===================>]   1.45G  10.2MB/s    in 1m 44s  \n",
            "\n",
            "2020-07-02 19:39:00 (14.3 MB/s) - ‘PBMC_V3_2.zip?download=1’ saved [1558568885/1558568885]\n",
            "\n",
            "Archive:  PBMC_V3_2.zip?download=1\n",
            "   creating: PBMC_V3_2/\n",
            "  inflating: PBMC_V3_2/Bug_10.RData  \n",
            "  inflating: PBMC_V3_2/Bug_100.RData  \n",
            "  inflating: PBMC_V3_2/Bug_20.RData  \n",
            "  inflating: PBMC_V3_2/Bug_40.RData  \n",
            "  inflating: PBMC_V3_2/Bug_5.RData   \n",
            "  inflating: PBMC_V3_2/Bug_60.RData  \n",
            "  inflating: PBMC_V3_2/Bug_80.RData  \n",
            "  inflating: PBMC_V3_2/ds_summary.txt  \n",
            "  inflating: PBMC_V3_2/pooledHist.RData  \n",
            "  inflating: PBMC_V3_2/pooledHistDS.RData  \n",
            "  inflating: PBMC_V3_2/PredEvalData.RDS  \n",
            "  inflating: PBMC_V3_2/Stats.RData   \n"
          ],
          "name": "stdout"
        }
      ]
    },
    {
      "cell_type": "code",
      "metadata": {
        "id": "reyt17DJ_G8e",
        "colab_type": "code",
        "colab": {
          "base_uri": "https://localhost:8080/",
          "height": 442
        },
        "outputId": "630b3fb3-f5b7-431d-935a-656d608559e2"
      },
      "source": [
        "!cd figureData && wget https://zenodo.org/record/3909758/files/PBMC_V3_3.zip?download=1 && unzip 'PBMC_V3_3.zip?download=1' && rm 'PBMC_V3_3.zip?download=1'"
      ],
      "execution_count": 10,
      "outputs": [
        {
          "output_type": "stream",
          "text": [
            "--2020-07-02 19:33:05--  https://zenodo.org/record/3909758/files/PBMC_V3_3.zip?download=1\n",
            "Resolving zenodo.org (zenodo.org)... 188.184.117.155\n",
            "Connecting to zenodo.org (zenodo.org)|188.184.117.155|:443... connected.\n",
            "HTTP request sent, awaiting response... 200 OK\n",
            "Length: 1819306744 (1.7G) [application/octet-stream]\n",
            "Saving to: ‘PBMC_V3_3.zip?download=1’\n",
            "\n",
            "PBMC_V3_3.zip?downl 100%[===================>]   1.69G  17.3MB/s    in 1m 59s  \n",
            "\n",
            "2020-07-02 19:35:06 (14.5 MB/s) - ‘PBMC_V3_3.zip?download=1’ saved [1819306744/1819306744]\n",
            "\n",
            "Archive:  PBMC_V3_3.zip?download=1\n",
            "   creating: PBMC_V3_3/\n",
            "  inflating: PBMC_V3_3/Bug_10.RData  \n",
            "  inflating: PBMC_V3_3/Bug_100.RData  \n",
            "  inflating: PBMC_V3_3/Bug_20.RData  \n",
            "  inflating: PBMC_V3_3/Bug_40.RData  \n",
            "  inflating: PBMC_V3_3/Bug_5.RData   \n",
            "  inflating: PBMC_V3_3/Bug_60.RData  \n",
            "  inflating: PBMC_V3_3/Bug_80.RData  \n",
            "  inflating: PBMC_V3_3/ds_summary.txt  \n",
            "  inflating: PBMC_V3_3/pooledHist.RData  \n",
            "  inflating: PBMC_V3_3/pooledHistDS.RData  \n",
            "  inflating: PBMC_V3_3/PredEvalData.RDS  \n",
            "  inflating: PBMC_V3_3/Stats.RData   \n"
          ],
          "name": "stdout"
        }
      ]
    },
    {
      "cell_type": "code",
      "metadata": {
        "id": "mwugJxkv_HLq",
        "colab_type": "code",
        "colab": {
          "base_uri": "https://localhost:8080/",
          "height": 442
        },
        "outputId": "8e1e838b-f1a0-4787-de72-db22c27b09c2"
      },
      "source": [
        "!cd figureData && wget https://zenodo.org/record/3909758/files/PBMC_NG.zip?download=1 && unzip 'PBMC_NG.zip?download=1' && rm 'PBMC_NG.zip?download=1'"
      ],
      "execution_count": 13,
      "outputs": [
        {
          "output_type": "stream",
          "text": [
            "--2020-07-02 19:39:16--  https://zenodo.org/record/3909758/files/PBMC_NG.zip?download=1\n",
            "Resolving zenodo.org (zenodo.org)... 188.184.117.155\n",
            "Connecting to zenodo.org (zenodo.org)|188.184.117.155|:443... connected.\n",
            "HTTP request sent, awaiting response... 200 OK\n",
            "Length: 1183970256 (1.1G) [application/octet-stream]\n",
            "Saving to: ‘PBMC_NG.zip?download=1’\n",
            "\n",
            "PBMC_NG.zip?downloa 100%[===================>]   1.10G  21.5MB/s    in 93s     \n",
            "\n",
            "2020-07-02 19:40:50 (12.2 MB/s) - ‘PBMC_NG.zip?download=1’ saved [1183970256/1183970256]\n",
            "\n",
            "Archive:  PBMC_NG.zip?download=1\n",
            "   creating: PBMC_NG/\n",
            "  inflating: PBMC_NG/Bug_10.RData    \n",
            "  inflating: PBMC_NG/Bug_100.RData   \n",
            "  inflating: PBMC_NG/Bug_20.RData    \n",
            "  inflating: PBMC_NG/Bug_40.RData    \n",
            "  inflating: PBMC_NG/Bug_5.RData     \n",
            "  inflating: PBMC_NG/Bug_60.RData    \n",
            "  inflating: PBMC_NG/Bug_80.RData    \n",
            "  inflating: PBMC_NG/ds_summary.txt  \n",
            "  inflating: PBMC_NG/pooledHist.RData  \n",
            "  inflating: PBMC_NG/pooledHistDS.RData  \n",
            "  inflating: PBMC_NG/PredEvalData.RDS  \n",
            "  inflating: PBMC_NG/Stats.RData     \n"
          ],
          "name": "stdout"
        }
      ]
    },
    {
      "cell_type": "code",
      "metadata": {
        "id": "fyw4_npm_Hbi",
        "colab_type": "code",
        "colab": {
          "base_uri": "https://localhost:8080/",
          "height": 442
        },
        "outputId": "3221fe5e-8d4f-4b03-9b43-2f71a285a48c"
      },
      "source": [
        "!cd figureData && wget https://zenodo.org/record/3909758/files/PBMC_NG_2.zip?download=1 && unzip 'PBMC_NG_2.zip?download=1' && rm 'PBMC_NG_2.zip?download=1'"
      ],
      "execution_count": 14,
      "outputs": [
        {
          "output_type": "stream",
          "text": [
            "--2020-07-02 19:41:03--  https://zenodo.org/record/3909758/files/PBMC_NG_2.zip?download=1\n",
            "Resolving zenodo.org (zenodo.org)... 188.184.117.155\n",
            "Connecting to zenodo.org (zenodo.org)|188.184.117.155|:443... connected.\n",
            "HTTP request sent, awaiting response... 200 OK\n",
            "Length: 1753743936 (1.6G) [application/octet-stream]\n",
            "Saving to: ‘PBMC_NG_2.zip?download=1’\n",
            "\n",
            "PBMC_NG_2.zip?downl 100%[===================>]   1.63G  22.4MB/s    in 75s     \n",
            "\n",
            "2020-07-02 19:42:19 (22.3 MB/s) - ‘PBMC_NG_2.zip?download=1’ saved [1753743936/1753743936]\n",
            "\n",
            "Archive:  PBMC_NG_2.zip?download=1\n",
            "   creating: PBMC_NG_2/\n",
            "  inflating: PBMC_NG_2/Bug_10.RData  \n",
            "  inflating: PBMC_NG_2/Bug_100.RData  \n",
            "  inflating: PBMC_NG_2/Bug_20.RData  \n",
            "  inflating: PBMC_NG_2/Bug_40.RData  \n",
            "  inflating: PBMC_NG_2/Bug_5.RData   \n",
            "  inflating: PBMC_NG_2/Bug_60.RData  \n",
            "  inflating: PBMC_NG_2/Bug_80.RData  \n",
            "  inflating: PBMC_NG_2/ds_summary.txt  \n",
            "  inflating: PBMC_NG_2/pooledHist.RData  \n",
            "  inflating: PBMC_NG_2/pooledHistDS.RData  \n",
            "  inflating: PBMC_NG_2/PredEvalData.RDS  \n",
            "  inflating: PBMC_NG_2/Stats.RData   \n"
          ],
          "name": "stdout"
        }
      ]
    },
    {
      "cell_type": "code",
      "metadata": {
        "id": "oesgTqLO0Qje",
        "colab_type": "code",
        "colab": {
          "base_uri": "https://localhost:8080/",
          "height": 459
        },
        "outputId": "ebc01e0a-063b-4539-f437-dc016fed3bc3"
      },
      "source": [
        "#Check that download worked\n",
        "!cd figureData && ls -l && cd EVAL && ls -l"
      ],
      "execution_count": 17,
      "outputs": [
        {
          "output_type": "stream",
          "text": [
            "total 52\n",
            "drwxr-xr-x 2 root root 4096 Jul  1 19:49 EVAL\n",
            "drwxr-xr-x 2 root root 4096 Jul  1 20:29 EVALPBMC\n",
            "drwxr-xr-x 2 root root 4096 Jul  1 21:25 EVALPBMC_DS\n",
            "drwxr-xr-x 2 root root 4096 Jul  1 21:08 EVALPBMC_SW\n",
            "drwxr-xr-x 2 root root 4096 Jul  1 23:17 LC\n",
            "drwxr-xr-x 2 root root 4096 Jul  1 23:39 MRET\n",
            "drwxr-xr-x 2 root root 4096 Jul  1 23:52 MRET2\n",
            "drwxr-xr-x 2 root root 4096 Jul  1 22:18 PBMC_NG\n",
            "drwxr-xr-x 2 root root 4096 Jul  1 22:37 PBMC_NG_2\n",
            "drwxr-xr-x 2 root root 4096 Jul  1 22:52 PBMC_V2\n",
            "drwxr-xr-x 2 root root 4096 Jul  1 21:27 PBMC_V3\n",
            "drwxr-xr-x 2 root root 4096 Jul  1 21:43 PBMC_V3_2\n",
            "drwxr-xr-x 2 root root 4096 Jul  1 22:03 PBMC_V3_3\n",
            "total 212788\n",
            "-rw-r--r-- 1 root root 37523336 Jun 30 13:45 Bug_100.RData\n",
            "-rw-r--r-- 1 root root 17301493 Jun 30 13:42 Bug_10.RData\n",
            "-rw-r--r-- 1 root root 23443334 Jun 30 13:42 Bug_20.RData\n",
            "-rw-r--r-- 1 root root 25288320 Jun 30 13:42 Bug_25.RData\n",
            "-rw-r--r-- 1 root root 29057075 Jun 30 13:43 Bug_40.RData\n",
            "-rw-r--r-- 1 root root 11226736 Jun 30 13:41 Bug_5.RData\n",
            "-rw-r--r-- 1 root root 32629892 Jun 30 13:44 Bug_60.RData\n",
            "-rw-r--r-- 1 root root 35477251 Jun 30 13:44 Bug_80.RData\n",
            "-rw-r--r-- 1 root root     1025 Jul  1 01:33 ds_summary.txt\n",
            "-rw-r--r-- 1 root root  4167784 Jul  1 20:11 PredEvalData.RDS\n",
            "-rw-r--r-- 1 root root  1761192 Jun 30 13:45 Stats.RData\n"
          ],
          "name": "stdout"
        }
      ]
    },
    {
      "cell_type": "markdown",
      "metadata": {
        "id": "sCmhNVdYgkWH",
        "colab_type": "text"
      },
      "source": [
        "**2. Prepare the R environment**"
      ]
    },
    {
      "cell_type": "code",
      "metadata": {
        "id": "5Gt6rQkSXriM",
        "colab_type": "code",
        "colab": {
          "base_uri": "https://localhost:8080/",
          "height": 85
        },
        "outputId": "3db9a4cf-c98b-406f-d006-ac52ddbbb466"
      },
      "source": [
        "#switch to R mode\n",
        "%reload_ext rpy2.ipython\n"
      ],
      "execution_count": 18,
      "outputs": [
        {
          "output_type": "stream",
          "text": [
            "/usr/local/lib/python3.6/dist-packages/rpy2/robjects/pandas2ri.py:14: FutureWarning: pandas.core.index is deprecated and will be removed in a future version.  The public classes are available in the top-level namespace.\n",
            "  from pandas.core.index import Index as PandasIndex\n",
            "/usr/local/lib/python3.6/dist-packages/rpy2/robjects/pandas2ri.py:34: UserWarning: pandas >= 1.0 is not supported.\n",
            "  warnings.warn('pandas >= 1.0 is not supported.')\n"
          ],
          "name": "stderr"
        }
      ]
    },
    {
      "cell_type": "code",
      "metadata": {
        "id": "jJ3rQJCdgeJa",
        "colab_type": "code",
        "colab": {
          "base_uri": "https://localhost:8080/",
          "height": 1000
        },
        "outputId": "6e6cf053-31f3-4a65-e960-c564b71f11b8"
      },
      "source": [
        "#install the R packages and setup paths\n",
        "%%R\n",
        "#install.packages(\"qdapTools\")\n",
        "install.packages(\"dplyr\")\n",
        "install.packages(\"preseqR\")\n",
        "#install.packages(\"stringdist\")\n"
      ],
      "execution_count": 19,
      "outputs": [
        {
          "output_type": "stream",
          "text": [
            "R[write to console]: Installing package into ‘/usr/local/lib/R/site-library’\n",
            "(as ‘lib’ is unspecified)\n",
            "\n",
            "R[write to console]: trying URL 'https://cran.rstudio.com/src/contrib/dplyr_1.0.0.tar.gz'\n",
            "\n",
            "R[write to console]: Content type 'application/x-gzip'\n",
            "R[write to console]:  length 836651 bytes (817 KB)\n",
            "\n",
            "R[write to console]: =\n",
            "R[write to console]: =\n",
            "R[write to console]: =\n",
            "R[write to console]: =\n",
            "R[write to console]: =\n",
            "R[write to console]: =\n",
            "R[write to console]: =\n",
            "R[write to console]: =\n",
            "R[write to console]: =\n",
            "R[write to console]: =\n",
            "R[write to console]: =\n",
            "R[write to console]: =\n",
            "R[write to console]: =\n",
            "R[write to console]: =\n",
            "R[write to console]: =\n",
            "R[write to console]: =\n",
            "R[write to console]: =\n",
            "R[write to console]: =\n",
            "R[write to console]: =\n",
            "R[write to console]: =\n",
            "R[write to console]: =\n",
            "R[write to console]: =\n",
            "R[write to console]: =\n",
            "R[write to console]: =\n",
            "R[write to console]: =\n",
            "R[write to console]: =\n",
            "R[write to console]: =\n",
            "R[write to console]: =\n",
            "R[write to console]: =\n",
            "R[write to console]: =\n",
            "R[write to console]: =\n",
            "R[write to console]: =\n",
            "R[write to console]: =\n",
            "R[write to console]: =\n",
            "R[write to console]: =\n",
            "R[write to console]: =\n",
            "R[write to console]: =\n",
            "R[write to console]: =\n",
            "R[write to console]: =\n",
            "R[write to console]: =\n",
            "R[write to console]: =\n",
            "R[write to console]: =\n",
            "R[write to console]: =\n",
            "R[write to console]: =\n",
            "R[write to console]: =\n",
            "R[write to console]: =\n",
            "R[write to console]: =\n",
            "R[write to console]: =\n",
            "R[write to console]: =\n",
            "R[write to console]: =\n",
            "R[write to console]: \n",
            "\n",
            "R[write to console]: downloaded 817 KB\n",
            "\n",
            "\n",
            "R[write to console]: \n",
            "\n",
            "R[write to console]: \n",
            "R[write to console]: The downloaded source packages are in\n",
            "\t‘/tmp/RtmpYPMxgL/downloaded_packages’\n",
            "R[write to console]: \n",
            "R[write to console]: \n",
            "\n",
            "R[write to console]: Installing package into ‘/usr/local/lib/R/site-library’\n",
            "(as ‘lib’ is unspecified)\n",
            "\n",
            "R[write to console]: also installing the dependency ‘polynom’\n",
            "\n",
            "\n",
            "R[write to console]: trying URL 'https://cran.rstudio.com/src/contrib/polynom_1.4-0.tar.gz'\n",
            "\n",
            "R[write to console]: Content type 'application/x-gzip'\n",
            "R[write to console]:  length 243462 bytes (237 KB)\n",
            "\n",
            "R[write to console]: =\n",
            "R[write to console]: =\n",
            "R[write to console]: =\n",
            "R[write to console]: =\n",
            "R[write to console]: =\n",
            "R[write to console]: =\n",
            "R[write to console]: =\n",
            "R[write to console]: =\n",
            "R[write to console]: =\n",
            "R[write to console]: =\n",
            "R[write to console]: =\n",
            "R[write to console]: =\n",
            "R[write to console]: =\n",
            "R[write to console]: =\n",
            "R[write to console]: =\n",
            "R[write to console]: =\n",
            "R[write to console]: =\n",
            "R[write to console]: =\n",
            "R[write to console]: =\n",
            "R[write to console]: =\n",
            "R[write to console]: =\n",
            "R[write to console]: =\n",
            "R[write to console]: =\n",
            "R[write to console]: =\n",
            "R[write to console]: =\n",
            "R[write to console]: =\n",
            "R[write to console]: =\n",
            "R[write to console]: =\n",
            "R[write to console]: =\n",
            "R[write to console]: =\n",
            "R[write to console]: =\n",
            "R[write to console]: =\n",
            "R[write to console]: =\n",
            "R[write to console]: =\n",
            "R[write to console]: =\n",
            "R[write to console]: =\n",
            "R[write to console]: =\n",
            "R[write to console]: =\n",
            "R[write to console]: =\n",
            "R[write to console]: =\n",
            "R[write to console]: =\n",
            "R[write to console]: =\n",
            "R[write to console]: =\n",
            "R[write to console]: =\n",
            "R[write to console]: =\n",
            "R[write to console]: =\n",
            "R[write to console]: =\n",
            "R[write to console]: =\n",
            "R[write to console]: =\n",
            "R[write to console]: =\n",
            "R[write to console]: \n",
            "\n",
            "R[write to console]: downloaded 237 KB\n",
            "\n",
            "\n",
            "R[write to console]: trying URL 'https://cran.rstudio.com/src/contrib/preseqR_4.0.0.tar.gz'\n",
            "\n",
            "R[write to console]: Content type 'application/x-gzip'\n",
            "R[write to console]:  length 84783 bytes (82 KB)\n",
            "\n",
            "R[write to console]: =\n",
            "R[write to console]: =\n",
            "R[write to console]: =\n",
            "R[write to console]: =\n",
            "R[write to console]: =\n",
            "R[write to console]: =\n",
            "R[write to console]: =\n",
            "R[write to console]: =\n",
            "R[write to console]: =\n",
            "R[write to console]: =\n",
            "R[write to console]: =\n",
            "R[write to console]: =\n",
            "R[write to console]: =\n",
            "R[write to console]: =\n",
            "R[write to console]: =\n",
            "R[write to console]: =\n",
            "R[write to console]: =\n",
            "R[write to console]: =\n",
            "R[write to console]: =\n",
            "R[write to console]: =\n",
            "R[write to console]: =\n",
            "R[write to console]: =\n",
            "R[write to console]: =\n",
            "R[write to console]: =\n",
            "R[write to console]: =\n",
            "R[write to console]: =\n",
            "R[write to console]: =\n",
            "R[write to console]: =\n",
            "R[write to console]: =\n",
            "R[write to console]: =\n",
            "R[write to console]: =\n",
            "R[write to console]: =\n",
            "R[write to console]: =\n",
            "R[write to console]: =\n",
            "R[write to console]: =\n",
            "R[write to console]: =\n",
            "R[write to console]: =\n",
            "R[write to console]: =\n",
            "R[write to console]: =\n",
            "R[write to console]: =\n",
            "R[write to console]: =\n",
            "R[write to console]: =\n",
            "R[write to console]: =\n",
            "R[write to console]: =\n",
            "R[write to console]: =\n",
            "R[write to console]: =\n",
            "R[write to console]: =\n",
            "R[write to console]: =\n",
            "R[write to console]: =\n",
            "R[write to console]: =\n",
            "R[write to console]: \n",
            "\n",
            "R[write to console]: downloaded 82 KB\n",
            "\n",
            "\n",
            "R[write to console]: \n",
            "\n",
            "R[write to console]: \n",
            "R[write to console]: The downloaded source packages are in\n",
            "\t‘/tmp/RtmpYPMxgL/downloaded_packages’\n",
            "R[write to console]: \n",
            "R[write to console]: \n",
            "\n"
          ],
          "name": "stderr"
        }
      ]
    },
    {
      "cell_type": "markdown",
      "metadata": {
        "id": "x56fjfCSicrp",
        "colab_type": "text"
      },
      "source": [
        "**3. Define a general function to precalculate data for a dataset**\n",
        "\n",
        "This function calculates all prediction data needed for the figures. For the A figures, all UMIs from all genes are joined into a single pool, and prediction is done from there. For the other figures (B-F), the predictions are done per gene. We predict using four methods:\n",
        "\n",
        "1. Preseq DS (Rational functions approximation), trunkating CU histograms at 2\n",
        "2. Preseq DS, trunkating CU histograms at 20\n",
        "3. Zero-trunkated negative binomial (ZTNB)\n",
        "4. \"Best practice\", which selects Preseq DS (here with histograms trunkated at 2) if the number of copies per molecule CV > 1, otherwise ZTNB."
      ]
    },
    {
      "cell_type": "code",
      "metadata": {
        "id": "sSlWuq94lvCO",
        "colab_type": "code",
        "colab": {}
      },
      "source": [
        "#create output directory\n",
        "!mkdir figureData"
      ],
      "execution_count": null,
      "outputs": []
    },
    {
      "cell_type": "code",
      "metadata": {
        "id": "V37XLBAO68oR",
        "colab_type": "code",
        "colab": {}
      },
      "source": [
        "#First set some path variables\n",
        "%%R\n",
        "source(\"GRNP_2020/RCode/pathsGoogleColab.R\")\n"
      ],
      "execution_count": null,
      "outputs": []
    },
    {
      "cell_type": "code",
      "metadata": {
        "id": "R6kuhOmzZL_X",
        "colab_type": "code",
        "colab": {}
      },
      "source": [
        "#Import the code for prediction (available in other notebooks)\n",
        "%%R\n",
        "source(paste0(sourcePath,\"ButterflyHelpers.R\"))\n",
        "source(paste0(sourcePath,\"preseqHelpers.R\"))\n",
        "\n",
        "\n",
        "\n"
      ],
      "execution_count": null,
      "outputs": []
    },
    {
      "cell_type": "code",
      "metadata": {
        "id": "tkQeT362BM7V",
        "colab_type": "code",
        "colab": {}
      },
      "source": [
        "#Define a function that precalculates the figure data for a dataset\n",
        "%%R\n",
        "GenAlgEvaluationData <- function(dsid) {\n",
        "  print(paste0(\"Processing \",dsid, \":\"))\n",
        "  loadStats(dsid)\n",
        "  stats = getStats(dsid)\n",
        "  \n",
        "  \n",
        "  ##################################\n",
        "  #first, prediction of all UMIs\n",
        "  ##################################\n",
        "  \n",
        "  #Get UMI counts at all different ds stages\n",
        "  ###########################################\n",
        "  \n",
        "  dss = c(\"5\",\"10\",\"20\",\"40\",\"60\",\"80\",\"100\")\n",
        "  \n",
        "  #generate the columns to extract from stats\n",
        "  colList = dss #allocation of right size\n",
        "  for (i in 1:length(dss)) {\n",
        "    colList[i] = paste0(\"UMIs_\", dsid, \"_d_\", dss[i])\n",
        "  }\n",
        "  extrFromStats = stats[,which(colnames(stats) %in% colList)]\n",
        "  dsCounts = as.numeric(colSums(extrFromStats))\n",
        "\n",
        "  \n",
        "  #get histogram from 0.05:\n",
        "  loadBug(dsid, 0.05)\n",
        "  h = totalCPUHistogram(getBug(dsid, 0.05))\n",
        "  rmBug(dsid, 0.05)\n",
        "\n",
        "  x = c(0.05,0.1,0.2,0.4,0.6,0.8,1)\n",
        "  t = c(1,2,4,8,12,16,20)\n",
        "\n",
        "\n",
        "  #predict with Good-Toulmin\n",
        "  predGT005 = rep(0,length(t))\n",
        "  predGT005[1] = dsCounts[1];\n",
        "  for (i in 2:length(t)) {\n",
        "    predGT005[i] = goodToulmin(h,t[i])\n",
        "  }\n",
        "  \n",
        "  #predict with Preseq DS, mt=20\n",
        "  predPSDS005_20 = rep(0,length(t))\n",
        "  predPSDS005_20[1] = dsCounts[1];\n",
        "  for (i in 2:length(t)) {\n",
        "    predPSDS005_20[i] = predPreSeqDS(h,t[i],20)\n",
        "  }\n",
        "  \n",
        "  #predict with Preseq DS, mt=2\n",
        "  predPSDS005_2 = rep(0,length(t))\n",
        "  predPSDS005_2[1] = dsCounts[1];\n",
        "  for (i in 2:length(t)) {\n",
        "    predPSDS005_2[i] = predPreSeqDS(h,t[i],2)\n",
        "  }\n",
        "  \n",
        "  #predict with Preseq ZTNB\n",
        "  predPSZTNB005 = rep(0,length(t))\n",
        "  predPSZTNB005[1] = dsCounts[1];\n",
        "  for (i in 2:length(t)) {\n",
        "    predPSZTNB005[i] = predPreSeqZTNB(h,t[i]) #just ignore the warnings, deprecated...\n",
        "  }\n",
        "  \n",
        "  ##################################\n",
        "  #now, prediction per gene for different methods\n",
        "  ##################################\n",
        "  \n",
        "  loadBug(dsid, 0.1)\n",
        "  ds10Bug = getBug(dsid, 0.1)\n",
        "  rmBug(dsid, 0.1)\n",
        "\n",
        "  collapsed10 = aggregate(count~gene, ds10Bug, FUN=c) #if you get an error here, you probably defined a variable called \"c\"...\n",
        "  totUMIs10 = sapply(collapsed10$count, FUN=length)\n",
        "  rm(ds10Bug)\n",
        "  \n",
        "  loadBug(dsid, 1)\n",
        "  ds100Bug = getBug(dsid, 1)\n",
        "  rmBug(dsid, 1)\n",
        "  \n",
        "  collapsedFull = aggregate(count~gene, ds100Bug, FUN=c) #if you get an error here, you probably defined a variable called \"c\"...\n",
        "  rm(ds100Bug)\n",
        "  merged2 = inner_join(collapsed10, collapsedFull, by=\"gene\")\n",
        "  rm(collapsed10, collapsedFull)\n",
        "  colnames(merged2) = c(\"gene\", \"DS10\", \"Full\")\n",
        "  \n",
        "  totUMIsFull = sapply(merged2$Full, FUN=length)\n",
        "  #sort the genes on number of UMIs\n",
        "  srt = sort(totUMIs10, index.return=T)\n",
        "  umis = srt$x\n",
        "  merged2srt = merged2[srt$ix,]\n",
        "  \n",
        "  #now predict using both ztnb and ds:\n",
        "  numgenes = dim(merged2srt)[1]\n",
        "  predds_20 = rep(0,numgenes)\n",
        "  predds_2 = rep(0,numgenes)\n",
        "  predztnb = rep(0,numgenes)\n",
        "  predbp = rep(0,numgenes)\n",
        "  predscaled = rep(0,numgenes)\n",
        "  fracOnes = rep(0,numgenes)\n",
        "  fullUMIs = rep(0,numgenes)\n",
        "  \n",
        "  globScale = sum(totUMIsFull)/sum(totUMIs10)\n",
        "\n",
        "  #All quick ones.\n",
        "  print(paste0(\"DS etc.:\", numgenes))\n",
        "  for (i in 1:numgenes) {\n",
        "    if (i %% 1000 == 0) {\n",
        "      print(i)\n",
        "    }\n",
        "    h = hist(merged2srt$DS10[[i]], breaks=seq(0.5, max(merged2srt$DS10[[i]])+0.5, by=1), plot = F)\n",
        "    predds_20[[i]] = predPreSeqDS(h, 10, 20)\n",
        "    predds_2[[i]] = predPreSeqDS(h, 10, 2)\n",
        "    predscaled[[i]] = length(merged2srt$DS10[[i]])*globScale #this resembles CPM\n",
        "    \n",
        "    fullUMIs[[i]] = length(merged2srt$Full[[i]])\n",
        "    \n",
        "    fracOnes[[i]] = h$density[1]\n",
        "  }\n",
        "  \n",
        "  #ztnb\n",
        "  print(paste0(\"ZTNB:\", numgenes))\n",
        "  for (i in 1:numgenes) {\n",
        "    if (i %% 1000 == 0) {\n",
        "      print(i)\n",
        "    }\n",
        "    h = hist(merged2srt$DS10[[i]], breaks=seq(0.5, max(merged2srt$DS10[[i]])+0.5, by=1), plot = F)\n",
        "    predztnb[[i]] = predPreSeqZTNB(h, 10)\n",
        "  }\n",
        "  \n",
        "  #best practice\n",
        "  print(paste0(\"Best practice:\", numgenes))\n",
        "  for (i in 1:numgenes) {\n",
        "    if (i %% 1000 == 0) {\n",
        "      print(i)\n",
        "    }\n",
        "    h = hist(merged2srt$DS10[[i]], breaks=seq(0.5, max(merged2srt$DS10[[i]])+0.5, by=1), plot = F)\n",
        "    predbp[[i]] = predPreSeq(h, 10, mt=2)\n",
        "  }\n",
        "  \n",
        "  \n",
        "  toSave = list(x, dsCounts, predGT005, predPSDS005_2, predPSDS005_20, predPSZTNB005, \n",
        "                predds_20, predds_2, predztnb, predbp, predscaled, fracOnes, fullUMIs, umis,\n",
        "                merged2srt)\n",
        "  \n",
        "  \n",
        "  filename = paste0(figure_data_path, dsid, \"/PredEvalData.RDS\")\n",
        "  saveRDS(toSave, filename)\n",
        "  \n",
        "  \n",
        "}\n"
      ],
      "execution_count": null,
      "outputs": []
    },
    {
      "cell_type": "markdown",
      "metadata": {
        "id": "YsqeFNdtnLsc",
        "colab_type": "text"
      },
      "source": [
        "**4. Call the precalculation function for all datasets**\n"
      ]
    },
    {
      "cell_type": "code",
      "metadata": {
        "id": "CffgQFeiW2tc",
        "colab_type": "code",
        "colab": {}
      },
      "source": [
        "%%R\n",
        "GenAlgEvaluationData(\"EVAL\")\n",
        "GenAlgEvaluationData(\"EVALPBMC\")\n",
        "GenAlgEvaluationData(\"EVALPBMC_DS\")\n",
        "GenAlgEvaluationData(\"EVALPBMC_SW\")\n",
        "GenAlgEvaluationData(\"PBMC_V3\")\n",
        "GenAlgEvaluationData(\"PBMC_V3_2\")\n",
        "GenAlgEvaluationData(\"PBMC_V3_3\")\n",
        "GenAlgEvaluationData(\"PBMC_NG\")\n",
        "GenAlgEvaluationData(\"PBMC_NG_2\")\n",
        "GenAlgEvaluationData(\"PBMC_V2\")\n",
        "GenAlgEvaluationData(\"LC\")\n",
        "GenAlgEvaluationData(\"MRET\")\n",
        "GenAlgEvaluationData(\"MRET2\")\n"
      ],
      "execution_count": null,
      "outputs": []
    },
    {
      "cell_type": "code",
      "metadata": {
        "id": "Cb5DifYYcB6g",
        "colab_type": "code",
        "colab": {}
      },
      "source": [
        "!cd figureData && ls -l && cd EVAL && ls -l"
      ],
      "execution_count": null,
      "outputs": []
    }
  ]
}